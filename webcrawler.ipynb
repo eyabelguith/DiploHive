{
 "cells": [
  {
   "cell_type": "code",
   "execution_count": 1,
   "id": "ef9e2362",
   "metadata": {},
   "outputs": [],
   "source": [
    "import requests\n",
    "from bs4 import BeautifulSoup"
   ]
  },
  {
   "cell_type": "code",
   "execution_count": 2,
   "id": "c6e57ff9",
   "metadata": {},
   "outputs": [
    {
     "name": "stdout",
     "output_type": "stream",
     "text": [
      "Requirement already satisfied: pandas in c:\\users\\eyawo\\anaconda3\\lib\\site-packages (1.5.3)Note: you may need to restart the kernel to use updated packages.\n",
      "\n",
      "Requirement already satisfied: pytz>=2020.1 in c:\\users\\eyawo\\anaconda3\\lib\\site-packages (from pandas) (2022.7)\n",
      "Requirement already satisfied: numpy>=1.21.0 in c:\\users\\eyawo\\anaconda3\\lib\\site-packages (from pandas) (1.23.5)\n",
      "Requirement already satisfied: python-dateutil>=2.8.1 in c:\\users\\eyawo\\anaconda3\\lib\\site-packages (from pandas) (2.8.2)\n",
      "Requirement already satisfied: six>=1.5 in c:\\users\\eyawo\\anaconda3\\lib\\site-packages (from python-dateutil>=2.8.1->pandas) (1.16.0)\n"
     ]
    }
   ],
   "source": [
    "pip install pandas\n"
   ]
  },
  {
   "cell_type": "code",
   "execution_count": 19,
   "id": "6e4c47a3",
   "metadata": {},
   "outputs": [
    {
     "ename": "AttributeError",
     "evalue": "'NoneType' object has no attribute 'split'",
     "output_type": "error",
     "traceback": [
      "\u001b[1;31m---------------------------------------------------------------------------\u001b[0m",
      "\u001b[1;31mAttributeError\u001b[0m                            Traceback (most recent call last)",
      "Cell \u001b[1;32mIn[19], line 58\u001b[0m\n\u001b[0;32m     55\u001b[0m     df\u001b[38;5;241m.\u001b[39mto_csv(\u001b[38;5;124m\"\u001b[39m\u001b[38;5;124msorted_crawled_links.csv\u001b[39m\u001b[38;5;124m\"\u001b[39m, index\u001b[38;5;241m=\u001b[39m\u001b[38;5;28;01mFalse\u001b[39;00m)\n\u001b[0;32m     57\u001b[0m \u001b[38;5;28;01mif\u001b[39;00m \u001b[38;5;18m__name__\u001b[39m \u001b[38;5;241m==\u001b[39m \u001b[38;5;124m\"\u001b[39m\u001b[38;5;124m__main__\u001b[39m\u001b[38;5;124m\"\u001b[39m:\n\u001b[1;32m---> 58\u001b[0m     \u001b[43mmain\u001b[49m\u001b[43m(\u001b[49m\u001b[43m)\u001b[49m\n",
      "Cell \u001b[1;32mIn[19], line 51\u001b[0m, in \u001b[0;36mmain\u001b[1;34m()\u001b[0m\n\u001b[0;32m     48\u001b[0m df \u001b[38;5;241m=\u001b[39m pd\u001b[38;5;241m.\u001b[39mDataFrame({\u001b[38;5;124m\"\u001b[39m\u001b[38;5;124mLinks\u001b[39m\u001b[38;5;124m\"\u001b[39m: all_links})\n\u001b[0;32m     50\u001b[0m \u001b[38;5;66;03m# Extract publication dates and sort by date\u001b[39;00m\n\u001b[1;32m---> 51\u001b[0m df[\u001b[38;5;124m\"\u001b[39m\u001b[38;5;124mPublicationDate\u001b[39m\u001b[38;5;124m\"\u001b[39m] \u001b[38;5;241m=\u001b[39m \u001b[43mdf\u001b[49m\u001b[43m[\u001b[49m\u001b[38;5;124;43m\"\u001b[39;49m\u001b[38;5;124;43mLinks\u001b[39;49m\u001b[38;5;124;43m\"\u001b[39;49m\u001b[43m]\u001b[49m\u001b[38;5;241;43m.\u001b[39;49m\u001b[43mapply\u001b[49m\u001b[43m(\u001b[49m\u001b[43mextract_publication_date\u001b[49m\u001b[43m)\u001b[49m\n\u001b[0;32m     52\u001b[0m df \u001b[38;5;241m=\u001b[39m df\u001b[38;5;241m.\u001b[39mdropna(subset\u001b[38;5;241m=\u001b[39m[\u001b[38;5;124m\"\u001b[39m\u001b[38;5;124mPublicationDate\u001b[39m\u001b[38;5;124m\"\u001b[39m])  \u001b[38;5;66;03m# Remove rows with no date\u001b[39;00m\n\u001b[0;32m     53\u001b[0m df \u001b[38;5;241m=\u001b[39m df\u001b[38;5;241m.\u001b[39msort_values(by\u001b[38;5;241m=\u001b[39m\u001b[38;5;124m\"\u001b[39m\u001b[38;5;124mPublicationDate\u001b[39m\u001b[38;5;124m\"\u001b[39m)\n",
      "File \u001b[1;32m~\\anaconda3\\lib\\site-packages\\pandas\\core\\series.py:4771\u001b[0m, in \u001b[0;36mSeries.apply\u001b[1;34m(self, func, convert_dtype, args, **kwargs)\u001b[0m\n\u001b[0;32m   4661\u001b[0m \u001b[38;5;28;01mdef\u001b[39;00m \u001b[38;5;21mapply\u001b[39m(\n\u001b[0;32m   4662\u001b[0m     \u001b[38;5;28mself\u001b[39m,\n\u001b[0;32m   4663\u001b[0m     func: AggFuncType,\n\u001b[1;32m   (...)\u001b[0m\n\u001b[0;32m   4666\u001b[0m     \u001b[38;5;241m*\u001b[39m\u001b[38;5;241m*\u001b[39mkwargs,\n\u001b[0;32m   4667\u001b[0m ) \u001b[38;5;241m-\u001b[39m\u001b[38;5;241m>\u001b[39m DataFrame \u001b[38;5;241m|\u001b[39m Series:\n\u001b[0;32m   4668\u001b[0m     \u001b[38;5;124;03m\"\"\"\u001b[39;00m\n\u001b[0;32m   4669\u001b[0m \u001b[38;5;124;03m    Invoke function on values of Series.\u001b[39;00m\n\u001b[0;32m   4670\u001b[0m \n\u001b[1;32m   (...)\u001b[0m\n\u001b[0;32m   4769\u001b[0m \u001b[38;5;124;03m    dtype: float64\u001b[39;00m\n\u001b[0;32m   4770\u001b[0m \u001b[38;5;124;03m    \"\"\"\u001b[39;00m\n\u001b[1;32m-> 4771\u001b[0m     \u001b[38;5;28;01mreturn\u001b[39;00m \u001b[43mSeriesApply\u001b[49m\u001b[43m(\u001b[49m\u001b[38;5;28;43mself\u001b[39;49m\u001b[43m,\u001b[49m\u001b[43m \u001b[49m\u001b[43mfunc\u001b[49m\u001b[43m,\u001b[49m\u001b[43m \u001b[49m\u001b[43mconvert_dtype\u001b[49m\u001b[43m,\u001b[49m\u001b[43m \u001b[49m\u001b[43margs\u001b[49m\u001b[43m,\u001b[49m\u001b[43m \u001b[49m\u001b[43mkwargs\u001b[49m\u001b[43m)\u001b[49m\u001b[38;5;241;43m.\u001b[39;49m\u001b[43mapply\u001b[49m\u001b[43m(\u001b[49m\u001b[43m)\u001b[49m\n",
      "File \u001b[1;32m~\\anaconda3\\lib\\site-packages\\pandas\\core\\apply.py:1123\u001b[0m, in \u001b[0;36mSeriesApply.apply\u001b[1;34m(self)\u001b[0m\n\u001b[0;32m   1120\u001b[0m     \u001b[38;5;28;01mreturn\u001b[39;00m \u001b[38;5;28mself\u001b[39m\u001b[38;5;241m.\u001b[39mapply_str()\n\u001b[0;32m   1122\u001b[0m \u001b[38;5;66;03m# self.f is Callable\u001b[39;00m\n\u001b[1;32m-> 1123\u001b[0m \u001b[38;5;28;01mreturn\u001b[39;00m \u001b[38;5;28;43mself\u001b[39;49m\u001b[38;5;241;43m.\u001b[39;49m\u001b[43mapply_standard\u001b[49m\u001b[43m(\u001b[49m\u001b[43m)\u001b[49m\n",
      "File \u001b[1;32m~\\anaconda3\\lib\\site-packages\\pandas\\core\\apply.py:1174\u001b[0m, in \u001b[0;36mSeriesApply.apply_standard\u001b[1;34m(self)\u001b[0m\n\u001b[0;32m   1172\u001b[0m     \u001b[38;5;28;01melse\u001b[39;00m:\n\u001b[0;32m   1173\u001b[0m         values \u001b[38;5;241m=\u001b[39m obj\u001b[38;5;241m.\u001b[39mastype(\u001b[38;5;28mobject\u001b[39m)\u001b[38;5;241m.\u001b[39m_values\n\u001b[1;32m-> 1174\u001b[0m         mapped \u001b[38;5;241m=\u001b[39m \u001b[43mlib\u001b[49m\u001b[38;5;241;43m.\u001b[39;49m\u001b[43mmap_infer\u001b[49m\u001b[43m(\u001b[49m\n\u001b[0;32m   1175\u001b[0m \u001b[43m            \u001b[49m\u001b[43mvalues\u001b[49m\u001b[43m,\u001b[49m\n\u001b[0;32m   1176\u001b[0m \u001b[43m            \u001b[49m\u001b[43mf\u001b[49m\u001b[43m,\u001b[49m\n\u001b[0;32m   1177\u001b[0m \u001b[43m            \u001b[49m\u001b[43mconvert\u001b[49m\u001b[38;5;241;43m=\u001b[39;49m\u001b[38;5;28;43mself\u001b[39;49m\u001b[38;5;241;43m.\u001b[39;49m\u001b[43mconvert_dtype\u001b[49m\u001b[43m,\u001b[49m\n\u001b[0;32m   1178\u001b[0m \u001b[43m        \u001b[49m\u001b[43m)\u001b[49m\n\u001b[0;32m   1180\u001b[0m \u001b[38;5;28;01mif\u001b[39;00m \u001b[38;5;28mlen\u001b[39m(mapped) \u001b[38;5;129;01mand\u001b[39;00m \u001b[38;5;28misinstance\u001b[39m(mapped[\u001b[38;5;241m0\u001b[39m], ABCSeries):\n\u001b[0;32m   1181\u001b[0m     \u001b[38;5;66;03m# GH#43986 Need to do list(mapped) in order to get treated as nested\u001b[39;00m\n\u001b[0;32m   1182\u001b[0m     \u001b[38;5;66;03m#  See also GH#25959 regarding EA support\u001b[39;00m\n\u001b[0;32m   1183\u001b[0m     \u001b[38;5;28;01mreturn\u001b[39;00m obj\u001b[38;5;241m.\u001b[39m_constructor_expanddim(\u001b[38;5;28mlist\u001b[39m(mapped), index\u001b[38;5;241m=\u001b[39mobj\u001b[38;5;241m.\u001b[39mindex)\n",
      "File \u001b[1;32m~\\anaconda3\\lib\\site-packages\\pandas\\_libs\\lib.pyx:2924\u001b[0m, in \u001b[0;36mpandas._libs.lib.map_infer\u001b[1;34m()\u001b[0m\n",
      "Cell \u001b[1;32mIn[19], line 16\u001b[0m, in \u001b[0;36mextract_publication_date\u001b[1;34m(url)\u001b[0m\n\u001b[0;32m     14\u001b[0m \u001b[38;5;28;01mdef\u001b[39;00m \u001b[38;5;21mextract_publication_date\u001b[39m(url):\n\u001b[0;32m     15\u001b[0m     \u001b[38;5;66;03m# Extract the publication date from the URL (assuming it's in yyyy-mm-dd format)\u001b[39;00m\n\u001b[1;32m---> 16\u001b[0m     parts \u001b[38;5;241m=\u001b[39m \u001b[43murl\u001b[49m\u001b[38;5;241;43m.\u001b[39;49m\u001b[43msplit\u001b[49m(\u001b[38;5;124m\"\u001b[39m\u001b[38;5;124m/\u001b[39m\u001b[38;5;124m\"\u001b[39m)\n\u001b[0;32m     17\u001b[0m     \u001b[38;5;28;01mfor\u001b[39;00m part \u001b[38;5;129;01min\u001b[39;00m parts:\n\u001b[0;32m     18\u001b[0m         \u001b[38;5;28;01mif\u001b[39;00m \u001b[38;5;28mlen\u001b[39m(part) \u001b[38;5;241m==\u001b[39m \u001b[38;5;241m10\u001b[39m \u001b[38;5;129;01mand\u001b[39;00m part\u001b[38;5;241m.\u001b[39mcount(\u001b[38;5;124m\"\u001b[39m\u001b[38;5;124m-\u001b[39m\u001b[38;5;124m\"\u001b[39m) \u001b[38;5;241m==\u001b[39m \u001b[38;5;241m2\u001b[39m:\n",
      "\u001b[1;31mAttributeError\u001b[0m: 'NoneType' object has no attribute 'split'"
     ]
    }
   ],
   "source": [
    "import requests\n",
    "from bs4 import BeautifulSoup\n",
    "import pandas as pd\n",
    "\n",
    "# List of initial URLs (seeds) to start crawling from\n",
    "initial_urls = [\n",
    "    \"https://foreignpolicy.com/\",\n",
    "    \"https://www.worldpoliticsreview.com/\",\n",
    "    \"https://www.cnbc.com/politics/\",\n",
    "    \"https://www.politico.com/\",\n",
    "    \"https://edition.cnn.com/politics\",\n",
    "    \"https://www.politico.eu/\"\n",
    "]\n",
    "def extract_publication_date(url):\n",
    "    # Extract the publication date from the URL (assuming it's in yyyy-mm-dd format)\n",
    "    parts = url.split(\"/\")\n",
    "    for part in parts:\n",
    "        if len(part) == 10 and part.count(\"-\") == 2:\n",
    "            return part\n",
    "    return \"0000-00-00\"  # Return a default date value\n",
    "\n",
    "# Rest of your code remains the same\n",
    "\n",
    "# Function to crawl a URL\n",
    "def crawl(url):\n",
    "    try:\n",
    "        response = requests.get(url)\n",
    "        if response.status_code == 200:\n",
    "            soup = BeautifulSoup(response.content, \"html.parser\")\n",
    "            # Now you can use BeautifulSoup to extract information from the page\n",
    "            # For example, extracting links:\n",
    "            links = [link.get(\"href\") for link in soup.find_all(\"a\")]\n",
    "            return links\n",
    "        else:\n",
    "            print(f\"Failed to fetch {url}\")\n",
    "            return []\n",
    "    except Exception as e:\n",
    "        print(f\"An error occurred while crawling {url}: {e}\")\n",
    "        return []\n",
    "\n",
    "def main():\n",
    "    all_links = []\n",
    "    for url in initial_urls:\n",
    "        links = crawl(url)\n",
    "        all_links.extend(links)\n",
    "    \n",
    "    # Create a DataFrame from the links\n",
    "    df = pd.DataFrame({\"Links\": all_links})\n",
    "    \n",
    "    # Extract publication dates and sort by date\n",
    "    df[\"PublicationDate\"] = df[\"Links\"].apply(extract_publication_date)\n",
    "    df = df.dropna(subset=[\"PublicationDate\"])  # Remove rows with no date\n",
    "    df = df.sort_values(by=\"PublicationDate\")\n",
    "    \n",
    "    df.to_csv(\"sorted_crawled_links.csv\", index=False)\n",
    "\n",
    "if __name__ == \"__main__\":\n",
    "    main()\n",
    "\n",
    "\n",
    "\n",
    "\n"
   ]
  },
  {
   "cell_type": "code",
   "execution_count": 4,
   "id": "25533df1",
   "metadata": {},
   "outputs": [
    {
     "data": {
      "text/html": [
       "<div>\n",
       "<style scoped>\n",
       "    .dataframe tbody tr th:only-of-type {\n",
       "        vertical-align: middle;\n",
       "    }\n",
       "\n",
       "    .dataframe tbody tr th {\n",
       "        vertical-align: top;\n",
       "    }\n",
       "\n",
       "    .dataframe thead th {\n",
       "        text-align: right;\n",
       "    }\n",
       "</style>\n",
       "<table border=\"1\" class=\"dataframe\">\n",
       "  <thead>\n",
       "    <tr style=\"text-align: right;\">\n",
       "      <th></th>\n",
       "      <th>Links</th>\n",
       "    </tr>\n",
       "  </thead>\n",
       "  <tbody>\n",
       "    <tr>\n",
       "      <th>0</th>\n",
       "      <td>#navigation</td>\n",
       "    </tr>\n",
       "    <tr>\n",
       "      <th>1</th>\n",
       "      <td>#search</td>\n",
       "    </tr>\n",
       "    <tr>\n",
       "      <th>2</th>\n",
       "      <td>#main</td>\n",
       "    </tr>\n",
       "    <tr>\n",
       "      <th>3</th>\n",
       "      <td>#footer</td>\n",
       "    </tr>\n",
       "    <tr>\n",
       "      <th>4</th>\n",
       "      <td>https://foreignpolicy.com/</td>\n",
       "    </tr>\n",
       "    <tr>\n",
       "      <th>...</th>\n",
       "      <td>...</td>\n",
       "    </tr>\n",
       "    <tr>\n",
       "      <th>1918</th>\n",
       "      <td>/frequently-asked-questions/</td>\n",
       "    </tr>\n",
       "    <tr>\n",
       "      <th>1919</th>\n",
       "      <td>https://www.politico.eu/registration/</td>\n",
       "    </tr>\n",
       "    <tr>\n",
       "      <th>1920</th>\n",
       "      <td>https://www.politico.eu/wp-login.php?action=lo...</td>\n",
       "    </tr>\n",
       "    <tr>\n",
       "      <th>1921</th>\n",
       "      <td>https://www.politico.eu/privacy-policy/</td>\n",
       "    </tr>\n",
       "    <tr>\n",
       "      <th>1922</th>\n",
       "      <td>#</td>\n",
       "    </tr>\n",
       "  </tbody>\n",
       "</table>\n",
       "<p>1923 rows × 1 columns</p>\n",
       "</div>"
      ],
      "text/plain": [
       "                                                  Links\n",
       "0                                           #navigation\n",
       "1                                               #search\n",
       "2                                                 #main\n",
       "3                                               #footer\n",
       "4                            https://foreignpolicy.com/\n",
       "...                                                 ...\n",
       "1918                       /frequently-asked-questions/\n",
       "1919              https://www.politico.eu/registration/\n",
       "1920  https://www.politico.eu/wp-login.php?action=lo...\n",
       "1921            https://www.politico.eu/privacy-policy/\n",
       "1922                                                  #\n",
       "\n",
       "[1923 rows x 1 columns]"
      ]
     },
     "execution_count": 4,
     "metadata": {},
     "output_type": "execute_result"
    }
   ],
   "source": [
    "import pandas as pd\n",
    "df = pd.read_csv('crawled_links.csv')\n",
    "df"
   ]
  },
  {
   "cell_type": "code",
   "execution_count": 11,
   "id": "dbd3d264",
   "metadata": {},
   "outputs": [
    {
     "data": {
      "text/html": [
       "<a href=\"#navigation\" target=\"_blank\">#navigation</a>"
      ],
      "text/plain": [
       "<IPython.core.display.HTML object>"
      ]
     },
     "metadata": {},
     "output_type": "display_data"
    },
    {
     "data": {
      "text/html": [
       "<a href=\"#search\" target=\"_blank\">#search</a>"
      ],
      "text/plain": [
       "<IPython.core.display.HTML object>"
      ]
     },
     "metadata": {},
     "output_type": "display_data"
    },
    {
     "data": {
      "text/html": [
       "<a href=\"#main\" target=\"_blank\">#main</a>"
      ],
      "text/plain": [
       "<IPython.core.display.HTML object>"
      ]
     },
     "metadata": {},
     "output_type": "display_data"
    },
    {
     "data": {
      "text/html": [
       "<a href=\"#footer\" target=\"_blank\">#footer</a>"
      ],
      "text/plain": [
       "<IPython.core.display.HTML object>"
      ]
     },
     "metadata": {},
     "output_type": "display_data"
    },
    {
     "data": {
      "text/html": [
       "<a href=\"https://foreignpolicy.com/\" target=\"_blank\">https://foreignpolicy.com/</a>"
      ],
      "text/plain": [
       "<IPython.core.display.HTML object>"
      ]
     },
     "metadata": {},
     "output_type": "display_data"
    },
    {
     "data": {
      "text/html": [
       "<a href=\"#\" target=\"_blank\">#</a>"
      ],
      "text/plain": [
       "<IPython.core.display.HTML object>"
      ]
     },
     "metadata": {},
     "output_type": "display_data"
    },
    {
     "data": {
      "text/html": [
       "<a href=\"/gift-subscriptions/?tpcc=navbar_gift\" target=\"_blank\">/gift-subscriptions/?tpcc=navbar_gift</a>"
      ],
      "text/plain": [
       "<IPython.core.display.HTML object>"
      ]
     },
     "metadata": {},
     "output_type": "display_data"
    },
    {
     "data": {
      "text/html": [
       "<a href=\"/subscribe\" target=\"_blank\">/subscribe</a>"
      ],
      "text/plain": [
       "<IPython.core.display.HTML object>"
      ]
     },
     "metadata": {},
     "output_type": "display_data"
    },
    {
     "data": {
      "text/html": [
       "<a href=\"/insider\" target=\"_blank\">/insider</a>"
      ],
      "text/plain": [
       "<IPython.core.display.HTML object>"
      ]
     },
     "metadata": {},
     "output_type": "display_data"
    },
    {
     "data": {
      "text/html": [
       "<a href=\"#\" target=\"_blank\">#</a>"
      ],
      "text/plain": [
       "<IPython.core.display.HTML object>"
      ]
     },
     "metadata": {},
     "output_type": "display_data"
    },
    {
     "data": {
      "text/html": [
       "<a href=\"/category/latest/\" target=\"_blank\">/category/latest/</a>"
      ],
      "text/plain": [
       "<IPython.core.display.HTML object>"
      ]
     },
     "metadata": {},
     "output_type": "display_data"
    },
    {
     "data": {
      "text/html": [
       "<a href=\"/channel/news/\" target=\"_blank\">/channel/news/</a>"
      ],
      "text/plain": [
       "<IPython.core.display.HTML object>"
      ]
     },
     "metadata": {},
     "output_type": "display_data"
    },
    {
     "data": {
      "text/html": [
       "<a href=\"/channel/analysis/\" target=\"_blank\">/channel/analysis/</a>"
      ],
      "text/plain": [
       "<IPython.core.display.HTML object>"
      ]
     },
     "metadata": {},
     "output_type": "display_data"
    },
    {
     "data": {
      "text/html": [
       "<a href=\"/podcasts/\" target=\"_blank\">/podcasts/</a>"
      ],
      "text/plain": [
       "<IPython.core.display.HTML object>"
      ]
     },
     "metadata": {},
     "output_type": "display_data"
    },
    {
     "data": {
      "text/html": [
       "<a href=\"/the-magazine/\" target=\"_blank\">/the-magazine/</a>"
      ],
      "text/plain": [
       "<IPython.core.display.HTML object>"
      ]
     },
     "metadata": {},
     "output_type": "display_data"
    },
    {
     "data": {
      "text/html": [
       "<a href=\"/newsletters/\" target=\"_blank\">/newsletters/</a>"
      ],
      "text/plain": [
       "<IPython.core.display.HTML object>"
      ]
     },
     "metadata": {},
     "output_type": "display_data"
    },
    {
     "data": {
      "text/html": [
       "<a href=\"/live/\" target=\"_blank\">/live/</a>"
      ],
      "text/plain": [
       "<IPython.core.display.HTML object>"
      ]
     },
     "metadata": {},
     "output_type": "display_data"
    },
    {
     "data": {
      "text/html": [
       "<a href=\"/events/\" target=\"_blank\">/events/</a>"
      ],
      "text/plain": [
       "<IPython.core.display.HTML object>"
      ]
     },
     "metadata": {},
     "output_type": "display_data"
    },
    {
     "data": {
      "text/html": [
       "<a href=\"https://fpanalytics.foreignpolicy.com/\" target=\"_blank\">https://fpanalytics.foreignpolicy.com/</a>"
      ],
      "text/plain": [
       "<IPython.core.display.HTML object>"
      ]
     },
     "metadata": {},
     "output_type": "display_data"
    },
    {
     "data": {
      "text/html": [
       "<a href=\"https://foreignpolicy.com/2023/08/24/us-china-science-technology-agreement-research-collaboration-intellectual-property/\" target=\"_blank\">https://foreignpolicy.com/2023/08/24/us-china-science-technology-agreement-research-collaboration-intellectual-property/</a>"
      ],
      "text/plain": [
       "<IPython.core.display.HTML object>"
      ]
     },
     "metadata": {},
     "output_type": "display_data"
    },
    {
     "data": {
      "text/html": [
       "<a href=\"https://foreignpolicy.com/category/news/report/\" target=\"_blank\">https://foreignpolicy.com/category/news/report/</a>"
      ],
      "text/plain": [
       "<IPython.core.display.HTML object>"
      ]
     },
     "metadata": {},
     "output_type": "display_data"
    },
    {
     "data": {
      "text/html": [
       "<a href=\"https://foreignpolicy.com/author/christina-lu/\" target=\"_blank\">https://foreignpolicy.com/author/christina-lu/</a>"
      ],
      "text/plain": [
       "<IPython.core.display.HTML object>"
      ]
     },
     "metadata": {},
     "output_type": "display_data"
    },
    {
     "data": {
      "text/html": [
       "<a href=\"https://foreignpolicy.com/author/clara-gutman-argemi/\" target=\"_blank\">https://foreignpolicy.com/author/clara-gutman-argemi/</a>"
      ],
      "text/plain": [
       "<IPython.core.display.HTML object>"
      ]
     },
     "metadata": {},
     "output_type": "display_data"
    },
    {
     "data": {
      "text/html": [
       "<a href=\"https://foreignpolicy.com/2023/08/24/prigozhin-dead-plane-crash-russia-wagner-group-putin-violence/\" target=\"_blank\">https://foreignpolicy.com/2023/08/24/prigozhin-dead-plane-crash-russia-wagner-group-putin-violence/</a>"
      ],
      "text/plain": [
       "<IPython.core.display.HTML object>"
      ]
     },
     "metadata": {},
     "output_type": "display_data"
    },
    {
     "data": {
      "text/html": [
       "<a href=\"https://foreignpolicy.com/channel/analysis/\" target=\"_blank\">https://foreignpolicy.com/channel/analysis/</a>"
      ],
      "text/plain": [
       "<IPython.core.display.HTML object>"
      ]
     },
     "metadata": {},
     "output_type": "display_data"
    },
    {
     "data": {
      "text/html": [
       "<a href=\"https://foreignpolicy.com/author/clara-broekaert/\" target=\"_blank\">https://foreignpolicy.com/author/clara-broekaert/</a>"
      ],
      "text/plain": [
       "<IPython.core.display.HTML object>"
      ]
     },
     "metadata": {},
     "output_type": "display_data"
    },
    {
     "data": {
      "text/html": [
       "<a href=\"https://foreignpolicy.com/author/colin-p-clarke/\" target=\"_blank\">https://foreignpolicy.com/author/colin-p-clarke/</a>"
      ],
      "text/plain": [
       "<IPython.core.display.HTML object>"
      ]
     },
     "metadata": {},
     "output_type": "display_data"
    },
    {
     "data": {
      "text/html": [
       "<a href=\"https://foreignpolicy.com/2023/08/24/prigozhin-putin-wagner-group-russia-africa/\" target=\"_blank\">https://foreignpolicy.com/2023/08/24/prigozhin-putin-wagner-group-russia-africa/</a>"
      ],
      "text/plain": [
       "<IPython.core.display.HTML object>"
      ]
     },
     "metadata": {},
     "output_type": "display_data"
    },
    {
     "data": {
      "text/html": [
       "<a href=\"https://foreignpolicy.com/category/situation-report/\" target=\"_blank\">https://foreignpolicy.com/category/situation-report/</a>"
      ],
      "text/plain": [
       "<IPython.core.display.HTML object>"
      ]
     },
     "metadata": {},
     "output_type": "display_data"
    },
    {
     "data": {
      "text/html": [
       "<a href=\"https://foreignpolicy.com/author/robbie-gramer/\" target=\"_blank\">https://foreignpolicy.com/author/robbie-gramer/</a>"
      ],
      "text/plain": [
       "<IPython.core.display.HTML object>"
      ]
     },
     "metadata": {},
     "output_type": "display_data"
    },
    {
     "data": {
      "text/html": [
       "<a href=\"https://foreignpolicy.com/author/jack-detsch/\" target=\"_blank\">https://foreignpolicy.com/author/jack-detsch/</a>"
      ],
      "text/plain": [
       "<IPython.core.display.HTML object>"
      ]
     },
     "metadata": {},
     "output_type": "display_data"
    },
    {
     "data": {
      "text/html": [
       "<a href=\"https://foreignpolicy.com/2023/08/24/yevgeny-prigozhin-death-putin-russia-war-ukraine/\" target=\"_blank\">https://foreignpolicy.com/2023/08/24/yevgeny-prigozhin-death-putin-russia-war-ukraine/</a>"
      ],
      "text/plain": [
       "<IPython.core.display.HTML object>"
      ]
     },
     "metadata": {},
     "output_type": "display_data"
    },
    {
     "data": {
      "text/html": [
       "<a href=\"https://foreignpolicy.com/category/analysis/argument/\" target=\"_blank\">https://foreignpolicy.com/category/analysis/argument/</a>"
      ],
      "text/plain": [
       "<IPython.core.display.HTML object>"
      ]
     },
     "metadata": {},
     "output_type": "display_data"
    },
    {
     "data": {
      "text/html": [
       "<a href=\"https://foreignpolicy.com/author/mark-lawrence-schrad/\" target=\"_blank\">https://foreignpolicy.com/author/mark-lawrence-schrad/</a>"
      ],
      "text/plain": [
       "<IPython.core.display.HTML object>"
      ]
     },
     "metadata": {},
     "output_type": "display_data"
    },
    {
     "data": {
      "text/html": [
       "<a href=\"/category/latest/\" target=\"_blank\">/category/latest/</a>"
      ],
      "text/plain": [
       "<IPython.core.display.HTML object>"
      ]
     },
     "metadata": {},
     "output_type": "display_data"
    },
    {
     "data": {
      "text/html": [
       "<a href=\"https://foreignpolicy.com/events\" target=\"_blank\">https://foreignpolicy.com/events</a>"
      ],
      "text/plain": [
       "<IPython.core.display.HTML object>"
      ]
     },
     "metadata": {},
     "output_type": "display_data"
    },
    {
     "data": {
      "text/html": [
       "<a href=\"https://foreignpolicy.com/fp-studios/\" target=\"_blank\">https://foreignpolicy.com/fp-studios/</a>"
      ],
      "text/plain": [
       "<IPython.core.display.HTML object>"
      ]
     },
     "metadata": {},
     "output_type": "display_data"
    },
    {
     "data": {
      "text/html": [
       "<a href=\"https://foreignpolicy.com/fp-analytics/\" target=\"_blank\">https://foreignpolicy.com/fp-analytics/</a>"
      ],
      "text/plain": [
       "<IPython.core.display.HTML object>"
      ]
     },
     "metadata": {},
     "output_type": "display_data"
    },
    {
     "data": {
      "text/html": [
       "<a href=\"https://foreignpolicy.com/fp-peacegames/\" target=\"_blank\">https://foreignpolicy.com/fp-peacegames/</a>"
      ],
      "text/plain": [
       "<IPython.core.display.HTML object>"
      ]
     },
     "metadata": {},
     "output_type": "display_data"
    },
    {
     "data": {
      "text/html": [
       "<a href=\"https://foreignpolicy.com/subscription-services/\" target=\"_blank\">https://foreignpolicy.com/subscription-services/</a>"
      ],
      "text/plain": [
       "<IPython.core.display.HTML object>"
      ]
     },
     "metadata": {},
     "output_type": "display_data"
    },
    {
     "data": {
      "text/html": [
       "<a href=\"https://foreignpolicy.com/group-subscriptions/\" target=\"_blank\">https://foreignpolicy.com/group-subscriptions/</a>"
      ],
      "text/plain": [
       "<IPython.core.display.HTML object>"
      ]
     },
     "metadata": {},
     "output_type": "display_data"
    },
    {
     "data": {
      "text/html": [
       "<a href=\"https://foreignpolicy.com/reprint-permissions/\" target=\"_blank\">https://foreignpolicy.com/reprint-permissions/</a>"
      ],
      "text/plain": [
       "<IPython.core.display.HTML object>"
      ]
     },
     "metadata": {},
     "output_type": "display_data"
    },
    {
     "data": {
      "text/html": [
       "<a href=\"https://foreignpolicy.submittable.com/submit\" target=\"_blank\">https://foreignpolicy.submittable.com/submit</a>"
      ],
      "text/plain": [
       "<IPython.core.display.HTML object>"
      ]
     },
     "metadata": {},
     "output_type": "display_data"
    },
    {
     "data": {
      "text/html": [
       "<a href=\"https://fpguide.foreignpolicy.com/2023-career/\" target=\"_blank\">https://fpguide.foreignpolicy.com/2023-career/</a>"
      ],
      "text/plain": [
       "<IPython.core.display.HTML object>"
      ]
     },
     "metadata": {},
     "output_type": "display_data"
    },
    {
     "data": {
      "text/html": [
       "<a href=\"https://foreignpolicy.com/fp-for-education/\" target=\"_blank\">https://foreignpolicy.com/fp-for-education/</a>"
      ],
      "text/plain": [
       "<IPython.core.display.HTML object>"
      ]
     },
     "metadata": {},
     "output_type": "display_data"
    },
    {
     "data": {
      "text/html": [
       "<a href=\"/magazine\" target=\"_blank\">/magazine</a>"
      ],
      "text/plain": [
       "<IPython.core.display.HTML object>"
      ]
     },
     "metadata": {},
     "output_type": "display_data"
    },
    {
     "data": {
      "text/html": [
       "<a href=\"https://foreignpolicy.com/buy-back-issues/\" target=\"_blank\">https://foreignpolicy.com/buy-back-issues/</a>"
      ],
      "text/plain": [
       "<IPython.core.display.HTML object>"
      ]
     },
     "metadata": {},
     "output_type": "display_data"
    },
    {
     "data": {
      "text/html": [
       "<a href=\"https://foreignpolicy.com/employment-opportunities/\" target=\"_blank\">https://foreignpolicy.com/employment-opportunities/</a>"
      ],
      "text/plain": [
       "<IPython.core.display.HTML object>"
      ]
     },
     "metadata": {},
     "output_type": "display_data"
    },
    {
     "data": {
      "text/html": [
       "<a href=\"https://foreignpolicy.com/staff/\" target=\"_blank\">https://foreignpolicy.com/staff/</a>"
      ],
      "text/plain": [
       "<IPython.core.display.HTML object>"
      ]
     },
     "metadata": {},
     "output_type": "display_data"
    },
    {
     "data": {
      "text/html": [
       "<a href=\"https://solutions.foreignpolicy.com/\" target=\"_blank\">https://solutions.foreignpolicy.com/</a>"
      ],
      "text/plain": [
       "<IPython.core.display.HTML object>"
      ]
     },
     "metadata": {},
     "output_type": "display_data"
    },
    {
     "data": {
      "text/html": [
       "<a href=\"https://sponsored.foreignpolicy.com/country-reports/\" target=\"_blank\">https://sponsored.foreignpolicy.com/country-reports/</a>"
      ],
      "text/plain": [
       "<IPython.core.display.HTML object>"
      ]
     },
     "metadata": {},
     "output_type": "display_data"
    },
    {
     "data": {
      "text/html": [
       "<a href=\"#\" target=\"_blank\">#</a>"
      ],
      "text/plain": [
       "<IPython.core.display.HTML object>"
      ]
     },
     "metadata": {},
     "output_type": "display_data"
    },
    {
     "data": {
      "text/html": [
       "<a href=\"/gift-subscriptions/?tpcc=navbar_gift\" target=\"_blank\">/gift-subscriptions/?tpcc=navbar_gift</a>"
      ],
      "text/plain": [
       "<IPython.core.display.HTML object>"
      ]
     },
     "metadata": {},
     "output_type": "display_data"
    },
    {
     "data": {
      "text/html": [
       "<a href=\"/subscribe\" target=\"_blank\">/subscribe</a>"
      ],
      "text/plain": [
       "<IPython.core.display.HTML object>"
      ]
     },
     "metadata": {},
     "output_type": "display_data"
    },
    {
     "data": {
      "text/html": [
       "<a href=\"/insider\" target=\"_blank\">/insider</a>"
      ],
      "text/plain": [
       "<IPython.core.display.HTML object>"
      ]
     },
     "metadata": {},
     "output_type": "display_data"
    },
    {
     "data": {
      "text/html": [
       "<a href=\"#\" target=\"_blank\">#</a>"
      ],
      "text/plain": [
       "<IPython.core.display.HTML object>"
      ]
     },
     "metadata": {},
     "output_type": "display_data"
    },
    {
     "data": {
      "text/html": [
       "<a href=\"https://foreignpolicy.com/projects/ukraine-russia-border-crisis/\" target=\"_blank\">https://foreignpolicy.com/projects/ukraine-russia-border-crisis/</a>"
      ],
      "text/plain": [
       "<IPython.core.display.HTML object>"
      ]
     },
     "metadata": {},
     "output_type": "display_data"
    },
    {
     "data": {
      "text/html": [
       "<a href=\"https://foreignpolicy.com/2023/08/24/yevgeny-prigozhin-death-putin-russia-war-ukraine/\" target=\"_blank\">https://foreignpolicy.com/2023/08/24/yevgeny-prigozhin-death-putin-russia-war-ukraine/</a>"
      ],
      "text/plain": [
       "<IPython.core.display.HTML object>"
      ]
     },
     "metadata": {},
     "output_type": "display_data"
    },
    {
     "data": {
      "text/html": [
       "<a href=\"https://foreignpolicy.com/2023/08/24/yevgeny-prigozhin-death-putin-russia-war-ukraine/\" target=\"_blank\">https://foreignpolicy.com/2023/08/24/yevgeny-prigozhin-death-putin-russia-war-ukraine/</a>"
      ],
      "text/plain": [
       "<IPython.core.display.HTML object>"
      ]
     },
     "metadata": {},
     "output_type": "display_data"
    },
    {
     "data": {
      "text/html": [
       "<a href=\"https://foreignpolicy.com/category/analysis/argument/\" target=\"_blank\">https://foreignpolicy.com/category/analysis/argument/</a>"
      ],
      "text/plain": [
       "<IPython.core.display.HTML object>"
      ]
     },
     "metadata": {},
     "output_type": "display_data"
    },
    {
     "data": {
      "text/html": [
       "<a href=\"https://foreignpolicy.com/author/mark-lawrence-schrad/\" target=\"_blank\">https://foreignpolicy.com/author/mark-lawrence-schrad/</a>"
      ],
      "text/plain": [
       "<IPython.core.display.HTML object>"
      ]
     },
     "metadata": {},
     "output_type": "display_data"
    },
    {
     "data": {
      "text/html": [
       "<a href=\"https://foreignpolicy.com/2023/08/24/netanyahu-saudi-mbs-nuclear-enrichment-arms-race/\" target=\"_blank\">https://foreignpolicy.com/2023/08/24/netanyahu-saudi-mbs-nuclear-enrichment-arms-race/</a>"
      ],
      "text/plain": [
       "<IPython.core.display.HTML object>"
      ]
     },
     "metadata": {},
     "output_type": "display_data"
    },
    {
     "data": {
      "text/html": [
       "<a href=\"https://foreignpolicy.com/2023/08/24/netanyahu-saudi-mbs-nuclear-enrichment-arms-race/\" target=\"_blank\">https://foreignpolicy.com/2023/08/24/netanyahu-saudi-mbs-nuclear-enrichment-arms-race/</a>"
      ],
      "text/plain": [
       "<IPython.core.display.HTML object>"
      ]
     },
     "metadata": {},
     "output_type": "display_data"
    },
    {
     "data": {
      "text/html": [
       "<a href=\"https://foreignpolicy.com/category/analysis/argument/\" target=\"_blank\">https://foreignpolicy.com/category/analysis/argument/</a>"
      ],
      "text/plain": [
       "<IPython.core.display.HTML object>"
      ]
     },
     "metadata": {},
     "output_type": "display_data"
    },
    {
     "data": {
      "text/html": [
       "<a href=\"https://foreignpolicy.com/author/azriel-bermant/\" target=\"_blank\">https://foreignpolicy.com/author/azriel-bermant/</a>"
      ],
      "text/plain": [
       "<IPython.core.display.HTML object>"
      ]
     },
     "metadata": {},
     "output_type": "display_data"
    },
    {
     "data": {
      "text/html": [
       "<a href=\"https://foreignpolicy.com/2023/08/23/derisking-us-china-biden-decoupling-technology-supply-chains-semiconductors-chips-ira-trade/\" target=\"_blank\">https://foreignpolicy.com/2023/08/23/derisking-us-china-biden-decoupling-technology-supply-chains-semiconductors-chips-ira-trade/</a>"
      ],
      "text/plain": [
       "<IPython.core.display.HTML object>"
      ]
     },
     "metadata": {},
     "output_type": "display_data"
    },
    {
     "data": {
      "text/html": [
       "<a href=\"https://foreignpolicy.com/2023/08/23/derisking-us-china-biden-decoupling-technology-supply-chains-semiconductors-chips-ira-trade/\" target=\"_blank\">https://foreignpolicy.com/2023/08/23/derisking-us-china-biden-decoupling-technology-supply-chains-semiconductors-chips-ira-trade/</a>"
      ],
      "text/plain": [
       "<IPython.core.display.HTML object>"
      ]
     },
     "metadata": {},
     "output_type": "display_data"
    },
    {
     "data": {
      "text/html": [
       "<a href=\"https://foreignpolicy.com/channel/analysis/\" target=\"_blank\">https://foreignpolicy.com/channel/analysis/</a>"
      ],
      "text/plain": [
       "<IPython.core.display.HTML object>"
      ]
     },
     "metadata": {},
     "output_type": "display_data"
    },
    {
     "data": {
      "text/html": [
       "<a href=\"https://foreignpolicy.com/author/agathe-demarais/\" target=\"_blank\">https://foreignpolicy.com/author/agathe-demarais/</a>"
      ],
      "text/plain": [
       "<IPython.core.display.HTML object>"
      ]
     },
     "metadata": {},
     "output_type": "display_data"
    },
    {
     "data": {
      "text/html": [
       "<a href=\"https://foreignpolicy.com/2023/08/24/biden-trilateral-summit-japan-south-korea-pyongyang-nuclear-war/\" target=\"_blank\">https://foreignpolicy.com/2023/08/24/biden-trilateral-summit-japan-south-korea-pyongyang-nuclear-war/</a>"
      ],
      "text/plain": [
       "<IPython.core.display.HTML object>"
      ]
     },
     "metadata": {},
     "output_type": "display_data"
    },
    {
     "data": {
      "text/html": [
       "<a href=\"https://foreignpolicy.com/2023/08/24/biden-trilateral-summit-japan-south-korea-pyongyang-nuclear-war/\" target=\"_blank\">https://foreignpolicy.com/2023/08/24/biden-trilateral-summit-japan-south-korea-pyongyang-nuclear-war/</a>"
      ],
      "text/plain": [
       "<IPython.core.display.HTML object>"
      ]
     },
     "metadata": {},
     "output_type": "display_data"
    },
    {
     "data": {
      "text/html": [
       "<a href=\"https://foreignpolicy.com/category/analysis/argument/\" target=\"_blank\">https://foreignpolicy.com/category/analysis/argument/</a>"
      ],
      "text/plain": [
       "<IPython.core.display.HTML object>"
      ]
     },
     "metadata": {},
     "output_type": "display_data"
    },
    {
     "data": {
      "text/html": [
       "<a href=\"https://foreignpolicy.com/author/robert-a-manning/\" target=\"_blank\">https://foreignpolicy.com/author/robert-a-manning/</a>"
      ],
      "text/plain": [
       "<IPython.core.display.HTML object>"
      ]
     },
     "metadata": {},
     "output_type": "display_data"
    },
    {
     "data": {
      "text/html": [
       "<a href=\"https://foreignpolicy.com/2023/08/23/india-moon-landing-chandrayaan-geopolitics-modi/?tpcc=recirc_latest062921\" target=\"_blank\">https://foreignpolicy.com/2023/08/23/india-moon-landing-chandrayaan-geopolitics-modi/?tpcc=recirc_latest062921</a>"
      ],
      "text/plain": [
       "<IPython.core.display.HTML object>"
      ]
     },
     "metadata": {},
     "output_type": "display_data"
    },
    {
     "data": {
      "text/html": [
       "<a href=\"https://foreignpolicy.com/category/south-asia-brief/\" target=\"_blank\">https://foreignpolicy.com/category/south-asia-brief/</a>"
      ],
      "text/plain": [
       "<IPython.core.display.HTML object>"
      ]
     },
     "metadata": {},
     "output_type": "display_data"
    },
    {
     "data": {
      "text/html": [
       "<a href=\"https://foreignpolicy.com/author/michael-kugelman/\" target=\"_blank\">https://foreignpolicy.com/author/michael-kugelman/</a>"
      ],
      "text/plain": [
       "<IPython.core.display.HTML object>"
      ]
     },
     "metadata": {},
     "output_type": "display_data"
    },
    {
     "data": {
      "text/html": [
       "<a href=\"nan\" target=\"_blank\">nan</a>"
      ],
      "text/plain": [
       "<IPython.core.display.HTML object>"
      ]
     },
     "metadata": {},
     "output_type": "display_data"
    },
    {
     "data": {
      "text/html": [
       "<a href=\"nan\" target=\"_blank\">nan</a>"
      ],
      "text/plain": [
       "<IPython.core.display.HTML object>"
      ]
     },
     "metadata": {},
     "output_type": "display_data"
    },
    {
     "data": {
      "text/html": [
       "<a href=\"https://foreignpolicy.com/privacy/\" target=\"_blank\">https://foreignpolicy.com/privacy/</a>"
      ],
      "text/plain": [
       "<IPython.core.display.HTML object>"
      ]
     },
     "metadata": {},
     "output_type": "display_data"
    },
    {
     "data": {
      "text/html": [
       "<a href=\"https://foreignpolicy.com/termsofuse/\" target=\"_blank\">https://foreignpolicy.com/termsofuse/</a>"
      ],
      "text/plain": [
       "<IPython.core.display.HTML object>"
      ]
     },
     "metadata": {},
     "output_type": "display_data"
    },
    {
     "data": {
      "text/html": [
       "<a href=\"https://foreignpolicy.com/2023/08/23/milei-argentina-presidential-election-politics-economy-villarruel/?tpcc=recirc_latest062921\" target=\"_blank\">https://foreignpolicy.com/2023/08/23/milei-argentina-presidential-election-politics-economy-villarruel/?tpcc=recirc_latest062921</a>"
      ],
      "text/plain": [
       "<IPython.core.display.HTML object>"
      ]
     },
     "metadata": {},
     "output_type": "display_data"
    },
    {
     "data": {
      "text/html": [
       "<a href=\"https://foreignpolicy.com/channel/analysis/\" target=\"_blank\">https://foreignpolicy.com/channel/analysis/</a>"
      ],
      "text/plain": [
       "<IPython.core.display.HTML object>"
      ]
     },
     "metadata": {},
     "output_type": "display_data"
    },
    {
     "data": {
      "text/html": [
       "<a href=\"https://foreignpolicy.com/author/oliver-stuenkel/\" target=\"_blank\">https://foreignpolicy.com/author/oliver-stuenkel/</a>"
      ],
      "text/plain": [
       "<IPython.core.display.HTML object>"
      ]
     },
     "metadata": {},
     "output_type": "display_data"
    },
    {
     "data": {
      "text/html": [
       "<a href=\"https://foreignpolicy.com/2023/08/23/central-banks-interest-rates-zombies-federal-reserve-finance-losing-money/?tpcc=recirc_latest062921\" target=\"_blank\">https://foreignpolicy.com/2023/08/23/central-banks-interest-rates-zombies-federal-reserve-finance-losing-money/?tpcc=recirc_latest062921</a>"
      ],
      "text/plain": [
       "<IPython.core.display.HTML object>"
      ]
     },
     "metadata": {},
     "output_type": "display_data"
    },
    {
     "data": {
      "text/html": [
       "<a href=\"https://foreignpolicy.com/category/analysis/argument/\" target=\"_blank\">https://foreignpolicy.com/category/analysis/argument/</a>"
      ],
      "text/plain": [
       "<IPython.core.display.HTML object>"
      ]
     },
     "metadata": {},
     "output_type": "display_data"
    },
    {
     "data": {
      "text/html": [
       "<a href=\"https://foreignpolicy.com/author/joseph-w-sullivan/\" target=\"_blank\">https://foreignpolicy.com/author/joseph-w-sullivan/</a>"
      ],
      "text/plain": [
       "<IPython.core.display.HTML object>"
      ]
     },
     "metadata": {},
     "output_type": "display_data"
    },
    {
     "data": {
      "text/html": [
       "<a href=\"https://foreignpolicy.com/2023/08/23/china-youth-unemployment-jobs/?tpcc=recirc_latest062921\" target=\"_blank\">https://foreignpolicy.com/2023/08/23/china-youth-unemployment-jobs/?tpcc=recirc_latest062921</a>"
      ],
      "text/plain": [
       "<IPython.core.display.HTML object>"
      ]
     },
     "metadata": {},
     "output_type": "display_data"
    },
    {
     "data": {
      "text/html": [
       "<a href=\"https://foreignpolicy.com/category/chinafile/\" target=\"_blank\">https://foreignpolicy.com/category/chinafile/</a>"
      ],
      "text/plain": [
       "<IPython.core.display.HTML object>"
      ]
     },
     "metadata": {},
     "output_type": "display_data"
    },
    {
     "data": {
      "text/html": [
       "<a href=\"https://foreignpolicy.com/author/chinafile-contributors/\" target=\"_blank\">https://foreignpolicy.com/author/chinafile-contributors/</a>"
      ],
      "text/plain": [
       "<IPython.core.display.HTML object>"
      ]
     },
     "metadata": {},
     "output_type": "display_data"
    },
    {
     "data": {
      "text/html": [
       "<a href=\"https://foreignpolicy.com/2023/08/23/somalia-al-shabab-al-qaeda-terror-pentagon/?tpcc=recirc_latest062921\" target=\"_blank\">https://foreignpolicy.com/2023/08/23/somalia-al-shabab-al-qaeda-terror-pentagon/?tpcc=recirc_latest062921</a>"
      ],
      "text/plain": [
       "<IPython.core.display.HTML object>"
      ]
     },
     "metadata": {},
     "output_type": "display_data"
    },
    {
     "data": {
      "text/html": [
       "<a href=\"https://foreignpolicy.com/category/feature/\" target=\"_blank\">https://foreignpolicy.com/category/feature/</a>"
      ],
      "text/plain": [
       "<IPython.core.display.HTML object>"
      ]
     },
     "metadata": {},
     "output_type": "display_data"
    },
    {
     "data": {
      "text/html": [
       "<a href=\"https://foreignpolicy.com/author/jack-detsch/\" target=\"_blank\">https://foreignpolicy.com/author/jack-detsch/</a>"
      ],
      "text/plain": [
       "<IPython.core.display.HTML object>"
      ]
     },
     "metadata": {},
     "output_type": "display_data"
    },
    {
     "data": {
      "text/html": [
       "<a href=\"https://foreignpolicy.com/insider\" target=\"_blank\">https://foreignpolicy.com/insider</a>"
      ],
      "text/plain": [
       "<IPython.core.display.HTML object>"
      ]
     },
     "metadata": {},
     "output_type": "display_data"
    },
    {
     "data": {
      "text/html": [
       "<a href=\"https://foreignpolicy.com/2023/08/18/adam-tooze-russia-economy-better-west-expectations/\" target=\"_blank\">https://foreignpolicy.com/2023/08/18/adam-tooze-russia-economy-better-west-expectations/</a>"
      ],
      "text/plain": [
       "<IPython.core.display.HTML object>"
      ]
     },
     "metadata": {},
     "output_type": "display_data"
    },
    {
     "data": {
      "text/html": [
       "<a href=\"https://foreignpolicy.com/2023/08/18/adam-tooze-russia-economy-better-west-expectations/\" target=\"_blank\">https://foreignpolicy.com/2023/08/18/adam-tooze-russia-economy-better-west-expectations/</a>"
      ],
      "text/plain": [
       "<IPython.core.display.HTML object>"
      ]
     },
     "metadata": {},
     "output_type": "display_data"
    },
    {
     "data": {
      "text/html": [
       "<a href=\"/insider\" target=\"_blank\">/insider</a>"
      ],
      "text/plain": [
       "<IPython.core.display.HTML object>"
      ]
     },
     "metadata": {},
     "output_type": "display_data"
    },
    {
     "data": {
      "text/html": [
       "<a href=\"https://foreignpolicy.com/author/cameron-abadi/\" target=\"_blank\">https://foreignpolicy.com/author/cameron-abadi/</a>"
      ],
      "text/plain": [
       "<IPython.core.display.HTML object>"
      ]
     },
     "metadata": {},
     "output_type": "display_data"
    },
    {
     "data": {
      "text/html": [
       "<a href=\"https://foreignpolicy.com/2023/08/17/inside-manipurs-ethnic-violence/\" target=\"_blank\">https://foreignpolicy.com/2023/08/17/inside-manipurs-ethnic-violence/</a>"
      ],
      "text/plain": [
       "<IPython.core.display.HTML object>"
      ]
     },
     "metadata": {},
     "output_type": "display_data"
    },
    {
     "data": {
      "text/html": [
       "<a href=\"https://foreignpolicy.com/2023/08/17/inside-manipurs-ethnic-violence/\" target=\"_blank\">https://foreignpolicy.com/2023/08/17/inside-manipurs-ethnic-violence/</a>"
      ],
      "text/plain": [
       "<IPython.core.display.HTML object>"
      ]
     },
     "metadata": {},
     "output_type": "display_data"
    },
    {
     "data": {
      "text/html": [
       "<a href=\"/insider\" target=\"_blank\">/insider</a>"
      ],
      "text/plain": [
       "<IPython.core.display.HTML object>"
      ]
     },
     "metadata": {},
     "output_type": "display_data"
    },
    {
     "data": {
      "text/html": [
       "<a href=\"https://foreignpolicy.com/author/ravi-agrawal/\" target=\"_blank\">https://foreignpolicy.com/author/ravi-agrawal/</a>"
      ],
      "text/plain": [
       "<IPython.core.display.HTML object>"
      ]
     },
     "metadata": {},
     "output_type": "display_data"
    },
    {
     "data": {
      "text/html": [
       "<a href=\"https://foreignpolicy.com/2023/08/14/ai-tech-cyber-policy-chips-us-diplomacy-biden-nathaniel-fick/\" target=\"_blank\">https://foreignpolicy.com/2023/08/14/ai-tech-cyber-policy-chips-us-diplomacy-biden-nathaniel-fick/</a>"
      ],
      "text/plain": [
       "<IPython.core.display.HTML object>"
      ]
     },
     "metadata": {},
     "output_type": "display_data"
    },
    {
     "data": {
      "text/html": [
       "<a href=\"https://foreignpolicy.com/2023/08/14/ai-tech-cyber-policy-chips-us-diplomacy-biden-nathaniel-fick/\" target=\"_blank\">https://foreignpolicy.com/2023/08/14/ai-tech-cyber-policy-chips-us-diplomacy-biden-nathaniel-fick/</a>"
      ],
      "text/plain": [
       "<IPython.core.display.HTML object>"
      ]
     },
     "metadata": {},
     "output_type": "display_data"
    },
    {
     "data": {
      "text/html": [
       "<a href=\"/insider\" target=\"_blank\">/insider</a>"
      ],
      "text/plain": [
       "<IPython.core.display.HTML object>"
      ]
     },
     "metadata": {},
     "output_type": "display_data"
    },
    {
     "data": {
      "text/html": [
       "<a href=\"https://foreignpolicy.com/author/ravi-agrawal/\" target=\"_blank\">https://foreignpolicy.com/author/ravi-agrawal/</a>"
      ],
      "text/plain": [
       "<IPython.core.display.HTML object>"
      ]
     },
     "metadata": {},
     "output_type": "display_data"
    },
    {
     "data": {
      "text/html": [
       "<a href=\"/projects/asia/\" target=\"_blank\">/projects/asia/</a>"
      ],
      "text/plain": [
       "<IPython.core.display.HTML object>"
      ]
     },
     "metadata": {},
     "output_type": "display_data"
    },
    {
     "data": {
      "text/html": [
       "<a href=\"https://foreignpolicy.com/2023/08/21/india-china-border-crisis-brics-summit-xi-modi/\" target=\"_blank\">https://foreignpolicy.com/2023/08/21/india-china-border-crisis-brics-summit-xi-modi/</a>"
      ],
      "text/plain": [
       "<IPython.core.display.HTML object>"
      ]
     },
     "metadata": {},
     "output_type": "display_data"
    },
    {
     "data": {
      "text/html": [
       "<a href=\"https://foreignpolicy.com/2023/08/21/india-china-border-crisis-brics-summit-xi-modi/\" target=\"_blank\">https://foreignpolicy.com/2023/08/21/india-china-border-crisis-brics-summit-xi-modi/</a>"
      ],
      "text/plain": [
       "<IPython.core.display.HTML object>"
      ]
     },
     "metadata": {},
     "output_type": "display_data"
    },
    {
     "data": {
      "text/html": [
       "<a href=\"https://foreignpolicy.com/category/analysis/argument/\" target=\"_blank\">https://foreignpolicy.com/category/analysis/argument/</a>"
      ],
      "text/plain": [
       "<IPython.core.display.HTML object>"
      ]
     },
     "metadata": {},
     "output_type": "display_data"
    },
    {
     "data": {
      "text/html": [
       "<a href=\"https://foreignpolicy.com/author/sushant-singh/\" target=\"_blank\">https://foreignpolicy.com/author/sushant-singh/</a>"
      ],
      "text/plain": [
       "<IPython.core.display.HTML object>"
      ]
     },
     "metadata": {},
     "output_type": "display_data"
    },
    {
     "data": {
      "text/html": [
       "<a href=\"https://foreignpolicy.com/2023/08/15/japan-rare-earth-minerals-green-transition-china-supply-chains/\" target=\"_blank\">https://foreignpolicy.com/2023/08/15/japan-rare-earth-minerals-green-transition-china-supply-chains/</a>"
      ],
      "text/plain": [
       "<IPython.core.display.HTML object>"
      ]
     },
     "metadata": {},
     "output_type": "display_data"
    },
    {
     "data": {
      "text/html": [
       "<a href=\"https://foreignpolicy.com/2023/08/14/malaysia-elections-ethnic-tensions-chinese-malay-islam-nationalism/\" target=\"_blank\">https://foreignpolicy.com/2023/08/14/malaysia-elections-ethnic-tensions-chinese-malay-islam-nationalism/</a>"
      ],
      "text/plain": [
       "<IPython.core.display.HTML object>"
      ]
     },
     "metadata": {},
     "output_type": "display_data"
    },
    {
     "data": {
      "text/html": [
       "<a href=\"https://foreignpolicy.com/2023/08/14/china-purges-foreign-ministry-xi-jinping-qin-gang-disappearance/\" target=\"_blank\">https://foreignpolicy.com/2023/08/14/china-purges-foreign-ministry-xi-jinping-qin-gang-disappearance/</a>"
      ],
      "text/plain": [
       "<IPython.core.display.HTML object>"
      ]
     },
     "metadata": {},
     "output_type": "display_data"
    },
    {
     "data": {
      "text/html": [
       "<a href=\"/projects/china/\" target=\"_blank\">/projects/china/</a>"
      ],
      "text/plain": [
       "<IPython.core.display.HTML object>"
      ]
     },
     "metadata": {},
     "output_type": "display_data"
    },
    {
     "data": {
      "text/html": [
       "<a href=\"https://foreignpolicy.com/2023/08/22/china-economy-crisis-investors-xi-health-care-property/\" target=\"_blank\">https://foreignpolicy.com/2023/08/22/china-economy-crisis-investors-xi-health-care-property/</a>"
      ],
      "text/plain": [
       "<IPython.core.display.HTML object>"
      ]
     },
     "metadata": {},
     "output_type": "display_data"
    },
    {
     "data": {
      "text/html": [
       "<a href=\"https://foreignpolicy.com/2023/08/22/china-economy-crisis-investors-xi-health-care-property/\" target=\"_blank\">https://foreignpolicy.com/2023/08/22/china-economy-crisis-investors-xi-health-care-property/</a>"
      ],
      "text/plain": [
       "<IPython.core.display.HTML object>"
      ]
     },
     "metadata": {},
     "output_type": "display_data"
    },
    {
     "data": {
      "text/html": [
       "<a href=\"https://foreignpolicy.com/category/china-brief/\" target=\"_blank\">https://foreignpolicy.com/category/china-brief/</a>"
      ],
      "text/plain": [
       "<IPython.core.display.HTML object>"
      ]
     },
     "metadata": {},
     "output_type": "display_data"
    },
    {
     "data": {
      "text/html": [
       "<a href=\"https://foreignpolicy.com/author/james-palmer/\" target=\"_blank\">https://foreignpolicy.com/author/james-palmer/</a>"
      ],
      "text/plain": [
       "<IPython.core.display.HTML object>"
      ]
     },
     "metadata": {},
     "output_type": "display_data"
    },
    {
     "data": {
      "text/html": [
       "<a href=\"https://foreignpolicy.com/2023/08/21/china-us-forced-labor-uyghur-xinjiang-uflpa/\" target=\"_blank\">https://foreignpolicy.com/2023/08/21/china-us-forced-labor-uyghur-xinjiang-uflpa/</a>"
      ],
      "text/plain": [
       "<IPython.core.display.HTML object>"
      ]
     },
     "metadata": {},
     "output_type": "display_data"
    },
    {
     "data": {
      "text/html": [
       "<a href=\"https://foreignpolicy.com/2023/08/21/us-china-war-taiwan-competition/\" target=\"_blank\">https://foreignpolicy.com/2023/08/21/us-china-war-taiwan-competition/</a>"
      ],
      "text/plain": [
       "<IPython.core.display.HTML object>"
      ]
     },
     "metadata": {},
     "output_type": "display_data"
    },
    {
     "data": {
      "text/html": [
       "<a href=\"https://foreignpolicy.com/2023/08/20/china-economy-slowdown-xi-jinping-beijing-growth/\" target=\"_blank\">https://foreignpolicy.com/2023/08/20/china-economy-slowdown-xi-jinping-beijing-growth/</a>"
      ],
      "text/plain": [
       "<IPython.core.display.HTML object>"
      ]
     },
     "metadata": {},
     "output_type": "display_data"
    },
    {
     "data": {
      "text/html": [
       "<a href=\"/projects/middle-east-africa/\" target=\"_blank\">/projects/middle-east-africa/</a>"
      ],
      "text/plain": [
       "<IPython.core.display.HTML object>"
      ]
     },
     "metadata": {},
     "output_type": "display_data"
    },
    {
     "data": {
      "text/html": [
       "<a href=\"https://foreignpolicy.com/2023/08/23/brics-ukraine-russia-africa-summit-ramaphosa/\" target=\"_blank\">https://foreignpolicy.com/2023/08/23/brics-ukraine-russia-africa-summit-ramaphosa/</a>"
      ],
      "text/plain": [
       "<IPython.core.display.HTML object>"
      ]
     },
     "metadata": {},
     "output_type": "display_data"
    },
    {
     "data": {
      "text/html": [
       "<a href=\"https://foreignpolicy.com/2023/08/23/brics-ukraine-russia-africa-summit-ramaphosa/\" target=\"_blank\">https://foreignpolicy.com/2023/08/23/brics-ukraine-russia-africa-summit-ramaphosa/</a>"
      ],
      "text/plain": [
       "<IPython.core.display.HTML object>"
      ]
     },
     "metadata": {},
     "output_type": "display_data"
    },
    {
     "data": {
      "text/html": [
       "<a href=\"https://foreignpolicy.com/category/africa-brief/\" target=\"_blank\">https://foreignpolicy.com/category/africa-brief/</a>"
      ],
      "text/plain": [
       "<IPython.core.display.HTML object>"
      ]
     },
     "metadata": {},
     "output_type": "display_data"
    },
    {
     "data": {
      "text/html": [
       "<a href=\"https://foreignpolicy.com/author/nosmot-gbadamosi/\" target=\"_blank\">https://foreignpolicy.com/author/nosmot-gbadamosi/</a>"
      ],
      "text/plain": [
       "<IPython.core.display.HTML object>"
      ]
     },
     "metadata": {},
     "output_type": "display_data"
    },
    {
     "data": {
      "text/html": [
       "<a href=\"https://foreignpolicy.com/2023/08/19/mosaddeq-iran-coup-united-states-role/\" target=\"_blank\">https://foreignpolicy.com/2023/08/19/mosaddeq-iran-coup-united-states-role/</a>"
      ],
      "text/plain": [
       "<IPython.core.display.HTML object>"
      ]
     },
     "metadata": {},
     "output_type": "display_data"
    },
    {
     "data": {
      "text/html": [
       "<a href=\"https://foreignpolicy.com/2023/08/16/zimbabwe-china-lithium-exports-green-technology-africa/\" target=\"_blank\">https://foreignpolicy.com/2023/08/16/zimbabwe-china-lithium-exports-green-technology-africa/</a>"
      ],
      "text/plain": [
       "<IPython.core.display.HTML object>"
      ]
     },
     "metadata": {},
     "output_type": "display_data"
    },
    {
     "data": {
      "text/html": [
       "<a href=\"https://foreignpolicy.com/2023/08/14/iran-us-prisoner-swap-deal-nuclear-negotiations-talks-sanctions-biden/\" target=\"_blank\">https://foreignpolicy.com/2023/08/14/iran-us-prisoner-swap-deal-nuclear-negotiations-talks-sanctions-biden/</a>"
      ],
      "text/plain": [
       "<IPython.core.display.HTML object>"
      ]
     },
     "metadata": {},
     "output_type": "display_data"
    },
    {
     "data": {
      "text/html": [
       "<a href=\"/projects/europe/\" target=\"_blank\">/projects/europe/</a>"
      ],
      "text/plain": [
       "<IPython.core.display.HTML object>"
      ]
     },
     "metadata": {},
     "output_type": "display_data"
    },
    {
     "data": {
      "text/html": [
       "<a href=\"https://foreignpolicy.com/2023/08/24/prigozhin-dead-plane-crash-russia-wagner-group-putin-violence/\" target=\"_blank\">https://foreignpolicy.com/2023/08/24/prigozhin-dead-plane-crash-russia-wagner-group-putin-violence/</a>"
      ],
      "text/plain": [
       "<IPython.core.display.HTML object>"
      ]
     },
     "metadata": {},
     "output_type": "display_data"
    },
    {
     "data": {
      "text/html": [
       "<a href=\"https://foreignpolicy.com/2023/08/24/prigozhin-dead-plane-crash-russia-wagner-group-putin-violence/\" target=\"_blank\">https://foreignpolicy.com/2023/08/24/prigozhin-dead-plane-crash-russia-wagner-group-putin-violence/</a>"
      ],
      "text/plain": [
       "<IPython.core.display.HTML object>"
      ]
     },
     "metadata": {},
     "output_type": "display_data"
    },
    {
     "data": {
      "text/html": [
       "<a href=\"https://foreignpolicy.com/channel/analysis/\" target=\"_blank\">https://foreignpolicy.com/channel/analysis/</a>"
      ],
      "text/plain": [
       "<IPython.core.display.HTML object>"
      ]
     },
     "metadata": {},
     "output_type": "display_data"
    },
    {
     "data": {
      "text/html": [
       "<a href=\"https://foreignpolicy.com/author/clara-broekaert/\" target=\"_blank\">https://foreignpolicy.com/author/clara-broekaert/</a>"
      ],
      "text/plain": [
       "<IPython.core.display.HTML object>"
      ]
     },
     "metadata": {},
     "output_type": "display_data"
    },
    {
     "data": {
      "text/html": [
       "<a href=\"https://foreignpolicy.com/author/colin-p-clarke/\" target=\"_blank\">https://foreignpolicy.com/author/colin-p-clarke/</a>"
      ],
      "text/plain": [
       "<IPython.core.display.HTML object>"
      ]
     },
     "metadata": {},
     "output_type": "display_data"
    },
    {
     "data": {
      "text/html": [
       "<a href=\"https://foreignpolicy.com/2023/08/22/russia-crimea-bridges-ukraine-invasion/\" target=\"_blank\">https://foreignpolicy.com/2023/08/22/russia-crimea-bridges-ukraine-invasion/</a>"
      ],
      "text/plain": [
       "<IPython.core.display.HTML object>"
      ]
     },
     "metadata": {},
     "output_type": "display_data"
    },
    {
     "data": {
      "text/html": [
       "<a href=\"https://foreignpolicy.com/2023/08/22/russia-influence-belarus-georgia-moldova-putin-ukraine-war-empire/\" target=\"_blank\">https://foreignpolicy.com/2023/08/22/russia-influence-belarus-georgia-moldova-putin-ukraine-war-empire/</a>"
      ],
      "text/plain": [
       "<IPython.core.display.HTML object>"
      ]
     },
     "metadata": {},
     "output_type": "display_data"
    },
    {
     "data": {
      "text/html": [
       "<a href=\"https://foreignpolicy.com/2023/08/14/cities-climate-change-urban-policy-congestion-pricing-emissions/\" target=\"_blank\">https://foreignpolicy.com/2023/08/14/cities-climate-change-urban-policy-congestion-pricing-emissions/</a>"
      ],
      "text/plain": [
       "<IPython.core.display.HTML object>"
      ]
     },
     "metadata": {},
     "output_type": "display_data"
    },
    {
     "data": {
      "text/html": [
       "<a href=\"/projects/americas/\" target=\"_blank\">/projects/americas/</a>"
      ],
      "text/plain": [
       "<IPython.core.display.HTML object>"
      ]
     },
     "metadata": {},
     "output_type": "display_data"
    },
    {
     "data": {
      "text/html": [
       "<a href=\"https://foreignpolicy.com/2023/08/24/us-china-science-technology-agreement-research-collaboration-intellectual-property/\" target=\"_blank\">https://foreignpolicy.com/2023/08/24/us-china-science-technology-agreement-research-collaboration-intellectual-property/</a>"
      ],
      "text/plain": [
       "<IPython.core.display.HTML object>"
      ]
     },
     "metadata": {},
     "output_type": "display_data"
    },
    {
     "data": {
      "text/html": [
       "<a href=\"https://foreignpolicy.com/2023/08/24/us-china-science-technology-agreement-research-collaboration-intellectual-property/\" target=\"_blank\">https://foreignpolicy.com/2023/08/24/us-china-science-technology-agreement-research-collaboration-intellectual-property/</a>"
      ],
      "text/plain": [
       "<IPython.core.display.HTML object>"
      ]
     },
     "metadata": {},
     "output_type": "display_data"
    },
    {
     "data": {
      "text/html": [
       "<a href=\"https://foreignpolicy.com/category/news/report/\" target=\"_blank\">https://foreignpolicy.com/category/news/report/</a>"
      ],
      "text/plain": [
       "<IPython.core.display.HTML object>"
      ]
     },
     "metadata": {},
     "output_type": "display_data"
    },
    {
     "data": {
      "text/html": [
       "<a href=\"https://foreignpolicy.com/author/christina-lu/\" target=\"_blank\">https://foreignpolicy.com/author/christina-lu/</a>"
      ],
      "text/plain": [
       "<IPython.core.display.HTML object>"
      ]
     },
     "metadata": {},
     "output_type": "display_data"
    },
    {
     "data": {
      "text/html": [
       "<a href=\"https://foreignpolicy.com/author/clara-gutman-argemi/\" target=\"_blank\">https://foreignpolicy.com/author/clara-gutman-argemi/</a>"
      ],
      "text/plain": [
       "<IPython.core.display.HTML object>"
      ]
     },
     "metadata": {},
     "output_type": "display_data"
    },
    {
     "data": {
      "text/html": [
       "<a href=\"https://foreignpolicy.com/2023/08/20/derisking-decoupling-us-china-biden-economy-trade-technology-semiconductors-chips-supply-chains-ai-geopolitics-escalation/\" target=\"_blank\">https://foreignpolicy.com/2023/08/20/derisking-decoupling-us-china-biden-economy-trade-technology-semiconductors-chips-supply-chains-ai-geopolitics-escalation/</a>"
      ],
      "text/plain": [
       "<IPython.core.display.HTML object>"
      ]
     },
     "metadata": {},
     "output_type": "display_data"
    },
    {
     "data": {
      "text/html": [
       "<a href=\"https://foreignpolicy.com/2023/08/18/el-nino-forecast-weather-season-global-impact-conflict-food-supply-health-disease/\" target=\"_blank\">https://foreignpolicy.com/2023/08/18/el-nino-forecast-weather-season-global-impact-conflict-food-supply-health-disease/</a>"
      ],
      "text/plain": [
       "<IPython.core.display.HTML object>"
      ]
     },
     "metadata": {},
     "output_type": "display_data"
    },
    {
     "data": {
      "text/html": [
       "<a href=\"https://foreignpolicy.com/2023/08/15/tsmc-semiconductors-arizona-taiwan-climate-chips/\" target=\"_blank\">https://foreignpolicy.com/2023/08/15/tsmc-semiconductors-arizona-taiwan-climate-chips/</a>"
      ],
      "text/plain": [
       "<IPython.core.display.HTML object>"
      ]
     },
     "metadata": {},
     "output_type": "display_data"
    },
    {
     "data": {
      "text/html": [
       "<a href=\"/subscribe?tpcc=subscribe_hp_fall23issue\" target=\"_blank\">/subscribe?tpcc=subscribe_hp_fall23issue</a>"
      ],
      "text/plain": [
       "<IPython.core.display.HTML object>"
      ]
     },
     "metadata": {},
     "output_type": "display_data"
    },
    {
     "data": {
      "text/html": [
       "<a href=\"/subscribe?tpcc=subscribe_hp_fall23issue\" target=\"_blank\">/subscribe?tpcc=subscribe_hp_fall23issue</a>"
      ],
      "text/plain": [
       "<IPython.core.display.HTML object>"
      ]
     },
     "metadata": {},
     "output_type": "display_data"
    },
    {
     "data": {
      "text/html": [
       "<a href=\"/subscribe?tpcc=subscribe_hp_fall23issue\" target=\"_blank\">/subscribe?tpcc=subscribe_hp_fall23issue</a>"
      ],
      "text/plain": [
       "<IPython.core.display.HTML object>"
      ]
     },
     "metadata": {},
     "output_type": "display_data"
    },
    {
     "data": {
      "text/html": [
       "<a href=\"/subscribe?tpcc=subscribe_hp_fall23issue\" target=\"_blank\">/subscribe?tpcc=subscribe_hp_fall23issue</a>"
      ],
      "text/plain": [
       "<IPython.core.display.HTML object>"
      ]
     },
     "metadata": {},
     "output_type": "display_data"
    },
    {
     "data": {
      "text/html": [
       "<a href=\"https://foreignpolicy.com/author/michael-kugelman/\" target=\"_blank\">https://foreignpolicy.com/author/michael-kugelman/</a>"
      ],
      "text/plain": [
       "<IPython.core.display.HTML object>"
      ]
     },
     "metadata": {},
     "output_type": "display_data"
    },
    {
     "data": {
      "text/html": [
       "<a href=\"https://foreignpolicy.com/2023/08/23/india-moon-landing-chandrayaan-geopolitics-modi/\" target=\"_blank\">https://foreignpolicy.com/2023/08/23/india-moon-landing-chandrayaan-geopolitics-modi/</a>"
      ],
      "text/plain": [
       "<IPython.core.display.HTML object>"
      ]
     },
     "metadata": {},
     "output_type": "display_data"
    },
    {
     "data": {
      "text/html": [
       "<a href=\"https://foreignpolicy.com/author/nosmot-gbadamosi/\" target=\"_blank\">https://foreignpolicy.com/author/nosmot-gbadamosi/</a>"
      ],
      "text/plain": [
       "<IPython.core.display.HTML object>"
      ]
     },
     "metadata": {},
     "output_type": "display_data"
    },
    {
     "data": {
      "text/html": [
       "<a href=\"https://foreignpolicy.com/2023/08/23/brics-ukraine-russia-africa-summit-ramaphosa/\" target=\"_blank\">https://foreignpolicy.com/2023/08/23/brics-ukraine-russia-africa-summit-ramaphosa/</a>"
      ],
      "text/plain": [
       "<IPython.core.display.HTML object>"
      ]
     },
     "metadata": {},
     "output_type": "display_data"
    },
    {
     "data": {
      "text/html": [
       "<a href=\"https://foreignpolicy.com/author/james-palmer/\" target=\"_blank\">https://foreignpolicy.com/author/james-palmer/</a>"
      ],
      "text/plain": [
       "<IPython.core.display.HTML object>"
      ]
     },
     "metadata": {},
     "output_type": "display_data"
    },
    {
     "data": {
      "text/html": [
       "<a href=\"https://foreignpolicy.com/2023/08/22/china-economy-crisis-investors-xi-health-care-property/\" target=\"_blank\">https://foreignpolicy.com/2023/08/22/china-economy-crisis-investors-xi-health-care-property/</a>"
      ],
      "text/plain": [
       "<IPython.core.display.HTML object>"
      ]
     },
     "metadata": {},
     "output_type": "display_data"
    },
    {
     "data": {
      "text/html": [
       "<a href=\"https://foreignpolicy.com/author/anchal-vohra/\" target=\"_blank\">https://foreignpolicy.com/author/anchal-vohra/</a>"
      ],
      "text/plain": [
       "<IPython.core.display.HTML object>"
      ]
     },
     "metadata": {},
     "output_type": "display_data"
    },
    {
     "data": {
      "text/html": [
       "<a href=\"https://foreignpolicy.com/2023/08/22/rishi-sunak-tories-economy-technocrat/\" target=\"_blank\">https://foreignpolicy.com/2023/08/22/rishi-sunak-tories-economy-technocrat/</a>"
      ],
      "text/plain": [
       "<IPython.core.display.HTML object>"
      ]
     },
     "metadata": {},
     "output_type": "display_data"
    },
    {
     "data": {
      "text/html": [
       "<a href=\"/the-magazine\" target=\"_blank\">/the-magazine</a>"
      ],
      "text/plain": [
       "<IPython.core.display.HTML object>"
      ]
     },
     "metadata": {},
     "output_type": "display_data"
    },
    {
     "data": {
      "text/html": [
       "<a href=\"/print-archive\" target=\"_blank\">/print-archive</a>"
      ],
      "text/plain": [
       "<IPython.core.display.HTML object>"
      ]
     },
     "metadata": {},
     "output_type": "display_data"
    },
    {
     "data": {
      "text/html": [
       "<a href=\"https://foreignpolicy.com/2023/06/19/ai-regulation-development-us-china-competition-technology/\" target=\"_blank\">https://foreignpolicy.com/2023/06/19/ai-regulation-development-us-china-competition-technology/</a>"
      ],
      "text/plain": [
       "<IPython.core.display.HTML object>"
      ]
     },
     "metadata": {},
     "output_type": "display_data"
    },
    {
     "data": {
      "text/html": [
       "<a href=\"https://foreignpolicy.com/2023/06/19/ai-regulation-development-us-china-competition-technology/\" target=\"_blank\">https://foreignpolicy.com/2023/06/19/ai-regulation-development-us-china-competition-technology/</a>"
      ],
      "text/plain": [
       "<IPython.core.display.HTML object>"
      ]
     },
     "metadata": {},
     "output_type": "display_data"
    },
    {
     "data": {
      "text/html": [
       "<a href=\"https://foreignpolicy.com/category/essay/\" target=\"_blank\">https://foreignpolicy.com/category/essay/</a>"
      ],
      "text/plain": [
       "<IPython.core.display.HTML object>"
      ]
     },
     "metadata": {},
     "output_type": "display_data"
    },
    {
     "data": {
      "text/html": [
       "<a href=\"https://foreignpolicy.com/author/paul-scharre/\" target=\"_blank\">https://foreignpolicy.com/author/paul-scharre/</a>"
      ],
      "text/plain": [
       "<IPython.core.display.HTML object>"
      ]
     },
     "metadata": {},
     "output_type": "display_data"
    },
    {
     "data": {
      "text/html": [
       "<a href=\"/insider\" target=\"_blank\">/insider</a>"
      ],
      "text/plain": [
       "<IPython.core.display.HTML object>"
      ]
     },
     "metadata": {},
     "output_type": "display_data"
    },
    {
     "data": {
      "text/html": [
       "<a href=\"https://foreignpolicy.com/2023/06/19/ai-regulation-us-china-competition-technology/\" target=\"_blank\">https://foreignpolicy.com/2023/06/19/ai-regulation-us-china-competition-technology/</a>"
      ],
      "text/plain": [
       "<IPython.core.display.HTML object>"
      ]
     },
     "metadata": {},
     "output_type": "display_data"
    },
    {
     "data": {
      "text/html": [
       "<a href=\"https://foreignpolicy.com/author/paul-scharre/\" target=\"_blank\">https://foreignpolicy.com/author/paul-scharre/</a>"
      ],
      "text/plain": [
       "<IPython.core.display.HTML object>"
      ]
     },
     "metadata": {},
     "output_type": "display_data"
    },
    {
     "data": {
      "text/html": [
       "<a href=\"https://foreignpolicy.com/2023/06/19/ai-artificial-intelligence-national-security-foreign-policy-threats-prediction/\" target=\"_blank\">https://foreignpolicy.com/2023/06/19/ai-artificial-intelligence-national-security-foreign-policy-threats-prediction/</a>"
      ],
      "text/plain": [
       "<IPython.core.display.HTML object>"
      ]
     },
     "metadata": {},
     "output_type": "display_data"
    },
    {
     "data": {
      "text/html": [
       "<a href=\"https://foreignpolicy.com/channel/analysis/\" target=\"_blank\">https://foreignpolicy.com/channel/analysis/</a>"
      ],
      "text/plain": [
       "<IPython.core.display.HTML object>"
      ]
     },
     "metadata": {},
     "output_type": "display_data"
    },
    {
     "data": {
      "text/html": [
       "<a href=\"https://foreignpolicy.com/author/stanley-a-mcchrystal/\" target=\"_blank\">https://foreignpolicy.com/author/stanley-a-mcchrystal/</a>"
      ],
      "text/plain": [
       "<IPython.core.display.HTML object>"
      ]
     },
     "metadata": {},
     "output_type": "display_data"
    },
    {
     "data": {
      "text/html": [
       "<a href=\"https://foreignpolicy.com/author/anshu-roy/\" target=\"_blank\">https://foreignpolicy.com/author/anshu-roy/</a>"
      ],
      "text/plain": [
       "<IPython.core.display.HTML object>"
      ]
     },
     "metadata": {},
     "output_type": "display_data"
    },
    {
     "data": {
      "text/html": [
       "<a href=\"/insider\" target=\"_blank\">/insider</a>"
      ],
      "text/plain": [
       "<IPython.core.display.HTML object>"
      ]
     },
     "metadata": {},
     "output_type": "display_data"
    },
    {
     "data": {
      "text/html": [
       "<a href=\"https://foreignpolicy.com/2023/06/19/russia-ukraine-war-counteroffensive-ai-artificial-intelligence-gazprom-potok-putin-wagner/\" target=\"_blank\">https://foreignpolicy.com/2023/06/19/russia-ukraine-war-counteroffensive-ai-artificial-intelligence-gazprom-potok-putin-wagner/</a>"
      ],
      "text/plain": [
       "<IPython.core.display.HTML object>"
      ]
     },
     "metadata": {},
     "output_type": "display_data"
    },
    {
     "data": {
      "text/html": [
       "<a href=\"https://foreignpolicy.com/author/stanley-a-mcchrystal/\" target=\"_blank\">https://foreignpolicy.com/author/stanley-a-mcchrystal/</a>"
      ],
      "text/plain": [
       "<IPython.core.display.HTML object>"
      ]
     },
     "metadata": {},
     "output_type": "display_data"
    },
    {
     "data": {
      "text/html": [
       "<a href=\"https://foreignpolicy.com/author/anshu-roy/\" target=\"_blank\">https://foreignpolicy.com/author/anshu-roy/</a>"
      ],
      "text/plain": [
       "<IPython.core.display.HTML object>"
      ]
     },
     "metadata": {},
     "output_type": "display_data"
    },
    {
     "data": {
      "text/html": [
       "<a href=\"https://foreignpolicy.com/2023/06/16/chatgpt-ai-geopolitics-artificial-intelligence-russia-ukraine-crimea/\" target=\"_blank\">https://foreignpolicy.com/2023/06/16/chatgpt-ai-geopolitics-artificial-intelligence-russia-ukraine-crimea/</a>"
      ],
      "text/plain": [
       "<IPython.core.display.HTML object>"
      ]
     },
     "metadata": {},
     "output_type": "display_data"
    },
    {
     "data": {
      "text/html": [
       "<a href=\"https://foreignpolicy.com/channel/analysis/\" target=\"_blank\">https://foreignpolicy.com/channel/analysis/</a>"
      ],
      "text/plain": [
       "<IPython.core.display.HTML object>"
      ]
     },
     "metadata": {},
     "output_type": "display_data"
    },
    {
     "data": {
      "text/html": [
       "<a href=\"https://foreignpolicy.com/author/sasha-polakow-suransky/\" target=\"_blank\">https://foreignpolicy.com/author/sasha-polakow-suransky/</a>"
      ],
      "text/plain": [
       "<IPython.core.display.HTML object>"
      ]
     },
     "metadata": {},
     "output_type": "display_data"
    },
    {
     "data": {
      "text/html": [
       "<a href=\"https://foreignpolicy.com/2023/06/19/afrofuturism-exhibition-dc-smithsonian-museum-nmaahc-review/\" target=\"_blank\">https://foreignpolicy.com/2023/06/19/afrofuturism-exhibition-dc-smithsonian-museum-nmaahc-review/</a>"
      ],
      "text/plain": [
       "<IPython.core.display.HTML object>"
      ]
     },
     "metadata": {},
     "output_type": "display_data"
    },
    {
     "data": {
      "text/html": [
       "<a href=\"https://foreignpolicy.com/category/review/\" target=\"_blank\">https://foreignpolicy.com/category/review/</a>"
      ],
      "text/plain": [
       "<IPython.core.display.HTML object>"
      ]
     },
     "metadata": {},
     "output_type": "display_data"
    },
    {
     "data": {
      "text/html": [
       "<a href=\"https://foreignpolicy.com/author/chanda-prescod-weinstein/\" target=\"_blank\">https://foreignpolicy.com/author/chanda-prescod-weinstein/</a>"
      ],
      "text/plain": [
       "<IPython.core.display.HTML object>"
      ]
     },
     "metadata": {},
     "output_type": "display_data"
    },
    {
     "data": {
      "text/html": [
       "<a href=\"https://foreignpolicy.com/2023/08/18/brics-summit-china-russia-expansion-dollar-currency/\" target=\"_blank\">https://foreignpolicy.com/2023/08/18/brics-summit-china-russia-expansion-dollar-currency/</a>"
      ],
      "text/plain": [
       "<IPython.core.display.HTML object>"
      ]
     },
     "metadata": {},
     "output_type": "display_data"
    },
    {
     "data": {
      "text/html": [
       "<a href=\"https://foreignpolicy.com/2023/08/18/brics-summit-china-russia-expansion-dollar-currency/\" target=\"_blank\">https://foreignpolicy.com/2023/08/18/brics-summit-china-russia-expansion-dollar-currency/</a>"
      ],
      "text/plain": [
       "<IPython.core.display.HTML object>"
      ]
     },
     "metadata": {},
     "output_type": "display_data"
    },
    {
     "data": {
      "text/html": [
       "<a href=\"https://foreignpolicy.com/category/news/report/\" target=\"_blank\">https://foreignpolicy.com/category/news/report/</a>"
      ],
      "text/plain": [
       "<IPython.core.display.HTML object>"
      ]
     },
     "metadata": {},
     "output_type": "display_data"
    },
    {
     "data": {
      "text/html": [
       "<a href=\"https://foreignpolicy.com/author/robbie-gramer/\" target=\"_blank\">https://foreignpolicy.com/author/robbie-gramer/</a>"
      ],
      "text/plain": [
       "<IPython.core.display.HTML object>"
      ]
     },
     "metadata": {},
     "output_type": "display_data"
    },
    {
     "data": {
      "text/html": [
       "<a href=\"https://foreignpolicy.com/author/christina-lu/\" target=\"_blank\">https://foreignpolicy.com/author/christina-lu/</a>"
      ],
      "text/plain": [
       "<IPython.core.display.HTML object>"
      ]
     },
     "metadata": {},
     "output_type": "display_data"
    },
    {
     "data": {
      "text/html": [
       "<a href=\"https://foreignpolicy.com/2023/04/24/brics-currency-end-dollar-dominance-united-states-russia-china/\" target=\"_blank\">https://foreignpolicy.com/2023/04/24/brics-currency-end-dollar-dominance-united-states-russia-china/</a>"
      ],
      "text/plain": [
       "<IPython.core.display.HTML object>"
      ]
     },
     "metadata": {},
     "output_type": "display_data"
    },
    {
     "data": {
      "text/html": [
       "<a href=\"https://foreignpolicy.com/2023/04/24/brics-currency-end-dollar-dominance-united-states-russia-china/\" target=\"_blank\">https://foreignpolicy.com/2023/04/24/brics-currency-end-dollar-dominance-united-states-russia-china/</a>"
      ],
      "text/plain": [
       "<IPython.core.display.HTML object>"
      ]
     },
     "metadata": {},
     "output_type": "display_data"
    },
    {
     "data": {
      "text/html": [
       "<a href=\"https://foreignpolicy.com/category/analysis/argument/\" target=\"_blank\">https://foreignpolicy.com/category/analysis/argument/</a>"
      ],
      "text/plain": [
       "<IPython.core.display.HTML object>"
      ]
     },
     "metadata": {},
     "output_type": "display_data"
    },
    {
     "data": {
      "text/html": [
       "<a href=\"https://foreignpolicy.com/author/joseph-w-sullivan/\" target=\"_blank\">https://foreignpolicy.com/author/joseph-w-sullivan/</a>"
      ],
      "text/plain": [
       "<IPython.core.display.HTML object>"
      ]
     },
     "metadata": {},
     "output_type": "display_data"
    },
    {
     "data": {
      "text/html": [
       "<a href=\"https://foreignpolicy.com/2023/06/22/brics-summit-brazil-russia-india-china-south-africa-putin-nonalignment-global-south/\" target=\"_blank\">https://foreignpolicy.com/2023/06/22/brics-summit-brazil-russia-india-china-south-africa-putin-nonalignment-global-south/</a>"
      ],
      "text/plain": [
       "<IPython.core.display.HTML object>"
      ]
     },
     "metadata": {},
     "output_type": "display_data"
    },
    {
     "data": {
      "text/html": [
       "<a href=\"https://foreignpolicy.com/2023/06/22/brics-summit-brazil-russia-india-china-south-africa-putin-nonalignment-global-south/\" target=\"_blank\">https://foreignpolicy.com/2023/06/22/brics-summit-brazil-russia-india-china-south-africa-putin-nonalignment-global-south/</a>"
      ],
      "text/plain": [
       "<IPython.core.display.HTML object>"
      ]
     },
     "metadata": {},
     "output_type": "display_data"
    },
    {
     "data": {
      "text/html": [
       "<a href=\"https://foreignpolicy.com/category/analysis/argument/\" target=\"_blank\">https://foreignpolicy.com/category/analysis/argument/</a>"
      ],
      "text/plain": [
       "<IPython.core.display.HTML object>"
      ]
     },
     "metadata": {},
     "output_type": "display_data"
    },
    {
     "data": {
      "text/html": [
       "<a href=\"https://foreignpolicy.com/author/oliver-stuenkel/\" target=\"_blank\">https://foreignpolicy.com/author/oliver-stuenkel/</a>"
      ],
      "text/plain": [
       "<IPython.core.display.HTML object>"
      ]
     },
     "metadata": {},
     "output_type": "display_data"
    },
    {
     "data": {
      "text/html": [
       "<a href=\"https://foreignpolicy.com/2023/08/18/brics-summit-bank-economy-dollar-currency-inflation-russia-ukraine-putin/\" target=\"_blank\">https://foreignpolicy.com/2023/08/18/brics-summit-bank-economy-dollar-currency-inflation-russia-ukraine-putin/</a>"
      ],
      "text/plain": [
       "<IPython.core.display.HTML object>"
      ]
     },
     "metadata": {},
     "output_type": "display_data"
    },
    {
     "data": {
      "text/html": [
       "<a href=\"https://foreignpolicy.com/2023/08/18/brics-summit-bank-economy-dollar-currency-inflation-russia-ukraine-putin/\" target=\"_blank\">https://foreignpolicy.com/2023/08/18/brics-summit-bank-economy-dollar-currency-inflation-russia-ukraine-putin/</a>"
      ],
      "text/plain": [
       "<IPython.core.display.HTML object>"
      ]
     },
     "metadata": {},
     "output_type": "display_data"
    },
    {
     "data": {
      "text/html": [
       "<a href=\"https://foreignpolicy.com/category/latin-america-brief/\" target=\"_blank\">https://foreignpolicy.com/category/latin-america-brief/</a>"
      ],
      "text/plain": [
       "<IPython.core.display.HTML object>"
      ]
     },
     "metadata": {},
     "output_type": "display_data"
    },
    {
     "data": {
      "text/html": [
       "<a href=\"https://foreignpolicy.com/author/catherine-osborn/\" target=\"_blank\">https://foreignpolicy.com/author/catherine-osborn/</a>"
      ],
      "text/plain": [
       "<IPython.core.display.HTML object>"
      ]
     },
     "metadata": {},
     "output_type": "display_data"
    },
    {
     "data": {
      "text/html": [
       "<a href=\"https://foreignpolicy.com/2023/08/14/fighter-jet-sales-global-us-market-f-35-combat-aircraft-engines-defense/\" target=\"_blank\">https://foreignpolicy.com/2023/08/14/fighter-jet-sales-global-us-market-f-35-combat-aircraft-engines-defense/</a>"
      ],
      "text/plain": [
       "<IPython.core.display.HTML object>"
      ]
     },
     "metadata": {},
     "output_type": "display_data"
    },
    {
     "data": {
      "text/html": [
       "<a href=\"https://foreignpolicy.com/2023/08/14/fighter-jet-sales-global-us-market-f-35-combat-aircraft-engines-defense/\" target=\"_blank\">https://foreignpolicy.com/2023/08/14/fighter-jet-sales-global-us-market-f-35-combat-aircraft-engines-defense/</a>"
      ],
      "text/plain": [
       "<IPython.core.display.HTML object>"
      ]
     },
     "metadata": {},
     "output_type": "display_data"
    },
    {
     "data": {
      "text/html": [
       "<a href=\"https://foreignpolicy.com/category/analysis/argument/\" target=\"_blank\">https://foreignpolicy.com/category/analysis/argument/</a>"
      ],
      "text/plain": [
       "<IPython.core.display.HTML object>"
      ]
     },
     "metadata": {},
     "output_type": "display_data"
    },
    {
     "data": {
      "text/html": [
       "<a href=\"https://foreignpolicy.com/author/richard-aboulafia/\" target=\"_blank\">https://foreignpolicy.com/author/richard-aboulafia/</a>"
      ],
      "text/plain": [
       "<IPython.core.display.HTML object>"
      ]
     },
     "metadata": {},
     "output_type": "display_data"
    },
    {
     "data": {
      "text/html": [
       "<a href=\"https://foreignpolicy.com/2023/08/15/irans-grand-strategy-has-fundamentally-shifted/\" target=\"_blank\">https://foreignpolicy.com/2023/08/15/irans-grand-strategy-has-fundamentally-shifted/</a>"
      ],
      "text/plain": [
       "<IPython.core.display.HTML object>"
      ]
     },
     "metadata": {},
     "output_type": "display_data"
    },
    {
     "data": {
      "text/html": [
       "<a href=\"https://foreignpolicy.com/2023/08/15/irans-grand-strategy-has-fundamentally-shifted/\" target=\"_blank\">https://foreignpolicy.com/2023/08/15/irans-grand-strategy-has-fundamentally-shifted/</a>"
      ],
      "text/plain": [
       "<IPython.core.display.HTML object>"
      ]
     },
     "metadata": {},
     "output_type": "display_data"
    },
    {
     "data": {
      "text/html": [
       "<a href=\"https://foreignpolicy.com/channel/analysis/\" target=\"_blank\">https://foreignpolicy.com/channel/analysis/</a>"
      ],
      "text/plain": [
       "<IPython.core.display.HTML object>"
      ]
     },
     "metadata": {},
     "output_type": "display_data"
    },
    {
     "data": {
      "text/html": [
       "<a href=\"https://foreignpolicy.com/author/kenneth-m-pollack/\" target=\"_blank\">https://foreignpolicy.com/author/kenneth-m-pollack/</a>"
      ],
      "text/plain": [
       "<IPython.core.display.HTML object>"
      ]
     },
     "metadata": {},
     "output_type": "display_data"
    },
    {
     "data": {
      "text/html": [
       "<a href=\"https://foreignpolicy.com/2023/08/16/india-china-south-asia-geopolitics-competition-strategy-modi-bangladesh-sri-lanka-bhutan-nepal-maldives-afghanistan/\" target=\"_blank\">https://foreignpolicy.com/2023/08/16/india-china-south-asia-geopolitics-competition-strategy-modi-bangladesh-sri-lanka-bhutan-nepal-maldives-afghanistan/</a>"
      ],
      "text/plain": [
       "<IPython.core.display.HTML object>"
      ]
     },
     "metadata": {},
     "output_type": "display_data"
    },
    {
     "data": {
      "text/html": [
       "<a href=\"https://foreignpolicy.com/2023/08/16/india-china-south-asia-geopolitics-competition-strategy-modi-bangladesh-sri-lanka-bhutan-nepal-maldives-afghanistan/\" target=\"_blank\">https://foreignpolicy.com/2023/08/16/india-china-south-asia-geopolitics-competition-strategy-modi-bangladesh-sri-lanka-bhutan-nepal-maldives-afghanistan/</a>"
      ],
      "text/plain": [
       "<IPython.core.display.HTML object>"
      ]
     },
     "metadata": {},
     "output_type": "display_data"
    },
    {
     "data": {
      "text/html": [
       "<a href=\"https://foreignpolicy.com/channel/analysis/\" target=\"_blank\">https://foreignpolicy.com/channel/analysis/</a>"
      ],
      "text/plain": [
       "<IPython.core.display.HTML object>"
      ]
     },
     "metadata": {},
     "output_type": "display_data"
    },
    {
     "data": {
      "text/html": [
       "<a href=\"https://foreignpolicy.com/author/derek-grossman/\" target=\"_blank\">https://foreignpolicy.com/author/derek-grossman/</a>"
      ],
      "text/plain": [
       "<IPython.core.display.HTML object>"
      ]
     },
     "metadata": {},
     "output_type": "display_data"
    },
    {
     "data": {
      "text/html": [
       "<a href=\"https://foreignpolicy.com/2023/08/11/climate-change-critical-infrastructure-heat-flood-energy-transportation-housing/\" target=\"_blank\">https://foreignpolicy.com/2023/08/11/climate-change-critical-infrastructure-heat-flood-energy-transportation-housing/</a>"
      ],
      "text/plain": [
       "<IPython.core.display.HTML object>"
      ]
     },
     "metadata": {},
     "output_type": "display_data"
    },
    {
     "data": {
      "text/html": [
       "<a href=\"https://foreignpolicy.com/2023/08/11/climate-change-critical-infrastructure-heat-flood-energy-transportation-housing/\" target=\"_blank\">https://foreignpolicy.com/2023/08/11/climate-change-critical-infrastructure-heat-flood-energy-transportation-housing/</a>"
      ],
      "text/plain": [
       "<IPython.core.display.HTML object>"
      ]
     },
     "metadata": {},
     "output_type": "display_data"
    },
    {
     "data": {
      "text/html": [
       "<a href=\"https://foreignpolicy.com/category/news/report/\" target=\"_blank\">https://foreignpolicy.com/category/news/report/</a>"
      ],
      "text/plain": [
       "<IPython.core.display.HTML object>"
      ]
     },
     "metadata": {},
     "output_type": "display_data"
    },
    {
     "data": {
      "text/html": [
       "<a href=\"https://foreignpolicy.com/author/christina-lu/\" target=\"_blank\">https://foreignpolicy.com/author/christina-lu/</a>"
      ],
      "text/plain": [
       "<IPython.core.display.HTML object>"
      ]
     },
     "metadata": {},
     "output_type": "display_data"
    },
    {
     "data": {
      "text/html": [
       "<a href=\"https://foreignpolicy.com/author/brawley-benson/\" target=\"_blank\">https://foreignpolicy.com/author/brawley-benson/</a>"
      ],
      "text/plain": [
       "<IPython.core.display.HTML object>"
      ]
     },
     "metadata": {},
     "output_type": "display_data"
    },
    {
     "data": {
      "text/html": [
       "<a href=\"/live\" target=\"_blank\">/live</a>"
      ],
      "text/plain": [
       "<IPython.core.display.HTML object>"
      ]
     },
     "metadata": {},
     "output_type": "display_data"
    },
    {
     "data": {
      "text/html": [
       "<a href=\"/live/#top\" target=\"_blank\">/live/#top</a>"
      ],
      "text/plain": [
       "<IPython.core.display.HTML object>"
      ]
     },
     "metadata": {},
     "output_type": "display_data"
    },
    {
     "data": {
      "text/html": [
       "<a href=\"/live/#past\" target=\"_blank\">/live/#past</a>"
      ],
      "text/plain": [
       "<IPython.core.display.HTML object>"
      ]
     },
     "metadata": {},
     "output_type": "display_data"
    },
    {
     "data": {
      "text/html": [
       "<a href=\"/live/#about\" target=\"_blank\">/live/#about</a>"
      ],
      "text/plain": [
       "<IPython.core.display.HTML object>"
      ]
     },
     "metadata": {},
     "output_type": "display_data"
    },
    {
     "data": {
      "text/html": [
       "<a href=\"https://foreignpolicy.com/live/fp-live-the-ask-me-anything-edition/\" target=\"_blank\">https://foreignpolicy.com/live/fp-live-the-ask-me-anything-edition/</a>"
      ],
      "text/plain": [
       "<IPython.core.display.HTML object>"
      ]
     },
     "metadata": {},
     "output_type": "display_data"
    },
    {
     "data": {
      "text/html": [
       "<a href=\"https://foreignpolicy.com/live/fp-live-the-ask-me-anything-edition/\" target=\"_blank\">https://foreignpolicy.com/live/fp-live-the-ask-me-anything-edition/</a>"
      ],
      "text/plain": [
       "<IPython.core.display.HTML object>"
      ]
     },
     "metadata": {},
     "output_type": "display_data"
    },
    {
     "data": {
      "text/html": [
       "<a href=\"https://foreignpolicy.com/live/fp-live-the-ask-me-anything-edition/\" target=\"_blank\">https://foreignpolicy.com/live/fp-live-the-ask-me-anything-edition/</a>"
      ],
      "text/plain": [
       "<IPython.core.display.HTML object>"
      ]
     },
     "metadata": {},
     "output_type": "display_data"
    },
    {
     "data": {
      "text/html": [
       "<a href=\"https://foreignpolicy.com/live/fp-live-the-ask-me-anything-edition/#ask-a-question\" target=\"_blank\">https://foreignpolicy.com/live/fp-live-the-ask-me-anything-edition/#ask-a-question</a>"
      ],
      "text/plain": [
       "<IPython.core.display.HTML object>"
      ]
     },
     "metadata": {},
     "output_type": "display_data"
    },
    {
     "data": {
      "text/html": [
       "<a href=\"https://foreignpolicy.com/live/fp-live-the-ask-me-anything-edition/#ask-a-question\" target=\"_blank\">https://foreignpolicy.com/live/fp-live-the-ask-me-anything-edition/#ask-a-question</a>"
      ],
      "text/plain": [
       "<IPython.core.display.HTML object>"
      ]
     },
     "metadata": {},
     "output_type": "display_data"
    },
    {
     "data": {
      "text/html": [
       "<a href=\"/subscribe\" target=\"_blank\">/subscribe</a>"
      ],
      "text/plain": [
       "<IPython.core.display.HTML object>"
      ]
     },
     "metadata": {},
     "output_type": "display_data"
    },
    {
     "data": {
      "text/html": [
       "<a href=\"javascript:void(0);\" target=\"_blank\">javascript:void(0);</a>"
      ],
      "text/plain": [
       "<IPython.core.display.HTML object>"
      ]
     },
     "metadata": {},
     "output_type": "display_data"
    },
    {
     "data": {
      "text/html": [
       "<a href=\"/subscribe\" target=\"_blank\">/subscribe</a>"
      ],
      "text/plain": [
       "<IPython.core.display.HTML object>"
      ]
     },
     "metadata": {},
     "output_type": "display_data"
    },
    {
     "data": {
      "text/html": [
       "<a href=\"javascript:void(0);\" target=\"_blank\">javascript:void(0);</a>"
      ],
      "text/plain": [
       "<IPython.core.display.HTML object>"
      ]
     },
     "metadata": {},
     "output_type": "display_data"
    },
    {
     "data": {
      "text/html": [
       "<a href=\"https://foreignpolicy.com/live/fp-live-the-ask-me-anything-edition/\" target=\"_blank\">https://foreignpolicy.com/live/fp-live-the-ask-me-anything-edition/</a>"
      ],
      "text/plain": [
       "<IPython.core.display.HTML object>"
      ]
     },
     "metadata": {},
     "output_type": "display_data"
    },
    {
     "data": {
      "text/html": [
       "<a href=\"https://foreignpolicy.com/live/inside-manipurs-ethnic-violence/\" target=\"_blank\">https://foreignpolicy.com/live/inside-manipurs-ethnic-violence/</a>"
      ],
      "text/plain": [
       "<IPython.core.display.HTML object>"
      ]
     },
     "metadata": {},
     "output_type": "display_data"
    },
    {
     "data": {
      "text/html": [
       "<a href=\"https://foreignpolicy.com/live/inside-manipurs-ethnic-violence/\" target=\"_blank\">https://foreignpolicy.com/live/inside-manipurs-ethnic-violence/</a>"
      ],
      "text/plain": [
       "<IPython.core.display.HTML object>"
      ]
     },
     "metadata": {},
     "output_type": "display_data"
    },
    {
     "data": {
      "text/html": [
       "<a href=\"https://foreignpolicy.com/live/inside-bidens-new-tech-policy/\" target=\"_blank\">https://foreignpolicy.com/live/inside-bidens-new-tech-policy/</a>"
      ],
      "text/plain": [
       "<IPython.core.display.HTML object>"
      ]
     },
     "metadata": {},
     "output_type": "display_data"
    },
    {
     "data": {
      "text/html": [
       "<a href=\"https://foreignpolicy.com/live/inside-bidens-new-tech-policy/\" target=\"_blank\">https://foreignpolicy.com/live/inside-bidens-new-tech-policy/</a>"
      ],
      "text/plain": [
       "<IPython.core.display.HTML object>"
      ]
     },
     "metadata": {},
     "output_type": "display_data"
    },
    {
     "data": {
      "text/html": [
       "<a href=\"https://foreignpolicy.com/live/foreign-policy-for-the-middle-class-explained/\" target=\"_blank\">https://foreignpolicy.com/live/foreign-policy-for-the-middle-class-explained/</a>"
      ],
      "text/plain": [
       "<IPython.core.display.HTML object>"
      ]
     },
     "metadata": {},
     "output_type": "display_data"
    },
    {
     "data": {
      "text/html": [
       "<a href=\"https://foreignpolicy.com/live/foreign-policy-for-the-middle-class-explained/\" target=\"_blank\">https://foreignpolicy.com/live/foreign-policy-for-the-middle-class-explained/</a>"
      ],
      "text/plain": [
       "<IPython.core.display.HTML object>"
      ]
     },
     "metadata": {},
     "output_type": "display_data"
    },
    {
     "data": {
      "text/html": [
       "<a href=\"https://foreignpolicy.com/live/how-to-reset-the-u-s-china-relationship/\" target=\"_blank\">https://foreignpolicy.com/live/how-to-reset-the-u-s-china-relationship/</a>"
      ],
      "text/plain": [
       "<IPython.core.display.HTML object>"
      ]
     },
     "metadata": {},
     "output_type": "display_data"
    },
    {
     "data": {
      "text/html": [
       "<a href=\"https://foreignpolicy.com/live/how-to-reset-the-u-s-china-relationship/\" target=\"_blank\">https://foreignpolicy.com/live/how-to-reset-the-u-s-china-relationship/</a>"
      ],
      "text/plain": [
       "<IPython.core.display.HTML object>"
      ]
     },
     "metadata": {},
     "output_type": "display_data"
    },
    {
     "data": {
      "text/html": [
       "<a href=\"https://foreignpolicy.com/2023/08/20/the-failed-life-project-of-timothy-garton-ash/\" target=\"_blank\">https://foreignpolicy.com/2023/08/20/the-failed-life-project-of-timothy-garton-ash/</a>"
      ],
      "text/plain": [
       "<IPython.core.display.HTML object>"
      ]
     },
     "metadata": {},
     "output_type": "display_data"
    },
    {
     "data": {
      "text/html": [
       "<a href=\"https://foreignpolicy.com/2023/08/20/the-failed-life-project-of-timothy-garton-ash/\" target=\"_blank\">https://foreignpolicy.com/2023/08/20/the-failed-life-project-of-timothy-garton-ash/</a>"
      ],
      "text/plain": [
       "<IPython.core.display.HTML object>"
      ]
     },
     "metadata": {},
     "output_type": "display_data"
    },
    {
     "data": {
      "text/html": [
       "<a href=\"https://foreignpolicy.com/category/review/\" target=\"_blank\">https://foreignpolicy.com/category/review/</a>"
      ],
      "text/plain": [
       "<IPython.core.display.HTML object>"
      ]
     },
     "metadata": {},
     "output_type": "display_data"
    },
    {
     "data": {
      "text/html": [
       "<a href=\"https://foreignpolicy.com/author/blake-smith/\" target=\"_blank\">https://foreignpolicy.com/author/blake-smith/</a>"
      ],
      "text/plain": [
       "<IPython.core.display.HTML object>"
      ]
     },
     "metadata": {},
     "output_type": "display_data"
    },
    {
     "data": {
      "text/html": [
       "<a href=\"https://foreignpolicy.com/2023/08/21/oppenheimer-movie-atom-bomb-climate-change-geoengineering-solar-radiation-modification-srm-regulation/\" target=\"_blank\">https://foreignpolicy.com/2023/08/21/oppenheimer-movie-atom-bomb-climate-change-geoengineering-solar-radiation-modification-srm-regulation/</a>"
      ],
      "text/plain": [
       "<IPython.core.display.HTML object>"
      ]
     },
     "metadata": {},
     "output_type": "display_data"
    },
    {
     "data": {
      "text/html": [
       "<a href=\"https://foreignpolicy.com/2023/08/21/oppenheimer-movie-atom-bomb-climate-change-geoengineering-solar-radiation-modification-srm-regulation/\" target=\"_blank\">https://foreignpolicy.com/2023/08/21/oppenheimer-movie-atom-bomb-climate-change-geoengineering-solar-radiation-modification-srm-regulation/</a>"
      ],
      "text/plain": [
       "<IPython.core.display.HTML object>"
      ]
     },
     "metadata": {},
     "output_type": "display_data"
    },
    {
     "data": {
      "text/html": [
       "<a href=\"https://foreignpolicy.com/channel/analysis/\" target=\"_blank\">https://foreignpolicy.com/channel/analysis/</a>"
      ],
      "text/plain": [
       "<IPython.core.display.HTML object>"
      ]
     },
     "metadata": {},
     "output_type": "display_data"
    },
    {
     "data": {
      "text/html": [
       "<a href=\"https://foreignpolicy.com/author/cynthia-scharf/\" target=\"_blank\">https://foreignpolicy.com/author/cynthia-scharf/</a>"
      ],
      "text/plain": [
       "<IPython.core.display.HTML object>"
      ]
     },
     "metadata": {},
     "output_type": "display_data"
    },
    {
     "data": {
      "text/html": [
       "<a href=\"https://foreignpolicy.com/2023/08/21/ukraine-russia-war-europe-language-anti-colonialism/\" target=\"_blank\">https://foreignpolicy.com/2023/08/21/ukraine-russia-war-europe-language-anti-colonialism/</a>"
      ],
      "text/plain": [
       "<IPython.core.display.HTML object>"
      ]
     },
     "metadata": {},
     "output_type": "display_data"
    },
    {
     "data": {
      "text/html": [
       "<a href=\"https://foreignpolicy.com/2023/08/21/ukraine-russia-war-europe-language-anti-colonialism/\" target=\"_blank\">https://foreignpolicy.com/2023/08/21/ukraine-russia-war-europe-language-anti-colonialism/</a>"
      ],
      "text/plain": [
       "<IPython.core.display.HTML object>"
      ]
     },
     "metadata": {},
     "output_type": "display_data"
    },
    {
     "data": {
      "text/html": [
       "<a href=\"https://foreignpolicy.com/category/analysis/argument/\" target=\"_blank\">https://foreignpolicy.com/category/analysis/argument/</a>"
      ],
      "text/plain": [
       "<IPython.core.display.HTML object>"
      ]
     },
     "metadata": {},
     "output_type": "display_data"
    },
    {
     "data": {
      "text/html": [
       "<a href=\"https://foreignpolicy.com/author/emily-couch/\" target=\"_blank\">https://foreignpolicy.com/author/emily-couch/</a>"
      ],
      "text/plain": [
       "<IPython.core.display.HTML object>"
      ]
     },
     "metadata": {},
     "output_type": "display_data"
    },
    {
     "data": {
      "text/html": [
       "<a href=\"https://foreignpolicy.com/author/kimberly-st-julian-varnon/\" target=\"_blank\">https://foreignpolicy.com/author/kimberly-st-julian-varnon/</a>"
      ],
      "text/plain": [
       "<IPython.core.display.HTML object>"
      ]
     },
     "metadata": {},
     "output_type": "display_data"
    },
    {
     "data": {
      "text/html": [
       "<a href=\"https://foreignpolicy.com/2023/08/22/france-riots-police-banlieues-macron-colorblindness/\" target=\"_blank\">https://foreignpolicy.com/2023/08/22/france-riots-police-banlieues-macron-colorblindness/</a>"
      ],
      "text/plain": [
       "<IPython.core.display.HTML object>"
      ]
     },
     "metadata": {},
     "output_type": "display_data"
    },
    {
     "data": {
      "text/html": [
       "<a href=\"https://foreignpolicy.com/2023/08/22/france-riots-police-banlieues-macron-colorblindness/\" target=\"_blank\">https://foreignpolicy.com/2023/08/22/france-riots-police-banlieues-macron-colorblindness/</a>"
      ],
      "text/plain": [
       "<IPython.core.display.HTML object>"
      ]
     },
     "metadata": {},
     "output_type": "display_data"
    },
    {
     "data": {
      "text/html": [
       "<a href=\"https://foreignpolicy.com/category/analysis/argument/\" target=\"_blank\">https://foreignpolicy.com/category/analysis/argument/</a>"
      ],
      "text/plain": [
       "<IPython.core.display.HTML object>"
      ]
     },
     "metadata": {},
     "output_type": "display_data"
    },
    {
     "data": {
      "text/html": [
       "<a href=\"https://foreignpolicy.com/author/rabah-arezki/\" target=\"_blank\">https://foreignpolicy.com/author/rabah-arezki/</a>"
      ],
      "text/plain": [
       "<IPython.core.display.HTML object>"
      ]
     },
     "metadata": {},
     "output_type": "display_data"
    },
    {
     "data": {
      "text/html": [
       "<a href=\"https://foreignpolicy.com/projects/foreign-policy-books-global-readers/\" target=\"_blank\">https://foreignpolicy.com/projects/foreign-policy-books-global-readers/</a>"
      ],
      "text/plain": [
       "<IPython.core.display.HTML object>"
      ]
     },
     "metadata": {},
     "output_type": "display_data"
    },
    {
     "data": {
      "text/html": [
       "<a href=\"https://foreignpolicy.com/2023/07/30/china-propaganda-twitter-russia/\" target=\"_blank\">https://foreignpolicy.com/2023/07/30/china-propaganda-twitter-russia/</a>"
      ],
      "text/plain": [
       "<IPython.core.display.HTML object>"
      ]
     },
     "metadata": {},
     "output_type": "display_data"
    },
    {
     "data": {
      "text/html": [
       "<a href=\"https://foreignpolicy.com/2023/07/30/china-propaganda-twitter-russia/\" target=\"_blank\">https://foreignpolicy.com/2023/07/30/china-propaganda-twitter-russia/</a>"
      ],
      "text/plain": [
       "<IPython.core.display.HTML object>"
      ]
     },
     "metadata": {},
     "output_type": "display_data"
    },
    {
     "data": {
      "text/html": [
       "<a href=\"https://foreignpolicy.com/category/excerpt/\" target=\"_blank\">https://foreignpolicy.com/category/excerpt/</a>"
      ],
      "text/plain": [
       "<IPython.core.display.HTML object>"
      ]
     },
     "metadata": {},
     "output_type": "display_data"
    },
    {
     "data": {
      "text/html": [
       "<a href=\"https://foreignpolicy.com/author/bethany-allen-ebrahimian/\" target=\"_blank\">https://foreignpolicy.com/author/bethany-allen-ebrahimian/</a>"
      ],
      "text/plain": [
       "<IPython.core.display.HTML object>"
      ]
     },
     "metadata": {},
     "output_type": "display_data"
    },
    {
     "data": {
      "text/html": [
       "<a href=\"https://foreignpolicy.com/2023/07/30/race-black-lives-matter-us-uk-britain-american-culture-wars-tomiwa-owolade/\" target=\"_blank\">https://foreignpolicy.com/2023/07/30/race-black-lives-matter-us-uk-britain-american-culture-wars-tomiwa-owolade/</a>"
      ],
      "text/plain": [
       "<IPython.core.display.HTML object>"
      ]
     },
     "metadata": {},
     "output_type": "display_data"
    },
    {
     "data": {
      "text/html": [
       "<a href=\"https://foreignpolicy.com/2023/07/30/race-black-lives-matter-us-uk-britain-american-culture-wars-tomiwa-owolade/\" target=\"_blank\">https://foreignpolicy.com/2023/07/30/race-black-lives-matter-us-uk-britain-american-culture-wars-tomiwa-owolade/</a>"
      ],
      "text/plain": [
       "<IPython.core.display.HTML object>"
      ]
     },
     "metadata": {},
     "output_type": "display_data"
    },
    {
     "data": {
      "text/html": [
       "<a href=\"https://foreignpolicy.com/category/review/\" target=\"_blank\">https://foreignpolicy.com/category/review/</a>"
      ],
      "text/plain": [
       "<IPython.core.display.HTML object>"
      ]
     },
     "metadata": {},
     "output_type": "display_data"
    },
    {
     "data": {
      "text/html": [
       "<a href=\"https://foreignpolicy.com/author/angela-saini/\" target=\"_blank\">https://foreignpolicy.com/author/angela-saini/</a>"
      ],
      "text/plain": [
       "<IPython.core.display.HTML object>"
      ]
     },
     "metadata": {},
     "output_type": "display_data"
    },
    {
     "data": {
      "text/html": [
       "<a href=\"https://foreignpolicy.com/2023/07/29/keir-starmer-project-eagleton-uk-politics-review/\" target=\"_blank\">https://foreignpolicy.com/2023/07/29/keir-starmer-project-eagleton-uk-politics-review/</a>"
      ],
      "text/plain": [
       "<IPython.core.display.HTML object>"
      ]
     },
     "metadata": {},
     "output_type": "display_data"
    },
    {
     "data": {
      "text/html": [
       "<a href=\"https://foreignpolicy.com/2023/07/29/keir-starmer-project-eagleton-uk-politics-review/\" target=\"_blank\">https://foreignpolicy.com/2023/07/29/keir-starmer-project-eagleton-uk-politics-review/</a>"
      ],
      "text/plain": [
       "<IPython.core.display.HTML object>"
      ]
     },
     "metadata": {},
     "output_type": "display_data"
    },
    {
     "data": {
      "text/html": [
       "<a href=\"https://foreignpolicy.com/category/review/\" target=\"_blank\">https://foreignpolicy.com/category/review/</a>"
      ],
      "text/plain": [
       "<IPython.core.display.HTML object>"
      ]
     },
     "metadata": {},
     "output_type": "display_data"
    },
    {
     "data": {
      "text/html": [
       "<a href=\"https://foreignpolicy.com/author/jamie-maxwell/\" target=\"_blank\">https://foreignpolicy.com/author/jamie-maxwell/</a>"
      ],
      "text/plain": [
       "<IPython.core.display.HTML object>"
      ]
     },
     "metadata": {},
     "output_type": "display_data"
    },
    {
     "data": {
      "text/html": [
       "<a href=\"https://foreignpolicy.com/2023/07/23/history-soviet-union-everyday-life-russia-ukraine/\" target=\"_blank\">https://foreignpolicy.com/2023/07/23/history-soviet-union-everyday-life-russia-ukraine/</a>"
      ],
      "text/plain": [
       "<IPython.core.display.HTML object>"
      ]
     },
     "metadata": {},
     "output_type": "display_data"
    },
    {
     "data": {
      "text/html": [
       "<a href=\"https://foreignpolicy.com/2023/07/23/history-soviet-union-everyday-life-russia-ukraine/\" target=\"_blank\">https://foreignpolicy.com/2023/07/23/history-soviet-union-everyday-life-russia-ukraine/</a>"
      ],
      "text/plain": [
       "<IPython.core.display.HTML object>"
      ]
     },
     "metadata": {},
     "output_type": "display_data"
    },
    {
     "data": {
      "text/html": [
       "<a href=\"https://foreignpolicy.com/category/review/\" target=\"_blank\">https://foreignpolicy.com/category/review/</a>"
      ],
      "text/plain": [
       "<IPython.core.display.HTML object>"
      ]
     },
     "metadata": {},
     "output_type": "display_data"
    },
    {
     "data": {
      "text/html": [
       "<a href=\"https://foreignpolicy.com/author/sheila-fitzpatrick/\" target=\"_blank\">https://foreignpolicy.com/author/sheila-fitzpatrick/</a>"
      ],
      "text/plain": [
       "<IPython.core.display.HTML object>"
      ]
     },
     "metadata": {},
     "output_type": "display_data"
    },
    {
     "data": {
      "text/html": [
       "<a href=\"https://foreignpolicy.com/2023/07/23/russia-ruble-money-putin-dictatorship-soviet-union-tsars-history/\" target=\"_blank\">https://foreignpolicy.com/2023/07/23/russia-ruble-money-putin-dictatorship-soviet-union-tsars-history/</a>"
      ],
      "text/plain": [
       "<IPython.core.display.HTML object>"
      ]
     },
     "metadata": {},
     "output_type": "display_data"
    },
    {
     "data": {
      "text/html": [
       "<a href=\"https://foreignpolicy.com/2023/07/23/russia-ruble-money-putin-dictatorship-soviet-union-tsars-history/\" target=\"_blank\">https://foreignpolicy.com/2023/07/23/russia-ruble-money-putin-dictatorship-soviet-union-tsars-history/</a>"
      ],
      "text/plain": [
       "<IPython.core.display.HTML object>"
      ]
     },
     "metadata": {},
     "output_type": "display_data"
    },
    {
     "data": {
      "text/html": [
       "<a href=\"https://foreignpolicy.com/category/review/\" target=\"_blank\">https://foreignpolicy.com/category/review/</a>"
      ],
      "text/plain": [
       "<IPython.core.display.HTML object>"
      ]
     },
     "metadata": {},
     "output_type": "display_data"
    },
    {
     "data": {
      "text/html": [
       "<a href=\"https://foreignpolicy.com/author/carey-k-mott/\" target=\"_blank\">https://foreignpolicy.com/author/carey-k-mott/</a>"
      ],
      "text/plain": [
       "<IPython.core.display.HTML object>"
      ]
     },
     "metadata": {},
     "output_type": "display_data"
    },
    {
     "data": {
      "text/html": [
       "<a href=\"https://foreignpolicy.com/2023/07/22/great-britain-brexit-public-sector-budget/\" target=\"_blank\">https://foreignpolicy.com/2023/07/22/great-britain-brexit-public-sector-budget/</a>"
      ],
      "text/plain": [
       "<IPython.core.display.HTML object>"
      ]
     },
     "metadata": {},
     "output_type": "display_data"
    },
    {
     "data": {
      "text/html": [
       "<a href=\"https://foreignpolicy.com/2023/07/22/great-britain-brexit-public-sector-budget/\" target=\"_blank\">https://foreignpolicy.com/2023/07/22/great-britain-brexit-public-sector-budget/</a>"
      ],
      "text/plain": [
       "<IPython.core.display.HTML object>"
      ]
     },
     "metadata": {},
     "output_type": "display_data"
    },
    {
     "data": {
      "text/html": [
       "<a href=\"https://foreignpolicy.com/category/review/\" target=\"_blank\">https://foreignpolicy.com/category/review/</a>"
      ],
      "text/plain": [
       "<IPython.core.display.HTML object>"
      ]
     },
     "metadata": {},
     "output_type": "display_data"
    },
    {
     "data": {
      "text/html": [
       "<a href=\"https://foreignpolicy.com/author/stan-veuger/\" target=\"_blank\">https://foreignpolicy.com/author/stan-veuger/</a>"
      ],
      "text/plain": [
       "<IPython.core.display.HTML object>"
      ]
     },
     "metadata": {},
     "output_type": "display_data"
    },
    {
     "data": {
      "text/html": [
       "<a href=\"https://foreignpolicy.com/2023/07/20/summer-reading-guide-books-national-security-foreign-policy/\" target=\"_blank\">https://foreignpolicy.com/2023/07/20/summer-reading-guide-books-national-security-foreign-policy/</a>"
      ],
      "text/plain": [
       "<IPython.core.display.HTML object>"
      ]
     },
     "metadata": {},
     "output_type": "display_data"
    },
    {
     "data": {
      "text/html": [
       "<a href=\"https://foreignpolicy.com/2023/07/20/summer-reading-guide-books-national-security-foreign-policy/\" target=\"_blank\">https://foreignpolicy.com/2023/07/20/summer-reading-guide-books-national-security-foreign-policy/</a>"
      ],
      "text/plain": [
       "<IPython.core.display.HTML object>"
      ]
     },
     "metadata": {},
     "output_type": "display_data"
    },
    {
     "data": {
      "text/html": [
       "<a href=\"https://foreignpolicy.com/category/situation-report/\" target=\"_blank\">https://foreignpolicy.com/category/situation-report/</a>"
      ],
      "text/plain": [
       "<IPython.core.display.HTML object>"
      ]
     },
     "metadata": {},
     "output_type": "display_data"
    },
    {
     "data": {
      "text/html": [
       "<a href=\"https://foreignpolicy.com/author/robbie-gramer/\" target=\"_blank\">https://foreignpolicy.com/author/robbie-gramer/</a>"
      ],
      "text/plain": [
       "<IPython.core.display.HTML object>"
      ]
     },
     "metadata": {},
     "output_type": "display_data"
    },
    {
     "data": {
      "text/html": [
       "<a href=\"https://foreignpolicy.com/author/jack-detsch/\" target=\"_blank\">https://foreignpolicy.com/author/jack-detsch/</a>"
      ],
      "text/plain": [
       "<IPython.core.display.HTML object>"
      ]
     },
     "metadata": {},
     "output_type": "display_data"
    },
    {
     "data": {
      "text/html": [
       "<a href=\"/2023/04/24/brics-currency-end-dollar-dominance-united-states-russia-china/?tpcc=recirc_trending062921\" target=\"_blank\">/2023/04/24/brics-currency-end-dollar-dominance-united-states-russia-china/?tpcc=recirc_trending062921</a>"
      ],
      "text/plain": [
       "<IPython.core.display.HTML object>"
      ]
     },
     "metadata": {},
     "output_type": "display_data"
    },
    {
     "data": {
      "text/html": [
       "<a href=\"https://foreignpolicy.com/category/analysis/argument/\" target=\"_blank\">https://foreignpolicy.com/category/analysis/argument/</a>"
      ],
      "text/plain": [
       "<IPython.core.display.HTML object>"
      ]
     },
     "metadata": {},
     "output_type": "display_data"
    },
    {
     "data": {
      "text/html": [
       "<a href=\"https://foreignpolicy.com/author/joseph-w-sullivan/\" target=\"_blank\">https://foreignpolicy.com/author/joseph-w-sullivan/</a>"
      ],
      "text/plain": [
       "<IPython.core.display.HTML object>"
      ]
     },
     "metadata": {},
     "output_type": "display_data"
    },
    {
     "data": {
      "text/html": [
       "<a href=\"/2023/08/24/yevgeny-prigozhin-death-putin-russia-war-ukraine/?tpcc=recirc_trending062921\" target=\"_blank\">/2023/08/24/yevgeny-prigozhin-death-putin-russia-war-ukraine/?tpcc=recirc_trending062921</a>"
      ],
      "text/plain": [
       "<IPython.core.display.HTML object>"
      ]
     },
     "metadata": {},
     "output_type": "display_data"
    },
    {
     "data": {
      "text/html": [
       "<a href=\"https://foreignpolicy.com/category/analysis/argument/\" target=\"_blank\">https://foreignpolicy.com/category/analysis/argument/</a>"
      ],
      "text/plain": [
       "<IPython.core.display.HTML object>"
      ]
     },
     "metadata": {},
     "output_type": "display_data"
    },
    {
     "data": {
      "text/html": [
       "<a href=\"https://foreignpolicy.com/author/mark-lawrence-schrad/\" target=\"_blank\">https://foreignpolicy.com/author/mark-lawrence-schrad/</a>"
      ],
      "text/plain": [
       "<IPython.core.display.HTML object>"
      ]
     },
     "metadata": {},
     "output_type": "display_data"
    },
    {
     "data": {
      "text/html": [
       "<a href=\"/2023/08/24/netanyahu-saudi-mbs-nuclear-enrichment-arms-race/?tpcc=recirc_trending062921\" target=\"_blank\">/2023/08/24/netanyahu-saudi-mbs-nuclear-enrichment-arms-race/?tpcc=recirc_trending062921</a>"
      ],
      "text/plain": [
       "<IPython.core.display.HTML object>"
      ]
     },
     "metadata": {},
     "output_type": "display_data"
    },
    {
     "data": {
      "text/html": [
       "<a href=\"https://foreignpolicy.com/category/analysis/argument/\" target=\"_blank\">https://foreignpolicy.com/category/analysis/argument/</a>"
      ],
      "text/plain": [
       "<IPython.core.display.HTML object>"
      ]
     },
     "metadata": {},
     "output_type": "display_data"
    },
    {
     "data": {
      "text/html": [
       "<a href=\"https://foreignpolicy.com/author/azriel-bermant/\" target=\"_blank\">https://foreignpolicy.com/author/azriel-bermant/</a>"
      ],
      "text/plain": [
       "<IPython.core.display.HTML object>"
      ]
     },
     "metadata": {},
     "output_type": "display_data"
    },
    {
     "data": {
      "text/html": [
       "<a href=\"/2023/08/23/india-moon-landing-chandrayaan-geopolitics-modi/?tpcc=recirc_trending062921\" target=\"_blank\">/2023/08/23/india-moon-landing-chandrayaan-geopolitics-modi/?tpcc=recirc_trending062921</a>"
      ],
      "text/plain": [
       "<IPython.core.display.HTML object>"
      ]
     },
     "metadata": {},
     "output_type": "display_data"
    },
    {
     "data": {
      "text/html": [
       "<a href=\"https://foreignpolicy.com/category/south-asia-brief/\" target=\"_blank\">https://foreignpolicy.com/category/south-asia-brief/</a>"
      ],
      "text/plain": [
       "<IPython.core.display.HTML object>"
      ]
     },
     "metadata": {},
     "output_type": "display_data"
    },
    {
     "data": {
      "text/html": [
       "<a href=\"https://foreignpolicy.com/author/michael-kugelman/\" target=\"_blank\">https://foreignpolicy.com/author/michael-kugelman/</a>"
      ],
      "text/plain": [
       "<IPython.core.display.HTML object>"
      ]
     },
     "metadata": {},
     "output_type": "display_data"
    },
    {
     "data": {
      "text/html": [
       "<a href=\"/2023/08/24/biden-trilateral-summit-japan-south-korea-pyongyang-nuclear-war/?tpcc=recirc_trending062921\" target=\"_blank\">/2023/08/24/biden-trilateral-summit-japan-south-korea-pyongyang-nuclear-war/?tpcc=recirc_trending062921</a>"
      ],
      "text/plain": [
       "<IPython.core.display.HTML object>"
      ]
     },
     "metadata": {},
     "output_type": "display_data"
    },
    {
     "data": {
      "text/html": [
       "<a href=\"https://foreignpolicy.com/category/analysis/argument/\" target=\"_blank\">https://foreignpolicy.com/category/analysis/argument/</a>"
      ],
      "text/plain": [
       "<IPython.core.display.HTML object>"
      ]
     },
     "metadata": {},
     "output_type": "display_data"
    },
    {
     "data": {
      "text/html": [
       "<a href=\"https://foreignpolicy.com/author/robert-a-manning/\" target=\"_blank\">https://foreignpolicy.com/author/robert-a-manning/</a>"
      ],
      "text/plain": [
       "<IPython.core.display.HTML object>"
      ]
     },
     "metadata": {},
     "output_type": "display_data"
    },
    {
     "data": {
      "text/html": [
       "<a href=\"/2023/08/24/prigozhin-dead-plane-crash-russia-wagner-group-putin-violence/?tpcc=recirc_trending062921\" target=\"_blank\">/2023/08/24/prigozhin-dead-plane-crash-russia-wagner-group-putin-violence/?tpcc=recirc_trending062921</a>"
      ],
      "text/plain": [
       "<IPython.core.display.HTML object>"
      ]
     },
     "metadata": {},
     "output_type": "display_data"
    },
    {
     "data": {
      "text/html": [
       "<a href=\"https://foreignpolicy.com/channel/analysis/\" target=\"_blank\">https://foreignpolicy.com/channel/analysis/</a>"
      ],
      "text/plain": [
       "<IPython.core.display.HTML object>"
      ]
     },
     "metadata": {},
     "output_type": "display_data"
    },
    {
     "data": {
      "text/html": [
       "<a href=\"https://foreignpolicy.com/author/clara-broekaert/\" target=\"_blank\">https://foreignpolicy.com/author/clara-broekaert/</a>"
      ],
      "text/plain": [
       "<IPython.core.display.HTML object>"
      ]
     },
     "metadata": {},
     "output_type": "display_data"
    },
    {
     "data": {
      "text/html": [
       "<a href=\"https://foreignpolicy.com/author/colin-p-clarke/\" target=\"_blank\">https://foreignpolicy.com/author/colin-p-clarke/</a>"
      ],
      "text/plain": [
       "<IPython.core.display.HTML object>"
      ]
     },
     "metadata": {},
     "output_type": "display_data"
    },
    {
     "data": {
      "text/html": [
       "<a href=\"/2023/08/23/milei-argentina-presidential-election-politics-economy-villarruel/?tpcc=recirc_trending062921\" target=\"_blank\">/2023/08/23/milei-argentina-presidential-election-politics-economy-villarruel/?tpcc=recirc_trending062921</a>"
      ],
      "text/plain": [
       "<IPython.core.display.HTML object>"
      ]
     },
     "metadata": {},
     "output_type": "display_data"
    },
    {
     "data": {
      "text/html": [
       "<a href=\"https://foreignpolicy.com/channel/analysis/\" target=\"_blank\">https://foreignpolicy.com/channel/analysis/</a>"
      ],
      "text/plain": [
       "<IPython.core.display.HTML object>"
      ]
     },
     "metadata": {},
     "output_type": "display_data"
    },
    {
     "data": {
      "text/html": [
       "<a href=\"https://foreignpolicy.com/author/oliver-stuenkel/\" target=\"_blank\">https://foreignpolicy.com/author/oliver-stuenkel/</a>"
      ],
      "text/plain": [
       "<IPython.core.display.HTML object>"
      ]
     },
     "metadata": {},
     "output_type": "display_data"
    },
    {
     "data": {
      "text/html": [
       "<a href=\"/2023/08/23/china-youth-unemployment-jobs/?tpcc=recirc_trending062921\" target=\"_blank\">/2023/08/23/china-youth-unemployment-jobs/?tpcc=recirc_trending062921</a>"
      ],
      "text/plain": [
       "<IPython.core.display.HTML object>"
      ]
     },
     "metadata": {},
     "output_type": "display_data"
    },
    {
     "data": {
      "text/html": [
       "<a href=\"https://foreignpolicy.com/category/chinafile/\" target=\"_blank\">https://foreignpolicy.com/category/chinafile/</a>"
      ],
      "text/plain": [
       "<IPython.core.display.HTML object>"
      ]
     },
     "metadata": {},
     "output_type": "display_data"
    },
    {
     "data": {
      "text/html": [
       "<a href=\"https://foreignpolicy.com/author/chinafile-contributors/\" target=\"_blank\">https://foreignpolicy.com/author/chinafile-contributors/</a>"
      ],
      "text/plain": [
       "<IPython.core.display.HTML object>"
      ]
     },
     "metadata": {},
     "output_type": "display_data"
    },
    {
     "data": {
      "text/html": [
       "<a href=\"/2023/08/22/russia-crimea-bridges-ukraine-invasion/?tpcc=recirc_trending062921\" target=\"_blank\">/2023/08/22/russia-crimea-bridges-ukraine-invasion/?tpcc=recirc_trending062921</a>"
      ],
      "text/plain": [
       "<IPython.core.display.HTML object>"
      ]
     },
     "metadata": {},
     "output_type": "display_data"
    },
    {
     "data": {
      "text/html": [
       "<a href=\"https://foreignpolicy.com/category/analysis/argument/\" target=\"_blank\">https://foreignpolicy.com/category/analysis/argument/</a>"
      ],
      "text/plain": [
       "<IPython.core.display.HTML object>"
      ]
     },
     "metadata": {},
     "output_type": "display_data"
    },
    {
     "data": {
      "text/html": [
       "<a href=\"https://foreignpolicy.com/author/oz-katerji/\" target=\"_blank\">https://foreignpolicy.com/author/oz-katerji/</a>"
      ],
      "text/plain": [
       "<IPython.core.display.HTML object>"
      ]
     },
     "metadata": {},
     "output_type": "display_data"
    },
    {
     "data": {
      "text/html": [
       "<a href=\"/projects/visual-stories/\" target=\"_blank\">/projects/visual-stories/</a>"
      ],
      "text/plain": [
       "<IPython.core.display.HTML object>"
      ]
     },
     "metadata": {},
     "output_type": "display_data"
    },
    {
     "data": {
      "text/html": [
       "<a href=\"https://foreignpolicy.com/2023/08/10/africa-pandemic-virus-mpox-measles-congo/\" target=\"_blank\">https://foreignpolicy.com/2023/08/10/africa-pandemic-virus-mpox-measles-congo/</a>"
      ],
      "text/plain": [
       "<IPython.core.display.HTML object>"
      ]
     },
     "metadata": {},
     "output_type": "display_data"
    },
    {
     "data": {
      "text/html": [
       "<a href=\"https://foreignpolicy.com/2023/08/10/africa-pandemic-virus-mpox-measles-congo/\" target=\"_blank\">https://foreignpolicy.com/2023/08/10/africa-pandemic-virus-mpox-measles-congo/</a>"
      ],
      "text/plain": [
       "<IPython.core.display.HTML object>"
      ]
     },
     "metadata": {},
     "output_type": "display_data"
    },
    {
     "data": {
      "text/html": [
       "<a href=\"https://foreignpolicy.com/author/andrei-popoviciu/\" target=\"_blank\">https://foreignpolicy.com/author/andrei-popoviciu/</a>"
      ],
      "text/plain": [
       "<IPython.core.display.HTML object>"
      ]
     },
     "metadata": {},
     "output_type": "display_data"
    },
    {
     "data": {
      "text/html": [
       "<a href=\"https://foreignpolicy.com/2023/07/18/democracy-law-indictment-leaders-trump-bolsonaro-imran-khan/\" target=\"_blank\">https://foreignpolicy.com/2023/07/18/democracy-law-indictment-leaders-trump-bolsonaro-imran-khan/</a>"
      ],
      "text/plain": [
       "<IPython.core.display.HTML object>"
      ]
     },
     "metadata": {},
     "output_type": "display_data"
    },
    {
     "data": {
      "text/html": [
       "<a href=\"https://foreignpolicy.com/2023/07/18/democracy-law-indictment-leaders-trump-bolsonaro-imran-khan/\" target=\"_blank\">https://foreignpolicy.com/2023/07/18/democracy-law-indictment-leaders-trump-bolsonaro-imran-khan/</a>"
      ],
      "text/plain": [
       "<IPython.core.display.HTML object>"
      ]
     },
     "metadata": {},
     "output_type": "display_data"
    },
    {
     "data": {
      "text/html": [
       "<a href=\"https://foreignpolicy.com/author/ashley-ahn/\" target=\"_blank\">https://foreignpolicy.com/author/ashley-ahn/</a>"
      ],
      "text/plain": [
       "<IPython.core.display.HTML object>"
      ]
     },
     "metadata": {},
     "output_type": "display_data"
    },
    {
     "data": {
      "text/html": [
       "<a href=\"https://foreignpolicy.com/author/brawley-benson/\" target=\"_blank\">https://foreignpolicy.com/author/brawley-benson/</a>"
      ],
      "text/plain": [
       "<IPython.core.display.HTML object>"
      ]
     },
     "metadata": {},
     "output_type": "display_data"
    },
    {
     "data": {
      "text/html": [
       "<a href=\"https://www.facebook.com/foreign.policy.magazine\" target=\"_blank\">https://www.facebook.com/foreign.policy.magazine</a>"
      ],
      "text/plain": [
       "<IPython.core.display.HTML object>"
      ]
     },
     "metadata": {},
     "output_type": "display_data"
    },
    {
     "data": {
      "text/html": [
       "<a href=\"https://twitter.com/foreignpolicy\" target=\"_blank\">https://twitter.com/foreignpolicy</a>"
      ],
      "text/plain": [
       "<IPython.core.display.HTML object>"
      ]
     },
     "metadata": {},
     "output_type": "display_data"
    },
    {
     "data": {
      "text/html": [
       "<a href=\"https://www.instagram.com/foreignpolicymag/\" target=\"_blank\">https://www.instagram.com/foreignpolicymag/</a>"
      ],
      "text/plain": [
       "<IPython.core.display.HTML object>"
      ]
     },
     "metadata": {},
     "output_type": "display_data"
    },
    {
     "data": {
      "text/html": [
       "<a href=\"https://www.linkedin.com/company/256075/\" target=\"_blank\">https://www.linkedin.com/company/256075/</a>"
      ],
      "text/plain": [
       "<IPython.core.display.HTML object>"
      ]
     },
     "metadata": {},
     "output_type": "display_data"
    },
    {
     "data": {
      "text/html": [
       "<a href=\"https://foreignpolicy.com/2023/08/24/us-china-science-technology-agreement-research-collaboration-intellectual-property/?tpcc=recirc_latest062921\" target=\"_blank\">https://foreignpolicy.com/2023/08/24/us-china-science-technology-agreement-research-collaboration-intellectual-property/?tpcc=recirc_latest062921</a>"
      ],
      "text/plain": [
       "<IPython.core.display.HTML object>"
      ]
     },
     "metadata": {},
     "output_type": "display_data"
    },
    {
     "data": {
      "text/html": [
       "<a href=\"https://foreignpolicy.com/2023/08/24/prigozhin-dead-plane-crash-russia-wagner-group-putin-violence/?tpcc=recirc_latest062921\" target=\"_blank\">https://foreignpolicy.com/2023/08/24/prigozhin-dead-plane-crash-russia-wagner-group-putin-violence/?tpcc=recirc_latest062921</a>"
      ],
      "text/plain": [
       "<IPython.core.display.HTML object>"
      ]
     },
     "metadata": {},
     "output_type": "display_data"
    },
    {
     "data": {
      "text/html": [
       "<a href=\"https://foreignpolicy.com/2023/08/24/prigozhin-putin-wagner-group-russia-africa/?tpcc=recirc_latest062921\" target=\"_blank\">https://foreignpolicy.com/2023/08/24/prigozhin-putin-wagner-group-russia-africa/?tpcc=recirc_latest062921</a>"
      ],
      "text/plain": [
       "<IPython.core.display.HTML object>"
      ]
     },
     "metadata": {},
     "output_type": "display_data"
    },
    {
     "data": {
      "text/html": [
       "<a href=\"https://foreignpolicy.com/2023/08/24/yevgeny-prigozhin-death-putin-russia-war-ukraine/?tpcc=recirc_latest062921\" target=\"_blank\">https://foreignpolicy.com/2023/08/24/yevgeny-prigozhin-death-putin-russia-war-ukraine/?tpcc=recirc_latest062921</a>"
      ],
      "text/plain": [
       "<IPython.core.display.HTML object>"
      ]
     },
     "metadata": {},
     "output_type": "display_data"
    },
    {
     "data": {
      "text/html": [
       "<a href=\"https://foreignpolicy.com/2023/08/24/biden-trilateral-summit-japan-south-korea-pyongyang-nuclear-war/?tpcc=recirc_latest062921\" target=\"_blank\">https://foreignpolicy.com/2023/08/24/biden-trilateral-summit-japan-south-korea-pyongyang-nuclear-war/?tpcc=recirc_latest062921</a>"
      ],
      "text/plain": [
       "<IPython.core.display.HTML object>"
      ]
     },
     "metadata": {},
     "output_type": "display_data"
    },
    {
     "data": {
      "text/html": [
       "<a href=\"/category/latest/\" target=\"_blank\">/category/latest/</a>"
      ],
      "text/plain": [
       "<IPython.core.display.HTML object>"
      ]
     },
     "metadata": {},
     "output_type": "display_data"
    },
    {
     "data": {
      "text/html": [
       "<a href=\"https://foreignpolicy.com/\" target=\"_blank\">https://foreignpolicy.com/</a>"
      ],
      "text/plain": [
       "<IPython.core.display.HTML object>"
      ]
     },
     "metadata": {},
     "output_type": "display_data"
    },
    {
     "data": {
      "text/html": [
       "<a href=\"https://foreignpolicy.com/events\" target=\"_blank\">https://foreignpolicy.com/events</a>"
      ],
      "text/plain": [
       "<IPython.core.display.HTML object>"
      ]
     },
     "metadata": {},
     "output_type": "display_data"
    },
    {
     "data": {
      "text/html": [
       "<a href=\"https://foreignpolicy.com/fp-studios/\" target=\"_blank\">https://foreignpolicy.com/fp-studios/</a>"
      ],
      "text/plain": [
       "<IPython.core.display.HTML object>"
      ]
     },
     "metadata": {},
     "output_type": "display_data"
    },
    {
     "data": {
      "text/html": [
       "<a href=\"https://foreignpolicy.com/fp-analytics/\" target=\"_blank\">https://foreignpolicy.com/fp-analytics/</a>"
      ],
      "text/plain": [
       "<IPython.core.display.HTML object>"
      ]
     },
     "metadata": {},
     "output_type": "display_data"
    },
    {
     "data": {
      "text/html": [
       "<a href=\"https://foreignpolicy.com/fp-peacegames/\" target=\"_blank\">https://foreignpolicy.com/fp-peacegames/</a>"
      ],
      "text/plain": [
       "<IPython.core.display.HTML object>"
      ]
     },
     "metadata": {},
     "output_type": "display_data"
    },
    {
     "data": {
      "text/html": [
       "<a href=\"https://foreignpolicy.com/subscription-services/\" target=\"_blank\">https://foreignpolicy.com/subscription-services/</a>"
      ],
      "text/plain": [
       "<IPython.core.display.HTML object>"
      ]
     },
     "metadata": {},
     "output_type": "display_data"
    },
    {
     "data": {
      "text/html": [
       "<a href=\"https://foreignpolicy.com/group-subscriptions/\" target=\"_blank\">https://foreignpolicy.com/group-subscriptions/</a>"
      ],
      "text/plain": [
       "<IPython.core.display.HTML object>"
      ]
     },
     "metadata": {},
     "output_type": "display_data"
    },
    {
     "data": {
      "text/html": [
       "<a href=\"https://foreignpolicy.com/reprint-permissions/\" target=\"_blank\">https://foreignpolicy.com/reprint-permissions/</a>"
      ],
      "text/plain": [
       "<IPython.core.display.HTML object>"
      ]
     },
     "metadata": {},
     "output_type": "display_data"
    },
    {
     "data": {
      "text/html": [
       "<a href=\"https://foreignpolicy.submittable.com/submit\" target=\"_blank\">https://foreignpolicy.submittable.com/submit</a>"
      ],
      "text/plain": [
       "<IPython.core.display.HTML object>"
      ]
     },
     "metadata": {},
     "output_type": "display_data"
    },
    {
     "data": {
      "text/html": [
       "<a href=\"https://fpguide.foreignpolicy.com/2023-career/\" target=\"_blank\">https://fpguide.foreignpolicy.com/2023-career/</a>"
      ],
      "text/plain": [
       "<IPython.core.display.HTML object>"
      ]
     },
     "metadata": {},
     "output_type": "display_data"
    },
    {
     "data": {
      "text/html": [
       "<a href=\"https://foreignpolicy.com/fp-for-education/\" target=\"_blank\">https://foreignpolicy.com/fp-for-education/</a>"
      ],
      "text/plain": [
       "<IPython.core.display.HTML object>"
      ]
     },
     "metadata": {},
     "output_type": "display_data"
    },
    {
     "data": {
      "text/html": [
       "<a href=\"/magazine\" target=\"_blank\">/magazine</a>"
      ],
      "text/plain": [
       "<IPython.core.display.HTML object>"
      ]
     },
     "metadata": {},
     "output_type": "display_data"
    },
    {
     "data": {
      "text/html": [
       "<a href=\"https://foreignpolicy.com/buy-back-issues/\" target=\"_blank\">https://foreignpolicy.com/buy-back-issues/</a>"
      ],
      "text/plain": [
       "<IPython.core.display.HTML object>"
      ]
     },
     "metadata": {},
     "output_type": "display_data"
    },
    {
     "data": {
      "text/html": [
       "<a href=\"https://foreignpolicy.com/employment-opportunities/\" target=\"_blank\">https://foreignpolicy.com/employment-opportunities/</a>"
      ],
      "text/plain": [
       "<IPython.core.display.HTML object>"
      ]
     },
     "metadata": {},
     "output_type": "display_data"
    },
    {
     "data": {
      "text/html": [
       "<a href=\"https://foreignpolicy.com/staff/\" target=\"_blank\">https://foreignpolicy.com/staff/</a>"
      ],
      "text/plain": [
       "<IPython.core.display.HTML object>"
      ]
     },
     "metadata": {},
     "output_type": "display_data"
    },
    {
     "data": {
      "text/html": [
       "<a href=\"https://solutions.foreignpolicy.com/\" target=\"_blank\">https://solutions.foreignpolicy.com/</a>"
      ],
      "text/plain": [
       "<IPython.core.display.HTML object>"
      ]
     },
     "metadata": {},
     "output_type": "display_data"
    },
    {
     "data": {
      "text/html": [
       "<a href=\"https://sponsored.foreignpolicy.com/country-reports/\" target=\"_blank\">https://sponsored.foreignpolicy.com/country-reports/</a>"
      ],
      "text/plain": [
       "<IPython.core.display.HTML object>"
      ]
     },
     "metadata": {},
     "output_type": "display_data"
    },
    {
     "data": {
      "text/html": [
       "<a href=\"https://foreignpolicy.com/contact-us/\" target=\"_blank\">https://foreignpolicy.com/contact-us/</a>"
      ],
      "text/plain": [
       "<IPython.core.display.HTML object>"
      ]
     },
     "metadata": {},
     "output_type": "display_data"
    },
    {
     "data": {
      "text/html": [
       "<a href=\"https://foreignpolicy.com/privacy/\" target=\"_blank\">https://foreignpolicy.com/privacy/</a>"
      ],
      "text/plain": [
       "<IPython.core.display.HTML object>"
      ]
     },
     "metadata": {},
     "output_type": "display_data"
    },
    {
     "data": {
      "text/html": [
       "<a href=\"https://wpvip.com/?utm_source=vip_powered_wpcom&utm_medium=web&utm_campaign=VIP%20Footer%20Credit&utm_term=foreignpolicy.com\" target=\"_blank\">https://wpvip.com/?utm_source=vip_powered_wpcom&utm_medium=web&utm_campaign=VIP%20Footer%20Credit&utm_term=foreignpolicy.com</a>"
      ],
      "text/plain": [
       "<IPython.core.display.HTML object>"
      ]
     },
     "metadata": {},
     "output_type": "display_data"
    },
    {
     "data": {
      "text/html": [
       "<a href=\"#primary\" target=\"_blank\">#primary</a>"
      ],
      "text/plain": [
       "<IPython.core.display.HTML object>"
      ]
     },
     "metadata": {},
     "output_type": "display_data"
    },
    {
     "data": {
      "text/html": [
       "<a href=\"https://www.worldpoliticsreview.com/subscribe/\" target=\"_blank\">https://www.worldpoliticsreview.com/subscribe/</a>"
      ],
      "text/plain": [
       "<IPython.core.display.HTML object>"
      ]
     },
     "metadata": {},
     "output_type": "display_data"
    },
    {
     "data": {
      "text/html": [
       "<a href=\"https://www.worldpoliticsreview.com/about/\" target=\"_blank\">https://www.worldpoliticsreview.com/about/</a>"
      ],
      "text/plain": [
       "<IPython.core.display.HTML object>"
      ]
     },
     "metadata": {},
     "output_type": "display_data"
    },
    {
     "data": {
      "text/html": [
       "<a href=\"https://help.worldpoliticsreview.com/en/\" target=\"_blank\">https://help.worldpoliticsreview.com/en/</a>"
      ],
      "text/plain": [
       "<IPython.core.display.HTML object>"
      ]
     },
     "metadata": {},
     "output_type": "display_data"
    },
    {
     "data": {
      "text/html": [
       "<a href=\"https://www.worldpoliticsreview.com/\" target=\"_blank\">https://www.worldpoliticsreview.com/</a>"
      ],
      "text/plain": [
       "<IPython.core.display.HTML object>"
      ]
     },
     "metadata": {},
     "output_type": "display_data"
    },
    {
     "data": {
      "text/html": [
       "<a href=\"https://www.worldpoliticsreview.com/login\" target=\"_blank\">https://www.worldpoliticsreview.com/login</a>"
      ],
      "text/plain": [
       "<IPython.core.display.HTML object>"
      ]
     },
     "metadata": {},
     "output_type": "display_data"
    },
    {
     "data": {
      "text/html": [
       "<a href=\"https://www.worldpoliticsreview.com/join-for-free/\" target=\"_blank\">https://www.worldpoliticsreview.com/join-for-free/</a>"
      ],
      "text/plain": [
       "<IPython.core.display.HTML object>"
      ]
     },
     "metadata": {},
     "output_type": "display_data"
    },
    {
     "data": {
      "text/html": [
       "<a href=\"https://www.worldpoliticsreview.com/stream/latest/\" target=\"_blank\">https://www.worldpoliticsreview.com/stream/latest/</a>"
      ],
      "text/plain": [
       "<IPython.core.display.HTML object>"
      ]
     },
     "metadata": {},
     "output_type": "display_data"
    },
    {
     "data": {
      "text/html": [
       "<a href=\"https://www.worldpoliticsreview.com/section/briefing\" target=\"_blank\">https://www.worldpoliticsreview.com/section/briefing</a>"
      ],
      "text/plain": [
       "<IPython.core.display.HTML object>"
      ]
     },
     "metadata": {},
     "output_type": "display_data"
    },
    {
     "data": {
      "text/html": [
       "<a href=\"https://www.worldpoliticsreview.com/section/column\" target=\"_blank\">https://www.worldpoliticsreview.com/section/column</a>"
      ],
      "text/plain": [
       "<IPython.core.display.HTML object>"
      ]
     },
     "metadata": {},
     "output_type": "display_data"
    },
    {
     "data": {
      "text/html": [
       "<a href=\"https://www.worldpoliticsreview.com/section/in-depth\" target=\"_blank\">https://www.worldpoliticsreview.com/section/in-depth</a>"
      ],
      "text/plain": [
       "<IPython.core.display.HTML object>"
      ]
     },
     "metadata": {},
     "output_type": "display_data"
    },
    {
     "data": {
      "text/html": [
       "<a href=\"#\" target=\"_blank\">#</a>"
      ],
      "text/plain": [
       "<IPython.core.display.HTML object>"
      ]
     },
     "metadata": {},
     "output_type": "display_data"
    },
    {
     "data": {
      "text/html": [
       "<a href=\"https://www.worldpoliticsreview.com/newsletter/daily-review\" target=\"_blank\">https://www.worldpoliticsreview.com/newsletter/daily-review</a>"
      ],
      "text/plain": [
       "<IPython.core.display.HTML object>"
      ]
     },
     "metadata": {},
     "output_type": "display_data"
    },
    {
     "data": {
      "text/html": [
       "<a href=\"https://www.worldpoliticsreview.com/stream/insights\" target=\"_blank\">https://www.worldpoliticsreview.com/stream/insights</a>"
      ],
      "text/plain": [
       "<IPython.core.display.HTML object>"
      ]
     },
     "metadata": {},
     "output_type": "display_data"
    },
    {
     "data": {
      "text/html": [
       "<a href=\"https://www.worldpoliticsreview.com/section/podcast\" target=\"_blank\">https://www.worldpoliticsreview.com/section/podcast</a>"
      ],
      "text/plain": [
       "<IPython.core.display.HTML object>"
      ]
     },
     "metadata": {},
     "output_type": "display_data"
    },
    {
     "data": {
      "text/html": [
       "<a href=\"https://www.worldpoliticsreview.com/region/africa/\" target=\"_blank\">https://www.worldpoliticsreview.com/region/africa/</a>"
      ],
      "text/plain": [
       "<IPython.core.display.HTML object>"
      ]
     },
     "metadata": {},
     "output_type": "display_data"
    },
    {
     "data": {
      "text/html": [
       "<a href=\"https://www.worldpoliticsreview.com/region/central-africa/\" target=\"_blank\">https://www.worldpoliticsreview.com/region/central-africa/</a>"
      ],
      "text/plain": [
       "<IPython.core.display.HTML object>"
      ]
     },
     "metadata": {},
     "output_type": "display_data"
    },
    {
     "data": {
      "text/html": [
       "<a href=\"https://www.worldpoliticsreview.com/region/east-africa/\" target=\"_blank\">https://www.worldpoliticsreview.com/region/east-africa/</a>"
      ],
      "text/plain": [
       "<IPython.core.display.HTML object>"
      ]
     },
     "metadata": {},
     "output_type": "display_data"
    },
    {
     "data": {
      "text/html": [
       "<a href=\"https://www.worldpoliticsreview.com/region/southern-africa/\" target=\"_blank\">https://www.worldpoliticsreview.com/region/southern-africa/</a>"
      ],
      "text/plain": [
       "<IPython.core.display.HTML object>"
      ]
     },
     "metadata": {},
     "output_type": "display_data"
    },
    {
     "data": {
      "text/html": [
       "<a href=\"https://www.worldpoliticsreview.com/region/west-africa/\" target=\"_blank\">https://www.worldpoliticsreview.com/region/west-africa/</a>"
      ],
      "text/plain": [
       "<IPython.core.display.HTML object>"
      ]
     },
     "metadata": {},
     "output_type": "display_data"
    },
    {
     "data": {
      "text/html": [
       "<a href=\"https://www.worldpoliticsreview.com/region/the-americas/\" target=\"_blank\">https://www.worldpoliticsreview.com/region/the-americas/</a>"
      ],
      "text/plain": [
       "<IPython.core.display.HTML object>"
      ]
     },
     "metadata": {},
     "output_type": "display_data"
    },
    {
     "data": {
      "text/html": [
       "<a href=\"https://www.worldpoliticsreview.com/region/brazil/\" target=\"_blank\">https://www.worldpoliticsreview.com/region/brazil/</a>"
      ],
      "text/plain": [
       "<IPython.core.display.HTML object>"
      ]
     },
     "metadata": {},
     "output_type": "display_data"
    },
    {
     "data": {
      "text/html": [
       "<a href=\"https://www.worldpoliticsreview.com/region/caribbean/\" target=\"_blank\">https://www.worldpoliticsreview.com/region/caribbean/</a>"
      ],
      "text/plain": [
       "<IPython.core.display.HTML object>"
      ]
     },
     "metadata": {},
     "output_type": "display_data"
    },
    {
     "data": {
      "text/html": [
       "<a href=\"https://www.worldpoliticsreview.com/region/mexico/\" target=\"_blank\">https://www.worldpoliticsreview.com/region/mexico/</a>"
      ],
      "text/plain": [
       "<IPython.core.display.HTML object>"
      ]
     },
     "metadata": {},
     "output_type": "display_data"
    },
    {
     "data": {
      "text/html": [
       "<a href=\"https://www.worldpoliticsreview.com/region/north-america/\" target=\"_blank\">https://www.worldpoliticsreview.com/region/north-america/</a>"
      ],
      "text/plain": [
       "<IPython.core.display.HTML object>"
      ]
     },
     "metadata": {},
     "output_type": "display_data"
    },
    {
     "data": {
      "text/html": [
       "<a href=\"https://www.worldpoliticsreview.com/region/south-america/\" target=\"_blank\">https://www.worldpoliticsreview.com/region/south-america/</a>"
      ],
      "text/plain": [
       "<IPython.core.display.HTML object>"
      ]
     },
     "metadata": {},
     "output_type": "display_data"
    },
    {
     "data": {
      "text/html": [
       "<a href=\"https://www.worldpoliticsreview.com/region/central-america/\" target=\"_blank\">https://www.worldpoliticsreview.com/region/central-america/</a>"
      ],
      "text/plain": [
       "<IPython.core.display.HTML object>"
      ]
     },
     "metadata": {},
     "output_type": "display_data"
    },
    {
     "data": {
      "text/html": [
       "<a href=\"https://www.worldpoliticsreview.com/region/united-states/\" target=\"_blank\">https://www.worldpoliticsreview.com/region/united-states/</a>"
      ],
      "text/plain": [
       "<IPython.core.display.HTML object>"
      ]
     },
     "metadata": {},
     "output_type": "display_data"
    },
    {
     "data": {
      "text/html": [
       "<a href=\"https://www.worldpoliticsreview.com/region/asia-pacific/\" target=\"_blank\">https://www.worldpoliticsreview.com/region/asia-pacific/</a>"
      ],
      "text/plain": [
       "<IPython.core.display.HTML object>"
      ]
     },
     "metadata": {},
     "output_type": "display_data"
    },
    {
     "data": {
      "text/html": [
       "<a href=\"https://www.worldpoliticsreview.com/region/afghanistan/\" target=\"_blank\">https://www.worldpoliticsreview.com/region/afghanistan/</a>"
      ],
      "text/plain": [
       "<IPython.core.display.HTML object>"
      ]
     },
     "metadata": {},
     "output_type": "display_data"
    },
    {
     "data": {
      "text/html": [
       "<a href=\"https://www.worldpoliticsreview.com/region/australia/\" target=\"_blank\">https://www.worldpoliticsreview.com/region/australia/</a>"
      ],
      "text/plain": [
       "<IPython.core.display.HTML object>"
      ]
     },
     "metadata": {},
     "output_type": "display_data"
    },
    {
     "data": {
      "text/html": [
       "<a href=\"https://www.worldpoliticsreview.com/region/central-asia/\" target=\"_blank\">https://www.worldpoliticsreview.com/region/central-asia/</a>"
      ],
      "text/plain": [
       "<IPython.core.display.HTML object>"
      ]
     },
     "metadata": {},
     "output_type": "display_data"
    },
    {
     "data": {
      "text/html": [
       "<a href=\"https://www.worldpoliticsreview.com/region/china/\" target=\"_blank\">https://www.worldpoliticsreview.com/region/china/</a>"
      ],
      "text/plain": [
       "<IPython.core.display.HTML object>"
      ]
     },
     "metadata": {},
     "output_type": "display_data"
    },
    {
     "data": {
      "text/html": [
       "<a href=\"https://www.worldpoliticsreview.com/region/east-asia/\" target=\"_blank\">https://www.worldpoliticsreview.com/region/east-asia/</a>"
      ],
      "text/plain": [
       "<IPython.core.display.HTML object>"
      ]
     },
     "metadata": {},
     "output_type": "display_data"
    },
    {
     "data": {
      "text/html": [
       "<a href=\"https://www.worldpoliticsreview.com/region/india/\" target=\"_blank\">https://www.worldpoliticsreview.com/region/india/</a>"
      ],
      "text/plain": [
       "<IPython.core.display.HTML object>"
      ]
     },
     "metadata": {},
     "output_type": "display_data"
    },
    {
     "data": {
      "text/html": [
       "<a href=\"https://www.worldpoliticsreview.com/region/japan/\" target=\"_blank\">https://www.worldpoliticsreview.com/region/japan/</a>"
      ],
      "text/plain": [
       "<IPython.core.display.HTML object>"
      ]
     },
     "metadata": {},
     "output_type": "display_data"
    },
    {
     "data": {
      "text/html": [
       "<a href=\"https://www.worldpoliticsreview.com/region/north-korea/\" target=\"_blank\">https://www.worldpoliticsreview.com/region/north-korea/</a>"
      ],
      "text/plain": [
       "<IPython.core.display.HTML object>"
      ]
     },
     "metadata": {},
     "output_type": "display_data"
    },
    {
     "data": {
      "text/html": [
       "<a href=\"https://www.worldpoliticsreview.com/region/south-east-asia/\" target=\"_blank\">https://www.worldpoliticsreview.com/region/south-east-asia/</a>"
      ],
      "text/plain": [
       "<IPython.core.display.HTML object>"
      ]
     },
     "metadata": {},
     "output_type": "display_data"
    },
    {
     "data": {
      "text/html": [
       "<a href=\"https://www.worldpoliticsreview.com/region/south-asia/\" target=\"_blank\">https://www.worldpoliticsreview.com/region/south-asia/</a>"
      ],
      "text/plain": [
       "<IPython.core.display.HTML object>"
      ]
     },
     "metadata": {},
     "output_type": "display_data"
    },
    {
     "data": {
      "text/html": [
       "<a href=\"https://www.worldpoliticsreview.com/region/europe/\" target=\"_blank\">https://www.worldpoliticsreview.com/region/europe/</a>"
      ],
      "text/plain": [
       "<IPython.core.display.HTML object>"
      ]
     },
     "metadata": {},
     "output_type": "display_data"
    },
    {
     "data": {
      "text/html": [
       "<a href=\"https://www.worldpoliticsreview.com/region/caucasus/\" target=\"_blank\">https://www.worldpoliticsreview.com/region/caucasus/</a>"
      ],
      "text/plain": [
       "<IPython.core.display.HTML object>"
      ]
     },
     "metadata": {},
     "output_type": "display_data"
    },
    {
     "data": {
      "text/html": [
       "<a href=\"https://www.worldpoliticsreview.com/region/central-eastern-europe/\" target=\"_blank\">https://www.worldpoliticsreview.com/region/central-eastern-europe/</a>"
      ],
      "text/plain": [
       "<IPython.core.display.HTML object>"
      ]
     },
     "metadata": {},
     "output_type": "display_data"
    },
    {
     "data": {
      "text/html": [
       "<a href=\"https://www.worldpoliticsreview.com/region/western-europe/\" target=\"_blank\">https://www.worldpoliticsreview.com/region/western-europe/</a>"
      ],
      "text/plain": [
       "<IPython.core.display.HTML object>"
      ]
     },
     "metadata": {},
     "output_type": "display_data"
    },
    {
     "data": {
      "text/html": [
       "<a href=\"https://www.worldpoliticsreview.com/region/russia/\" target=\"_blank\">https://www.worldpoliticsreview.com/region/russia/</a>"
      ],
      "text/plain": [
       "<IPython.core.display.HTML object>"
      ]
     },
     "metadata": {},
     "output_type": "display_data"
    },
    {
     "data": {
      "text/html": [
       "<a href=\"https://www.worldpoliticsreview.com/region/global/\" target=\"_blank\">https://www.worldpoliticsreview.com/region/global/</a>"
      ],
      "text/plain": [
       "<IPython.core.display.HTML object>"
      ]
     },
     "metadata": {},
     "output_type": "display_data"
    },
    {
     "data": {
      "text/html": [
       "<a href=\"https://www.worldpoliticsreview.com/region/polar-regions/\" target=\"_blank\">https://www.worldpoliticsreview.com/region/polar-regions/</a>"
      ],
      "text/plain": [
       "<IPython.core.display.HTML object>"
      ]
     },
     "metadata": {},
     "output_type": "display_data"
    },
    {
     "data": {
      "text/html": [
       "<a href=\"https://www.worldpoliticsreview.com/region/united-nations/\" target=\"_blank\">https://www.worldpoliticsreview.com/region/united-nations/</a>"
      ],
      "text/plain": [
       "<IPython.core.display.HTML object>"
      ]
     },
     "metadata": {},
     "output_type": "display_data"
    },
    {
     "data": {
      "text/html": [
       "<a href=\"https://www.worldpoliticsreview.com/region/middle-east-north-africa/\" target=\"_blank\">https://www.worldpoliticsreview.com/region/middle-east-north-africa/</a>"
      ],
      "text/plain": [
       "<IPython.core.display.HTML object>"
      ]
     },
     "metadata": {},
     "output_type": "display_data"
    },
    {
     "data": {
      "text/html": [
       "<a href=\"https://www.worldpoliticsreview.com/region/north-africa/\" target=\"_blank\">https://www.worldpoliticsreview.com/region/north-africa/</a>"
      ],
      "text/plain": [
       "<IPython.core.display.HTML object>"
      ]
     },
     "metadata": {},
     "output_type": "display_data"
    },
    {
     "data": {
      "text/html": [
       "<a href=\"https://www.worldpoliticsreview.com/region/gulf-states/\" target=\"_blank\">https://www.worldpoliticsreview.com/region/gulf-states/</a>"
      ],
      "text/plain": [
       "<IPython.core.display.HTML object>"
      ]
     },
     "metadata": {},
     "output_type": "display_data"
    },
    {
     "data": {
      "text/html": [
       "<a href=\"https://www.worldpoliticsreview.com/region/iran/\" target=\"_blank\">https://www.worldpoliticsreview.com/region/iran/</a>"
      ],
      "text/plain": [
       "<IPython.core.display.HTML object>"
      ]
     },
     "metadata": {},
     "output_type": "display_data"
    },
    {
     "data": {
      "text/html": [
       "<a href=\"https://www.worldpoliticsreview.com/region/iraq/\" target=\"_blank\">https://www.worldpoliticsreview.com/region/iraq/</a>"
      ],
      "text/plain": [
       "<IPython.core.display.HTML object>"
      ]
     },
     "metadata": {},
     "output_type": "display_data"
    },
    {
     "data": {
      "text/html": [
       "<a href=\"https://www.worldpoliticsreview.com/region/syria/\" target=\"_blank\">https://www.worldpoliticsreview.com/region/syria/</a>"
      ],
      "text/plain": [
       "<IPython.core.display.HTML object>"
      ]
     },
     "metadata": {},
     "output_type": "display_data"
    },
    {
     "data": {
      "text/html": [
       "<a href=\"https://www.worldpoliticsreview.com/region/turkey/\" target=\"_blank\">https://www.worldpoliticsreview.com/region/turkey/</a>"
      ],
      "text/plain": [
       "<IPython.core.display.HTML object>"
      ]
     },
     "metadata": {},
     "output_type": "display_data"
    },
    {
     "data": {
      "text/html": [
       "<a href=\"https://www.worldpoliticsreview.com/issue/defense-security/\" target=\"_blank\">https://www.worldpoliticsreview.com/issue/defense-security/</a>"
      ],
      "text/plain": [
       "<IPython.core.display.HTML object>"
      ]
     },
     "metadata": {},
     "output_type": "display_data"
    },
    {
     "data": {
      "text/html": [
       "<a href=\"https://www.worldpoliticsreview.com/issue/cyber/\" target=\"_blank\">https://www.worldpoliticsreview.com/issue/cyber/</a>"
      ],
      "text/plain": [
       "<IPython.core.display.HTML object>"
      ]
     },
     "metadata": {},
     "output_type": "display_data"
    },
    {
     "data": {
      "text/html": [
       "<a href=\"https://www.worldpoliticsreview.com/issue/crime/\" target=\"_blank\">https://www.worldpoliticsreview.com/issue/crime/</a>"
      ],
      "text/plain": [
       "<IPython.core.display.HTML object>"
      ]
     },
     "metadata": {},
     "output_type": "display_data"
    },
    {
     "data": {
      "text/html": [
       "<a href=\"https://www.worldpoliticsreview.com/issue/insurgencies/\" target=\"_blank\">https://www.worldpoliticsreview.com/issue/insurgencies/</a>"
      ],
      "text/plain": [
       "<IPython.core.display.HTML object>"
      ]
     },
     "metadata": {},
     "output_type": "display_data"
    },
    {
     "data": {
      "text/html": [
       "<a href=\"https://www.worldpoliticsreview.com/issue/intelligence/\" target=\"_blank\">https://www.worldpoliticsreview.com/issue/intelligence/</a>"
      ],
      "text/plain": [
       "<IPython.core.display.HTML object>"
      ]
     },
     "metadata": {},
     "output_type": "display_data"
    },
    {
     "data": {
      "text/html": [
       "<a href=\"https://www.worldpoliticsreview.com/issue/military/\" target=\"_blank\">https://www.worldpoliticsreview.com/issue/military/</a>"
      ],
      "text/plain": [
       "<IPython.core.display.HTML object>"
      ]
     },
     "metadata": {},
     "output_type": "display_data"
    },
    {
     "data": {
      "text/html": [
       "<a href=\"https://www.worldpoliticsreview.com/issue/terrorism/\" target=\"_blank\">https://www.worldpoliticsreview.com/issue/terrorism/</a>"
      ],
      "text/plain": [
       "<IPython.core.display.HTML object>"
      ]
     },
     "metadata": {},
     "output_type": "display_data"
    },
    {
     "data": {
      "text/html": [
       "<a href=\"https://www.worldpoliticsreview.com/issue/war-conflict/\" target=\"_blank\">https://www.worldpoliticsreview.com/issue/war-conflict/</a>"
      ],
      "text/plain": [
       "<IPython.core.display.HTML object>"
      ]
     },
     "metadata": {},
     "output_type": "display_data"
    },
    {
     "data": {
      "text/html": [
       "<a href=\"https://www.worldpoliticsreview.com/issue/wmd/\" target=\"_blank\">https://www.worldpoliticsreview.com/issue/wmd/</a>"
      ],
      "text/plain": [
       "<IPython.core.display.HTML object>"
      ]
     },
     "metadata": {},
     "output_type": "display_data"
    },
    {
     "data": {
      "text/html": [
       "<a href=\"https://www.worldpoliticsreview.com/issue/economics-business/\" target=\"_blank\">https://www.worldpoliticsreview.com/issue/economics-business/</a>"
      ],
      "text/plain": [
       "<IPython.core.display.HTML object>"
      ]
     },
     "metadata": {},
     "output_type": "display_data"
    },
    {
     "data": {
      "text/html": [
       "<a href=\"https://www.worldpoliticsreview.com/issue/energy/\" target=\"_blank\">https://www.worldpoliticsreview.com/issue/energy/</a>"
      ],
      "text/plain": [
       "<IPython.core.display.HTML object>"
      ]
     },
     "metadata": {},
     "output_type": "display_data"
    },
    {
     "data": {
      "text/html": [
       "<a href=\"https://www.worldpoliticsreview.com/issue/resources/\" target=\"_blank\">https://www.worldpoliticsreview.com/issue/resources/</a>"
      ],
      "text/plain": [
       "<IPython.core.display.HTML object>"
      ]
     },
     "metadata": {},
     "output_type": "display_data"
    },
    {
     "data": {
      "text/html": [
       "<a href=\"https://www.worldpoliticsreview.com/issue/infrastructure/\" target=\"_blank\">https://www.worldpoliticsreview.com/issue/infrastructure/</a>"
      ],
      "text/plain": [
       "<IPython.core.display.HTML object>"
      ]
     },
     "metadata": {},
     "output_type": "display_data"
    },
    {
     "data": {
      "text/html": [
       "<a href=\"https://www.worldpoliticsreview.com/issue/nuclear-energy/\" target=\"_blank\">https://www.worldpoliticsreview.com/issue/nuclear-energy/</a>"
      ],
      "text/plain": [
       "<IPython.core.display.HTML object>"
      ]
     },
     "metadata": {},
     "output_type": "display_data"
    },
    {
     "data": {
      "text/html": [
       "<a href=\"https://www.worldpoliticsreview.com/issue/technology/\" target=\"_blank\">https://www.worldpoliticsreview.com/issue/technology/</a>"
      ],
      "text/plain": [
       "<IPython.core.display.HTML object>"
      ]
     },
     "metadata": {},
     "output_type": "display_data"
    },
    {
     "data": {
      "text/html": [
       "<a href=\"https://www.worldpoliticsreview.com/issue/trade/\" target=\"_blank\">https://www.worldpoliticsreview.com/issue/trade/</a>"
      ],
      "text/plain": [
       "<IPython.core.display.HTML object>"
      ]
     },
     "metadata": {},
     "output_type": "display_data"
    },
    {
     "data": {
      "text/html": [
       "<a href=\"https://www.worldpoliticsreview.com/issue/diplomacy-politics/\" target=\"_blank\">https://www.worldpoliticsreview.com/issue/diplomacy-politics/</a>"
      ],
      "text/plain": [
       "<IPython.core.display.HTML object>"
      ]
     },
     "metadata": {},
     "output_type": "display_data"
    },
    {
     "data": {
      "text/html": [
       "<a href=\"https://www.worldpoliticsreview.com/issue/domestic-politics/\" target=\"_blank\">https://www.worldpoliticsreview.com/issue/domestic-politics/</a>"
      ],
      "text/plain": [
       "<IPython.core.display.HTML object>"
      ]
     },
     "metadata": {},
     "output_type": "display_data"
    },
    {
     "data": {
      "text/html": [
       "<a href=\"https://www.worldpoliticsreview.com/issue/environment/\" target=\"_blank\">https://www.worldpoliticsreview.com/issue/environment/</a>"
      ],
      "text/plain": [
       "<IPython.core.display.HTML object>"
      ]
     },
     "metadata": {},
     "output_type": "display_data"
    },
    {
     "data": {
      "text/html": [
       "<a href=\"https://www.worldpoliticsreview.com/issue/human-rights/\" target=\"_blank\">https://www.worldpoliticsreview.com/issue/human-rights/</a>"
      ],
      "text/plain": [
       "<IPython.core.display.HTML object>"
      ]
     },
     "metadata": {},
     "output_type": "display_data"
    },
    {
     "data": {
      "text/html": [
       "<a href=\"https://www.worldpoliticsreview.com/issue/international-law/\" target=\"_blank\">https://www.worldpoliticsreview.com/issue/international-law/</a>"
      ],
      "text/plain": [
       "<IPython.core.display.HTML object>"
      ]
     },
     "metadata": {},
     "output_type": "display_data"
    },
    {
     "data": {
      "text/html": [
       "<a href=\"https://www.worldpoliticsreview.com/issue/maritime-issues/\" target=\"_blank\">https://www.worldpoliticsreview.com/issue/maritime-issues/</a>"
      ],
      "text/plain": [
       "<IPython.core.display.HTML object>"
      ]
     },
     "metadata": {},
     "output_type": "display_data"
    },
    {
     "data": {
      "text/html": [
       "<a href=\"https://www.worldpoliticsreview.com/issue/radical-movements/\" target=\"_blank\">https://www.worldpoliticsreview.com/issue/radical-movements/</a>"
      ],
      "text/plain": [
       "<IPython.core.display.HTML object>"
      ]
     },
     "metadata": {},
     "output_type": "display_data"
    },
    {
     "data": {
      "text/html": [
       "<a href=\"https://www.worldpoliticsreview.com/issue/us-foreign-policy/\" target=\"_blank\">https://www.worldpoliticsreview.com/issue/us-foreign-policy/</a>"
      ],
      "text/plain": [
       "<IPython.core.display.HTML object>"
      ]
     },
     "metadata": {},
     "output_type": "display_data"
    },
    {
     "data": {
      "text/html": [
       "<a href=\"https://www.worldpoliticsreview.com/issue/aid-and-development/\" target=\"_blank\">https://www.worldpoliticsreview.com/issue/aid-and-development/</a>"
      ],
      "text/plain": [
       "<IPython.core.display.HTML object>"
      ]
     },
     "metadata": {},
     "output_type": "display_data"
    },
    {
     "data": {
      "text/html": [
       "<a href=\"https://www.worldpoliticsreview.com/issue/human-security/\" target=\"_blank\">https://www.worldpoliticsreview.com/issue/human-security/</a>"
      ],
      "text/plain": [
       "<IPython.core.display.HTML object>"
      ]
     },
     "metadata": {},
     "output_type": "display_data"
    },
    {
     "data": {
      "text/html": [
       "<a href=\"https://www.worldpoliticsreview.com/author/adem-kassie-abebe/\" target=\"_blank\">https://www.worldpoliticsreview.com/author/adem-kassie-abebe/</a>"
      ],
      "text/plain": [
       "<IPython.core.display.HTML object>"
      ]
     },
     "metadata": {},
     "output_type": "display_data"
    },
    {
     "data": {
      "text/html": [
       "<a href=\"https://www.worldpoliticsreview.com/author/emil-avdaliani/\" target=\"_blank\">https://www.worldpoliticsreview.com/author/emil-avdaliani/</a>"
      ],
      "text/plain": [
       "<IPython.core.display.HTML object>"
      ]
     },
     "metadata": {},
     "output_type": "display_data"
    },
    {
     "data": {
      "text/html": [
       "<a href=\"https://www.worldpoliticsreview.com/author/james-bosworth-2923/\" target=\"_blank\">https://www.worldpoliticsreview.com/author/james-bosworth-2923/</a>"
      ],
      "text/plain": [
       "<IPython.core.display.HTML object>"
      ]
     },
     "metadata": {},
     "output_type": "display_data"
    },
    {
     "data": {
      "text/html": [
       "<a href=\"https://www.worldpoliticsreview.com/author/the-editors/\" target=\"_blank\">https://www.worldpoliticsreview.com/author/the-editors/</a>"
      ],
      "text/plain": [
       "<IPython.core.display.HTML object>"
      ]
     },
     "metadata": {},
     "output_type": "display_data"
    },
    {
     "data": {
      "text/html": [
       "<a href=\"https://www.worldpoliticsreview.com/author/ali-ahmadi/\" target=\"_blank\">https://www.worldpoliticsreview.com/author/ali-ahmadi/</a>"
      ],
      "text/plain": [
       "<IPython.core.display.HTML object>"
      ]
     },
     "metadata": {},
     "output_type": "display_data"
    },
    {
     "data": {
      "text/html": [
       "<a href=\"https://www.worldpoliticsreview.com/author/aaron-allen/\" target=\"_blank\">https://www.worldpoliticsreview.com/author/aaron-allen/</a>"
      ],
      "text/plain": [
       "<IPython.core.display.HTML object>"
      ]
     },
     "metadata": {},
     "output_type": "display_data"
    },
    {
     "data": {
      "text/html": [
       "<a href=\"https://www.worldpoliticsreview.com/author/simon-allison/\" target=\"_blank\">https://www.worldpoliticsreview.com/author/simon-allison/</a>"
      ],
      "text/plain": [
       "<IPython.core.display.HTML object>"
      ]
     },
     "metadata": {},
     "output_type": "display_data"
    },
    {
     "data": {
      "text/html": [
       "<a href=\"https://www.worldpoliticsreview.com/author/eduardo-arcos/\" target=\"_blank\">https://www.worldpoliticsreview.com/author/eduardo-arcos/</a>"
      ],
      "text/plain": [
       "<IPython.core.display.HTML object>"
      ]
     },
     "metadata": {},
     "output_type": "display_data"
    },
    {
     "data": {
      "text/html": [
       "<a href=\"https://www.worldpoliticsreview.com/author/amir-asmar-2/\" target=\"_blank\">https://www.worldpoliticsreview.com/author/amir-asmar-2/</a>"
      ],
      "text/plain": [
       "<IPython.core.display.HTML object>"
      ]
     },
     "metadata": {},
     "output_type": "display_data"
    },
    {
     "data": {
      "text/html": [
       "<a href=\"https://www.worldpoliticsreview.com/author/joel-atkinson/\" target=\"_blank\">https://www.worldpoliticsreview.com/author/joel-atkinson/</a>"
      ],
      "text/plain": [
       "<IPython.core.display.HTML object>"
      ]
     },
     "metadata": {},
     "output_type": "display_data"
    },
    {
     "data": {
      "text/html": [
       "<a href=\"https://www.worldpoliticsreview.com/author/yiannis-baboulias/\" target=\"_blank\">https://www.worldpoliticsreview.com/author/yiannis-baboulias/</a>"
      ],
      "text/plain": [
       "<IPython.core.display.HTML object>"
      ]
     },
     "metadata": {},
     "output_type": "display_data"
    },
    {
     "data": {
      "text/html": [
       "<a href=\"https://www.worldpoliticsreview.com/author/ryan-c-berg/\" target=\"_blank\">https://www.worldpoliticsreview.com/author/ryan-c-berg/</a>"
      ],
      "text/plain": [
       "<IPython.core.display.HTML object>"
      ]
     },
     "metadata": {},
     "output_type": "display_data"
    },
    {
     "data": {
      "text/html": [
       "<a href=\"https://www.worldpoliticsreview.com/author/johan-bergenas-2/\" target=\"_blank\">https://www.worldpoliticsreview.com/author/johan-bergenas-2/</a>"
      ],
      "text/plain": [
       "<IPython.core.display.HTML object>"
      ]
     },
     "metadata": {},
     "output_type": "display_data"
    },
    {
     "data": {
      "text/html": [
       "<a href=\"https://www.worldpoliticsreview.com/author/bruno-binetti/\" target=\"_blank\">https://www.worldpoliticsreview.com/author/bruno-binetti/</a>"
      ],
      "text/plain": [
       "<IPython.core.display.HTML object>"
      ]
     },
     "metadata": {},
     "output_type": "display_data"
    },
    {
     "data": {
      "text/html": [
       "<a href=\"https://www.worldpoliticsreview.com/authors/\" target=\"_blank\">https://www.worldpoliticsreview.com/authors/</a>"
      ],
      "text/plain": [
       "<IPython.core.display.HTML object>"
      ]
     },
     "metadata": {},
     "output_type": "display_data"
    },
    {
     "data": {
      "text/html": [
       "<a href=\"https://www.worldpoliticsreview.com/news-wire/\" target=\"_blank\">https://www.worldpoliticsreview.com/news-wire/</a>"
      ],
      "text/plain": [
       "<IPython.core.display.HTML object>"
      ]
     },
     "metadata": {},
     "output_type": "display_data"
    },
    {
     "data": {
      "text/html": [
       "<a href=\"https://www.worldpoliticsreview.com/subscribe/\" target=\"_blank\">https://www.worldpoliticsreview.com/subscribe/</a>"
      ],
      "text/plain": [
       "<IPython.core.display.HTML object>"
      ]
     },
     "metadata": {},
     "output_type": "display_data"
    },
    {
     "data": {
      "text/html": [
       "<a href=\"https://www.worldpoliticsreview.com/about/\" target=\"_blank\">https://www.worldpoliticsreview.com/about/</a>"
      ],
      "text/plain": [
       "<IPython.core.display.HTML object>"
      ]
     },
     "metadata": {},
     "output_type": "display_data"
    },
    {
     "data": {
      "text/html": [
       "<a href=\"https://help.worldpoliticsreview.com/en/\" target=\"_blank\">https://help.worldpoliticsreview.com/en/</a>"
      ],
      "text/plain": [
       "<IPython.core.display.HTML object>"
      ]
     },
     "metadata": {},
     "output_type": "display_data"
    },
    {
     "data": {
      "text/html": [
       "<a href=\"https://www.worldpoliticsreview.com/login\" target=\"_blank\">https://www.worldpoliticsreview.com/login</a>"
      ],
      "text/plain": [
       "<IPython.core.display.HTML object>"
      ]
     },
     "metadata": {},
     "output_type": "display_data"
    },
    {
     "data": {
      "text/html": [
       "<a href=\"https://www.worldpoliticsreview.com/join-for-free/\" target=\"_blank\">https://www.worldpoliticsreview.com/join-for-free/</a>"
      ],
      "text/plain": [
       "<IPython.core.display.HTML object>"
      ]
     },
     "metadata": {},
     "output_type": "display_data"
    },
    {
     "data": {
      "text/html": [
       "<a href=\"https://www.worldpoliticsreview.com/journalists-russia-war-ukraine/\" target=\"_blank\">https://www.worldpoliticsreview.com/journalists-russia-war-ukraine/</a>"
      ],
      "text/plain": [
       "<IPython.core.display.HTML object>"
      ]
     },
     "metadata": {},
     "output_type": "display_data"
    },
    {
     "data": {
      "text/html": [
       "<a href=\"https://www.worldpoliticsreview.com/section/column/\" target=\"_blank\">https://www.worldpoliticsreview.com/section/column/</a>"
      ],
      "text/plain": [
       "<IPython.core.display.HTML object>"
      ]
     },
     "metadata": {},
     "output_type": "display_data"
    },
    {
     "data": {
      "text/html": [
       "<a href=\"https://www.worldpoliticsreview.com/region/russia/\" target=\"_blank\">https://www.worldpoliticsreview.com/region/russia/</a>"
      ],
      "text/plain": [
       "<IPython.core.display.HTML object>"
      ]
     },
     "metadata": {},
     "output_type": "display_data"
    },
    {
     "data": {
      "text/html": [
       "<a href=\"https://www.worldpoliticsreview.com/journalists-russia-war-ukraine/\" target=\"_blank\">https://www.worldpoliticsreview.com/journalists-russia-war-ukraine/</a>"
      ],
      "text/plain": [
       "<IPython.core.display.HTML object>"
      ]
     },
     "metadata": {},
     "output_type": "display_data"
    },
    {
     "data": {
      "text/html": [
       "<a href=\"https://www.worldpoliticsreview.com/author/frida-ghitis/\" target=\"_blank\">https://www.worldpoliticsreview.com/author/frida-ghitis/</a>"
      ],
      "text/plain": [
       "<IPython.core.display.HTML object>"
      ]
     },
     "metadata": {},
     "output_type": "display_data"
    },
    {
     "data": {
      "text/html": [
       "<a href=\"https://www.worldpoliticsreview.com/2023/08/24/\" target=\"_blank\">https://www.worldpoliticsreview.com/2023/08/24/</a>"
      ],
      "text/plain": [
       "<IPython.core.display.HTML object>"
      ]
     },
     "metadata": {},
     "output_type": "display_data"
    },
    {
     "data": {
      "text/html": [
       "<a href=\"https://www.worldpoliticsreview.com/uae-russia-us-security/\" target=\"_blank\">https://www.worldpoliticsreview.com/uae-russia-us-security/</a>"
      ],
      "text/plain": [
       "<IPython.core.display.HTML object>"
      ]
     },
     "metadata": {},
     "output_type": "display_data"
    },
    {
     "data": {
      "text/html": [
       "<a href=\"https://www.worldpoliticsreview.com/section/briefing/\" target=\"_blank\">https://www.worldpoliticsreview.com/section/briefing/</a>"
      ],
      "text/plain": [
       "<IPython.core.display.HTML object>"
      ]
     },
     "metadata": {},
     "output_type": "display_data"
    },
    {
     "data": {
      "text/html": [
       "<a href=\"https://www.worldpoliticsreview.com/region/gulf-states/\" target=\"_blank\">https://www.worldpoliticsreview.com/region/gulf-states/</a>"
      ],
      "text/plain": [
       "<IPython.core.display.HTML object>"
      ]
     },
     "metadata": {},
     "output_type": "display_data"
    },
    {
     "data": {
      "text/html": [
       "<a href=\"https://www.worldpoliticsreview.com/uae-russia-us-security/\" target=\"_blank\">https://www.worldpoliticsreview.com/uae-russia-us-security/</a>"
      ],
      "text/plain": [
       "<IPython.core.display.HTML object>"
      ]
     },
     "metadata": {},
     "output_type": "display_data"
    },
    {
     "data": {
      "text/html": [
       "<a href=\"https://www.worldpoliticsreview.com/author/jonathan-fenton-harvey/\" target=\"_blank\">https://www.worldpoliticsreview.com/author/jonathan-fenton-harvey/</a>"
      ],
      "text/plain": [
       "<IPython.core.display.HTML object>"
      ]
     },
     "metadata": {},
     "output_type": "display_data"
    },
    {
     "data": {
      "text/html": [
       "<a href=\"https://www.worldpoliticsreview.com/2023/08/23/\" target=\"_blank\">https://www.worldpoliticsreview.com/2023/08/23/</a>"
      ],
      "text/plain": [
       "<IPython.core.display.HTML object>"
      ]
     },
     "metadata": {},
     "output_type": "display_data"
    },
    {
     "data": {
      "text/html": [
       "<a href=\"https://www.worldpoliticsreview.com/trump-brexit-populism/\" target=\"_blank\">https://www.worldpoliticsreview.com/trump-brexit-populism/</a>"
      ],
      "text/plain": [
       "<IPython.core.display.HTML object>"
      ]
     },
     "metadata": {},
     "output_type": "display_data"
    },
    {
     "data": {
      "text/html": [
       "<a href=\"https://www.worldpoliticsreview.com/section/column/\" target=\"_blank\">https://www.worldpoliticsreview.com/section/column/</a>"
      ],
      "text/plain": [
       "<IPython.core.display.HTML object>"
      ]
     },
     "metadata": {},
     "output_type": "display_data"
    },
    {
     "data": {
      "text/html": [
       "<a href=\"https://www.worldpoliticsreview.com/region/western-europe/\" target=\"_blank\">https://www.worldpoliticsreview.com/region/western-europe/</a>"
      ],
      "text/plain": [
       "<IPython.core.display.HTML object>"
      ]
     },
     "metadata": {},
     "output_type": "display_data"
    },
    {
     "data": {
      "text/html": [
       "<a href=\"https://www.worldpoliticsreview.com/trump-brexit-populism/\" target=\"_blank\">https://www.worldpoliticsreview.com/trump-brexit-populism/</a>"
      ],
      "text/plain": [
       "<IPython.core.display.HTML object>"
      ]
     },
     "metadata": {},
     "output_type": "display_data"
    },
    {
     "data": {
      "text/html": [
       "<a href=\"https://www.worldpoliticsreview.com/author/alexander-clarkson/\" target=\"_blank\">https://www.worldpoliticsreview.com/author/alexander-clarkson/</a>"
      ],
      "text/plain": [
       "<IPython.core.display.HTML object>"
      ]
     },
     "metadata": {},
     "output_type": "display_data"
    },
    {
     "data": {
      "text/html": [
       "<a href=\"https://www.worldpoliticsreview.com/2023/08/23/\" target=\"_blank\">https://www.worldpoliticsreview.com/2023/08/23/</a>"
      ],
      "text/plain": [
       "<IPython.core.display.HTML object>"
      ]
     },
     "metadata": {},
     "output_type": "display_data"
    },
    {
     "data": {
      "text/html": [
       "<a href=\"https://www.worldpoliticsreview.com/zimbabwe-elections-politics-mnangagwa/\" target=\"_blank\">https://www.worldpoliticsreview.com/zimbabwe-elections-politics-mnangagwa/</a>"
      ],
      "text/plain": [
       "<IPython.core.display.HTML object>"
      ]
     },
     "metadata": {},
     "output_type": "display_data"
    },
    {
     "data": {
      "text/html": [
       "<a href=\"https://www.worldpoliticsreview.com/section/briefing/\" target=\"_blank\">https://www.worldpoliticsreview.com/section/briefing/</a>"
      ],
      "text/plain": [
       "<IPython.core.display.HTML object>"
      ]
     },
     "metadata": {},
     "output_type": "display_data"
    },
    {
     "data": {
      "text/html": [
       "<a href=\"https://www.worldpoliticsreview.com/region/southern-africa/\" target=\"_blank\">https://www.worldpoliticsreview.com/region/southern-africa/</a>"
      ],
      "text/plain": [
       "<IPython.core.display.HTML object>"
      ]
     },
     "metadata": {},
     "output_type": "display_data"
    },
    {
     "data": {
      "text/html": [
       "<a href=\"https://www.worldpoliticsreview.com/zimbabwe-elections-politics-mnangagwa/\" target=\"_blank\">https://www.worldpoliticsreview.com/zimbabwe-elections-politics-mnangagwa/</a>"
      ],
      "text/plain": [
       "<IPython.core.display.HTML object>"
      ]
     },
     "metadata": {},
     "output_type": "display_data"
    },
    {
     "data": {
      "text/html": [
       "<a href=\"https://www.worldpoliticsreview.com/author/simon-allison/\" target=\"_blank\">https://www.worldpoliticsreview.com/author/simon-allison/</a>"
      ],
      "text/plain": [
       "<IPython.core.display.HTML object>"
      ]
     },
     "metadata": {},
     "output_type": "display_data"
    },
    {
     "data": {
      "text/html": [
       "<a href=\"https://www.worldpoliticsreview.com/2023/08/22/\" target=\"_blank\">https://www.worldpoliticsreview.com/2023/08/22/</a>"
      ],
      "text/plain": [
       "<IPython.core.display.HTML object>"
      ]
     },
     "metadata": {},
     "output_type": "display_data"
    },
    {
     "data": {
      "text/html": [
       "<a href=\"https://www.worldpoliticsreview.com/g20-brics-un-summit/\" target=\"_blank\">https://www.worldpoliticsreview.com/g20-brics-un-summit/</a>"
      ],
      "text/plain": [
       "<IPython.core.display.HTML object>"
      ]
     },
     "metadata": {},
     "output_type": "display_data"
    },
    {
     "data": {
      "text/html": [
       "<a href=\"https://www.worldpoliticsreview.com/section/column/\" target=\"_blank\">https://www.worldpoliticsreview.com/section/column/</a>"
      ],
      "text/plain": [
       "<IPython.core.display.HTML object>"
      ]
     },
     "metadata": {},
     "output_type": "display_data"
    },
    {
     "data": {
      "text/html": [
       "<a href=\"https://www.worldpoliticsreview.com/region/global/\" target=\"_blank\">https://www.worldpoliticsreview.com/region/global/</a>"
      ],
      "text/plain": [
       "<IPython.core.display.HTML object>"
      ]
     },
     "metadata": {},
     "output_type": "display_data"
    },
    {
     "data": {
      "text/html": [
       "<a href=\"https://www.worldpoliticsreview.com/g20-brics-un-summit/\" target=\"_blank\">https://www.worldpoliticsreview.com/g20-brics-un-summit/</a>"
      ],
      "text/plain": [
       "<IPython.core.display.HTML object>"
      ]
     },
     "metadata": {},
     "output_type": "display_data"
    },
    {
     "data": {
      "text/html": [
       "<a href=\"https://www.worldpoliticsreview.com/author/richard-gowan/\" target=\"_blank\">https://www.worldpoliticsreview.com/author/richard-gowan/</a>"
      ],
      "text/plain": [
       "<IPython.core.display.HTML object>"
      ]
     },
     "metadata": {},
     "output_type": "display_data"
    },
    {
     "data": {
      "text/html": [
       "<a href=\"https://www.worldpoliticsreview.com/2023/08/22/\" target=\"_blank\">https://www.worldpoliticsreview.com/2023/08/22/</a>"
      ],
      "text/plain": [
       "<IPython.core.display.HTML object>"
      ]
     },
     "metadata": {},
     "output_type": "display_data"
    },
    {
     "data": {
      "text/html": [
       "<a href=\"https://www.worldpoliticsreview.com/guatemala-elections-politics-latin-america/\" target=\"_blank\">https://www.worldpoliticsreview.com/guatemala-elections-politics-latin-america/</a>"
      ],
      "text/plain": [
       "<IPython.core.display.HTML object>"
      ]
     },
     "metadata": {},
     "output_type": "display_data"
    },
    {
     "data": {
      "text/html": [
       "<a href=\"https://www.worldpoliticsreview.com/section/column/\" target=\"_blank\">https://www.worldpoliticsreview.com/section/column/</a>"
      ],
      "text/plain": [
       "<IPython.core.display.HTML object>"
      ]
     },
     "metadata": {},
     "output_type": "display_data"
    },
    {
     "data": {
      "text/html": [
       "<a href=\"https://www.worldpoliticsreview.com/region/central-america/\" target=\"_blank\">https://www.worldpoliticsreview.com/region/central-america/</a>"
      ],
      "text/plain": [
       "<IPython.core.display.HTML object>"
      ]
     },
     "metadata": {},
     "output_type": "display_data"
    },
    {
     "data": {
      "text/html": [
       "<a href=\"https://www.worldpoliticsreview.com/guatemala-elections-politics-latin-america/\" target=\"_blank\">https://www.worldpoliticsreview.com/guatemala-elections-politics-latin-america/</a>"
      ],
      "text/plain": [
       "<IPython.core.display.HTML object>"
      ]
     },
     "metadata": {},
     "output_type": "display_data"
    },
    {
     "data": {
      "text/html": [
       "<a href=\"https://www.worldpoliticsreview.com/author/james-bosworth-2923/\" target=\"_blank\">https://www.worldpoliticsreview.com/author/james-bosworth-2923/</a>"
      ],
      "text/plain": [
       "<IPython.core.display.HTML object>"
      ]
     },
     "metadata": {},
     "output_type": "display_data"
    },
    {
     "data": {
      "text/html": [
       "<a href=\"https://www.worldpoliticsreview.com/2023/08/21/\" target=\"_blank\">https://www.worldpoliticsreview.com/2023/08/21/</a>"
      ],
      "text/plain": [
       "<IPython.core.display.HTML object>"
      ]
     },
     "metadata": {},
     "output_type": "display_data"
    },
    {
     "data": {
      "text/html": [
       "<a href=\"https://www.worldpoliticsreview.com/sierra-leone-elections-democracy-bio-slpp-apc-economy/\" target=\"_blank\">https://www.worldpoliticsreview.com/sierra-leone-elections-democracy-bio-slpp-apc-economy/</a>"
      ],
      "text/plain": [
       "<IPython.core.display.HTML object>"
      ]
     },
     "metadata": {},
     "output_type": "display_data"
    },
    {
     "data": {
      "text/html": [
       "<a href=\"https://www.worldpoliticsreview.com/section/briefing/\" target=\"_blank\">https://www.worldpoliticsreview.com/section/briefing/</a>"
      ],
      "text/plain": [
       "<IPython.core.display.HTML object>"
      ]
     },
     "metadata": {},
     "output_type": "display_data"
    },
    {
     "data": {
      "text/html": [
       "<a href=\"https://www.worldpoliticsreview.com/region/west-africa/\" target=\"_blank\">https://www.worldpoliticsreview.com/region/west-africa/</a>"
      ],
      "text/plain": [
       "<IPython.core.display.HTML object>"
      ]
     },
     "metadata": {},
     "output_type": "display_data"
    },
    {
     "data": {
      "text/html": [
       "<a href=\"https://www.worldpoliticsreview.com/sierra-leone-elections-democracy-bio-slpp-apc-economy/\" target=\"_blank\">https://www.worldpoliticsreview.com/sierra-leone-elections-democracy-bio-slpp-apc-economy/</a>"
      ],
      "text/plain": [
       "<IPython.core.display.HTML object>"
      ]
     },
     "metadata": {},
     "output_type": "display_data"
    },
    {
     "data": {
      "text/html": [
       "<a href=\"https://www.worldpoliticsreview.com/author/jamie-hitchen/\" target=\"_blank\">https://www.worldpoliticsreview.com/author/jamie-hitchen/</a>"
      ],
      "text/plain": [
       "<IPython.core.display.HTML object>"
      ]
     },
     "metadata": {},
     "output_type": "display_data"
    },
    {
     "data": {
      "text/html": [
       "<a href=\"https://www.worldpoliticsreview.com/2023/08/21/\" target=\"_blank\">https://www.worldpoliticsreview.com/2023/08/21/</a>"
      ],
      "text/plain": [
       "<IPython.core.display.HTML object>"
      ]
     },
     "metadata": {},
     "output_type": "display_data"
    },
    {
     "data": {
      "text/html": [
       "<a href=\"https://www.worldpoliticsreview.com/section/briefing/\" target=\"_blank\">https://www.worldpoliticsreview.com/section/briefing/</a>"
      ],
      "text/plain": [
       "<IPython.core.display.HTML object>"
      ]
     },
     "metadata": {},
     "output_type": "display_data"
    },
    {
     "data": {
      "text/html": [
       "<a href=\"https://www.worldpoliticsreview.com/region/south-america/\" target=\"_blank\">https://www.worldpoliticsreview.com/region/south-america/</a>"
      ],
      "text/plain": [
       "<IPython.core.display.HTML object>"
      ]
     },
     "metadata": {},
     "output_type": "display_data"
    },
    {
     "data": {
      "text/html": [
       "<a href=\"https://www.worldpoliticsreview.com/argentina-election-milei-economic-crisis-kirchner-fernandez/\" target=\"_blank\">https://www.worldpoliticsreview.com/argentina-election-milei-economic-crisis-kirchner-fernandez/</a>"
      ],
      "text/plain": [
       "<IPython.core.display.HTML object>"
      ]
     },
     "metadata": {},
     "output_type": "display_data"
    },
    {
     "data": {
      "text/html": [
       "<a href=\"https://www.worldpoliticsreview.com/author/bruno-binetti/\" target=\"_blank\">https://www.worldpoliticsreview.com/author/bruno-binetti/</a>"
      ],
      "text/plain": [
       "<IPython.core.display.HTML object>"
      ]
     },
     "metadata": {},
     "output_type": "display_data"
    },
    {
     "data": {
      "text/html": [
       "<a href=\"https://www.worldpoliticsreview.com/2023/08/18/\" target=\"_blank\">https://www.worldpoliticsreview.com/2023/08/18/</a>"
      ],
      "text/plain": [
       "<IPython.core.display.HTML object>"
      ]
     },
     "metadata": {},
     "output_type": "display_data"
    },
    {
     "data": {
      "text/html": [
       "<a href=\"https://www.worldpoliticsreview.com/section/column/\" target=\"_blank\">https://www.worldpoliticsreview.com/section/column/</a>"
      ],
      "text/plain": [
       "<IPython.core.display.HTML object>"
      ]
     },
     "metadata": {},
     "output_type": "display_data"
    },
    {
     "data": {
      "text/html": [
       "<a href=\"https://www.worldpoliticsreview.com/region/united-states/\" target=\"_blank\">https://www.worldpoliticsreview.com/region/united-states/</a>"
      ],
      "text/plain": [
       "<IPython.core.display.HTML object>"
      ]
     },
     "metadata": {},
     "output_type": "display_data"
    },
    {
     "data": {
      "text/html": [
       "<a href=\"https://www.worldpoliticsreview.com/us-china-trade-war-restrictions-semiconductors-tech-biden/\" target=\"_blank\">https://www.worldpoliticsreview.com/us-china-trade-war-restrictions-semiconductors-tech-biden/</a>"
      ],
      "text/plain": [
       "<IPython.core.display.HTML object>"
      ]
     },
     "metadata": {},
     "output_type": "display_data"
    },
    {
     "data": {
      "text/html": [
       "<a href=\"https://www.worldpoliticsreview.com/author/paul-poast-2920/\" target=\"_blank\">https://www.worldpoliticsreview.com/author/paul-poast-2920/</a>"
      ],
      "text/plain": [
       "<IPython.core.display.HTML object>"
      ]
     },
     "metadata": {},
     "output_type": "display_data"
    },
    {
     "data": {
      "text/html": [
       "<a href=\"https://www.worldpoliticsreview.com/2023/08/18/\" target=\"_blank\">https://www.worldpoliticsreview.com/2023/08/18/</a>"
      ],
      "text/plain": [
       "<IPython.core.display.HTML object>"
      ]
     },
     "metadata": {},
     "output_type": "display_data"
    },
    {
     "data": {
      "text/html": [
       "<a href=\"https://www.worldpoliticsreview.com/section/briefing/\" target=\"_blank\">https://www.worldpoliticsreview.com/section/briefing/</a>"
      ],
      "text/plain": [
       "<IPython.core.display.HTML object>"
      ]
     },
     "metadata": {},
     "output_type": "display_data"
    },
    {
     "data": {
      "text/html": [
       "<a href=\"https://www.worldpoliticsreview.com/region/south-east-asia/\" target=\"_blank\">https://www.worldpoliticsreview.com/region/south-east-asia/</a>"
      ],
      "text/plain": [
       "<IPython.core.display.HTML object>"
      ]
     },
     "metadata": {},
     "output_type": "display_data"
    },
    {
     "data": {
      "text/html": [
       "<a href=\"https://www.worldpoliticsreview.com/singapore-pap-corruption-politics-democracy-lee-hsien-loong/\" target=\"_blank\">https://www.worldpoliticsreview.com/singapore-pap-corruption-politics-democracy-lee-hsien-loong/</a>"
      ],
      "text/plain": [
       "<IPython.core.display.HTML object>"
      ]
     },
     "metadata": {},
     "output_type": "display_data"
    },
    {
     "data": {
      "text/html": [
       "<a href=\"https://www.worldpoliticsreview.com/author/joshua-kurlantzick/\" target=\"_blank\">https://www.worldpoliticsreview.com/author/joshua-kurlantzick/</a>"
      ],
      "text/plain": [
       "<IPython.core.display.HTML object>"
      ]
     },
     "metadata": {},
     "output_type": "display_data"
    },
    {
     "data": {
      "text/html": [
       "<a href=\"https://www.worldpoliticsreview.com/2023/08/17/\" target=\"_blank\">https://www.worldpoliticsreview.com/2023/08/17/</a>"
      ],
      "text/plain": [
       "<IPython.core.display.HTML object>"
      ]
     },
     "metadata": {},
     "output_type": "display_data"
    },
    {
     "data": {
      "text/html": [
       "<a href=\"https://www.worldpoliticsreview.com/section/column/\" target=\"_blank\">https://www.worldpoliticsreview.com/section/column/</a>"
      ],
      "text/plain": [
       "<IPython.core.display.HTML object>"
      ]
     },
     "metadata": {},
     "output_type": "display_data"
    },
    {
     "data": {
      "text/html": [
       "<a href=\"https://www.worldpoliticsreview.com/region/western-europe/\" target=\"_blank\">https://www.worldpoliticsreview.com/region/western-europe/</a>"
      ],
      "text/plain": [
       "<IPython.core.display.HTML object>"
      ]
     },
     "metadata": {},
     "output_type": "display_data"
    },
    {
     "data": {
      "text/html": [
       "<a href=\"https://www.worldpoliticsreview.com/mark-rutte-vvd-netherlands-politics-dutch-elections-farmers/\" target=\"_blank\">https://www.worldpoliticsreview.com/mark-rutte-vvd-netherlands-politics-dutch-elections-farmers/</a>"
      ],
      "text/plain": [
       "<IPython.core.display.HTML object>"
      ]
     },
     "metadata": {},
     "output_type": "display_data"
    },
    {
     "data": {
      "text/html": [
       "<a href=\"https://www.worldpoliticsreview.com/author/frida-ghitis/\" target=\"_blank\">https://www.worldpoliticsreview.com/author/frida-ghitis/</a>"
      ],
      "text/plain": [
       "<IPython.core.display.HTML object>"
      ]
     },
     "metadata": {},
     "output_type": "display_data"
    },
    {
     "data": {
      "text/html": [
       "<a href=\"https://www.worldpoliticsreview.com/2023/08/17/\" target=\"_blank\">https://www.worldpoliticsreview.com/2023/08/17/</a>"
      ],
      "text/plain": [
       "<IPython.core.display.HTML object>"
      ]
     },
     "metadata": {},
     "output_type": "display_data"
    },
    {
     "data": {
      "text/html": [
       "<a href=\"https://www.worldpoliticsreview.com/section/briefing/\" target=\"_blank\">https://www.worldpoliticsreview.com/section/briefing/</a>"
      ],
      "text/plain": [
       "<IPython.core.display.HTML object>"
      ]
     },
     "metadata": {},
     "output_type": "display_data"
    },
    {
     "data": {
      "text/html": [
       "<a href=\"https://www.worldpoliticsreview.com/region/east-africa/\" target=\"_blank\">https://www.worldpoliticsreview.com/region/east-africa/</a>"
      ],
      "text/plain": [
       "<IPython.core.display.HTML object>"
      ]
     },
     "metadata": {},
     "output_type": "display_data"
    },
    {
     "data": {
      "text/html": [
       "<a href=\"https://www.worldpoliticsreview.com/amhara-ethiopia-conflict-fano-politics-war-tigray/\" target=\"_blank\">https://www.worldpoliticsreview.com/amhara-ethiopia-conflict-fano-politics-war-tigray/</a>"
      ],
      "text/plain": [
       "<IPython.core.display.HTML object>"
      ]
     },
     "metadata": {},
     "output_type": "display_data"
    },
    {
     "data": {
      "text/html": [
       "<a href=\"https://www.worldpoliticsreview.com/author/bereket-diriba/\" target=\"_blank\">https://www.worldpoliticsreview.com/author/bereket-diriba/</a>"
      ],
      "text/plain": [
       "<IPython.core.display.HTML object>"
      ]
     },
     "metadata": {},
     "output_type": "display_data"
    },
    {
     "data": {
      "text/html": [
       "<a href=\"https://www.worldpoliticsreview.com/2023/08/16/\" target=\"_blank\">https://www.worldpoliticsreview.com/2023/08/16/</a>"
      ],
      "text/plain": [
       "<IPython.core.display.HTML object>"
      ]
     },
     "metadata": {},
     "output_type": "display_data"
    },
    {
     "data": {
      "text/html": [
       "<a href=\"https://www.worldpoliticsreview.com/section/column/\" target=\"_blank\">https://www.worldpoliticsreview.com/section/column/</a>"
      ],
      "text/plain": [
       "<IPython.core.display.HTML object>"
      ]
     },
     "metadata": {},
     "output_type": "display_data"
    },
    {
     "data": {
      "text/html": [
       "<a href=\"https://www.worldpoliticsreview.com/region/western-europe/\" target=\"_blank\">https://www.worldpoliticsreview.com/region/western-europe/</a>"
      ],
      "text/plain": [
       "<IPython.core.display.HTML object>"
      ]
     },
     "metadata": {},
     "output_type": "display_data"
    },
    {
     "data": {
      "text/html": [
       "<a href=\"https://www.worldpoliticsreview.com/wagenknecht-germany-left-party-politics-democracy-far-right/\" target=\"_blank\">https://www.worldpoliticsreview.com/wagenknecht-germany-left-party-politics-democracy-far-right/</a>"
      ],
      "text/plain": [
       "<IPython.core.display.HTML object>"
      ]
     },
     "metadata": {},
     "output_type": "display_data"
    },
    {
     "data": {
      "text/html": [
       "<a href=\"https://www.worldpoliticsreview.com/author/alexander-clarkson/\" target=\"_blank\">https://www.worldpoliticsreview.com/author/alexander-clarkson/</a>"
      ],
      "text/plain": [
       "<IPython.core.display.HTML object>"
      ]
     },
     "metadata": {},
     "output_type": "display_data"
    },
    {
     "data": {
      "text/html": [
       "<a href=\"https://www.worldpoliticsreview.com/2023/08/16/\" target=\"_blank\">https://www.worldpoliticsreview.com/2023/08/16/</a>"
      ],
      "text/plain": [
       "<IPython.core.display.HTML object>"
      ]
     },
     "metadata": {},
     "output_type": "display_data"
    },
    {
     "data": {
      "text/html": [
       "<a href=\"https://www.worldpoliticsreview.com/section/column/\" target=\"_blank\">https://www.worldpoliticsreview.com/section/column/</a>"
      ],
      "text/plain": [
       "<IPython.core.display.HTML object>"
      ]
     },
     "metadata": {},
     "output_type": "display_data"
    },
    {
     "data": {
      "text/html": [
       "<a href=\"https://www.worldpoliticsreview.com/region/united-states/\" target=\"_blank\">https://www.worldpoliticsreview.com/region/united-states/</a>"
      ],
      "text/plain": [
       "<IPython.core.display.HTML object>"
      ]
     },
     "metadata": {},
     "output_type": "display_data"
    },
    {
     "data": {
      "text/html": [
       "<a href=\"https://www.worldpoliticsreview.com/united-states-climate-change-military-biden-us-national-security-strategy/\" target=\"_blank\">https://www.worldpoliticsreview.com/united-states-climate-change-military-biden-us-national-security-strategy/</a>"
      ],
      "text/plain": [
       "<IPython.core.display.HTML object>"
      ]
     },
     "metadata": {},
     "output_type": "display_data"
    },
    {
     "data": {
      "text/html": [
       "<a href=\"https://www.worldpoliticsreview.com/author/charli-carpenter/\" target=\"_blank\">https://www.worldpoliticsreview.com/author/charli-carpenter/</a>"
      ],
      "text/plain": [
       "<IPython.core.display.HTML object>"
      ]
     },
     "metadata": {},
     "output_type": "display_data"
    },
    {
     "data": {
      "text/html": [
       "<a href=\"https://www.worldpoliticsreview.com/2023/08/15/\" target=\"_blank\">https://www.worldpoliticsreview.com/2023/08/15/</a>"
      ],
      "text/plain": [
       "<IPython.core.display.HTML object>"
      ]
     },
     "metadata": {},
     "output_type": "display_data"
    },
    {
     "data": {
      "text/html": [
       "<a href=\"https://www.worldpoliticsreview.com/news-wire\" target=\"_blank\">https://www.worldpoliticsreview.com/news-wire</a>"
      ],
      "text/plain": [
       "<IPython.core.display.HTML object>"
      ]
     },
     "metadata": {},
     "output_type": "display_data"
    },
    {
     "data": {
      "text/html": [
       "<a href=\"https://www.worldpoliticsreview.com/news-wire-section/news/\" target=\"_blank\">https://www.worldpoliticsreview.com/news-wire-section/news/</a>"
      ],
      "text/plain": [
       "<IPython.core.display.HTML object>"
      ]
     },
     "metadata": {},
     "output_type": "display_data"
    },
    {
     "data": {
      "text/html": [
       "<a href=\"https://www.worldpoliticsreview.com/news-wire-region/europe/\" target=\"_blank\">https://www.worldpoliticsreview.com/news-wire-region/europe/</a>"
      ],
      "text/plain": [
       "<IPython.core.display.HTML object>"
      ]
     },
     "metadata": {},
     "output_type": "display_data"
    },
    {
     "data": {
      "text/html": [
       "<a href=\"https://apnews.com/article/russia-wagner-prigozhin-jet-crash-382515214f691e47daa2e3635d64e612\" target=\"_blank\">https://apnews.com/article/russia-wagner-prigozhin-jet-crash-382515214f691e47daa2e3635d64e612</a>"
      ],
      "text/plain": [
       "<IPython.core.display.HTML object>"
      ]
     },
     "metadata": {},
     "output_type": "display_data"
    },
    {
     "data": {
      "text/html": [
       "<a href=\"https://www.worldpoliticsreview.com/yevgeny-prigozhin-wagner-putin-russia-war-ukraine-politics/\" target=\"_blank\">https://www.worldpoliticsreview.com/yevgeny-prigozhin-wagner-putin-russia-war-ukraine-politics/</a>"
      ],
      "text/plain": [
       "<IPython.core.display.HTML object>"
      ]
     },
     "metadata": {},
     "output_type": "display_data"
    },
    {
     "data": {
      "text/html": [
       "<a href=\"https://www.worldpoliticsreview.com/news-wire-section/news/\" target=\"_blank\">https://www.worldpoliticsreview.com/news-wire-section/news/</a>"
      ],
      "text/plain": [
       "<IPython.core.display.HTML object>"
      ]
     },
     "metadata": {},
     "output_type": "display_data"
    },
    {
     "data": {
      "text/html": [
       "<a href=\"https://www.worldpoliticsreview.com/news-wire-region/middle-east-north-africa/\" target=\"_blank\">https://www.worldpoliticsreview.com/news-wire-region/middle-east-north-africa/</a>"
      ],
      "text/plain": [
       "<IPython.core.display.HTML object>"
      ]
     },
     "metadata": {},
     "output_type": "display_data"
    },
    {
     "data": {
      "text/html": [
       "<a href=\"https://www.nytimes.com/2023/08/24/world/europe/brics-expansion-xi-lula.html\" target=\"_blank\">https://www.nytimes.com/2023/08/24/world/europe/brics-expansion-xi-lula.html</a>"
      ],
      "text/plain": [
       "<IPython.core.display.HTML object>"
      ]
     },
     "metadata": {},
     "output_type": "display_data"
    },
    {
     "data": {
      "text/html": [
       "<a href=\"https://www.worldpoliticsreview.com/brics-alliance-expansion-china-russia-india-south-africa/\" target=\"_blank\">https://www.worldpoliticsreview.com/brics-alliance-expansion-china-russia-india-south-africa/</a>"
      ],
      "text/plain": [
       "<IPython.core.display.HTML object>"
      ]
     },
     "metadata": {},
     "output_type": "display_data"
    },
    {
     "data": {
      "text/html": [
       "<a href=\"https://www.worldpoliticsreview.com/news-wire-section/news/\" target=\"_blank\">https://www.worldpoliticsreview.com/news-wire-section/news/</a>"
      ],
      "text/plain": [
       "<IPython.core.display.HTML object>"
      ]
     },
     "metadata": {},
     "output_type": "display_data"
    },
    {
     "data": {
      "text/html": [
       "<a href=\"https://www.worldpoliticsreview.com/news-wire-region/the-americas/\" target=\"_blank\">https://www.worldpoliticsreview.com/news-wire-region/the-americas/</a>"
      ],
      "text/plain": [
       "<IPython.core.display.HTML object>"
      ]
     },
     "metadata": {},
     "output_type": "display_data"
    },
    {
     "data": {
      "text/html": [
       "<a href=\"https://apnews.com/article/nicaragua-bans-jesuits-confiscate-properties-280e6d2e63b15a171a7ba9a5c323d180\" target=\"_blank\">https://apnews.com/article/nicaragua-bans-jesuits-confiscate-properties-280e6d2e63b15a171a7ba9a5c323d180</a>"
      ],
      "text/plain": [
       "<IPython.core.display.HTML object>"
      ]
     },
     "metadata": {},
     "output_type": "display_data"
    },
    {
     "data": {
      "text/html": [
       "<a href=\"https://www.worldpoliticsreview.com/ortega-nicaragua-catholic-church-democracy-human-rights/\" target=\"_blank\">https://www.worldpoliticsreview.com/ortega-nicaragua-catholic-church-democracy-human-rights/</a>"
      ],
      "text/plain": [
       "<IPython.core.display.HTML object>"
      ]
     },
     "metadata": {},
     "output_type": "display_data"
    },
    {
     "data": {
      "text/html": [
       "<a href=\"https://www.worldpoliticsreview.com/news-wire-section/news/\" target=\"_blank\">https://www.worldpoliticsreview.com/news-wire-section/news/</a>"
      ],
      "text/plain": [
       "<IPython.core.display.HTML object>"
      ]
     },
     "metadata": {},
     "output_type": "display_data"
    },
    {
     "data": {
      "text/html": [
       "<a href=\"https://www.worldpoliticsreview.com/news-wire-region/europe/\" target=\"_blank\">https://www.worldpoliticsreview.com/news-wire-region/europe/</a>"
      ],
      "text/plain": [
       "<IPython.core.display.HTML object>"
      ]
     },
     "metadata": {},
     "output_type": "display_data"
    },
    {
     "data": {
      "text/html": [
       "<a href=\"https://www.bloomberg.com/news/articles/2023-08-24/hungarian-president-pushes-past-orban-to-reset-ukraine-relations\" target=\"_blank\">https://www.bloomberg.com/news/articles/2023-08-24/hungarian-president-pushes-past-orban-to-reset-ukraine-relations</a>"
      ],
      "text/plain": [
       "<IPython.core.display.HTML object>"
      ]
     },
     "metadata": {},
     "output_type": "display_data"
    },
    {
     "data": {
      "text/html": [
       "<a href=\"https://www.worldpoliticsreview.com/news-wire-section/news/\" target=\"_blank\">https://www.worldpoliticsreview.com/news-wire-section/news/</a>"
      ],
      "text/plain": [
       "<IPython.core.display.HTML object>"
      ]
     },
     "metadata": {},
     "output_type": "display_data"
    },
    {
     "data": {
      "text/html": [
       "<a href=\"https://www.worldpoliticsreview.com/news-wire-region/africa/\" target=\"_blank\">https://www.worldpoliticsreview.com/news-wire-region/africa/</a>"
      ],
      "text/plain": [
       "<IPython.core.display.HTML object>"
      ]
     },
     "metadata": {},
     "output_type": "display_data"
    },
    {
     "data": {
      "text/html": [
       "<a href=\"https://apnews.com/article/zimbabwe-election-mnangagwa-3c354f2928902de8e91fb907c6fb7d40\" target=\"_blank\">https://apnews.com/article/zimbabwe-election-mnangagwa-3c354f2928902de8e91fb907c6fb7d40</a>"
      ],
      "text/plain": [
       "<IPython.core.display.HTML object>"
      ]
     },
     "metadata": {},
     "output_type": "display_data"
    },
    {
     "data": {
      "text/html": [
       "<a href=\"https://www.worldpoliticsreview.com/zimbabwe-elections-politics-mnangagwa/\" target=\"_blank\">https://www.worldpoliticsreview.com/zimbabwe-elections-politics-mnangagwa/</a>"
      ],
      "text/plain": [
       "<IPython.core.display.HTML object>"
      ]
     },
     "metadata": {},
     "output_type": "display_data"
    },
    {
     "data": {
      "text/html": [
       "<a href=\"https://www.worldpoliticsreview.com/news-wire-section/news/\" target=\"_blank\">https://www.worldpoliticsreview.com/news-wire-section/news/</a>"
      ],
      "text/plain": [
       "<IPython.core.display.HTML object>"
      ]
     },
     "metadata": {},
     "output_type": "display_data"
    },
    {
     "data": {
      "text/html": [
       "<a href=\"https://www.worldpoliticsreview.com/news-wire-region/middle-east-north-africa/\" target=\"_blank\">https://www.worldpoliticsreview.com/news-wire-region/middle-east-north-africa/</a>"
      ],
      "text/plain": [
       "<IPython.core.display.HTML object>"
      ]
     },
     "metadata": {},
     "output_type": "display_data"
    },
    {
     "data": {
      "text/html": [
       "<a href=\"https://apnews.com/article/syria-sweida-protests-economic-crisis-1752a7582d9dcad373c4c7be78a3019d\" target=\"_blank\">https://apnews.com/article/syria-sweida-protests-economic-crisis-1752a7582d9dcad373c4c7be78a3019d</a>"
      ],
      "text/plain": [
       "<IPython.core.display.HTML object>"
      ]
     },
     "metadata": {},
     "output_type": "display_data"
    },
    {
     "data": {
      "text/html": [
       "<a href=\"https://www.worldpoliticsreview.com/syria-civil-war-assad-regime-economy-refugees-corruption/\" target=\"_blank\">https://www.worldpoliticsreview.com/syria-civil-war-assad-regime-economy-refugees-corruption/</a>"
      ],
      "text/plain": [
       "<IPython.core.display.HTML object>"
      ]
     },
     "metadata": {},
     "output_type": "display_data"
    },
    {
     "data": {
      "text/html": [
       "<a href=\"https://www.worldpoliticsreview.com/subscribe/\" target=\"_blank\">https://www.worldpoliticsreview.com/subscribe/</a>"
      ],
      "text/plain": [
       "<IPython.core.display.HTML object>"
      ]
     },
     "metadata": {},
     "output_type": "display_data"
    },
    {
     "data": {
      "text/html": [
       "<a href=\"https://twitter.com/wpreview\" target=\"_blank\">https://twitter.com/wpreview</a>"
      ],
      "text/plain": [
       "<IPython.core.display.HTML object>"
      ]
     },
     "metadata": {},
     "output_type": "display_data"
    },
    {
     "data": {
      "text/html": [
       "<a href=\"https://www.facebook.com/worldpoliticsreview\" target=\"_blank\">https://www.facebook.com/worldpoliticsreview</a>"
      ],
      "text/plain": [
       "<IPython.core.display.HTML object>"
      ]
     },
     "metadata": {},
     "output_type": "display_data"
    },
    {
     "data": {
      "text/html": [
       "<a href=\"https://www.linkedin.com/company/world-politics-review/\" target=\"_blank\">https://www.linkedin.com/company/world-politics-review/</a>"
      ],
      "text/plain": [
       "<IPython.core.display.HTML object>"
      ]
     },
     "metadata": {},
     "output_type": "display_data"
    },
    {
     "data": {
      "text/html": [
       "<a href=\"https://mailchi.mp/worldpoliticsreview/newsletter\" target=\"_blank\">https://mailchi.mp/worldpoliticsreview/newsletter</a>"
      ],
      "text/plain": [
       "<IPython.core.display.HTML object>"
      ]
     },
     "metadata": {},
     "output_type": "display_data"
    },
    {
     "data": {
      "text/html": [
       "<a href=\"https://www.worldpoliticsreview.com/us-china-trade-war-restrictions-semiconductors-tech-biden/\" target=\"_blank\">https://www.worldpoliticsreview.com/us-china-trade-war-restrictions-semiconductors-tech-biden/</a>"
      ],
      "text/plain": [
       "<IPython.core.display.HTML object>"
      ]
     },
     "metadata": {},
     "output_type": "display_data"
    },
    {
     "data": {
      "text/html": [
       "<a href=\"https://www.worldpoliticsreview.com/region/united-states/\" target=\"_blank\">https://www.worldpoliticsreview.com/region/united-states/</a>"
      ],
      "text/plain": [
       "<IPython.core.display.HTML object>"
      ]
     },
     "metadata": {},
     "output_type": "display_data"
    },
    {
     "data": {
      "text/html": [
       "<a href=\"https://www.worldpoliticsreview.com/us-china-trade-war-restrictions-semiconductors-tech-biden/\" target=\"_blank\">https://www.worldpoliticsreview.com/us-china-trade-war-restrictions-semiconductors-tech-biden/</a>"
      ],
      "text/plain": [
       "<IPython.core.display.HTML object>"
      ]
     },
     "metadata": {},
     "output_type": "display_data"
    },
    {
     "data": {
      "text/html": [
       "<a href=\"https://www.worldpoliticsreview.com/author/paul-poast-2920/\" target=\"_blank\">https://www.worldpoliticsreview.com/author/paul-poast-2920/</a>"
      ],
      "text/plain": [
       "<IPython.core.display.HTML object>"
      ]
     },
     "metadata": {},
     "output_type": "display_data"
    },
    {
     "data": {
      "text/html": [
       "<a href=\"https://www.worldpoliticsreview.com/2023/08/18/\" target=\"_blank\">https://www.worldpoliticsreview.com/2023/08/18/</a>"
      ],
      "text/plain": [
       "<IPython.core.display.HTML object>"
      ]
     },
     "metadata": {},
     "output_type": "display_data"
    },
    {
     "data": {
      "text/html": [
       "<a href=\"https://www.worldpoliticsreview.com/mark-rutte-vvd-netherlands-politics-dutch-elections-farmers/\" target=\"_blank\">https://www.worldpoliticsreview.com/mark-rutte-vvd-netherlands-politics-dutch-elections-farmers/</a>"
      ],
      "text/plain": [
       "<IPython.core.display.HTML object>"
      ]
     },
     "metadata": {},
     "output_type": "display_data"
    },
    {
     "data": {
      "text/html": [
       "<a href=\"https://www.worldpoliticsreview.com/region/europe/\" target=\"_blank\">https://www.worldpoliticsreview.com/region/europe/</a>"
      ],
      "text/plain": [
       "<IPython.core.display.HTML object>"
      ]
     },
     "metadata": {},
     "output_type": "display_data"
    },
    {
     "data": {
      "text/html": [
       "<a href=\"https://www.worldpoliticsreview.com/mark-rutte-vvd-netherlands-politics-dutch-elections-farmers/\" target=\"_blank\">https://www.worldpoliticsreview.com/mark-rutte-vvd-netherlands-politics-dutch-elections-farmers/</a>"
      ],
      "text/plain": [
       "<IPython.core.display.HTML object>"
      ]
     },
     "metadata": {},
     "output_type": "display_data"
    },
    {
     "data": {
      "text/html": [
       "<a href=\"https://www.worldpoliticsreview.com/author/frida-ghitis/\" target=\"_blank\">https://www.worldpoliticsreview.com/author/frida-ghitis/</a>"
      ],
      "text/plain": [
       "<IPython.core.display.HTML object>"
      ]
     },
     "metadata": {},
     "output_type": "display_data"
    },
    {
     "data": {
      "text/html": [
       "<a href=\"https://www.worldpoliticsreview.com/2023/08/17/\" target=\"_blank\">https://www.worldpoliticsreview.com/2023/08/17/</a>"
      ],
      "text/plain": [
       "<IPython.core.display.HTML object>"
      ]
     },
     "metadata": {},
     "output_type": "display_data"
    },
    {
     "data": {
      "text/html": [
       "<a href=\"https://www.worldpoliticsreview.com/us-afghanistan-taliban-iran-relations-drugs-water/\" target=\"_blank\">https://www.worldpoliticsreview.com/us-afghanistan-taliban-iran-relations-drugs-water/</a>"
      ],
      "text/plain": [
       "<IPython.core.display.HTML object>"
      ]
     },
     "metadata": {},
     "output_type": "display_data"
    },
    {
     "data": {
      "text/html": [
       "<a href=\"https://www.worldpoliticsreview.com/region/middle-east-north-africa/\" target=\"_blank\">https://www.worldpoliticsreview.com/region/middle-east-north-africa/</a>"
      ],
      "text/plain": [
       "<IPython.core.display.HTML object>"
      ]
     },
     "metadata": {},
     "output_type": "display_data"
    },
    {
     "data": {
      "text/html": [
       "<a href=\"https://www.worldpoliticsreview.com/us-afghanistan-taliban-iran-relations-drugs-water/\" target=\"_blank\">https://www.worldpoliticsreview.com/us-afghanistan-taliban-iran-relations-drugs-water/</a>"
      ],
      "text/plain": [
       "<IPython.core.display.HTML object>"
      ]
     },
     "metadata": {},
     "output_type": "display_data"
    },
    {
     "data": {
      "text/html": [
       "<a href=\"https://www.worldpoliticsreview.com/author/borzou-daragahi/\" target=\"_blank\">https://www.worldpoliticsreview.com/author/borzou-daragahi/</a>"
      ],
      "text/plain": [
       "<IPython.core.display.HTML object>"
      ]
     },
     "metadata": {},
     "output_type": "display_data"
    },
    {
     "data": {
      "text/html": [
       "<a href=\"https://www.worldpoliticsreview.com/2023/08/15/\" target=\"_blank\">https://www.worldpoliticsreview.com/2023/08/15/</a>"
      ],
      "text/plain": [
       "<IPython.core.display.HTML object>"
      ]
     },
     "metadata": {},
     "output_type": "display_data"
    },
    {
     "data": {
      "text/html": [
       "<a href=\"https://www.worldpoliticsreview.com/singapore-pap-corruption-politics-democracy-lee-hsien-loong/\" target=\"_blank\">https://www.worldpoliticsreview.com/singapore-pap-corruption-politics-democracy-lee-hsien-loong/</a>"
      ],
      "text/plain": [
       "<IPython.core.display.HTML object>"
      ]
     },
     "metadata": {},
     "output_type": "display_data"
    },
    {
     "data": {
      "text/html": [
       "<a href=\"https://www.worldpoliticsreview.com/region/asia-pacific/\" target=\"_blank\">https://www.worldpoliticsreview.com/region/asia-pacific/</a>"
      ],
      "text/plain": [
       "<IPython.core.display.HTML object>"
      ]
     },
     "metadata": {},
     "output_type": "display_data"
    },
    {
     "data": {
      "text/html": [
       "<a href=\"https://www.worldpoliticsreview.com/singapore-pap-corruption-politics-democracy-lee-hsien-loong/\" target=\"_blank\">https://www.worldpoliticsreview.com/singapore-pap-corruption-politics-democracy-lee-hsien-loong/</a>"
      ],
      "text/plain": [
       "<IPython.core.display.HTML object>"
      ]
     },
     "metadata": {},
     "output_type": "display_data"
    },
    {
     "data": {
      "text/html": [
       "<a href=\"https://www.worldpoliticsreview.com/author/joshua-kurlantzick/\" target=\"_blank\">https://www.worldpoliticsreview.com/author/joshua-kurlantzick/</a>"
      ],
      "text/plain": [
       "<IPython.core.display.HTML object>"
      ]
     },
     "metadata": {},
     "output_type": "display_data"
    },
    {
     "data": {
      "text/html": [
       "<a href=\"https://www.worldpoliticsreview.com/2023/08/17/\" target=\"_blank\">https://www.worldpoliticsreview.com/2023/08/17/</a>"
      ],
      "text/plain": [
       "<IPython.core.display.HTML object>"
      ]
     },
     "metadata": {},
     "output_type": "display_data"
    },
    {
     "data": {
      "text/html": [
       "<a href=\"https://www.worldpoliticsreview.com/argentina-election-milei-economic-crisis-kirchner-fernandez/\" target=\"_blank\">https://www.worldpoliticsreview.com/argentina-election-milei-economic-crisis-kirchner-fernandez/</a>"
      ],
      "text/plain": [
       "<IPython.core.display.HTML object>"
      ]
     },
     "metadata": {},
     "output_type": "display_data"
    },
    {
     "data": {
      "text/html": [
       "<a href=\"https://www.worldpoliticsreview.com/region/the-americas/\" target=\"_blank\">https://www.worldpoliticsreview.com/region/the-americas/</a>"
      ],
      "text/plain": [
       "<IPython.core.display.HTML object>"
      ]
     },
     "metadata": {},
     "output_type": "display_data"
    },
    {
     "data": {
      "text/html": [
       "<a href=\"https://www.worldpoliticsreview.com/argentina-election-milei-economic-crisis-kirchner-fernandez/\" target=\"_blank\">https://www.worldpoliticsreview.com/argentina-election-milei-economic-crisis-kirchner-fernandez/</a>"
      ],
      "text/plain": [
       "<IPython.core.display.HTML object>"
      ]
     },
     "metadata": {},
     "output_type": "display_data"
    },
    {
     "data": {
      "text/html": [
       "<a href=\"https://www.worldpoliticsreview.com/author/bruno-binetti/\" target=\"_blank\">https://www.worldpoliticsreview.com/author/bruno-binetti/</a>"
      ],
      "text/plain": [
       "<IPython.core.display.HTML object>"
      ]
     },
     "metadata": {},
     "output_type": "display_data"
    },
    {
     "data": {
      "text/html": [
       "<a href=\"https://www.worldpoliticsreview.com/2023/08/18/\" target=\"_blank\">https://www.worldpoliticsreview.com/2023/08/18/</a>"
      ],
      "text/plain": [
       "<IPython.core.display.HTML object>"
      ]
     },
     "metadata": {},
     "output_type": "display_data"
    },
    {
     "data": {
      "text/html": [
       "<a href=\"https://www.worldpoliticsreview.com/amhara-ethiopia-conflict-fano-politics-war-tigray/\" target=\"_blank\">https://www.worldpoliticsreview.com/amhara-ethiopia-conflict-fano-politics-war-tigray/</a>"
      ],
      "text/plain": [
       "<IPython.core.display.HTML object>"
      ]
     },
     "metadata": {},
     "output_type": "display_data"
    },
    {
     "data": {
      "text/html": [
       "<a href=\"https://www.worldpoliticsreview.com/region/africa/\" target=\"_blank\">https://www.worldpoliticsreview.com/region/africa/</a>"
      ],
      "text/plain": [
       "<IPython.core.display.HTML object>"
      ]
     },
     "metadata": {},
     "output_type": "display_data"
    },
    {
     "data": {
      "text/html": [
       "<a href=\"https://www.worldpoliticsreview.com/amhara-ethiopia-conflict-fano-politics-war-tigray/\" target=\"_blank\">https://www.worldpoliticsreview.com/amhara-ethiopia-conflict-fano-politics-war-tigray/</a>"
      ],
      "text/plain": [
       "<IPython.core.display.HTML object>"
      ]
     },
     "metadata": {},
     "output_type": "display_data"
    },
    {
     "data": {
      "text/html": [
       "<a href=\"https://www.worldpoliticsreview.com/author/bereket-diriba/\" target=\"_blank\">https://www.worldpoliticsreview.com/author/bereket-diriba/</a>"
      ],
      "text/plain": [
       "<IPython.core.display.HTML object>"
      ]
     },
     "metadata": {},
     "output_type": "display_data"
    },
    {
     "data": {
      "text/html": [
       "<a href=\"https://www.worldpoliticsreview.com/2023/08/16/\" target=\"_blank\">https://www.worldpoliticsreview.com/2023/08/16/</a>"
      ],
      "text/plain": [
       "<IPython.core.display.HTML object>"
      ]
     },
     "metadata": {},
     "output_type": "display_data"
    },
    {
     "data": {
      "text/html": [
       "<a href=\"https://www.worldpoliticsreview.com/?share=twitter\" target=\"_blank\">https://www.worldpoliticsreview.com/?share=twitter</a>"
      ],
      "text/plain": [
       "<IPython.core.display.HTML object>"
      ]
     },
     "metadata": {},
     "output_type": "display_data"
    },
    {
     "data": {
      "text/html": [
       "<a href=\"https://www.worldpoliticsreview.com/?share=linkedin\" target=\"_blank\">https://www.worldpoliticsreview.com/?share=linkedin</a>"
      ],
      "text/plain": [
       "<IPython.core.display.HTML object>"
      ]
     },
     "metadata": {},
     "output_type": "display_data"
    },
    {
     "data": {
      "text/html": [
       "<a href=\"https://www.worldpoliticsreview.com/?share=facebook\" target=\"_blank\">https://www.worldpoliticsreview.com/?share=facebook</a>"
      ],
      "text/plain": [
       "<IPython.core.display.HTML object>"
      ]
     },
     "metadata": {},
     "output_type": "display_data"
    },
    {
     "data": {
      "text/html": [
       "<a href=\"https://www.worldpoliticsreview.com/?share=custom-1654485309\" target=\"_blank\">https://www.worldpoliticsreview.com/?share=custom-1654485309</a>"
      ],
      "text/plain": [
       "<IPython.core.display.HTML object>"
      ]
     },
     "metadata": {},
     "output_type": "display_data"
    },
    {
     "data": {
      "text/html": [
       "<a href=\"https://www.worldpoliticsreview.com\" target=\"_blank\">https://www.worldpoliticsreview.com</a>"
      ],
      "text/plain": [
       "<IPython.core.display.HTML object>"
      ]
     },
     "metadata": {},
     "output_type": "display_data"
    },
    {
     "data": {
      "text/html": [
       "<a href=\"https://twitter.com/wpreview\" target=\"_blank\">https://twitter.com/wpreview</a>"
      ],
      "text/plain": [
       "<IPython.core.display.HTML object>"
      ]
     },
     "metadata": {},
     "output_type": "display_data"
    },
    {
     "data": {
      "text/html": [
       "<a href=\"https://www.facebook.com/worldpoliticsreview\" target=\"_blank\">https://www.facebook.com/worldpoliticsreview</a>"
      ],
      "text/plain": [
       "<IPython.core.display.HTML object>"
      ]
     },
     "metadata": {},
     "output_type": "display_data"
    },
    {
     "data": {
      "text/html": [
       "<a href=\"https://www.linkedin.com/company/world-politics-review/\" target=\"_blank\">https://www.linkedin.com/company/world-politics-review/</a>"
      ],
      "text/plain": [
       "<IPython.core.display.HTML object>"
      ]
     },
     "metadata": {},
     "output_type": "display_data"
    },
    {
     "data": {
      "text/html": [
       "<a href=\"https://www.worldpoliticsreview.com/stream/latest/\" target=\"_blank\">https://www.worldpoliticsreview.com/stream/latest/</a>"
      ],
      "text/plain": [
       "<IPython.core.display.HTML object>"
      ]
     },
     "metadata": {},
     "output_type": "display_data"
    },
    {
     "data": {
      "text/html": [
       "<a href=\"https://www.worldpoliticsreview.com/news-wire/\" target=\"_blank\">https://www.worldpoliticsreview.com/news-wire/</a>"
      ],
      "text/plain": [
       "<IPython.core.display.HTML object>"
      ]
     },
     "metadata": {},
     "output_type": "display_data"
    },
    {
     "data": {
      "text/html": [
       "<a href=\"https://www.worldpoliticsreview.com/about/\" target=\"_blank\">https://www.worldpoliticsreview.com/about/</a>"
      ],
      "text/plain": [
       "<IPython.core.display.HTML object>"
      ]
     },
     "metadata": {},
     "output_type": "display_data"
    },
    {
     "data": {
      "text/html": [
       "<a href=\"https://www.worldpoliticsreview.com/join-for-free/\" target=\"_blank\">https://www.worldpoliticsreview.com/join-for-free/</a>"
      ],
      "text/plain": [
       "<IPython.core.display.HTML object>"
      ]
     },
     "metadata": {},
     "output_type": "display_data"
    },
    {
     "data": {
      "text/html": [
       "<a href=\"https://www.worldpoliticsreview.com/subscribe/\" target=\"_blank\">https://www.worldpoliticsreview.com/subscribe/</a>"
      ],
      "text/plain": [
       "<IPython.core.display.HTML object>"
      ]
     },
     "metadata": {},
     "output_type": "display_data"
    },
    {
     "data": {
      "text/html": [
       "<a href=\"https://help.worldpoliticsreview.com/en/\" target=\"_blank\">https://help.worldpoliticsreview.com/en/</a>"
      ],
      "text/plain": [
       "<IPython.core.display.HTML object>"
      ]
     },
     "metadata": {},
     "output_type": "display_data"
    },
    {
     "data": {
      "text/html": [
       "<a href=\"https://www.worldpoliticsreview.com/terms-of-use/\" target=\"_blank\">https://www.worldpoliticsreview.com/terms-of-use/</a>"
      ],
      "text/plain": [
       "<IPython.core.display.HTML object>"
      ]
     },
     "metadata": {},
     "output_type": "display_data"
    },
    {
     "data": {
      "text/html": [
       "<a href=\"https://www.worldpoliticsreview.com/privacy-policy/\" target=\"_blank\">https://www.worldpoliticsreview.com/privacy-policy/</a>"
      ],
      "text/plain": [
       "<IPython.core.display.HTML object>"
      ]
     },
     "metadata": {},
     "output_type": "display_data"
    },
    {
     "data": {
      "text/html": [
       "<a href=\"https://www.worldpoliticsreview.com/contact-us/\" target=\"_blank\">https://www.worldpoliticsreview.com/contact-us/</a>"
      ],
      "text/plain": [
       "<IPython.core.display.HTML object>"
      ]
     },
     "metadata": {},
     "output_type": "display_data"
    },
    {
     "data": {
      "text/html": [
       "<a href=\"https://www.worldpoliticsreview.com/frequently-asked-questions/\" target=\"_blank\">https://www.worldpoliticsreview.com/frequently-asked-questions/</a>"
      ],
      "text/plain": [
       "<IPython.core.display.HTML object>"
      ]
     },
     "metadata": {},
     "output_type": "display_data"
    },
    {
     "data": {
      "text/html": [
       "<a href=\"#MainContent\" target=\"_blank\">#MainContent</a>"
      ],
      "text/plain": [
       "<IPython.core.display.HTML object>"
      ]
     },
     "metadata": {},
     "output_type": "display_data"
    },
    {
     "data": {
      "text/html": [
       "<a href=\"//www.cnbc.com/world/\" target=\"_blank\">//www.cnbc.com/world/</a>"
      ],
      "text/plain": [
       "<IPython.core.display.HTML object>"
      ]
     },
     "metadata": {},
     "output_type": "display_data"
    },
    {
     "data": {
      "text/html": [
       "<a href=\"/\" target=\"_blank\">/</a>"
      ],
      "text/plain": [
       "<IPython.core.display.HTML object>"
      ]
     },
     "metadata": {},
     "output_type": "display_data"
    },
    {
     "data": {
      "text/html": [
       "<a href=\"/markets/\" target=\"_blank\">/markets/</a>"
      ],
      "text/plain": [
       "<IPython.core.display.HTML object>"
      ]
     },
     "metadata": {},
     "output_type": "display_data"
    },
    {
     "data": {
      "text/html": [
       "<a href=\"/pre-markets/\" target=\"_blank\">/pre-markets/</a>"
      ],
      "text/plain": [
       "<IPython.core.display.HTML object>"
      ]
     },
     "metadata": {},
     "output_type": "display_data"
    },
    {
     "data": {
      "text/html": [
       "<a href=\"/us-markets/\" target=\"_blank\">/us-markets/</a>"
      ],
      "text/plain": [
       "<IPython.core.display.HTML object>"
      ]
     },
     "metadata": {},
     "output_type": "display_data"
    },
    {
     "data": {
      "text/html": [
       "<a href=\"/markets-europe/\" target=\"_blank\">/markets-europe/</a>"
      ],
      "text/plain": [
       "<IPython.core.display.HTML object>"
      ]
     },
     "metadata": {},
     "output_type": "display_data"
    },
    {
     "data": {
      "text/html": [
       "<a href=\"/china-markets/\" target=\"_blank\">/china-markets/</a>"
      ],
      "text/plain": [
       "<IPython.core.display.HTML object>"
      ]
     },
     "metadata": {},
     "output_type": "display_data"
    },
    {
     "data": {
      "text/html": [
       "<a href=\"/markets-asia-pacific/\" target=\"_blank\">/markets-asia-pacific/</a>"
      ],
      "text/plain": [
       "<IPython.core.display.HTML object>"
      ]
     },
     "metadata": {},
     "output_type": "display_data"
    },
    {
     "data": {
      "text/html": [
       "<a href=\"/world-markets/\" target=\"_blank\">/world-markets/</a>"
      ],
      "text/plain": [
       "<IPython.core.display.HTML object>"
      ]
     },
     "metadata": {},
     "output_type": "display_data"
    },
    {
     "data": {
      "text/html": [
       "<a href=\"/currencies/\" target=\"_blank\">/currencies/</a>"
      ],
      "text/plain": [
       "<IPython.core.display.HTML object>"
      ]
     },
     "metadata": {},
     "output_type": "display_data"
    },
    {
     "data": {
      "text/html": [
       "<a href=\"/cryptocurrency/\" target=\"_blank\">/cryptocurrency/</a>"
      ],
      "text/plain": [
       "<IPython.core.display.HTML object>"
      ]
     },
     "metadata": {},
     "output_type": "display_data"
    },
    {
     "data": {
      "text/html": [
       "<a href=\"/futures-and-commodities/\" target=\"_blank\">/futures-and-commodities/</a>"
      ],
      "text/plain": [
       "<IPython.core.display.HTML object>"
      ]
     },
     "metadata": {},
     "output_type": "display_data"
    },
    {
     "data": {
      "text/html": [
       "<a href=\"/bonds/\" target=\"_blank\">/bonds/</a>"
      ],
      "text/plain": [
       "<IPython.core.display.HTML object>"
      ]
     },
     "metadata": {},
     "output_type": "display_data"
    },
    {
     "data": {
      "text/html": [
       "<a href=\"/funds-and-etfs/\" target=\"_blank\">/funds-and-etfs/</a>"
      ],
      "text/plain": [
       "<IPython.core.display.HTML object>"
      ]
     },
     "metadata": {},
     "output_type": "display_data"
    },
    {
     "data": {
      "text/html": [
       "<a href=\"/business/\" target=\"_blank\">/business/</a>"
      ],
      "text/plain": [
       "<IPython.core.display.HTML object>"
      ]
     },
     "metadata": {},
     "output_type": "display_data"
    },
    {
     "data": {
      "text/html": [
       "<a href=\"/economy/\" target=\"_blank\">/economy/</a>"
      ],
      "text/plain": [
       "<IPython.core.display.HTML object>"
      ]
     },
     "metadata": {},
     "output_type": "display_data"
    },
    {
     "data": {
      "text/html": [
       "<a href=\"/finance/\" target=\"_blank\">/finance/</a>"
      ],
      "text/plain": [
       "<IPython.core.display.HTML object>"
      ]
     },
     "metadata": {},
     "output_type": "display_data"
    },
    {
     "data": {
      "text/html": [
       "<a href=\"/health-and-science/\" target=\"_blank\">/health-and-science/</a>"
      ],
      "text/plain": [
       "<IPython.core.display.HTML object>"
      ]
     },
     "metadata": {},
     "output_type": "display_data"
    },
    {
     "data": {
      "text/html": [
       "<a href=\"/media/\" target=\"_blank\">/media/</a>"
      ],
      "text/plain": [
       "<IPython.core.display.HTML object>"
      ]
     },
     "metadata": {},
     "output_type": "display_data"
    },
    {
     "data": {
      "text/html": [
       "<a href=\"/real-estate/\" target=\"_blank\">/real-estate/</a>"
      ],
      "text/plain": [
       "<IPython.core.display.HTML object>"
      ]
     },
     "metadata": {},
     "output_type": "display_data"
    },
    {
     "data": {
      "text/html": [
       "<a href=\"/energy/\" target=\"_blank\">/energy/</a>"
      ],
      "text/plain": [
       "<IPython.core.display.HTML object>"
      ]
     },
     "metadata": {},
     "output_type": "display_data"
    },
    {
     "data": {
      "text/html": [
       "<a href=\"/climate/\" target=\"_blank\">/climate/</a>"
      ],
      "text/plain": [
       "<IPython.core.display.HTML object>"
      ]
     },
     "metadata": {},
     "output_type": "display_data"
    },
    {
     "data": {
      "text/html": [
       "<a href=\"/transportation/\" target=\"_blank\">/transportation/</a>"
      ],
      "text/plain": [
       "<IPython.core.display.HTML object>"
      ]
     },
     "metadata": {},
     "output_type": "display_data"
    },
    {
     "data": {
      "text/html": [
       "<a href=\"/industrials/\" target=\"_blank\">/industrials/</a>"
      ],
      "text/plain": [
       "<IPython.core.display.HTML object>"
      ]
     },
     "metadata": {},
     "output_type": "display_data"
    },
    {
     "data": {
      "text/html": [
       "<a href=\"/retail/\" target=\"_blank\">/retail/</a>"
      ],
      "text/plain": [
       "<IPython.core.display.HTML object>"
      ]
     },
     "metadata": {},
     "output_type": "display_data"
    },
    {
     "data": {
      "text/html": [
       "<a href=\"/wealth/\" target=\"_blank\">/wealth/</a>"
      ],
      "text/plain": [
       "<IPython.core.display.HTML object>"
      ]
     },
     "metadata": {},
     "output_type": "display_data"
    },
    {
     "data": {
      "text/html": [
       "<a href=\"/life/\" target=\"_blank\">/life/</a>"
      ],
      "text/plain": [
       "<IPython.core.display.HTML object>"
      ]
     },
     "metadata": {},
     "output_type": "display_data"
    },
    {
     "data": {
      "text/html": [
       "<a href=\"/small-business/\" target=\"_blank\">/small-business/</a>"
      ],
      "text/plain": [
       "<IPython.core.display.HTML object>"
      ]
     },
     "metadata": {},
     "output_type": "display_data"
    },
    {
     "data": {
      "text/html": [
       "<a href=\"/investing/\" target=\"_blank\">/investing/</a>"
      ],
      "text/plain": [
       "<IPython.core.display.HTML object>"
      ]
     },
     "metadata": {},
     "output_type": "display_data"
    },
    {
     "data": {
      "text/html": [
       "<a href=\"/personal-finance/\" target=\"_blank\">/personal-finance/</a>"
      ],
      "text/plain": [
       "<IPython.core.display.HTML object>"
      ]
     },
     "metadata": {},
     "output_type": "display_data"
    },
    {
     "data": {
      "text/html": [
       "<a href=\"/fintech/\" target=\"_blank\">/fintech/</a>"
      ],
      "text/plain": [
       "<IPython.core.display.HTML object>"
      ]
     },
     "metadata": {},
     "output_type": "display_data"
    },
    {
     "data": {
      "text/html": [
       "<a href=\"/financial-advisors/\" target=\"_blank\">/financial-advisors/</a>"
      ],
      "text/plain": [
       "<IPython.core.display.HTML object>"
      ]
     },
     "metadata": {},
     "output_type": "display_data"
    },
    {
     "data": {
      "text/html": [
       "<a href=\"/options-action/\" target=\"_blank\">/options-action/</a>"
      ],
      "text/plain": [
       "<IPython.core.display.HTML object>"
      ]
     },
     "metadata": {},
     "output_type": "display_data"
    },
    {
     "data": {
      "text/html": [
       "<a href=\"/etf-street/\" target=\"_blank\">/etf-street/</a>"
      ],
      "text/plain": [
       "<IPython.core.display.HTML object>"
      ]
     },
     "metadata": {},
     "output_type": "display_data"
    },
    {
     "data": {
      "text/html": [
       "<a href=\"https://buffett.cnbc.com\" target=\"_blank\">https://buffett.cnbc.com</a>"
      ],
      "text/plain": [
       "<IPython.core.display.HTML object>"
      ]
     },
     "metadata": {},
     "output_type": "display_data"
    },
    {
     "data": {
      "text/html": [
       "<a href=\"/earnings/\" target=\"_blank\">/earnings/</a>"
      ],
      "text/plain": [
       "<IPython.core.display.HTML object>"
      ]
     },
     "metadata": {},
     "output_type": "display_data"
    },
    {
     "data": {
      "text/html": [
       "<a href=\"/trader-talk/\" target=\"_blank\">/trader-talk/</a>"
      ],
      "text/plain": [
       "<IPython.core.display.HTML object>"
      ]
     },
     "metadata": {},
     "output_type": "display_data"
    },
    {
     "data": {
      "text/html": [
       "<a href=\"/technology/\" target=\"_blank\">/technology/</a>"
      ],
      "text/plain": [
       "<IPython.core.display.HTML object>"
      ]
     },
     "metadata": {},
     "output_type": "display_data"
    },
    {
     "data": {
      "text/html": [
       "<a href=\"/cybersecurity/\" target=\"_blank\">/cybersecurity/</a>"
      ],
      "text/plain": [
       "<IPython.core.display.HTML object>"
      ]
     },
     "metadata": {},
     "output_type": "display_data"
    },
    {
     "data": {
      "text/html": [
       "<a href=\"/enterprise/\" target=\"_blank\">/enterprise/</a>"
      ],
      "text/plain": [
       "<IPython.core.display.HTML object>"
      ]
     },
     "metadata": {},
     "output_type": "display_data"
    },
    {
     "data": {
      "text/html": [
       "<a href=\"/internet/\" target=\"_blank\">/internet/</a>"
      ],
      "text/plain": [
       "<IPython.core.display.HTML object>"
      ]
     },
     "metadata": {},
     "output_type": "display_data"
    },
    {
     "data": {
      "text/html": [
       "<a href=\"/media/\" target=\"_blank\">/media/</a>"
      ],
      "text/plain": [
       "<IPython.core.display.HTML object>"
      ]
     },
     "metadata": {},
     "output_type": "display_data"
    },
    {
     "data": {
      "text/html": [
       "<a href=\"/mobile/\" target=\"_blank\">/mobile/</a>"
      ],
      "text/plain": [
       "<IPython.core.display.HTML object>"
      ]
     },
     "metadata": {},
     "output_type": "display_data"
    },
    {
     "data": {
      "text/html": [
       "<a href=\"/social-media/\" target=\"_blank\">/social-media/</a>"
      ],
      "text/plain": [
       "<IPython.core.display.HTML object>"
      ]
     },
     "metadata": {},
     "output_type": "display_data"
    },
    {
     "data": {
      "text/html": [
       "<a href=\"/cnbc-disruptors/\" target=\"_blank\">/cnbc-disruptors/</a>"
      ],
      "text/plain": [
       "<IPython.core.display.HTML object>"
      ]
     },
     "metadata": {},
     "output_type": "display_data"
    },
    {
     "data": {
      "text/html": [
       "<a href=\"/tech-guide/\" target=\"_blank\">/tech-guide/</a>"
      ],
      "text/plain": [
       "<IPython.core.display.HTML object>"
      ]
     },
     "metadata": {},
     "output_type": "display_data"
    },
    {
     "data": {
      "text/html": [
       "<a href=\"/politics/\" target=\"_blank\">/politics/</a>"
      ],
      "text/plain": [
       "<IPython.core.display.HTML object>"
      ]
     },
     "metadata": {},
     "output_type": "display_data"
    },
    {
     "data": {
      "text/html": [
       "<a href=\"/white-house/\" target=\"_blank\">/white-house/</a>"
      ],
      "text/plain": [
       "<IPython.core.display.HTML object>"
      ]
     },
     "metadata": {},
     "output_type": "display_data"
    },
    {
     "data": {
      "text/html": [
       "<a href=\"/policy/\" target=\"_blank\">/policy/</a>"
      ],
      "text/plain": [
       "<IPython.core.display.HTML object>"
      ]
     },
     "metadata": {},
     "output_type": "display_data"
    },
    {
     "data": {
      "text/html": [
       "<a href=\"/defense/\" target=\"_blank\">/defense/</a>"
      ],
      "text/plain": [
       "<IPython.core.display.HTML object>"
      ]
     },
     "metadata": {},
     "output_type": "display_data"
    },
    {
     "data": {
      "text/html": [
       "<a href=\"/congress/\" target=\"_blank\">/congress/</a>"
      ],
      "text/plain": [
       "<IPython.core.display.HTML object>"
      ]
     },
     "metadata": {},
     "output_type": "display_data"
    },
    {
     "data": {
      "text/html": [
       "<a href=\"/equity-opportunity/\" target=\"_blank\">/equity-opportunity/</a>"
      ],
      "text/plain": [
       "<IPython.core.display.HTML object>"
      ]
     },
     "metadata": {},
     "output_type": "display_data"
    },
    {
     "data": {
      "text/html": [
       "<a href=\"/europe-politics/\" target=\"_blank\">/europe-politics/</a>"
      ],
      "text/plain": [
       "<IPython.core.display.HTML object>"
      ]
     },
     "metadata": {},
     "output_type": "display_data"
    },
    {
     "data": {
      "text/html": [
       "<a href=\"/china-politics/\" target=\"_blank\">/china-politics/</a>"
      ],
      "text/plain": [
       "<IPython.core.display.HTML object>"
      ]
     },
     "metadata": {},
     "output_type": "display_data"
    },
    {
     "data": {
      "text/html": [
       "<a href=\"/asia-politics/\" target=\"_blank\">/asia-politics/</a>"
      ],
      "text/plain": [
       "<IPython.core.display.HTML object>"
      ]
     },
     "metadata": {},
     "output_type": "display_data"
    },
    {
     "data": {
      "text/html": [
       "<a href=\"/world-politics/\" target=\"_blank\">/world-politics/</a>"
      ],
      "text/plain": [
       "<IPython.core.display.HTML object>"
      ]
     },
     "metadata": {},
     "output_type": "display_data"
    },
    {
     "data": {
      "text/html": [
       "<a href=\"/tv/\" target=\"_blank\">/tv/</a>"
      ],
      "text/plain": [
       "<IPython.core.display.HTML object>"
      ]
     },
     "metadata": {},
     "output_type": "display_data"
    },
    {
     "data": {
      "text/html": [
       "<a href=\"/live-audio/\" target=\"_blank\">/live-audio/</a>"
      ],
      "text/plain": [
       "<IPython.core.display.HTML object>"
      ]
     },
     "metadata": {},
     "output_type": "display_data"
    },
    {
     "data": {
      "text/html": [
       "<a href=\"/latest-video/\" target=\"_blank\">/latest-video/</a>"
      ],
      "text/plain": [
       "<IPython.core.display.HTML object>"
      ]
     },
     "metadata": {},
     "output_type": "display_data"
    },
    {
     "data": {
      "text/html": [
       "<a href=\"/top-video/\" target=\"_blank\">/top-video/</a>"
      ],
      "text/plain": [
       "<IPython.core.display.HTML object>"
      ]
     },
     "metadata": {},
     "output_type": "display_data"
    },
    {
     "data": {
      "text/html": [
       "<a href=\"/video-ceo-interviews/\" target=\"_blank\">/video-ceo-interviews/</a>"
      ],
      "text/plain": [
       "<IPython.core.display.HTML object>"
      ]
     },
     "metadata": {},
     "output_type": "display_data"
    },
    {
     "data": {
      "text/html": [
       "<a href=\"/europe-television/\" target=\"_blank\">/europe-television/</a>"
      ],
      "text/plain": [
       "<IPython.core.display.HTML object>"
      ]
     },
     "metadata": {},
     "output_type": "display_data"
    },
    {
     "data": {
      "text/html": [
       "<a href=\"/asia-business-day/\" target=\"_blank\">/asia-business-day/</a>"
      ],
      "text/plain": [
       "<IPython.core.display.HTML object>"
      ]
     },
     "metadata": {},
     "output_type": "display_data"
    },
    {
     "data": {
      "text/html": [
       "<a href=\"/podcast/\" target=\"_blank\">/podcast/</a>"
      ],
      "text/plain": [
       "<IPython.core.display.HTML object>"
      ]
     },
     "metadata": {},
     "output_type": "display_data"
    },
    {
     "data": {
      "text/html": [
       "<a href=\"/digital-original/\" target=\"_blank\">/digital-original/</a>"
      ],
      "text/plain": [
       "<IPython.core.display.HTML object>"
      ]
     },
     "metadata": {},
     "output_type": "display_data"
    },
    {
     "data": {
      "text/html": [
       "<a href=\"/watchlist/\" target=\"_blank\">/watchlist/</a>"
      ],
      "text/plain": [
       "<IPython.core.display.HTML object>"
      ]
     },
     "metadata": {},
     "output_type": "display_data"
    },
    {
     "data": {
      "text/html": [
       "<a href=\"/investingclub/\" target=\"_blank\">/investingclub/</a>"
      ],
      "text/plain": [
       "<IPython.core.display.HTML object>"
      ]
     },
     "metadata": {},
     "output_type": "display_data"
    },
    {
     "data": {
      "text/html": [
       "<a href=\"/investingclub/charitable-trust/\" target=\"_blank\">/investingclub/charitable-trust/</a>"
      ],
      "text/plain": [
       "<IPython.core.display.HTML object>"
      ]
     },
     "metadata": {},
     "output_type": "display_data"
    },
    {
     "data": {
      "text/html": [
       "<a href=\"/investingclub/analysis/\" target=\"_blank\">/investingclub/analysis/</a>"
      ],
      "text/plain": [
       "<IPython.core.display.HTML object>"
      ]
     },
     "metadata": {},
     "output_type": "display_data"
    },
    {
     "data": {
      "text/html": [
       "<a href=\"/investingclub/trade-alerts/\" target=\"_blank\">/investingclub/trade-alerts/</a>"
      ],
      "text/plain": [
       "<IPython.core.display.HTML object>"
      ]
     },
     "metadata": {},
     "output_type": "display_data"
    },
    {
     "data": {
      "text/html": [
       "<a href=\"/investingclub/video/\" target=\"_blank\">/investingclub/video/</a>"
      ],
      "text/plain": [
       "<IPython.core.display.HTML object>"
      ]
     },
     "metadata": {},
     "output_type": "display_data"
    },
    {
     "data": {
      "text/html": [
       "<a href=\"/investingclub/homestretch/\" target=\"_blank\">/investingclub/homestretch/</a>"
      ],
      "text/plain": [
       "<IPython.core.display.HTML object>"
      ]
     },
     "metadata": {},
     "output_type": "display_data"
    },
    {
     "data": {
      "text/html": [
       "<a href=\"/investingclub/jim-cramer-columns/\" target=\"_blank\">/investingclub/jim-cramer-columns/</a>"
      ],
      "text/plain": [
       "<IPython.core.display.HTML object>"
      ]
     },
     "metadata": {},
     "output_type": "display_data"
    },
    {
     "data": {
      "text/html": [
       "<a href=\"/investingclub/education/\" target=\"_blank\">/investingclub/education/</a>"
      ],
      "text/plain": [
       "<IPython.core.display.HTML object>"
      ]
     },
     "metadata": {},
     "output_type": "display_data"
    },
    {
     "data": {
      "text/html": [
       "<a href=\"#\" target=\"_blank\">#</a>"
      ],
      "text/plain": [
       "<IPython.core.display.HTML object>"
      ]
     },
     "metadata": {},
     "output_type": "display_data"
    },
    {
     "data": {
      "text/html": [
       "<a href=\"#\" target=\"_blank\">#</a>"
      ],
      "text/plain": [
       "<IPython.core.display.HTML object>"
      ]
     },
     "metadata": {},
     "output_type": "display_data"
    },
    {
     "data": {
      "text/html": [
       "<a href=\"/pro/\" target=\"_blank\">/pro/</a>"
      ],
      "text/plain": [
       "<IPython.core.display.HTML object>"
      ]
     },
     "metadata": {},
     "output_type": "display_data"
    },
    {
     "data": {
      "text/html": [
       "<a href=\"/pro/news/\" target=\"_blank\">/pro/news/</a>"
      ],
      "text/plain": [
       "<IPython.core.display.HTML object>"
      ]
     },
     "metadata": {},
     "output_type": "display_data"
    },
    {
     "data": {
      "text/html": [
       "<a href=\"/pro/\" target=\"_blank\">/pro/</a>"
      ],
      "text/plain": [
       "<IPython.core.display.HTML object>"
      ]
     },
     "metadata": {},
     "output_type": "display_data"
    },
    {
     "data": {
      "text/html": [
       "<a href=\"/2023/05/11/market-strategist-survey-forecast.html\" target=\"_blank\">/2023/05/11/market-strategist-survey-forecast.html</a>"
      ],
      "text/plain": [
       "<IPython.core.display.HTML object>"
      ]
     },
     "metadata": {},
     "output_type": "display_data"
    },
    {
     "data": {
      "text/html": [
       "<a href=\"#\" target=\"_blank\">#</a>"
      ],
      "text/plain": [
       "<IPython.core.display.HTML object>"
      ]
     },
     "metadata": {},
     "output_type": "display_data"
    },
    {
     "data": {
      "text/html": [
       "<a href=\"#\" target=\"_blank\">#</a>"
      ],
      "text/plain": [
       "<IPython.core.display.HTML object>"
      ]
     },
     "metadata": {},
     "output_type": "display_data"
    },
    {
     "data": {
      "text/html": [
       "<a href=\"/make-it/\" target=\"_blank\">/make-it/</a>"
      ],
      "text/plain": [
       "<IPython.core.display.HTML object>"
      ]
     },
     "metadata": {},
     "output_type": "display_data"
    },
    {
     "data": {
      "text/html": [
       "<a href=\"https://www.cnbc.com/select/\" target=\"_blank\">https://www.cnbc.com/select/</a>"
      ],
      "text/plain": [
       "<IPython.core.display.HTML object>"
      ]
     },
     "metadata": {},
     "output_type": "display_data"
    },
    {
     "data": {
      "text/html": [
       "<a href=\"//www.cnbc.com/select/credit-cards/\" target=\"_blank\">//www.cnbc.com/select/credit-cards/</a>"
      ],
      "text/plain": [
       "<IPython.core.display.HTML object>"
      ]
     },
     "metadata": {},
     "output_type": "display_data"
    },
    {
     "data": {
      "text/html": [
       "<a href=\"//www.cnbc.com/select/loans/\" target=\"_blank\">//www.cnbc.com/select/loans/</a>"
      ],
      "text/plain": [
       "<IPython.core.display.HTML object>"
      ]
     },
     "metadata": {},
     "output_type": "display_data"
    },
    {
     "data": {
      "text/html": [
       "<a href=\"//www.cnbc.com/select/banking/\" target=\"_blank\">//www.cnbc.com/select/banking/</a>"
      ],
      "text/plain": [
       "<IPython.core.display.HTML object>"
      ]
     },
     "metadata": {},
     "output_type": "display_data"
    },
    {
     "data": {
      "text/html": [
       "<a href=\"//www.cnbc.com/select/mortgages/\" target=\"_blank\">//www.cnbc.com/select/mortgages/</a>"
      ],
      "text/plain": [
       "<IPython.core.display.HTML object>"
      ]
     },
     "metadata": {},
     "output_type": "display_data"
    },
    {
     "data": {
      "text/html": [
       "<a href=\"//www.cnbc.com/select/insurance/\" target=\"_blank\">//www.cnbc.com/select/insurance/</a>"
      ],
      "text/plain": [
       "<IPython.core.display.HTML object>"
      ]
     },
     "metadata": {},
     "output_type": "display_data"
    },
    {
     "data": {
      "text/html": [
       "<a href=\"//www.cnbc.com/select/credit-monitoring/\" target=\"_blank\">//www.cnbc.com/select/credit-monitoring/</a>"
      ],
      "text/plain": [
       "<IPython.core.display.HTML object>"
      ]
     },
     "metadata": {},
     "output_type": "display_data"
    },
    {
     "data": {
      "text/html": [
       "<a href=\"//www.cnbc.com/select/personal-finance/\" target=\"_blank\">//www.cnbc.com/select/personal-finance/</a>"
      ],
      "text/plain": [
       "<IPython.core.display.HTML object>"
      ]
     },
     "metadata": {},
     "output_type": "display_data"
    },
    {
     "data": {
      "text/html": [
       "<a href=\"//www.cnbc.com/select/small-business/\" target=\"_blank\">//www.cnbc.com/select/small-business/</a>"
      ],
      "text/plain": [
       "<IPython.core.display.HTML object>"
      ]
     },
     "metadata": {},
     "output_type": "display_data"
    },
    {
     "data": {
      "text/html": [
       "<a href=\"//www.cnbc.com/select/taxes/\" target=\"_blank\">//www.cnbc.com/select/taxes/</a>"
      ],
      "text/plain": [
       "<IPython.core.display.HTML object>"
      ]
     },
     "metadata": {},
     "output_type": "display_data"
    },
    {
     "data": {
      "text/html": [
       "<a href=\"//www.cnbc.com/select/low-credit-scores/\" target=\"_blank\">//www.cnbc.com/select/low-credit-scores/</a>"
      ],
      "text/plain": [
       "<IPython.core.display.HTML object>"
      ]
     },
     "metadata": {},
     "output_type": "display_data"
    },
    {
     "data": {
      "text/html": [
       "<a href=\"//www.cnbc.com/select/investing/\" target=\"_blank\">//www.cnbc.com/select/investing/</a>"
      ],
      "text/plain": [
       "<IPython.core.display.HTML object>"
      ]
     },
     "metadata": {},
     "output_type": "display_data"
    },
    {
     "data": {
      "text/html": [
       "<a href=\"#\" target=\"_blank\">#</a>"
      ],
      "text/plain": [
       "<IPython.core.display.HTML object>"
      ]
     },
     "metadata": {},
     "output_type": "display_data"
    },
    {
     "data": {
      "text/html": [
       "<a href=\"//www.cnbc.com/select/credit-cards/\" target=\"_blank\">//www.cnbc.com/select/credit-cards/</a>"
      ],
      "text/plain": [
       "<IPython.core.display.HTML object>"
      ]
     },
     "metadata": {},
     "output_type": "display_data"
    },
    {
     "data": {
      "text/html": [
       "<a href=\"//www.cnbc.com/select/credit-card-marketplace/\" target=\"_blank\">//www.cnbc.com/select/credit-card-marketplace/</a>"
      ],
      "text/plain": [
       "<IPython.core.display.HTML object>"
      ]
     },
     "metadata": {},
     "output_type": "display_data"
    },
    {
     "data": {
      "text/html": [
       "<a href=\"//www.cnbc.com/select/best-credit-cards/\" target=\"_blank\">//www.cnbc.com/select/best-credit-cards/</a>"
      ],
      "text/plain": [
       "<IPython.core.display.HTML object>"
      ]
     },
     "metadata": {},
     "output_type": "display_data"
    },
    {
     "data": {
      "text/html": [
       "<a href=\"//www.cnbc.com/select/best-rewards-credit-cards/\" target=\"_blank\">//www.cnbc.com/select/best-rewards-credit-cards/</a>"
      ],
      "text/plain": [
       "<IPython.core.display.HTML object>"
      ]
     },
     "metadata": {},
     "output_type": "display_data"
    },
    {
     "data": {
      "text/html": [
       "<a href=\"//www.cnbc.com/select/best-travel-credit-cards/\" target=\"_blank\">//www.cnbc.com/select/best-travel-credit-cards/</a>"
      ],
      "text/plain": [
       "<IPython.core.display.HTML object>"
      ]
     },
     "metadata": {},
     "output_type": "display_data"
    },
    {
     "data": {
      "text/html": [
       "<a href=\"//www.cnbc.com/select/best-zero-interest-credit-cards/\" target=\"_blank\">//www.cnbc.com/select/best-zero-interest-credit-cards/</a>"
      ],
      "text/plain": [
       "<IPython.core.display.HTML object>"
      ]
     },
     "metadata": {},
     "output_type": "display_data"
    },
    {
     "data": {
      "text/html": [
       "<a href=\"//www.cnbc.com/select/best-balance-transfer-credit-cards/\" target=\"_blank\">//www.cnbc.com/select/best-balance-transfer-credit-cards/</a>"
      ],
      "text/plain": [
       "<IPython.core.display.HTML object>"
      ]
     },
     "metadata": {},
     "output_type": "display_data"
    },
    {
     "data": {
      "text/html": [
       "<a href=\"//www.cnbc.com/select/best-cash-back-credit-cards/\" target=\"_blank\">//www.cnbc.com/select/best-cash-back-credit-cards/</a>"
      ],
      "text/plain": [
       "<IPython.core.display.HTML object>"
      ]
     },
     "metadata": {},
     "output_type": "display_data"
    },
    {
     "data": {
      "text/html": [
       "<a href=\"//www.cnbc.com/select/best-credit-card-sign-up-bonuses/\" target=\"_blank\">//www.cnbc.com/select/best-credit-card-sign-up-bonuses/</a>"
      ],
      "text/plain": [
       "<IPython.core.display.HTML object>"
      ]
     },
     "metadata": {},
     "output_type": "display_data"
    },
    {
     "data": {
      "text/html": [
       "<a href=\"//www.cnbc.com/select/the-best-credit-cards-for-building-credit/\" target=\"_blank\">//www.cnbc.com/select/the-best-credit-cards-for-building-credit/</a>"
      ],
      "text/plain": [
       "<IPython.core.display.HTML object>"
      ]
     },
     "metadata": {},
     "output_type": "display_data"
    },
    {
     "data": {
      "text/html": [
       "<a href=\"#\" target=\"_blank\">#</a>"
      ],
      "text/plain": [
       "<IPython.core.display.HTML object>"
      ]
     },
     "metadata": {},
     "output_type": "display_data"
    },
    {
     "data": {
      "text/html": [
       "<a href=\"//www.cnbc.com/select/loans/\" target=\"_blank\">//www.cnbc.com/select/loans/</a>"
      ],
      "text/plain": [
       "<IPython.core.display.HTML object>"
      ]
     },
     "metadata": {},
     "output_type": "display_data"
    },
    {
     "data": {
      "text/html": [
       "<a href=\"//www.cnbc.com/select/personal-loan-marketplace/\" target=\"_blank\">//www.cnbc.com/select/personal-loan-marketplace/</a>"
      ],
      "text/plain": [
       "<IPython.core.display.HTML object>"
      ]
     },
     "metadata": {},
     "output_type": "display_data"
    },
    {
     "data": {
      "text/html": [
       "<a href=\"//www.cnbc.com/select/best-personal-loans/\" target=\"_blank\">//www.cnbc.com/select/best-personal-loans/</a>"
      ],
      "text/plain": [
       "<IPython.core.display.HTML object>"
      ]
     },
     "metadata": {},
     "output_type": "display_data"
    },
    {
     "data": {
      "text/html": [
       "<a href=\"//www.cnbc.com/select/best-debt-consolidation-loans/\" target=\"_blank\">//www.cnbc.com/select/best-debt-consolidation-loans/</a>"
      ],
      "text/plain": [
       "<IPython.core.display.HTML object>"
      ]
     },
     "metadata": {},
     "output_type": "display_data"
    },
    {
     "data": {
      "text/html": [
       "<a href=\"//www.cnbc.com/select/best-loans-for-refinancing-credit-card-debt/\" target=\"_blank\">//www.cnbc.com/select/best-loans-for-refinancing-credit-card-debt/</a>"
      ],
      "text/plain": [
       "<IPython.core.display.HTML object>"
      ]
     },
     "metadata": {},
     "output_type": "display_data"
    },
    {
     "data": {
      "text/html": [
       "<a href=\"//www.cnbc.com/select/6-personal-loans-thatll-get-you-funded-in-as-little-as-1-business-day/\" target=\"_blank\">//www.cnbc.com/select/6-personal-loans-thatll-get-you-funded-in-as-little-as-1-business-day/</a>"
      ],
      "text/plain": [
       "<IPython.core.display.HTML object>"
      ]
     },
     "metadata": {},
     "output_type": "display_data"
    },
    {
     "data": {
      "text/html": [
       "<a href=\"//www.cnbc.com/select/best-small-personal-loans/\" target=\"_blank\">//www.cnbc.com/select/best-small-personal-loans/</a>"
      ],
      "text/plain": [
       "<IPython.core.display.HTML object>"
      ]
     },
     "metadata": {},
     "output_type": "display_data"
    },
    {
     "data": {
      "text/html": [
       "<a href=\"//www.cnbc.com/select/personal-loan-lenders-borrow-50000/\" target=\"_blank\">//www.cnbc.com/select/personal-loan-lenders-borrow-50000/</a>"
      ],
      "text/plain": [
       "<IPython.core.display.HTML object>"
      ]
     },
     "metadata": {},
     "output_type": "display_data"
    },
    {
     "data": {
      "text/html": [
       "<a href=\"//www.cnbc.com/select/personal-loan-online-applications/\" target=\"_blank\">//www.cnbc.com/select/personal-loan-online-applications/</a>"
      ],
      "text/plain": [
       "<IPython.core.display.HTML object>"
      ]
     },
     "metadata": {},
     "output_type": "display_data"
    },
    {
     "data": {
      "text/html": [
       "<a href=\"//www.cnbc.com/select/best-student-loan-refinance-companies/\" target=\"_blank\">//www.cnbc.com/select/best-student-loan-refinance-companies/</a>"
      ],
      "text/plain": [
       "<IPython.core.display.HTML object>"
      ]
     },
     "metadata": {},
     "output_type": "display_data"
    },
    {
     "data": {
      "text/html": [
       "<a href=\"#\" target=\"_blank\">#</a>"
      ],
      "text/plain": [
       "<IPython.core.display.HTML object>"
      ]
     },
     "metadata": {},
     "output_type": "display_data"
    },
    {
     "data": {
      "text/html": [
       "<a href=\"//www.cnbc.com/select/banking/\" target=\"_blank\">//www.cnbc.com/select/banking/</a>"
      ],
      "text/plain": [
       "<IPython.core.display.HTML object>"
      ]
     },
     "metadata": {},
     "output_type": "display_data"
    },
    {
     "data": {
      "text/html": [
       "<a href=\"//www.cnbc.com/select/savings-marketplace/\" target=\"_blank\">//www.cnbc.com/select/savings-marketplace/</a>"
      ],
      "text/plain": [
       "<IPython.core.display.HTML object>"
      ]
     },
     "metadata": {},
     "output_type": "display_data"
    },
    {
     "data": {
      "text/html": [
       "<a href=\"//www.cnbc.com/select/best-high-yield-savings-accounts/\" target=\"_blank\">//www.cnbc.com/select/best-high-yield-savings-accounts/</a>"
      ],
      "text/plain": [
       "<IPython.core.display.HTML object>"
      ]
     },
     "metadata": {},
     "output_type": "display_data"
    },
    {
     "data": {
      "text/html": [
       "<a href=\"//www.cnbc.com/select/best-brick-and-mortar-savings-accounts/\" target=\"_blank\">//www.cnbc.com/select/best-brick-and-mortar-savings-accounts/</a>"
      ],
      "text/plain": [
       "<IPython.core.display.HTML object>"
      ]
     },
     "metadata": {},
     "output_type": "display_data"
    },
    {
     "data": {
      "text/html": [
       "<a href=\"//www.cnbc.com/select/best-brick-mortar-checking-accounts/\" target=\"_blank\">//www.cnbc.com/select/best-brick-mortar-checking-accounts/</a>"
      ],
      "text/plain": [
       "<IPython.core.display.HTML object>"
      ]
     },
     "metadata": {},
     "output_type": "display_data"
    },
    {
     "data": {
      "text/html": [
       "<a href=\"//www.cnbc.com/select/best-no-fee-checking-accounts/\" target=\"_blank\">//www.cnbc.com/select/best-no-fee-checking-accounts/</a>"
      ],
      "text/plain": [
       "<IPython.core.display.HTML object>"
      ]
     },
     "metadata": {},
     "output_type": "display_data"
    },
    {
     "data": {
      "text/html": [
       "<a href=\"//www.cnbc.com/select/checking-accounts-with-no-overdraft-fees/\" target=\"_blank\">//www.cnbc.com/select/checking-accounts-with-no-overdraft-fees/</a>"
      ],
      "text/plain": [
       "<IPython.core.display.HTML object>"
      ]
     },
     "metadata": {},
     "output_type": "display_data"
    },
    {
     "data": {
      "text/html": [
       "<a href=\"//www.cnbc.com/select/best-checking-account-bonuses/\" target=\"_blank\">//www.cnbc.com/select/best-checking-account-bonuses/</a>"
      ],
      "text/plain": [
       "<IPython.core.display.HTML object>"
      ]
     },
     "metadata": {},
     "output_type": "display_data"
    },
    {
     "data": {
      "text/html": [
       "<a href=\"//www.cnbc.com/select/best-money-market-accounts/\" target=\"_blank\">//www.cnbc.com/select/best-money-market-accounts/</a>"
      ],
      "text/plain": [
       "<IPython.core.display.HTML object>"
      ]
     },
     "metadata": {},
     "output_type": "display_data"
    },
    {
     "data": {
      "text/html": [
       "<a href=\"//www.cnbc.com/select/best-certificates-of-deposits/\" target=\"_blank\">//www.cnbc.com/select/best-certificates-of-deposits/</a>"
      ],
      "text/plain": [
       "<IPython.core.display.HTML object>"
      ]
     },
     "metadata": {},
     "output_type": "display_data"
    },
    {
     "data": {
      "text/html": [
       "<a href=\"//www.cnbc.com/select/best-credit-unions/\" target=\"_blank\">//www.cnbc.com/select/best-credit-unions/</a>"
      ],
      "text/plain": [
       "<IPython.core.display.HTML object>"
      ]
     },
     "metadata": {},
     "output_type": "display_data"
    },
    {
     "data": {
      "text/html": [
       "<a href=\"#\" target=\"_blank\">#</a>"
      ],
      "text/plain": [
       "<IPython.core.display.HTML object>"
      ]
     },
     "metadata": {},
     "output_type": "display_data"
    },
    {
     "data": {
      "text/html": [
       "<a href=\"//www.cnbc.com/select/mortgages/\" target=\"_blank\">//www.cnbc.com/select/mortgages/</a>"
      ],
      "text/plain": [
       "<IPython.core.display.HTML object>"
      ]
     },
     "metadata": {},
     "output_type": "display_data"
    },
    {
     "data": {
      "text/html": [
       "<a href=\"//www.cnbc.com/select/best-mortgage-lenders/\" target=\"_blank\">//www.cnbc.com/select/best-mortgage-lenders/</a>"
      ],
      "text/plain": [
       "<IPython.core.display.HTML object>"
      ]
     },
     "metadata": {},
     "output_type": "display_data"
    },
    {
     "data": {
      "text/html": [
       "<a href=\"//www.cnbc.com/select/mortgage-lenders-for-a-small-down-payment/\" target=\"_blank\">//www.cnbc.com/select/mortgage-lenders-for-a-small-down-payment/</a>"
      ],
      "text/plain": [
       "<IPython.core.display.HTML object>"
      ]
     },
     "metadata": {},
     "output_type": "display_data"
    },
    {
     "data": {
      "text/html": [
       "<a href=\"//www.cnbc.com/select/best-mortgage-lenders-va-loans-usda-loans/\" target=\"_blank\">//www.cnbc.com/select/best-mortgage-lenders-va-loans-usda-loans/</a>"
      ],
      "text/plain": [
       "<IPython.core.display.HTML object>"
      ]
     },
     "metadata": {},
     "output_type": "display_data"
    },
    {
     "data": {
      "text/html": [
       "<a href=\"//www.cnbc.com/select/best-mortgage-lenders-that-dont-charge-origination-fees/\" target=\"_blank\">//www.cnbc.com/select/best-mortgage-lenders-that-dont-charge-origination-fees/</a>"
      ],
      "text/plain": [
       "<IPython.core.display.HTML object>"
      ]
     },
     "metadata": {},
     "output_type": "display_data"
    },
    {
     "data": {
      "text/html": [
       "<a href=\"//www.cnbc.com/select/best-mortgage-lenders-average-credit-score/\" target=\"_blank\">//www.cnbc.com/select/best-mortgage-lenders-average-credit-score/</a>"
      ],
      "text/plain": [
       "<IPython.core.display.HTML object>"
      ]
     },
     "metadata": {},
     "output_type": "display_data"
    },
    {
     "data": {
      "text/html": [
       "<a href=\"//www.cnbc.com/select/adjustable-rate-mortgage-pros-and-cons/\" target=\"_blank\">//www.cnbc.com/select/adjustable-rate-mortgage-pros-and-cons/</a>"
      ],
      "text/plain": [
       "<IPython.core.display.HTML object>"
      ]
     },
     "metadata": {},
     "output_type": "display_data"
    },
    {
     "data": {
      "text/html": [
       "<a href=\"//www.cnbc.com/select/mortgage-affordability/\" target=\"_blank\">//www.cnbc.com/select/mortgage-affordability/</a>"
      ],
      "text/plain": [
       "<IPython.core.display.HTML object>"
      ]
     },
     "metadata": {},
     "output_type": "display_data"
    },
    {
     "data": {
      "text/html": [
       "<a href=\"#\" target=\"_blank\">#</a>"
      ],
      "text/plain": [
       "<IPython.core.display.HTML object>"
      ]
     },
     "metadata": {},
     "output_type": "display_data"
    },
    {
     "data": {
      "text/html": [
       "<a href=\"//www.cnbc.com/select/insurance/\" target=\"_blank\">//www.cnbc.com/select/insurance/</a>"
      ],
      "text/plain": [
       "<IPython.core.display.HTML object>"
      ]
     },
     "metadata": {},
     "output_type": "display_data"
    },
    {
     "data": {
      "text/html": [
       "<a href=\"//www.cnbc.com/select/best-life-insurance-companies/\" target=\"_blank\">//www.cnbc.com/select/best-life-insurance-companies/</a>"
      ],
      "text/plain": [
       "<IPython.core.display.HTML object>"
      ]
     },
     "metadata": {},
     "output_type": "display_data"
    },
    {
     "data": {
      "text/html": [
       "<a href=\"//www.cnbc.com/select/best-homeowners-insurance-companies/\" target=\"_blank\">//www.cnbc.com/select/best-homeowners-insurance-companies/</a>"
      ],
      "text/plain": [
       "<IPython.core.display.HTML object>"
      ]
     },
     "metadata": {},
     "output_type": "display_data"
    },
    {
     "data": {
      "text/html": [
       "<a href=\"//www.cnbc.com/select/best-renters-insurance-companies/\" target=\"_blank\">//www.cnbc.com/select/best-renters-insurance-companies/</a>"
      ],
      "text/plain": [
       "<IPython.core.display.HTML object>"
      ]
     },
     "metadata": {},
     "output_type": "display_data"
    },
    {
     "data": {
      "text/html": [
       "<a href=\"//www.cnbc.com/select/best-car-insurance-companies/\" target=\"_blank\">//www.cnbc.com/select/best-car-insurance-companies/</a>"
      ],
      "text/plain": [
       "<IPython.core.display.HTML object>"
      ]
     },
     "metadata": {},
     "output_type": "display_data"
    },
    {
     "data": {
      "text/html": [
       "<a href=\"//www.cnbc.com/select/travel-insurance-guide/\" target=\"_blank\">//www.cnbc.com/select/travel-insurance-guide/</a>"
      ],
      "text/plain": [
       "<IPython.core.display.HTML object>"
      ]
     },
     "metadata": {},
     "output_type": "display_data"
    },
    {
     "data": {
      "text/html": [
       "<a href=\"#\" target=\"_blank\">#</a>"
      ],
      "text/plain": [
       "<IPython.core.display.HTML object>"
      ]
     },
     "metadata": {},
     "output_type": "display_data"
    },
    {
     "data": {
      "text/html": [
       "<a href=\"//www.cnbc.com/select/credit-monitoring/\" target=\"_blank\">//www.cnbc.com/select/credit-monitoring/</a>"
      ],
      "text/plain": [
       "<IPython.core.display.HTML object>"
      ]
     },
     "metadata": {},
     "output_type": "display_data"
    },
    {
     "data": {
      "text/html": [
       "<a href=\"//www.cnbc.com/select/best-credit-monitoring-services/\" target=\"_blank\">//www.cnbc.com/select/best-credit-monitoring-services/</a>"
      ],
      "text/plain": [
       "<IPython.core.display.HTML object>"
      ]
     },
     "metadata": {},
     "output_type": "display_data"
    },
    {
     "data": {
      "text/html": [
       "<a href=\"//www.cnbc.com/select/best-identity-theft-protection-services/\" target=\"_blank\">//www.cnbc.com/select/best-identity-theft-protection-services/</a>"
      ],
      "text/plain": [
       "<IPython.core.display.HTML object>"
      ]
     },
     "metadata": {},
     "output_type": "display_data"
    },
    {
     "data": {
      "text/html": [
       "<a href=\"//www.cnbc.com/select/how-experian-boost-works/\" target=\"_blank\">//www.cnbc.com/select/how-experian-boost-works/</a>"
      ],
      "text/plain": [
       "<IPython.core.display.HTML object>"
      ]
     },
     "metadata": {},
     "output_type": "display_data"
    },
    {
     "data": {
      "text/html": [
       "<a href=\"//www.cnbc.com/select/how-do-credit-repair-services-work/\" target=\"_blank\">//www.cnbc.com/select/how-do-credit-repair-services-work/</a>"
      ],
      "text/plain": [
       "<IPython.core.display.HTML object>"
      ]
     },
     "metadata": {},
     "output_type": "display_data"
    },
    {
     "data": {
      "text/html": [
       "<a href=\"#\" target=\"_blank\">#</a>"
      ],
      "text/plain": [
       "<IPython.core.display.HTML object>"
      ]
     },
     "metadata": {},
     "output_type": "display_data"
    },
    {
     "data": {
      "text/html": [
       "<a href=\"//www.cnbc.com/select/personal-finance/\" target=\"_blank\">//www.cnbc.com/select/personal-finance/</a>"
      ],
      "text/plain": [
       "<IPython.core.display.HTML object>"
      ]
     },
     "metadata": {},
     "output_type": "display_data"
    },
    {
     "data": {
      "text/html": [
       "<a href=\"//www.cnbc.com/select/best-budgeting-apps/\" target=\"_blank\">//www.cnbc.com/select/best-budgeting-apps/</a>"
      ],
      "text/plain": [
       "<IPython.core.display.HTML object>"
      ]
     },
     "metadata": {},
     "output_type": "display_data"
    },
    {
     "data": {
      "text/html": [
       "<a href=\"//www.cnbc.com/select/best-expense-tracker-apps/\" target=\"_blank\">//www.cnbc.com/select/best-expense-tracker-apps/</a>"
      ],
      "text/plain": [
       "<IPython.core.display.HTML object>"
      ]
     },
     "metadata": {},
     "output_type": "display_data"
    },
    {
     "data": {
      "text/html": [
       "<a href=\"//www.cnbc.com/select/best-money-transfer-payment-apps/\" target=\"_blank\">//www.cnbc.com/select/best-money-transfer-payment-apps/</a>"
      ],
      "text/plain": [
       "<IPython.core.display.HTML object>"
      ]
     },
     "metadata": {},
     "output_type": "display_data"
    },
    {
     "data": {
      "text/html": [
       "<a href=\"//www.cnbc.com/select/best-resale-apps-and-websites/\" target=\"_blank\">//www.cnbc.com/select/best-resale-apps-and-websites/</a>"
      ],
      "text/plain": [
       "<IPython.core.display.HTML object>"
      ]
     },
     "metadata": {},
     "output_type": "display_data"
    },
    {
     "data": {
      "text/html": [
       "<a href=\"//www.cnbc.com/select/best-buy-now-pay-later-apps/\" target=\"_blank\">//www.cnbc.com/select/best-buy-now-pay-later-apps/</a>"
      ],
      "text/plain": [
       "<IPython.core.display.HTML object>"
      ]
     },
     "metadata": {},
     "output_type": "display_data"
    },
    {
     "data": {
      "text/html": [
       "<a href=\"//www.cnbc.com/select/best-debt-relief-companies/\" target=\"_blank\">//www.cnbc.com/select/best-debt-relief-companies/</a>"
      ],
      "text/plain": [
       "<IPython.core.display.HTML object>"
      ]
     },
     "metadata": {},
     "output_type": "display_data"
    },
    {
     "data": {
      "text/html": [
       "<a href=\"#\" target=\"_blank\">#</a>"
      ],
      "text/plain": [
       "<IPython.core.display.HTML object>"
      ]
     },
     "metadata": {},
     "output_type": "display_data"
    },
    {
     "data": {
      "text/html": [
       "<a href=\"//www.cnbc.com/select/small-business/\" target=\"_blank\">//www.cnbc.com/select/small-business/</a>"
      ],
      "text/plain": [
       "<IPython.core.display.HTML object>"
      ]
     },
     "metadata": {},
     "output_type": "display_data"
    },
    {
     "data": {
      "text/html": [
       "<a href=\"//www.cnbc.com/select/best-small-business-savings-accounts/\" target=\"_blank\">//www.cnbc.com/select/best-small-business-savings-accounts/</a>"
      ],
      "text/plain": [
       "<IPython.core.display.HTML object>"
      ]
     },
     "metadata": {},
     "output_type": "display_data"
    },
    {
     "data": {
      "text/html": [
       "<a href=\"//www.cnbc.com/select/best-business-checking-accounts/\" target=\"_blank\">//www.cnbc.com/select/best-business-checking-accounts/</a>"
      ],
      "text/plain": [
       "<IPython.core.display.HTML object>"
      ]
     },
     "metadata": {},
     "output_type": "display_data"
    },
    {
     "data": {
      "text/html": [
       "<a href=\"//www.cnbc.com/select/best-small-business-credit-cards/\" target=\"_blank\">//www.cnbc.com/select/best-small-business-credit-cards/</a>"
      ],
      "text/plain": [
       "<IPython.core.display.HTML object>"
      ]
     },
     "metadata": {},
     "output_type": "display_data"
    },
    {
     "data": {
      "text/html": [
       "<a href=\"//www.cnbc.com/select/best-small-business-loans/\" target=\"_blank\">//www.cnbc.com/select/best-small-business-loans/</a>"
      ],
      "text/plain": [
       "<IPython.core.display.HTML object>"
      ]
     },
     "metadata": {},
     "output_type": "display_data"
    },
    {
     "data": {
      "text/html": [
       "<a href=\"//www.cnbc.com/select/best-tax-software-for-small-businesses/\" target=\"_blank\">//www.cnbc.com/select/best-tax-software-for-small-businesses/</a>"
      ],
      "text/plain": [
       "<IPython.core.display.HTML object>"
      ]
     },
     "metadata": {},
     "output_type": "display_data"
    },
    {
     "data": {
      "text/html": [
       "<a href=\"#\" target=\"_blank\">#</a>"
      ],
      "text/plain": [
       "<IPython.core.display.HTML object>"
      ]
     },
     "metadata": {},
     "output_type": "display_data"
    },
    {
     "data": {
      "text/html": [
       "<a href=\"//www.cnbc.com/select/taxes/\" target=\"_blank\">//www.cnbc.com/select/taxes/</a>"
      ],
      "text/plain": [
       "<IPython.core.display.HTML object>"
      ]
     },
     "metadata": {},
     "output_type": "display_data"
    },
    {
     "data": {
      "text/html": [
       "<a href=\"//www.cnbc.com/select/best-tax-software/\" target=\"_blank\">//www.cnbc.com/select/best-tax-software/</a>"
      ],
      "text/plain": [
       "<IPython.core.display.HTML object>"
      ]
     },
     "metadata": {},
     "output_type": "display_data"
    },
    {
     "data": {
      "text/html": [
       "<a href=\"//www.cnbc.com/select/best-tax-software-for-small-businesses/\" target=\"_blank\">//www.cnbc.com/select/best-tax-software-for-small-businesses/</a>"
      ],
      "text/plain": [
       "<IPython.core.display.HTML object>"
      ]
     },
     "metadata": {},
     "output_type": "display_data"
    },
    {
     "data": {
      "text/html": [
       "<a href=\"//www.cnbc.com/select/how-to-check-the-status-of-your-2020-tax-refund/\" target=\"_blank\">//www.cnbc.com/select/how-to-check-the-status-of-your-2020-tax-refund/</a>"
      ],
      "text/plain": [
       "<IPython.core.display.HTML object>"
      ]
     },
     "metadata": {},
     "output_type": "display_data"
    },
    {
     "data": {
      "text/html": [
       "<a href=\"#\" target=\"_blank\">#</a>"
      ],
      "text/plain": [
       "<IPython.core.display.HTML object>"
      ]
     },
     "metadata": {},
     "output_type": "display_data"
    },
    {
     "data": {
      "text/html": [
       "<a href=\"//www.cnbc.com/select/low-credit-scores/\" target=\"_blank\">//www.cnbc.com/select/low-credit-scores/</a>"
      ],
      "text/plain": [
       "<IPython.core.display.HTML object>"
      ]
     },
     "metadata": {},
     "output_type": "display_data"
    },
    {
     "data": {
      "text/html": [
       "<a href=\"//www.cnbc.com/select/best-credit-cards-for-bad-credit/\" target=\"_blank\">//www.cnbc.com/select/best-credit-cards-for-bad-credit/</a>"
      ],
      "text/plain": [
       "<IPython.core.display.HTML object>"
      ]
     },
     "metadata": {},
     "output_type": "display_data"
    },
    {
     "data": {
      "text/html": [
       "<a href=\"//www.cnbc.com/select/best-personal-loans-for-bad-credit/\" target=\"_blank\">//www.cnbc.com/select/best-personal-loans-for-bad-credit/</a>"
      ],
      "text/plain": [
       "<IPython.core.display.HTML object>"
      ]
     },
     "metadata": {},
     "output_type": "display_data"
    },
    {
     "data": {
      "text/html": [
       "<a href=\"//www.cnbc.com/select/best-debt-consolidation-loans-for-bad-credit/\" target=\"_blank\">//www.cnbc.com/select/best-debt-consolidation-loans-for-bad-credit/</a>"
      ],
      "text/plain": [
       "<IPython.core.display.HTML object>"
      ]
     },
     "metadata": {},
     "output_type": "display_data"
    },
    {
     "data": {
      "text/html": [
       "<a href=\"//www.cnbc.com/select/personal-loan-lenders-to-consider-if-you-dont-have-credit-score/\" target=\"_blank\">//www.cnbc.com/select/personal-loan-lenders-to-consider-if-you-dont-have-credit-score/</a>"
      ],
      "text/plain": [
       "<IPython.core.display.HTML object>"
      ]
     },
     "metadata": {},
     "output_type": "display_data"
    },
    {
     "data": {
      "text/html": [
       "<a href=\"//www.cnbc.com/select/the-best-credit-cards-for-building-credit/\" target=\"_blank\">//www.cnbc.com/select/the-best-credit-cards-for-building-credit/</a>"
      ],
      "text/plain": [
       "<IPython.core.display.HTML object>"
      ]
     },
     "metadata": {},
     "output_type": "display_data"
    },
    {
     "data": {
      "text/html": [
       "<a href=\"//www.cnbc.com/select/personal-loans-to-apply-credit-score-580-or-lower/\" target=\"_blank\">//www.cnbc.com/select/personal-loans-to-apply-credit-score-580-or-lower/</a>"
      ],
      "text/plain": [
       "<IPython.core.display.HTML object>"
      ]
     },
     "metadata": {},
     "output_type": "display_data"
    },
    {
     "data": {
      "text/html": [
       "<a href=\"//www.cnbc.com/select/personal-loan-lenders-credit-score-below-670/\" target=\"_blank\">//www.cnbc.com/select/personal-loan-lenders-credit-score-below-670/</a>"
      ],
      "text/plain": [
       "<IPython.core.display.HTML object>"
      ]
     },
     "metadata": {},
     "output_type": "display_data"
    },
    {
     "data": {
      "text/html": [
       "<a href=\"//www.cnbc.com/select/best-mortgage-lenders-bad-credit-score/\" target=\"_blank\">//www.cnbc.com/select/best-mortgage-lenders-bad-credit-score/</a>"
      ],
      "text/plain": [
       "<IPython.core.display.HTML object>"
      ]
     },
     "metadata": {},
     "output_type": "display_data"
    },
    {
     "data": {
      "text/html": [
       "<a href=\"//www.cnbc.com/select/best-hardship-loans/\" target=\"_blank\">//www.cnbc.com/select/best-hardship-loans/</a>"
      ],
      "text/plain": [
       "<IPython.core.display.HTML object>"
      ]
     },
     "metadata": {},
     "output_type": "display_data"
    },
    {
     "data": {
      "text/html": [
       "<a href=\"//www.cnbc.com/select/how-experian-boost-works/\" target=\"_blank\">//www.cnbc.com/select/how-experian-boost-works/</a>"
      ],
      "text/plain": [
       "<IPython.core.display.HTML object>"
      ]
     },
     "metadata": {},
     "output_type": "display_data"
    },
    {
     "data": {
      "text/html": [
       "<a href=\"#\" target=\"_blank\">#</a>"
      ],
      "text/plain": [
       "<IPython.core.display.HTML object>"
      ]
     },
     "metadata": {},
     "output_type": "display_data"
    },
    {
     "data": {
      "text/html": [
       "<a href=\"//www.cnbc.com/select/investing/\" target=\"_blank\">//www.cnbc.com/select/investing/</a>"
      ],
      "text/plain": [
       "<IPython.core.display.HTML object>"
      ]
     },
     "metadata": {},
     "output_type": "display_data"
    },
    {
     "data": {
      "text/html": [
       "<a href=\"//www.cnbc.com/select/best-ira-accounts/\" target=\"_blank\">//www.cnbc.com/select/best-ira-accounts/</a>"
      ],
      "text/plain": [
       "<IPython.core.display.HTML object>"
      ]
     },
     "metadata": {},
     "output_type": "display_data"
    },
    {
     "data": {
      "text/html": [
       "<a href=\"//www.cnbc.com/select/best-roth-ira-accounts/\" target=\"_blank\">//www.cnbc.com/select/best-roth-ira-accounts/</a>"
      ],
      "text/plain": [
       "<IPython.core.display.HTML object>"
      ]
     },
     "metadata": {},
     "output_type": "display_data"
    },
    {
     "data": {
      "text/html": [
       "<a href=\"//www.cnbc.com/select/best-investing-apps/\" target=\"_blank\">//www.cnbc.com/select/best-investing-apps/</a>"
      ],
      "text/plain": [
       "<IPython.core.display.HTML object>"
      ]
     },
     "metadata": {},
     "output_type": "display_data"
    },
    {
     "data": {
      "text/html": [
       "<a href=\"//www.cnbc.com/select/best-brokerage-free-stock-trading/\" target=\"_blank\">//www.cnbc.com/select/best-brokerage-free-stock-trading/</a>"
      ],
      "text/plain": [
       "<IPython.core.display.HTML object>"
      ]
     },
     "metadata": {},
     "output_type": "display_data"
    },
    {
     "data": {
      "text/html": [
       "<a href=\"//www.cnbc.com/select/best-robo-advisors/\" target=\"_blank\">//www.cnbc.com/select/best-robo-advisors/</a>"
      ],
      "text/plain": [
       "<IPython.core.display.HTML object>"
      ]
     },
     "metadata": {},
     "output_type": "display_data"
    },
    {
     "data": {
      "text/html": [
       "<a href=\"//www.cnbc.com/select/what-are-index-funds/\" target=\"_blank\">//www.cnbc.com/select/what-are-index-funds/</a>"
      ],
      "text/plain": [
       "<IPython.core.display.HTML object>"
      ]
     },
     "metadata": {},
     "output_type": "display_data"
    },
    {
     "data": {
      "text/html": [
       "<a href=\"//www.cnbc.com/select/what-are-mutual-funds/\" target=\"_blank\">//www.cnbc.com/select/what-are-mutual-funds/</a>"
      ],
      "text/plain": [
       "<IPython.core.display.HTML object>"
      ]
     },
     "metadata": {},
     "output_type": "display_data"
    },
    {
     "data": {
      "text/html": [
       "<a href=\"//www.cnbc.com/select/what-are-etfs-should-you-invest/\" target=\"_blank\">//www.cnbc.com/select/what-are-etfs-should-you-invest/</a>"
      ],
      "text/plain": [
       "<IPython.core.display.HTML object>"
      ]
     },
     "metadata": {},
     "output_type": "display_data"
    },
    {
     "data": {
      "text/html": [
       "<a href=\"//www.cnbc.com/select/what-are-bonds/\" target=\"_blank\">//www.cnbc.com/select/what-are-bonds/</a>"
      ],
      "text/plain": [
       "<IPython.core.display.HTML object>"
      ]
     },
     "metadata": {},
     "output_type": "display_data"
    },
    {
     "data": {
      "text/html": [
       "<a href=\"/?region=usa\" target=\"_blank\">/?region=usa</a>"
      ],
      "text/plain": [
       "<IPython.core.display.HTML object>"
      ]
     },
     "metadata": {},
     "output_type": "display_data"
    },
    {
     "data": {
      "text/html": [
       "<a href=\"/world/\" target=\"_blank\">/world/</a>"
      ],
      "text/plain": [
       "<IPython.core.display.HTML object>"
      ]
     },
     "metadata": {},
     "output_type": "display_data"
    },
    {
     "data": {
      "text/html": [
       "<a href=\"/watchlist/\" target=\"_blank\">/watchlist/</a>"
      ],
      "text/plain": [
       "<IPython.core.display.HTML object>"
      ]
     },
     "metadata": {},
     "output_type": "display_data"
    },
    {
     "data": {
      "text/html": [
       "<a href=\"#\" target=\"_blank\">#</a>"
      ],
      "text/plain": [
       "<IPython.core.display.HTML object>"
      ]
     },
     "metadata": {},
     "output_type": "display_data"
    },
    {
     "data": {
      "text/html": [
       "<a href=\"#\" target=\"_blank\">#</a>"
      ],
      "text/plain": [
       "<IPython.core.display.HTML object>"
      ]
     },
     "metadata": {},
     "output_type": "display_data"
    },
    {
     "data": {
      "text/html": [
       "<a href=\"/\" target=\"_blank\">/</a>"
      ],
      "text/plain": [
       "<IPython.core.display.HTML object>"
      ]
     },
     "metadata": {},
     "output_type": "display_data"
    },
    {
     "data": {
      "text/html": [
       "<a href=\"/markets/\" target=\"_blank\">/markets/</a>"
      ],
      "text/plain": [
       "<IPython.core.display.HTML object>"
      ]
     },
     "metadata": {},
     "output_type": "display_data"
    },
    {
     "data": {
      "text/html": [
       "<a href=\"/business/\" target=\"_blank\">/business/</a>"
      ],
      "text/plain": [
       "<IPython.core.display.HTML object>"
      ]
     },
     "metadata": {},
     "output_type": "display_data"
    },
    {
     "data": {
      "text/html": [
       "<a href=\"/investing/\" target=\"_blank\">/investing/</a>"
      ],
      "text/plain": [
       "<IPython.core.display.HTML object>"
      ]
     },
     "metadata": {},
     "output_type": "display_data"
    },
    {
     "data": {
      "text/html": [
       "<a href=\"/technology/\" target=\"_blank\">/technology/</a>"
      ],
      "text/plain": [
       "<IPython.core.display.HTML object>"
      ]
     },
     "metadata": {},
     "output_type": "display_data"
    },
    {
     "data": {
      "text/html": [
       "<a href=\"/politics/\" target=\"_blank\">/politics/</a>"
      ],
      "text/plain": [
       "<IPython.core.display.HTML object>"
      ]
     },
     "metadata": {},
     "output_type": "display_data"
    },
    {
     "data": {
      "text/html": [
       "<a href=\"/tv/\" target=\"_blank\">/tv/</a>"
      ],
      "text/plain": [
       "<IPython.core.display.HTML object>"
      ]
     },
     "metadata": {},
     "output_type": "display_data"
    },
    {
     "data": {
      "text/html": [
       "<a href=\"/watchlist/\" target=\"_blank\">/watchlist/</a>"
      ],
      "text/plain": [
       "<IPython.core.display.HTML object>"
      ]
     },
     "metadata": {},
     "output_type": "display_data"
    },
    {
     "data": {
      "text/html": [
       "<a href=\"/investingclub/\" target=\"_blank\">/investingclub/</a>"
      ],
      "text/plain": [
       "<IPython.core.display.HTML object>"
      ]
     },
     "metadata": {},
     "output_type": "display_data"
    },
    {
     "data": {
      "text/html": [
       "<a href=\"/pro/\" target=\"_blank\">/pro/</a>"
      ],
      "text/plain": [
       "<IPython.core.display.HTML object>"
      ]
     },
     "metadata": {},
     "output_type": "display_data"
    },
    {
     "data": {
      "text/html": [
       "<a href=\"/white-house/\" target=\"_blank\">/white-house/</a>"
      ],
      "text/plain": [
       "<IPython.core.display.HTML object>"
      ]
     },
     "metadata": {},
     "output_type": "display_data"
    },
    {
     "data": {
      "text/html": [
       "<a href=\"/policy/\" target=\"_blank\">/policy/</a>"
      ],
      "text/plain": [
       "<IPython.core.display.HTML object>"
      ]
     },
     "metadata": {},
     "output_type": "display_data"
    },
    {
     "data": {
      "text/html": [
       "<a href=\"/defense/\" target=\"_blank\">/defense/</a>"
      ],
      "text/plain": [
       "<IPython.core.display.HTML object>"
      ]
     },
     "metadata": {},
     "output_type": "display_data"
    },
    {
     "data": {
      "text/html": [
       "<a href=\"/congress/\" target=\"_blank\">/congress/</a>"
      ],
      "text/plain": [
       "<IPython.core.display.HTML object>"
      ]
     },
     "metadata": {},
     "output_type": "display_data"
    },
    {
     "data": {
      "text/html": [
       "<a href=\"/equity-opportunity/\" target=\"_blank\">/equity-opportunity/</a>"
      ],
      "text/plain": [
       "<IPython.core.display.HTML object>"
      ]
     },
     "metadata": {},
     "output_type": "display_data"
    },
    {
     "data": {
      "text/html": [
       "<a href=\"https://www.cnbc.com/2023/08/24/first-trial-of-trump-co-defendant-in-georgia-case-will-begin-oct-23-judge-rules.html\" target=\"_blank\">https://www.cnbc.com/2023/08/24/first-trial-of-trump-co-defendant-in-georgia-case-will-begin-oct-23-judge-rules.html</a>"
      ],
      "text/plain": [
       "<IPython.core.display.HTML object>"
      ]
     },
     "metadata": {},
     "output_type": "display_data"
    },
    {
     "data": {
      "text/html": [
       "<a href=\"https://www.cnbc.com/2023/08/24/first-trial-of-trump-co-defendant-in-georgia-case-will-begin-oct-23-judge-rules.html\" target=\"_blank\">https://www.cnbc.com/2023/08/24/first-trial-of-trump-co-defendant-in-georgia-case-will-begin-oct-23-judge-rules.html</a>"
      ],
      "text/plain": [
       "<IPython.core.display.HTML object>"
      ]
     },
     "metadata": {},
     "output_type": "display_data"
    },
    {
     "data": {
      "text/html": [
       "<a href=\"https://www.cnbc.com/dan-mangan/\" target=\"_blank\">https://www.cnbc.com/dan-mangan/</a>"
      ],
      "text/plain": [
       "<IPython.core.display.HTML object>"
      ]
     },
     "metadata": {},
     "output_type": "display_data"
    },
    {
     "data": {
      "text/html": [
       "<a href=\"https://www.cnbc.com/2023/08/24/putin-says-prigozhin-made-serious-mistakes-in-first-remarks-since-crash.html\" target=\"_blank\">https://www.cnbc.com/2023/08/24/putin-says-prigozhin-made-serious-mistakes-in-first-remarks-since-crash.html</a>"
      ],
      "text/plain": [
       "<IPython.core.display.HTML object>"
      ]
     },
     "metadata": {},
     "output_type": "display_data"
    },
    {
     "data": {
      "text/html": [
       "<a href=\"https://www.cnbc.com/2023/08/24/putin-says-prigozhin-made-serious-mistakes-in-first-remarks-since-crash.html\" target=\"_blank\">https://www.cnbc.com/2023/08/24/putin-says-prigozhin-made-serious-mistakes-in-first-remarks-since-crash.html</a>"
      ],
      "text/plain": [
       "<IPython.core.display.HTML object>"
      ]
     },
     "metadata": {},
     "output_type": "display_data"
    },
    {
     "data": {
      "text/html": [
       "<a href=\"https://www.cnbc.com/amanda-macias/\" target=\"_blank\">https://www.cnbc.com/amanda-macias/</a>"
      ],
      "text/plain": [
       "<IPython.core.display.HTML object>"
      ]
     },
     "metadata": {},
     "output_type": "display_data"
    },
    {
     "data": {
      "text/html": [
       "<a href=\"https://www.cnbc.com/2023/08/24/donald-trump-to-be-arrested-in-georgia-live-updates.html\" target=\"_blank\">https://www.cnbc.com/2023/08/24/donald-trump-to-be-arrested-in-georgia-live-updates.html</a>"
      ],
      "text/plain": [
       "<IPython.core.display.HTML object>"
      ]
     },
     "metadata": {},
     "output_type": "display_data"
    },
    {
     "data": {
      "text/html": [
       "<a href=\"https://www.cnbc.com/2023/08/24/donald-trump-to-be-arrested-in-georgia-live-updates.html\" target=\"_blank\">https://www.cnbc.com/2023/08/24/donald-trump-to-be-arrested-in-georgia-live-updates.html</a>"
      ],
      "text/plain": [
       "<IPython.core.display.HTML object>"
      ]
     },
     "metadata": {},
     "output_type": "display_data"
    },
    {
     "data": {
      "text/html": [
       "<a href=\"https://www.cnbc.com/dan-mangan/\" target=\"_blank\">https://www.cnbc.com/dan-mangan/</a>"
      ],
      "text/plain": [
       "<IPython.core.display.HTML object>"
      ]
     },
     "metadata": {},
     "output_type": "display_data"
    },
    {
     "data": {
      "text/html": [
       "<a href=\"https://www.cnbc.com/2023/08/24/trump-georgia-election-prosecutor-seeks-oct-23-trial-start.html\" target=\"_blank\">https://www.cnbc.com/2023/08/24/trump-georgia-election-prosecutor-seeks-oct-23-trial-start.html</a>"
      ],
      "text/plain": [
       "<IPython.core.display.HTML object>"
      ]
     },
     "metadata": {},
     "output_type": "display_data"
    },
    {
     "data": {
      "text/html": [
       "<a href=\"https://www.cnbc.com/2023/08/24/trump-georgia-election-prosecutor-seeks-oct-23-trial-start.html\" target=\"_blank\">https://www.cnbc.com/2023/08/24/trump-georgia-election-prosecutor-seeks-oct-23-trial-start.html</a>"
      ],
      "text/plain": [
       "<IPython.core.display.HTML object>"
      ]
     },
     "metadata": {},
     "output_type": "display_data"
    },
    {
     "data": {
      "text/html": [
       "<a href=\"https://www.cnbc.com/dan-mangan/\" target=\"_blank\">https://www.cnbc.com/dan-mangan/</a>"
      ],
      "text/plain": [
       "<IPython.core.display.HTML object>"
      ]
     },
     "metadata": {},
     "output_type": "display_data"
    },
    {
     "data": {
      "text/html": [
       "<a href=\"https://www.cnbc.com/2023/08/24/trump-chief-of-staff-mark-meadows-gets-100000-bond-in-georgia-election-case.html\" target=\"_blank\">https://www.cnbc.com/2023/08/24/trump-chief-of-staff-mark-meadows-gets-100000-bond-in-georgia-election-case.html</a>"
      ],
      "text/plain": [
       "<IPython.core.display.HTML object>"
      ]
     },
     "metadata": {},
     "output_type": "display_data"
    },
    {
     "data": {
      "text/html": [
       "<a href=\"https://www.cnbc.com/2023/08/24/trump-chief-of-staff-mark-meadows-gets-100000-bond-in-georgia-election-case.html\" target=\"_blank\">https://www.cnbc.com/2023/08/24/trump-chief-of-staff-mark-meadows-gets-100000-bond-in-georgia-election-case.html</a>"
      ],
      "text/plain": [
       "<IPython.core.display.HTML object>"
      ]
     },
     "metadata": {},
     "output_type": "display_data"
    },
    {
     "data": {
      "text/html": [
       "<a href=\"https://www.cnbc.com/kevin-breuninger/\" target=\"_blank\">https://www.cnbc.com/kevin-breuninger/</a>"
      ],
      "text/plain": [
       "<IPython.core.display.HTML object>"
      ]
     },
     "metadata": {},
     "output_type": "display_data"
    },
    {
     "data": {
      "text/html": [
       "<a href=\"https://www.cnbc.com/2023/08/24/republican-debate-by-the-numbers-ramaswamy-trump-looms-large.html\" target=\"_blank\">https://www.cnbc.com/2023/08/24/republican-debate-by-the-numbers-ramaswamy-trump-looms-large.html</a>"
      ],
      "text/plain": [
       "<IPython.core.display.HTML object>"
      ]
     },
     "metadata": {},
     "output_type": "display_data"
    },
    {
     "data": {
      "text/html": [
       "<a href=\"https://www.cnbc.com/politics/\" target=\"_blank\">https://www.cnbc.com/politics/</a>"
      ],
      "text/plain": [
       "<IPython.core.display.HTML object>"
      ]
     },
     "metadata": {},
     "output_type": "display_data"
    },
    {
     "data": {
      "text/html": [
       "<a href=\"https://www.cnbc.com/2023/08/24/republican-debate-by-the-numbers-ramaswamy-trump-looms-large.html\" target=\"_blank\">https://www.cnbc.com/2023/08/24/republican-debate-by-the-numbers-ramaswamy-trump-looms-large.html</a>"
      ],
      "text/plain": [
       "<IPython.core.display.HTML object>"
      ]
     },
     "metadata": {},
     "output_type": "display_data"
    },
    {
     "data": {
      "text/html": [
       "<a href=\"https://www.cnbc.com/2023/08/24/trump-georgia-election-case-is-target-of-new-house-gop-led-committee-probe.html\" target=\"_blank\">https://www.cnbc.com/2023/08/24/trump-georgia-election-case-is-target-of-new-house-gop-led-committee-probe.html</a>"
      ],
      "text/plain": [
       "<IPython.core.display.HTML object>"
      ]
     },
     "metadata": {},
     "output_type": "display_data"
    },
    {
     "data": {
      "text/html": [
       "<a href=\"https://www.cnbc.com/politics/\" target=\"_blank\">https://www.cnbc.com/politics/</a>"
      ],
      "text/plain": [
       "<IPython.core.display.HTML object>"
      ]
     },
     "metadata": {},
     "output_type": "display_data"
    },
    {
     "data": {
      "text/html": [
       "<a href=\"https://www.cnbc.com/2023/08/24/trump-georgia-election-case-is-target-of-new-house-gop-led-committee-probe.html\" target=\"_blank\">https://www.cnbc.com/2023/08/24/trump-georgia-election-case-is-target-of-new-house-gop-led-committee-probe.html</a>"
      ],
      "text/plain": [
       "<IPython.core.display.HTML object>"
      ]
     },
     "metadata": {},
     "output_type": "display_data"
    },
    {
     "data": {
      "text/html": [
       "<a href=\"https://www.cnbc.com/2023/08/24/ukrainian-lawmaker-gop-comments-on-reducing-military-aid-concerning.html\" target=\"_blank\">https://www.cnbc.com/2023/08/24/ukrainian-lawmaker-gop-comments-on-reducing-military-aid-concerning.html</a>"
      ],
      "text/plain": [
       "<IPython.core.display.HTML object>"
      ]
     },
     "metadata": {},
     "output_type": "display_data"
    },
    {
     "data": {
      "text/html": [
       "<a href=\"https://www.cnbc.com/politics/\" target=\"_blank\">https://www.cnbc.com/politics/</a>"
      ],
      "text/plain": [
       "<IPython.core.display.HTML object>"
      ]
     },
     "metadata": {},
     "output_type": "display_data"
    },
    {
     "data": {
      "text/html": [
       "<a href=\"https://www.cnbc.com/2023/08/24/ukrainian-lawmaker-gop-comments-on-reducing-military-aid-concerning.html\" target=\"_blank\">https://www.cnbc.com/2023/08/24/ukrainian-lawmaker-gop-comments-on-reducing-military-aid-concerning.html</a>"
      ],
      "text/plain": [
       "<IPython.core.display.HTML object>"
      ]
     },
     "metadata": {},
     "output_type": "display_data"
    },
    {
     "data": {
      "text/html": [
       "<a href=\"https://www.cnbc.com/2023/08/24/donald-trump-to-be-arrested-in-georgia-live-updates.html\" target=\"_blank\">https://www.cnbc.com/2023/08/24/donald-trump-to-be-arrested-in-georgia-live-updates.html</a>"
      ],
      "text/plain": [
       "<IPython.core.display.HTML object>"
      ]
     },
     "metadata": {},
     "output_type": "display_data"
    },
    {
     "data": {
      "text/html": [
       "<a href=\"https://www.cnbc.com/2023/08/22/us-cities-with-the-highest-cost-of-living.html\" target=\"_blank\">https://www.cnbc.com/2023/08/22/us-cities-with-the-highest-cost-of-living.html</a>"
      ],
      "text/plain": [
       "<IPython.core.display.HTML object>"
      ]
     },
     "metadata": {},
     "output_type": "display_data"
    },
    {
     "data": {
      "text/html": [
       "<a href=\"https://www.cnbc.com/2023/08/24/psychology-expert-shares-traits-of-highly-selfish-entitled-people-and-how-to-deal-with-them.html\" target=\"_blank\">https://www.cnbc.com/2023/08/24/psychology-expert-shares-traits-of-highly-selfish-entitled-people-and-how-to-deal-with-them.html</a>"
      ],
      "text/plain": [
       "<IPython.core.display.HTML object>"
      ]
     },
     "metadata": {},
     "output_type": "display_data"
    },
    {
     "data": {
      "text/html": [
       "<a href=\"https://www.cnbc.com/2023/08/23/india-chandrayaan-3-moon-mission.html\" target=\"_blank\">https://www.cnbc.com/2023/08/23/india-chandrayaan-3-moon-mission.html</a>"
      ],
      "text/plain": [
       "<IPython.core.display.HTML object>"
      ]
     },
     "metadata": {},
     "output_type": "display_data"
    },
    {
     "data": {
      "text/html": [
       "<a href=\"https://www.cnbc.com/2023/08/24/apple-backs-california-right-to-repair-bill-in-major-policy-shift.html\" target=\"_blank\">https://www.cnbc.com/2023/08/24/apple-backs-california-right-to-repair-bill-in-major-policy-shift.html</a>"
      ],
      "text/plain": [
       "<IPython.core.display.HTML object>"
      ]
     },
     "metadata": {},
     "output_type": "display_data"
    },
    {
     "data": {
      "text/html": [
       "<a href=\"https://www.cnbc.com/2023/08/24/trump-changes-lawyers-in-georgia-election-case-ahead-of-arrest.html\" target=\"_blank\">https://www.cnbc.com/2023/08/24/trump-changes-lawyers-in-georgia-election-case-ahead-of-arrest.html</a>"
      ],
      "text/plain": [
       "<IPython.core.display.HTML object>"
      ]
     },
     "metadata": {},
     "output_type": "display_data"
    },
    {
     "data": {
      "text/html": [
       "<a href=\"https://www.cnbc.com/politics/\" target=\"_blank\">https://www.cnbc.com/politics/</a>"
      ],
      "text/plain": [
       "<IPython.core.display.HTML object>"
      ]
     },
     "metadata": {},
     "output_type": "display_data"
    },
    {
     "data": {
      "text/html": [
       "<a href=\"https://www.cnbc.com/2023/08/24/trump-changes-lawyers-in-georgia-election-case-ahead-of-arrest.html\" target=\"_blank\">https://www.cnbc.com/2023/08/24/trump-changes-lawyers-in-georgia-election-case-ahead-of-arrest.html</a>"
      ],
      "text/plain": [
       "<IPython.core.display.HTML object>"
      ]
     },
     "metadata": {},
     "output_type": "display_data"
    },
    {
     "data": {
      "text/html": [
       "<a href=\"https://www.cnbc.com/2023/08/24/live-updates-latest-news-on-russia-and-the-war-in-ukraine.html\" target=\"_blank\">https://www.cnbc.com/2023/08/24/live-updates-latest-news-on-russia-and-the-war-in-ukraine.html</a>"
      ],
      "text/plain": [
       "<IPython.core.display.HTML object>"
      ]
     },
     "metadata": {},
     "output_type": "display_data"
    },
    {
     "data": {
      "text/html": [
       "<a href=\"https://www.cnbc.com/politics/\" target=\"_blank\">https://www.cnbc.com/politics/</a>"
      ],
      "text/plain": [
       "<IPython.core.display.HTML object>"
      ]
     },
     "metadata": {},
     "output_type": "display_data"
    },
    {
     "data": {
      "text/html": [
       "<a href=\"https://www.cnbc.com/2023/08/24/live-updates-latest-news-on-russia-and-the-war-in-ukraine.html\" target=\"_blank\">https://www.cnbc.com/2023/08/24/live-updates-latest-news-on-russia-and-the-war-in-ukraine.html</a>"
      ],
      "text/plain": [
       "<IPython.core.display.HTML object>"
      ]
     },
     "metadata": {},
     "output_type": "display_data"
    },
    {
     "data": {
      "text/html": [
       "<a href=\"https://www.cnbc.com/2023/08/23/republican-primary-debate-live-updates-desantis-ramaswamy-christie-trump.html\" target=\"_blank\">https://www.cnbc.com/2023/08/23/republican-primary-debate-live-updates-desantis-ramaswamy-christie-trump.html</a>"
      ],
      "text/plain": [
       "<IPython.core.display.HTML object>"
      ]
     },
     "metadata": {},
     "output_type": "display_data"
    },
    {
     "data": {
      "text/html": [
       "<a href=\"https://www.cnbc.com/politics/\" target=\"_blank\">https://www.cnbc.com/politics/</a>"
      ],
      "text/plain": [
       "<IPython.core.display.HTML object>"
      ]
     },
     "metadata": {},
     "output_type": "display_data"
    },
    {
     "data": {
      "text/html": [
       "<a href=\"https://www.cnbc.com/2023/08/23/republican-primary-debate-live-updates-desantis-ramaswamy-christie-trump.html\" target=\"_blank\">https://www.cnbc.com/2023/08/23/republican-primary-debate-live-updates-desantis-ramaswamy-christie-trump.html</a>"
      ],
      "text/plain": [
       "<IPython.core.display.HTML object>"
      ]
     },
     "metadata": {},
     "output_type": "display_data"
    },
    {
     "data": {
      "text/html": [
       "<a href=\"https://www.cnbc.com/politics/\" target=\"_blank\">https://www.cnbc.com/politics/</a>"
      ],
      "text/plain": [
       "<IPython.core.display.HTML object>"
      ]
     },
     "metadata": {},
     "output_type": "display_data"
    },
    {
     "data": {
      "text/html": [
       "<a href=\"https://www.cnbc.com/2023/08/23/ukraine-war-divides-republicans-heading-into-first-gop-debate-.html\" target=\"_blank\">https://www.cnbc.com/2023/08/23/ukraine-war-divides-republicans-heading-into-first-gop-debate-.html</a>"
      ],
      "text/plain": [
       "<IPython.core.display.HTML object>"
      ]
     },
     "metadata": {},
     "output_type": "display_data"
    },
    {
     "data": {
      "text/html": [
       "<a href=\"https://www.cnbc.com/politics/\" target=\"_blank\">https://www.cnbc.com/politics/</a>"
      ],
      "text/plain": [
       "<IPython.core.display.HTML object>"
      ]
     },
     "metadata": {},
     "output_type": "display_data"
    },
    {
     "data": {
      "text/html": [
       "<a href=\"https://www.cnbc.com/2023/08/23/republican-debate-gop-donors-plan-private-jet-travel-top-hotels.html\" target=\"_blank\">https://www.cnbc.com/2023/08/23/republican-debate-gop-donors-plan-private-jet-travel-top-hotels.html</a>"
      ],
      "text/plain": [
       "<IPython.core.display.HTML object>"
      ]
     },
     "metadata": {},
     "output_type": "display_data"
    },
    {
     "data": {
      "text/html": [
       "<a href=\"https://www.cnbc.com/politics/\" target=\"_blank\">https://www.cnbc.com/politics/</a>"
      ],
      "text/plain": [
       "<IPython.core.display.HTML object>"
      ]
     },
     "metadata": {},
     "output_type": "display_data"
    },
    {
     "data": {
      "text/html": [
       "<a href=\"https://www.cnbc.com/2023/08/23/look-mugshots-in-trump-georgia-election-case.html\" target=\"_blank\">https://www.cnbc.com/2023/08/23/look-mugshots-in-trump-georgia-election-case.html</a>"
      ],
      "text/plain": [
       "<IPython.core.display.HTML object>"
      ]
     },
     "metadata": {},
     "output_type": "display_data"
    },
    {
     "data": {
      "text/html": [
       "<a href=\"https://www.cnbc.com/2023/08/23/georgia-da-ex-trump-aide-meadows-bid-to-avoid-arrest-is-baseless.html\" target=\"_blank\">https://www.cnbc.com/2023/08/23/georgia-da-ex-trump-aide-meadows-bid-to-avoid-arrest-is-baseless.html</a>"
      ],
      "text/plain": [
       "<IPython.core.display.HTML object>"
      ]
     },
     "metadata": {},
     "output_type": "display_data"
    },
    {
     "data": {
      "text/html": [
       "<a href=\"https://www.cnbc.com/politics/\" target=\"_blank\">https://www.cnbc.com/politics/</a>"
      ],
      "text/plain": [
       "<IPython.core.display.HTML object>"
      ]
     },
     "metadata": {},
     "output_type": "display_data"
    },
    {
     "data": {
      "text/html": [
       "<a href=\"https://www.cnbc.com/2023/08/23/georgia-da-ex-trump-aide-meadows-bid-to-avoid-arrest-is-baseless.html\" target=\"_blank\">https://www.cnbc.com/2023/08/23/georgia-da-ex-trump-aide-meadows-bid-to-avoid-arrest-is-baseless.html</a>"
      ],
      "text/plain": [
       "<IPython.core.display.HTML object>"
      ]
     },
     "metadata": {},
     "output_type": "display_data"
    },
    {
     "data": {
      "text/html": [
       "<a href=\"https://www.cnbc.com/2023/08/23/giulianis-son-turns-to-trump-for-help-with-fathers-legal-bills.html\" target=\"_blank\">https://www.cnbc.com/2023/08/23/giulianis-son-turns-to-trump-for-help-with-fathers-legal-bills.html</a>"
      ],
      "text/plain": [
       "<IPython.core.display.HTML object>"
      ]
     },
     "metadata": {},
     "output_type": "display_data"
    },
    {
     "data": {
      "text/html": [
       "<a href=\"https://www.cnbc.com/politics/\" target=\"_blank\">https://www.cnbc.com/politics/</a>"
      ],
      "text/plain": [
       "<IPython.core.display.HTML object>"
      ]
     },
     "metadata": {},
     "output_type": "display_data"
    },
    {
     "data": {
      "text/html": [
       "<a href=\"https://www.cnbc.com/2023/08/23/giulianis-son-turns-to-trump-for-help-with-fathers-legal-bills.html\" target=\"_blank\">https://www.cnbc.com/2023/08/23/giulianis-son-turns-to-trump-for-help-with-fathers-legal-bills.html</a>"
      ],
      "text/plain": [
       "<IPython.core.display.HTML object>"
      ]
     },
     "metadata": {},
     "output_type": "display_data"
    },
    {
     "data": {
      "text/html": [
       "<a href=\"https://www.cnbc.com/2023/08/23/covid-hundreds-charged-with-fraud-totaling-more-than-830-million.html\" target=\"_blank\">https://www.cnbc.com/2023/08/23/covid-hundreds-charged-with-fraud-totaling-more-than-830-million.html</a>"
      ],
      "text/plain": [
       "<IPython.core.display.HTML object>"
      ]
     },
     "metadata": {},
     "output_type": "display_data"
    },
    {
     "data": {
      "text/html": [
       "<a href=\"https://www.cnbc.com/politics/\" target=\"_blank\">https://www.cnbc.com/politics/</a>"
      ],
      "text/plain": [
       "<IPython.core.display.HTML object>"
      ]
     },
     "metadata": {},
     "output_type": "display_data"
    },
    {
     "data": {
      "text/html": [
       "<a href=\"https://www.cnbc.com/2023/08/23/covid-hundreds-charged-with-fraud-totaling-more-than-830-million.html\" target=\"_blank\">https://www.cnbc.com/2023/08/23/covid-hundreds-charged-with-fraud-totaling-more-than-830-million.html</a>"
      ],
      "text/plain": [
       "<IPython.core.display.HTML object>"
      ]
     },
     "metadata": {},
     "output_type": "display_data"
    },
    {
     "data": {
      "text/html": [
       "<a href=\"https://www.cnbc.com/politics/\" target=\"_blank\">https://www.cnbc.com/politics/</a>"
      ],
      "text/plain": [
       "<IPython.core.display.HTML object>"
      ]
     },
     "metadata": {},
     "output_type": "display_data"
    },
    {
     "data": {
      "text/html": [
       "<a href=\"https://www.cnbc.com/2023/08/23/more-defendants-in-trump-georgia-election-case-surrender.html\" target=\"_blank\">https://www.cnbc.com/2023/08/23/more-defendants-in-trump-georgia-election-case-surrender.html</a>"
      ],
      "text/plain": [
       "<IPython.core.display.HTML object>"
      ]
     },
     "metadata": {},
     "output_type": "display_data"
    },
    {
     "data": {
      "text/html": [
       "<a href=\"https://www.cnbc.com/politics/\" target=\"_blank\">https://www.cnbc.com/politics/</a>"
      ],
      "text/plain": [
       "<IPython.core.display.HTML object>"
      ]
     },
     "metadata": {},
     "output_type": "display_data"
    },
    {
     "data": {
      "text/html": [
       "<a href=\"https://www.cnbc.com/2023/08/23/trump-lawyer-rudy-giuliani-to-surrender-in-georgia-election-case.html\" target=\"_blank\">https://www.cnbc.com/2023/08/23/trump-lawyer-rudy-giuliani-to-surrender-in-georgia-election-case.html</a>"
      ],
      "text/plain": [
       "<IPython.core.display.HTML object>"
      ]
     },
     "metadata": {},
     "output_type": "display_data"
    },
    {
     "data": {
      "text/html": [
       "<a href=\"https://www.cnbc.com/politics/\" target=\"_blank\">https://www.cnbc.com/politics/</a>"
      ],
      "text/plain": [
       "<IPython.core.display.HTML object>"
      ]
     },
     "metadata": {},
     "output_type": "display_data"
    },
    {
     "data": {
      "text/html": [
       "<a href=\"https://www.cnbc.com/2023/08/23/hawaii-wildfires-more-than-1000-people-reported-missing-in-maui.html\" target=\"_blank\">https://www.cnbc.com/2023/08/23/hawaii-wildfires-more-than-1000-people-reported-missing-in-maui.html</a>"
      ],
      "text/plain": [
       "<IPython.core.display.HTML object>"
      ]
     },
     "metadata": {},
     "output_type": "display_data"
    },
    {
     "data": {
      "text/html": [
       "<a href=\"https://www.cnbc.com/2023/08/23/burgum-injured-playing-basketball-may-have-to-skip-republican-debate.html\" target=\"_blank\">https://www.cnbc.com/2023/08/23/burgum-injured-playing-basketball-may-have-to-skip-republican-debate.html</a>"
      ],
      "text/plain": [
       "<IPython.core.display.HTML object>"
      ]
     },
     "metadata": {},
     "output_type": "display_data"
    },
    {
     "data": {
      "text/html": [
       "<a href=\"https://www.cnbc.com/politics/\" target=\"_blank\">https://www.cnbc.com/politics/</a>"
      ],
      "text/plain": [
       "<IPython.core.display.HTML object>"
      ]
     },
     "metadata": {},
     "output_type": "display_data"
    },
    {
     "data": {
      "text/html": [
       "<a href=\"https://www.cnbc.com/2023/08/23/burgum-injured-playing-basketball-may-have-to-skip-republican-debate.html\" target=\"_blank\">https://www.cnbc.com/2023/08/23/burgum-injured-playing-basketball-may-have-to-skip-republican-debate.html</a>"
      ],
      "text/plain": [
       "<IPython.core.display.HTML object>"
      ]
     },
     "metadata": {},
     "output_type": "display_data"
    },
    {
     "data": {
      "text/html": [
       "<a href=\"https://www.cnbc.com/2023/08/23/giorgia-meloni-italys-far-right-leader-is-shocking-markets.html\" target=\"_blank\">https://www.cnbc.com/2023/08/23/giorgia-meloni-italys-far-right-leader-is-shocking-markets.html</a>"
      ],
      "text/plain": [
       "<IPython.core.display.HTML object>"
      ]
     },
     "metadata": {},
     "output_type": "display_data"
    },
    {
     "data": {
      "text/html": [
       "<a href=\"https://www.cnbc.com/politics/\" target=\"_blank\">https://www.cnbc.com/politics/</a>"
      ],
      "text/plain": [
       "<IPython.core.display.HTML object>"
      ]
     },
     "metadata": {},
     "output_type": "display_data"
    },
    {
     "data": {
      "text/html": [
       "<a href=\"https://www.cnbc.com/2023/08/23/giorgia-meloni-italys-far-right-leader-is-shocking-markets.html\" target=\"_blank\">https://www.cnbc.com/2023/08/23/giorgia-meloni-italys-far-right-leader-is-shocking-markets.html</a>"
      ],
      "text/plain": [
       "<IPython.core.display.HTML object>"
      ]
     },
     "metadata": {},
     "output_type": "display_data"
    },
    {
     "data": {
      "text/html": [
       "<a href=\"https://www.cnbc.com/2023/08/23/live-updates-latest-news-on-russia-and-the-war-in-ukraine.html\" target=\"_blank\">https://www.cnbc.com/2023/08/23/live-updates-latest-news-on-russia-and-the-war-in-ukraine.html</a>"
      ],
      "text/plain": [
       "<IPython.core.display.HTML object>"
      ]
     },
     "metadata": {},
     "output_type": "display_data"
    },
    {
     "data": {
      "text/html": [
       "<a href=\"https://www.cnbc.com/politics/\" target=\"_blank\">https://www.cnbc.com/politics/</a>"
      ],
      "text/plain": [
       "<IPython.core.display.HTML object>"
      ]
     },
     "metadata": {},
     "output_type": "display_data"
    },
    {
     "data": {
      "text/html": [
       "<a href=\"https://www.cnbc.com/2023/08/23/live-updates-latest-news-on-russia-and-the-war-in-ukraine.html\" target=\"_blank\">https://www.cnbc.com/2023/08/23/live-updates-latest-news-on-russia-and-the-war-in-ukraine.html</a>"
      ],
      "text/plain": [
       "<IPython.core.display.HTML object>"
      ]
     },
     "metadata": {},
     "output_type": "display_data"
    },
    {
     "data": {
      "text/html": [
       "<a href=\"https://www.cnbc.com/politics/\" target=\"_blank\">https://www.cnbc.com/politics/</a>"
      ],
      "text/plain": [
       "<IPython.core.display.HTML object>"
      ]
     },
     "metadata": {},
     "output_type": "display_data"
    },
    {
     "data": {
      "text/html": [
       "<a href=\"https://www.cnbc.com/2023/08/22/moodys-hawaii-wildfires-caused-up-to-6-billion-in-economic-losses.html\" target=\"_blank\">https://www.cnbc.com/2023/08/22/moodys-hawaii-wildfires-caused-up-to-6-billion-in-economic-losses.html</a>"
      ],
      "text/plain": [
       "<IPython.core.display.HTML object>"
      ]
     },
     "metadata": {},
     "output_type": "display_data"
    },
    {
     "data": {
      "text/html": [
       "<a href=\"https://www.cnbc.com/politics/\" target=\"_blank\">https://www.cnbc.com/politics/</a>"
      ],
      "text/plain": [
       "<IPython.core.display.HTML object>"
      ]
     },
     "metadata": {},
     "output_type": "display_data"
    },
    {
     "data": {
      "text/html": [
       "<a href=\"https://www.cnbc.com/2023/08/22/trump-co-defendants-in-georgia-face-massive-legal-bills.html\" target=\"_blank\">https://www.cnbc.com/2023/08/22/trump-co-defendants-in-georgia-face-massive-legal-bills.html</a>"
      ],
      "text/plain": [
       "<IPython.core.display.HTML object>"
      ]
     },
     "metadata": {},
     "output_type": "display_data"
    },
    {
     "data": {
      "text/html": [
       "<a href=\"https://www.cnbc.com/politics/\" target=\"_blank\">https://www.cnbc.com/politics/</a>"
      ],
      "text/plain": [
       "<IPython.core.display.HTML object>"
      ]
     },
     "metadata": {},
     "output_type": "display_data"
    },
    {
     "data": {
      "text/html": [
       "<a href=\"https://www.cnbc.com/2023/08/22/trump-ex-aide-meadows-asks-judge-to-protect-him-from-arrest-in-ga-case.html\" target=\"_blank\">https://www.cnbc.com/2023/08/22/trump-ex-aide-meadows-asks-judge-to-protect-him-from-arrest-in-ga-case.html</a>"
      ],
      "text/plain": [
       "<IPython.core.display.HTML object>"
      ]
     },
     "metadata": {},
     "output_type": "display_data"
    },
    {
     "data": {
      "text/html": [
       "<a href=\"https://www.cnbc.com/2023/08/22/lawmakers-eye-sale-of-recalled-baby-products-on-facebook-in-safety-push.html\" target=\"_blank\">https://www.cnbc.com/2023/08/22/lawmakers-eye-sale-of-recalled-baby-products-on-facebook-in-safety-push.html</a>"
      ],
      "text/plain": [
       "<IPython.core.display.HTML object>"
      ]
     },
     "metadata": {},
     "output_type": "display_data"
    },
    {
     "data": {
      "text/html": [
       "<a href=\"https://www.cnbc.com/politics/\" target=\"_blank\">https://www.cnbc.com/politics/</a>"
      ],
      "text/plain": [
       "<IPython.core.display.HTML object>"
      ]
     },
     "metadata": {},
     "output_type": "display_data"
    },
    {
     "data": {
      "text/html": [
       "<a href=\"https://www.cnbc.com/2023/08/22/lawmakers-eye-sale-of-recalled-baby-products-on-facebook-in-safety-push.html\" target=\"_blank\">https://www.cnbc.com/2023/08/22/lawmakers-eye-sale-of-recalled-baby-products-on-facebook-in-safety-push.html</a>"
      ],
      "text/plain": [
       "<IPython.core.display.HTML object>"
      ]
     },
     "metadata": {},
     "output_type": "display_data"
    },
    {
     "data": {
      "text/html": [
       "<a href=\"https://www.cnbc.com/2023/08/22/trump-ally-john-eastman-surrenders-at-georgia-jail-in-election-case.html\" target=\"_blank\">https://www.cnbc.com/2023/08/22/trump-ally-john-eastman-surrenders-at-georgia-jail-in-election-case.html</a>"
      ],
      "text/plain": [
       "<IPython.core.display.HTML object>"
      ]
     },
     "metadata": {},
     "output_type": "display_data"
    },
    {
     "data": {
      "text/html": [
       "<a href=\"https://www.cnbc.com/politics/\" target=\"_blank\">https://www.cnbc.com/politics/</a>"
      ],
      "text/plain": [
       "<IPython.core.display.HTML object>"
      ]
     },
     "metadata": {},
     "output_type": "display_data"
    },
    {
     "data": {
      "text/html": [
       "<a href=\"https://www.cnbc.com/2023/08/22/trump-ally-john-eastman-surrenders-at-georgia-jail-in-election-case.html\" target=\"_blank\">https://www.cnbc.com/2023/08/22/trump-ally-john-eastman-surrenders-at-georgia-jail-in-election-case.html</a>"
      ],
      "text/plain": [
       "<IPython.core.display.HTML object>"
      ]
     },
     "metadata": {},
     "output_type": "display_data"
    },
    {
     "data": {
      "text/html": [
       "<a href=\"https://www.cnbc.com/2023/08/22/trump-georgia-election-case-first-defendant-surrenders-.html\" target=\"_blank\">https://www.cnbc.com/2023/08/22/trump-georgia-election-case-first-defendant-surrenders-.html</a>"
      ],
      "text/plain": [
       "<IPython.core.display.HTML object>"
      ]
     },
     "metadata": {},
     "output_type": "display_data"
    },
    {
     "data": {
      "text/html": [
       "<a href=\"https://www.cnbc.com/politics/\" target=\"_blank\">https://www.cnbc.com/politics/</a>"
      ],
      "text/plain": [
       "<IPython.core.display.HTML object>"
      ]
     },
     "metadata": {},
     "output_type": "display_data"
    },
    {
     "data": {
      "text/html": [
       "<a href=\"https://www.cnbc.com/2023/08/22/trump-georgia-election-case-first-defendant-surrenders-.html\" target=\"_blank\">https://www.cnbc.com/2023/08/22/trump-georgia-election-case-first-defendant-surrenders-.html</a>"
      ],
      "text/plain": [
       "<IPython.core.display.HTML object>"
      ]
     },
     "metadata": {},
     "output_type": "display_data"
    },
    {
     "data": {
      "text/html": [
       "<a href=\"https://www.cnbc.com/politics/\" target=\"_blank\">https://www.cnbc.com/politics/</a>"
      ],
      "text/plain": [
       "<IPython.core.display.HTML object>"
      ]
     },
     "metadata": {},
     "output_type": "display_data"
    },
    {
     "data": {
      "text/html": [
       "<a href=\"https://www.cnbc.com/2023/08/22/russia-ukraine-live-updates.html\" target=\"_blank\">https://www.cnbc.com/2023/08/22/russia-ukraine-live-updates.html</a>"
      ],
      "text/plain": [
       "<IPython.core.display.HTML object>"
      ]
     },
     "metadata": {},
     "output_type": "display_data"
    },
    {
     "data": {
      "text/html": [
       "<a href=\"https://www.cnbc.com/politics/\" target=\"_blank\">https://www.cnbc.com/politics/</a>"
      ],
      "text/plain": [
       "<IPython.core.display.HTML object>"
      ]
     },
     "metadata": {},
     "output_type": "display_data"
    },
    {
     "data": {
      "text/html": [
       "<a href=\"https://www.cnbc.com/2023/08/21/trump-bid-for-2026-election-case-trial-is-faulty-special-counsel.html\" target=\"_blank\">https://www.cnbc.com/2023/08/21/trump-bid-for-2026-election-case-trial-is-faulty-special-counsel.html</a>"
      ],
      "text/plain": [
       "<IPython.core.display.HTML object>"
      ]
     },
     "metadata": {},
     "output_type": "display_data"
    },
    {
     "data": {
      "text/html": [
       "<a href=\"https://www.cnbc.com/politics/\" target=\"_blank\">https://www.cnbc.com/politics/</a>"
      ],
      "text/plain": [
       "<IPython.core.display.HTML object>"
      ]
     },
     "metadata": {},
     "output_type": "display_data"
    },
    {
     "data": {
      "text/html": [
       "<a href=\"https://www.cnbc.com/2023/08/21/trumps-bond-in-georgia-election-case-set-at-200000.html\" target=\"_blank\">https://www.cnbc.com/2023/08/21/trumps-bond-in-georgia-election-case-set-at-200000.html</a>"
      ],
      "text/plain": [
       "<IPython.core.display.HTML object>"
      ]
     },
     "metadata": {},
     "output_type": "display_data"
    },
    {
     "data": {
      "text/html": [
       "<a href=\"https://www.cnbc.com/politics/?page=2\" target=\"_blank\">https://www.cnbc.com/politics/?page=2</a>"
      ],
      "text/plain": [
       "<IPython.core.display.HTML object>"
      ]
     },
     "metadata": {},
     "output_type": "display_data"
    },
    {
     "data": {
      "text/html": [
       "<a href=\"//www.cnbc.com\" target=\"_blank\">//www.cnbc.com</a>"
      ],
      "text/plain": [
       "<IPython.core.display.HTML object>"
      ]
     },
     "metadata": {},
     "output_type": "display_data"
    },
    {
     "data": {
      "text/html": [
       "<a href=\"//www.cnbc.com/application/pro/?__source=pro|globalfooter/\" target=\"_blank\">//www.cnbc.com/application/pro/?__source=pro|globalfooter/</a>"
      ],
      "text/plain": [
       "<IPython.core.display.HTML object>"
      ]
     },
     "metadata": {},
     "output_type": "display_data"
    },
    {
     "data": {
      "text/html": [
       "<a href=\"//www.cnbc.com/cnbc-reprints/\" target=\"_blank\">//www.cnbc.com/cnbc-reprints/</a>"
      ],
      "text/plain": [
       "<IPython.core.display.HTML object>"
      ]
     },
     "metadata": {},
     "output_type": "display_data"
    },
    {
     "data": {
      "text/html": [
       "<a href=\"https://www.cnbccouncils.com/\" target=\"_blank\">https://www.cnbccouncils.com/</a>"
      ],
      "text/plain": [
       "<IPython.core.display.HTML object>"
      ]
     },
     "metadata": {},
     "output_type": "display_data"
    },
    {
     "data": {
      "text/html": [
       "<a href=\"https://corporate.comcast.com/values/integrity\" target=\"_blank\">https://corporate.comcast.com/values/integrity</a>"
      ],
      "text/plain": [
       "<IPython.core.display.HTML object>"
      ]
     },
     "metadata": {},
     "output_type": "display_data"
    },
    {
     "data": {
      "text/html": [
       "<a href=\"https://www.peacocktv.com/?cid=20200101evergreensymdisp009&utm_source=cnbc&utm_medium=symphony_editorial_brandawareness_footerlink&utm_campaign=20200101evergreen&utm_term=na&utm_content=na_na/\" target=\"_blank\">https://www.peacocktv.com/?cid=20200101evergreensymdisp009&utm_source=cnbc&utm_medium=symphony_editorial_brandawareness_footerlink&utm_campaign=20200101evergreen&utm_term=na&utm_content=na_na/</a>"
      ],
      "text/plain": [
       "<IPython.core.display.HTML object>"
      ]
     },
     "metadata": {},
     "output_type": "display_data"
    },
    {
     "data": {
      "text/html": [
       "<a href=\"https://cnbcrsh.qualtrics.com/jfe/form/SV_dgRx5X1nYC0YjNI?Origin=cnbc\" target=\"_blank\">https://cnbcrsh.qualtrics.com/jfe/form/SV_dgRx5X1nYC0YjNI?Origin=cnbc</a>"
      ],
      "text/plain": [
       "<IPython.core.display.HTML object>"
      ]
     },
     "metadata": {},
     "output_type": "display_data"
    },
    {
     "data": {
      "text/html": [
       "<a href=\"//www.cnbc.com/digital-products/\" target=\"_blank\">//www.cnbc.com/digital-products/</a>"
      ],
      "text/plain": [
       "<IPython.core.display.HTML object>"
      ]
     },
     "metadata": {},
     "output_type": "display_data"
    },
    {
     "data": {
      "text/html": [
       "<a href=\"//www.cnbc.com/cnbc-news-releases/\" target=\"_blank\">//www.cnbc.com/cnbc-news-releases/</a>"
      ],
      "text/plain": [
       "<IPython.core.display.HTML object>"
      ]
     },
     "metadata": {},
     "output_type": "display_data"
    },
    {
     "data": {
      "text/html": [
       "<a href=\"//www.cnbc.com/closed-captioning/\" target=\"_blank\">//www.cnbc.com/closed-captioning/</a>"
      ],
      "text/plain": [
       "<IPython.core.display.HTML object>"
      ]
     },
     "metadata": {},
     "output_type": "display_data"
    },
    {
     "data": {
      "text/html": [
       "<a href=\"//www.cnbc.com/corrections/\" target=\"_blank\">//www.cnbc.com/corrections/</a>"
      ],
      "text/plain": [
       "<IPython.core.display.HTML object>"
      ]
     },
     "metadata": {},
     "output_type": "display_data"
    },
    {
     "data": {
      "text/html": [
       "<a href=\"//www.cnbc.com/about-cnbc-international/\" target=\"_blank\">//www.cnbc.com/about-cnbc-international/</a>"
      ],
      "text/plain": [
       "<IPython.core.display.HTML object>"
      ]
     },
     "metadata": {},
     "output_type": "display_data"
    },
    {
     "data": {
      "text/html": [
       "<a href=\"//www.cnbc.com/cnbc-internship-program/\" target=\"_blank\">//www.cnbc.com/cnbc-internship-program/</a>"
      ],
      "text/plain": [
       "<IPython.core.display.HTML object>"
      ]
     },
     "metadata": {},
     "output_type": "display_data"
    },
    {
     "data": {
      "text/html": [
       "<a href=\"//www.cnbc.com/site-map/\" target=\"_blank\">//www.cnbc.com/site-map/</a>"
      ],
      "text/plain": [
       "<IPython.core.display.HTML object>"
      ]
     },
     "metadata": {},
     "output_type": "display_data"
    },
    {
     "data": {
      "text/html": [
       "<a href=\"https://www.nbcuniversal.com/privacy/cookies#cookie_management\" target=\"_blank\">https://www.nbcuniversal.com/privacy/cookies#cookie_management</a>"
      ],
      "text/plain": [
       "<IPython.core.display.HTML object>"
      ]
     },
     "metadata": {},
     "output_type": "display_data"
    },
    {
     "data": {
      "text/html": [
       "<a href=\"//www.cnbc.com/cnbc-careers-and-employment/\" target=\"_blank\">//www.cnbc.com/cnbc-careers-and-employment/</a>"
      ],
      "text/plain": [
       "<IPython.core.display.HTML object>"
      ]
     },
     "metadata": {},
     "output_type": "display_data"
    },
    {
     "data": {
      "text/html": [
       "<a href=\"https://help.cnbc.com/\" target=\"_blank\">https://help.cnbc.com/</a>"
      ],
      "text/plain": [
       "<IPython.core.display.HTML object>"
      ]
     },
     "metadata": {},
     "output_type": "display_data"
    },
    {
     "data": {
      "text/html": [
       "<a href=\"https://help.cnbc.com/contact/\" target=\"_blank\">https://help.cnbc.com/contact/</a>"
      ],
      "text/plain": [
       "<IPython.core.display.HTML object>"
      ]
     },
     "metadata": {},
     "output_type": "display_data"
    },
    {
     "data": {
      "text/html": [
       "<a href=\"https://www.facebook.com/cnbcinternational/c/\" target=\"_blank\">https://www.facebook.com/cnbcinternational/c/</a>"
      ],
      "text/plain": [
       "<IPython.core.display.HTML object>"
      ]
     },
     "metadata": {},
     "output_type": "display_data"
    },
    {
     "data": {
      "text/html": [
       "<a href=\"https://www.twitter.com/cnbci?lang=en/\" target=\"_blank\">https://www.twitter.com/cnbci?lang=en/</a>"
      ],
      "text/plain": [
       "<IPython.core.display.HTML object>"
      ]
     },
     "metadata": {},
     "output_type": "display_data"
    },
    {
     "data": {
      "text/html": [
       "<a href=\"https://www.linkedin.com/showcase/cnbc-international/\" target=\"_blank\">https://www.linkedin.com/showcase/cnbc-international/</a>"
      ],
      "text/plain": [
       "<IPython.core.display.HTML object>"
      ]
     },
     "metadata": {},
     "output_type": "display_data"
    },
    {
     "data": {
      "text/html": [
       "<a href=\"https://www.instagram.com/cnbcinternational/?hl=en/\" target=\"_blank\">https://www.instagram.com/cnbcinternational/?hl=en/</a>"
      ],
      "text/plain": [
       "<IPython.core.display.HTML object>"
      ]
     },
     "metadata": {},
     "output_type": "display_data"
    },
    {
     "data": {
      "text/html": [
       "<a href=\"https://www.youtube.com/user/CNBCInternational/\" target=\"_blank\">https://www.youtube.com/user/CNBCInternational/</a>"
      ],
      "text/plain": [
       "<IPython.core.display.HTML object>"
      ]
     },
     "metadata": {},
     "output_type": "display_data"
    },
    {
     "data": {
      "text/html": [
       "<a href=\"https://apple.news/T3OtoXcxtRkuHRkM7SpFP_Q\" target=\"_blank\">https://apple.news/T3OtoXcxtRkuHRkM7SpFP_Q</a>"
      ],
      "text/plain": [
       "<IPython.core.display.HTML object>"
      ]
     },
     "metadata": {},
     "output_type": "display_data"
    },
    {
     "data": {
      "text/html": [
       "<a href=\"//www.cnbc.com/rss-feeds/\" target=\"_blank\">//www.cnbc.com/rss-feeds/</a>"
      ],
      "text/plain": [
       "<IPython.core.display.HTML object>"
      ]
     },
     "metadata": {},
     "output_type": "display_data"
    },
    {
     "data": {
      "text/html": [
       "<a href=\"//www.cnbc.com/news-tips/\" target=\"_blank\">//www.cnbc.com/news-tips/</a>"
      ],
      "text/plain": [
       "<IPython.core.display.HTML object>"
      ]
     },
     "metadata": {},
     "output_type": "display_data"
    },
    {
     "data": {
      "text/html": [
       "<a href=\"https://together.nbcuni.com/advertise/?utm_source=cnbc&utm_medium=referral&utm_campaign=property_ad_pages\" target=\"_blank\">https://together.nbcuni.com/advertise/?utm_source=cnbc&utm_medium=referral&utm_campaign=property_ad_pages</a>"
      ],
      "text/plain": [
       "<IPython.core.display.HTML object>"
      ]
     },
     "metadata": {},
     "output_type": "display_data"
    },
    {
     "data": {
      "text/html": [
       "<a href=\"//www.cnbc.com/sign-up-for-cnbc-newsletters/\" target=\"_blank\">//www.cnbc.com/sign-up-for-cnbc-newsletters/</a>"
      ],
      "text/plain": [
       "<IPython.core.display.HTML object>"
      ]
     },
     "metadata": {},
     "output_type": "display_data"
    },
    {
     "data": {
      "text/html": [
       "<a href=\"https://www.nbcuniversal.com/privacy?intake=CNBC\" target=\"_blank\">https://www.nbcuniversal.com/privacy?intake=CNBC</a>"
      ],
      "text/plain": [
       "<IPython.core.display.HTML object>"
      ]
     },
     "metadata": {},
     "output_type": "display_data"
    },
    {
     "data": {
      "text/html": [
       "<a href=\"https://www.nbcuniversal.com/privacy/notrtoo?intake=CNBC\" target=\"_blank\">https://www.nbcuniversal.com/privacy/notrtoo?intake=CNBC</a>"
      ],
      "text/plain": [
       "<IPython.core.display.HTML object>"
      ]
     },
     "metadata": {},
     "output_type": "display_data"
    },
    {
     "data": {
      "text/html": [
       "<a href=\"https://www.nbcuniversal.com/privacy/california-consumer-privacy-act?intake=CNBC\" target=\"_blank\">https://www.nbcuniversal.com/privacy/california-consumer-privacy-act?intake=CNBC</a>"
      ],
      "text/plain": [
       "<IPython.core.display.HTML object>"
      ]
     },
     "metadata": {},
     "output_type": "display_data"
    },
    {
     "data": {
      "text/html": [
       "<a href=\"https://www.nbcuniversal.com/terms\" target=\"_blank\">https://www.nbcuniversal.com/terms</a>"
      ],
      "text/plain": [
       "<IPython.core.display.HTML object>"
      ]
     },
     "metadata": {},
     "output_type": "display_data"
    },
    {
     "data": {
      "text/html": [
       "<a href=\"https://www.nbcuniversal.com\" target=\"_blank\">https://www.nbcuniversal.com</a>"
      ],
      "text/plain": [
       "<IPython.core.display.HTML object>"
      ]
     },
     "metadata": {},
     "output_type": "display_data"
    },
    {
     "data": {
      "text/html": [
       "<a href=\"/market-data-terms-of-service/\" target=\"_blank\">/market-data-terms-of-service/</a>"
      ],
      "text/plain": [
       "<IPython.core.display.HTML object>"
      ]
     },
     "metadata": {},
     "output_type": "display_data"
    },
    {
     "data": {
      "text/html": [
       "<a href=\"//www.cnbc.com/market-data-terms-of-service/\" target=\"_blank\">//www.cnbc.com/market-data-terms-of-service/</a>"
      ],
      "text/plain": [
       "<IPython.core.display.HTML object>"
      ]
     },
     "metadata": {},
     "output_type": "display_data"
    },
    {
     "data": {
      "text/html": [
       "<a href=\"https://www.politico.com/\" target=\"_blank\">https://www.politico.com/</a>"
      ],
      "text/plain": [
       "<IPython.core.display.HTML object>"
      ]
     },
     "metadata": {},
     "output_type": "display_data"
    },
    {
     "data": {
      "text/html": [
       "<a href=\"https://www.politico.com/minutes/congress/\" target=\"_blank\">https://www.politico.com/minutes/congress/</a>"
      ],
      "text/plain": [
       "<IPython.core.display.HTML object>"
      ]
     },
     "metadata": {},
     "output_type": "display_data"
    },
    {
     "data": {
      "text/html": [
       "<a href=\"https://www.politicopro.com/\" target=\"_blank\">https://www.politicopro.com/</a>"
      ],
      "text/plain": [
       "<IPython.core.display.HTML object>"
      ]
     },
     "metadata": {},
     "output_type": "display_data"
    },
    {
     "data": {
      "text/html": [
       "<a href=\"https://www.eenews.net/\" target=\"_blank\">https://www.eenews.net/</a>"
      ],
      "text/plain": [
       "<IPython.core.display.HTML object>"
      ]
     },
     "metadata": {},
     "output_type": "display_data"
    },
    {
     "data": {
      "text/html": [
       "<a href=\"#\" target=\"_blank\">#</a>"
      ],
      "text/plain": [
       "<IPython.core.display.HTML object>"
      ]
     },
     "metadata": {},
     "output_type": "display_data"
    },
    {
     "data": {
      "text/html": [
       "<a href=\"https://www.politico.com/news/congress\" target=\"_blank\">https://www.politico.com/news/congress</a>"
      ],
      "text/plain": [
       "<IPython.core.display.HTML object>"
      ]
     },
     "metadata": {},
     "output_type": "display_data"
    },
    {
     "data": {
      "text/html": [
       "<a href=\"https://www.politico.com/white-house\" target=\"_blank\">https://www.politico.com/white-house</a>"
      ],
      "text/plain": [
       "<IPython.core.display.HTML object>"
      ]
     },
     "metadata": {},
     "output_type": "display_data"
    },
    {
     "data": {
      "text/html": [
       "<a href=\"https://www.politico.com/news/elections\" target=\"_blank\">https://www.politico.com/news/elections</a>"
      ],
      "text/plain": [
       "<IPython.core.display.HTML object>"
      ]
     },
     "metadata": {},
     "output_type": "display_data"
    },
    {
     "data": {
      "text/html": [
       "<a href=\"https://www.politico.com/tag/legal\" target=\"_blank\">https://www.politico.com/tag/legal</a>"
      ],
      "text/plain": [
       "<IPython.core.display.HTML object>"
      ]
     },
     "metadata": {},
     "output_type": "display_data"
    },
    {
     "data": {
      "text/html": [
       "<a href=\"https://www.politico.com/magazine\" target=\"_blank\">https://www.politico.com/magazine</a>"
      ],
      "text/plain": [
       "<IPython.core.display.HTML object>"
      ]
     },
     "metadata": {},
     "output_type": "display_data"
    },
    {
     "data": {
      "text/html": [
       "<a href=\"https://www.politico.com/news/foreign-affairs\" target=\"_blank\">https://www.politico.com/news/foreign-affairs</a>"
      ],
      "text/plain": [
       "<IPython.core.display.HTML object>"
      ]
     },
     "metadata": {},
     "output_type": "display_data"
    },
    {
     "data": {
      "text/html": [
       "<a href=\"https://www.politico.com/news/2024-elections\" target=\"_blank\">https://www.politico.com/news/2024-elections</a>"
      ],
      "text/plain": [
       "<IPython.core.display.HTML object>"
      ]
     },
     "metadata": {},
     "output_type": "display_data"
    },
    {
     "data": {
      "text/html": [
       "<a href=\"https://www.politico.com/interactives/2023/republican-candidates-2024-gop-presidential-hopefuls-list/\" target=\"_blank\">https://www.politico.com/interactives/2023/republican-candidates-2024-gop-presidential-hopefuls-list/</a>"
      ],
      "text/plain": [
       "<IPython.core.display.HTML object>"
      ]
     },
     "metadata": {},
     "output_type": "display_data"
    },
    {
     "data": {
      "text/html": [
       "<a href=\"https://www.politico.com/california\" target=\"_blank\">https://www.politico.com/california</a>"
      ],
      "text/plain": [
       "<IPython.core.display.HTML object>"
      ]
     },
     "metadata": {},
     "output_type": "display_data"
    },
    {
     "data": {
      "text/html": [
       "<a href=\"https://www.politico.com/news/florida\" target=\"_blank\">https://www.politico.com/news/florida</a>"
      ],
      "text/plain": [
       "<IPython.core.display.HTML object>"
      ]
     },
     "metadata": {},
     "output_type": "display_data"
    },
    {
     "data": {
      "text/html": [
       "<a href=\"https://www.politico.com/news/new-jersey\" target=\"_blank\">https://www.politico.com/news/new-jersey</a>"
      ],
      "text/plain": [
       "<IPython.core.display.HTML object>"
      ]
     },
     "metadata": {},
     "output_type": "display_data"
    },
    {
     "data": {
      "text/html": [
       "<a href=\"https://www.politico.com/news/new-york\" target=\"_blank\">https://www.politico.com/news/new-york</a>"
      ],
      "text/plain": [
       "<IPython.core.display.HTML object>"
      ]
     },
     "metadata": {},
     "output_type": "display_data"
    },
    {
     "data": {
      "text/html": [
       "<a href=\"https://www.politico.eu\" target=\"_blank\">https://www.politico.eu</a>"
      ],
      "text/plain": [
       "<IPython.core.display.HTML object>"
      ]
     },
     "metadata": {},
     "output_type": "display_data"
    },
    {
     "data": {
      "text/html": [
       "<a href=\"https://www.politico.com/tag/pro-canada\" target=\"_blank\">https://www.politico.com/tag/pro-canada</a>"
      ],
      "text/plain": [
       "<IPython.core.display.HTML object>"
      ]
     },
     "metadata": {},
     "output_type": "display_data"
    },
    {
     "data": {
      "text/html": [
       "<a href=\"https://www.politico.eu/uk\" target=\"_blank\">https://www.politico.eu/uk</a>"
      ],
      "text/plain": [
       "<IPython.core.display.HTML object>"
      ]
     },
     "metadata": {},
     "output_type": "display_data"
    },
    {
     "data": {
      "text/html": [
       "<a href=\"https://www.politico.com/tag/agriculture\" target=\"_blank\">https://www.politico.com/tag/agriculture</a>"
      ],
      "text/plain": [
       "<IPython.core.display.HTML object>"
      ]
     },
     "metadata": {},
     "output_type": "display_data"
    },
    {
     "data": {
      "text/html": [
       "<a href=\"https://www.politico.com/cannabis\" target=\"_blank\">https://www.politico.com/cannabis</a>"
      ],
      "text/plain": [
       "<IPython.core.display.HTML object>"
      ]
     },
     "metadata": {},
     "output_type": "display_data"
    },
    {
     "data": {
      "text/html": [
       "<a href=\"https://www.politico.com/tag/cybersecurity\" target=\"_blank\">https://www.politico.com/tag/cybersecurity</a>"
      ],
      "text/plain": [
       "<IPython.core.display.HTML object>"
      ]
     },
     "metadata": {},
     "output_type": "display_data"
    },
    {
     "data": {
      "text/html": [
       "<a href=\"https://www.politico.com/tag/defense\" target=\"_blank\">https://www.politico.com/tag/defense</a>"
      ],
      "text/plain": [
       "<IPython.core.display.HTML object>"
      ]
     },
     "metadata": {},
     "output_type": "display_data"
    },
    {
     "data": {
      "text/html": [
       "<a href=\"https://www.politico.com/education\" target=\"_blank\">https://www.politico.com/education</a>"
      ],
      "text/plain": [
       "<IPython.core.display.HTML object>"
      ]
     },
     "metadata": {},
     "output_type": "display_data"
    },
    {
     "data": {
      "text/html": [
       "<a href=\"https://www.politico.com/energy-and-environment\" target=\"_blank\">https://www.politico.com/energy-and-environment</a>"
      ],
      "text/plain": [
       "<IPython.core.display.HTML object>"
      ]
     },
     "metadata": {},
     "output_type": "display_data"
    },
    {
     "data": {
      "text/html": [
       "<a href=\"https://www.politico.com/finance\" target=\"_blank\">https://www.politico.com/finance</a>"
      ],
      "text/plain": [
       "<IPython.core.display.HTML object>"
      ]
     },
     "metadata": {},
     "output_type": "display_data"
    },
    {
     "data": {
      "text/html": [
       "<a href=\"https://www.politico.com/health-care\" target=\"_blank\">https://www.politico.com/health-care</a>"
      ],
      "text/plain": [
       "<IPython.core.display.HTML object>"
      ]
     },
     "metadata": {},
     "output_type": "display_data"
    },
    {
     "data": {
      "text/html": [
       "<a href=\"https://www.politico.com/news/immigration\" target=\"_blank\">https://www.politico.com/news/immigration</a>"
      ],
      "text/plain": [
       "<IPython.core.display.HTML object>"
      ]
     },
     "metadata": {},
     "output_type": "display_data"
    },
    {
     "data": {
      "text/html": [
       "<a href=\"https://www.politico.com/tag/labor\" target=\"_blank\">https://www.politico.com/tag/labor</a>"
      ],
      "text/plain": [
       "<IPython.core.display.HTML object>"
      ]
     },
     "metadata": {},
     "output_type": "display_data"
    },
    {
     "data": {
      "text/html": [
       "<a href=\"https://www.politico.com/news/sustainability\" target=\"_blank\">https://www.politico.com/news/sustainability</a>"
      ],
      "text/plain": [
       "<IPython.core.display.HTML object>"
      ]
     },
     "metadata": {},
     "output_type": "display_data"
    },
    {
     "data": {
      "text/html": [
       "<a href=\"https://www.politico.com/technology\" target=\"_blank\">https://www.politico.com/technology</a>"
      ],
      "text/plain": [
       "<IPython.core.display.HTML object>"
      ]
     },
     "metadata": {},
     "output_type": "display_data"
    },
    {
     "data": {
      "text/html": [
       "<a href=\"https://www.politico.com/trade\" target=\"_blank\">https://www.politico.com/trade</a>"
      ],
      "text/plain": [
       "<IPython.core.display.HTML object>"
      ]
     },
     "metadata": {},
     "output_type": "display_data"
    },
    {
     "data": {
      "text/html": [
       "<a href=\"https://www.politico.com/transportation\" target=\"_blank\">https://www.politico.com/transportation</a>"
      ],
      "text/plain": [
       "<IPython.core.display.HTML object>"
      ]
     },
     "metadata": {},
     "output_type": "display_data"
    },
    {
     "data": {
      "text/html": [
       "<a href=\"https://www.politico.com/playbook\" target=\"_blank\">https://www.politico.com/playbook</a>"
      ],
      "text/plain": [
       "<IPython.core.display.HTML object>"
      ]
     },
     "metadata": {},
     "output_type": "display_data"
    },
    {
     "data": {
      "text/html": [
       "<a href=\"https://www.politico.com/newsletters/playbook-pm\" target=\"_blank\">https://www.politico.com/newsletters/playbook-pm</a>"
      ],
      "text/plain": [
       "<IPython.core.display.HTML object>"
      ]
     },
     "metadata": {},
     "output_type": "display_data"
    },
    {
     "data": {
      "text/html": [
       "<a href=\"https://www.politico.com/newsletters/west-wing-playbook\" target=\"_blank\">https://www.politico.com/newsletters/west-wing-playbook</a>"
      ],
      "text/plain": [
       "<IPython.core.display.HTML object>"
      ]
     },
     "metadata": {},
     "output_type": "display_data"
    },
    {
     "data": {
      "text/html": [
       "<a href=\"https://www.politico.com/newsletters/politico-nightly\" target=\"_blank\">https://www.politico.com/newsletters/politico-nightly</a>"
      ],
      "text/plain": [
       "<IPython.core.display.HTML object>"
      ]
     },
     "metadata": {},
     "output_type": "display_data"
    },
    {
     "data": {
      "text/html": [
       "<a href=\"https://www.politico.com/newsletters/politico-weekend\" target=\"_blank\">https://www.politico.com/newsletters/politico-weekend</a>"
      ],
      "text/plain": [
       "<IPython.core.display.HTML object>"
      ]
     },
     "metadata": {},
     "output_type": "display_data"
    },
    {
     "data": {
      "text/html": [
       "<a href=\"https://www.politico.com/newsletters/the-recast\" target=\"_blank\">https://www.politico.com/newsletters/the-recast</a>"
      ],
      "text/plain": [
       "<IPython.core.display.HTML object>"
      ]
     },
     "metadata": {},
     "output_type": "display_data"
    },
    {
     "data": {
      "text/html": [
       "<a href=\"https://www.politico.com/huddle/\" target=\"_blank\">https://www.politico.com/huddle/</a>"
      ],
      "text/plain": [
       "<IPython.core.display.HTML object>"
      ]
     },
     "metadata": {},
     "output_type": "display_data"
    },
    {
     "data": {
      "text/html": [
       "<a href=\"https://www.politico.com/newsletters\" target=\"_blank\">https://www.politico.com/newsletters</a>"
      ],
      "text/plain": [
       "<IPython.core.display.HTML object>"
      ]
     },
     "metadata": {},
     "output_type": "display_data"
    },
    {
     "data": {
      "text/html": [
       "<a href=\"https://www.politico.com/tag/column-tomorrow\" target=\"_blank\">https://www.politico.com/tag/column-tomorrow</a>"
      ],
      "text/plain": [
       "<IPython.core.display.HTML object>"
      ]
     },
     "metadata": {},
     "output_type": "display_data"
    },
    {
     "data": {
      "text/html": [
       "<a href=\"https://www.politico.com/tag/altitude\" target=\"_blank\">https://www.politico.com/tag/altitude</a>"
      ],
      "text/plain": [
       "<IPython.core.display.HTML object>"
      ]
     },
     "metadata": {},
     "output_type": "display_data"
    },
    {
     "data": {
      "text/html": [
       "<a href=\"https://www.politico.com/tag/column-on-politics\" target=\"_blank\">https://www.politico.com/tag/column-on-politics</a>"
      ],
      "text/plain": [
       "<IPython.core.display.HTML object>"
      ]
     },
     "metadata": {},
     "output_type": "display_data"
    },
    {
     "data": {
      "text/html": [
       "<a href=\"https://www.politico.com/tag/capital-city\" target=\"_blank\">https://www.politico.com/tag/capital-city</a>"
      ],
      "text/plain": [
       "<IPython.core.display.HTML object>"
      ]
     },
     "metadata": {},
     "output_type": "display_data"
    },
    {
     "data": {
      "text/html": [
       "<a href=\"https://www.politico.com/news/fourth-estate\" target=\"_blank\">https://www.politico.com/news/fourth-estate</a>"
      ],
      "text/plain": [
       "<IPython.core.display.HTML object>"
      ]
     },
     "metadata": {},
     "output_type": "display_data"
    },
    {
     "data": {
      "text/html": [
       "<a href=\"https://www.politico.com/news/rich-lowry\" target=\"_blank\">https://www.politico.com/news/rich-lowry</a>"
      ],
      "text/plain": [
       "<IPython.core.display.HTML object>"
      ]
     },
     "metadata": {},
     "output_type": "display_data"
    },
    {
     "data": {
      "text/html": [
       "<a href=\"https://www.politico.com/subscribe/breaking-news-alerts\" target=\"_blank\">https://www.politico.com/subscribe/breaking-news-alerts</a>"
      ],
      "text/plain": [
       "<IPython.core.display.HTML object>"
      ]
     },
     "metadata": {},
     "output_type": "display_data"
    },
    {
     "data": {
      "text/html": [
       "<a href=\"https://www.politico.com/podcasts\" target=\"_blank\">https://www.politico.com/podcasts</a>"
      ],
      "text/plain": [
       "<IPython.core.display.HTML object>"
      ]
     },
     "metadata": {},
     "output_type": "display_data"
    },
    {
     "data": {
      "text/html": [
       "<a href=\"https://www.politico.com/video\" target=\"_blank\">https://www.politico.com/video</a>"
      ],
      "text/plain": [
       "<IPython.core.display.HTML object>"
      ]
     },
     "metadata": {},
     "output_type": "display_data"
    },
    {
     "data": {
      "text/html": [
       "<a href=\"https://www.politico.com/series/states/the-fifty\" target=\"_blank\">https://www.politico.com/series/states/the-fifty</a>"
      ],
      "text/plain": [
       "<IPython.core.display.HTML object>"
      ]
     },
     "metadata": {},
     "output_type": "display_data"
    },
    {
     "data": {
      "text/html": [
       "<a href=\"https://www.politico.com/womenrule\" target=\"_blank\">https://www.politico.com/womenrule</a>"
      ],
      "text/plain": [
       "<IPython.core.display.HTML object>"
      ]
     },
     "metadata": {},
     "output_type": "display_data"
    },
    {
     "data": {
      "text/html": [
       "<a href=\"https://www.politico.com/news/matt-wuerker\" target=\"_blank\">https://www.politico.com/news/matt-wuerker</a>"
      ],
      "text/plain": [
       "<IPython.core.display.HTML object>"
      ]
     },
     "metadata": {},
     "output_type": "display_data"
    },
    {
     "data": {
      "text/html": [
       "<a href=\"https://www.politico.com/tag/cartoon-carousel\" target=\"_blank\">https://www.politico.com/tag/cartoon-carousel</a>"
      ],
      "text/plain": [
       "<IPython.core.display.HTML object>"
      ]
     },
     "metadata": {},
     "output_type": "display_data"
    },
    {
     "data": {
      "text/html": [
       "<a href=\"https://www.politico.com/live-events/upcoming\" target=\"_blank\">https://www.politico.com/live-events/upcoming</a>"
      ],
      "text/plain": [
       "<IPython.core.display.HTML object>"
      ]
     },
     "metadata": {},
     "output_type": "display_data"
    },
    {
     "data": {
      "text/html": [
       "<a href=\"https://www.politico.com/live-events/previous\" target=\"_blank\">https://www.politico.com/live-events/previous</a>"
      ],
      "text/plain": [
       "<IPython.core.display.HTML object>"
      ]
     },
     "metadata": {},
     "output_type": "display_data"
    },
    {
     "data": {
      "text/html": [
       "<a href=\"https://twitter.com/politico\" target=\"_blank\">https://twitter.com/politico</a>"
      ],
      "text/plain": [
       "<IPython.core.display.HTML object>"
      ]
     },
     "metadata": {},
     "output_type": "display_data"
    },
    {
     "data": {
      "text/html": [
       "<a href=\"https://www.instagram.com/politico/\" target=\"_blank\">https://www.instagram.com/politico/</a>"
      ],
      "text/plain": [
       "<IPython.core.display.HTML object>"
      ]
     },
     "metadata": {},
     "output_type": "display_data"
    },
    {
     "data": {
      "text/html": [
       "<a href=\"https://www.facebook.com/politico/\" target=\"_blank\">https://www.facebook.com/politico/</a>"
      ],
      "text/plain": [
       "<IPython.core.display.HTML object>"
      ]
     },
     "metadata": {},
     "output_type": "display_data"
    },
    {
     "data": {
      "text/html": [
       "<a href=\"https://www.politico.com/settings\" target=\"_blank\">https://www.politico.com/settings</a>"
      ],
      "text/plain": [
       "<IPython.core.display.HTML object>"
      ]
     },
     "metadata": {},
     "output_type": "display_data"
    },
    {
     "data": {
      "text/html": [
       "<a href=\"https://www.politico.com//_login?base=https%3A%2F%2Fwww.politico.com&redirect=%2F_login&logout=%2F_logout&lRedirect=true&sRedirect=%2Fsettings&js=false\" target=\"_blank\">https://www.politico.com//_login?base=https%3A%2F%2Fwww.politico.com&redirect=%2F_login&logout=%2F_logout&lRedirect=true&sRedirect=%2Fsettings&js=false</a>"
      ],
      "text/plain": [
       "<IPython.core.display.HTML object>"
      ]
     },
     "metadata": {},
     "output_type": "display_data"
    },
    {
     "data": {
      "text/html": [
       "<a href=\"https://www.politico.com//_logout?base=https%3A%2F%2Fwww.politico.com&redirect=%2F_logout&js=false\" target=\"_blank\">https://www.politico.com//_logout?base=https%3A%2F%2Fwww.politico.com&redirect=%2F_logout&js=false</a>"
      ],
      "text/plain": [
       "<IPython.core.display.HTML object>"
      ]
     },
     "metadata": {},
     "output_type": "display_data"
    },
    {
     "data": {
      "text/html": [
       "<a href=\"{{flagURL}}\" target=\"_blank\">{{flagURL}}</a>"
      ],
      "text/plain": [
       "<IPython.core.display.HTML object>"
      ]
     },
     "metadata": {},
     "output_type": "display_data"
    },
    {
     "data": {
      "text/html": [
       "<a href=\"{{flagURL}}\" target=\"_blank\">{{flagURL}}</a>"
      ],
      "text/plain": [
       "<IPython.core.display.HTML object>"
      ]
     },
     "metadata": {},
     "output_type": "display_data"
    },
    {
     "data": {
      "text/html": [
       "<a href=\"{{permalink}}\" target=\"_blank\">{{permalink}}</a>"
      ],
      "text/plain": [
       "<IPython.core.display.HTML object>"
      ]
     },
     "metadata": {},
     "output_type": "display_data"
    },
    {
     "data": {
      "text/html": [
       "<a href=\"https://www.politico.com/newsletters/digital-future-daily/2023/08/24/the-tricky-problem-behind-ai-bias-00112845\" target=\"_blank\">https://www.politico.com/newsletters/digital-future-daily/2023/08/24/the-tricky-problem-behind-ai-bias-00112845</a>"
      ],
      "text/plain": [
       "<IPython.core.display.HTML object>"
      ]
     },
     "metadata": {},
     "output_type": "display_data"
    },
    {
     "data": {
      "text/html": [
       "<a href=\"https://www.politico.com/news/2023/08/24/who-won-lost-gop-primary-debate-00112856\" target=\"_blank\">https://www.politico.com/news/2023/08/24/who-won-lost-gop-primary-debate-00112856</a>"
      ],
      "text/plain": [
       "<IPython.core.display.HTML object>"
      ]
     },
     "metadata": {},
     "output_type": "display_data"
    },
    {
     "data": {
      "text/html": [
       "<a href=\"https://www.politico.eu/article/spanish-football-chief-to-resign-after-kissing-world-cup-winner-on-the-lips/\" target=\"_blank\">https://www.politico.eu/article/spanish-football-chief-to-resign-after-kissing-world-cup-winner-on-the-lips/</a>"
      ],
      "text/plain": [
       "<IPython.core.display.HTML object>"
      ]
     },
     "metadata": {},
     "output_type": "display_data"
    },
    {
     "data": {
      "text/html": [
       "<a href=\"https://www.politico.com/news/2023/08/24/hochul-new-york-migrant-surge-00112835\" target=\"_blank\">https://www.politico.com/news/2023/08/24/hochul-new-york-migrant-surge-00112835</a>"
      ],
      "text/plain": [
       "<IPython.core.display.HTML object>"
      ]
     },
     "metadata": {},
     "output_type": "display_data"
    },
    {
     "data": {
      "text/html": [
       "<a href=\"https://www.politico.com/news/2023/08/24/trump-georgia-lawyer-sadow-00112732\" target=\"_blank\">https://www.politico.com/news/2023/08/24/trump-georgia-lawyer-sadow-00112732</a>"
      ],
      "text/plain": [
       "<IPython.core.display.HTML object>"
      ]
     },
     "metadata": {},
     "output_type": "display_data"
    },
    {
     "data": {
      "text/html": [
       "<a href=\"https://www.politico.com/news/2023/08/24/republican-debate-abortion-2024-00112721\" target=\"_blank\">https://www.politico.com/news/2023/08/24/republican-debate-abortion-2024-00112721</a>"
      ],
      "text/plain": [
       "<IPython.core.display.HTML object>"
      ]
     },
     "metadata": {},
     "output_type": "display_data"
    },
    {
     "data": {
      "text/html": [
       "<a href=\"https://www.politico.com/news/2023/08/24/trump-ramaswamy-republican-debate-00112716\" target=\"_blank\">https://www.politico.com/news/2023/08/24/trump-ramaswamy-republican-debate-00112716</a>"
      ],
      "text/plain": [
       "<IPython.core.display.HTML object>"
      ]
     },
     "metadata": {},
     "output_type": "display_data"
    },
    {
     "data": {
      "text/html": [
       "<a href=\"https://www.politico.com/newsletters/florida-playbook/2023/08/24/desantis-needed-a-big-debate-win-did-he-get-it-00112713\" target=\"_blank\">https://www.politico.com/newsletters/florida-playbook/2023/08/24/desantis-needed-a-big-debate-win-did-he-get-it-00112713</a>"
      ],
      "text/plain": [
       "<IPython.core.display.HTML object>"
      ]
     },
     "metadata": {},
     "output_type": "display_data"
    },
    {
     "data": {
      "text/html": [
       "<a href=\"https://www.politico.com/news/2023/08/23/trump-mike-pence-republican-debate-2024-00112675\" target=\"_blank\">https://www.politico.com/news/2023/08/23/trump-mike-pence-republican-debate-2024-00112675</a>"
      ],
      "text/plain": [
       "<IPython.core.display.HTML object>"
      ]
     },
     "metadata": {},
     "output_type": "display_data"
    },
    {
     "data": {
      "text/html": [
       "<a href=\"https://www.politico.com/news/2023/08/23/biden-admin-shrugs-at-prigozhins-death-00112574\" target=\"_blank\">https://www.politico.com/news/2023/08/23/biden-admin-shrugs-at-prigozhins-death-00112574</a>"
      ],
      "text/plain": [
       "<IPython.core.display.HTML object>"
      ]
     },
     "metadata": {},
     "output_type": "display_data"
    },
    {
     "data": {
      "text/html": [
       "<a href=\"https://www.politico.com/news/2024-elections\" target=\"_blank\">https://www.politico.com/news/2024-elections</a>"
      ],
      "text/plain": [
       "<IPython.core.display.HTML object>"
      ]
     },
     "metadata": {},
     "output_type": "display_data"
    },
    {
     "data": {
      "text/html": [
       "<a href=\"https://www.politico.com/news/2023/08/24/vivek-ramaswamy-gop-debate-00112752\" target=\"_blank\">https://www.politico.com/news/2023/08/24/vivek-ramaswamy-gop-debate-00112752</a>"
      ],
      "text/plain": [
       "<IPython.core.display.HTML object>"
      ]
     },
     "metadata": {},
     "output_type": "display_data"
    },
    {
     "data": {
      "text/html": [
       "<a href=\"https://www.politico.com/staff/natalie-allison\" target=\"_blank\">https://www.politico.com/staff/natalie-allison</a>"
      ],
      "text/plain": [
       "<IPython.core.display.HTML object>"
      ]
     },
     "metadata": {},
     "output_type": "display_data"
    },
    {
     "data": {
      "text/html": [
       "<a href=\"https://www.politico.com/news/2023/08/24/vivek-ramaswamy-gop-debate-00112752\" target=\"_blank\">https://www.politico.com/news/2023/08/24/vivek-ramaswamy-gop-debate-00112752</a>"
      ],
      "text/plain": [
       "<IPython.core.display.HTML object>"
      ]
     },
     "metadata": {},
     "output_type": "display_data"
    },
    {
     "data": {
      "text/html": [
       "<a href=\"https://www.politico.com/news/2023/08/24/ramaswamys-debate-performance-fuels-veepstakes-talk-00112817\" target=\"_blank\">https://www.politico.com/news/2023/08/24/ramaswamys-debate-performance-fuels-veepstakes-talk-00112817</a>"
      ],
      "text/plain": [
       "<IPython.core.display.HTML object>"
      ]
     },
     "metadata": {},
     "output_type": "display_data"
    },
    {
     "data": {
      "text/html": [
       "<a href=\"https://www.politico.com/news/magazine/2023/08/24/gop-debate-reality-show-reunion-00112753\" target=\"_blank\">https://www.politico.com/news/magazine/2023/08/24/gop-debate-reality-show-reunion-00112753</a>"
      ],
      "text/plain": [
       "<IPython.core.display.HTML object>"
      ]
     },
     "metadata": {},
     "output_type": "display_data"
    },
    {
     "data": {
      "text/html": [
       "<a href=\"https://www.politico.com/news/magazine/2023/08/24/gop-debate-reality-show-reunion-00112753\" target=\"_blank\">https://www.politico.com/news/magazine/2023/08/24/gop-debate-reality-show-reunion-00112753</a>"
      ],
      "text/plain": [
       "<IPython.core.display.HTML object>"
      ]
     },
     "metadata": {},
     "output_type": "display_data"
    },
    {
     "data": {
      "text/html": [
       "<a href=\"https://www.politico.com/news/magazine/2023/08/24/will-hurd-republican-debate-00112727\" target=\"_blank\">https://www.politico.com/news/magazine/2023/08/24/will-hurd-republican-debate-00112727</a>"
      ],
      "text/plain": [
       "<IPython.core.display.HTML object>"
      ]
     },
     "metadata": {},
     "output_type": "display_data"
    },
    {
     "data": {
      "text/html": [
       "<a href=\"https://www.politico.com/news/magazine/2023/08/24/will-hurd-republican-debate-00112727\" target=\"_blank\">https://www.politico.com/news/magazine/2023/08/24/will-hurd-republican-debate-00112727</a>"
      ],
      "text/plain": [
       "<IPython.core.display.HTML object>"
      ]
     },
     "metadata": {},
     "output_type": "display_data"
    },
    {
     "data": {
      "text/html": [
       "<a href=\"https://www.politico.com/news/magazine/2023/08/24/republican-debate-body-language-00112711\" target=\"_blank\">https://www.politico.com/news/magazine/2023/08/24/republican-debate-body-language-00112711</a>"
      ],
      "text/plain": [
       "<IPython.core.display.HTML object>"
      ]
     },
     "metadata": {},
     "output_type": "display_data"
    },
    {
     "data": {
      "text/html": [
       "<a href=\"https://www.politico.com/news/magazine/2023/08/24/republican-debate-body-language-00112711\" target=\"_blank\">https://www.politico.com/news/magazine/2023/08/24/republican-debate-body-language-00112711</a>"
      ],
      "text/plain": [
       "<IPython.core.display.HTML object>"
      ]
     },
     "metadata": {},
     "output_type": "display_data"
    },
    {
     "data": {
      "text/html": [
       "<a href=\"https://www.politico.com/news/foreign-affairs\" target=\"_blank\">https://www.politico.com/news/foreign-affairs</a>"
      ],
      "text/plain": [
       "<IPython.core.display.HTML object>"
      ]
     },
     "metadata": {},
     "output_type": "display_data"
    },
    {
     "data": {
      "text/html": [
       "<a href=\"https://www.politico.eu/article/putin-breaks-silence-over-wagner-chief-prigozhins-death-in-jet-crash/\" target=\"_blank\">https://www.politico.eu/article/putin-breaks-silence-over-wagner-chief-prigozhins-death-in-jet-crash/</a>"
      ],
      "text/plain": [
       "<IPython.core.display.HTML object>"
      ]
     },
     "metadata": {},
     "output_type": "display_data"
    },
    {
     "data": {
      "text/html": [
       "<a href=\"https://www.politico.eu/article/prigozhin-lives-kremlin-battles-rumors-wagner-chief-faked-his-death/\" target=\"_blank\">https://www.politico.eu/article/prigozhin-lives-kremlin-battles-rumors-wagner-chief-faked-his-death/</a>"
      ],
      "text/plain": [
       "<IPython.core.display.HTML object>"
      ]
     },
     "metadata": {},
     "output_type": "display_data"
    },
    {
     "data": {
      "text/html": [
       "<a href=\"https://www.politico.com/tag/legal\" target=\"_blank\">https://www.politico.com/tag/legal</a>"
      ],
      "text/plain": [
       "<IPython.core.display.HTML object>"
      ]
     },
     "metadata": {},
     "output_type": "display_data"
    },
    {
     "data": {
      "text/html": [
       "<a href=\"https://www.politico.com/news/2023/08/24/fulton-county-prosecutors-ask-judge-to-set-oct-23-trial-on-trump-racketeering-charges-00112816\" target=\"_blank\">https://www.politico.com/news/2023/08/24/fulton-county-prosecutors-ask-judge-to-set-oct-23-trial-on-trump-racketeering-charges-00112816</a>"
      ],
      "text/plain": [
       "<IPython.core.display.HTML object>"
      ]
     },
     "metadata": {},
     "output_type": "display_data"
    },
    {
     "data": {
      "text/html": [
       "<a href=\"https://www.politico.com/staff/kyle-cheney\" target=\"_blank\">https://www.politico.com/staff/kyle-cheney</a>"
      ],
      "text/plain": [
       "<IPython.core.display.HTML object>"
      ]
     },
     "metadata": {},
     "output_type": "display_data"
    },
    {
     "data": {
      "text/html": [
       "<a href=\"https://www.politico.com/gallery/2023/08/24/georgia-election-case-mugshots-00112748\" target=\"_blank\">https://www.politico.com/gallery/2023/08/24/georgia-election-case-mugshots-00112748</a>"
      ],
      "text/plain": [
       "<IPython.core.display.HTML object>"
      ]
     },
     "metadata": {},
     "output_type": "display_data"
    },
    {
     "data": {
      "text/html": [
       "<a href=\"https://www.politico.com/politics\" target=\"_blank\">https://www.politico.com/politics</a>"
      ],
      "text/plain": [
       "<IPython.core.display.HTML object>"
      ]
     },
     "metadata": {},
     "output_type": "display_data"
    },
    {
     "data": {
      "text/html": [
       "<a href=\"https://www.politico.com/news/2023/08/24/treacherous-descent-fed-debates-how-far-to-push-rate-hikes-00112484\" target=\"_blank\">https://www.politico.com/news/2023/08/24/treacherous-descent-fed-debates-how-far-to-push-rate-hikes-00112484</a>"
      ],
      "text/plain": [
       "<IPython.core.display.HTML object>"
      ]
     },
     "metadata": {},
     "output_type": "display_data"
    },
    {
     "data": {
      "text/html": [
       "<a href=\"https://www.politico.com/finance\" target=\"_blank\">https://www.politico.com/finance</a>"
      ],
      "text/plain": [
       "<IPython.core.display.HTML object>"
      ]
     },
     "metadata": {},
     "output_type": "display_data"
    },
    {
     "data": {
      "text/html": [
       "<a href=\"https://www.politico.com/news/2023/08/24/treacherous-descent-fed-debates-how-far-to-push-rate-hikes-00112484\" target=\"_blank\">https://www.politico.com/news/2023/08/24/treacherous-descent-fed-debates-how-far-to-push-rate-hikes-00112484</a>"
      ],
      "text/plain": [
       "<IPython.core.display.HTML object>"
      ]
     },
     "metadata": {},
     "output_type": "display_data"
    },
    {
     "data": {
      "text/html": [
       "<a href=\"https://www.politico.com/news/2023/08/24/republican-presidential-debate-2024-00112676\" target=\"_blank\">https://www.politico.com/news/2023/08/24/republican-presidential-debate-2024-00112676</a>"
      ],
      "text/plain": [
       "<IPython.core.display.HTML object>"
      ]
     },
     "metadata": {},
     "output_type": "display_data"
    },
    {
     "data": {
      "text/html": [
       "<a href=\"https://www.politico.com/news/elections\" target=\"_blank\">https://www.politico.com/news/elections</a>"
      ],
      "text/plain": [
       "<IPython.core.display.HTML object>"
      ]
     },
     "metadata": {},
     "output_type": "display_data"
    },
    {
     "data": {
      "text/html": [
       "<a href=\"https://www.politico.com/news/2023/08/24/republican-presidential-debate-2024-00112676\" target=\"_blank\">https://www.politico.com/news/2023/08/24/republican-presidential-debate-2024-00112676</a>"
      ],
      "text/plain": [
       "<IPython.core.display.HTML object>"
      ]
     },
     "metadata": {},
     "output_type": "display_data"
    },
    {
     "data": {
      "text/html": [
       "<a href=\"https://www.politico.com/staff/kierra-frazier\" target=\"_blank\">https://www.politico.com/staff/kierra-frazier</a>"
      ],
      "text/plain": [
       "<IPython.core.display.HTML object>"
      ]
     },
     "metadata": {},
     "output_type": "display_data"
    },
    {
     "data": {
      "text/html": [
       "<a href=\"https://www.politico.com/news/2023/08/24/spacex-discrimination-complaint-00112834\" target=\"_blank\">https://www.politico.com/news/2023/08/24/spacex-discrimination-complaint-00112834</a>"
      ],
      "text/plain": [
       "<IPython.core.display.HTML object>"
      ]
     },
     "metadata": {},
     "output_type": "display_data"
    },
    {
     "data": {
      "text/html": [
       "<a href=\"https://www.politico.com/tag/legal\" target=\"_blank\">https://www.politico.com/tag/legal</a>"
      ],
      "text/plain": [
       "<IPython.core.display.HTML object>"
      ]
     },
     "metadata": {},
     "output_type": "display_data"
    },
    {
     "data": {
      "text/html": [
       "<a href=\"https://www.politico.com/news/2023/08/24/spacex-discrimination-complaint-00112834\" target=\"_blank\">https://www.politico.com/news/2023/08/24/spacex-discrimination-complaint-00112834</a>"
      ],
      "text/plain": [
       "<IPython.core.display.HTML object>"
      ]
     },
     "metadata": {},
     "output_type": "display_data"
    },
    {
     "data": {
      "text/html": [
       "<a href=\"https://www.politico.com/staff/joshgerstein\" target=\"_blank\">https://www.politico.com/staff/joshgerstein</a>"
      ],
      "text/plain": [
       "<IPython.core.display.HTML object>"
      ]
     },
     "metadata": {},
     "output_type": "display_data"
    },
    {
     "data": {
      "text/html": [
       "<a href=\"https://www.politico.com/news/2023/08/24/house-republicans-launch-investigation-into-fulton-county-da-00112769\" target=\"_blank\">https://www.politico.com/news/2023/08/24/house-republicans-launch-investigation-into-fulton-county-da-00112769</a>"
      ],
      "text/plain": [
       "<IPython.core.display.HTML object>"
      ]
     },
     "metadata": {},
     "output_type": "display_data"
    },
    {
     "data": {
      "text/html": [
       "<a href=\"https://www.politico.com/tag/legal\" target=\"_blank\">https://www.politico.com/tag/legal</a>"
      ],
      "text/plain": [
       "<IPython.core.display.HTML object>"
      ]
     },
     "metadata": {},
     "output_type": "display_data"
    },
    {
     "data": {
      "text/html": [
       "<a href=\"https://www.politico.com/news/2023/08/24/house-republicans-launch-investigation-into-fulton-county-da-00112769\" target=\"_blank\">https://www.politico.com/news/2023/08/24/house-republicans-launch-investigation-into-fulton-county-da-00112769</a>"
      ],
      "text/plain": [
       "<IPython.core.display.HTML object>"
      ]
     },
     "metadata": {},
     "output_type": "display_data"
    },
    {
     "data": {
      "text/html": [
       "<a href=\"https://www.politico.com/staff/jordain-carney\" target=\"_blank\">https://www.politico.com/staff/jordain-carney</a>"
      ],
      "text/plain": [
       "<IPython.core.display.HTML object>"
      ]
     },
     "metadata": {},
     "output_type": "display_data"
    },
    {
     "data": {
      "text/html": [
       "<a href=\"https://www.politico.com/video\" target=\"_blank\">https://www.politico.com/video</a>"
      ],
      "text/plain": [
       "<IPython.core.display.HTML object>"
      ]
     },
     "metadata": {},
     "output_type": "display_data"
    },
    {
     "data": {
      "text/html": [
       "<a href=\"https://www.politico.com/video/2023/08/24/gop-hopefuls-rehash-moments-from-the-debate-1037819\" target=\"_blank\">https://www.politico.com/video/2023/08/24/gop-hopefuls-rehash-moments-from-the-debate-1037819</a>"
      ],
      "text/plain": [
       "<IPython.core.display.HTML object>"
      ]
     },
     "metadata": {},
     "output_type": "display_data"
    },
    {
     "data": {
      "text/html": [
       "<a href=\"https://www.politico.com/newsletters\" target=\"_blank\">https://www.politico.com/newsletters</a>"
      ],
      "text/plain": [
       "<IPython.core.display.HTML object>"
      ]
     },
     "metadata": {},
     "output_type": "display_data"
    },
    {
     "data": {
      "text/html": [
       "<a href=\"https://www.politico.com/privacy\" target=\"_blank\">https://www.politico.com/privacy</a>"
      ],
      "text/plain": [
       "<IPython.core.display.HTML object>"
      ]
     },
     "metadata": {},
     "output_type": "display_data"
    },
    {
     "data": {
      "text/html": [
       "<a href=\"https://www.politico.com/terms-of-service\" target=\"_blank\">https://www.politico.com/terms-of-service</a>"
      ],
      "text/plain": [
       "<IPython.core.display.HTML object>"
      ]
     },
     "metadata": {},
     "output_type": "display_data"
    },
    {
     "data": {
      "text/html": [
       "<a href=\"https://www.politico.com/feedback\" target=\"_blank\">https://www.politico.com/feedback</a>"
      ],
      "text/plain": [
       "<IPython.core.display.HTML object>"
      ]
     },
     "metadata": {},
     "output_type": "display_data"
    },
    {
     "data": {
      "text/html": [
       "<a href=\"https://policies.google.com/privacy\" target=\"_blank\">https://policies.google.com/privacy</a>"
      ],
      "text/plain": [
       "<IPython.core.display.HTML object>"
      ]
     },
     "metadata": {},
     "output_type": "display_data"
    },
    {
     "data": {
      "text/html": [
       "<a href=\"https://policies.google.com/terms\" target=\"_blank\">https://policies.google.com/terms</a>"
      ],
      "text/plain": [
       "<IPython.core.display.HTML object>"
      ]
     },
     "metadata": {},
     "output_type": "display_data"
    },
    {
     "data": {
      "text/html": [
       "<a href=\"https://www.politico.com/newsletters\" target=\"_blank\">https://www.politico.com/newsletters</a>"
      ],
      "text/plain": [
       "<IPython.core.display.HTML object>"
      ]
     },
     "metadata": {},
     "output_type": "display_data"
    },
    {
     "data": {
      "text/html": [
       "<a href=\"https://www.politico.com/privacy\" target=\"_blank\">https://www.politico.com/privacy</a>"
      ],
      "text/plain": [
       "<IPython.core.display.HTML object>"
      ]
     },
     "metadata": {},
     "output_type": "display_data"
    },
    {
     "data": {
      "text/html": [
       "<a href=\"https://www.politico.com/terms-of-service\" target=\"_blank\">https://www.politico.com/terms-of-service</a>"
      ],
      "text/plain": [
       "<IPython.core.display.HTML object>"
      ]
     },
     "metadata": {},
     "output_type": "display_data"
    },
    {
     "data": {
      "text/html": [
       "<a href=\"https://www.politico.com/feedback\" target=\"_blank\">https://www.politico.com/feedback</a>"
      ],
      "text/plain": [
       "<IPython.core.display.HTML object>"
      ]
     },
     "metadata": {},
     "output_type": "display_data"
    },
    {
     "data": {
      "text/html": [
       "<a href=\"https://policies.google.com/privacy\" target=\"_blank\">https://policies.google.com/privacy</a>"
      ],
      "text/plain": [
       "<IPython.core.display.HTML object>"
      ]
     },
     "metadata": {},
     "output_type": "display_data"
    },
    {
     "data": {
      "text/html": [
       "<a href=\"https://policies.google.com/terms\" target=\"_blank\">https://policies.google.com/terms</a>"
      ],
      "text/plain": [
       "<IPython.core.display.HTML object>"
      ]
     },
     "metadata": {},
     "output_type": "display_data"
    },
    {
     "data": {
      "text/html": [
       "<a href=\"/magazine\" target=\"_blank\">/magazine</a>"
      ],
      "text/plain": [
       "<IPython.core.display.HTML object>"
      ]
     },
     "metadata": {},
     "output_type": "display_data"
    },
    {
     "data": {
      "text/html": [
       "<a href=\"https://www.politico.com/news/magazine/2023/08/24/whats-next-republican-candidates-2024-analysis-00112683\" target=\"_blank\">https://www.politico.com/news/magazine/2023/08/24/whats-next-republican-candidates-2024-analysis-00112683</a>"
      ],
      "text/plain": [
       "<IPython.core.display.HTML object>"
      ]
     },
     "metadata": {},
     "output_type": "display_data"
    },
    {
     "data": {
      "text/html": [
       "<a href=\"https://www.politico.com/news/magazine/2023/08/23/vivek-ramaswamy-republican-candidate-profile-00112348\" target=\"_blank\">https://www.politico.com/news/magazine/2023/08/23/vivek-ramaswamy-republican-candidate-profile-00112348</a>"
      ],
      "text/plain": [
       "<IPython.core.display.HTML object>"
      ]
     },
     "metadata": {},
     "output_type": "display_data"
    },
    {
     "data": {
      "text/html": [
       "<a href=\"https://www.politico.com/news/magazine/2023/08/22/chris-christie-donald-trump-critic-00112106\" target=\"_blank\">https://www.politico.com/news/magazine/2023/08/22/chris-christie-donald-trump-critic-00112106</a>"
      ],
      "text/plain": [
       "<IPython.core.display.HTML object>"
      ]
     },
     "metadata": {},
     "output_type": "display_data"
    },
    {
     "data": {
      "text/html": [
       "<a href=\"https://www.politico.com/news/magazine/2023/08/21/atlanta-center-stage-donald-trump-trial-00112032\" target=\"_blank\">https://www.politico.com/news/magazine/2023/08/21/atlanta-center-stage-donald-trump-trial-00112032</a>"
      ],
      "text/plain": [
       "<IPython.core.display.HTML object>"
      ]
     },
     "metadata": {},
     "output_type": "display_data"
    },
    {
     "data": {
      "text/html": [
       "<a href=\"https://www.politico.com/news/magazine/2023/08/21/debate-advice-desantis-2024-00112063\" target=\"_blank\">https://www.politico.com/news/magazine/2023/08/21/debate-advice-desantis-2024-00112063</a>"
      ],
      "text/plain": [
       "<IPython.core.display.HTML object>"
      ]
     },
     "metadata": {},
     "output_type": "display_data"
    },
    {
     "data": {
      "text/html": [
       "<a href=\"https://www.politico.com/news/magazine/2023/08/20/its-time-to-nationalize-ai-00111862\" target=\"_blank\">https://www.politico.com/news/magazine/2023/08/20/its-time-to-nationalize-ai-00111862</a>"
      ],
      "text/plain": [
       "<IPython.core.display.HTML object>"
      ]
     },
     "metadata": {},
     "output_type": "display_data"
    },
    {
     "data": {
      "text/html": [
       "<a href=\"https://www.politico.com/news/magazine/2023/08/18/brett-odonell-desantis-gop-debate-00111713\" target=\"_blank\">https://www.politico.com/news/magazine/2023/08/18/brett-odonell-desantis-gop-debate-00111713</a>"
      ],
      "text/plain": [
       "<IPython.core.display.HTML object>"
      ]
     },
     "metadata": {},
     "output_type": "display_data"
    },
    {
     "data": {
      "text/html": [
       "<a href=\"https://www.politico.com/news/magazine/2023/08/18/cure-woke-mind-virus-products-00110511\" target=\"_blank\">https://www.politico.com/news/magazine/2023/08/18/cure-woke-mind-virus-products-00110511</a>"
      ],
      "text/plain": [
       "<IPython.core.display.HTML object>"
      ]
     },
     "metadata": {},
     "output_type": "display_data"
    },
    {
     "data": {
      "text/html": [
       "<a href=\"https://www.politico.com/news/magazine/2023/08/18/how-to-end-ukraine-war-00111752\" target=\"_blank\">https://www.politico.com/news/magazine/2023/08/18/how-to-end-ukraine-war-00111752</a>"
      ],
      "text/plain": [
       "<IPython.core.display.HTML object>"
      ]
     },
     "metadata": {},
     "output_type": "display_data"
    },
    {
     "data": {
      "text/html": [
       "<a href=\"https://www.politico.com/news/magazine/2023/08/17/ron-filipkowski-desantis-trump-00110950\" target=\"_blank\">https://www.politico.com/news/magazine/2023/08/17/ron-filipkowski-desantis-trump-00110950</a>"
      ],
      "text/plain": [
       "<IPython.core.display.HTML object>"
      ]
     },
     "metadata": {},
     "output_type": "display_data"
    },
    {
     "data": {
      "text/html": [
       "<a href=\"https://www.politico.com/news/magazine/2023/08/16/trump-indictment-jack-smith-georgia-00111389\" target=\"_blank\">https://www.politico.com/news/magazine/2023/08/16/trump-indictment-jack-smith-georgia-00111389</a>"
      ],
      "text/plain": [
       "<IPython.core.display.HTML object>"
      ]
     },
     "metadata": {},
     "output_type": "display_data"
    },
    {
     "data": {
      "text/html": [
       "<a href=\"https://www.politico.com/news/magazine/2023/08/15/chinese-diplomat-qin-gang-fall-00110333\" target=\"_blank\">https://www.politico.com/news/magazine/2023/08/15/chinese-diplomat-qin-gang-fall-00110333</a>"
      ],
      "text/plain": [
       "<IPython.core.display.HTML object>"
      ]
     },
     "metadata": {},
     "output_type": "display_data"
    },
    {
     "data": {
      "text/html": [
       "<a href=\"https://www.politico.com/news/interactives\" target=\"_blank\">https://www.politico.com/news/interactives</a>"
      ],
      "text/plain": [
       "<IPython.core.display.HTML object>"
      ]
     },
     "metadata": {},
     "output_type": "display_data"
    },
    {
     "data": {
      "text/html": [
       "<a href=\"https://www.politico.com/2024-election/presidential-debate-gop-candidates-schedule-moderators-polls-tracker/\" target=\"_blank\">https://www.politico.com/2024-election/presidential-debate-gop-candidates-schedule-moderators-polls-tracker/</a>"
      ],
      "text/plain": [
       "<IPython.core.display.HTML object>"
      ]
     },
     "metadata": {},
     "output_type": "display_data"
    },
    {
     "data": {
      "text/html": [
       "<a href=\"https://www.politico.com/2024-election/presidential-debate-gop-candidates-schedule-moderators-polls-tracker/\" target=\"_blank\">https://www.politico.com/2024-election/presidential-debate-gop-candidates-schedule-moderators-polls-tracker/</a>"
      ],
      "text/plain": [
       "<IPython.core.display.HTML object>"
      ]
     },
     "metadata": {},
     "output_type": "display_data"
    },
    {
     "data": {
      "text/html": [
       "<a href=\"https://www.politico.com/news/elections\" target=\"_blank\">https://www.politico.com/news/elections</a>"
      ],
      "text/plain": [
       "<IPython.core.display.HTML object>"
      ]
     },
     "metadata": {},
     "output_type": "display_data"
    },
    {
     "data": {
      "text/html": [
       "<a href=\"https://www.politico.com/news/2023/08/24/republican-debate-who-won-takeaways-00112691\" target=\"_blank\">https://www.politico.com/news/2023/08/24/republican-debate-who-won-takeaways-00112691</a>"
      ],
      "text/plain": [
       "<IPython.core.display.HTML object>"
      ]
     },
     "metadata": {},
     "output_type": "display_data"
    },
    {
     "data": {
      "text/html": [
       "<a href=\"https://www.politico.com/news/2023/08/24/republican-debate-who-won-takeaways-00112691\" target=\"_blank\">https://www.politico.com/news/2023/08/24/republican-debate-who-won-takeaways-00112691</a>"
      ],
      "text/plain": [
       "<IPython.core.display.HTML object>"
      ]
     },
     "metadata": {},
     "output_type": "display_data"
    },
    {
     "data": {
      "text/html": [
       "<a href=\"https://www.politico.com/news/2023/08/23/first-republican-debate-highlights-00112617\" target=\"_blank\">https://www.politico.com/news/2023/08/23/first-republican-debate-highlights-00112617</a>"
      ],
      "text/plain": [
       "<IPython.core.display.HTML object>"
      ]
     },
     "metadata": {},
     "output_type": "display_data"
    },
    {
     "data": {
      "text/html": [
       "<a href=\"https://www.politico.com/news/2023/08/23/first-republican-debate-highlights-00112617\" target=\"_blank\">https://www.politico.com/news/2023/08/23/first-republican-debate-highlights-00112617</a>"
      ],
      "text/plain": [
       "<IPython.core.display.HTML object>"
      ]
     },
     "metadata": {},
     "output_type": "display_data"
    },
    {
     "data": {
      "text/html": [
       "<a href=\"https://www.politico.com/staff/kierra-frazier\" target=\"_blank\">https://www.politico.com/staff/kierra-frazier</a>"
      ],
      "text/plain": [
       "<IPython.core.display.HTML object>"
      ]
     },
     "metadata": {},
     "output_type": "display_data"
    },
    {
     "data": {
      "text/html": [
       "<a href=\"https://www.politico.com/staff/megan-messerly\" target=\"_blank\">https://www.politico.com/staff/megan-messerly</a>"
      ],
      "text/plain": [
       "<IPython.core.display.HTML object>"
      ]
     },
     "metadata": {},
     "output_type": "display_data"
    },
    {
     "data": {
      "text/html": [
       "<a href=\"https://www.politico.com/staff/benjamin-guggenheim\" target=\"_blank\">https://www.politico.com/staff/benjamin-guggenheim</a>"
      ],
      "text/plain": [
       "<IPython.core.display.HTML object>"
      ]
     },
     "metadata": {},
     "output_type": "display_data"
    },
    {
     "data": {
      "text/html": [
       "<a href=\"https://www.politico.com/staff/ben-leonard\" target=\"_blank\">https://www.politico.com/staff/ben-leonard</a>"
      ],
      "text/plain": [
       "<IPython.core.display.HTML object>"
      ]
     },
     "metadata": {},
     "output_type": "display_data"
    },
    {
     "data": {
      "text/html": [
       "<a href=\"https://www.politico.com/staff/jessica-piper\" target=\"_blank\">https://www.politico.com/staff/jessica-piper</a>"
      ],
      "text/plain": [
       "<IPython.core.display.HTML object>"
      ]
     },
     "metadata": {},
     "output_type": "display_data"
    },
    {
     "data": {
      "text/html": [
       "<a href=\"https://www.politico.com/staff/alice-miranda-ollstein\" target=\"_blank\">https://www.politico.com/staff/alice-miranda-ollstein</a>"
      ],
      "text/plain": [
       "<IPython.core.display.HTML object>"
      ]
     },
     "metadata": {},
     "output_type": "display_data"
    },
    {
     "data": {
      "text/html": [
       "<a href=\"https://www.politico.com/staff/lisa-kashinsky\" target=\"_blank\">https://www.politico.com/staff/lisa-kashinsky</a>"
      ],
      "text/plain": [
       "<IPython.core.display.HTML object>"
      ]
     },
     "metadata": {},
     "output_type": "display_data"
    },
    {
     "data": {
      "text/html": [
       "<a href=\"https://www.politico.com/staff/kelly-garrity\" target=\"_blank\">https://www.politico.com/staff/kelly-garrity</a>"
      ],
      "text/plain": [
       "<IPython.core.display.HTML object>"
      ]
     },
     "metadata": {},
     "output_type": "display_data"
    },
    {
     "data": {
      "text/html": [
       "<a href=\"https://www.politico.com/news/2023/08/24/harshest-burns-2024-gop-debate-00112706\" target=\"_blank\">https://www.politico.com/news/2023/08/24/harshest-burns-2024-gop-debate-00112706</a>"
      ],
      "text/plain": [
       "<IPython.core.display.HTML object>"
      ]
     },
     "metadata": {},
     "output_type": "display_data"
    },
    {
     "data": {
      "text/html": [
       "<a href=\"https://www.politico.com/news/2023/08/24/harshest-burns-2024-gop-debate-00112706\" target=\"_blank\">https://www.politico.com/news/2023/08/24/harshest-burns-2024-gop-debate-00112706</a>"
      ],
      "text/plain": [
       "<IPython.core.display.HTML object>"
      ]
     },
     "metadata": {},
     "output_type": "display_data"
    },
    {
     "data": {
      "text/html": [
       "<a href=\"https://www.politico.com/staff/michael-stratford\" target=\"_blank\">https://www.politico.com/staff/michael-stratford</a>"
      ],
      "text/plain": [
       "<IPython.core.display.HTML object>"
      ]
     },
     "metadata": {},
     "output_type": "display_data"
    },
    {
     "data": {
      "text/html": [
       "<a href=\"https://www.politico.com/news/2023/08/23/trump-indictment-gop-debate-00112661\" target=\"_blank\">https://www.politico.com/news/2023/08/23/trump-indictment-gop-debate-00112661</a>"
      ],
      "text/plain": [
       "<IPython.core.display.HTML object>"
      ]
     },
     "metadata": {},
     "output_type": "display_data"
    },
    {
     "data": {
      "text/html": [
       "<a href=\"https://www.politico.com/news/2023/08/23/trump-indictment-gop-debate-00112661\" target=\"_blank\">https://www.politico.com/news/2023/08/23/trump-indictment-gop-debate-00112661</a>"
      ],
      "text/plain": [
       "<IPython.core.display.HTML object>"
      ]
     },
     "metadata": {},
     "output_type": "display_data"
    },
    {
     "data": {
      "text/html": [
       "<a href=\"https://www.politico.com/staff/jessica-piper\" target=\"_blank\">https://www.politico.com/staff/jessica-piper</a>"
      ],
      "text/plain": [
       "<IPython.core.display.HTML object>"
      ]
     },
     "metadata": {},
     "output_type": "display_data"
    },
    {
     "data": {
      "text/html": [
       "<a href=\"https://www.politico.com/tag/legal\" target=\"_blank\">https://www.politico.com/tag/legal</a>"
      ],
      "text/plain": [
       "<IPython.core.display.HTML object>"
      ]
     },
     "metadata": {},
     "output_type": "display_data"
    },
    {
     "data": {
      "text/html": [
       "<a href=\"https://www.politico.com/news/2023/08/23/criminal-motivations-georgia-prosecutors-detail-racketeering-case-against-meadows-00112604\" target=\"_blank\">https://www.politico.com/news/2023/08/23/criminal-motivations-georgia-prosecutors-detail-racketeering-case-against-meadows-00112604</a>"
      ],
      "text/plain": [
       "<IPython.core.display.HTML object>"
      ]
     },
     "metadata": {},
     "output_type": "display_data"
    },
    {
     "data": {
      "text/html": [
       "<a href=\"https://www.politico.com/news/2023/08/23/criminal-motivations-georgia-prosecutors-detail-racketeering-case-against-meadows-00112604\" target=\"_blank\">https://www.politico.com/news/2023/08/23/criminal-motivations-georgia-prosecutors-detail-racketeering-case-against-meadows-00112604</a>"
      ],
      "text/plain": [
       "<IPython.core.display.HTML object>"
      ]
     },
     "metadata": {},
     "output_type": "display_data"
    },
    {
     "data": {
      "text/html": [
       "<a href=\"https://www.politico.com/staff/kyle-cheney\" target=\"_blank\">https://www.politico.com/staff/kyle-cheney</a>"
      ],
      "text/plain": [
       "<IPython.core.display.HTML object>"
      ]
     },
     "metadata": {},
     "output_type": "display_data"
    },
    {
     "data": {
      "text/html": [
       "<a href=\"https://www.politico.com/news/2023/08/23/georgia-trump-racketeering-case-state-court-00112480\" target=\"_blank\">https://www.politico.com/news/2023/08/23/georgia-trump-racketeering-case-state-court-00112480</a>"
      ],
      "text/plain": [
       "<IPython.core.display.HTML object>"
      ]
     },
     "metadata": {},
     "output_type": "display_data"
    },
    {
     "data": {
      "text/html": [
       "<a href=\"https://www.politico.com/news/2023/08/23/georgia-trump-racketeering-case-state-court-00112480\" target=\"_blank\">https://www.politico.com/news/2023/08/23/georgia-trump-racketeering-case-state-court-00112480</a>"
      ],
      "text/plain": [
       "<IPython.core.display.HTML object>"
      ]
     },
     "metadata": {},
     "output_type": "display_data"
    },
    {
     "data": {
      "text/html": [
       "<a href=\"https://www.politico.com/staff/kyle-cheney\" target=\"_blank\">https://www.politico.com/staff/kyle-cheney</a>"
      ],
      "text/plain": [
       "<IPython.core.display.HTML object>"
      ]
     },
     "metadata": {},
     "output_type": "display_data"
    },
    {
     "data": {
      "text/html": [
       "<a href=\"https://www.politico.com/staff/joshgerstein\" target=\"_blank\">https://www.politico.com/staff/joshgerstein</a>"
      ],
      "text/plain": [
       "<IPython.core.display.HTML object>"
      ]
     },
     "metadata": {},
     "output_type": "display_data"
    },
    {
     "data": {
      "text/html": [
       "<a href=\"https://www.politico.com/news/2023/08/22/d-c-attorney-general-is-probing-leonard-leos-network-00112331\" target=\"_blank\">https://www.politico.com/news/2023/08/22/d-c-attorney-general-is-probing-leonard-leos-network-00112331</a>"
      ],
      "text/plain": [
       "<IPython.core.display.HTML object>"
      ]
     },
     "metadata": {},
     "output_type": "display_data"
    },
    {
     "data": {
      "text/html": [
       "<a href=\"https://www.politico.com/news/2023/08/22/d-c-attorney-general-is-probing-leonard-leos-network-00112331\" target=\"_blank\">https://www.politico.com/news/2023/08/22/d-c-attorney-general-is-probing-leonard-leos-network-00112331</a>"
      ],
      "text/plain": [
       "<IPython.core.display.HTML object>"
      ]
     },
     "metadata": {},
     "output_type": "display_data"
    },
    {
     "data": {
      "text/html": [
       "<a href=\"https://www.politico.com/staff/heidi-przybyla\" target=\"_blank\">https://www.politico.com/staff/heidi-przybyla</a>"
      ],
      "text/plain": [
       "<IPython.core.display.HTML object>"
      ]
     },
     "metadata": {},
     "output_type": "display_data"
    },
    {
     "data": {
      "text/html": [
       "<a href=\"https://www.politico.com/news/2023/08/22/whistleblower-to-doj-youve-left-the-door-open-for-more-fraud-00112151\" target=\"_blank\">https://www.politico.com/news/2023/08/22/whistleblower-to-doj-youve-left-the-door-open-for-more-fraud-00112151</a>"
      ],
      "text/plain": [
       "<IPython.core.display.HTML object>"
      ]
     },
     "metadata": {},
     "output_type": "display_data"
    },
    {
     "data": {
      "text/html": [
       "<a href=\"https://www.politico.com/news/2023/08/22/whistleblower-to-doj-youve-left-the-door-open-for-more-fraud-00112151\" target=\"_blank\">https://www.politico.com/news/2023/08/22/whistleblower-to-doj-youve-left-the-door-open-for-more-fraud-00112151</a>"
      ],
      "text/plain": [
       "<IPython.core.display.HTML object>"
      ]
     },
     "metadata": {},
     "output_type": "display_data"
    },
    {
     "data": {
      "text/html": [
       "<a href=\"https://www.politico.com/staff/hailey-fuchs\" target=\"_blank\">https://www.politico.com/staff/hailey-fuchs</a>"
      ],
      "text/plain": [
       "<IPython.core.display.HTML object>"
      ]
     },
     "metadata": {},
     "output_type": "display_data"
    },
    {
     "data": {
      "text/html": [
       "<a href=\"https://www.politico.com/congress\" target=\"_blank\">https://www.politico.com/congress</a>"
      ],
      "text/plain": [
       "<IPython.core.display.HTML object>"
      ]
     },
     "metadata": {},
     "output_type": "display_data"
    },
    {
     "data": {
      "text/html": [
       "<a href=\"https://www.politico.com/news/2023/08/21/house-freedom-caucus-potential-shutdown-00112068\" target=\"_blank\">https://www.politico.com/news/2023/08/21/house-freedom-caucus-potential-shutdown-00112068</a>"
      ],
      "text/plain": [
       "<IPython.core.display.HTML object>"
      ]
     },
     "metadata": {},
     "output_type": "display_data"
    },
    {
     "data": {
      "text/html": [
       "<a href=\"https://www.politico.com/news/2023/08/21/house-freedom-caucus-potential-shutdown-00112068\" target=\"_blank\">https://www.politico.com/news/2023/08/21/house-freedom-caucus-potential-shutdown-00112068</a>"
      ],
      "text/plain": [
       "<IPython.core.display.HTML object>"
      ]
     },
     "metadata": {},
     "output_type": "display_data"
    },
    {
     "data": {
      "text/html": [
       "<a href=\"https://www.politico.com/staff/jordain-carney\" target=\"_blank\">https://www.politico.com/staff/jordain-carney</a>"
      ],
      "text/plain": [
       "<IPython.core.display.HTML object>"
      ]
     },
     "metadata": {},
     "output_type": "display_data"
    },
    {
     "data": {
      "text/html": [
       "<a href=\"https://www.politico.eu/article/senator-ted-cruz-slams-us-agency-collusion-eu-tech-rules-dsa/\" target=\"_blank\">https://www.politico.eu/article/senator-ted-cruz-slams-us-agency-collusion-eu-tech-rules-dsa/</a>"
      ],
      "text/plain": [
       "<IPython.core.display.HTML object>"
      ]
     },
     "metadata": {},
     "output_type": "display_data"
    },
    {
     "data": {
      "text/html": [
       "<a href=\"https://www.politico.eu/article/senator-ted-cruz-slams-us-agency-collusion-eu-tech-rules-dsa/\" target=\"_blank\">https://www.politico.eu/article/senator-ted-cruz-slams-us-agency-collusion-eu-tech-rules-dsa/</a>"
      ],
      "text/plain": [
       "<IPython.core.display.HTML object>"
      ]
     },
     "metadata": {},
     "output_type": "display_data"
    },
    {
     "data": {
      "text/html": [
       "<a href=\"https://www.politico.com/news/2023/08/19/military-families-tuberville-00111846\" target=\"_blank\">https://www.politico.com/news/2023/08/19/military-families-tuberville-00111846</a>"
      ],
      "text/plain": [
       "<IPython.core.display.HTML object>"
      ]
     },
     "metadata": {},
     "output_type": "display_data"
    },
    {
     "data": {
      "text/html": [
       "<a href=\"https://www.politico.com/news/2023/08/19/military-families-tuberville-00111846\" target=\"_blank\">https://www.politico.com/news/2023/08/19/military-families-tuberville-00111846</a>"
      ],
      "text/plain": [
       "<IPython.core.display.HTML object>"
      ]
     },
     "metadata": {},
     "output_type": "display_data"
    },
    {
     "data": {
      "text/html": [
       "<a href=\"https://www.politico.com/staff/lara-seligman\" target=\"_blank\">https://www.politico.com/staff/lara-seligman</a>"
      ],
      "text/plain": [
       "<IPython.core.display.HTML object>"
      ]
     },
     "metadata": {},
     "output_type": "display_data"
    },
    {
     "data": {
      "text/html": [
       "<a href=\"https://www.politico.com/staff/connor-obrien\" target=\"_blank\">https://www.politico.com/staff/connor-obrien</a>"
      ],
      "text/plain": [
       "<IPython.core.display.HTML object>"
      ]
     },
     "metadata": {},
     "output_type": "display_data"
    },
    {
     "data": {
      "text/html": [
       "<a href=\"https://www.politico.com/news/2023/08/16/inflation-reduction-act-dems-economy-schumer-manchin-00111545\" target=\"_blank\">https://www.politico.com/news/2023/08/16/inflation-reduction-act-dems-economy-schumer-manchin-00111545</a>"
      ],
      "text/plain": [
       "<IPython.core.display.HTML object>"
      ]
     },
     "metadata": {},
     "output_type": "display_data"
    },
    {
     "data": {
      "text/html": [
       "<a href=\"https://www.politico.com/news/2023/08/16/inflation-reduction-act-dems-economy-schumer-manchin-00111545\" target=\"_blank\">https://www.politico.com/news/2023/08/16/inflation-reduction-act-dems-economy-schumer-manchin-00111545</a>"
      ],
      "text/plain": [
       "<IPython.core.display.HTML object>"
      ]
     },
     "metadata": {},
     "output_type": "display_data"
    },
    {
     "data": {
      "text/html": [
       "<a href=\"https://www.politico.com/staff/burgess-everett\" target=\"_blank\">https://www.politico.com/staff/burgess-everett</a>"
      ],
      "text/plain": [
       "<IPython.core.display.HTML object>"
      ]
     },
     "metadata": {},
     "output_type": "display_data"
    },
    {
     "data": {
      "text/html": [
       "<a href=\"https://www.politico.com/white-house\" target=\"_blank\">https://www.politico.com/white-house</a>"
      ],
      "text/plain": [
       "<IPython.core.display.HTML object>"
      ]
     },
     "metadata": {},
     "output_type": "display_data"
    },
    {
     "data": {
      "text/html": [
       "<a href=\"https://www.politico.com/news/2023/08/21/kamala-harris-second-act-00111913\" target=\"_blank\">https://www.politico.com/news/2023/08/21/kamala-harris-second-act-00111913</a>"
      ],
      "text/plain": [
       "<IPython.core.display.HTML object>"
      ]
     },
     "metadata": {},
     "output_type": "display_data"
    },
    {
     "data": {
      "text/html": [
       "<a href=\"https://www.politico.com/news/2023/08/21/kamala-harris-second-act-00111913\" target=\"_blank\">https://www.politico.com/news/2023/08/21/kamala-harris-second-act-00111913</a>"
      ],
      "text/plain": [
       "<IPython.core.display.HTML object>"
      ]
     },
     "metadata": {},
     "output_type": "display_data"
    },
    {
     "data": {
      "text/html": [
       "<a href=\"https://www.politico.com/staff/eugene-daniels\" target=\"_blank\">https://www.politico.com/staff/eugene-daniels</a>"
      ],
      "text/plain": [
       "<IPython.core.display.HTML object>"
      ]
     },
     "metadata": {},
     "output_type": "display_data"
    },
    {
     "data": {
      "text/html": [
       "<a href=\"https://www.politico.com/news/2023/08/22/biden-new-student-loan-repayment-plan-00112195\" target=\"_blank\">https://www.politico.com/news/2023/08/22/biden-new-student-loan-repayment-plan-00112195</a>"
      ],
      "text/plain": [
       "<IPython.core.display.HTML object>"
      ]
     },
     "metadata": {},
     "output_type": "display_data"
    },
    {
     "data": {
      "text/html": [
       "<a href=\"https://www.politico.com/news/2023/08/22/biden-new-student-loan-repayment-plan-00112195\" target=\"_blank\">https://www.politico.com/news/2023/08/22/biden-new-student-loan-repayment-plan-00112195</a>"
      ],
      "text/plain": [
       "<IPython.core.display.HTML object>"
      ]
     },
     "metadata": {},
     "output_type": "display_data"
    },
    {
     "data": {
      "text/html": [
       "<a href=\"https://www.politico.com/staff/michael-stratford\" target=\"_blank\">https://www.politico.com/staff/michael-stratford</a>"
      ],
      "text/plain": [
       "<IPython.core.display.HTML object>"
      ]
     },
     "metadata": {},
     "output_type": "display_data"
    },
    {
     "data": {
      "text/html": [
       "<a href=\"https://www.politico.com/news/2023/08/22/biden-taps-siskel-white-house-counsel-00112138\" target=\"_blank\">https://www.politico.com/news/2023/08/22/biden-taps-siskel-white-house-counsel-00112138</a>"
      ],
      "text/plain": [
       "<IPython.core.display.HTML object>"
      ]
     },
     "metadata": {},
     "output_type": "display_data"
    },
    {
     "data": {
      "text/html": [
       "<a href=\"https://www.politico.com/news/2023/08/22/biden-taps-siskel-white-house-counsel-00112138\" target=\"_blank\">https://www.politico.com/news/2023/08/22/biden-taps-siskel-white-house-counsel-00112138</a>"
      ],
      "text/plain": [
       "<IPython.core.display.HTML object>"
      ]
     },
     "metadata": {},
     "output_type": "display_data"
    },
    {
     "data": {
      "text/html": [
       "<a href=\"https://www.politico.com/staff/shia-kapos\" target=\"_blank\">https://www.politico.com/staff/shia-kapos</a>"
      ],
      "text/plain": [
       "<IPython.core.display.HTML object>"
      ]
     },
     "metadata": {},
     "output_type": "display_data"
    },
    {
     "data": {
      "text/html": [
       "<a href=\"https://www.politico.com/news/2023/08/21/biden-maui-wildfires-recovery-00112183\" target=\"_blank\">https://www.politico.com/news/2023/08/21/biden-maui-wildfires-recovery-00112183</a>"
      ],
      "text/plain": [
       "<IPython.core.display.HTML object>"
      ]
     },
     "metadata": {},
     "output_type": "display_data"
    },
    {
     "data": {
      "text/html": [
       "<a href=\"https://www.politico.com/news/2023/08/21/biden-maui-wildfires-recovery-00112183\" target=\"_blank\">https://www.politico.com/news/2023/08/21/biden-maui-wildfires-recovery-00112183</a>"
      ],
      "text/plain": [
       "<IPython.core.display.HTML object>"
      ]
     },
     "metadata": {},
     "output_type": "display_data"
    },
    {
     "data": {
      "text/html": [
       "<a href=\"https://www.politico.com/staff/kelly-garrity\" target=\"_blank\">https://www.politico.com/staff/kelly-garrity</a>"
      ],
      "text/plain": [
       "<IPython.core.display.HTML object>"
      ]
     },
     "metadata": {},
     "output_type": "display_data"
    },
    {
     "data": {
      "text/html": [
       "<a href=\"https://www.politico.com/news/california\" target=\"_blank\">https://www.politico.com/news/california</a>"
      ],
      "text/plain": [
       "<IPython.core.display.HTML object>"
      ]
     },
     "metadata": {},
     "output_type": "display_data"
    },
    {
     "data": {
      "text/html": [
       "<a href=\"https://www.politico.com/news/2023/08/23/gavin-newsom-autonomous-vehicles-00112358\" target=\"_blank\">https://www.politico.com/news/2023/08/23/gavin-newsom-autonomous-vehicles-00112358</a>"
      ],
      "text/plain": [
       "<IPython.core.display.HTML object>"
      ]
     },
     "metadata": {},
     "output_type": "display_data"
    },
    {
     "data": {
      "text/html": [
       "<a href=\"https://www.politico.com/news/2023/08/23/gavin-newsom-autonomous-vehicles-00112358\" target=\"_blank\">https://www.politico.com/news/2023/08/23/gavin-newsom-autonomous-vehicles-00112358</a>"
      ],
      "text/plain": [
       "<IPython.core.display.HTML object>"
      ]
     },
     "metadata": {},
     "output_type": "display_data"
    },
    {
     "data": {
      "text/html": [
       "<a href=\"https://www.politico.com/staff/jeremy-b-white\" target=\"_blank\">https://www.politico.com/staff/jeremy-b-white</a>"
      ],
      "text/plain": [
       "<IPython.core.display.HTML object>"
      ]
     },
     "metadata": {},
     "output_type": "display_data"
    },
    {
     "data": {
      "text/html": [
       "<a href=\"https://www.politico.com/news/2023/08/23/bass-backed-lapd-pay-hike-passes-despite-flack-from-progressives-00112561\" target=\"_blank\">https://www.politico.com/news/2023/08/23/bass-backed-lapd-pay-hike-passes-despite-flack-from-progressives-00112561</a>"
      ],
      "text/plain": [
       "<IPython.core.display.HTML object>"
      ]
     },
     "metadata": {},
     "output_type": "display_data"
    },
    {
     "data": {
      "text/html": [
       "<a href=\"https://www.politico.com/news/2023/08/23/bass-backed-lapd-pay-hike-passes-despite-flack-from-progressives-00112561\" target=\"_blank\">https://www.politico.com/news/2023/08/23/bass-backed-lapd-pay-hike-passes-despite-flack-from-progressives-00112561</a>"
      ],
      "text/plain": [
       "<IPython.core.display.HTML object>"
      ]
     },
     "metadata": {},
     "output_type": "display_data"
    },
    {
     "data": {
      "text/html": [
       "<a href=\"https://www.politico.com/staff/melanie-mason\" target=\"_blank\">https://www.politico.com/staff/melanie-mason</a>"
      ],
      "text/plain": [
       "<IPython.core.display.HTML object>"
      ]
     },
     "metadata": {},
     "output_type": "display_data"
    },
    {
     "data": {
      "text/html": [
       "<a href=\"https://www.politico.com/news/2023/08/21/gop-school-boards-california-00112084\" target=\"_blank\">https://www.politico.com/news/2023/08/21/gop-school-boards-california-00112084</a>"
      ],
      "text/plain": [
       "<IPython.core.display.HTML object>"
      ]
     },
     "metadata": {},
     "output_type": "display_data"
    },
    {
     "data": {
      "text/html": [
       "<a href=\"https://www.politico.com/news/2023/08/21/gop-school-boards-california-00112084\" target=\"_blank\">https://www.politico.com/news/2023/08/21/gop-school-boards-california-00112084</a>"
      ],
      "text/plain": [
       "<IPython.core.display.HTML object>"
      ]
     },
     "metadata": {},
     "output_type": "display_data"
    },
    {
     "data": {
      "text/html": [
       "<a href=\"https://www.politico.com/staff/blake-jones\" target=\"_blank\">https://www.politico.com/staff/blake-jones</a>"
      ],
      "text/plain": [
       "<IPython.core.display.HTML object>"
      ]
     },
     "metadata": {},
     "output_type": "display_data"
    },
    {
     "data": {
      "text/html": [
       "<a href=\"https://www.politico.com/news/2023/08/21/california-hurriquake-shuts-down-lawmaking-00112110\" target=\"_blank\">https://www.politico.com/news/2023/08/21/california-hurriquake-shuts-down-lawmaking-00112110</a>"
      ],
      "text/plain": [
       "<IPython.core.display.HTML object>"
      ]
     },
     "metadata": {},
     "output_type": "display_data"
    },
    {
     "data": {
      "text/html": [
       "<a href=\"https://www.politico.com/news/2023/08/21/california-hurriquake-shuts-down-lawmaking-00112110\" target=\"_blank\">https://www.politico.com/news/2023/08/21/california-hurriquake-shuts-down-lawmaking-00112110</a>"
      ],
      "text/plain": [
       "<IPython.core.display.HTML object>"
      ]
     },
     "metadata": {},
     "output_type": "display_data"
    },
    {
     "data": {
      "text/html": [
       "<a href=\"https://www.politico.com/staff/rachel-bluth\" target=\"_blank\">https://www.politico.com/staff/rachel-bluth</a>"
      ],
      "text/plain": [
       "<IPython.core.display.HTML object>"
      ]
     },
     "metadata": {},
     "output_type": "display_data"
    },
    {
     "data": {
      "text/html": [
       "<a href=\"https://www.politico.com/news/foreign-affairs\" target=\"_blank\">https://www.politico.com/news/foreign-affairs</a>"
      ],
      "text/plain": [
       "<IPython.core.display.HTML object>"
      ]
     },
     "metadata": {},
     "output_type": "display_data"
    },
    {
     "data": {
      "text/html": [
       "<a href=\"https://www.politico.eu/article/wagner-reacts-oh-my-god-they-killed-yevgeny-you-bastards/\" target=\"_blank\">https://www.politico.eu/article/wagner-reacts-oh-my-god-they-killed-yevgeny-you-bastards/</a>"
      ],
      "text/plain": [
       "<IPython.core.display.HTML object>"
      ]
     },
     "metadata": {},
     "output_type": "display_data"
    },
    {
     "data": {
      "text/html": [
       "<a href=\"https://www.politico.eu/article/wagner-reacts-oh-my-god-they-killed-yevgeny-you-bastards/\" target=\"_blank\">https://www.politico.eu/article/wagner-reacts-oh-my-god-they-killed-yevgeny-you-bastards/</a>"
      ],
      "text/plain": [
       "<IPython.core.display.HTML object>"
      ]
     },
     "metadata": {},
     "output_type": "display_data"
    },
    {
     "data": {
      "text/html": [
       "<a href=\"https://www.politico.eu/article/ukraine-war-russia-crimea-casualties/\" target=\"_blank\">https://www.politico.eu/article/ukraine-war-russia-crimea-casualties/</a>"
      ],
      "text/plain": [
       "<IPython.core.display.HTML object>"
      ]
     },
     "metadata": {},
     "output_type": "display_data"
    },
    {
     "data": {
      "text/html": [
       "<a href=\"https://www.politico.eu/article/ukraine-war-russia-crimea-casualties/\" target=\"_blank\">https://www.politico.eu/article/ukraine-war-russia-crimea-casualties/</a>"
      ],
      "text/plain": [
       "<IPython.core.display.HTML object>"
      ]
     },
     "metadata": {},
     "output_type": "display_data"
    },
    {
     "data": {
      "text/html": [
       "<a href=\"https://www.politico.eu/article/india-modi-beats-putin-race-moon-south-pole-chandrayaan-mission/\" target=\"_blank\">https://www.politico.eu/article/india-modi-beats-putin-race-moon-south-pole-chandrayaan-mission/</a>"
      ],
      "text/plain": [
       "<IPython.core.display.HTML object>"
      ]
     },
     "metadata": {},
     "output_type": "display_data"
    },
    {
     "data": {
      "text/html": [
       "<a href=\"https://www.politico.eu/article/india-modi-beats-putin-race-moon-south-pole-chandrayaan-mission/\" target=\"_blank\">https://www.politico.eu/article/india-modi-beats-putin-race-moon-south-pole-chandrayaan-mission/</a>"
      ],
      "text/plain": [
       "<IPython.core.display.HTML object>"
      ]
     },
     "metadata": {},
     "output_type": "display_data"
    },
    {
     "data": {
      "text/html": [
       "<a href=\"https://www.politico.eu/article/germany-fascism-populism-europe-bjorn-hocke-immigration-elections-eu/\" target=\"_blank\">https://www.politico.eu/article/germany-fascism-populism-europe-bjorn-hocke-immigration-elections-eu/</a>"
      ],
      "text/plain": [
       "<IPython.core.display.HTML object>"
      ]
     },
     "metadata": {},
     "output_type": "display_data"
    },
    {
     "data": {
      "text/html": [
       "<a href=\"https://www.politico.eu/article/germany-fascism-populism-europe-bjorn-hocke-immigration-elections-eu/\" target=\"_blank\">https://www.politico.eu/article/germany-fascism-populism-europe-bjorn-hocke-immigration-elections-eu/</a>"
      ],
      "text/plain": [
       "<IPython.core.display.HTML object>"
      ]
     },
     "metadata": {},
     "output_type": "display_data"
    },
    {
     "data": {
      "text/html": [
       "<a href=\"https://www.politico.com/staff/matthew-karnitschnig\" target=\"_blank\">https://www.politico.com/staff/matthew-karnitschnig</a>"
      ],
      "text/plain": [
       "<IPython.core.display.HTML object>"
      ]
     },
     "metadata": {},
     "output_type": "display_data"
    },
    {
     "data": {
      "text/html": [
       "<a href=\"https://www.politico.com/health-care\" target=\"_blank\">https://www.politico.com/health-care</a>"
      ],
      "text/plain": [
       "<IPython.core.display.HTML object>"
      ]
     },
     "metadata": {},
     "output_type": "display_data"
    },
    {
     "data": {
      "text/html": [
       "<a href=\"https://www.politico.com/news/2023/08/21/pharmacy-covid-vaccine-uninsured-00112147\" target=\"_blank\">https://www.politico.com/news/2023/08/21/pharmacy-covid-vaccine-uninsured-00112147</a>"
      ],
      "text/plain": [
       "<IPython.core.display.HTML object>"
      ]
     },
     "metadata": {},
     "output_type": "display_data"
    },
    {
     "data": {
      "text/html": [
       "<a href=\"https://www.politico.com/news/2023/08/21/pharmacy-covid-vaccine-uninsured-00112147\" target=\"_blank\">https://www.politico.com/news/2023/08/21/pharmacy-covid-vaccine-uninsured-00112147</a>"
      ],
      "text/plain": [
       "<IPython.core.display.HTML object>"
      ]
     },
     "metadata": {},
     "output_type": "display_data"
    },
    {
     "data": {
      "text/html": [
       "<a href=\"https://www.politico.com/staff/adam-cancryn\" target=\"_blank\">https://www.politico.com/staff/adam-cancryn</a>"
      ],
      "text/plain": [
       "<IPython.core.display.HTML object>"
      ]
     },
     "metadata": {},
     "output_type": "display_data"
    },
    {
     "data": {
      "text/html": [
       "<a href=\"https://www.politico.com/staff/david-lim\" target=\"_blank\">https://www.politico.com/staff/david-lim</a>"
      ],
      "text/plain": [
       "<IPython.core.display.HTML object>"
      ]
     },
     "metadata": {},
     "output_type": "display_data"
    },
    {
     "data": {
      "text/html": [
       "<a href=\"https://www.politico.com/news/2023/08/20/death-toll-summer-heat-00111442\" target=\"_blank\">https://www.politico.com/news/2023/08/20/death-toll-summer-heat-00111442</a>"
      ],
      "text/plain": [
       "<IPython.core.display.HTML object>"
      ]
     },
     "metadata": {},
     "output_type": "display_data"
    },
    {
     "data": {
      "text/html": [
       "<a href=\"https://www.politico.com/news/2023/08/20/death-toll-summer-heat-00111442\" target=\"_blank\">https://www.politico.com/news/2023/08/20/death-toll-summer-heat-00111442</a>"
      ],
      "text/plain": [
       "<IPython.core.display.HTML object>"
      ]
     },
     "metadata": {},
     "output_type": "display_data"
    },
    {
     "data": {
      "text/html": [
       "<a href=\"https://www.politico.com/news/2023/08/19/abortion-pill-ruling-environment-00111843\" target=\"_blank\">https://www.politico.com/news/2023/08/19/abortion-pill-ruling-environment-00111843</a>"
      ],
      "text/plain": [
       "<IPython.core.display.HTML object>"
      ]
     },
     "metadata": {},
     "output_type": "display_data"
    },
    {
     "data": {
      "text/html": [
       "<a href=\"https://www.politico.com/news/2023/08/19/abortion-pill-ruling-environment-00111843\" target=\"_blank\">https://www.politico.com/news/2023/08/19/abortion-pill-ruling-environment-00111843</a>"
      ],
      "text/plain": [
       "<IPython.core.display.HTML object>"
      ]
     },
     "metadata": {},
     "output_type": "display_data"
    },
    {
     "data": {
      "text/html": [
       "<a href=\"https://www.politico.com/staff/pamela-king\" target=\"_blank\">https://www.politico.com/staff/pamela-king</a>"
      ],
      "text/plain": [
       "<IPython.core.display.HTML object>"
      ]
     },
     "metadata": {},
     "output_type": "display_data"
    },
    {
     "data": {
      "text/html": [
       "<a href=\"https://www.politico.com/news/2023/08/20/florida-malaria-cases-baffle-experts-00111941\" target=\"_blank\">https://www.politico.com/news/2023/08/20/florida-malaria-cases-baffle-experts-00111941</a>"
      ],
      "text/plain": [
       "<IPython.core.display.HTML object>"
      ]
     },
     "metadata": {},
     "output_type": "display_data"
    },
    {
     "data": {
      "text/html": [
       "<a href=\"https://www.politico.com/news/2023/08/20/florida-malaria-cases-baffle-experts-00111941\" target=\"_blank\">https://www.politico.com/news/2023/08/20/florida-malaria-cases-baffle-experts-00111941</a>"
      ],
      "text/plain": [
       "<IPython.core.display.HTML object>"
      ]
     },
     "metadata": {},
     "output_type": "display_data"
    },
    {
     "data": {
      "text/html": [
       "<a href=\"https://www.politico.com/staff/mia-mccarthy\" target=\"_blank\">https://www.politico.com/staff/mia-mccarthy</a>"
      ],
      "text/plain": [
       "<IPython.core.display.HTML object>"
      ]
     },
     "metadata": {},
     "output_type": "display_data"
    },
    {
     "data": {
      "text/html": [
       "<a href=\"https://www.politico.com/politics\" target=\"_blank\">https://www.politico.com/politics</a>"
      ],
      "text/plain": [
       "<IPython.core.display.HTML object>"
      ]
     },
     "metadata": {},
     "output_type": "display_data"
    },
    {
     "data": {
      "text/html": [
       "<a href=\"https://www.politico.com/news/2023/08/23/gops-anti-woke-campaigns-have-voters-hitting-snooze-00112097\" target=\"_blank\">https://www.politico.com/news/2023/08/23/gops-anti-woke-campaigns-have-voters-hitting-snooze-00112097</a>"
      ],
      "text/plain": [
       "<IPython.core.display.HTML object>"
      ]
     },
     "metadata": {},
     "output_type": "display_data"
    },
    {
     "data": {
      "text/html": [
       "<a href=\"https://www.politico.com/news/2023/08/23/gops-anti-woke-campaigns-have-voters-hitting-snooze-00112097\" target=\"_blank\">https://www.politico.com/news/2023/08/23/gops-anti-woke-campaigns-have-voters-hitting-snooze-00112097</a>"
      ],
      "text/plain": [
       "<IPython.core.display.HTML object>"
      ]
     },
     "metadata": {},
     "output_type": "display_data"
    },
    {
     "data": {
      "text/html": [
       "<a href=\"https://www.politico.com/staff/jordan-wolman\" target=\"_blank\">https://www.politico.com/staff/jordan-wolman</a>"
      ],
      "text/plain": [
       "<IPython.core.display.HTML object>"
      ]
     },
     "metadata": {},
     "output_type": "display_data"
    },
    {
     "data": {
      "text/html": [
       "<a href=\"https://www.politico.com/news/2023/08/23/chatgpt-ai-chatbots-in-classrooms-00111662\" target=\"_blank\">https://www.politico.com/news/2023/08/23/chatgpt-ai-chatbots-in-classrooms-00111662</a>"
      ],
      "text/plain": [
       "<IPython.core.display.HTML object>"
      ]
     },
     "metadata": {},
     "output_type": "display_data"
    },
    {
     "data": {
      "text/html": [
       "<a href=\"https://www.politico.com/news/2023/08/23/chatgpt-ai-chatbots-in-classrooms-00111662\" target=\"_blank\">https://www.politico.com/news/2023/08/23/chatgpt-ai-chatbots-in-classrooms-00111662</a>"
      ],
      "text/plain": [
       "<IPython.core.display.HTML object>"
      ]
     },
     "metadata": {},
     "output_type": "display_data"
    },
    {
     "data": {
      "text/html": [
       "<a href=\"https://www.politico.com/staff/blake-jones\" target=\"_blank\">https://www.politico.com/staff/blake-jones</a>"
      ],
      "text/plain": [
       "<IPython.core.display.HTML object>"
      ]
     },
     "metadata": {},
     "output_type": "display_data"
    },
    {
     "data": {
      "text/html": [
       "<a href=\"https://www.politico.com/staff/madina-toure\" target=\"_blank\">https://www.politico.com/staff/madina-toure</a>"
      ],
      "text/plain": [
       "<IPython.core.display.HTML object>"
      ]
     },
     "metadata": {},
     "output_type": "display_data"
    },
    {
     "data": {
      "text/html": [
       "<a href=\"https://www.politico.com/staff/juan-johnny-perez\" target=\"_blank\">https://www.politico.com/staff/juan-johnny-perez</a>"
      ],
      "text/plain": [
       "<IPython.core.display.HTML object>"
      ]
     },
     "metadata": {},
     "output_type": "display_data"
    },
    {
     "data": {
      "text/html": [
       "<a href=\"https://www.politico.com/news/2023/08/23/mike-pence-jan-6-gop-debate-00112658\" target=\"_blank\">https://www.politico.com/news/2023/08/23/mike-pence-jan-6-gop-debate-00112658</a>"
      ],
      "text/plain": [
       "<IPython.core.display.HTML object>"
      ]
     },
     "metadata": {},
     "output_type": "display_data"
    },
    {
     "data": {
      "text/html": [
       "<a href=\"https://www.politico.com/news/2023/08/23/mike-pence-jan-6-gop-debate-00112658\" target=\"_blank\">https://www.politico.com/news/2023/08/23/mike-pence-jan-6-gop-debate-00112658</a>"
      ],
      "text/plain": [
       "<IPython.core.display.HTML object>"
      ]
     },
     "metadata": {},
     "output_type": "display_data"
    },
    {
     "data": {
      "text/html": [
       "<a href=\"https://www.politico.com/staff/kierra-frazier\" target=\"_blank\">https://www.politico.com/staff/kierra-frazier</a>"
      ],
      "text/plain": [
       "<IPython.core.display.HTML object>"
      ]
     },
     "metadata": {},
     "output_type": "display_data"
    },
    {
     "data": {
      "text/html": [
       "<a href=\"https://www.politico.com/news/2023/08/22/text-for-pay-campaign-asa-hutchinson-00112298\" target=\"_blank\">https://www.politico.com/news/2023/08/22/text-for-pay-campaign-asa-hutchinson-00112298</a>"
      ],
      "text/plain": [
       "<IPython.core.display.HTML object>"
      ]
     },
     "metadata": {},
     "output_type": "display_data"
    },
    {
     "data": {
      "text/html": [
       "<a href=\"https://www.politico.com/news/2023/08/22/text-for-pay-campaign-asa-hutchinson-00112298\" target=\"_blank\">https://www.politico.com/news/2023/08/22/text-for-pay-campaign-asa-hutchinson-00112298</a>"
      ],
      "text/plain": [
       "<IPython.core.display.HTML object>"
      ]
     },
     "metadata": {},
     "output_type": "display_data"
    },
    {
     "data": {
      "text/html": [
       "<a href=\"https://www.politico.com/staff/natalie-allison\" target=\"_blank\">https://www.politico.com/staff/natalie-allison</a>"
      ],
      "text/plain": [
       "<IPython.core.display.HTML object>"
      ]
     },
     "metadata": {},
     "output_type": "display_data"
    },
    {
     "data": {
      "text/html": [
       "<a href=\"https://www.politico.com/news/2023/08/22/republican-debate-2024-participants-00112282\" target=\"_blank\">https://www.politico.com/news/2023/08/22/republican-debate-2024-participants-00112282</a>"
      ],
      "text/plain": [
       "<IPython.core.display.HTML object>"
      ]
     },
     "metadata": {},
     "output_type": "display_data"
    },
    {
     "data": {
      "text/html": [
       "<a href=\"https://www.politico.com/news/2023/08/22/republican-debate-2024-participants-00112282\" target=\"_blank\">https://www.politico.com/news/2023/08/22/republican-debate-2024-participants-00112282</a>"
      ],
      "text/plain": [
       "<IPython.core.display.HTML object>"
      ]
     },
     "metadata": {},
     "output_type": "display_data"
    },
    {
     "data": {
      "text/html": [
       "<a href=\"https://www.politico.com/staff/kierra-frazier\" target=\"_blank\">https://www.politico.com/staff/kierra-frazier</a>"
      ],
      "text/plain": [
       "<IPython.core.display.HTML object>"
      ]
     },
     "metadata": {},
     "output_type": "display_data"
    },
    {
     "data": {
      "text/html": [
       "<a href=\"https://www.politico.com/staff/rachael-bade\" target=\"_blank\">https://www.politico.com/staff/rachael-bade</a>"
      ],
      "text/plain": [
       "<IPython.core.display.HTML object>"
      ]
     },
     "metadata": {},
     "output_type": "display_data"
    },
    {
     "data": {
      "text/html": [
       "<a href=\"https://www.politico.com/staff/steven-shepard\" target=\"_blank\">https://www.politico.com/staff/steven-shepard</a>"
      ],
      "text/plain": [
       "<IPython.core.display.HTML object>"
      ]
     },
     "metadata": {},
     "output_type": "display_data"
    },
    {
     "data": {
      "text/html": [
       "<a href=\"https://www.politico.com/staff/kelly-garrity\" target=\"_blank\">https://www.politico.com/staff/kelly-garrity</a>"
      ],
      "text/plain": [
       "<IPython.core.display.HTML object>"
      ]
     },
     "metadata": {},
     "output_type": "display_data"
    },
    {
     "data": {
      "text/html": [
       "<a href=\"https://www.politico.com/news/2023/08/22/ronna-mcdaniel-trump-gop-debate-00112365\" target=\"_blank\">https://www.politico.com/news/2023/08/22/ronna-mcdaniel-trump-gop-debate-00112365</a>"
      ],
      "text/plain": [
       "<IPython.core.display.HTML object>"
      ]
     },
     "metadata": {},
     "output_type": "display_data"
    },
    {
     "data": {
      "text/html": [
       "<a href=\"https://www.politico.com/news/2023/08/22/ronna-mcdaniel-trump-gop-debate-00112365\" target=\"_blank\">https://www.politico.com/news/2023/08/22/ronna-mcdaniel-trump-gop-debate-00112365</a>"
      ],
      "text/plain": [
       "<IPython.core.display.HTML object>"
      ]
     },
     "metadata": {},
     "output_type": "display_data"
    },
    {
     "data": {
      "text/html": [
       "<a href=\"https://www.politico.com/staff/kelly-garrity\" target=\"_blank\">https://www.politico.com/staff/kelly-garrity</a>"
      ],
      "text/plain": [
       "<IPython.core.display.HTML object>"
      ]
     },
     "metadata": {},
     "output_type": "display_data"
    },
    {
     "data": {
      "text/html": [
       "<a href=\"https://www.politico.com/staff/rachael-bade\" target=\"_blank\">https://www.politico.com/staff/rachael-bade</a>"
      ],
      "text/plain": [
       "<IPython.core.display.HTML object>"
      ]
     },
     "metadata": {},
     "output_type": "display_data"
    },
    {
     "data": {
      "text/html": [
       "<a href=\"https://www.politico.com/news/2023/08/22/trump-indictment-false-electors-00112229\" target=\"_blank\">https://www.politico.com/news/2023/08/22/trump-indictment-false-electors-00112229</a>"
      ],
      "text/plain": [
       "<IPython.core.display.HTML object>"
      ]
     },
     "metadata": {},
     "output_type": "display_data"
    },
    {
     "data": {
      "text/html": [
       "<a href=\"https://www.politico.com/news/2023/08/22/trump-indictment-false-electors-00112229\" target=\"_blank\">https://www.politico.com/news/2023/08/22/trump-indictment-false-electors-00112229</a>"
      ],
      "text/plain": [
       "<IPython.core.display.HTML object>"
      ]
     },
     "metadata": {},
     "output_type": "display_data"
    },
    {
     "data": {
      "text/html": [
       "<a href=\"https://www.politico.com/staff/kyle-cheney\" target=\"_blank\">https://www.politico.com/staff/kyle-cheney</a>"
      ],
      "text/plain": [
       "<IPython.core.display.HTML object>"
      ]
     },
     "metadata": {},
     "output_type": "display_data"
    },
    {
     "data": {
      "text/html": [
       "<a href=\"https://www.politico.com/news/2023/08/22/sept-11-families-emotional-plea-biden-00112339\" target=\"_blank\">https://www.politico.com/news/2023/08/22/sept-11-families-emotional-plea-biden-00112339</a>"
      ],
      "text/plain": [
       "<IPython.core.display.HTML object>"
      ]
     },
     "metadata": {},
     "output_type": "display_data"
    },
    {
     "data": {
      "text/html": [
       "<a href=\"https://www.politico.com/news/2023/08/22/sept-11-families-emotional-plea-biden-00112339\" target=\"_blank\">https://www.politico.com/news/2023/08/22/sept-11-families-emotional-plea-biden-00112339</a>"
      ],
      "text/plain": [
       "<IPython.core.display.HTML object>"
      ]
     },
     "metadata": {},
     "output_type": "display_data"
    },
    {
     "data": {
      "text/html": [
       "<a href=\"https://www.politico.com/staff/eli-stokols\" target=\"_blank\">https://www.politico.com/staff/eli-stokols</a>"
      ],
      "text/plain": [
       "<IPython.core.display.HTML object>"
      ]
     },
     "metadata": {},
     "output_type": "display_data"
    },
    {
     "data": {
      "text/html": [
       "<a href=\"https://www.politico.com/staff/jennifer-haberkorn\" target=\"_blank\">https://www.politico.com/staff/jennifer-haberkorn</a>"
      ],
      "text/plain": [
       "<IPython.core.display.HTML object>"
      ]
     },
     "metadata": {},
     "output_type": "display_data"
    },
    {
     "data": {
      "text/html": [
       "<a href=\"https://www.politico.com/news/2023/08/21/trumps-bond-georgia-election-case-00112122\" target=\"_blank\">https://www.politico.com/news/2023/08/21/trumps-bond-georgia-election-case-00112122</a>"
      ],
      "text/plain": [
       "<IPython.core.display.HTML object>"
      ]
     },
     "metadata": {},
     "output_type": "display_data"
    },
    {
     "data": {
      "text/html": [
       "<a href=\"https://www.politico.com/news/2023/08/21/trumps-bond-georgia-election-case-00112122\" target=\"_blank\">https://www.politico.com/news/2023/08/21/trumps-bond-georgia-election-case-00112122</a>"
      ],
      "text/plain": [
       "<IPython.core.display.HTML object>"
      ]
     },
     "metadata": {},
     "output_type": "display_data"
    },
    {
     "data": {
      "text/html": [
       "<a href=\"https://www.politico.com/staff/kyle-cheney\" target=\"_blank\">https://www.politico.com/staff/kyle-cheney</a>"
      ],
      "text/plain": [
       "<IPython.core.display.HTML object>"
      ]
     },
     "metadata": {},
     "output_type": "display_data"
    },
    {
     "data": {
      "text/html": [
       "<a href=\"https://www.politico.com/news/2023/08/22/child-care-facilities-congress-education-00111917\" target=\"_blank\">https://www.politico.com/news/2023/08/22/child-care-facilities-congress-education-00111917</a>"
      ],
      "text/plain": [
       "<IPython.core.display.HTML object>"
      ]
     },
     "metadata": {},
     "output_type": "display_data"
    },
    {
     "data": {
      "text/html": [
       "<a href=\"https://www.politico.com/news/2023/08/22/child-care-facilities-congress-education-00111917\" target=\"_blank\">https://www.politico.com/news/2023/08/22/child-care-facilities-congress-education-00111917</a>"
      ],
      "text/plain": [
       "<IPython.core.display.HTML object>"
      ]
     },
     "metadata": {},
     "output_type": "display_data"
    },
    {
     "data": {
      "text/html": [
       "<a href=\"https://www.politico.com/staff/mackenzie-wilkes\" target=\"_blank\">https://www.politico.com/staff/mackenzie-wilkes</a>"
      ],
      "text/plain": [
       "<IPython.core.display.HTML object>"
      ]
     },
     "metadata": {},
     "output_type": "display_data"
    },
    {
     "data": {
      "text/html": [
       "<a href=\"https://www.politico.com/news/2023/08/21/new-york-redistricting-2024-elections-00111914\" target=\"_blank\">https://www.politico.com/news/2023/08/21/new-york-redistricting-2024-elections-00111914</a>"
      ],
      "text/plain": [
       "<IPython.core.display.HTML object>"
      ]
     },
     "metadata": {},
     "output_type": "display_data"
    },
    {
     "data": {
      "text/html": [
       "<a href=\"https://www.politico.com/news/2023/08/21/new-york-redistricting-2024-elections-00111914\" target=\"_blank\">https://www.politico.com/news/2023/08/21/new-york-redistricting-2024-elections-00111914</a>"
      ],
      "text/plain": [
       "<IPython.core.display.HTML object>"
      ]
     },
     "metadata": {},
     "output_type": "display_data"
    },
    {
     "data": {
      "text/html": [
       "<a href=\"https://www.politico.com/staff/bill-mahoney\" target=\"_blank\">https://www.politico.com/staff/bill-mahoney</a>"
      ],
      "text/plain": [
       "<IPython.core.display.HTML object>"
      ]
     },
     "metadata": {},
     "output_type": "display_data"
    },
    {
     "data": {
      "text/html": [
       "<a href=\"https://www.politico.com/news/2023/08/21/universal-service-fund-broadband-00110255\" target=\"_blank\">https://www.politico.com/news/2023/08/21/universal-service-fund-broadband-00110255</a>"
      ],
      "text/plain": [
       "<IPython.core.display.HTML object>"
      ]
     },
     "metadata": {},
     "output_type": "display_data"
    },
    {
     "data": {
      "text/html": [
       "<a href=\"https://www.politico.com/news/2023/08/21/universal-service-fund-broadband-00110255\" target=\"_blank\">https://www.politico.com/news/2023/08/21/universal-service-fund-broadband-00110255</a>"
      ],
      "text/plain": [
       "<IPython.core.display.HTML object>"
      ]
     },
     "metadata": {},
     "output_type": "display_data"
    },
    {
     "data": {
      "text/html": [
       "<a href=\"https://www.politico.com/staff/john-hendel\" target=\"_blank\">https://www.politico.com/staff/john-hendel</a>"
      ],
      "text/plain": [
       "<IPython.core.display.HTML object>"
      ]
     },
     "metadata": {},
     "output_type": "display_data"
    },
    {
     "data": {
      "text/html": [
       "<a href=\"https://www.politico.com/news/2023/08/24/republican-debate-who-won-takeaways-00112691\" target=\"_blank\">https://www.politico.com/news/2023/08/24/republican-debate-who-won-takeaways-00112691</a>"
      ],
      "text/plain": [
       "<IPython.core.display.HTML object>"
      ]
     },
     "metadata": {},
     "output_type": "display_data"
    },
    {
     "data": {
      "text/html": [
       "<a href=\"https://www.politico.com/news/2023/08/24/republican-debate-who-won-takeaways-00112691\" target=\"_blank\">https://www.politico.com/news/2023/08/24/republican-debate-who-won-takeaways-00112691</a>"
      ],
      "text/plain": [
       "<IPython.core.display.HTML object>"
      ]
     },
     "metadata": {},
     "output_type": "display_data"
    },
    {
     "data": {
      "text/html": [
       "<a href=\"https://www.politico.com/news/2023/08/23/georgia-trump-racketeering-case-state-court-00112480\" target=\"_blank\">https://www.politico.com/news/2023/08/23/georgia-trump-racketeering-case-state-court-00112480</a>"
      ],
      "text/plain": [
       "<IPython.core.display.HTML object>"
      ]
     },
     "metadata": {},
     "output_type": "display_data"
    },
    {
     "data": {
      "text/html": [
       "<a href=\"https://www.politico.com/news/magazine/2023/08/24/republican-debate-body-language-00112711\" target=\"_blank\">https://www.politico.com/news/magazine/2023/08/24/republican-debate-body-language-00112711</a>"
      ],
      "text/plain": [
       "<IPython.core.display.HTML object>"
      ]
     },
     "metadata": {},
     "output_type": "display_data"
    },
    {
     "data": {
      "text/html": [
       "<a href=\"https://www.politico.com/news/2023/08/23/first-republican-debate-highlights-00112617\" target=\"_blank\">https://www.politico.com/news/2023/08/23/first-republican-debate-highlights-00112617</a>"
      ],
      "text/plain": [
       "<IPython.core.display.HTML object>"
      ]
     },
     "metadata": {},
     "output_type": "display_data"
    },
    {
     "data": {
      "text/html": [
       "<a href=\"https://www.politico.com/news/2023/08/23/disney-district-legal-fees-desantis-00112464\" target=\"_blank\">https://www.politico.com/news/2023/08/23/disney-district-legal-fees-desantis-00112464</a>"
      ],
      "text/plain": [
       "<IPython.core.display.HTML object>"
      ]
     },
     "metadata": {},
     "output_type": "display_data"
    },
    {
     "data": {
      "text/html": [
       "<a href=\"https://www.politico.com/video\" target=\"_blank\">https://www.politico.com/video</a>"
      ],
      "text/plain": [
       "<IPython.core.display.HTML object>"
      ]
     },
     "metadata": {},
     "output_type": "display_data"
    },
    {
     "data": {
      "text/html": [
       "<a href=\"https://www.politico.com/video/2023/08/21/biden-vows-to-rebuild-the-way-the-people-of-maui-want-it-built-1033904\" target=\"_blank\">https://www.politico.com/video/2023/08/21/biden-vows-to-rebuild-the-way-the-people-of-maui-want-it-built-1033904</a>"
      ],
      "text/plain": [
       "<IPython.core.display.HTML object>"
      ]
     },
     "metadata": {},
     "output_type": "display_data"
    },
    {
     "data": {
      "text/html": [
       "<a href=\"https://www.politico.com/video/2023/08/21/biden-vows-to-rebuild-the-way-the-people-of-maui-want-it-built-1033904\" target=\"_blank\">https://www.politico.com/video/2023/08/21/biden-vows-to-rebuild-the-way-the-people-of-maui-want-it-built-1033904</a>"
      ],
      "text/plain": [
       "<IPython.core.display.HTML object>"
      ]
     },
     "metadata": {},
     "output_type": "display_data"
    },
    {
     "data": {
      "text/html": [
       "<a href=\"https://www.politico.com/video/2023/08/21/hutchinson-rides-slingshot-at-iowa-state-fair-1033434\" target=\"_blank\">https://www.politico.com/video/2023/08/21/hutchinson-rides-slingshot-at-iowa-state-fair-1033434</a>"
      ],
      "text/plain": [
       "<IPython.core.display.HTML object>"
      ]
     },
     "metadata": {},
     "output_type": "display_data"
    },
    {
     "data": {
      "text/html": [
       "<a href=\"https://www.politico.com/video/2023/08/21/hutchinson-rides-slingshot-at-iowa-state-fair-1033434\" target=\"_blank\">https://www.politico.com/video/2023/08/21/hutchinson-rides-slingshot-at-iowa-state-fair-1033434</a>"
      ],
      "text/plain": [
       "<IPython.core.display.HTML object>"
      ]
     },
     "metadata": {},
     "output_type": "display_data"
    },
    {
     "data": {
      "text/html": [
       "<a href=\"https://www.politico.com/video/2023/08/19/i-dont-want-to-be-the-apple-of-vladimir-putins-eye-christie-breaks-with-gop-rivals-on-foreign-policy-1032677\" target=\"_blank\">https://www.politico.com/video/2023/08/19/i-dont-want-to-be-the-apple-of-vladimir-putins-eye-christie-breaks-with-gop-rivals-on-foreign-policy-1032677</a>"
      ],
      "text/plain": [
       "<IPython.core.display.HTML object>"
      ]
     },
     "metadata": {},
     "output_type": "display_data"
    },
    {
     "data": {
      "text/html": [
       "<a href=\"https://www.politico.com/video/2023/08/19/i-dont-want-to-be-the-apple-of-vladimir-putins-eye-christie-breaks-with-gop-rivals-on-foreign-policy-1032677\" target=\"_blank\">https://www.politico.com/video/2023/08/19/i-dont-want-to-be-the-apple-of-vladimir-putins-eye-christie-breaks-with-gop-rivals-on-foreign-policy-1032677</a>"
      ],
      "text/plain": [
       "<IPython.core.display.HTML object>"
      ]
     },
     "metadata": {},
     "output_type": "display_data"
    },
    {
     "data": {
      "text/html": [
       "<a href=\"https://www.politico.com/video/2023/08/20/listless-vessels-desantis-criticizes-maga-supporters-1032893\" target=\"_blank\">https://www.politico.com/video/2023/08/20/listless-vessels-desantis-criticizes-maga-supporters-1032893</a>"
      ],
      "text/plain": [
       "<IPython.core.display.HTML object>"
      ]
     },
     "metadata": {},
     "output_type": "display_data"
    },
    {
     "data": {
      "text/html": [
       "<a href=\"https://www.politico.com/video/2023/08/20/listless-vessels-desantis-criticizes-maga-supporters-1032893\" target=\"_blank\">https://www.politico.com/video/2023/08/20/listless-vessels-desantis-criticizes-maga-supporters-1032893</a>"
      ],
      "text/plain": [
       "<IPython.core.display.HTML object>"
      ]
     },
     "metadata": {},
     "output_type": "display_data"
    },
    {
     "data": {
      "text/html": [
       "<a href=\"https://www.politico.com/video/2023/08/21/officials-divided-over-federal-response-as-biden-heads-to-hawaii-1033495\" target=\"_blank\">https://www.politico.com/video/2023/08/21/officials-divided-over-federal-response-as-biden-heads-to-hawaii-1033495</a>"
      ],
      "text/plain": [
       "<IPython.core.display.HTML object>"
      ]
     },
     "metadata": {},
     "output_type": "display_data"
    },
    {
     "data": {
      "text/html": [
       "<a href=\"https://www.politico.com/video/2023/08/21/officials-divided-over-federal-response-as-biden-heads-to-hawaii-1033495\" target=\"_blank\">https://www.politico.com/video/2023/08/21/officials-divided-over-federal-response-as-biden-heads-to-hawaii-1033495</a>"
      ],
      "text/plain": [
       "<IPython.core.display.HTML object>"
      ]
     },
     "metadata": {},
     "output_type": "display_data"
    },
    {
     "data": {
      "text/html": [
       "<a href=\"https://www.politico.com/politics\" target=\"_blank\">https://www.politico.com/politics</a>"
      ],
      "text/plain": [
       "<IPython.core.display.HTML object>"
      ]
     },
     "metadata": {},
     "output_type": "display_data"
    },
    {
     "data": {
      "text/html": [
       "<a href=\"https://www.politico.com/news/2023/08/22/trump-witness-reversal-testimony-jack-smith-00112355\" target=\"_blank\">https://www.politico.com/news/2023/08/22/trump-witness-reversal-testimony-jack-smith-00112355</a>"
      ],
      "text/plain": [
       "<IPython.core.display.HTML object>"
      ]
     },
     "metadata": {},
     "output_type": "display_data"
    },
    {
     "data": {
      "text/html": [
       "<a href=\"https://www.politico.com/news/2023/08/22/trump-witness-reversal-testimony-jack-smith-00112355\" target=\"_blank\">https://www.politico.com/news/2023/08/22/trump-witness-reversal-testimony-jack-smith-00112355</a>"
      ],
      "text/plain": [
       "<IPython.core.display.HTML object>"
      ]
     },
     "metadata": {},
     "output_type": "display_data"
    },
    {
     "data": {
      "text/html": [
       "<a href=\"https://www.politico.com/news/magazine/2023/08/21/atlanta-center-stage-donald-trump-trial-00112032\" target=\"_blank\">https://www.politico.com/news/magazine/2023/08/21/atlanta-center-stage-donald-trump-trial-00112032</a>"
      ],
      "text/plain": [
       "<IPython.core.display.HTML object>"
      ]
     },
     "metadata": {},
     "output_type": "display_data"
    },
    {
     "data": {
      "text/html": [
       "<a href=\"https://www.politico.com/news/magazine/2023/08/21/atlanta-center-stage-donald-trump-trial-00112032\" target=\"_blank\">https://www.politico.com/news/magazine/2023/08/21/atlanta-center-stage-donald-trump-trial-00112032</a>"
      ],
      "text/plain": [
       "<IPython.core.display.HTML object>"
      ]
     },
     "metadata": {},
     "output_type": "display_data"
    },
    {
     "data": {
      "text/html": [
       "<a href=\"https://www.politico.com/news/magazine/2023/08/20/its-time-to-nationalize-ai-00111862\" target=\"_blank\">https://www.politico.com/news/magazine/2023/08/20/its-time-to-nationalize-ai-00111862</a>"
      ],
      "text/plain": [
       "<IPython.core.display.HTML object>"
      ]
     },
     "metadata": {},
     "output_type": "display_data"
    },
    {
     "data": {
      "text/html": [
       "<a href=\"https://www.politico.com/news/magazine/2023/08/20/its-time-to-nationalize-ai-00111862\" target=\"_blank\">https://www.politico.com/news/magazine/2023/08/20/its-time-to-nationalize-ai-00111862</a>"
      ],
      "text/plain": [
       "<IPython.core.display.HTML object>"
      ]
     },
     "metadata": {},
     "output_type": "display_data"
    },
    {
     "data": {
      "text/html": [
       "<a href=\"https://www.politico.com/news/2023/08/20/donald-trump-bill-cassidy-2024-race-00111993\" target=\"_blank\">https://www.politico.com/news/2023/08/20/donald-trump-bill-cassidy-2024-race-00111993</a>"
      ],
      "text/plain": [
       "<IPython.core.display.HTML object>"
      ]
     },
     "metadata": {},
     "output_type": "display_data"
    },
    {
     "data": {
      "text/html": [
       "<a href=\"https://www.politico.com/news/2023/08/20/donald-trump-bill-cassidy-2024-race-00111993\" target=\"_blank\">https://www.politico.com/news/2023/08/20/donald-trump-bill-cassidy-2024-race-00111993</a>"
      ],
      "text/plain": [
       "<IPython.core.display.HTML object>"
      ]
     },
     "metadata": {},
     "output_type": "display_data"
    },
    {
     "data": {
      "text/html": [
       "<a href=\"https://www.politico.com/news/2023/08/17/black-reparations-price-tag-california-00110137\" target=\"_blank\">https://www.politico.com/news/2023/08/17/black-reparations-price-tag-california-00110137</a>"
      ],
      "text/plain": [
       "<IPython.core.display.HTML object>"
      ]
     },
     "metadata": {},
     "output_type": "display_data"
    },
    {
     "data": {
      "text/html": [
       "<a href=\"https://www.politico.com/news/2023/08/17/black-reparations-price-tag-california-00110137\" target=\"_blank\">https://www.politico.com/news/2023/08/17/black-reparations-price-tag-california-00110137</a>"
      ],
      "text/plain": [
       "<IPython.core.display.HTML object>"
      ]
     },
     "metadata": {},
     "output_type": "display_data"
    },
    {
     "data": {
      "text/html": [
       "<a href=\"https://www.politico.com/news-tips\" target=\"_blank\">https://www.politico.com/news-tips</a>"
      ],
      "text/plain": [
       "<IPython.core.display.HTML object>"
      ]
     },
     "metadata": {},
     "output_type": "display_data"
    },
    {
     "data": {
      "text/html": [
       "<a href=\"https://www.politico.com/news-tips\" target=\"_blank\">https://www.politico.com/news-tips</a>"
      ],
      "text/plain": [
       "<IPython.core.display.HTML object>"
      ]
     },
     "metadata": {},
     "output_type": "display_data"
    },
    {
     "data": {
      "text/html": [
       "<a href=\"https://www.politico.com/news-tips\" target=\"_blank\">https://www.politico.com/news-tips</a>"
      ],
      "text/plain": [
       "<IPython.core.display.HTML object>"
      ]
     },
     "metadata": {},
     "output_type": "display_data"
    },
    {
     "data": {
      "text/html": [
       "<a href=\"https://www.politicopro.com\" target=\"_blank\">https://www.politicopro.com</a>"
      ],
      "text/plain": [
       "<IPython.core.display.HTML object>"
      ]
     },
     "metadata": {},
     "output_type": "display_data"
    },
    {
     "data": {
      "text/html": [
       "<a href=\"https://www.politicopro.com\" target=\"_blank\">https://www.politicopro.com</a>"
      ],
      "text/plain": [
       "<IPython.core.display.HTML object>"
      ]
     },
     "metadata": {},
     "output_type": "display_data"
    },
    {
     "data": {
      "text/html": [
       "<a href=\"https://www.politico.com/about-us\" target=\"_blank\">https://www.politico.com/about-us</a>"
      ],
      "text/plain": [
       "<IPython.core.display.HTML object>"
      ]
     },
     "metadata": {},
     "output_type": "display_data"
    },
    {
     "data": {
      "text/html": [
       "<a href=\"https://www.politico.com/advertising\" target=\"_blank\">https://www.politico.com/advertising</a>"
      ],
      "text/plain": [
       "<IPython.core.display.HTML object>"
      ]
     },
     "metadata": {},
     "output_type": "display_data"
    },
    {
     "data": {
      "text/html": [
       "<a href=\"https://www.politico.com/subscribe/breaking-news-alerts\" target=\"_blank\">https://www.politico.com/subscribe/breaking-news-alerts</a>"
      ],
      "text/plain": [
       "<IPython.core.display.HTML object>"
      ]
     },
     "metadata": {},
     "output_type": "display_data"
    },
    {
     "data": {
      "text/html": [
       "<a href=\"https://www.politico.com/careers\" target=\"_blank\">https://www.politico.com/careers</a>"
      ],
      "text/plain": [
       "<IPython.core.display.HTML object>"
      ]
     },
     "metadata": {},
     "output_type": "display_data"
    },
    {
     "data": {
      "text/html": [
       "<a href=\"https://www.politico.com/payment\" target=\"_blank\">https://www.politico.com/payment</a>"
      ],
      "text/plain": [
       "<IPython.core.display.HTML object>"
      ]
     },
     "metadata": {},
     "output_type": "display_data"
    },
    {
     "data": {
      "text/html": [
       "<a href=\"http://edition.pagesuite-professional.co.uk/Launch.aspx?bypass=true&PBID=74262970-aa07-44b3-80c8-21fa8a8ac376\" target=\"_blank\">http://edition.pagesuite-professional.co.uk/Launch.aspx?bypass=true&PBID=74262970-aa07-44b3-80c8-21fa8a8ac376</a>"
      ],
      "text/plain": [
       "<IPython.core.display.HTML object>"
      ]
     },
     "metadata": {},
     "output_type": "display_data"
    },
    {
     "data": {
      "text/html": [
       "<a href=\"https://www.politico.com/faq\" target=\"_blank\">https://www.politico.com/faq</a>"
      ],
      "text/plain": [
       "<IPython.core.display.HTML object>"
      ]
     },
     "metadata": {},
     "output_type": "display_data"
    },
    {
     "data": {
      "text/html": [
       "<a href=\"https://www.politico.com/feedback\" target=\"_blank\">https://www.politico.com/feedback</a>"
      ],
      "text/plain": [
       "<IPython.core.display.HTML object>"
      ]
     },
     "metadata": {},
     "output_type": "display_data"
    },
    {
     "data": {
      "text/html": [
       "<a href=\"https://www.politico.com/politics\" target=\"_blank\">https://www.politico.com/politics</a>"
      ],
      "text/plain": [
       "<IPython.core.display.HTML object>"
      ]
     },
     "metadata": {},
     "output_type": "display_data"
    },
    {
     "data": {
      "text/html": [
       "<a href=\"https://www.politico.com/gallery\" target=\"_blank\">https://www.politico.com/gallery</a>"
      ],
      "text/plain": [
       "<IPython.core.display.HTML object>"
      ]
     },
     "metadata": {},
     "output_type": "display_data"
    },
    {
     "data": {
      "text/html": [
       "<a href=\"http://www.powerjobs.com/\" target=\"_blank\">http://www.powerjobs.com/</a>"
      ],
      "text/plain": [
       "<IPython.core.display.HTML object>"
      ]
     },
     "metadata": {},
     "output_type": "display_data"
    },
    {
     "data": {
      "text/html": [
       "<a href=\"https://www.politico.com/press/about\" target=\"_blank\">https://www.politico.com/press/about</a>"
      ],
      "text/plain": [
       "<IPython.core.display.HTML object>"
      ]
     },
     "metadata": {},
     "output_type": "display_data"
    },
    {
     "data": {
      "text/html": [
       "<a href=\"https://www.politico.com/subscriptions\" target=\"_blank\">https://www.politico.com/subscriptions</a>"
      ],
      "text/plain": [
       "<IPython.core.display.HTML object>"
      ]
     },
     "metadata": {},
     "output_type": "display_data"
    },
    {
     "data": {
      "text/html": [
       "<a href=\"https://www.politico.com/corrections\" target=\"_blank\">https://www.politico.com/corrections</a>"
      ],
      "text/plain": [
       "<IPython.core.display.HTML object>"
      ]
     },
     "metadata": {},
     "output_type": "display_data"
    },
    {
     "data": {
      "text/html": [
       "<a href=\"https://www.politico.com/write-for-us\" target=\"_blank\">https://www.politico.com/write-for-us</a>"
      ],
      "text/plain": [
       "<IPython.core.display.HTML object>"
      ]
     },
     "metadata": {},
     "output_type": "display_data"
    },
    {
     "data": {
      "text/html": [
       "<a href=\"https://www.politico.com/rss\" target=\"_blank\">https://www.politico.com/rss</a>"
      ],
      "text/plain": [
       "<IPython.core.display.HTML object>"
      ]
     },
     "metadata": {},
     "output_type": "display_data"
    },
    {
     "data": {
      "text/html": [
       "<a href=\"https://www.politico.com/sitemap\" target=\"_blank\">https://www.politico.com/sitemap</a>"
      ],
      "text/plain": [
       "<IPython.core.display.HTML object>"
      ]
     },
     "metadata": {},
     "output_type": "display_data"
    },
    {
     "data": {
      "text/html": [
       "<a href=\"https://www.politico.com/terms-of-service\" target=\"_blank\">https://www.politico.com/terms-of-service</a>"
      ],
      "text/plain": [
       "<IPython.core.display.HTML object>"
      ]
     },
     "metadata": {},
     "output_type": "display_data"
    },
    {
     "data": {
      "text/html": [
       "<a href=\"https://www.politico.com/privacy-policy\" target=\"_blank\">https://www.politico.com/privacy-policy</a>"
      ],
      "text/plain": [
       "<IPython.core.display.HTML object>"
      ]
     },
     "metadata": {},
     "output_type": "display_data"
    },
    {
     "data": {
      "text/html": [
       "<a href=\"https://www.politico.com/do-not-sell\" target=\"_blank\">https://www.politico.com/do-not-sell</a>"
      ],
      "text/plain": [
       "<IPython.core.display.HTML object>"
      ]
     },
     "metadata": {},
     "output_type": "display_data"
    },
    {
     "data": {
      "text/html": [
       "<a href=\"https://www.politico.com/privacy\" target=\"_blank\">https://www.politico.com/privacy</a>"
      ],
      "text/plain": [
       "<IPython.core.display.HTML object>"
      ]
     },
     "metadata": {},
     "output_type": "display_data"
    },
    {
     "data": {
      "text/html": [
       "<a href=\"https://edition.cnn.com\" target=\"_blank\">https://edition.cnn.com</a>"
      ],
      "text/plain": [
       "<IPython.core.display.HTML object>"
      ]
     },
     "metadata": {},
     "output_type": "display_data"
    },
    {
     "data": {
      "text/html": [
       "<a href=\"https://edition.cnn.com/politics\" target=\"_blank\">https://edition.cnn.com/politics</a>"
      ],
      "text/plain": [
       "<IPython.core.display.HTML object>"
      ]
     },
     "metadata": {},
     "output_type": "display_data"
    },
    {
     "data": {
      "text/html": [
       "<a href=\"https://edition.cnn.com/specials/politics/joe-biden-news\" target=\"_blank\">https://edition.cnn.com/specials/politics/joe-biden-news</a>"
      ],
      "text/plain": [
       "<IPython.core.display.HTML object>"
      ]
     },
     "metadata": {},
     "output_type": "display_data"
    },
    {
     "data": {
      "text/html": [
       "<a href=\"https://edition.cnn.com/specials/politics/fact-check-politics\" target=\"_blank\">https://edition.cnn.com/specials/politics/fact-check-politics</a>"
      ],
      "text/plain": [
       "<IPython.core.display.HTML object>"
      ]
     },
     "metadata": {},
     "output_type": "display_data"
    },
    {
     "data": {
      "text/html": [
       "<a href=\"https://edition.cnn.com/election/2022\" target=\"_blank\">https://edition.cnn.com/election/2022</a>"
      ],
      "text/plain": [
       "<IPython.core.display.HTML object>"
      ]
     },
     "metadata": {},
     "output_type": "display_data"
    },
    {
     "data": {
      "text/html": [
       "<a href=\"nan\" target=\"_blank\">nan</a>"
      ],
      "text/plain": [
       "<IPython.core.display.HTML object>"
      ]
     },
     "metadata": {},
     "output_type": "display_data"
    },
    {
     "data": {
      "text/html": [
       "<a href=\"https://edition.cnn.com/specials/politics/joe-biden-news\" target=\"_blank\">https://edition.cnn.com/specials/politics/joe-biden-news</a>"
      ],
      "text/plain": [
       "<IPython.core.display.HTML object>"
      ]
     },
     "metadata": {},
     "output_type": "display_data"
    },
    {
     "data": {
      "text/html": [
       "<a href=\"https://edition.cnn.com/specials/politics/fact-check-politics\" target=\"_blank\">https://edition.cnn.com/specials/politics/fact-check-politics</a>"
      ],
      "text/plain": [
       "<IPython.core.display.HTML object>"
      ]
     },
     "metadata": {},
     "output_type": "display_data"
    },
    {
     "data": {
      "text/html": [
       "<a href=\"https://edition.cnn.com/election/2022\" target=\"_blank\">https://edition.cnn.com/election/2022</a>"
      ],
      "text/plain": [
       "<IPython.core.display.HTML object>"
      ]
     },
     "metadata": {},
     "output_type": "display_data"
    },
    {
     "data": {
      "text/html": [
       "<a href=\"https://edition.cnn.com/audio\" target=\"_blank\">https://edition.cnn.com/audio</a>"
      ],
      "text/plain": [
       "<IPython.core.display.HTML object>"
      ]
     },
     "metadata": {},
     "output_type": "display_data"
    },
    {
     "data": {
      "text/html": [
       "<a href=\"https://edition.cnn.com/live-tv\" target=\"_blank\">https://edition.cnn.com/live-tv</a>"
      ],
      "text/plain": [
       "<IPython.core.display.HTML object>"
      ]
     },
     "metadata": {},
     "output_type": "display_data"
    },
    {
     "data": {
      "text/html": [
       "<a href=\"/account/settings\" target=\"_blank\">/account/settings</a>"
      ],
      "text/plain": [
       "<IPython.core.display.HTML object>"
      ]
     },
     "metadata": {},
     "output_type": "display_data"
    },
    {
     "data": {
      "text/html": [
       "<a href=\"/account/my-news?iid=fw_var-nav\" target=\"_blank\">/account/my-news?iid=fw_var-nav</a>"
      ],
      "text/plain": [
       "<IPython.core.display.HTML object>"
      ]
     },
     "metadata": {},
     "output_type": "display_data"
    },
    {
     "data": {
      "text/html": [
       "<a href=\"#\" target=\"_blank\">#</a>"
      ],
      "text/plain": [
       "<IPython.core.display.HTML object>"
      ]
     },
     "metadata": {},
     "output_type": "display_data"
    },
    {
     "data": {
      "text/html": [
       "<a href=\"#\" target=\"_blank\">#</a>"
      ],
      "text/plain": [
       "<IPython.core.display.HTML object>"
      ]
     },
     "metadata": {},
     "output_type": "display_data"
    },
    {
     "data": {
      "text/html": [
       "<a href=\"/account/settings\" target=\"_blank\">/account/settings</a>"
      ],
      "text/plain": [
       "<IPython.core.display.HTML object>"
      ]
     },
     "metadata": {},
     "output_type": "display_data"
    },
    {
     "data": {
      "text/html": [
       "<a href=\"/account/my-news?iid=fw_var-nav\" target=\"_blank\">/account/my-news?iid=fw_var-nav</a>"
      ],
      "text/plain": [
       "<IPython.core.display.HTML object>"
      ]
     },
     "metadata": {},
     "output_type": "display_data"
    },
    {
     "data": {
      "text/html": [
       "<a href=\"#\" target=\"_blank\">#</a>"
      ],
      "text/plain": [
       "<IPython.core.display.HTML object>"
      ]
     },
     "metadata": {},
     "output_type": "display_data"
    },
    {
     "data": {
      "text/html": [
       "<a href=\"#\" target=\"_blank\">#</a>"
      ],
      "text/plain": [
       "<IPython.core.display.HTML object>"
      ]
     },
     "metadata": {},
     "output_type": "display_data"
    },
    {
     "data": {
      "text/html": [
       "<a href=\"https://edition.cnn.com/live-tv\" target=\"_blank\">https://edition.cnn.com/live-tv</a>"
      ],
      "text/plain": [
       "<IPython.core.display.HTML object>"
      ]
     },
     "metadata": {},
     "output_type": "display_data"
    },
    {
     "data": {
      "text/html": [
       "<a href=\"https://edition.cnn.com/audio\" target=\"_blank\">https://edition.cnn.com/audio</a>"
      ],
      "text/plain": [
       "<IPython.core.display.HTML object>"
      ]
     },
     "metadata": {},
     "output_type": "display_data"
    },
    {
     "data": {
      "text/html": [
       "<a href=\"https://us.cnn.com?hpt=header_edition-picker\" target=\"_blank\">https://us.cnn.com?hpt=header_edition-picker</a>"
      ],
      "text/plain": [
       "<IPython.core.display.HTML object>"
      ]
     },
     "metadata": {},
     "output_type": "display_data"
    },
    {
     "data": {
      "text/html": [
       "<a href=\"https://edition.cnn.com?hpt=header_edition-picker\" target=\"_blank\">https://edition.cnn.com?hpt=header_edition-picker</a>"
      ],
      "text/plain": [
       "<IPython.core.display.HTML object>"
      ]
     },
     "metadata": {},
     "output_type": "display_data"
    },
    {
     "data": {
      "text/html": [
       "<a href=\"https://arabic.cnn.com?hpt=header_edition-picker\" target=\"_blank\">https://arabic.cnn.com?hpt=header_edition-picker</a>"
      ],
      "text/plain": [
       "<IPython.core.display.HTML object>"
      ]
     },
     "metadata": {},
     "output_type": "display_data"
    },
    {
     "data": {
      "text/html": [
       "<a href=\"https://cnnespanol.cnn.com/?hpt=header_edition-picker\" target=\"_blank\">https://cnnespanol.cnn.com/?hpt=header_edition-picker</a>"
      ],
      "text/plain": [
       "<IPython.core.display.HTML object>"
      ]
     },
     "metadata": {},
     "output_type": "display_data"
    },
    {
     "data": {
      "text/html": [
       "<a href=\"https://us.cnn.com?hpt=header_edition-picker\" target=\"_blank\">https://us.cnn.com?hpt=header_edition-picker</a>"
      ],
      "text/plain": [
       "<IPython.core.display.HTML object>"
      ]
     },
     "metadata": {},
     "output_type": "display_data"
    },
    {
     "data": {
      "text/html": [
       "<a href=\"https://edition.cnn.com?hpt=header_edition-picker\" target=\"_blank\">https://edition.cnn.com?hpt=header_edition-picker</a>"
      ],
      "text/plain": [
       "<IPython.core.display.HTML object>"
      ]
     },
     "metadata": {},
     "output_type": "display_data"
    },
    {
     "data": {
      "text/html": [
       "<a href=\"https://arabic.cnn.com?hpt=header_edition-picker\" target=\"_blank\">https://arabic.cnn.com?hpt=header_edition-picker</a>"
      ],
      "text/plain": [
       "<IPython.core.display.HTML object>"
      ]
     },
     "metadata": {},
     "output_type": "display_data"
    },
    {
     "data": {
      "text/html": [
       "<a href=\"https://cnnespanol.cnn.com/?hpt=header_edition-picker\" target=\"_blank\">https://cnnespanol.cnn.com/?hpt=header_edition-picker</a>"
      ],
      "text/plain": [
       "<IPython.core.display.HTML object>"
      ]
     },
     "metadata": {},
     "output_type": "display_data"
    },
    {
     "data": {
      "text/html": [
       "<a href=\"https://edition.cnn.com/specials/politics/joe-biden-news\" target=\"_blank\">https://edition.cnn.com/specials/politics/joe-biden-news</a>"
      ],
      "text/plain": [
       "<IPython.core.display.HTML object>"
      ]
     },
     "metadata": {},
     "output_type": "display_data"
    },
    {
     "data": {
      "text/html": [
       "<a href=\"https://edition.cnn.com/specials/politics/fact-check-politics\" target=\"_blank\">https://edition.cnn.com/specials/politics/fact-check-politics</a>"
      ],
      "text/plain": [
       "<IPython.core.display.HTML object>"
      ]
     },
     "metadata": {},
     "output_type": "display_data"
    },
    {
     "data": {
      "text/html": [
       "<a href=\"https://edition.cnn.com/election/2022\" target=\"_blank\">https://edition.cnn.com/election/2022</a>"
      ],
      "text/plain": [
       "<IPython.core.display.HTML object>"
      ]
     },
     "metadata": {},
     "output_type": "display_data"
    },
    {
     "data": {
      "text/html": [
       "<a href=\"https://facebook.com/cnnpolitics\" target=\"_blank\">https://facebook.com/cnnpolitics</a>"
      ],
      "text/plain": [
       "<IPython.core.display.HTML object>"
      ]
     },
     "metadata": {},
     "output_type": "display_data"
    },
    {
     "data": {
      "text/html": [
       "<a href=\"https://twitter.com/cnnpolitics\" target=\"_blank\">https://twitter.com/cnnpolitics</a>"
      ],
      "text/plain": [
       "<IPython.core.display.HTML object>"
      ]
     },
     "metadata": {},
     "output_type": "display_data"
    },
    {
     "data": {
      "text/html": [
       "<a href=\"https://instagram.com/cnnpolitics\" target=\"_blank\">https://instagram.com/cnnpolitics</a>"
      ],
      "text/plain": [
       "<IPython.core.display.HTML object>"
      ]
     },
     "metadata": {},
     "output_type": "display_data"
    },
    {
     "data": {
      "text/html": [
       "<a href=\"https://edition.cnn.com/world\" target=\"_blank\">https://edition.cnn.com/world</a>"
      ],
      "text/plain": [
       "<IPython.core.display.HTML object>"
      ]
     },
     "metadata": {},
     "output_type": "display_data"
    },
    {
     "data": {
      "text/html": [
       "<a href=\"https://edition.cnn.com/world/africa\" target=\"_blank\">https://edition.cnn.com/world/africa</a>"
      ],
      "text/plain": [
       "<IPython.core.display.HTML object>"
      ]
     },
     "metadata": {},
     "output_type": "display_data"
    },
    {
     "data": {
      "text/html": [
       "<a href=\"https://edition.cnn.com/world/americas\" target=\"_blank\">https://edition.cnn.com/world/americas</a>"
      ],
      "text/plain": [
       "<IPython.core.display.HTML object>"
      ]
     },
     "metadata": {},
     "output_type": "display_data"
    },
    {
     "data": {
      "text/html": [
       "<a href=\"https://edition.cnn.com/world/asia\" target=\"_blank\">https://edition.cnn.com/world/asia</a>"
      ],
      "text/plain": [
       "<IPython.core.display.HTML object>"
      ]
     },
     "metadata": {},
     "output_type": "display_data"
    },
    {
     "data": {
      "text/html": [
       "<a href=\"https://edition.cnn.com/world/australia\" target=\"_blank\">https://edition.cnn.com/world/australia</a>"
      ],
      "text/plain": [
       "<IPython.core.display.HTML object>"
      ]
     },
     "metadata": {},
     "output_type": "display_data"
    },
    {
     "data": {
      "text/html": [
       "<a href=\"https://edition.cnn.com/world/china\" target=\"_blank\">https://edition.cnn.com/world/china</a>"
      ],
      "text/plain": [
       "<IPython.core.display.HTML object>"
      ]
     },
     "metadata": {},
     "output_type": "display_data"
    },
    {
     "data": {
      "text/html": [
       "<a href=\"https://edition.cnn.com/world/europe\" target=\"_blank\">https://edition.cnn.com/world/europe</a>"
      ],
      "text/plain": [
       "<IPython.core.display.HTML object>"
      ]
     },
     "metadata": {},
     "output_type": "display_data"
    },
    {
     "data": {
      "text/html": [
       "<a href=\"https://edition.cnn.com/world/india\" target=\"_blank\">https://edition.cnn.com/world/india</a>"
      ],
      "text/plain": [
       "<IPython.core.display.HTML object>"
      ]
     },
     "metadata": {},
     "output_type": "display_data"
    },
    {
     "data": {
      "text/html": [
       "<a href=\"https://edition.cnn.com/world/middle-east\" target=\"_blank\">https://edition.cnn.com/world/middle-east</a>"
      ],
      "text/plain": [
       "<IPython.core.display.HTML object>"
      ]
     },
     "metadata": {},
     "output_type": "display_data"
    },
    {
     "data": {
      "text/html": [
       "<a href=\"https://edition.cnn.com/world/united-kingdom\" target=\"_blank\">https://edition.cnn.com/world/united-kingdom</a>"
      ],
      "text/plain": [
       "<IPython.core.display.HTML object>"
      ]
     },
     "metadata": {},
     "output_type": "display_data"
    },
    {
     "data": {
      "text/html": [
       "<a href=\"https://edition.cnn.com/politics\" target=\"_blank\">https://edition.cnn.com/politics</a>"
      ],
      "text/plain": [
       "<IPython.core.display.HTML object>"
      ]
     },
     "metadata": {},
     "output_type": "display_data"
    },
    {
     "data": {
      "text/html": [
       "<a href=\"https://edition.cnn.com/specials/politics/joe-biden-news\" target=\"_blank\">https://edition.cnn.com/specials/politics/joe-biden-news</a>"
      ],
      "text/plain": [
       "<IPython.core.display.HTML object>"
      ]
     },
     "metadata": {},
     "output_type": "display_data"
    },
    {
     "data": {
      "text/html": [
       "<a href=\"https://edition.cnn.com/specials/politics/fact-check-politics\" target=\"_blank\">https://edition.cnn.com/specials/politics/fact-check-politics</a>"
      ],
      "text/plain": [
       "<IPython.core.display.HTML object>"
      ]
     },
     "metadata": {},
     "output_type": "display_data"
    },
    {
     "data": {
      "text/html": [
       "<a href=\"https://edition.cnn.com/election/2020/results/president\" target=\"_blank\">https://edition.cnn.com/election/2020/results/president</a>"
      ],
      "text/plain": [
       "<IPython.core.display.HTML object>"
      ]
     },
     "metadata": {},
     "output_type": "display_data"
    },
    {
     "data": {
      "text/html": [
       "<a href=\"https://edition.cnn.com/business\" target=\"_blank\">https://edition.cnn.com/business</a>"
      ],
      "text/plain": [
       "<IPython.core.display.HTML object>"
      ]
     },
     "metadata": {},
     "output_type": "display_data"
    },
    {
     "data": {
      "text/html": [
       "<a href=\"https://edition.cnn.com/business/tech\" target=\"_blank\">https://edition.cnn.com/business/tech</a>"
      ],
      "text/plain": [
       "<IPython.core.display.HTML object>"
      ]
     },
     "metadata": {},
     "output_type": "display_data"
    },
    {
     "data": {
      "text/html": [
       "<a href=\"https://edition.cnn.com/business/media\" target=\"_blank\">https://edition.cnn.com/business/media</a>"
      ],
      "text/plain": [
       "<IPython.core.display.HTML object>"
      ]
     },
     "metadata": {},
     "output_type": "display_data"
    },
    {
     "data": {
      "text/html": [
       "<a href=\"https://edition.cnn.com/business/financial-calculators\" target=\"_blank\">https://edition.cnn.com/business/financial-calculators</a>"
      ],
      "text/plain": [
       "<IPython.core.display.HTML object>"
      ]
     },
     "metadata": {},
     "output_type": "display_data"
    },
    {
     "data": {
      "text/html": [
       "<a href=\"https://edition.cnn.com/business/videos\" target=\"_blank\">https://edition.cnn.com/business/videos</a>"
      ],
      "text/plain": [
       "<IPython.core.display.HTML object>"
      ]
     },
     "metadata": {},
     "output_type": "display_data"
    },
    {
     "data": {
      "text/html": [
       "<a href=\"https://edition.cnn.com/markets\" target=\"_blank\">https://edition.cnn.com/markets</a>"
      ],
      "text/plain": [
       "<IPython.core.display.HTML object>"
      ]
     },
     "metadata": {},
     "output_type": "display_data"
    },
    {
     "data": {
      "text/html": [
       "<a href=\"https://edition.cnn.com/markets/premarkets\" target=\"_blank\">https://edition.cnn.com/markets/premarkets</a>"
      ],
      "text/plain": [
       "<IPython.core.display.HTML object>"
      ]
     },
     "metadata": {},
     "output_type": "display_data"
    },
    {
     "data": {
      "text/html": [
       "<a href=\"https://edition.cnn.com/markets/after-hours\" target=\"_blank\">https://edition.cnn.com/markets/after-hours</a>"
      ],
      "text/plain": [
       "<IPython.core.display.HTML object>"
      ]
     },
     "metadata": {},
     "output_type": "display_data"
    },
    {
     "data": {
      "text/html": [
       "<a href=\"https://money.cnn.com/data/hotstocks/\" target=\"_blank\">https://money.cnn.com/data/hotstocks/</a>"
      ],
      "text/plain": [
       "<IPython.core.display.HTML object>"
      ]
     },
     "metadata": {},
     "output_type": "display_data"
    },
    {
     "data": {
      "text/html": [
       "<a href=\"https://edition.cnn.com/markets/fear-and-greed\" target=\"_blank\">https://edition.cnn.com/markets/fear-and-greed</a>"
      ],
      "text/plain": [
       "<IPython.core.display.HTML object>"
      ]
     },
     "metadata": {},
     "output_type": "display_data"
    },
    {
     "data": {
      "text/html": [
       "<a href=\"https://money.cnn.com/data/world_markets/americas/\" target=\"_blank\">https://money.cnn.com/data/world_markets/americas/</a>"
      ],
      "text/plain": [
       "<IPython.core.display.HTML object>"
      ]
     },
     "metadata": {},
     "output_type": "display_data"
    },
    {
     "data": {
      "text/html": [
       "<a href=\"https://edition.cnn.com/business/investing\" target=\"_blank\">https://edition.cnn.com/business/investing</a>"
      ],
      "text/plain": [
       "<IPython.core.display.HTML object>"
      ]
     },
     "metadata": {},
     "output_type": "display_data"
    },
    {
     "data": {
      "text/html": [
       "<a href=\"https://edition.cnn.com/specials/investing/markets-now\" target=\"_blank\">https://edition.cnn.com/specials/investing/markets-now</a>"
      ],
      "text/plain": [
       "<IPython.core.display.HTML object>"
      ]
     },
     "metadata": {},
     "output_type": "display_data"
    },
    {
     "data": {
      "text/html": [
       "<a href=\"https://edition.cnn.com/specials/investing/before-the-bell\" target=\"_blank\">https://edition.cnn.com/specials/investing/before-the-bell</a>"
      ],
      "text/plain": [
       "<IPython.core.display.HTML object>"
      ]
     },
     "metadata": {},
     "output_type": "display_data"
    },
    {
     "data": {
      "text/html": [
       "<a href=\"https://edition.cnn.com/specials/business/nightcap\" target=\"_blank\">https://edition.cnn.com/specials/business/nightcap</a>"
      ],
      "text/plain": [
       "<IPython.core.display.HTML object>"
      ]
     },
     "metadata": {},
     "output_type": "display_data"
    },
    {
     "data": {
      "text/html": [
       "<a href=\"https://edition.cnn.com/health\" target=\"_blank\">https://edition.cnn.com/health</a>"
      ],
      "text/plain": [
       "<IPython.core.display.HTML object>"
      ]
     },
     "metadata": {},
     "output_type": "display_data"
    },
    {
     "data": {
      "text/html": [
       "<a href=\"https://edition.cnn.com/interactive/life-but-better/\" target=\"_blank\">https://edition.cnn.com/interactive/life-but-better/</a>"
      ],
      "text/plain": [
       "<IPython.core.display.HTML object>"
      ]
     },
     "metadata": {},
     "output_type": "display_data"
    },
    {
     "data": {
      "text/html": [
       "<a href=\"https://edition.cnn.com/specials/health/fitness-life-but-better\" target=\"_blank\">https://edition.cnn.com/specials/health/fitness-life-but-better</a>"
      ],
      "text/plain": [
       "<IPython.core.display.HTML object>"
      ]
     },
     "metadata": {},
     "output_type": "display_data"
    },
    {
     "data": {
      "text/html": [
       "<a href=\"https://edition.cnn.com/specials/health/food-life-but-better\" target=\"_blank\">https://edition.cnn.com/specials/health/food-life-but-better</a>"
      ],
      "text/plain": [
       "<IPython.core.display.HTML object>"
      ]
     },
     "metadata": {},
     "output_type": "display_data"
    },
    {
     "data": {
      "text/html": [
       "<a href=\"https://edition.cnn.com/specials/health/sleep-life-but-better\" target=\"_blank\">https://edition.cnn.com/specials/health/sleep-life-but-better</a>"
      ],
      "text/plain": [
       "<IPython.core.display.HTML object>"
      ]
     },
     "metadata": {},
     "output_type": "display_data"
    },
    {
     "data": {
      "text/html": [
       "<a href=\"https://edition.cnn.com/specials/health/mindfulness-life-but-better\" target=\"_blank\">https://edition.cnn.com/specials/health/mindfulness-life-but-better</a>"
      ],
      "text/plain": [
       "<IPython.core.display.HTML object>"
      ]
     },
     "metadata": {},
     "output_type": "display_data"
    },
    {
     "data": {
      "text/html": [
       "<a href=\"https://edition.cnn.com/specials/health/relationships-life-but-better\" target=\"_blank\">https://edition.cnn.com/specials/health/relationships-life-but-better</a>"
      ],
      "text/plain": [
       "<IPython.core.display.HTML object>"
      ]
     },
     "metadata": {},
     "output_type": "display_data"
    },
    {
     "data": {
      "text/html": [
       "<a href=\"https://edition.cnn.com/entertainment\" target=\"_blank\">https://edition.cnn.com/entertainment</a>"
      ],
      "text/plain": [
       "<IPython.core.display.HTML object>"
      ]
     },
     "metadata": {},
     "output_type": "display_data"
    },
    {
     "data": {
      "text/html": [
       "<a href=\"https://edition.cnn.com/entertainment/movies\" target=\"_blank\">https://edition.cnn.com/entertainment/movies</a>"
      ],
      "text/plain": [
       "<IPython.core.display.HTML object>"
      ]
     },
     "metadata": {},
     "output_type": "display_data"
    },
    {
     "data": {
      "text/html": [
       "<a href=\"https://edition.cnn.com/entertainment/tv-shows\" target=\"_blank\">https://edition.cnn.com/entertainment/tv-shows</a>"
      ],
      "text/plain": [
       "<IPython.core.display.HTML object>"
      ]
     },
     "metadata": {},
     "output_type": "display_data"
    },
    {
     "data": {
      "text/html": [
       "<a href=\"https://edition.cnn.com/entertainment/celebrities\" target=\"_blank\">https://edition.cnn.com/entertainment/celebrities</a>"
      ],
      "text/plain": [
       "<IPython.core.display.HTML object>"
      ]
     },
     "metadata": {},
     "output_type": "display_data"
    },
    {
     "data": {
      "text/html": [
       "<a href=\"https://edition.cnn.com/business/tech\" target=\"_blank\">https://edition.cnn.com/business/tech</a>"
      ],
      "text/plain": [
       "<IPython.core.display.HTML object>"
      ]
     },
     "metadata": {},
     "output_type": "display_data"
    },
    {
     "data": {
      "text/html": [
       "<a href=\"https://edition.cnn.com/specials/tech/innovate\" target=\"_blank\">https://edition.cnn.com/specials/tech/innovate</a>"
      ],
      "text/plain": [
       "<IPython.core.display.HTML object>"
      ]
     },
     "metadata": {},
     "output_type": "display_data"
    },
    {
     "data": {
      "text/html": [
       "<a href=\"https://edition.cnn.com/specials/tech/gadget\" target=\"_blank\">https://edition.cnn.com/specials/tech/gadget</a>"
      ],
      "text/plain": [
       "<IPython.core.display.HTML object>"
      ]
     },
     "metadata": {},
     "output_type": "display_data"
    },
    {
     "data": {
      "text/html": [
       "<a href=\"https://edition.cnn.com/specials/tech/foreseeable-future\" target=\"_blank\">https://edition.cnn.com/specials/tech/foreseeable-future</a>"
      ],
      "text/plain": [
       "<IPython.core.display.HTML object>"
      ]
     },
     "metadata": {},
     "output_type": "display_data"
    },
    {
     "data": {
      "text/html": [
       "<a href=\"https://edition.cnn.com/specials/tech/mission-ahead\" target=\"_blank\">https://edition.cnn.com/specials/tech/mission-ahead</a>"
      ],
      "text/plain": [
       "<IPython.core.display.HTML object>"
      ]
     },
     "metadata": {},
     "output_type": "display_data"
    },
    {
     "data": {
      "text/html": [
       "<a href=\"https://edition.cnn.com/specials/tech/upstarts\" target=\"_blank\">https://edition.cnn.com/specials/tech/upstarts</a>"
      ],
      "text/plain": [
       "<IPython.core.display.HTML object>"
      ]
     },
     "metadata": {},
     "output_type": "display_data"
    },
    {
     "data": {
      "text/html": [
       "<a href=\"https://edition.cnn.com/specials/tech/work-transformed\" target=\"_blank\">https://edition.cnn.com/specials/tech/work-transformed</a>"
      ],
      "text/plain": [
       "<IPython.core.display.HTML object>"
      ]
     },
     "metadata": {},
     "output_type": "display_data"
    },
    {
     "data": {
      "text/html": [
       "<a href=\"https://edition.cnn.com/specials/tech/innovative-cities\" target=\"_blank\">https://edition.cnn.com/specials/tech/innovative-cities</a>"
      ],
      "text/plain": [
       "<IPython.core.display.HTML object>"
      ]
     },
     "metadata": {},
     "output_type": "display_data"
    },
    {
     "data": {
      "text/html": [
       "<a href=\"https://edition.cnn.com/style\" target=\"_blank\">https://edition.cnn.com/style</a>"
      ],
      "text/plain": [
       "<IPython.core.display.HTML object>"
      ]
     },
     "metadata": {},
     "output_type": "display_data"
    },
    {
     "data": {
      "text/html": [
       "<a href=\"https://edition.cnn.com/style/arts\" target=\"_blank\">https://edition.cnn.com/style/arts</a>"
      ],
      "text/plain": [
       "<IPython.core.display.HTML object>"
      ]
     },
     "metadata": {},
     "output_type": "display_data"
    },
    {
     "data": {
      "text/html": [
       "<a href=\"https://edition.cnn.com/style/design\" target=\"_blank\">https://edition.cnn.com/style/design</a>"
      ],
      "text/plain": [
       "<IPython.core.display.HTML object>"
      ]
     },
     "metadata": {},
     "output_type": "display_data"
    },
    {
     "data": {
      "text/html": [
       "<a href=\"https://edition.cnn.com/style/fashion\" target=\"_blank\">https://edition.cnn.com/style/fashion</a>"
      ],
      "text/plain": [
       "<IPython.core.display.HTML object>"
      ]
     },
     "metadata": {},
     "output_type": "display_data"
    },
    {
     "data": {
      "text/html": [
       "<a href=\"https://edition.cnn.com/style/architecture\" target=\"_blank\">https://edition.cnn.com/style/architecture</a>"
      ],
      "text/plain": [
       "<IPython.core.display.HTML object>"
      ]
     },
     "metadata": {},
     "output_type": "display_data"
    },
    {
     "data": {
      "text/html": [
       "<a href=\"https://edition.cnn.com/style/luxury\" target=\"_blank\">https://edition.cnn.com/style/luxury</a>"
      ],
      "text/plain": [
       "<IPython.core.display.HTML object>"
      ]
     },
     "metadata": {},
     "output_type": "display_data"
    },
    {
     "data": {
      "text/html": [
       "<a href=\"https://edition.cnn.com/style/beauty\" target=\"_blank\">https://edition.cnn.com/style/beauty</a>"
      ],
      "text/plain": [
       "<IPython.core.display.HTML object>"
      ]
     },
     "metadata": {},
     "output_type": "display_data"
    },
    {
     "data": {
      "text/html": [
       "<a href=\"https://edition.cnn.com/style/videos\" target=\"_blank\">https://edition.cnn.com/style/videos</a>"
      ],
      "text/plain": [
       "<IPython.core.display.HTML object>"
      ]
     },
     "metadata": {},
     "output_type": "display_data"
    },
    {
     "data": {
      "text/html": [
       "<a href=\"https://edition.cnn.com/travel\" target=\"_blank\">https://edition.cnn.com/travel</a>"
      ],
      "text/plain": [
       "<IPython.core.display.HTML object>"
      ]
     },
     "metadata": {},
     "output_type": "display_data"
    },
    {
     "data": {
      "text/html": [
       "<a href=\"https://edition.cnn.com/travel/destinations\" target=\"_blank\">https://edition.cnn.com/travel/destinations</a>"
      ],
      "text/plain": [
       "<IPython.core.display.HTML object>"
      ]
     },
     "metadata": {},
     "output_type": "display_data"
    },
    {
     "data": {
      "text/html": [
       "<a href=\"https://edition.cnn.com/travel/food-and-drink\" target=\"_blank\">https://edition.cnn.com/travel/food-and-drink</a>"
      ],
      "text/plain": [
       "<IPython.core.display.HTML object>"
      ]
     },
     "metadata": {},
     "output_type": "display_data"
    },
    {
     "data": {
      "text/html": [
       "<a href=\"https://edition.cnn.com/travel/stay\" target=\"_blank\">https://edition.cnn.com/travel/stay</a>"
      ],
      "text/plain": [
       "<IPython.core.display.HTML object>"
      ]
     },
     "metadata": {},
     "output_type": "display_data"
    },
    {
     "data": {
      "text/html": [
       "<a href=\"https://edition.cnn.com/travel/news\" target=\"_blank\">https://edition.cnn.com/travel/news</a>"
      ],
      "text/plain": [
       "<IPython.core.display.HTML object>"
      ]
     },
     "metadata": {},
     "output_type": "display_data"
    },
    {
     "data": {
      "text/html": [
       "<a href=\"https://edition.cnn.com/travel/videos\" target=\"_blank\">https://edition.cnn.com/travel/videos</a>"
      ],
      "text/plain": [
       "<IPython.core.display.HTML object>"
      ]
     },
     "metadata": {},
     "output_type": "display_data"
    },
    {
     "data": {
      "text/html": [
       "<a href=\"https://edition.cnn.com/sport\" target=\"_blank\">https://edition.cnn.com/sport</a>"
      ],
      "text/plain": [
       "<IPython.core.display.HTML object>"
      ]
     },
     "metadata": {},
     "output_type": "display_data"
    },
    {
     "data": {
      "text/html": [
       "<a href=\"https://edition.cnn.com/sport/football\" target=\"_blank\">https://edition.cnn.com/sport/football</a>"
      ],
      "text/plain": [
       "<IPython.core.display.HTML object>"
      ]
     },
     "metadata": {},
     "output_type": "display_data"
    },
    {
     "data": {
      "text/html": [
       "<a href=\"https://edition.cnn.com/sport/tennis\" target=\"_blank\">https://edition.cnn.com/sport/tennis</a>"
      ],
      "text/plain": [
       "<IPython.core.display.HTML object>"
      ]
     },
     "metadata": {},
     "output_type": "display_data"
    },
    {
     "data": {
      "text/html": [
       "<a href=\"https://edition.cnn.com/sport/golf\" target=\"_blank\">https://edition.cnn.com/sport/golf</a>"
      ],
      "text/plain": [
       "<IPython.core.display.HTML object>"
      ]
     },
     "metadata": {},
     "output_type": "display_data"
    },
    {
     "data": {
      "text/html": [
       "<a href=\"https://edition.cnn.com/sport/motorsport\" target=\"_blank\">https://edition.cnn.com/sport/motorsport</a>"
      ],
      "text/plain": [
       "<IPython.core.display.HTML object>"
      ]
     },
     "metadata": {},
     "output_type": "display_data"
    },
    {
     "data": {
      "text/html": [
       "<a href=\"https://edition.cnn.com/sport/us-sports\" target=\"_blank\">https://edition.cnn.com/sport/us-sports</a>"
      ],
      "text/plain": [
       "<IPython.core.display.HTML object>"
      ]
     },
     "metadata": {},
     "output_type": "display_data"
    },
    {
     "data": {
      "text/html": [
       "<a href=\"https://edition.cnn.com/sport/paris-olympics-2024\" target=\"_blank\">https://edition.cnn.com/sport/paris-olympics-2024</a>"
      ],
      "text/plain": [
       "<IPython.core.display.HTML object>"
      ]
     },
     "metadata": {},
     "output_type": "display_data"
    },
    {
     "data": {
      "text/html": [
       "<a href=\"https://edition.cnn.com/sport/climbing\" target=\"_blank\">https://edition.cnn.com/sport/climbing</a>"
      ],
      "text/plain": [
       "<IPython.core.display.HTML object>"
      ]
     },
     "metadata": {},
     "output_type": "display_data"
    },
    {
     "data": {
      "text/html": [
       "<a href=\"https://edition.cnn.com/sport/esports\" target=\"_blank\">https://edition.cnn.com/sport/esports</a>"
      ],
      "text/plain": [
       "<IPython.core.display.HTML object>"
      ]
     },
     "metadata": {},
     "output_type": "display_data"
    },
    {
     "data": {
      "text/html": [
       "<a href=\"https://bleacherreport.com/nhl\" target=\"_blank\">https://bleacherreport.com/nhl</a>"
      ],
      "text/plain": [
       "<IPython.core.display.HTML object>"
      ]
     },
     "metadata": {},
     "output_type": "display_data"
    },
    {
     "data": {
      "text/html": [
       "<a href=\"https://edition.cnn.com/videos\" target=\"_blank\">https://edition.cnn.com/videos</a>"
      ],
      "text/plain": [
       "<IPython.core.display.HTML object>"
      ]
     },
     "metadata": {},
     "output_type": "display_data"
    },
    {
     "data": {
      "text/html": [
       "<a href=\"https://edition.cnn.com/live-tv\" target=\"_blank\">https://edition.cnn.com/live-tv</a>"
      ],
      "text/plain": [
       "<IPython.core.display.HTML object>"
      ]
     },
     "metadata": {},
     "output_type": "display_data"
    },
    {
     "data": {
      "text/html": [
       "<a href=\"https://edition.cnn.com/specials/digital-studios\" target=\"_blank\">https://edition.cnn.com/specials/digital-studios</a>"
      ],
      "text/plain": [
       "<IPython.core.display.HTML object>"
      ]
     },
     "metadata": {},
     "output_type": "display_data"
    },
    {
     "data": {
      "text/html": [
       "<a href=\"https://edition.cnn.com/specials/videos/digital-shorts\" target=\"_blank\">https://edition.cnn.com/specials/videos/digital-shorts</a>"
      ],
      "text/plain": [
       "<IPython.core.display.HTML object>"
      ]
     },
     "metadata": {},
     "output_type": "display_data"
    },
    {
     "data": {
      "text/html": [
       "<a href=\"https://edition.cnn.com/specials/videos/hln\" target=\"_blank\">https://edition.cnn.com/specials/videos/hln</a>"
      ],
      "text/plain": [
       "<IPython.core.display.HTML object>"
      ]
     },
     "metadata": {},
     "output_type": "display_data"
    },
    {
     "data": {
      "text/html": [
       "<a href=\"https://edition.cnn.com/tv/schedule/cnn\" target=\"_blank\">https://edition.cnn.com/tv/schedule/cnn</a>"
      ],
      "text/plain": [
       "<IPython.core.display.HTML object>"
      ]
     },
     "metadata": {},
     "output_type": "display_data"
    },
    {
     "data": {
      "text/html": [
       "<a href=\"https://edition.cnn.com/specials/tv/all-shows\" target=\"_blank\">https://edition.cnn.com/specials/tv/all-shows</a>"
      ],
      "text/plain": [
       "<IPython.core.display.HTML object>"
      ]
     },
     "metadata": {},
     "output_type": "display_data"
    },
    {
     "data": {
      "text/html": [
       "<a href=\"https://edition.cnn.com/vr\" target=\"_blank\">https://edition.cnn.com/vr</a>"
      ],
      "text/plain": [
       "<IPython.core.display.HTML object>"
      ]
     },
     "metadata": {},
     "output_type": "display_data"
    },
    {
     "data": {
      "text/html": [
       "<a href=\"https://edition.cnn.com/specials\" target=\"_blank\">https://edition.cnn.com/specials</a>"
      ],
      "text/plain": [
       "<IPython.core.display.HTML object>"
      ]
     },
     "metadata": {},
     "output_type": "display_data"
    },
    {
     "data": {
      "text/html": [
       "<a href=\"https://edition.cnn.com/interactive/asequals\" target=\"_blank\">https://edition.cnn.com/interactive/asequals</a>"
      ],
      "text/plain": [
       "<IPython.core.display.HTML object>"
      ]
     },
     "metadata": {},
     "output_type": "display_data"
    },
    {
     "data": {
      "text/html": [
       "<a href=\"https://edition.cnn.com/interactive/call-to-earth\" target=\"_blank\">https://edition.cnn.com/interactive/call-to-earth</a>"
      ],
      "text/plain": [
       "<IPython.core.display.HTML object>"
      ]
     },
     "metadata": {},
     "output_type": "display_data"
    },
    {
     "data": {
      "text/html": [
       "<a href=\"https://edition.cnn.com/specials/world/freedom-project\" target=\"_blank\">https://edition.cnn.com/specials/world/freedom-project</a>"
      ],
      "text/plain": [
       "<IPython.core.display.HTML object>"
      ]
     },
     "metadata": {},
     "output_type": "display_data"
    },
    {
     "data": {
      "text/html": [
       "<a href=\"https://edition.cnn.com/specials/impact-your-world\" target=\"_blank\">https://edition.cnn.com/specials/impact-your-world</a>"
      ],
      "text/plain": [
       "<IPython.core.display.HTML object>"
      ]
     },
     "metadata": {},
     "output_type": "display_data"
    },
    {
     "data": {
      "text/html": [
       "<a href=\"https://edition.cnn.com/specials/africa/inside-africa\" target=\"_blank\">https://edition.cnn.com/specials/africa/inside-africa</a>"
      ],
      "text/plain": [
       "<IPython.core.display.HTML object>"
      ]
     },
     "metadata": {},
     "output_type": "display_data"
    },
    {
     "data": {
      "text/html": [
       "<a href=\"https://edition.cnn.com/specials/opinions/two-degrees\" target=\"_blank\">https://edition.cnn.com/specials/opinions/two-degrees</a>"
      ],
      "text/plain": [
       "<IPython.core.display.HTML object>"
      ]
     },
     "metadata": {},
     "output_type": "display_data"
    },
    {
     "data": {
      "text/html": [
       "<a href=\"https://edition.cnn.com/specials/cnn-heroes\" target=\"_blank\">https://edition.cnn.com/specials/cnn-heroes</a>"
      ],
      "text/plain": [
       "<IPython.core.display.HTML object>"
      ]
     },
     "metadata": {},
     "output_type": "display_data"
    },
    {
     "data": {
      "text/html": [
       "<a href=\"https://edition.cnn.com/specials\" target=\"_blank\">https://edition.cnn.com/specials</a>"
      ],
      "text/plain": [
       "<IPython.core.display.HTML object>"
      ]
     },
     "metadata": {},
     "output_type": "display_data"
    },
    {
     "data": {
      "text/html": [
       "<a href=\"https://edition.cnn.com/weather\" target=\"_blank\">https://edition.cnn.com/weather</a>"
      ],
      "text/plain": [
       "<IPython.core.display.HTML object>"
      ]
     },
     "metadata": {},
     "output_type": "display_data"
    },
    {
     "data": {
      "text/html": [
       "<a href=\"https://edition.cnn.com/specials/world/cnn-climate\" target=\"_blank\">https://edition.cnn.com/specials/world/cnn-climate</a>"
      ],
      "text/plain": [
       "<IPython.core.display.HTML object>"
      ]
     },
     "metadata": {},
     "output_type": "display_data"
    },
    {
     "data": {
      "text/html": [
       "<a href=\"https://edition.cnn.com/interactive/2020/weather/wildfire-and-air-quality-tracker\" target=\"_blank\">https://edition.cnn.com/interactive/2020/weather/wildfire-and-air-quality-tracker</a>"
      ],
      "text/plain": [
       "<IPython.core.display.HTML object>"
      ]
     },
     "metadata": {},
     "output_type": "display_data"
    },
    {
     "data": {
      "text/html": [
       "<a href=\"https://edition.cnn.com/specials/weather/weather-video\" target=\"_blank\">https://edition.cnn.com/specials/weather/weather-video</a>"
      ],
      "text/plain": [
       "<IPython.core.display.HTML object>"
      ]
     },
     "metadata": {},
     "output_type": "display_data"
    },
    {
     "data": {
      "text/html": [
       "<a href=\"https://edition.cnn.com/more\" target=\"_blank\">https://edition.cnn.com/more</a>"
      ],
      "text/plain": [
       "<IPython.core.display.HTML object>"
      ]
     },
     "metadata": {},
     "output_type": "display_data"
    },
    {
     "data": {
      "text/html": [
       "<a href=\"https://edition.cnn.com/specials/photos\" target=\"_blank\">https://edition.cnn.com/specials/photos</a>"
      ],
      "text/plain": [
       "<IPython.core.display.HTML object>"
      ]
     },
     "metadata": {},
     "output_type": "display_data"
    },
    {
     "data": {
      "text/html": [
       "<a href=\"https://edition.cnn.com/specials/cnn-longform\" target=\"_blank\">https://edition.cnn.com/specials/cnn-longform</a>"
      ],
      "text/plain": [
       "<IPython.core.display.HTML object>"
      ]
     },
     "metadata": {},
     "output_type": "display_data"
    },
    {
     "data": {
      "text/html": [
       "<a href=\"https://edition.cnn.com/specials/cnn-investigates\" target=\"_blank\">https://edition.cnn.com/specials/cnn-investigates</a>"
      ],
      "text/plain": [
       "<IPython.core.display.HTML object>"
      ]
     },
     "metadata": {},
     "output_type": "display_data"
    },
    {
     "data": {
      "text/html": [
       "<a href=\"https://edition.cnn.com/specials/profiles\" target=\"_blank\">https://edition.cnn.com/specials/profiles</a>"
      ],
      "text/plain": [
       "<IPython.core.display.HTML object>"
      ]
     },
     "metadata": {},
     "output_type": "display_data"
    },
    {
     "data": {
      "text/html": [
       "<a href=\"https://edition.cnn.com/specials/more/cnn-leadership\" target=\"_blank\">https://edition.cnn.com/specials/more/cnn-leadership</a>"
      ],
      "text/plain": [
       "<IPython.core.display.HTML object>"
      ]
     },
     "metadata": {},
     "output_type": "display_data"
    },
    {
     "data": {
      "text/html": [
       "<a href=\"https://edition.cnn.com/email/subscription\" target=\"_blank\">https://edition.cnn.com/email/subscription</a>"
      ],
      "text/plain": [
       "<IPython.core.display.HTML object>"
      ]
     },
     "metadata": {},
     "output_type": "display_data"
    },
    {
     "data": {
      "text/html": [
       "<a href=\"https://careers.wbd.com/cnnjobs\" target=\"_blank\">https://careers.wbd.com/cnnjobs</a>"
      ],
      "text/plain": [
       "<IPython.core.display.HTML object>"
      ]
     },
     "metadata": {},
     "output_type": "display_data"
    },
    {
     "data": {
      "text/html": [
       "<a href=\"/2023/08/24/politics/us-ukraine-f-16-training/index.html\" target=\"_blank\">/2023/08/24/politics/us-ukraine-f-16-training/index.html</a>"
      ],
      "text/plain": [
       "<IPython.core.display.HTML object>"
      ]
     },
     "metadata": {},
     "output_type": "display_data"
    },
    {
     "data": {
      "text/html": [
       "<a href=\"/2023/08/24/politics/us-ukraine-f-16-training/index.html\" target=\"_blank\">/2023/08/24/politics/us-ukraine-f-16-training/index.html</a>"
      ],
      "text/plain": [
       "<IPython.core.display.HTML object>"
      ]
     },
     "metadata": {},
     "output_type": "display_data"
    },
    {
     "data": {
      "text/html": [
       "<a href=\"/2023/08/24/politics/us-priogzhin-crash-assessment/index.html\" target=\"_blank\">/2023/08/24/politics/us-priogzhin-crash-assessment/index.html</a>"
      ],
      "text/plain": [
       "<IPython.core.display.HTML object>"
      ]
     },
     "metadata": {},
     "output_type": "display_data"
    },
    {
     "data": {
      "text/html": [
       "<a href=\"/2023/08/24/politics/donald-trump-surrender-fulton-county-jail-criminal-case/index.html\" target=\"_blank\">/2023/08/24/politics/donald-trump-surrender-fulton-county-jail-criminal-case/index.html</a>"
      ],
      "text/plain": [
       "<IPython.core.display.HTML object>"
      ]
     },
     "metadata": {},
     "output_type": "display_data"
    },
    {
     "data": {
      "text/html": [
       "<a href=\"/2023/08/24/politics/north-carolina-election-bill-veto/index.html\" target=\"_blank\">/2023/08/24/politics/north-carolina-election-bill-veto/index.html</a>"
      ],
      "text/plain": [
       "<IPython.core.display.HTML object>"
      ]
     },
     "metadata": {},
     "output_type": "display_data"
    },
    {
     "data": {
      "text/html": [
       "<a href=\"/2023/08/24/politics/trump-georgia-lawyer/index.html\" target=\"_blank\">/2023/08/24/politics/trump-georgia-lawyer/index.html</a>"
      ],
      "text/plain": [
       "<IPython.core.display.HTML object>"
      ]
     },
     "metadata": {},
     "output_type": "display_data"
    },
    {
     "data": {
      "text/html": [
       "<a href=\"/2023/08/24/politics/house-republican-conference-trump-defense/index.html\" target=\"_blank\">/2023/08/24/politics/house-republican-conference-trump-defense/index.html</a>"
      ],
      "text/plain": [
       "<IPython.core.display.HTML object>"
      ]
     },
     "metadata": {},
     "output_type": "display_data"
    },
    {
     "data": {
      "text/html": [
       "<a href=\"/2023/08/24/politics/sally-yates-trump-investigations-axe-files/index.html\" target=\"_blank\">/2023/08/24/politics/sally-yates-trump-investigations-axe-files/index.html</a>"
      ],
      "text/plain": [
       "<IPython.core.display.HTML object>"
      ]
     },
     "metadata": {},
     "output_type": "display_data"
    },
    {
     "data": {
      "text/html": [
       "<a href=\"/2023/08/23/politics/takeaways-republican-debate/index.html\" target=\"_blank\">/2023/08/23/politics/takeaways-republican-debate/index.html</a>"
      ],
      "text/plain": [
       "<IPython.core.display.HTML object>"
      ]
     },
     "metadata": {},
     "output_type": "display_data"
    },
    {
     "data": {
      "text/html": [
       "<a href=\"/2023/08/24/politics/taiwan-infrared-system-sale-us/index.html\" target=\"_blank\">/2023/08/24/politics/taiwan-infrared-system-sale-us/index.html</a>"
      ],
      "text/plain": [
       "<IPython.core.display.HTML object>"
      ]
     },
     "metadata": {},
     "output_type": "display_data"
    },
    {
     "data": {
      "text/html": [
       "<a href=\"/2023/08/24/politics/vladimir-putin-republican-primary-debate/index.html\" target=\"_blank\">/2023/08/24/politics/vladimir-putin-republican-primary-debate/index.html</a>"
      ],
      "text/plain": [
       "<IPython.core.display.HTML object>"
      ]
     },
     "metadata": {},
     "output_type": "display_data"
    },
    {
     "data": {
      "text/html": [
       "<a href=\"/2023/08/24/politics/vladimir-putin-republican-primary-debate/index.html\" target=\"_blank\">/2023/08/24/politics/vladimir-putin-republican-primary-debate/index.html</a>"
      ],
      "text/plain": [
       "<IPython.core.display.HTML object>"
      ]
     },
     "metadata": {},
     "output_type": "display_data"
    },
    {
     "data": {
      "text/html": [
       "<a href=\"/2023/08/24/politics/trump-debate-arrest-what-matters/index.html\" target=\"_blank\">/2023/08/24/politics/trump-debate-arrest-what-matters/index.html</a>"
      ],
      "text/plain": [
       "<IPython.core.display.HTML object>"
      ]
     },
     "metadata": {},
     "output_type": "display_data"
    },
    {
     "data": {
      "text/html": [
       "<a href=\"/2023/08/24/politics/gop-debate-trump-surrender-analysis/index.html\" target=\"_blank\">/2023/08/24/politics/gop-debate-trump-surrender-analysis/index.html</a>"
      ],
      "text/plain": [
       "<IPython.core.display.HTML object>"
      ]
     },
     "metadata": {},
     "output_type": "display_data"
    },
    {
     "data": {
      "text/html": [
       "<a href=\"/2023/08/23/politics/republican-government-cuts-what-matters/index.html\" target=\"_blank\">/2023/08/23/politics/republican-government-cuts-what-matters/index.html</a>"
      ],
      "text/plain": [
       "<IPython.core.display.HTML object>"
      ]
     },
     "metadata": {},
     "output_type": "display_data"
    },
    {
     "data": {
      "text/html": [
       "<a href=\"/2023/08/23/politics/fulton-county-trump-republicans-2024/index.html\" target=\"_blank\">/2023/08/23/politics/fulton-county-trump-republicans-2024/index.html</a>"
      ],
      "text/plain": [
       "<IPython.core.display.HTML object>"
      ]
     },
     "metadata": {},
     "output_type": "display_data"
    },
    {
     "data": {
      "text/html": [
       "<a href=\"/2023/08/22/politics/georgia-indictment-trump-bond/index.html\" target=\"_blank\">/2023/08/22/politics/georgia-indictment-trump-bond/index.html</a>"
      ],
      "text/plain": [
       "<IPython.core.display.HTML object>"
      ]
     },
     "metadata": {},
     "output_type": "display_data"
    },
    {
     "data": {
      "text/html": [
       "<a href=\"/2023/08/22/politics/trump-gop-debate-fault-lines/index.html\" target=\"_blank\">/2023/08/22/politics/trump-gop-debate-fault-lines/index.html</a>"
      ],
      "text/plain": [
       "<IPython.core.display.HTML object>"
      ]
     },
     "metadata": {},
     "output_type": "display_data"
    },
    {
     "data": {
      "text/html": [
       "<a href=\"/2023/08/21/politics/trump-conviction-republicans-what-matters/index.html\" target=\"_blank\">/2023/08/21/politics/trump-conviction-republicans-what-matters/index.html</a>"
      ],
      "text/plain": [
       "<IPython.core.display.HTML object>"
      ]
     },
     "metadata": {},
     "output_type": "display_data"
    },
    {
     "data": {
      "text/html": [
       "<a href=\"/2023/08/21/politics/trump-georgia-surrender-debate-2024/index.html\" target=\"_blank\">/2023/08/21/politics/trump-georgia-surrender-debate-2024/index.html</a>"
      ],
      "text/plain": [
       "<IPython.core.display.HTML object>"
      ]
     },
     "metadata": {},
     "output_type": "display_data"
    },
    {
     "data": {
      "text/html": [
       "<a href=\"/videos/politics/2023/08/24/exp-presidential-debate-primary-mckend-live-082402pseg2-cnni-politics.cnn\" target=\"_blank\">/videos/politics/2023/08/24/exp-presidential-debate-primary-mckend-live-082402pseg2-cnni-politics.cnn</a>"
      ],
      "text/plain": [
       "<IPython.core.display.HTML object>"
      ]
     },
     "metadata": {},
     "output_type": "display_data"
    },
    {
     "data": {
      "text/html": [
       "<a href=\"/videos/politics/2023/08/24/exp-presidential-debate-primary-mckend-live-082402pseg2-cnni-politics.cnn\" target=\"_blank\">/videos/politics/2023/08/24/exp-presidential-debate-primary-mckend-live-082402pseg2-cnni-politics.cnn</a>"
      ],
      "text/plain": [
       "<IPython.core.display.HTML object>"
      ]
     },
     "metadata": {},
     "output_type": "display_data"
    },
    {
     "data": {
      "text/html": [
       "<a href=\"/videos/politics/2023/08/24/exp-gop-debate-jessica-dean-pkg-scott-jennings-intv-082412pseg2-cnni-world.cnn\" target=\"_blank\">/videos/politics/2023/08/24/exp-gop-debate-jessica-dean-pkg-scott-jennings-intv-082412pseg2-cnni-world.cnn</a>"
      ],
      "text/plain": [
       "<IPython.core.display.HTML object>"
      ]
     },
     "metadata": {},
     "output_type": "display_data"
    },
    {
     "data": {
      "text/html": [
       "<a href=\"/videos/politics/2023/08/24/exp-gop-debate-jessica-dean-pkg-scott-jennings-intv-082412pseg2-cnni-world.cnn\" target=\"_blank\">/videos/politics/2023/08/24/exp-gop-debate-jessica-dean-pkg-scott-jennings-intv-082412pseg2-cnni-world.cnn</a>"
      ],
      "text/plain": [
       "<IPython.core.display.HTML object>"
      ]
     },
     "metadata": {},
     "output_type": "display_data"
    },
    {
     "data": {
      "text/html": [
       "<a href=\"/2023/01/14/politics/special-counsel-biden-trump-what-matters/index.html\" target=\"_blank\">/2023/01/14/politics/special-counsel-biden-trump-what-matters/index.html</a>"
      ],
      "text/plain": [
       "<IPython.core.display.HTML object>"
      ]
     },
     "metadata": {},
     "output_type": "display_data"
    },
    {
     "data": {
      "text/html": [
       "<a href=\"/2023/01/14/politics/special-counsel-biden-trump-what-matters/index.html\" target=\"_blank\">/2023/01/14/politics/special-counsel-biden-trump-what-matters/index.html</a>"
      ],
      "text/plain": [
       "<IPython.core.display.HTML object>"
      ]
     },
     "metadata": {},
     "output_type": "display_data"
    },
    {
     "data": {
      "text/html": [
       "<a href=\"/2023/08/08/politics/ohio-ballot-initiative-abortion-2024-fault-lines/index.html\" target=\"_blank\">/2023/08/08/politics/ohio-ballot-initiative-abortion-2024-fault-lines/index.html</a>"
      ],
      "text/plain": [
       "<IPython.core.display.HTML object>"
      ]
     },
     "metadata": {},
     "output_type": "display_data"
    },
    {
     "data": {
      "text/html": [
       "<a href=\"/2023/08/08/politics/ohio-ballot-initiative-abortion-2024-fault-lines/index.html\" target=\"_blank\">/2023/08/08/politics/ohio-ballot-initiative-abortion-2024-fault-lines/index.html</a>"
      ],
      "text/plain": [
       "<IPython.core.display.HTML object>"
      ]
     },
     "metadata": {},
     "output_type": "display_data"
    },
    {
     "data": {
      "text/html": [
       "<a href=\"/2023/08/23/politics/fact-check-republican-debate/index.html\" target=\"_blank\">/2023/08/23/politics/fact-check-republican-debate/index.html</a>"
      ],
      "text/plain": [
       "<IPython.core.display.HTML object>"
      ]
     },
     "metadata": {},
     "output_type": "display_data"
    },
    {
     "data": {
      "text/html": [
       "<a href=\"/2023/08/23/politics/fact-check-republican-debate/index.html\" target=\"_blank\">/2023/08/23/politics/fact-check-republican-debate/index.html</a>"
      ],
      "text/plain": [
       "<IPython.core.display.HTML object>"
      ]
     },
     "metadata": {},
     "output_type": "display_data"
    },
    {
     "data": {
      "text/html": [
       "<a href=\"/2023/08/22/politics/fact-check-vivek-ramaswamy-the-atlantic-911-misquoted/index.html\" target=\"_blank\">/2023/08/22/politics/fact-check-vivek-ramaswamy-the-atlantic-911-misquoted/index.html</a>"
      ],
      "text/plain": [
       "<IPython.core.display.HTML object>"
      ]
     },
     "metadata": {},
     "output_type": "display_data"
    },
    {
     "data": {
      "text/html": [
       "<a href=\"/2023/08/22/politics/fact-check-vivek-ramaswamy-the-atlantic-911-misquoted/index.html\" target=\"_blank\">/2023/08/22/politics/fact-check-vivek-ramaswamy-the-atlantic-911-misquoted/index.html</a>"
      ],
      "text/plain": [
       "<IPython.core.display.HTML object>"
      ]
     },
     "metadata": {},
     "output_type": "display_data"
    },
    {
     "data": {
      "text/html": [
       "<a href=\"/2023/08/18/politics/kfile-kenneth-chesebro-followed-alex-jones-capitol-riot-jan-6/index.html\" target=\"_blank\">/2023/08/18/politics/kfile-kenneth-chesebro-followed-alex-jones-capitol-riot-jan-6/index.html</a>"
      ],
      "text/plain": [
       "<IPython.core.display.HTML object>"
      ]
     },
     "metadata": {},
     "output_type": "display_data"
    },
    {
     "data": {
      "text/html": [
       "<a href=\"/2023/08/18/politics/kfile-kenneth-chesebro-followed-alex-jones-capitol-riot-jan-6/index.html\" target=\"_blank\">/2023/08/18/politics/kfile-kenneth-chesebro-followed-alex-jones-capitol-riot-jan-6/index.html</a>"
      ],
      "text/plain": [
       "<IPython.core.display.HTML object>"
      ]
     },
     "metadata": {},
     "output_type": "display_data"
    },
    {
     "data": {
      "text/html": [
       "<a href=\"/2023/08/12/politics/sam-brown-pac-debt-payments-kfile/index.html\" target=\"_blank\">/2023/08/12/politics/sam-brown-pac-debt-payments-kfile/index.html</a>"
      ],
      "text/plain": [
       "<IPython.core.display.HTML object>"
      ]
     },
     "metadata": {},
     "output_type": "display_data"
    },
    {
     "data": {
      "text/html": [
       "<a href=\"/2023/08/12/politics/sam-brown-pac-debt-payments-kfile/index.html\" target=\"_blank\">/2023/08/12/politics/sam-brown-pac-debt-payments-kfile/index.html</a>"
      ],
      "text/plain": [
       "<IPython.core.display.HTML object>"
      ]
     },
     "metadata": {},
     "output_type": "display_data"
    },
    {
     "data": {
      "text/html": [
       "<a href=\"/2023/08/23/politics/speaking-times-candidate-republican-debate-dg/index.html\" target=\"_blank\">/2023/08/23/politics/speaking-times-candidate-republican-debate-dg/index.html</a>"
      ],
      "text/plain": [
       "<IPython.core.display.HTML object>"
      ]
     },
     "metadata": {},
     "output_type": "display_data"
    },
    {
     "data": {
      "text/html": [
       "<a href=\"/2023/08/23/politics/harrison-floyd-fulton-county-maryland-charge-fbi/index.html\" target=\"_blank\">/2023/08/23/politics/harrison-floyd-fulton-county-maryland-charge-fbi/index.html</a>"
      ],
      "text/plain": [
       "<IPython.core.display.HTML object>"
      ]
     },
     "metadata": {},
     "output_type": "display_data"
    },
    {
     "data": {
      "text/html": [
       "<a href=\"/2023/08/23/politics/giuliani-fulton-county/index.html\" target=\"_blank\">/2023/08/23/politics/giuliani-fulton-county/index.html</a>"
      ],
      "text/plain": [
       "<IPython.core.display.HTML object>"
      ]
     },
     "metadata": {},
     "output_type": "display_data"
    },
    {
     "data": {
      "text/html": [
       "<a href=\"/2023/08/23/politics/willis-meadows-clark-arrest-response/index.html\" target=\"_blank\">/2023/08/23/politics/willis-meadows-clark-arrest-response/index.html</a>"
      ],
      "text/plain": [
       "<IPython.core.display.HTML object>"
      ]
     },
     "metadata": {},
     "output_type": "display_data"
    },
    {
     "data": {
      "text/html": [
       "<a href=\"/2023/08/23/politics/doug-burgum-injured/index.html\" target=\"_blank\">/2023/08/23/politics/doug-burgum-injured/index.html</a>"
      ],
      "text/plain": [
       "<IPython.core.display.HTML object>"
      ]
     },
     "metadata": {},
     "output_type": "display_data"
    },
    {
     "data": {
      "text/html": [
       "<a href=\"/2023/08/23/politics/south-carolina-supreme-court-six-week-abortion-ban/index.html\" target=\"_blank\">/2023/08/23/politics/south-carolina-supreme-court-six-week-abortion-ban/index.html</a>"
      ],
      "text/plain": [
       "<IPython.core.display.HTML object>"
      ]
     },
     "metadata": {},
     "output_type": "display_data"
    },
    {
     "data": {
      "text/html": [
       "<a href=\"/2023/08/23/politics/gop-debate-what-to-watch/index.html\" target=\"_blank\">/2023/08/23/politics/gop-debate-what-to-watch/index.html</a>"
      ],
      "text/plain": [
       "<IPython.core.display.HTML object>"
      ]
     },
     "metadata": {},
     "output_type": "display_data"
    },
    {
     "data": {
      "text/html": [
       "<a href=\"/2023/08/23/politics/republican-trump-allies-first-debate/index.html\" target=\"_blank\">/2023/08/23/politics/republican-trump-allies-first-debate/index.html</a>"
      ],
      "text/plain": [
       "<IPython.core.display.HTML object>"
      ]
     },
     "metadata": {},
     "output_type": "display_data"
    },
    {
     "data": {
      "text/html": [
       "<a href=\"/2023/08/22/politics/special-counsel-trump-documents-investigation/index.html\" target=\"_blank\">/2023/08/22/politics/special-counsel-trump-documents-investigation/index.html</a>"
      ],
      "text/plain": [
       "<IPython.core.display.HTML object>"
      ]
     },
     "metadata": {},
     "output_type": "display_data"
    },
    {
     "data": {
      "text/html": [
       "<a href=\"/2023/08/22/politics/trump-fulton-county/index.html\" target=\"_blank\">/2023/08/22/politics/trump-fulton-county/index.html</a>"
      ],
      "text/plain": [
       "<IPython.core.display.HTML object>"
      ]
     },
     "metadata": {},
     "output_type": "display_data"
    },
    {
     "data": {
      "text/html": [
       "<a href=\"/2023/08/22/politics/first-republican-debate-trump/index.html\" target=\"_blank\">/2023/08/22/politics/first-republican-debate-trump/index.html</a>"
      ],
      "text/plain": [
       "<IPython.core.display.HTML object>"
      ]
     },
     "metadata": {},
     "output_type": "display_data"
    },
    {
     "data": {
      "text/html": [
       "<a href=\"/2023/08/22/politics/january-6-transcripts-security-white-house-loudermilk/index.html\" target=\"_blank\">/2023/08/22/politics/january-6-transcripts-security-white-house-loudermilk/index.html</a>"
      ],
      "text/plain": [
       "<IPython.core.display.HTML object>"
      ]
     },
     "metadata": {},
     "output_type": "display_data"
    },
    {
     "data": {
      "text/html": [
       "<a href=\"/2023/08/22/politics/florida-medicaid-eligibility-lawsuit/index.html\" target=\"_blank\">/2023/08/22/politics/florida-medicaid-eligibility-lawsuit/index.html</a>"
      ],
      "text/plain": [
       "<IPython.core.display.HTML object>"
      ]
     },
     "metadata": {},
     "output_type": "display_data"
    },
    {
     "data": {
      "text/html": [
       "<a href=\"/2023/08/21/politics/milwaukee-rnc-presidential-debate-candidates/index.html\" target=\"_blank\">/2023/08/21/politics/milwaukee-rnc-presidential-debate-candidates/index.html</a>"
      ],
      "text/plain": [
       "<IPython.core.display.HTML object>"
      ]
     },
     "metadata": {},
     "output_type": "display_data"
    },
    {
     "data": {
      "text/html": [
       "<a href=\"/2023/08/17/politics/georgia-election-criminal-case-removal-federal-court-explainer/index.html\" target=\"_blank\">/2023/08/17/politics/georgia-election-criminal-case-removal-federal-court-explainer/index.html</a>"
      ],
      "text/plain": [
       "<IPython.core.display.HTML object>"
      ]
     },
     "metadata": {},
     "output_type": "display_data"
    },
    {
     "data": {
      "text/html": [
       "<a href=\"/2023/08/22/politics/fulton-county-bail-explainer-trump-election-case/index.html\" target=\"_blank\">/2023/08/22/politics/fulton-county-bail-explainer-trump-election-case/index.html</a>"
      ],
      "text/plain": [
       "<IPython.core.display.HTML object>"
      ]
     },
     "metadata": {},
     "output_type": "display_data"
    },
    {
     "data": {
      "text/html": [
       "<a href=\"/2023/08/22/politics/trump-delegate-race-desantis/index.html\" target=\"_blank\">/2023/08/22/politics/trump-delegate-race-desantis/index.html</a>"
      ],
      "text/plain": [
       "<IPython.core.display.HTML object>"
      ]
     },
     "metadata": {},
     "output_type": "display_data"
    },
    {
     "data": {
      "text/html": [
       "<a href=\"/2023/08/22/politics/biden-maui-trip/index.html\" target=\"_blank\">/2023/08/22/politics/biden-maui-trip/index.html</a>"
      ],
      "text/plain": [
       "<IPython.core.display.HTML object>"
      ]
     },
     "metadata": {},
     "output_type": "display_data"
    },
    {
     "data": {
      "text/html": [
       "<a href=\"/2023/08/22/politics/scott-hall-surrender-jail-trump/index.html\" target=\"_blank\">/2023/08/22/politics/scott-hall-surrender-jail-trump/index.html</a>"
      ],
      "text/plain": [
       "<IPython.core.display.HTML object>"
      ]
     },
     "metadata": {},
     "output_type": "display_data"
    },
    {
     "data": {
      "text/html": [
       "<a href=\"/2023/08/22/politics/florida-senate-debbie-mucarsel-powell/index.html\" target=\"_blank\">/2023/08/22/politics/florida-senate-debbie-mucarsel-powell/index.html</a>"
      ],
      "text/plain": [
       "<IPython.core.display.HTML object>"
      ]
     },
     "metadata": {},
     "output_type": "display_data"
    },
    {
     "data": {
      "text/html": [
       "<a href=\"/2023/07/12/politics/student-loans-save-plan/index.html\" target=\"_blank\">/2023/07/12/politics/student-loans-save-plan/index.html</a>"
      ],
      "text/plain": [
       "<IPython.core.display.HTML object>"
      ]
     },
     "metadata": {},
     "output_type": "display_data"
    },
    {
     "data": {
      "text/html": [
       "<a href=\"/2023/08/22/politics/abortion-iowa-voters-gop-debate/index.html\" target=\"_blank\">/2023/08/22/politics/abortion-iowa-voters-gop-debate/index.html</a>"
      ],
      "text/plain": [
       "<IPython.core.display.HTML object>"
      ]
     },
     "metadata": {},
     "output_type": "display_data"
    },
    {
     "data": {
      "text/html": [
       "<a href=\"/2023/08/22/politics/ed-siskel-white-house-counsel/index.html\" target=\"_blank\">/2023/08/22/politics/ed-siskel-white-house-counsel/index.html</a>"
      ],
      "text/plain": [
       "<IPython.core.display.HTML object>"
      ]
     },
     "metadata": {},
     "output_type": "display_data"
    },
    {
     "data": {
      "text/html": [
       "<a href=\"/2023/08/22/politics/dc-circuit-trump-jack-smith-election/index.html\" target=\"_blank\">/2023/08/22/politics/dc-circuit-trump-jack-smith-election/index.html</a>"
      ],
      "text/plain": [
       "<IPython.core.display.HTML object>"
      ]
     },
     "metadata": {},
     "output_type": "display_data"
    },
    {
     "data": {
      "text/html": [
       "<a href=\"/2023/08/21/politics/fulton-county-da-office-negotiations-trump/index.html\" target=\"_blank\">/2023/08/21/politics/fulton-county-da-office-negotiations-trump/index.html</a>"
      ],
      "text/plain": [
       "<IPython.core.display.HTML object>"
      ]
     },
     "metadata": {},
     "output_type": "display_data"
    },
    {
     "data": {
      "text/html": [
       "<a href=\"/2023/08/24/politics/gallery/trump-indictment-georgia-election/index.html\" target=\"_blank\">/2023/08/24/politics/gallery/trump-indictment-georgia-election/index.html</a>"
      ],
      "text/plain": [
       "<IPython.core.display.HTML object>"
      ]
     },
     "metadata": {},
     "output_type": "display_data"
    },
    {
     "data": {
      "text/html": [
       "<a href=\"/2023/08/24/politics/gallery/trump-indictment-georgia-election/index.html\" target=\"_blank\">/2023/08/24/politics/gallery/trump-indictment-georgia-election/index.html</a>"
      ],
      "text/plain": [
       "<IPython.core.display.HTML object>"
      ]
     },
     "metadata": {},
     "output_type": "display_data"
    },
    {
     "data": {
      "text/html": [
       "<a href=\"/2021/01/08/politics/gallery/donald-trump/index.html\" target=\"_blank\">/2021/01/08/politics/gallery/donald-trump/index.html</a>"
      ],
      "text/plain": [
       "<IPython.core.display.HTML object>"
      ]
     },
     "metadata": {},
     "output_type": "display_data"
    },
    {
     "data": {
      "text/html": [
       "<a href=\"/2021/01/08/politics/gallery/donald-trump/index.html\" target=\"_blank\">/2021/01/08/politics/gallery/donald-trump/index.html</a>"
      ],
      "text/plain": [
       "<IPython.core.display.HTML object>"
      ]
     },
     "metadata": {},
     "output_type": "display_data"
    },
    {
     "data": {
      "text/html": [
       "<a href=\"/2023/08/03/politics/gallery/trump-indictment-election-probe/index.html\" target=\"_blank\">/2023/08/03/politics/gallery/trump-indictment-election-probe/index.html</a>"
      ],
      "text/plain": [
       "<IPython.core.display.HTML object>"
      ]
     },
     "metadata": {},
     "output_type": "display_data"
    },
    {
     "data": {
      "text/html": [
       "<a href=\"/2023/08/03/politics/gallery/trump-indictment-election-probe/index.html\" target=\"_blank\">/2023/08/03/politics/gallery/trump-indictment-election-probe/index.html</a>"
      ],
      "text/plain": [
       "<IPython.core.display.HTML object>"
      ]
     },
     "metadata": {},
     "output_type": "display_data"
    },
    {
     "data": {
      "text/html": [
       "<a href=\"/account/settings\" target=\"_blank\">/account/settings</a>"
      ],
      "text/plain": [
       "<IPython.core.display.HTML object>"
      ]
     },
     "metadata": {},
     "output_type": "display_data"
    },
    {
     "data": {
      "text/html": [
       "<a href=\"/account/my-news?iid=fw_var-nav\" target=\"_blank\">/account/my-news?iid=fw_var-nav</a>"
      ],
      "text/plain": [
       "<IPython.core.display.HTML object>"
      ]
     },
     "metadata": {},
     "output_type": "display_data"
    },
    {
     "data": {
      "text/html": [
       "<a href=\"#\" target=\"_blank\">#</a>"
      ],
      "text/plain": [
       "<IPython.core.display.HTML object>"
      ]
     },
     "metadata": {},
     "output_type": "display_data"
    },
    {
     "data": {
      "text/html": [
       "<a href=\"#\" target=\"_blank\">#</a>"
      ],
      "text/plain": [
       "<IPython.core.display.HTML object>"
      ]
     },
     "metadata": {},
     "output_type": "display_data"
    },
    {
     "data": {
      "text/html": [
       "<a href=\"https://edition.cnn.com/live-tv\" target=\"_blank\">https://edition.cnn.com/live-tv</a>"
      ],
      "text/plain": [
       "<IPython.core.display.HTML object>"
      ]
     },
     "metadata": {},
     "output_type": "display_data"
    },
    {
     "data": {
      "text/html": [
       "<a href=\"https://edition.cnn.com/audio\" target=\"_blank\">https://edition.cnn.com/audio</a>"
      ],
      "text/plain": [
       "<IPython.core.display.HTML object>"
      ]
     },
     "metadata": {},
     "output_type": "display_data"
    },
    {
     "data": {
      "text/html": [
       "<a href=\"https://edition.cnn.com/world\" target=\"_blank\">https://edition.cnn.com/world</a>"
      ],
      "text/plain": [
       "<IPython.core.display.HTML object>"
      ]
     },
     "metadata": {},
     "output_type": "display_data"
    },
    {
     "data": {
      "text/html": [
       "<a href=\"https://edition.cnn.com/world/africa\" target=\"_blank\">https://edition.cnn.com/world/africa</a>"
      ],
      "text/plain": [
       "<IPython.core.display.HTML object>"
      ]
     },
     "metadata": {},
     "output_type": "display_data"
    },
    {
     "data": {
      "text/html": [
       "<a href=\"https://edition.cnn.com/world/americas\" target=\"_blank\">https://edition.cnn.com/world/americas</a>"
      ],
      "text/plain": [
       "<IPython.core.display.HTML object>"
      ]
     },
     "metadata": {},
     "output_type": "display_data"
    },
    {
     "data": {
      "text/html": [
       "<a href=\"https://edition.cnn.com/world/asia\" target=\"_blank\">https://edition.cnn.com/world/asia</a>"
      ],
      "text/plain": [
       "<IPython.core.display.HTML object>"
      ]
     },
     "metadata": {},
     "output_type": "display_data"
    },
    {
     "data": {
      "text/html": [
       "<a href=\"https://edition.cnn.com/world/australia\" target=\"_blank\">https://edition.cnn.com/world/australia</a>"
      ],
      "text/plain": [
       "<IPython.core.display.HTML object>"
      ]
     },
     "metadata": {},
     "output_type": "display_data"
    },
    {
     "data": {
      "text/html": [
       "<a href=\"https://edition.cnn.com/world/china\" target=\"_blank\">https://edition.cnn.com/world/china</a>"
      ],
      "text/plain": [
       "<IPython.core.display.HTML object>"
      ]
     },
     "metadata": {},
     "output_type": "display_data"
    },
    {
     "data": {
      "text/html": [
       "<a href=\"https://edition.cnn.com/world/europe\" target=\"_blank\">https://edition.cnn.com/world/europe</a>"
      ],
      "text/plain": [
       "<IPython.core.display.HTML object>"
      ]
     },
     "metadata": {},
     "output_type": "display_data"
    },
    {
     "data": {
      "text/html": [
       "<a href=\"https://edition.cnn.com/world/india\" target=\"_blank\">https://edition.cnn.com/world/india</a>"
      ],
      "text/plain": [
       "<IPython.core.display.HTML object>"
      ]
     },
     "metadata": {},
     "output_type": "display_data"
    },
    {
     "data": {
      "text/html": [
       "<a href=\"https://edition.cnn.com/world/middle-east\" target=\"_blank\">https://edition.cnn.com/world/middle-east</a>"
      ],
      "text/plain": [
       "<IPython.core.display.HTML object>"
      ]
     },
     "metadata": {},
     "output_type": "display_data"
    },
    {
     "data": {
      "text/html": [
       "<a href=\"https://edition.cnn.com/world/united-kingdom\" target=\"_blank\">https://edition.cnn.com/world/united-kingdom</a>"
      ],
      "text/plain": [
       "<IPython.core.display.HTML object>"
      ]
     },
     "metadata": {},
     "output_type": "display_data"
    },
    {
     "data": {
      "text/html": [
       "<a href=\"https://edition.cnn.com/politics\" target=\"_blank\">https://edition.cnn.com/politics</a>"
      ],
      "text/plain": [
       "<IPython.core.display.HTML object>"
      ]
     },
     "metadata": {},
     "output_type": "display_data"
    },
    {
     "data": {
      "text/html": [
       "<a href=\"https://edition.cnn.com/specials/politics/joe-biden-news\" target=\"_blank\">https://edition.cnn.com/specials/politics/joe-biden-news</a>"
      ],
      "text/plain": [
       "<IPython.core.display.HTML object>"
      ]
     },
     "metadata": {},
     "output_type": "display_data"
    },
    {
     "data": {
      "text/html": [
       "<a href=\"https://edition.cnn.com/specials/politics/fact-check-politics\" target=\"_blank\">https://edition.cnn.com/specials/politics/fact-check-politics</a>"
      ],
      "text/plain": [
       "<IPython.core.display.HTML object>"
      ]
     },
     "metadata": {},
     "output_type": "display_data"
    },
    {
     "data": {
      "text/html": [
       "<a href=\"https://edition.cnn.com/election/2020/results/president\" target=\"_blank\">https://edition.cnn.com/election/2020/results/president</a>"
      ],
      "text/plain": [
       "<IPython.core.display.HTML object>"
      ]
     },
     "metadata": {},
     "output_type": "display_data"
    },
    {
     "data": {
      "text/html": [
       "<a href=\"https://edition.cnn.com/business\" target=\"_blank\">https://edition.cnn.com/business</a>"
      ],
      "text/plain": [
       "<IPython.core.display.HTML object>"
      ]
     },
     "metadata": {},
     "output_type": "display_data"
    },
    {
     "data": {
      "text/html": [
       "<a href=\"https://edition.cnn.com/markets\" target=\"_blank\">https://edition.cnn.com/markets</a>"
      ],
      "text/plain": [
       "<IPython.core.display.HTML object>"
      ]
     },
     "metadata": {},
     "output_type": "display_data"
    },
    {
     "data": {
      "text/html": [
       "<a href=\"https://edition.cnn.com/business/tech\" target=\"_blank\">https://edition.cnn.com/business/tech</a>"
      ],
      "text/plain": [
       "<IPython.core.display.HTML object>"
      ]
     },
     "metadata": {},
     "output_type": "display_data"
    },
    {
     "data": {
      "text/html": [
       "<a href=\"https://edition.cnn.com/business/media\" target=\"_blank\">https://edition.cnn.com/business/media</a>"
      ],
      "text/plain": [
       "<IPython.core.display.HTML object>"
      ]
     },
     "metadata": {},
     "output_type": "display_data"
    },
    {
     "data": {
      "text/html": [
       "<a href=\"https://edition.cnn.com/business/financial-calculators\" target=\"_blank\">https://edition.cnn.com/business/financial-calculators</a>"
      ],
      "text/plain": [
       "<IPython.core.display.HTML object>"
      ]
     },
     "metadata": {},
     "output_type": "display_data"
    },
    {
     "data": {
      "text/html": [
       "<a href=\"https://edition.cnn.com/business/videos\" target=\"_blank\">https://edition.cnn.com/business/videos</a>"
      ],
      "text/plain": [
       "<IPython.core.display.HTML object>"
      ]
     },
     "metadata": {},
     "output_type": "display_data"
    },
    {
     "data": {
      "text/html": [
       "<a href=\"https://edition.cnn.com/health\" target=\"_blank\">https://edition.cnn.com/health</a>"
      ],
      "text/plain": [
       "<IPython.core.display.HTML object>"
      ]
     },
     "metadata": {},
     "output_type": "display_data"
    },
    {
     "data": {
      "text/html": [
       "<a href=\"https://edition.cnn.com/interactive/life-but-better/\" target=\"_blank\">https://edition.cnn.com/interactive/life-but-better/</a>"
      ],
      "text/plain": [
       "<IPython.core.display.HTML object>"
      ]
     },
     "metadata": {},
     "output_type": "display_data"
    },
    {
     "data": {
      "text/html": [
       "<a href=\"https://edition.cnn.com/specials/health/fitness-life-but-better\" target=\"_blank\">https://edition.cnn.com/specials/health/fitness-life-but-better</a>"
      ],
      "text/plain": [
       "<IPython.core.display.HTML object>"
      ]
     },
     "metadata": {},
     "output_type": "display_data"
    },
    {
     "data": {
      "text/html": [
       "<a href=\"https://edition.cnn.com/specials/health/food-life-but-better\" target=\"_blank\">https://edition.cnn.com/specials/health/food-life-but-better</a>"
      ],
      "text/plain": [
       "<IPython.core.display.HTML object>"
      ]
     },
     "metadata": {},
     "output_type": "display_data"
    },
    {
     "data": {
      "text/html": [
       "<a href=\"https://edition.cnn.com/specials/health/sleep-life-but-better\" target=\"_blank\">https://edition.cnn.com/specials/health/sleep-life-but-better</a>"
      ],
      "text/plain": [
       "<IPython.core.display.HTML object>"
      ]
     },
     "metadata": {},
     "output_type": "display_data"
    },
    {
     "data": {
      "text/html": [
       "<a href=\"https://edition.cnn.com/specials/health/mindfulness-life-but-better\" target=\"_blank\">https://edition.cnn.com/specials/health/mindfulness-life-but-better</a>"
      ],
      "text/plain": [
       "<IPython.core.display.HTML object>"
      ]
     },
     "metadata": {},
     "output_type": "display_data"
    },
    {
     "data": {
      "text/html": [
       "<a href=\"https://edition.cnn.com/specials/health/relationships-life-but-better\" target=\"_blank\">https://edition.cnn.com/specials/health/relationships-life-but-better</a>"
      ],
      "text/plain": [
       "<IPython.core.display.HTML object>"
      ]
     },
     "metadata": {},
     "output_type": "display_data"
    },
    {
     "data": {
      "text/html": [
       "<a href=\"https://edition.cnn.com/entertainment\" target=\"_blank\">https://edition.cnn.com/entertainment</a>"
      ],
      "text/plain": [
       "<IPython.core.display.HTML object>"
      ]
     },
     "metadata": {},
     "output_type": "display_data"
    },
    {
     "data": {
      "text/html": [
       "<a href=\"https://edition.cnn.com/entertainment/movies\" target=\"_blank\">https://edition.cnn.com/entertainment/movies</a>"
      ],
      "text/plain": [
       "<IPython.core.display.HTML object>"
      ]
     },
     "metadata": {},
     "output_type": "display_data"
    },
    {
     "data": {
      "text/html": [
       "<a href=\"https://edition.cnn.com/entertainment/tv-shows\" target=\"_blank\">https://edition.cnn.com/entertainment/tv-shows</a>"
      ],
      "text/plain": [
       "<IPython.core.display.HTML object>"
      ]
     },
     "metadata": {},
     "output_type": "display_data"
    },
    {
     "data": {
      "text/html": [
       "<a href=\"https://edition.cnn.com/entertainment/celebrities\" target=\"_blank\">https://edition.cnn.com/entertainment/celebrities</a>"
      ],
      "text/plain": [
       "<IPython.core.display.HTML object>"
      ]
     },
     "metadata": {},
     "output_type": "display_data"
    },
    {
     "data": {
      "text/html": [
       "<a href=\"https://edition.cnn.com/business/tech\" target=\"_blank\">https://edition.cnn.com/business/tech</a>"
      ],
      "text/plain": [
       "<IPython.core.display.HTML object>"
      ]
     },
     "metadata": {},
     "output_type": "display_data"
    },
    {
     "data": {
      "text/html": [
       "<a href=\"https://edition.cnn.com/specials/tech/innovate\" target=\"_blank\">https://edition.cnn.com/specials/tech/innovate</a>"
      ],
      "text/plain": [
       "<IPython.core.display.HTML object>"
      ]
     },
     "metadata": {},
     "output_type": "display_data"
    },
    {
     "data": {
      "text/html": [
       "<a href=\"https://edition.cnn.com/specials/tech/gadget\" target=\"_blank\">https://edition.cnn.com/specials/tech/gadget</a>"
      ],
      "text/plain": [
       "<IPython.core.display.HTML object>"
      ]
     },
     "metadata": {},
     "output_type": "display_data"
    },
    {
     "data": {
      "text/html": [
       "<a href=\"https://edition.cnn.com/specials/tech/foreseeable-future\" target=\"_blank\">https://edition.cnn.com/specials/tech/foreseeable-future</a>"
      ],
      "text/plain": [
       "<IPython.core.display.HTML object>"
      ]
     },
     "metadata": {},
     "output_type": "display_data"
    },
    {
     "data": {
      "text/html": [
       "<a href=\"https://edition.cnn.com/specials/tech/mission-ahead\" target=\"_blank\">https://edition.cnn.com/specials/tech/mission-ahead</a>"
      ],
      "text/plain": [
       "<IPython.core.display.HTML object>"
      ]
     },
     "metadata": {},
     "output_type": "display_data"
    },
    {
     "data": {
      "text/html": [
       "<a href=\"https://edition.cnn.com/specials/tech/upstarts\" target=\"_blank\">https://edition.cnn.com/specials/tech/upstarts</a>"
      ],
      "text/plain": [
       "<IPython.core.display.HTML object>"
      ]
     },
     "metadata": {},
     "output_type": "display_data"
    },
    {
     "data": {
      "text/html": [
       "<a href=\"https://edition.cnn.com/specials/tech/work-transformed\" target=\"_blank\">https://edition.cnn.com/specials/tech/work-transformed</a>"
      ],
      "text/plain": [
       "<IPython.core.display.HTML object>"
      ]
     },
     "metadata": {},
     "output_type": "display_data"
    },
    {
     "data": {
      "text/html": [
       "<a href=\"https://edition.cnn.com/specials/tech/innovative-cities\" target=\"_blank\">https://edition.cnn.com/specials/tech/innovative-cities</a>"
      ],
      "text/plain": [
       "<IPython.core.display.HTML object>"
      ]
     },
     "metadata": {},
     "output_type": "display_data"
    },
    {
     "data": {
      "text/html": [
       "<a href=\"https://edition.cnn.com/style\" target=\"_blank\">https://edition.cnn.com/style</a>"
      ],
      "text/plain": [
       "<IPython.core.display.HTML object>"
      ]
     },
     "metadata": {},
     "output_type": "display_data"
    },
    {
     "data": {
      "text/html": [
       "<a href=\"https://edition.cnn.com/style/arts\" target=\"_blank\">https://edition.cnn.com/style/arts</a>"
      ],
      "text/plain": [
       "<IPython.core.display.HTML object>"
      ]
     },
     "metadata": {},
     "output_type": "display_data"
    },
    {
     "data": {
      "text/html": [
       "<a href=\"https://edition.cnn.com/style/design\" target=\"_blank\">https://edition.cnn.com/style/design</a>"
      ],
      "text/plain": [
       "<IPython.core.display.HTML object>"
      ]
     },
     "metadata": {},
     "output_type": "display_data"
    },
    {
     "data": {
      "text/html": [
       "<a href=\"https://edition.cnn.com/style/fashion\" target=\"_blank\">https://edition.cnn.com/style/fashion</a>"
      ],
      "text/plain": [
       "<IPython.core.display.HTML object>"
      ]
     },
     "metadata": {},
     "output_type": "display_data"
    },
    {
     "data": {
      "text/html": [
       "<a href=\"https://edition.cnn.com/style/architecture\" target=\"_blank\">https://edition.cnn.com/style/architecture</a>"
      ],
      "text/plain": [
       "<IPython.core.display.HTML object>"
      ]
     },
     "metadata": {},
     "output_type": "display_data"
    },
    {
     "data": {
      "text/html": [
       "<a href=\"https://edition.cnn.com/style/luxury\" target=\"_blank\">https://edition.cnn.com/style/luxury</a>"
      ],
      "text/plain": [
       "<IPython.core.display.HTML object>"
      ]
     },
     "metadata": {},
     "output_type": "display_data"
    },
    {
     "data": {
      "text/html": [
       "<a href=\"https://edition.cnn.com/style/beauty\" target=\"_blank\">https://edition.cnn.com/style/beauty</a>"
      ],
      "text/plain": [
       "<IPython.core.display.HTML object>"
      ]
     },
     "metadata": {},
     "output_type": "display_data"
    },
    {
     "data": {
      "text/html": [
       "<a href=\"https://edition.cnn.com/style/videos\" target=\"_blank\">https://edition.cnn.com/style/videos</a>"
      ],
      "text/plain": [
       "<IPython.core.display.HTML object>"
      ]
     },
     "metadata": {},
     "output_type": "display_data"
    },
    {
     "data": {
      "text/html": [
       "<a href=\"https://edition.cnn.com/travel\" target=\"_blank\">https://edition.cnn.com/travel</a>"
      ],
      "text/plain": [
       "<IPython.core.display.HTML object>"
      ]
     },
     "metadata": {},
     "output_type": "display_data"
    },
    {
     "data": {
      "text/html": [
       "<a href=\"https://edition.cnn.com/travel/destinations\" target=\"_blank\">https://edition.cnn.com/travel/destinations</a>"
      ],
      "text/plain": [
       "<IPython.core.display.HTML object>"
      ]
     },
     "metadata": {},
     "output_type": "display_data"
    },
    {
     "data": {
      "text/html": [
       "<a href=\"https://edition.cnn.com/travel/food-and-drink\" target=\"_blank\">https://edition.cnn.com/travel/food-and-drink</a>"
      ],
      "text/plain": [
       "<IPython.core.display.HTML object>"
      ]
     },
     "metadata": {},
     "output_type": "display_data"
    },
    {
     "data": {
      "text/html": [
       "<a href=\"https://edition.cnn.com/travel/stay\" target=\"_blank\">https://edition.cnn.com/travel/stay</a>"
      ],
      "text/plain": [
       "<IPython.core.display.HTML object>"
      ]
     },
     "metadata": {},
     "output_type": "display_data"
    },
    {
     "data": {
      "text/html": [
       "<a href=\"https://edition.cnn.com/travel/news\" target=\"_blank\">https://edition.cnn.com/travel/news</a>"
      ],
      "text/plain": [
       "<IPython.core.display.HTML object>"
      ]
     },
     "metadata": {},
     "output_type": "display_data"
    },
    {
     "data": {
      "text/html": [
       "<a href=\"https://edition.cnn.com/travel/videos\" target=\"_blank\">https://edition.cnn.com/travel/videos</a>"
      ],
      "text/plain": [
       "<IPython.core.display.HTML object>"
      ]
     },
     "metadata": {},
     "output_type": "display_data"
    },
    {
     "data": {
      "text/html": [
       "<a href=\"https://edition.cnn.com/sport\" target=\"_blank\">https://edition.cnn.com/sport</a>"
      ],
      "text/plain": [
       "<IPython.core.display.HTML object>"
      ]
     },
     "metadata": {},
     "output_type": "display_data"
    },
    {
     "data": {
      "text/html": [
       "<a href=\"https://edition.cnn.com/sport/football\" target=\"_blank\">https://edition.cnn.com/sport/football</a>"
      ],
      "text/plain": [
       "<IPython.core.display.HTML object>"
      ]
     },
     "metadata": {},
     "output_type": "display_data"
    },
    {
     "data": {
      "text/html": [
       "<a href=\"https://edition.cnn.com/sport/tennis\" target=\"_blank\">https://edition.cnn.com/sport/tennis</a>"
      ],
      "text/plain": [
       "<IPython.core.display.HTML object>"
      ]
     },
     "metadata": {},
     "output_type": "display_data"
    },
    {
     "data": {
      "text/html": [
       "<a href=\"https://edition.cnn.com/sport/golf\" target=\"_blank\">https://edition.cnn.com/sport/golf</a>"
      ],
      "text/plain": [
       "<IPython.core.display.HTML object>"
      ]
     },
     "metadata": {},
     "output_type": "display_data"
    },
    {
     "data": {
      "text/html": [
       "<a href=\"https://edition.cnn.com/sport/motorsport\" target=\"_blank\">https://edition.cnn.com/sport/motorsport</a>"
      ],
      "text/plain": [
       "<IPython.core.display.HTML object>"
      ]
     },
     "metadata": {},
     "output_type": "display_data"
    },
    {
     "data": {
      "text/html": [
       "<a href=\"https://edition.cnn.com/sport/us-sports\" target=\"_blank\">https://edition.cnn.com/sport/us-sports</a>"
      ],
      "text/plain": [
       "<IPython.core.display.HTML object>"
      ]
     },
     "metadata": {},
     "output_type": "display_data"
    },
    {
     "data": {
      "text/html": [
       "<a href=\"https://edition.cnn.com/sport/paris-olympics-2024\" target=\"_blank\">https://edition.cnn.com/sport/paris-olympics-2024</a>"
      ],
      "text/plain": [
       "<IPython.core.display.HTML object>"
      ]
     },
     "metadata": {},
     "output_type": "display_data"
    },
    {
     "data": {
      "text/html": [
       "<a href=\"https://edition.cnn.com/sport/climbing\" target=\"_blank\">https://edition.cnn.com/sport/climbing</a>"
      ],
      "text/plain": [
       "<IPython.core.display.HTML object>"
      ]
     },
     "metadata": {},
     "output_type": "display_data"
    },
    {
     "data": {
      "text/html": [
       "<a href=\"https://edition.cnn.com/sport/esports\" target=\"_blank\">https://edition.cnn.com/sport/esports</a>"
      ],
      "text/plain": [
       "<IPython.core.display.HTML object>"
      ]
     },
     "metadata": {},
     "output_type": "display_data"
    },
    {
     "data": {
      "text/html": [
       "<a href=\"https://bleacherreport.com/nhl\" target=\"_blank\">https://bleacherreport.com/nhl</a>"
      ],
      "text/plain": [
       "<IPython.core.display.HTML object>"
      ]
     },
     "metadata": {},
     "output_type": "display_data"
    },
    {
     "data": {
      "text/html": [
       "<a href=\"https://edition.cnn.com/videos\" target=\"_blank\">https://edition.cnn.com/videos</a>"
      ],
      "text/plain": [
       "<IPython.core.display.HTML object>"
      ]
     },
     "metadata": {},
     "output_type": "display_data"
    },
    {
     "data": {
      "text/html": [
       "<a href=\"https://edition.cnn.com/live-tv\" target=\"_blank\">https://edition.cnn.com/live-tv</a>"
      ],
      "text/plain": [
       "<IPython.core.display.HTML object>"
      ]
     },
     "metadata": {},
     "output_type": "display_data"
    },
    {
     "data": {
      "text/html": [
       "<a href=\"https://edition.cnn.com/specials/digital-studios\" target=\"_blank\">https://edition.cnn.com/specials/digital-studios</a>"
      ],
      "text/plain": [
       "<IPython.core.display.HTML object>"
      ]
     },
     "metadata": {},
     "output_type": "display_data"
    },
    {
     "data": {
      "text/html": [
       "<a href=\"https://edition.cnn.com/specials/videos/digital-shorts\" target=\"_blank\">https://edition.cnn.com/specials/videos/digital-shorts</a>"
      ],
      "text/plain": [
       "<IPython.core.display.HTML object>"
      ]
     },
     "metadata": {},
     "output_type": "display_data"
    },
    {
     "data": {
      "text/html": [
       "<a href=\"https://edition.cnn.com/specials/videos/hln\" target=\"_blank\">https://edition.cnn.com/specials/videos/hln</a>"
      ],
      "text/plain": [
       "<IPython.core.display.HTML object>"
      ]
     },
     "metadata": {},
     "output_type": "display_data"
    },
    {
     "data": {
      "text/html": [
       "<a href=\"https://edition.cnn.com/tv/schedule/cnn\" target=\"_blank\">https://edition.cnn.com/tv/schedule/cnn</a>"
      ],
      "text/plain": [
       "<IPython.core.display.HTML object>"
      ]
     },
     "metadata": {},
     "output_type": "display_data"
    },
    {
     "data": {
      "text/html": [
       "<a href=\"https://edition.cnn.com/specials/tv/all-shows\" target=\"_blank\">https://edition.cnn.com/specials/tv/all-shows</a>"
      ],
      "text/plain": [
       "<IPython.core.display.HTML object>"
      ]
     },
     "metadata": {},
     "output_type": "display_data"
    },
    {
     "data": {
      "text/html": [
       "<a href=\"https://edition.cnn.com/vr\" target=\"_blank\">https://edition.cnn.com/vr</a>"
      ],
      "text/plain": [
       "<IPython.core.display.HTML object>"
      ]
     },
     "metadata": {},
     "output_type": "display_data"
    },
    {
     "data": {
      "text/html": [
       "<a href=\"https://edition.cnn.com/specials\" target=\"_blank\">https://edition.cnn.com/specials</a>"
      ],
      "text/plain": [
       "<IPython.core.display.HTML object>"
      ]
     },
     "metadata": {},
     "output_type": "display_data"
    },
    {
     "data": {
      "text/html": [
       "<a href=\"https://edition.cnn.com/interactive/asequals\" target=\"_blank\">https://edition.cnn.com/interactive/asequals</a>"
      ],
      "text/plain": [
       "<IPython.core.display.HTML object>"
      ]
     },
     "metadata": {},
     "output_type": "display_data"
    },
    {
     "data": {
      "text/html": [
       "<a href=\"https://edition.cnn.com/interactive/call-to-earth\" target=\"_blank\">https://edition.cnn.com/interactive/call-to-earth</a>"
      ],
      "text/plain": [
       "<IPython.core.display.HTML object>"
      ]
     },
     "metadata": {},
     "output_type": "display_data"
    },
    {
     "data": {
      "text/html": [
       "<a href=\"https://edition.cnn.com/specials/world/freedom-project\" target=\"_blank\">https://edition.cnn.com/specials/world/freedom-project</a>"
      ],
      "text/plain": [
       "<IPython.core.display.HTML object>"
      ]
     },
     "metadata": {},
     "output_type": "display_data"
    },
    {
     "data": {
      "text/html": [
       "<a href=\"https://edition.cnn.com/specials/impact-your-world\" target=\"_blank\">https://edition.cnn.com/specials/impact-your-world</a>"
      ],
      "text/plain": [
       "<IPython.core.display.HTML object>"
      ]
     },
     "metadata": {},
     "output_type": "display_data"
    },
    {
     "data": {
      "text/html": [
       "<a href=\"https://edition.cnn.com/specials/africa/inside-africa\" target=\"_blank\">https://edition.cnn.com/specials/africa/inside-africa</a>"
      ],
      "text/plain": [
       "<IPython.core.display.HTML object>"
      ]
     },
     "metadata": {},
     "output_type": "display_data"
    },
    {
     "data": {
      "text/html": [
       "<a href=\"https://edition.cnn.com/specials/opinions/two-degrees\" target=\"_blank\">https://edition.cnn.com/specials/opinions/two-degrees</a>"
      ],
      "text/plain": [
       "<IPython.core.display.HTML object>"
      ]
     },
     "metadata": {},
     "output_type": "display_data"
    },
    {
     "data": {
      "text/html": [
       "<a href=\"https://edition.cnn.com/specials/cnn-heroes\" target=\"_blank\">https://edition.cnn.com/specials/cnn-heroes</a>"
      ],
      "text/plain": [
       "<IPython.core.display.HTML object>"
      ]
     },
     "metadata": {},
     "output_type": "display_data"
    },
    {
     "data": {
      "text/html": [
       "<a href=\"https://edition.cnn.com/specials\" target=\"_blank\">https://edition.cnn.com/specials</a>"
      ],
      "text/plain": [
       "<IPython.core.display.HTML object>"
      ]
     },
     "metadata": {},
     "output_type": "display_data"
    },
    {
     "data": {
      "text/html": [
       "<a href=\"https://edition.cnn.com/weather\" target=\"_blank\">https://edition.cnn.com/weather</a>"
      ],
      "text/plain": [
       "<IPython.core.display.HTML object>"
      ]
     },
     "metadata": {},
     "output_type": "display_data"
    },
    {
     "data": {
      "text/html": [
       "<a href=\"https://edition.cnn.com/specials/world/cnn-climate\" target=\"_blank\">https://edition.cnn.com/specials/world/cnn-climate</a>"
      ],
      "text/plain": [
       "<IPython.core.display.HTML object>"
      ]
     },
     "metadata": {},
     "output_type": "display_data"
    },
    {
     "data": {
      "text/html": [
       "<a href=\"https://edition.cnn.com/interactive/2020/weather/wildfire-and-air-quality-tracker\" target=\"_blank\">https://edition.cnn.com/interactive/2020/weather/wildfire-and-air-quality-tracker</a>"
      ],
      "text/plain": [
       "<IPython.core.display.HTML object>"
      ]
     },
     "metadata": {},
     "output_type": "display_data"
    },
    {
     "data": {
      "text/html": [
       "<a href=\"https://edition.cnn.com/specials/weather/weather-video\" target=\"_blank\">https://edition.cnn.com/specials/weather/weather-video</a>"
      ],
      "text/plain": [
       "<IPython.core.display.HTML object>"
      ]
     },
     "metadata": {},
     "output_type": "display_data"
    },
    {
     "data": {
      "text/html": [
       "<a href=\"https://edition.cnn.com/more\" target=\"_blank\">https://edition.cnn.com/more</a>"
      ],
      "text/plain": [
       "<IPython.core.display.HTML object>"
      ]
     },
     "metadata": {},
     "output_type": "display_data"
    },
    {
     "data": {
      "text/html": [
       "<a href=\"https://edition.cnn.com/specials/photos\" target=\"_blank\">https://edition.cnn.com/specials/photos</a>"
      ],
      "text/plain": [
       "<IPython.core.display.HTML object>"
      ]
     },
     "metadata": {},
     "output_type": "display_data"
    },
    {
     "data": {
      "text/html": [
       "<a href=\"https://edition.cnn.com/specials/cnn-longform\" target=\"_blank\">https://edition.cnn.com/specials/cnn-longform</a>"
      ],
      "text/plain": [
       "<IPython.core.display.HTML object>"
      ]
     },
     "metadata": {},
     "output_type": "display_data"
    },
    {
     "data": {
      "text/html": [
       "<a href=\"https://edition.cnn.com/specials/cnn-investigates\" target=\"_blank\">https://edition.cnn.com/specials/cnn-investigates</a>"
      ],
      "text/plain": [
       "<IPython.core.display.HTML object>"
      ]
     },
     "metadata": {},
     "output_type": "display_data"
    },
    {
     "data": {
      "text/html": [
       "<a href=\"https://edition.cnn.com/specials/profiles\" target=\"_blank\">https://edition.cnn.com/specials/profiles</a>"
      ],
      "text/plain": [
       "<IPython.core.display.HTML object>"
      ]
     },
     "metadata": {},
     "output_type": "display_data"
    },
    {
     "data": {
      "text/html": [
       "<a href=\"https://edition.cnn.com/specials/more/cnn-leadership\" target=\"_blank\">https://edition.cnn.com/specials/more/cnn-leadership</a>"
      ],
      "text/plain": [
       "<IPython.core.display.HTML object>"
      ]
     },
     "metadata": {},
     "output_type": "display_data"
    },
    {
     "data": {
      "text/html": [
       "<a href=\"https://edition.cnn.com/email/subscription\" target=\"_blank\">https://edition.cnn.com/email/subscription</a>"
      ],
      "text/plain": [
       "<IPython.core.display.HTML object>"
      ]
     },
     "metadata": {},
     "output_type": "display_data"
    },
    {
     "data": {
      "text/html": [
       "<a href=\"https://careers.wbd.com/cnnjobs\" target=\"_blank\">https://careers.wbd.com/cnnjobs</a>"
      ],
      "text/plain": [
       "<IPython.core.display.HTML object>"
      ]
     },
     "metadata": {},
     "output_type": "display_data"
    },
    {
     "data": {
      "text/html": [
       "<a href=\"https://edition.cnn.com\" target=\"_blank\">https://edition.cnn.com</a>"
      ],
      "text/plain": [
       "<IPython.core.display.HTML object>"
      ]
     },
     "metadata": {},
     "output_type": "display_data"
    },
    {
     "data": {
      "text/html": [
       "<a href=\"https://edition.cnn.com/politics\" target=\"_blank\">https://edition.cnn.com/politics</a>"
      ],
      "text/plain": [
       "<IPython.core.display.HTML object>"
      ]
     },
     "metadata": {},
     "output_type": "display_data"
    },
    {
     "data": {
      "text/html": [
       "<a href=\"https://edition.cnn.com/audio\" target=\"_blank\">https://edition.cnn.com/audio</a>"
      ],
      "text/plain": [
       "<IPython.core.display.HTML object>"
      ]
     },
     "metadata": {},
     "output_type": "display_data"
    },
    {
     "data": {
      "text/html": [
       "<a href=\"https://edition.cnn.com/live-tv\" target=\"_blank\">https://edition.cnn.com/live-tv</a>"
      ],
      "text/plain": [
       "<IPython.core.display.HTML object>"
      ]
     },
     "metadata": {},
     "output_type": "display_data"
    },
    {
     "data": {
      "text/html": [
       "<a href=\"https://facebook.com/cnnpolitics\" target=\"_blank\">https://facebook.com/cnnpolitics</a>"
      ],
      "text/plain": [
       "<IPython.core.display.HTML object>"
      ]
     },
     "metadata": {},
     "output_type": "display_data"
    },
    {
     "data": {
      "text/html": [
       "<a href=\"https://twitter.com/cnnpolitics\" target=\"_blank\">https://twitter.com/cnnpolitics</a>"
      ],
      "text/plain": [
       "<IPython.core.display.HTML object>"
      ]
     },
     "metadata": {},
     "output_type": "display_data"
    },
    {
     "data": {
      "text/html": [
       "<a href=\"https://instagram.com/cnnpolitics\" target=\"_blank\">https://instagram.com/cnnpolitics</a>"
      ],
      "text/plain": [
       "<IPython.core.display.HTML object>"
      ]
     },
     "metadata": {},
     "output_type": "display_data"
    },
    {
     "data": {
      "text/html": [
       "<a href=\"https://youtube.com/user/CNN\" target=\"_blank\">https://youtube.com/user/CNN</a>"
      ],
      "text/plain": [
       "<IPython.core.display.HTML object>"
      ]
     },
     "metadata": {},
     "output_type": "display_data"
    },
    {
     "data": {
      "text/html": [
       "<a href=\"/account/settings\" target=\"_blank\">/account/settings</a>"
      ],
      "text/plain": [
       "<IPython.core.display.HTML object>"
      ]
     },
     "metadata": {},
     "output_type": "display_data"
    },
    {
     "data": {
      "text/html": [
       "<a href=\"/account/my-news?iid=fw_var-nav\" target=\"_blank\">/account/my-news?iid=fw_var-nav</a>"
      ],
      "text/plain": [
       "<IPython.core.display.HTML object>"
      ]
     },
     "metadata": {},
     "output_type": "display_data"
    },
    {
     "data": {
      "text/html": [
       "<a href=\"#\" target=\"_blank\">#</a>"
      ],
      "text/plain": [
       "<IPython.core.display.HTML object>"
      ]
     },
     "metadata": {},
     "output_type": "display_data"
    },
    {
     "data": {
      "text/html": [
       "<a href=\"#\" target=\"_blank\">#</a>"
      ],
      "text/plain": [
       "<IPython.core.display.HTML object>"
      ]
     },
     "metadata": {},
     "output_type": "display_data"
    },
    {
     "data": {
      "text/html": [
       "<a href=\"https://edition.cnn.com/terms\" target=\"_blank\">https://edition.cnn.com/terms</a>"
      ],
      "text/plain": [
       "<IPython.core.display.HTML object>"
      ]
     },
     "metadata": {},
     "output_type": "display_data"
    },
    {
     "data": {
      "text/html": [
       "<a href=\"https://edition.cnn.com/privacy\" target=\"_blank\">https://edition.cnn.com/privacy</a>"
      ],
      "text/plain": [
       "<IPython.core.display.HTML object>"
      ]
     },
     "metadata": {},
     "output_type": "display_data"
    },
    {
     "data": {
      "text/html": [
       "<a href=\"#\" target=\"_blank\">#</a>"
      ],
      "text/plain": [
       "<IPython.core.display.HTML object>"
      ]
     },
     "metadata": {},
     "output_type": "display_data"
    },
    {
     "data": {
      "text/html": [
       "<a href=\"https://warnermediaprivacy.com/policycenter/b2c/WMNS\" target=\"_blank\">https://warnermediaprivacy.com/policycenter/b2c/WMNS</a>"
      ],
      "text/plain": [
       "<IPython.core.display.HTML object>"
      ]
     },
     "metadata": {},
     "output_type": "display_data"
    },
    {
     "data": {
      "text/html": [
       "<a href=\"https://edition.cnn.com/accessibility\" target=\"_blank\">https://edition.cnn.com/accessibility</a>"
      ],
      "text/plain": [
       "<IPython.core.display.HTML object>"
      ]
     },
     "metadata": {},
     "output_type": "display_data"
    },
    {
     "data": {
      "text/html": [
       "<a href=\"https://edition.cnn.com/about\" target=\"_blank\">https://edition.cnn.com/about</a>"
      ],
      "text/plain": [
       "<IPython.core.display.HTML object>"
      ]
     },
     "metadata": {},
     "output_type": "display_data"
    },
    {
     "data": {
      "text/html": [
       "<a href=\"https://edition.cnn.com/newsletters\" target=\"_blank\">https://edition.cnn.com/newsletters</a>"
      ],
      "text/plain": [
       "<IPython.core.display.HTML object>"
      ]
     },
     "metadata": {},
     "output_type": "display_data"
    },
    {
     "data": {
      "text/html": [
       "<a href=\"https://edition.cnn.com/transcripts\" target=\"_blank\">https://edition.cnn.com/transcripts</a>"
      ],
      "text/plain": [
       "<IPython.core.display.HTML object>"
      ]
     },
     "metadata": {},
     "output_type": "display_data"
    },
    {
     "data": {
      "text/html": [
       "<a href=\"https://www.politico.eu?no-geo-redirect\" target=\"_blank\">https://www.politico.eu?no-geo-redirect</a>"
      ],
      "text/plain": [
       "<IPython.core.display.HTML object>"
      ]
     },
     "metadata": {},
     "output_type": "display_data"
    },
    {
     "data": {
      "text/html": [
       "<a href=\"https://www.politico.eu/uk/\" target=\"_blank\">https://www.politico.eu/uk/</a>"
      ],
      "text/plain": [
       "<IPython.core.display.HTML object>"
      ]
     },
     "metadata": {},
     "output_type": "display_data"
    },
    {
     "data": {
      "text/html": [
       "<a href=\"https://www.politico.eu/france-politics-news/\" target=\"_blank\">https://www.politico.eu/france-politics-news/</a>"
      ],
      "text/plain": [
       "<IPython.core.display.HTML object>"
      ]
     },
     "metadata": {},
     "output_type": "display_data"
    },
    {
     "data": {
      "text/html": [
       "<a href=\"https://www.politico.com/\" target=\"_blank\">https://www.politico.com/</a>"
      ],
      "text/plain": [
       "<IPython.core.display.HTML object>"
      ]
     },
     "metadata": {},
     "output_type": "display_data"
    },
    {
     "data": {
      "text/html": [
       "<a href=\"nan\" target=\"_blank\">nan</a>"
      ],
      "text/plain": [
       "<IPython.core.display.HTML object>"
      ]
     },
     "metadata": {},
     "output_type": "display_data"
    },
    {
     "data": {
      "text/html": [
       "<a href=\"/live/\" target=\"_blank\">/live/</a>"
      ],
      "text/plain": [
       "<IPython.core.display.HTML object>"
      ]
     },
     "metadata": {},
     "output_type": "display_data"
    },
    {
     "data": {
      "text/html": [
       "<a href=\"/events/future-events/\" target=\"_blank\">/events/future-events/</a>"
      ],
      "text/plain": [
       "<IPython.core.display.HTML object>"
      ]
     },
     "metadata": {},
     "output_type": "display_data"
    },
    {
     "data": {
      "text/html": [
       "<a href=\"nan\" target=\"_blank\">nan</a>"
      ],
      "text/plain": [
       "<IPython.core.display.HTML object>"
      ]
     },
     "metadata": {},
     "output_type": "display_data"
    },
    {
     "data": {
      "text/html": [
       "<a href=\"/about-us/\" target=\"_blank\">/about-us/</a>"
      ],
      "text/plain": [
       "<IPython.core.display.HTML object>"
      ]
     },
     "metadata": {},
     "output_type": "display_data"
    },
    {
     "data": {
      "text/html": [
       "<a href=\"/media-solutions/\" target=\"_blank\">/media-solutions/</a>"
      ],
      "text/plain": [
       "<IPython.core.display.HTML object>"
      ]
     },
     "metadata": {},
     "output_type": "display_data"
    },
    {
     "data": {
      "text/html": [
       "<a href=\"/politico-studio/\" target=\"_blank\">/politico-studio/</a>"
      ],
      "text/plain": [
       "<IPython.core.display.HTML object>"
      ]
     },
     "metadata": {},
     "output_type": "display_data"
    },
    {
     "data": {
      "text/html": [
       "<a href=\"/press\" target=\"_blank\">/press</a>"
      ],
      "text/plain": [
       "<IPython.core.display.HTML object>"
      ]
     },
     "metadata": {},
     "output_type": "display_data"
    },
    {
     "data": {
      "text/html": [
       "<a href=\"/politico-print-edition/\" target=\"_blank\">/politico-print-edition/</a>"
      ],
      "text/plain": [
       "<IPython.core.display.HTML object>"
      ]
     },
     "metadata": {},
     "output_type": "display_data"
    },
    {
     "data": {
      "text/html": [
       "<a href=\"/contact-us\" target=\"_blank\">/contact-us</a>"
      ],
      "text/plain": [
       "<IPython.core.display.HTML object>"
      ]
     },
     "metadata": {},
     "output_type": "display_data"
    },
    {
     "data": {
      "text/html": [
       "<a href=\"https://jobs.politico.eu/\" target=\"_blank\">https://jobs.politico.eu/</a>"
      ],
      "text/plain": [
       "<IPython.core.display.HTML object>"
      ]
     },
     "metadata": {},
     "output_type": "display_data"
    },
    {
     "data": {
      "text/html": [
       "<a href=\"/careers\" target=\"_blank\">/careers</a>"
      ],
      "text/plain": [
       "<IPython.core.display.HTML object>"
      ]
     },
     "metadata": {},
     "output_type": "display_data"
    },
    {
     "data": {
      "text/html": [
       "<a href=\"https://www.politico.eu\" target=\"_blank\">https://www.politico.eu</a>"
      ],
      "text/plain": [
       "<IPython.core.display.HTML object>"
      ]
     },
     "metadata": {},
     "output_type": "display_data"
    },
    {
     "data": {
      "text/html": [
       "<a href=\"https://www.politico.eu/pro/\" target=\"_blank\">https://www.politico.eu/pro/</a>"
      ],
      "text/plain": [
       "<IPython.core.display.HTML object>"
      ]
     },
     "metadata": {},
     "output_type": "display_data"
    },
    {
     "data": {
      "text/html": [
       "<a href=\"https://www.politico.eu/registration/\" target=\"_blank\">https://www.politico.eu/registration/</a>"
      ],
      "text/plain": [
       "<IPython.core.display.HTML object>"
      ]
     },
     "metadata": {},
     "output_type": "display_data"
    },
    {
     "data": {
      "text/html": [
       "<a href=\"https://www.politico.eu/pro/\" target=\"_blank\">https://www.politico.eu/pro/</a>"
      ],
      "text/plain": [
       "<IPython.core.display.HTML object>"
      ]
     },
     "metadata": {},
     "output_type": "display_data"
    },
    {
     "data": {
      "text/html": [
       "<a href=\"/brussels\" target=\"_blank\">/brussels</a>"
      ],
      "text/plain": [
       "<IPython.core.display.HTML object>"
      ]
     },
     "metadata": {},
     "output_type": "display_data"
    },
    {
     "data": {
      "text/html": [
       "<a href=\"https://www.politico.eu/france-politics-news/\" target=\"_blank\">https://www.politico.eu/france-politics-news/</a>"
      ],
      "text/plain": [
       "<IPython.core.display.HTML object>"
      ]
     },
     "metadata": {},
     "output_type": "display_data"
    },
    {
     "data": {
      "text/html": [
       "<a href=\"https://www.politico.eu/tag/german-politics/\" target=\"_blank\">https://www.politico.eu/tag/german-politics/</a>"
      ],
      "text/plain": [
       "<IPython.core.display.HTML object>"
      ]
     },
     "metadata": {},
     "output_type": "display_data"
    },
    {
     "data": {
      "text/html": [
       "<a href=\"https://www.politico.eu/tag/british-politics/\" target=\"_blank\">https://www.politico.eu/tag/british-politics/</a>"
      ],
      "text/plain": [
       "<IPython.core.display.HTML object>"
      ]
     },
     "metadata": {},
     "output_type": "display_data"
    },
    {
     "data": {
      "text/html": [
       "<a href=\"https://www.politico.eu/tag/migration/\" target=\"_blank\">https://www.politico.eu/tag/migration/</a>"
      ],
      "text/plain": [
       "<IPython.core.display.HTML object>"
      ]
     },
     "metadata": {},
     "output_type": "display_data"
    },
    {
     "data": {
      "text/html": [
       "<a href=\"https://www.politico.eu/tag/elections-in-europe/\" target=\"_blank\">https://www.politico.eu/tag/elections-in-europe/</a>"
      ],
      "text/plain": [
       "<IPython.core.display.HTML object>"
      ]
     },
     "metadata": {},
     "output_type": "display_data"
    },
    {
     "data": {
      "text/html": [
       "<a href=\"https://www.politico.eu/tag/defense/\" target=\"_blank\">https://www.politico.eu/tag/defense/</a>"
      ],
      "text/plain": [
       "<IPython.core.display.HTML object>"
      ]
     },
     "metadata": {},
     "output_type": "display_data"
    },
    {
     "data": {
      "text/html": [
       "<a href=\"https://www.politico.eu/tag/foreign-policy/\" target=\"_blank\">https://www.politico.eu/tag/foreign-policy/</a>"
      ],
      "text/plain": [
       "<IPython.core.display.HTML object>"
      ]
     },
     "metadata": {},
     "output_type": "display_data"
    },
    {
     "data": {
      "text/html": [
       "<a href=\"/europe-poll-of-polls/\" target=\"_blank\">/europe-poll-of-polls/</a>"
      ],
      "text/plain": [
       "<IPython.core.display.HTML object>"
      ]
     },
     "metadata": {},
     "output_type": "display_data"
    },
    {
     "data": {
      "text/html": [
       "<a href=\"/continent/\" target=\"_blank\">/continent/</a>"
      ],
      "text/plain": [
       "<IPython.core.display.HTML object>"
      ]
     },
     "metadata": {},
     "output_type": "display_data"
    },
    {
     "data": {
      "text/html": [
       "<a href=\"https://www.politico.eu/eu-china/\" target=\"_blank\">https://www.politico.eu/eu-china/</a>"
      ],
      "text/plain": [
       "<IPython.core.display.HTML object>"
      ]
     },
     "metadata": {},
     "output_type": "display_data"
    },
    {
     "data": {
      "text/html": [
       "<a href=\"/special-reports\" target=\"_blank\">/special-reports</a>"
      ],
      "text/plain": [
       "<IPython.core.display.HTML object>"
      ]
     },
     "metadata": {},
     "output_type": "display_data"
    },
    {
     "data": {
      "text/html": [
       "<a href=\"https://www.politico.eu/section/agriculture/\" target=\"_blank\">https://www.politico.eu/section/agriculture/</a>"
      ],
      "text/plain": [
       "<IPython.core.display.HTML object>"
      ]
     },
     "metadata": {},
     "output_type": "display_data"
    },
    {
     "data": {
      "text/html": [
       "<a href=\"https://www.politico.eu/section/competition/\" target=\"_blank\">https://www.politico.eu/section/competition/</a>"
      ],
      "text/plain": [
       "<IPython.core.display.HTML object>"
      ]
     },
     "metadata": {},
     "output_type": "display_data"
    },
    {
     "data": {
      "text/html": [
       "<a href=\"https://www.politico.eu/section/cybersecurity/\" target=\"_blank\">https://www.politico.eu/section/cybersecurity/</a>"
      ],
      "text/plain": [
       "<IPython.core.display.HTML object>"
      ]
     },
     "metadata": {},
     "output_type": "display_data"
    },
    {
     "data": {
      "text/html": [
       "<a href=\"https://www.politico.eu/section/energy/\" target=\"_blank\">https://www.politico.eu/section/energy/</a>"
      ],
      "text/plain": [
       "<IPython.core.display.HTML object>"
      ]
     },
     "metadata": {},
     "output_type": "display_data"
    },
    {
     "data": {
      "text/html": [
       "<a href=\"https://www.politico.eu/section/energy-uk/\" target=\"_blank\">https://www.politico.eu/section/energy-uk/</a>"
      ],
      "text/plain": [
       "<IPython.core.display.HTML object>"
      ]
     },
     "metadata": {},
     "output_type": "display_data"
    },
    {
     "data": {
      "text/html": [
       "<a href=\"https://www.politico.eu/section/brexit/\" target=\"_blank\">https://www.politico.eu/section/brexit/</a>"
      ],
      "text/plain": [
       "<IPython.core.display.HTML object>"
      ]
     },
     "metadata": {},
     "output_type": "display_data"
    },
    {
     "data": {
      "text/html": [
       "<a href=\"https://www.politico.eu/section/financial-services/\" target=\"_blank\">https://www.politico.eu/section/financial-services/</a>"
      ],
      "text/plain": [
       "<IPython.core.display.HTML object>"
      ]
     },
     "metadata": {},
     "output_type": "display_data"
    },
    {
     "data": {
      "text/html": [
       "<a href=\"https://www.politico.eu/section/central-banker/\" target=\"_blank\">https://www.politico.eu/section/central-banker/</a>"
      ],
      "text/plain": [
       "<IPython.core.display.HTML object>"
      ]
     },
     "metadata": {},
     "output_type": "display_data"
    },
    {
     "data": {
      "text/html": [
       "<a href=\"https://www.politico.eu/section/health-care/\" target=\"_blank\">https://www.politico.eu/section/health-care/</a>"
      ],
      "text/plain": [
       "<IPython.core.display.HTML object>"
      ]
     },
     "metadata": {},
     "output_type": "display_data"
    },
    {
     "data": {
      "text/html": [
       "<a href=\"https://www.politico.eu/section/mobility/\" target=\"_blank\">https://www.politico.eu/section/mobility/</a>"
      ],
      "text/plain": [
       "<IPython.core.display.HTML object>"
      ]
     },
     "metadata": {},
     "output_type": "display_data"
    },
    {
     "data": {
      "text/html": [
       "<a href=\"https://www.politico.eu/section/sustainability/\" target=\"_blank\">https://www.politico.eu/section/sustainability/</a>"
      ],
      "text/plain": [
       "<IPython.core.display.HTML object>"
      ]
     },
     "metadata": {},
     "output_type": "display_data"
    },
    {
     "data": {
      "text/html": [
       "<a href=\"https://www.politico.eu/section/technology/\" target=\"_blank\">https://www.politico.eu/section/technology/</a>"
      ],
      "text/plain": [
       "<IPython.core.display.HTML object>"
      ]
     },
     "metadata": {},
     "output_type": "display_data"
    },
    {
     "data": {
      "text/html": [
       "<a href=\"https://www.politico.eu/section/technology-uk/\" target=\"_blank\">https://www.politico.eu/section/technology-uk/</a>"
      ],
      "text/plain": [
       "<IPython.core.display.HTML object>"
      ]
     },
     "metadata": {},
     "output_type": "display_data"
    },
    {
     "data": {
      "text/html": [
       "<a href=\"https://www.politico.eu/section/trade/\" target=\"_blank\">https://www.politico.eu/section/trade/</a>"
      ],
      "text/plain": [
       "<IPython.core.display.HTML object>"
      ]
     },
     "metadata": {},
     "output_type": "display_data"
    },
    {
     "data": {
      "text/html": [
       "<a href=\"https://www.politico.eu/section/trade-uk/\" target=\"_blank\">https://www.politico.eu/section/trade-uk/</a>"
      ],
      "text/plain": [
       "<IPython.core.display.HTML object>"
      ]
     },
     "metadata": {},
     "output_type": "display_data"
    },
    {
     "data": {
      "text/html": [
       "<a href=\"https://www.politico.eu/section/paris-influence/\" target=\"_blank\">https://www.politico.eu/section/paris-influence/</a>"
      ],
      "text/plain": [
       "<IPython.core.display.HTML object>"
      ]
     },
     "metadata": {},
     "output_type": "display_data"
    },
    {
     "data": {
      "text/html": [
       "<a href=\"https://www.politico.eu/politico-28-hub/\" target=\"_blank\">https://www.politico.eu/politico-28-hub/</a>"
      ],
      "text/plain": [
       "<IPython.core.display.HTML object>"
      ]
     },
     "metadata": {},
     "output_type": "display_data"
    },
    {
     "data": {
      "text/html": [
       "<a href=\"https://www.politico.eu/livingcities/\" target=\"_blank\">https://www.politico.eu/livingcities/</a>"
      ],
      "text/plain": [
       "<IPython.core.display.HTML object>"
      ]
     },
     "metadata": {},
     "output_type": "display_data"
    },
    {
     "data": {
      "text/html": [
       "<a href=\"https://www.politico.eu/climate-changed/\" target=\"_blank\">https://www.politico.eu/climate-changed/</a>"
      ],
      "text/plain": [
       "<IPython.core.display.HTML object>"
      ]
     },
     "metadata": {},
     "output_type": "display_data"
    },
    {
     "data": {
      "text/html": [
       "<a href=\"https://www.politico.eu/silent-killers-chronic-disease/\" target=\"_blank\">https://www.politico.eu/silent-killers-chronic-disease/</a>"
      ],
      "text/plain": [
       "<IPython.core.display.HTML object>"
      ]
     },
     "metadata": {},
     "output_type": "display_data"
    },
    {
     "data": {
      "text/html": [
       "<a href=\"https://www.politico.eu/after-coronavirus-recovery-europe/\" target=\"_blank\">https://www.politico.eu/after-coronavirus-recovery-europe/</a>"
      ],
      "text/plain": [
       "<IPython.core.display.HTML object>"
      ]
     },
     "metadata": {},
     "output_type": "display_data"
    },
    {
     "data": {
      "text/html": [
       "<a href=\"https://www.politico.eu/work-reloaded/\" target=\"_blank\">https://www.politico.eu/work-reloaded/</a>"
      ],
      "text/plain": [
       "<IPython.core.display.HTML object>"
      ]
     },
     "metadata": {},
     "output_type": "display_data"
    },
    {
     "data": {
      "text/html": [
       "<a href=\"https://www.politico.eu/the-road-to-cop26-climate-change-glasgow/\" target=\"_blank\">https://www.politico.eu/the-road-to-cop26-climate-change-glasgow/</a>"
      ],
      "text/plain": [
       "<IPython.core.display.HTML object>"
      ]
     },
     "metadata": {},
     "output_type": "display_data"
    },
    {
     "data": {
      "text/html": [
       "<a href=\"/telescope-hub/\" target=\"_blank\">/telescope-hub/</a>"
      ],
      "text/plain": [
       "<IPython.core.display.HTML object>"
      ]
     },
     "metadata": {},
     "output_type": "display_data"
    },
    {
     "data": {
      "text/html": [
       "<a href=\"https://www.politico.eu/tag/eu-in-africa/\" target=\"_blank\">https://www.politico.eu/tag/eu-in-africa/</a>"
      ],
      "text/plain": [
       "<IPython.core.display.HTML object>"
      ]
     },
     "metadata": {},
     "output_type": "display_data"
    },
    {
     "data": {
      "text/html": [
       "<a href=\"/policy-guide\" target=\"_blank\">/policy-guide</a>"
      ],
      "text/plain": [
       "<IPython.core.display.HTML object>"
      ]
     },
     "metadata": {},
     "output_type": "display_data"
    },
    {
     "data": {
      "text/html": [
       "<a href=\"/changemakers/\" target=\"_blank\">/changemakers/</a>"
      ],
      "text/plain": [
       "<IPython.core.display.HTML object>"
      ]
     },
     "metadata": {},
     "output_type": "display_data"
    },
    {
     "data": {
      "text/html": [
       "<a href=\"https://www.politico.eu/section/opinion/\" target=\"_blank\">https://www.politico.eu/section/opinion/</a>"
      ],
      "text/plain": [
       "<IPython.core.display.HTML object>"
      ]
     },
     "metadata": {},
     "output_type": "display_data"
    },
    {
     "data": {
      "text/html": [
       "<a href=\"https://www.politico.eu/tag/unpacked/\" target=\"_blank\">https://www.politico.eu/tag/unpacked/</a>"
      ],
      "text/plain": [
       "<IPython.core.display.HTML object>"
      ]
     },
     "metadata": {},
     "output_type": "display_data"
    },
    {
     "data": {
      "text/html": [
       "<a href=\"https://www.politico.eu/tag/beyond-the-bubble/\" target=\"_blank\">https://www.politico.eu/tag/beyond-the-bubble/</a>"
      ],
      "text/plain": [
       "<IPython.core.display.HTML object>"
      ]
     },
     "metadata": {},
     "output_type": "display_data"
    },
    {
     "data": {
      "text/html": [
       "<a href=\"https://www.politico.eu/tag/from-across-the-pond/\" target=\"_blank\">https://www.politico.eu/tag/from-across-the-pond/</a>"
      ],
      "text/plain": [
       "<IPython.core.display.HTML object>"
      ]
     },
     "metadata": {},
     "output_type": "display_data"
    },
    {
     "data": {
      "text/html": [
       "<a href=\"https://www.politico.eu/tag/club-med/\" target=\"_blank\">https://www.politico.eu/tag/club-med/</a>"
      ],
      "text/plain": [
       "<IPython.core.display.HTML object>"
      ]
     },
     "metadata": {},
     "output_type": "display_data"
    },
    {
     "data": {
      "text/html": [
       "<a href=\"https://www.politico.eu/tag/declassified/\" target=\"_blank\">https://www.politico.eu/tag/declassified/</a>"
      ],
      "text/plain": [
       "<IPython.core.display.HTML object>"
      ]
     },
     "metadata": {},
     "output_type": "display_data"
    },
    {
     "data": {
      "text/html": [
       "<a href=\"https://www.politico.eu/events/future-events/\" target=\"_blank\">https://www.politico.eu/events/future-events/</a>"
      ],
      "text/plain": [
       "<IPython.core.display.HTML object>"
      ]
     },
     "metadata": {},
     "output_type": "display_data"
    },
    {
     "data": {
      "text/html": [
       "<a href=\"https://www.politico.eu/events/past-events/\" target=\"_blank\">https://www.politico.eu/events/past-events/</a>"
      ],
      "text/plain": [
       "<IPython.core.display.HTML object>"
      ]
     },
     "metadata": {},
     "output_type": "display_data"
    },
    {
     "data": {
      "text/html": [
       "<a href=\"https://www.politico.eu/live/\" target=\"_blank\">https://www.politico.eu/live/</a>"
      ],
      "text/plain": [
       "<IPython.core.display.HTML object>"
      ]
     },
     "metadata": {},
     "output_type": "display_data"
    },
    {
     "data": {
      "text/html": [
       "<a href=\"/\" target=\"_blank\">/</a>"
      ],
      "text/plain": [
       "<IPython.core.display.HTML object>"
      ]
     },
     "metadata": {},
     "output_type": "display_data"
    },
    {
     "data": {
      "text/html": [
       "<a href=\"/uk\" target=\"_blank\">/uk</a>"
      ],
      "text/plain": [
       "<IPython.core.display.HTML object>"
      ]
     },
     "metadata": {},
     "output_type": "display_data"
    },
    {
     "data": {
      "text/html": [
       "<a href=\"https://www.politico.com/\" target=\"_blank\">https://www.politico.com/</a>"
      ],
      "text/plain": [
       "<IPython.core.display.HTML object>"
      ]
     },
     "metadata": {},
     "output_type": "display_data"
    },
    {
     "data": {
      "text/html": [
       "<a href=\"https://www.politico.com/news/california\" target=\"_blank\">https://www.politico.com/news/california</a>"
      ],
      "text/plain": [
       "<IPython.core.display.HTML object>"
      ]
     },
     "metadata": {},
     "output_type": "display_data"
    },
    {
     "data": {
      "text/html": [
       "<a href=\"https://www.politico.com/news/new-york\" target=\"_blank\">https://www.politico.com/news/new-york</a>"
      ],
      "text/plain": [
       "<IPython.core.display.HTML object>"
      ]
     },
     "metadata": {},
     "output_type": "display_data"
    },
    {
     "data": {
      "text/html": [
       "<a href=\"https://edition.pagesuite-professional.co.uk/html5/reader/production/default.aspx?pubname=&pubid=926f0c8c-7f9b-4c0c-a74d-25af040856bf\" target=\"_blank\">https://edition.pagesuite-professional.co.uk/html5/reader/production/default.aspx?pubname=&pubid=926f0c8c-7f9b-4c0c-a74d-25af040856bf</a>"
      ],
      "text/plain": [
       "<IPython.core.display.HTML object>"
      ]
     },
     "metadata": {},
     "output_type": "display_data"
    },
    {
     "data": {
      "text/html": [
       "<a href=\"https://www.politico.eu/research-analysis-division/\" target=\"_blank\">https://www.politico.eu/research-analysis-division/</a>"
      ],
      "text/plain": [
       "<IPython.core.display.HTML object>"
      ]
     },
     "metadata": {},
     "output_type": "display_data"
    },
    {
     "data": {
      "text/html": [
       "<a href=\"/newsletter\" target=\"_blank\">/newsletter</a>"
      ],
      "text/plain": [
       "<IPython.core.display.HTML object>"
      ]
     },
     "metadata": {},
     "output_type": "display_data"
    },
    {
     "data": {
      "text/html": [
       "<a href=\"/newsletter/brussels-playbook/\" target=\"_blank\">/newsletter/brussels-playbook/</a>"
      ],
      "text/plain": [
       "<IPython.core.display.HTML object>"
      ]
     },
     "metadata": {},
     "output_type": "display_data"
    },
    {
     "data": {
      "text/html": [
       "<a href=\"/newsletter/london-playbook/\" target=\"_blank\">/newsletter/london-playbook/</a>"
      ],
      "text/plain": [
       "<IPython.core.display.HTML object>"
      ]
     },
     "metadata": {},
     "output_type": "display_data"
    },
    {
     "data": {
      "text/html": [
       "<a href=\"https://www.politico.eu/newsletter/playbook-paris/\" target=\"_blank\">https://www.politico.eu/newsletter/playbook-paris/</a>"
      ],
      "text/plain": [
       "<IPython.core.display.HTML object>"
      ]
     },
     "metadata": {},
     "output_type": "display_data"
    },
    {
     "data": {
      "text/html": [
       "<a href=\"https://www.politico.eu/newsletter/dimanchissime/\" target=\"_blank\">https://www.politico.eu/newsletter/dimanchissime/</a>"
      ],
      "text/plain": [
       "<IPython.core.display.HTML object>"
      ]
     },
     "metadata": {},
     "output_type": "display_data"
    },
    {
     "data": {
      "text/html": [
       "<a href=\"https://www.politico.eu/newsletter/davos-playbook/\" target=\"_blank\">https://www.politico.eu/newsletter/davos-playbook/</a>"
      ],
      "text/plain": [
       "<IPython.core.display.HTML object>"
      ]
     },
     "metadata": {},
     "output_type": "display_data"
    },
    {
     "data": {
      "text/html": [
       "<a href=\"/newsletter/sunday-crunch/\" target=\"_blank\">/newsletter/sunday-crunch/</a>"
      ],
      "text/plain": [
       "<IPython.core.display.HTML object>"
      ]
     },
     "metadata": {},
     "output_type": "display_data"
    },
    {
     "data": {
      "text/html": [
       "<a href=\"/newsletter/berlin-bulletin/\" target=\"_blank\">/newsletter/berlin-bulletin/</a>"
      ],
      "text/plain": [
       "<IPython.core.display.HTML object>"
      ]
     },
     "metadata": {},
     "output_type": "display_data"
    },
    {
     "data": {
      "text/html": [
       "<a href=\"/newsletter/politico-london-influence/\" target=\"_blank\">/newsletter/politico-london-influence/</a>"
      ],
      "text/plain": [
       "<IPython.core.display.HTML object>"
      ]
     },
     "metadata": {},
     "output_type": "display_data"
    },
    {
     "data": {
      "text/html": [
       "<a href=\"/newsletter/politico-eu-influence/\" target=\"_blank\">/newsletter/politico-eu-influence/</a>"
      ],
      "text/plain": [
       "<IPython.core.display.HTML object>"
      ]
     },
     "metadata": {},
     "output_type": "display_data"
    },
    {
     "data": {
      "text/html": [
       "<a href=\"https://www.politico.eu/newsletter/digital-bridge/\" target=\"_blank\">https://www.politico.eu/newsletter/digital-bridge/</a>"
      ],
      "text/plain": [
       "<IPython.core.display.HTML object>"
      ]
     },
     "metadata": {},
     "output_type": "display_data"
    },
    {
     "data": {
      "text/html": [
       "<a href=\"https://www.politico.eu/newsletter/china-watcher/\" target=\"_blank\">https://www.politico.eu/newsletter/china-watcher/</a>"
      ],
      "text/plain": [
       "<IPython.core.display.HTML object>"
      ]
     },
     "metadata": {},
     "output_type": "display_data"
    },
    {
     "data": {
      "text/html": [
       "<a href=\"https://www.politico.eu/newsletter/politico-confidential/\" target=\"_blank\">https://www.politico.eu/newsletter/politico-confidential/</a>"
      ],
      "text/plain": [
       "<IPython.core.display.HTML object>"
      ]
     },
     "metadata": {},
     "output_type": "display_data"
    },
    {
     "data": {
      "text/html": [
       "<a href=\"https://www.politico.eu/livingcities/#newsletter\" target=\"_blank\">https://www.politico.eu/livingcities/#newsletter</a>"
      ],
      "text/plain": [
       "<IPython.core.display.HTML object>"
      ]
     },
     "metadata": {},
     "output_type": "display_data"
    },
    {
     "data": {
      "text/html": [
       "<a href=\"/podcast\" target=\"_blank\">/podcast</a>"
      ],
      "text/plain": [
       "<IPython.core.display.HTML object>"
      ]
     },
     "metadata": {},
     "output_type": "display_data"
    },
    {
     "data": {
      "text/html": [
       "<a href=\"/eu-confidential-podcast/\" target=\"_blank\">/eu-confidential-podcast/</a>"
      ],
      "text/plain": [
       "<IPython.core.display.HTML object>"
      ]
     },
     "metadata": {},
     "output_type": "display_data"
    },
    {
     "data": {
      "text/html": [
       "<a href=\"/westminster-insider-podcast/\" target=\"_blank\">/westminster-insider-podcast/</a>"
      ],
      "text/plain": [
       "<IPython.core.display.HTML object>"
      ]
     },
     "metadata": {},
     "output_type": "display_data"
    },
    {
     "data": {
      "text/html": [
       "<a href=\"https://www.politico.eu/power-play-podcast/\" target=\"_blank\">https://www.politico.eu/power-play-podcast/</a>"
      ],
      "text/plain": [
       "<IPython.core.display.HTML object>"
      ]
     },
     "metadata": {},
     "output_type": "display_data"
    },
    {
     "data": {
      "text/html": [
       "<a href=\"/campaign-confidential/\" target=\"_blank\">/campaign-confidential/</a>"
      ],
      "text/plain": [
       "<IPython.core.display.HTML object>"
      ]
     },
     "metadata": {},
     "output_type": "display_data"
    },
    {
     "data": {
      "text/html": [
       "<a href=\"https://www.politico.eu/davos-confidential/\" target=\"_blank\">https://www.politico.eu/davos-confidential/</a>"
      ],
      "text/plain": [
       "<IPython.core.display.HTML object>"
      ]
     },
     "metadata": {},
     "output_type": "display_data"
    },
    {
     "data": {
      "text/html": [
       "<a href=\"https://www.politico.eu/?page_id=207640\" target=\"_blank\">https://www.politico.eu/?page_id=207640</a>"
      ],
      "text/plain": [
       "<IPython.core.display.HTML object>"
      ]
     },
     "metadata": {},
     "output_type": "display_data"
    },
    {
     "data": {
      "text/html": [
       "<a href=\"https://play.google.com/store/apps/details?id=eu.politico.promobile&hl=en_UK\" target=\"_blank\">https://play.google.com/store/apps/details?id=eu.politico.promobile&hl=en_UK</a>"
      ],
      "text/plain": [
       "<IPython.core.display.HTML object>"
      ]
     },
     "metadata": {},
     "output_type": "display_data"
    },
    {
     "data": {
      "text/html": [
       "<a href=\"https://apps.apple.com/be/app/politico-pro-europe/id1396447664\" target=\"_blank\">https://apps.apple.com/be/app/politico-pro-europe/id1396447664</a>"
      ],
      "text/plain": [
       "<IPython.core.display.HTML object>"
      ]
     },
     "metadata": {},
     "output_type": "display_data"
    },
    {
     "data": {
      "text/html": [
       "<a href=\"https://www.facebook.com/POLITICOeu/\" target=\"_blank\">https://www.facebook.com/POLITICOeu/</a>"
      ],
      "text/plain": [
       "<IPython.core.display.HTML object>"
      ]
     },
     "metadata": {},
     "output_type": "display_data"
    },
    {
     "data": {
      "text/html": [
       "<a href=\"https://twitter.com/POLITICOEurope\" target=\"_blank\">https://twitter.com/POLITICOEurope</a>"
      ],
      "text/plain": [
       "<IPython.core.display.HTML object>"
      ]
     },
     "metadata": {},
     "output_type": "display_data"
    },
    {
     "data": {
      "text/html": [
       "<a href=\"https://www.linkedin.com/company/politico-europe/\" target=\"_blank\">https://www.linkedin.com/company/politico-europe/</a>"
      ],
      "text/plain": [
       "<IPython.core.display.HTML object>"
      ]
     },
     "metadata": {},
     "output_type": "display_data"
    },
    {
     "data": {
      "text/html": [
       "<a href=\"/why-go-pro/\" target=\"_blank\">/why-go-pro/</a>"
      ],
      "text/plain": [
       "<IPython.core.display.HTML object>"
      ]
     },
     "metadata": {},
     "output_type": "display_data"
    },
    {
     "data": {
      "text/html": [
       "<a href=\"/why-go-pro/#why-go-pro\" target=\"_blank\">/why-go-pro/#why-go-pro</a>"
      ],
      "text/plain": [
       "<IPython.core.display.HTML object>"
      ]
     },
     "metadata": {},
     "output_type": "display_data"
    },
    {
     "data": {
      "text/html": [
       "<a href=\"/why-go-pro/#coverage\" target=\"_blank\">/why-go-pro/#coverage</a>"
      ],
      "text/plain": [
       "<IPython.core.display.HTML object>"
      ]
     },
     "metadata": {},
     "output_type": "display_data"
    },
    {
     "data": {
      "text/html": [
       "<a href=\"/why-go-pro/#newsroom\" target=\"_blank\">/why-go-pro/#newsroom</a>"
      ],
      "text/plain": [
       "<IPython.core.display.HTML object>"
      ]
     },
     "metadata": {},
     "output_type": "display_data"
    },
    {
     "data": {
      "text/html": [
       "<a href=\"/why-go-pro/request-demo/\" target=\"_blank\">/why-go-pro/request-demo/</a>"
      ],
      "text/plain": [
       "<IPython.core.display.HTML object>"
      ]
     },
     "metadata": {},
     "output_type": "display_data"
    },
    {
     "data": {
      "text/html": [
       "<a href=\"/cdn-cgi/l/email-protection#6e1e1c012e1e0102071a070d01400b1b\" target=\"_blank\">/cdn-cgi/l/email-protection#6e1e1c012e1e0102071a070d01400b1b</a>"
      ],
      "text/plain": [
       "<IPython.core.display.HTML object>"
      ]
     },
     "metadata": {},
     "output_type": "display_data"
    },
    {
     "data": {
      "text/html": [
       "<a href=\"#header__topics--menu\" target=\"_blank\">#header__topics--menu</a>"
      ],
      "text/plain": [
       "<IPython.core.display.HTML object>"
      ]
     },
     "metadata": {},
     "output_type": "display_data"
    },
    {
     "data": {
      "text/html": [
       "<a href=\"https://www.politico.eu/tag/war-in-ukraine/\" target=\"_blank\">https://www.politico.eu/tag/war-in-ukraine/</a>"
      ],
      "text/plain": [
       "<IPython.core.display.HTML object>"
      ]
     },
     "metadata": {},
     "output_type": "display_data"
    },
    {
     "data": {
      "text/html": [
       "<a href=\"https://www.politico.eu/tag/qatargate-european-parliament-corruption-scandal/\" target=\"_blank\">https://www.politico.eu/tag/qatargate-european-parliament-corruption-scandal/</a>"
      ],
      "text/plain": [
       "<IPython.core.display.HTML object>"
      ]
     },
     "metadata": {},
     "output_type": "display_data"
    },
    {
     "data": {
      "text/html": [
       "<a href=\"https://www.politico.eu/tag/pestminster/\" target=\"_blank\">https://www.politico.eu/tag/pestminster/</a>"
      ],
      "text/plain": [
       "<IPython.core.display.HTML object>"
      ]
     },
     "metadata": {},
     "output_type": "display_data"
    },
    {
     "data": {
      "text/html": [
       "<a href=\"https://www.politico.eu/livingcities/\" target=\"_blank\">https://www.politico.eu/livingcities/</a>"
      ],
      "text/plain": [
       "<IPython.core.display.HTML object>"
      ]
     },
     "metadata": {},
     "output_type": "display_data"
    },
    {
     "data": {
      "text/html": [
       "<a href=\"https://www.politico.eu/article/volodymyr-zelenskyy-react-yevgeny-prigozhin-death-wagner-group-russia-ukraine/\" target=\"_blank\">https://www.politico.eu/article/volodymyr-zelenskyy-react-yevgeny-prigozhin-death-wagner-group-russia-ukraine/</a>"
      ],
      "text/plain": [
       "<IPython.core.display.HTML object>"
      ]
     },
     "metadata": {},
     "output_type": "display_data"
    },
    {
     "data": {
      "text/html": [
       "<a href=\"https://www.politico.eu/article/ukraine-war-russia-crimea-casualties/\" target=\"_blank\">https://www.politico.eu/article/ukraine-war-russia-crimea-casualties/</a>"
      ],
      "text/plain": [
       "<IPython.core.display.HTML object>"
      ]
     },
     "metadata": {},
     "output_type": "display_data"
    },
    {
     "data": {
      "text/html": [
       "<a href=\"https://www.politico.eu/article/brics-summit-south-africa-six-new-countries-join-alliance/\" target=\"_blank\">https://www.politico.eu/article/brics-summit-south-africa-six-new-countries-join-alliance/</a>"
      ],
      "text/plain": [
       "<IPython.core.display.HTML object>"
      ]
     },
     "metadata": {},
     "output_type": "display_data"
    },
    {
     "data": {
      "text/html": [
       "<a href=\"https://www.politico.eu/article/rishi-sunak-breached-code-of-conduct-but-did-so-by-mistake-standards-commission-finds-akshata-murty-childcare-firm/\" target=\"_blank\">https://www.politico.eu/article/rishi-sunak-breached-code-of-conduct-but-did-so-by-mistake-standards-commission-finds-akshata-murty-childcare-firm/</a>"
      ],
      "text/plain": [
       "<IPython.core.display.HTML object>"
      ]
     },
     "metadata": {},
     "output_type": "display_data"
    },
    {
     "data": {
      "text/html": [
       "<a href=\"https://www.politico.eu/article/masks-lockdowns-social-distancing-evidence-reduce-coronavirus-spread/\" target=\"_blank\">https://www.politico.eu/article/masks-lockdowns-social-distancing-evidence-reduce-coronavirus-spread/</a>"
      ],
      "text/plain": [
       "<IPython.core.display.HTML object>"
      ]
     },
     "metadata": {},
     "output_type": "display_data"
    },
    {
     "data": {
      "text/html": [
       "<a href=\"https://www.politico.com/news/2023/08/23/republican-debate-ukraine-divide-00112659\" target=\"_blank\">https://www.politico.com/news/2023/08/23/republican-debate-ukraine-divide-00112659</a>"
      ],
      "text/plain": [
       "<IPython.core.display.HTML object>"
      ]
     },
     "metadata": {},
     "output_type": "display_data"
    },
    {
     "data": {
      "text/html": [
       "<a href=\"https://www.politico.eu/article/spanish-football-chief-to-resign-after-kissing-world-cup-winner-on-the-lips/\" target=\"_blank\">https://www.politico.eu/article/spanish-football-chief-to-resign-after-kissing-world-cup-winner-on-the-lips/</a>"
      ],
      "text/plain": [
       "<IPython.core.display.HTML object>"
      ]
     },
     "metadata": {},
     "output_type": "display_data"
    },
    {
     "data": {
      "text/html": [
       "<a href=\"https://www.politico.eu/article/spanish-football-chief-to-resign-after-kissing-world-cup-winner-on-the-lips/\" target=\"_blank\">https://www.politico.eu/article/spanish-football-chief-to-resign-after-kissing-world-cup-winner-on-the-lips/</a>"
      ],
      "text/plain": [
       "<IPython.core.display.HTML object>"
      ]
     },
     "metadata": {},
     "output_type": "display_data"
    },
    {
     "data": {
      "text/html": [
       "<a href=\"https://www.politico.eu/article/wopke-hoekstra-eu-commission-netherlands-timmermans-climate-action/\" target=\"_blank\">https://www.politico.eu/article/wopke-hoekstra-eu-commission-netherlands-timmermans-climate-action/</a>"
      ],
      "text/plain": [
       "<IPython.core.display.HTML object>"
      ]
     },
     "metadata": {},
     "output_type": "display_data"
    },
    {
     "data": {
      "text/html": [
       "<a href=\"https://www.politico.eu/article/putin-breaks-silence-over-wagner-chief-prigozhins-death-in-jet-crash/\" target=\"_blank\">https://www.politico.eu/article/putin-breaks-silence-over-wagner-chief-prigozhins-death-in-jet-crash/</a>"
      ],
      "text/plain": [
       "<IPython.core.display.HTML object>"
      ]
     },
     "metadata": {},
     "output_type": "display_data"
    },
    {
     "data": {
      "text/html": [
       "<a href=\"https://www.politico.eu/article/josep-borrell-gaffes-diplomat-european-union-5-lessons/\" target=\"_blank\">https://www.politico.eu/article/josep-borrell-gaffes-diplomat-european-union-5-lessons/</a>"
      ],
      "text/plain": [
       "<IPython.core.display.HTML object>"
      ]
     },
     "metadata": {},
     "output_type": "display_data"
    },
    {
     "data": {
      "text/html": [
       "<a href=\"https://www.politico.eu/article/wagner-reacts-oh-my-god-they-killed-yevgeny-you-bastards/\" target=\"_blank\">https://www.politico.eu/article/wagner-reacts-oh-my-god-they-killed-yevgeny-you-bastards/</a>"
      ],
      "text/plain": [
       "<IPython.core.display.HTML object>"
      ]
     },
     "metadata": {},
     "output_type": "display_data"
    },
    {
     "data": {
      "text/html": [
       "<a href=\"https://www.politico.eu/article/ukraine-revel-wagner-group-yevgeny-prigozhin-death-plane-crash/\" target=\"_blank\">https://www.politico.eu/article/ukraine-revel-wagner-group-yevgeny-prigozhin-death-plane-crash/</a>"
      ],
      "text/plain": [
       "<IPython.core.display.HTML object>"
      ]
     },
     "metadata": {},
     "output_type": "display_data"
    },
    {
     "data": {
      "text/html": [
       "<a href=\"https://www.politico.eu/article/medine-rachel-khan-france-anti-semitism-accusations/\" target=\"_blank\">https://www.politico.eu/article/medine-rachel-khan-france-anti-semitism-accusations/</a>"
      ],
      "text/plain": [
       "<IPython.core.display.HTML object>"
      ]
     },
     "metadata": {},
     "output_type": "display_data"
    },
    {
     "data": {
      "text/html": [
       "<a href=\"https://www.politico.eu/article/jet-believed-to-be-carrying-wagner-boss-prigozhin-crashes-in-russia/\" target=\"_blank\">https://www.politico.eu/article/jet-believed-to-be-carrying-wagner-boss-prigozhin-crashes-in-russia/</a>"
      ],
      "text/plain": [
       "<IPython.core.display.HTML object>"
      ]
     },
     "metadata": {},
     "output_type": "display_data"
    },
    {
     "data": {
      "text/html": [
       "<a href=\"https://www.politico.eu/article/aggression-ridicule-bullying-inside-the-world-of-e-cigarette-scientists/\" target=\"_blank\">https://www.politico.eu/article/aggression-ridicule-bullying-inside-the-world-of-e-cigarette-scientists/</a>"
      ],
      "text/plain": [
       "<IPython.core.display.HTML object>"
      ]
     },
     "metadata": {},
     "output_type": "display_data"
    },
    {
     "data": {
      "text/html": [
       "<a href=\"https://www.politico.eu/article/dsa-x-twitter-facebook-meta-snapchat-tiktok-google-instagram-content-law/\" target=\"_blank\">https://www.politico.eu/article/dsa-x-twitter-facebook-meta-snapchat-tiktok-google-instagram-content-law/</a>"
      ],
      "text/plain": [
       "<IPython.core.display.HTML object>"
      ]
     },
     "metadata": {},
     "output_type": "display_data"
    },
    {
     "data": {
      "text/html": [
       "<a href=\"https://www.politico.eu/article/yevgeny-prigozhin-killed-plane-mutiny-wagner-group-kremlin-vladimir-putin-russia/\" target=\"_blank\">https://www.politico.eu/article/yevgeny-prigozhin-killed-plane-mutiny-wagner-group-kremlin-vladimir-putin-russia/</a>"
      ],
      "text/plain": [
       "<IPython.core.display.HTML object>"
      ]
     },
     "metadata": {},
     "output_type": "display_data"
    },
    {
     "data": {
      "text/html": [
       "<a href=\"https://www.politico.eu/article/yevgeny-prigozhin-killed-plane-mutiny-wagner-group-kremlin-vladimir-putin-russia/\" target=\"_blank\">https://www.politico.eu/article/yevgeny-prigozhin-killed-plane-mutiny-wagner-group-kremlin-vladimir-putin-russia/</a>"
      ],
      "text/plain": [
       "<IPython.core.display.HTML object>"
      ]
     },
     "metadata": {},
     "output_type": "display_data"
    },
    {
     "data": {
      "text/html": [
       "<a href=\"https://www.politico.eu/article/prigozhin-lives-kremlin-battles-rumors-wagner-chief-faked-his-death/\" target=\"_blank\">https://www.politico.eu/article/prigozhin-lives-kremlin-battles-rumors-wagner-chief-faked-his-death/</a>"
      ],
      "text/plain": [
       "<IPython.core.display.HTML object>"
      ]
     },
     "metadata": {},
     "output_type": "display_data"
    },
    {
     "data": {
      "text/html": [
       "<a href=\"https://www.politico.eu/article/prigozhin-lives-kremlin-battles-rumors-wagner-chief-faked-his-death/\" target=\"_blank\">https://www.politico.eu/article/prigozhin-lives-kremlin-battles-rumors-wagner-chief-faked-his-death/</a>"
      ],
      "text/plain": [
       "<IPython.core.display.HTML object>"
      ]
     },
     "metadata": {},
     "output_type": "display_data"
    },
    {
     "data": {
      "text/html": [
       "<a href=\"https://www.politico.eu/article/moldova-eu-climate-plan-carbon-tax-entangled-with-separatists-and-russian-troops-transnistria-industry/\" target=\"_blank\">https://www.politico.eu/article/moldova-eu-climate-plan-carbon-tax-entangled-with-separatists-and-russian-troops-transnistria-industry/</a>"
      ],
      "text/plain": [
       "<IPython.core.display.HTML object>"
      ]
     },
     "metadata": {},
     "output_type": "display_data"
    },
    {
     "data": {
      "text/html": [
       "<a href=\"https://www.politico.eu/article/moldova-eu-climate-plan-carbon-tax-entangled-with-separatists-and-russian-troops-transnistria-industry/\" target=\"_blank\">https://www.politico.eu/article/moldova-eu-climate-plan-carbon-tax-entangled-with-separatists-and-russian-troops-transnistria-industry/</a>"
      ],
      "text/plain": [
       "<IPython.core.display.HTML object>"
      ]
     },
     "metadata": {},
     "output_type": "display_data"
    },
    {
     "data": {
      "text/html": [
       "<a href=\"https://www.politico.eu/section/opinion/\" target=\"_blank\">https://www.politico.eu/section/opinion/</a>"
      ],
      "text/plain": [
       "<IPython.core.display.HTML object>"
      ]
     },
     "metadata": {},
     "output_type": "display_data"
    },
    {
     "data": {
      "text/html": [
       "<a href=\"https://www.politico.eu/article/preparing-for-a-post-soros-europe/\" target=\"_blank\">https://www.politico.eu/article/preparing-for-a-post-soros-europe/</a>"
      ],
      "text/plain": [
       "<IPython.core.display.HTML object>"
      ]
     },
     "metadata": {},
     "output_type": "display_data"
    },
    {
     "data": {
      "text/html": [
       "<a href=\"https://www.politico.eu/author/alberto-alemanno/\" target=\"_blank\">https://www.politico.eu/author/alberto-alemanno/</a>"
      ],
      "text/plain": [
       "<IPython.core.display.HTML object>"
      ]
     },
     "metadata": {},
     "output_type": "display_data"
    },
    {
     "data": {
      "text/html": [
       "<a href=\"https://www.politico.eu/section/commentary/\" target=\"_blank\">https://www.politico.eu/section/commentary/</a>"
      ],
      "text/plain": [
       "<IPython.core.display.HTML object>"
      ]
     },
     "metadata": {},
     "output_type": "display_data"
    },
    {
     "data": {
      "text/html": [
       "<a href=\"https://www.politico.eu/article/nadine-micic-kumjana-novakova-ademir-kenovic-aida-begic-vanja-juranic-sarajevo-film-festival-nermin-sulejmanovic-nizama-hecimovic/\" target=\"_blank\">https://www.politico.eu/article/nadine-micic-kumjana-novakova-ademir-kenovic-aida-begic-vanja-juranic-sarajevo-film-festival-nermin-sulejmanovic-nizama-hecimovic/</a>"
      ],
      "text/plain": [
       "<IPython.core.display.HTML object>"
      ]
     },
     "metadata": {},
     "output_type": "display_data"
    },
    {
     "data": {
      "text/html": [
       "<a href=\"https://www.politico.eu/author/emily-schrader/\" target=\"_blank\">https://www.politico.eu/author/emily-schrader/</a>"
      ],
      "text/plain": [
       "<IPython.core.display.HTML object>"
      ]
     },
     "metadata": {},
     "output_type": "display_data"
    },
    {
     "data": {
      "text/html": [
       "<a href=\"https://www.politico.eu/tag/polish-election-2023/\" target=\"_blank\">https://www.politico.eu/tag/polish-election-2023/</a>"
      ],
      "text/plain": [
       "<IPython.core.display.HTML object>"
      ]
     },
     "metadata": {},
     "output_type": "display_data"
    },
    {
     "data": {
      "text/html": [
       "<a href=\"https://www.politico.eu/article/poland-parliamentary-election-law-justice-pis-party-opposition-referendum-civic-platform-donald-tusk/\" target=\"_blank\">https://www.politico.eu/article/poland-parliamentary-election-law-justice-pis-party-opposition-referendum-civic-platform-donald-tusk/</a>"
      ],
      "text/plain": [
       "<IPython.core.display.HTML object>"
      ]
     },
     "metadata": {},
     "output_type": "display_data"
    },
    {
     "data": {
      "text/html": [
       "<a href=\"https://www.politico.eu/article/poland-parliamentary-election-law-justice-pis-party-opposition-referendum-civic-platform-donald-tusk/\" target=\"_blank\">https://www.politico.eu/article/poland-parliamentary-election-law-justice-pis-party-opposition-referendum-civic-platform-donald-tusk/</a>"
      ],
      "text/plain": [
       "<IPython.core.display.HTML object>"
      ]
     },
     "metadata": {},
     "output_type": "display_data"
    },
    {
     "data": {
      "text/html": [
       "<a href=\"https://www.politico.eu/article/mushroom-cloud-poland-election-campaign-jaroslaw-kaczynski-forest-management/\" target=\"_blank\">https://www.politico.eu/article/mushroom-cloud-poland-election-campaign-jaroslaw-kaczynski-forest-management/</a>"
      ],
      "text/plain": [
       "<IPython.core.display.HTML object>"
      ]
     },
     "metadata": {},
     "output_type": "display_data"
    },
    {
     "data": {
      "text/html": [
       "<a href=\"https://www.politico.eu/article/mushroom-cloud-poland-election-campaign-jaroslaw-kaczynski-forest-management/\" target=\"_blank\">https://www.politico.eu/article/mushroom-cloud-poland-election-campaign-jaroslaw-kaczynski-forest-management/</a>"
      ],
      "text/plain": [
       "<IPython.core.display.HTML object>"
      ]
     },
     "metadata": {},
     "output_type": "display_data"
    },
    {
     "data": {
      "text/html": [
       "<a href=\"https://www.politico.eu/article/polands-2023-election-date-october-15/\" target=\"_blank\">https://www.politico.eu/article/polands-2023-election-date-october-15/</a>"
      ],
      "text/plain": [
       "<IPython.core.display.HTML object>"
      ]
     },
     "metadata": {},
     "output_type": "display_data"
    },
    {
     "data": {
      "text/html": [
       "<a href=\"https://www.politico.eu/article/polands-2023-election-date-october-15/\" target=\"_blank\">https://www.politico.eu/article/polands-2023-election-date-october-15/</a>"
      ],
      "text/plain": [
       "<IPython.core.display.HTML object>"
      ]
     },
     "metadata": {},
     "output_type": "display_data"
    },
    {
     "data": {
      "text/html": [
       "<a href=\"https://www.politico.eu/newsletter/politico-eu-influence/when-your-lobbying-intern-is-a-robot-2/\" target=\"_blank\">https://www.politico.eu/newsletter/politico-eu-influence/when-your-lobbying-intern-is-a-robot-2/</a>"
      ],
      "text/plain": [
       "<IPython.core.display.HTML object>"
      ]
     },
     "metadata": {},
     "output_type": "display_data"
    },
    {
     "data": {
      "text/html": [
       "<a href=\"https://www.politico.eu/newsletter/digital-bridge/how-the-west-learned-to-stop-worrying-and-love-china/\" target=\"_blank\">https://www.politico.eu/newsletter/digital-bridge/how-the-west-learned-to-stop-worrying-and-love-china/</a>"
      ],
      "text/plain": [
       "<IPython.core.display.HTML object>"
      ]
     },
     "metadata": {},
     "output_type": "display_data"
    },
    {
     "data": {
      "text/html": [
       "<a href=\"https://www.politico.eu/newsletter/china-watcher/biden-buys-time-for-bilateral-science-pact/\" target=\"_blank\">https://www.politico.eu/newsletter/china-watcher/biden-buys-time-for-bilateral-science-pact/</a>"
      ],
      "text/plain": [
       "<IPython.core.display.HTML object>"
      ]
     },
     "metadata": {},
     "output_type": "display_data"
    },
    {
     "data": {
      "text/html": [
       "<a href=\"https://www.politico.eu/article/russia-hackers-targeted-nato-vilnius-summit-graphika/\" target=\"_blank\">https://www.politico.eu/article/russia-hackers-targeted-nato-vilnius-summit-graphika/</a>"
      ],
      "text/plain": [
       "<IPython.core.display.HTML object>"
      ]
     },
     "metadata": {},
     "output_type": "display_data"
    },
    {
     "data": {
      "text/html": [
       "<a href=\"https://www.politico.eu/article/russia-hackers-targeted-nato-vilnius-summit-graphika/\" target=\"_blank\">https://www.politico.eu/article/russia-hackers-targeted-nato-vilnius-summit-graphika/</a>"
      ],
      "text/plain": [
       "<IPython.core.display.HTML object>"
      ]
     },
     "metadata": {},
     "output_type": "display_data"
    },
    {
     "data": {
      "text/html": [
       "<a href=\"https://www.politico.eu/article/azerbaijan-armenia-nagorno-karabakh-lanchin-corridor-humanitarian-aid/\" target=\"_blank\">https://www.politico.eu/article/azerbaijan-armenia-nagorno-karabakh-lanchin-corridor-humanitarian-aid/</a>"
      ],
      "text/plain": [
       "<IPython.core.display.HTML object>"
      ]
     },
     "metadata": {},
     "output_type": "display_data"
    },
    {
     "data": {
      "text/html": [
       "<a href=\"https://www.politico.eu/article/azerbaijan-armenia-nagorno-karabakh-lanchin-corridor-humanitarian-aid/\" target=\"_blank\">https://www.politico.eu/article/azerbaijan-armenia-nagorno-karabakh-lanchin-corridor-humanitarian-aid/</a>"
      ],
      "text/plain": [
       "<IPython.core.display.HTML object>"
      ]
     },
     "metadata": {},
     "output_type": "display_data"
    },
    {
     "data": {
      "text/html": [
       "<a href=\"https://www.politico.eu/article/big-tech-efforts-under-eu-digital-service-act-content-rules/\" target=\"_blank\">https://www.politico.eu/article/big-tech-efforts-under-eu-digital-service-act-content-rules/</a>"
      ],
      "text/plain": [
       "<IPython.core.display.HTML object>"
      ]
     },
     "metadata": {},
     "output_type": "display_data"
    },
    {
     "data": {
      "text/html": [
       "<a href=\"https://www.politico.eu/article/uk-antitrust-enforcer-competition-authority-microsoft-cant-bully-us-gaming-merger/\" target=\"_blank\">https://www.politico.eu/article/uk-antitrust-enforcer-competition-authority-microsoft-cant-bully-us-gaming-merger/</a>"
      ],
      "text/plain": [
       "<IPython.core.display.HTML object>"
      ]
     },
     "metadata": {},
     "output_type": "display_data"
    },
    {
     "data": {
      "text/html": [
       "<a href=\"https://www.politico.eu/article/eu-military-course-germany-ukraine-russia-war-soldiers-training/\" target=\"_blank\">https://www.politico.eu/article/eu-military-course-germany-ukraine-russia-war-soldiers-training/</a>"
      ],
      "text/plain": [
       "<IPython.core.display.HTML object>"
      ]
     },
     "metadata": {},
     "output_type": "display_data"
    },
    {
     "data": {
      "text/html": [
       "<a href=\"https://www.politico.eu/article/nigel-farage-bank-coutts-woke-capitalism-right-left-wing-european-union/\" target=\"_blank\">https://www.politico.eu/article/nigel-farage-bank-coutts-woke-capitalism-right-left-wing-european-union/</a>"
      ],
      "text/plain": [
       "<IPython.core.display.HTML object>"
      ]
     },
     "metadata": {},
     "output_type": "display_data"
    },
    {
     "data": {
      "text/html": [
       "<a href=\"https://www.politico.eu/article/return-trump-lack-foreign-support-looming-ukraine-war-ramp-up-homegrown-weapon-industry/\" target=\"_blank\">https://www.politico.eu/article/return-trump-lack-foreign-support-looming-ukraine-war-ramp-up-homegrown-weapon-industry/</a>"
      ],
      "text/plain": [
       "<IPython.core.display.HTML object>"
      ]
     },
     "metadata": {},
     "output_type": "display_data"
    },
    {
     "data": {
      "text/html": [
       "<a href=\"https://www.politico.eu/westminster-insider-podcast/\" target=\"_blank\">https://www.politico.eu/westminster-insider-podcast/</a>"
      ],
      "text/plain": [
       "<IPython.core.display.HTML object>"
      ]
     },
     "metadata": {},
     "output_type": "display_data"
    },
    {
     "data": {
      "text/html": [
       "<a href=\"https://www.politico.eu/power-play-podcast/\" target=\"_blank\">https://www.politico.eu/power-play-podcast/</a>"
      ],
      "text/plain": [
       "<IPython.core.display.HTML object>"
      ]
     },
     "metadata": {},
     "output_type": "display_data"
    },
    {
     "data": {
      "text/html": [
       "<a href=\"https://www.politico.eu/eu-confidential-podcast/\" target=\"_blank\">https://www.politico.eu/eu-confidential-podcast/</a>"
      ],
      "text/plain": [
       "<IPython.core.display.HTML object>"
      ]
     },
     "metadata": {},
     "output_type": "display_data"
    },
    {
     "data": {
      "text/html": [
       "<a href=\"https://www.politico.eu/article/jet-believed-to-be-carrying-wagner-boss-prigozhin-crashes-in-russia/\" target=\"_blank\">https://www.politico.eu/article/jet-believed-to-be-carrying-wagner-boss-prigozhin-crashes-in-russia/</a>"
      ],
      "text/plain": [
       "<IPython.core.display.HTML object>"
      ]
     },
     "metadata": {},
     "output_type": "display_data"
    },
    {
     "data": {
      "text/html": [
       "<a href=\"https://www.politico.eu/article/russia-vladimir-putin-has-strange-deep-voice-in-address-to-brics-summit/\" target=\"_blank\">https://www.politico.eu/article/russia-vladimir-putin-has-strange-deep-voice-in-address-to-brics-summit/</a>"
      ],
      "text/plain": [
       "<IPython.core.display.HTML object>"
      ]
     },
     "metadata": {},
     "output_type": "display_data"
    },
    {
     "data": {
      "text/html": [
       "<a href=\"https://www.politico.eu/article/yevgeny-prigozhin-killed-plane-mutiny-wagner-group-kremlin-vladimir-putin-russia/\" target=\"_blank\">https://www.politico.eu/article/yevgeny-prigozhin-killed-plane-mutiny-wagner-group-kremlin-vladimir-putin-russia/</a>"
      ],
      "text/plain": [
       "<IPython.core.display.HTML object>"
      ]
     },
     "metadata": {},
     "output_type": "display_data"
    },
    {
     "data": {
      "text/html": [
       "<a href=\"https://www.politico.eu/article/wagner-reacts-oh-my-god-they-killed-yevgeny-you-bastards/\" target=\"_blank\">https://www.politico.eu/article/wagner-reacts-oh-my-god-they-killed-yevgeny-you-bastards/</a>"
      ],
      "text/plain": [
       "<IPython.core.display.HTML object>"
      ]
     },
     "metadata": {},
     "output_type": "display_data"
    },
    {
     "data": {
      "text/html": [
       "<a href=\"https://www.politico.eu/article/putin-breaks-silence-over-wagner-chief-prigozhins-death-in-jet-crash/\" target=\"_blank\">https://www.politico.eu/article/putin-breaks-silence-over-wagner-chief-prigozhins-death-in-jet-crash/</a>"
      ],
      "text/plain": [
       "<IPython.core.display.HTML object>"
      ]
     },
     "metadata": {},
     "output_type": "display_data"
    },
    {
     "data": {
      "text/html": [
       "<a href=\"https://www.politico.eu\" target=\"_blank\">https://www.politico.eu</a>"
      ],
      "text/plain": [
       "<IPython.core.display.HTML object>"
      ]
     },
     "metadata": {},
     "output_type": "display_data"
    },
    {
     "data": {
      "text/html": [
       "<a href=\"https://www.politico.eu/events/future-events/\" target=\"_blank\">https://www.politico.eu/events/future-events/</a>"
      ],
      "text/plain": [
       "<IPython.core.display.HTML object>"
      ]
     },
     "metadata": {},
     "output_type": "display_data"
    },
    {
     "data": {
      "text/html": [
       "<a href=\"https://www.politico.eu/live/\" target=\"_blank\">https://www.politico.eu/live/</a>"
      ],
      "text/plain": [
       "<IPython.core.display.HTML object>"
      ]
     },
     "metadata": {},
     "output_type": "display_data"
    },
    {
     "data": {
      "text/html": [
       "<a href=\"https://www.politico.eu/event/brussels-back-to-school-party/\" target=\"_blank\">https://www.politico.eu/event/brussels-back-to-school-party/</a>"
      ],
      "text/plain": [
       "<IPython.core.display.HTML object>"
      ]
     },
     "metadata": {},
     "output_type": "display_data"
    },
    {
     "data": {
      "text/html": [
       "<a href=\"https://www.politico.eu/event/brussels-back-to-school-party/\" target=\"_blank\">https://www.politico.eu/event/brussels-back-to-school-party/</a>"
      ],
      "text/plain": [
       "<IPython.core.display.HTML object>"
      ]
     },
     "metadata": {},
     "output_type": "display_data"
    },
    {
     "data": {
      "text/html": [
       "<a href=\"https://www.politico.eu/event/politico-pro-roundtable-financial-services-uk/\" target=\"_blank\">https://www.politico.eu/event/politico-pro-roundtable-financial-services-uk/</a>"
      ],
      "text/plain": [
       "<IPython.core.display.HTML object>"
      ]
     },
     "metadata": {},
     "output_type": "display_data"
    },
    {
     "data": {
      "text/html": [
       "<a href=\"https://www.politico.eu/event/politico-pro-roundtable-financial-services-uk/\" target=\"_blank\">https://www.politico.eu/event/politico-pro-roundtable-financial-services-uk/</a>"
      ],
      "text/plain": [
       "<IPython.core.display.HTML object>"
      ]
     },
     "metadata": {},
     "output_type": "display_data"
    },
    {
     "data": {
      "text/html": [
       "<a href=\"https://www.politico.eu/event/politico-pro-roundtable-sustainability/\" target=\"_blank\">https://www.politico.eu/event/politico-pro-roundtable-sustainability/</a>"
      ],
      "text/plain": [
       "<IPython.core.display.HTML object>"
      ]
     },
     "metadata": {},
     "output_type": "display_data"
    },
    {
     "data": {
      "text/html": [
       "<a href=\"https://www.politico.eu/event/politico-pro-roundtable-sustainability/\" target=\"_blank\">https://www.politico.eu/event/politico-pro-roundtable-sustainability/</a>"
      ],
      "text/plain": [
       "<IPython.core.display.HTML object>"
      ]
     },
     "metadata": {},
     "output_type": "display_data"
    },
    {
     "data": {
      "text/html": [
       "<a href=\"https://www.politico.eu/event/is-europe-losing-the-hydrogen-race/\" target=\"_blank\">https://www.politico.eu/event/is-europe-losing-the-hydrogen-race/</a>"
      ],
      "text/plain": [
       "<IPython.core.display.HTML object>"
      ]
     },
     "metadata": {},
     "output_type": "display_data"
    },
    {
     "data": {
      "text/html": [
       "<a href=\"https://www.politico.eu/event/is-europe-losing-the-hydrogen-race/\" target=\"_blank\">https://www.politico.eu/event/is-europe-losing-the-hydrogen-race/</a>"
      ],
      "text/plain": [
       "<IPython.core.display.HTML object>"
      ]
     },
     "metadata": {},
     "output_type": "display_data"
    },
    {
     "data": {
      "text/html": [
       "<a href=\"/event/registration/3363552\" target=\"_blank\">/event/registration/3363552</a>"
      ],
      "text/plain": [
       "<IPython.core.display.HTML object>"
      ]
     },
     "metadata": {},
     "output_type": "display_data"
    },
    {
     "data": {
      "text/html": [
       "<a href=\"/event/registration/3363555\" target=\"_blank\">/event/registration/3363555</a>"
      ],
      "text/plain": [
       "<IPython.core.display.HTML object>"
      ]
     },
     "metadata": {},
     "output_type": "display_data"
    },
    {
     "data": {
      "text/html": [
       "<a href=\"https://www.politico.com/news/2023/08/18/france-u-s-relations-niger-coup-00111842\" target=\"_blank\">https://www.politico.com/news/2023/08/18/france-u-s-relations-niger-coup-00111842</a>"
      ],
      "text/plain": [
       "<IPython.core.display.HTML object>"
      ]
     },
     "metadata": {},
     "output_type": "display_data"
    },
    {
     "data": {
      "text/html": [
       "<a href=\"https://www.politico.com/news/2023/08/18/france-u-s-relations-niger-coup-00111842\" target=\"_blank\">https://www.politico.com/news/2023/08/18/france-u-s-relations-niger-coup-00111842</a>"
      ],
      "text/plain": [
       "<IPython.core.display.HTML object>"
      ]
     },
     "metadata": {},
     "output_type": "display_data"
    },
    {
     "data": {
      "text/html": [
       "<a href=\"https://www.politico.eu/article/bordeaux-wine-france-climate-change-uproot-vineyards/\" target=\"_blank\">https://www.politico.eu/article/bordeaux-wine-france-climate-change-uproot-vineyards/</a>"
      ],
      "text/plain": [
       "<IPython.core.display.HTML object>"
      ]
     },
     "metadata": {},
     "output_type": "display_data"
    },
    {
     "data": {
      "text/html": [
       "<a href=\"https://www.politico.eu/article/bordeaux-wine-france-climate-change-uproot-vineyards/\" target=\"_blank\">https://www.politico.eu/article/bordeaux-wine-france-climate-change-uproot-vineyards/</a>"
      ],
      "text/plain": [
       "<IPython.core.display.HTML object>"
      ]
     },
     "metadata": {},
     "output_type": "display_data"
    },
    {
     "data": {
      "text/html": [
       "<a href=\"https://www.politico.eu/article/drought-france-water-agriculture-environment-climate-change/\" target=\"_blank\">https://www.politico.eu/article/drought-france-water-agriculture-environment-climate-change/</a>"
      ],
      "text/plain": [
       "<IPython.core.display.HTML object>"
      ]
     },
     "metadata": {},
     "output_type": "display_data"
    },
    {
     "data": {
      "text/html": [
       "<a href=\"https://www.politico.eu/article/drought-france-water-agriculture-environment-climate-change/\" target=\"_blank\">https://www.politico.eu/article/drought-france-water-agriculture-environment-climate-change/</a>"
      ],
      "text/plain": [
       "<IPython.core.display.HTML object>"
      ]
     },
     "metadata": {},
     "output_type": "display_data"
    },
    {
     "data": {
      "text/html": [
       "<a href=\"https://www.politico.eu/article/germany-baerbock-abu-dhabi-problems-with-government-planes/\" target=\"_blank\">https://www.politico.eu/article/germany-baerbock-abu-dhabi-problems-with-government-planes/</a>"
      ],
      "text/plain": [
       "<IPython.core.display.HTML object>"
      ]
     },
     "metadata": {},
     "output_type": "display_data"
    },
    {
     "data": {
      "text/html": [
       "<a href=\"https://www.politico.eu/article/germany-center-right-leader-friedrich-merz-suggest-cooperation-with-far-right-afd-municipal-level/\" target=\"_blank\">https://www.politico.eu/article/germany-center-right-leader-friedrich-merz-suggest-cooperation-with-far-right-afd-municipal-level/</a>"
      ],
      "text/plain": [
       "<IPython.core.display.HTML object>"
      ]
     },
     "metadata": {},
     "output_type": "display_data"
    },
    {
     "data": {
      "text/html": [
       "<a href=\"https://www.politico.eu/article/rust-belt-on-the-rhine-the-deindustrialization-of-germany/\" target=\"_blank\">https://www.politico.eu/article/rust-belt-on-the-rhine-the-deindustrialization-of-germany/</a>"
      ],
      "text/plain": [
       "<IPython.core.display.HTML object>"
      ]
     },
     "metadata": {},
     "output_type": "display_data"
    },
    {
     "data": {
      "text/html": [
       "<a href=\"https://www.politico.com/news/2023/08/21/kamala-harris-second-act-00111913\" target=\"_blank\">https://www.politico.com/news/2023/08/21/kamala-harris-second-act-00111913</a>"
      ],
      "text/plain": [
       "<IPython.core.display.HTML object>"
      ]
     },
     "metadata": {},
     "output_type": "display_data"
    },
    {
     "data": {
      "text/html": [
       "<a href=\"https://www.politico.com/news/2023/08/21/kamala-harris-second-act-00111913\" target=\"_blank\">https://www.politico.com/news/2023/08/21/kamala-harris-second-act-00111913</a>"
      ],
      "text/plain": [
       "<IPython.core.display.HTML object>"
      ]
     },
     "metadata": {},
     "output_type": "display_data"
    },
    {
     "data": {
      "text/html": [
       "<a href=\"https://www.politico.com/news/2023/08/14/fulton-county-trump-indictment-00111211\" target=\"_blank\">https://www.politico.com/news/2023/08/14/fulton-county-trump-indictment-00111211</a>"
      ],
      "text/plain": [
       "<IPython.core.display.HTML object>"
      ]
     },
     "metadata": {},
     "output_type": "display_data"
    },
    {
     "data": {
      "text/html": [
       "<a href=\"https://www.politico.com/news/2023/08/14/fulton-county-trump-indictment-00111211\" target=\"_blank\">https://www.politico.com/news/2023/08/14/fulton-county-trump-indictment-00111211</a>"
      ],
      "text/plain": [
       "<IPython.core.display.HTML object>"
      ]
     },
     "metadata": {},
     "output_type": "display_data"
    },
    {
     "data": {
      "text/html": [
       "<a href=\"https://www.politico.com/news/2023/08/03/trump-arraignment-election-conspiracy-00109712\" target=\"_blank\">https://www.politico.com/news/2023/08/03/trump-arraignment-election-conspiracy-00109712</a>"
      ],
      "text/plain": [
       "<IPython.core.display.HTML object>"
      ]
     },
     "metadata": {},
     "output_type": "display_data"
    },
    {
     "data": {
      "text/html": [
       "<a href=\"https://www.politico.com/news/2023/08/03/trump-arraignment-election-conspiracy-00109712\" target=\"_blank\">https://www.politico.com/news/2023/08/03/trump-arraignment-election-conspiracy-00109712</a>"
      ],
      "text/plain": [
       "<IPython.core.display.HTML object>"
      ]
     },
     "metadata": {},
     "output_type": "display_data"
    },
    {
     "data": {
      "text/html": [
       "<a href=\"https://www.politico.eu/article/frans-timmermans-quit-eu-climate-chief-return-dutch-politics/\" target=\"_blank\">https://www.politico.eu/article/frans-timmermans-quit-eu-climate-chief-return-dutch-politics/</a>"
      ],
      "text/plain": [
       "<IPython.core.display.HTML object>"
      ]
     },
     "metadata": {},
     "output_type": "display_data"
    },
    {
     "data": {
      "text/html": [
       "<a href=\"https://www.politico.eu/article/frans-timmermans-departure-brussels-leaves-unanswered-questions-eu-green-deal/\" target=\"_blank\">https://www.politico.eu/article/frans-timmermans-departure-brussels-leaves-unanswered-questions-eu-green-deal/</a>"
      ],
      "text/plain": [
       "<IPython.core.display.HTML object>"
      ]
     },
     "metadata": {},
     "output_type": "display_data"
    },
    {
     "data": {
      "text/html": [
       "<a href=\"https://www.politico.eu/article/eu-social-media-teens-smartphone-addiction/\" target=\"_blank\">https://www.politico.eu/article/eu-social-media-teens-smartphone-addiction/</a>"
      ],
      "text/plain": [
       "<IPython.core.display.HTML object>"
      ]
     },
     "metadata": {},
     "output_type": "display_data"
    },
    {
     "data": {
      "text/html": [
       "<a href=\"https://www.politico.eu/article/europe-air-traffic-controllers-falling-off-radar-aviation/\" target=\"_blank\">https://www.politico.eu/article/europe-air-traffic-controllers-falling-off-radar-aviation/</a>"
      ],
      "text/plain": [
       "<IPython.core.display.HTML object>"
      ]
     },
     "metadata": {},
     "output_type": "display_data"
    },
    {
     "data": {
      "text/html": [
       "<a href=\"https://www.politico.eu/article/europe-air-traffic-controllers-falling-off-radar-aviation/\" target=\"_blank\">https://www.politico.eu/article/europe-air-traffic-controllers-falling-off-radar-aviation/</a>"
      ],
      "text/plain": [
       "<IPython.core.display.HTML object>"
      ]
     },
     "metadata": {},
     "output_type": "display_data"
    },
    {
     "data": {
      "text/html": [
       "<a href=\"https://www.politico.eu/article/europe-dry-river-climate-change-ambitions-risk/\" target=\"_blank\">https://www.politico.eu/article/europe-dry-river-climate-change-ambitions-risk/</a>"
      ],
      "text/plain": [
       "<IPython.core.display.HTML object>"
      ]
     },
     "metadata": {},
     "output_type": "display_data"
    },
    {
     "data": {
      "text/html": [
       "<a href=\"https://www.politico.eu/article/europe-dry-river-climate-change-ambitions-risk/\" target=\"_blank\">https://www.politico.eu/article/europe-dry-river-climate-change-ambitions-risk/</a>"
      ],
      "text/plain": [
       "<IPython.core.display.HTML object>"
      ]
     },
     "metadata": {},
     "output_type": "display_data"
    },
    {
     "data": {
      "text/html": [
       "<a href=\"https://www.politico.eu/article/spain-pm-pedro-sanchez-basque-catalan-galician-eu-official-languages/\" target=\"_blank\">https://www.politico.eu/article/spain-pm-pedro-sanchez-basque-catalan-galician-eu-official-languages/</a>"
      ],
      "text/plain": [
       "<IPython.core.display.HTML object>"
      ]
     },
     "metadata": {},
     "output_type": "display_data"
    },
    {
     "data": {
      "text/html": [
       "<a href=\"https://www.politico.eu/article/spain-pm-pedro-sanchez-basque-catalan-galician-eu-official-languages/\" target=\"_blank\">https://www.politico.eu/article/spain-pm-pedro-sanchez-basque-catalan-galician-eu-official-languages/</a>"
      ],
      "text/plain": [
       "<IPython.core.display.HTML object>"
      ]
     },
     "metadata": {},
     "output_type": "display_data"
    },
    {
     "data": {
      "text/html": [
       "<a href=\"https://www.politico.eu/article/uk-politicians-raid-bank-profits-windfall-tax-general-election/\" target=\"_blank\">https://www.politico.eu/article/uk-politicians-raid-bank-profits-windfall-tax-general-election/</a>"
      ],
      "text/plain": [
       "<IPython.core.display.HTML object>"
      ]
     },
     "metadata": {},
     "output_type": "display_data"
    },
    {
     "data": {
      "text/html": [
       "<a href=\"https://www.politico.eu/article/post-brexit-britain-conference-center-for-the-world-foreign-policy-global-issues-ai-ukraine-energy-crisis/\" target=\"_blank\">https://www.politico.eu/article/post-brexit-britain-conference-center-for-the-world-foreign-policy-global-issues-ai-ukraine-energy-crisis/</a>"
      ],
      "text/plain": [
       "<IPython.core.display.HTML object>"
      ]
     },
     "metadata": {},
     "output_type": "display_data"
    },
    {
     "data": {
      "text/html": [
       "<a href=\"https://www.politico.eu/article/uk-antitrust-enforcer-competition-authority-microsoft-cant-bully-us-gaming-merger/\" target=\"_blank\">https://www.politico.eu/article/uk-antitrust-enforcer-competition-authority-microsoft-cant-bully-us-gaming-merger/</a>"
      ],
      "text/plain": [
       "<IPython.core.display.HTML object>"
      ]
     },
     "metadata": {},
     "output_type": "display_data"
    },
    {
     "data": {
      "text/html": [
       "<a href=\"https://www.politico.eu/why-go-pro/?utm_source=website&utm_medium=Banner&utm_campaign=website&utm_content=WhyGoPro\" target=\"_blank\">https://www.politico.eu/why-go-pro/?utm_source=website&utm_medium=Banner&utm_campaign=website&utm_content=WhyGoPro</a>"
      ],
      "text/plain": [
       "<IPython.core.display.HTML object>"
      ]
     },
     "metadata": {},
     "output_type": "display_data"
    },
    {
     "data": {
      "text/html": [
       "<a href=\"https://www.politico.eu/wp-login.php\" target=\"_blank\">https://www.politico.eu/wp-login.php</a>"
      ],
      "text/plain": [
       "<IPython.core.display.HTML object>"
      ]
     },
     "metadata": {},
     "output_type": "display_data"
    },
    {
     "data": {
      "text/html": [
       "<a href=\"https://www.politico.eu/section/opinion/\" target=\"_blank\">https://www.politico.eu/section/opinion/</a>"
      ],
      "text/plain": [
       "<IPython.core.display.HTML object>"
      ]
     },
     "metadata": {},
     "output_type": "display_data"
    },
    {
     "data": {
      "text/html": [
       "<a href=\"https://www.politico.eu/article/deepening-us-japan-korea-trilateral-partnership-camp-david-summit-china/\" target=\"_blank\">https://www.politico.eu/article/deepening-us-japan-korea-trilateral-partnership-camp-david-summit-china/</a>"
      ],
      "text/plain": [
       "<IPython.core.display.HTML object>"
      ]
     },
     "metadata": {},
     "output_type": "display_data"
    },
    {
     "data": {
      "text/html": [
       "<a href=\"https://www.politico.eu/article/deepening-us-japan-korea-trilateral-partnership-camp-david-summit-china/\" target=\"_blank\">https://www.politico.eu/article/deepening-us-japan-korea-trilateral-partnership-camp-david-summit-china/</a>"
      ],
      "text/plain": [
       "<IPython.core.display.HTML object>"
      ]
     },
     "metadata": {},
     "output_type": "display_data"
    },
    {
     "data": {
      "text/html": [
       "<a href=\"https://www.politico.eu/author/ivo-daalder/\" target=\"_blank\">https://www.politico.eu/author/ivo-daalder/</a>"
      ],
      "text/plain": [
       "<IPython.core.display.HTML object>"
      ]
     },
     "metadata": {},
     "output_type": "display_data"
    },
    {
     "data": {
      "text/html": [
       "<a href=\"https://www.politico.eu/article/arles-france-art-vincent-can-gogh-studio-rex-postcards-wenders-eva-nielsen-saul-leiter/\" target=\"_blank\">https://www.politico.eu/article/arles-france-art-vincent-can-gogh-studio-rex-postcards-wenders-eva-nielsen-saul-leiter/</a>"
      ],
      "text/plain": [
       "<IPython.core.display.HTML object>"
      ]
     },
     "metadata": {},
     "output_type": "display_data"
    },
    {
     "data": {
      "text/html": [
       "<a href=\"https://www.politico.eu/article/arles-france-art-vincent-can-gogh-studio-rex-postcards-wenders-eva-nielsen-saul-leiter/\" target=\"_blank\">https://www.politico.eu/article/arles-france-art-vincent-can-gogh-studio-rex-postcards-wenders-eva-nielsen-saul-leiter/</a>"
      ],
      "text/plain": [
       "<IPython.core.display.HTML object>"
      ]
     },
     "metadata": {},
     "output_type": "display_data"
    },
    {
     "data": {
      "text/html": [
       "<a href=\"https://www.politico.eu/author/mark-porter/\" target=\"_blank\">https://www.politico.eu/author/mark-porter/</a>"
      ],
      "text/plain": [
       "<IPython.core.display.HTML object>"
      ]
     },
     "metadata": {},
     "output_type": "display_data"
    },
    {
     "data": {
      "text/html": [
       "<a href=\"https://www.politico.eu/article/russia-elections-ukraine-vladimir-putin-are-a-charade/\" target=\"_blank\">https://www.politico.eu/article/russia-elections-ukraine-vladimir-putin-are-a-charade/</a>"
      ],
      "text/plain": [
       "<IPython.core.display.HTML object>"
      ]
     },
     "metadata": {},
     "output_type": "display_data"
    },
    {
     "data": {
      "text/html": [
       "<a href=\"https://www.politico.eu/section/opinion/\" target=\"_blank\">https://www.politico.eu/section/opinion/</a>"
      ],
      "text/plain": [
       "<IPython.core.display.HTML object>"
      ]
     },
     "metadata": {},
     "output_type": "display_data"
    },
    {
     "data": {
      "text/html": [
       "<a href=\"https://www.politico.eu/article/russia-elections-ukraine-vladimir-putin-are-a-charade/\" target=\"_blank\">https://www.politico.eu/article/russia-elections-ukraine-vladimir-putin-are-a-charade/</a>"
      ],
      "text/plain": [
       "<IPython.core.display.HTML object>"
      ]
     },
     "metadata": {},
     "output_type": "display_data"
    },
    {
     "data": {
      "text/html": [
       "<a href=\"https://www.politico.eu/author/harald-hartvig-jepsen/\" target=\"_blank\">https://www.politico.eu/author/harald-hartvig-jepsen/</a>"
      ],
      "text/plain": [
       "<IPython.core.display.HTML object>"
      ]
     },
     "metadata": {},
     "output_type": "display_data"
    },
    {
     "data": {
      "text/html": [
       "<a href=\"https://www.politico.eu/author/peter-erben/\" target=\"_blank\">https://www.politico.eu/author/peter-erben/</a>"
      ],
      "text/plain": [
       "<IPython.core.display.HTML object>"
      ]
     },
     "metadata": {},
     "output_type": "display_data"
    },
    {
     "data": {
      "text/html": [
       "<a href=\"https://www.politico.eu/section/forum/\" target=\"_blank\">https://www.politico.eu/section/forum/</a>"
      ],
      "text/plain": [
       "<IPython.core.display.HTML object>"
      ]
     },
     "metadata": {},
     "output_type": "display_data"
    },
    {
     "data": {
      "text/html": [
       "<a href=\"https://www.politico.eu/article/ukraine-f16-fighter-jet-aircraft-training-zelenskyy-war/\" target=\"_blank\">https://www.politico.eu/article/ukraine-f16-fighter-jet-aircraft-training-zelenskyy-war/</a>"
      ],
      "text/plain": [
       "<IPython.core.display.HTML object>"
      ]
     },
     "metadata": {},
     "output_type": "display_data"
    },
    {
     "data": {
      "text/html": [
       "<a href=\"https://www.politico.eu/article/ukraine-f16-fighter-jet-aircraft-training-zelenskyy-war/\" target=\"_blank\">https://www.politico.eu/article/ukraine-f16-fighter-jet-aircraft-training-zelenskyy-war/</a>"
      ],
      "text/plain": [
       "<IPython.core.display.HTML object>"
      ]
     },
     "metadata": {},
     "output_type": "display_data"
    },
    {
     "data": {
      "text/html": [
       "<a href=\"https://www.politico.eu/author/jamie-dettmer/\" target=\"_blank\">https://www.politico.eu/author/jamie-dettmer/</a>"
      ],
      "text/plain": [
       "<IPython.core.display.HTML object>"
      ]
     },
     "metadata": {},
     "output_type": "display_data"
    },
    {
     "data": {
      "text/html": [
       "<a href=\"https://www.politico.eu/article/ukraine-counteroffensive-volodymyr-zelenskyy-russia-back-to-the-drawing-board/\" target=\"_blank\">https://www.politico.eu/article/ukraine-counteroffensive-volodymyr-zelenskyy-russia-back-to-the-drawing-board/</a>"
      ],
      "text/plain": [
       "<IPython.core.display.HTML object>"
      ]
     },
     "metadata": {},
     "output_type": "display_data"
    },
    {
     "data": {
      "text/html": [
       "<a href=\"https://www.politico.eu/article/ukraine-counteroffensive-volodymyr-zelenskyy-russia-back-to-the-drawing-board/\" target=\"_blank\">https://www.politico.eu/article/ukraine-counteroffensive-volodymyr-zelenskyy-russia-back-to-the-drawing-board/</a>"
      ],
      "text/plain": [
       "<IPython.core.display.HTML object>"
      ]
     },
     "metadata": {},
     "output_type": "display_data"
    },
    {
     "data": {
      "text/html": [
       "<a href=\"https://www.politico.eu/author/jamie-dettmer/\" target=\"_blank\">https://www.politico.eu/author/jamie-dettmer/</a>"
      ],
      "text/plain": [
       "<IPython.core.display.HTML object>"
      ]
     },
     "metadata": {},
     "output_type": "display_data"
    },
    {
     "data": {
      "text/html": [
       "<a href=\"https://www.politico.eu/article/donald-trump-united-states-election-2024-serious-threat/\" target=\"_blank\">https://www.politico.eu/article/donald-trump-united-states-election-2024-serious-threat/</a>"
      ],
      "text/plain": [
       "<IPython.core.display.HTML object>"
      ]
     },
     "metadata": {},
     "output_type": "display_data"
    },
    {
     "data": {
      "text/html": [
       "<a href=\"https://www.politico.eu/section/commentary/\" target=\"_blank\">https://www.politico.eu/section/commentary/</a>"
      ],
      "text/plain": [
       "<IPython.core.display.HTML object>"
      ]
     },
     "metadata": {},
     "output_type": "display_data"
    },
    {
     "data": {
      "text/html": [
       "<a href=\"https://www.politico.eu/article/donald-trump-united-states-election-2024-serious-threat/\" target=\"_blank\">https://www.politico.eu/article/donald-trump-united-states-election-2024-serious-threat/</a>"
      ],
      "text/plain": [
       "<IPython.core.display.HTML object>"
      ]
     },
     "metadata": {},
     "output_type": "display_data"
    },
    {
     "data": {
      "text/html": [
       "<a href=\"https://www.politico.eu/author/peter-van-dalen/\" target=\"_blank\">https://www.politico.eu/author/peter-van-dalen/</a>"
      ],
      "text/plain": [
       "<IPython.core.display.HTML object>"
      ]
     },
     "metadata": {},
     "output_type": "display_data"
    },
    {
     "data": {
      "text/html": [
       "<a href=\"http://edition.pagesuite-professional.co.uk/Launch.aspx?PBID=926f0c8c-7f9b-4c0c-a74d-25af040856bf\" target=\"_blank\">http://edition.pagesuite-professional.co.uk/Launch.aspx?PBID=926f0c8c-7f9b-4c0c-a74d-25af040856bf</a>"
      ],
      "text/plain": [
       "<IPython.core.display.HTML object>"
      ]
     },
     "metadata": {},
     "output_type": "display_data"
    },
    {
     "data": {
      "text/html": [
       "<a href=\"http://edition.pagesuite-professional.co.uk/Launch.aspx?PBID=926f0c8c-7f9b-4c0c-a74d-25af040856bf\" target=\"_blank\">http://edition.pagesuite-professional.co.uk/Launch.aspx?PBID=926f0c8c-7f9b-4c0c-a74d-25af040856bf</a>"
      ],
      "text/plain": [
       "<IPython.core.display.HTML object>"
      ]
     },
     "metadata": {},
     "output_type": "display_data"
    },
    {
     "data": {
      "text/html": [
       "<a href=\"http://edition.pagesuite-professional.co.uk/Launch.aspx?PBID=926f0c8c-7f9b-4c0c-a74d-25af040856bf\" target=\"_blank\">http://edition.pagesuite-professional.co.uk/Launch.aspx?PBID=926f0c8c-7f9b-4c0c-a74d-25af040856bf</a>"
      ],
      "text/plain": [
       "<IPython.core.display.HTML object>"
      ]
     },
     "metadata": {},
     "output_type": "display_data"
    },
    {
     "data": {
      "text/html": [
       "<a href=\"https://politi.co/3srhbfl\" target=\"_blank\">https://politi.co/3srhbfl</a>"
      ],
      "text/plain": [
       "<IPython.core.display.HTML object>"
      ]
     },
     "metadata": {},
     "output_type": "display_data"
    },
    {
     "data": {
      "text/html": [
       "<a href=\"https://politi.co/3srhbfl\" target=\"_blank\">https://politi.co/3srhbfl</a>"
      ],
      "text/plain": [
       "<IPython.core.display.HTML object>"
      ]
     },
     "metadata": {},
     "output_type": "display_data"
    },
    {
     "data": {
      "text/html": [
       "<a href=\"https://politi.co/3srhbfl\" target=\"_blank\">https://politi.co/3srhbfl</a>"
      ],
      "text/plain": [
       "<IPython.core.display.HTML object>"
      ]
     },
     "metadata": {},
     "output_type": "display_data"
    },
    {
     "data": {
      "text/html": [
       "<a href=\"/brussels\" target=\"_blank\">/brussels</a>"
      ],
      "text/plain": [
       "<IPython.core.display.HTML object>"
      ]
     },
     "metadata": {},
     "output_type": "display_data"
    },
    {
     "data": {
      "text/html": [
       "<a href=\"https://www.politico.eu/tag/german-politics/\" target=\"_blank\">https://www.politico.eu/tag/german-politics/</a>"
      ],
      "text/plain": [
       "<IPython.core.display.HTML object>"
      ]
     },
     "metadata": {},
     "output_type": "display_data"
    },
    {
     "data": {
      "text/html": [
       "<a href=\"https://www.politico.eu/france-politics-news/\" target=\"_blank\">https://www.politico.eu/france-politics-news/</a>"
      ],
      "text/plain": [
       "<IPython.core.display.HTML object>"
      ]
     },
     "metadata": {},
     "output_type": "display_data"
    },
    {
     "data": {
      "text/html": [
       "<a href=\"https://www.politico.eu/tag/elections-in-europe/\" target=\"_blank\">https://www.politico.eu/tag/elections-in-europe/</a>"
      ],
      "text/plain": [
       "<IPython.core.display.HTML object>"
      ]
     },
     "metadata": {},
     "output_type": "display_data"
    },
    {
     "data": {
      "text/html": [
       "<a href=\"https://www.politico.eu/coronavirus-in-europe/\" target=\"_blank\">https://www.politico.eu/coronavirus-in-europe/</a>"
      ],
      "text/plain": [
       "<IPython.core.display.HTML object>"
      ]
     },
     "metadata": {},
     "output_type": "display_data"
    },
    {
     "data": {
      "text/html": [
       "<a href=\"https://www.politico.eu/tag/migration/\" target=\"_blank\">https://www.politico.eu/tag/migration/</a>"
      ],
      "text/plain": [
       "<IPython.core.display.HTML object>"
      ]
     },
     "metadata": {},
     "output_type": "display_data"
    },
    {
     "data": {
      "text/html": [
       "<a href=\"https://www.politico.eu/tag/defense/\" target=\"_blank\">https://www.politico.eu/tag/defense/</a>"
      ],
      "text/plain": [
       "<IPython.core.display.HTML object>"
      ]
     },
     "metadata": {},
     "output_type": "display_data"
    },
    {
     "data": {
      "text/html": [
       "<a href=\"/continent/\" target=\"_blank\">/continent/</a>"
      ],
      "text/plain": [
       "<IPython.core.display.HTML object>"
      ]
     },
     "metadata": {},
     "output_type": "display_data"
    },
    {
     "data": {
      "text/html": [
       "<a href=\"/section/policy\" target=\"_blank\">/section/policy</a>"
      ],
      "text/plain": [
       "<IPython.core.display.HTML object>"
      ]
     },
     "metadata": {},
     "output_type": "display_data"
    },
    {
     "data": {
      "text/html": [
       "<a href=\"https://www.politico.eu/section/agriculture/\" target=\"_blank\">https://www.politico.eu/section/agriculture/</a>"
      ],
      "text/plain": [
       "<IPython.core.display.HTML object>"
      ]
     },
     "metadata": {},
     "output_type": "display_data"
    },
    {
     "data": {
      "text/html": [
       "<a href=\"https://www.politico.eu/section/competition/\" target=\"_blank\">https://www.politico.eu/section/competition/</a>"
      ],
      "text/plain": [
       "<IPython.core.display.HTML object>"
      ]
     },
     "metadata": {},
     "output_type": "display_data"
    },
    {
     "data": {
      "text/html": [
       "<a href=\"https://www.politico.eu/section/cybersecurity/\" target=\"_blank\">https://www.politico.eu/section/cybersecurity/</a>"
      ],
      "text/plain": [
       "<IPython.core.display.HTML object>"
      ]
     },
     "metadata": {},
     "output_type": "display_data"
    },
    {
     "data": {
      "text/html": [
       "<a href=\"https://www.politico.eu/section/health-care/\" target=\"_blank\">https://www.politico.eu/section/health-care/</a>"
      ],
      "text/plain": [
       "<IPython.core.display.HTML object>"
      ]
     },
     "metadata": {},
     "output_type": "display_data"
    },
    {
     "data": {
      "text/html": [
       "<a href=\"https://www.politico.eu/section/energy/\" target=\"_blank\">https://www.politico.eu/section/energy/</a>"
      ],
      "text/plain": [
       "<IPython.core.display.HTML object>"
      ]
     },
     "metadata": {},
     "output_type": "display_data"
    },
    {
     "data": {
      "text/html": [
       "<a href=\"https://www.politico.eu/section/energy-uk/\" target=\"_blank\">https://www.politico.eu/section/energy-uk/</a>"
      ],
      "text/plain": [
       "<IPython.core.display.HTML object>"
      ]
     },
     "metadata": {},
     "output_type": "display_data"
    },
    {
     "data": {
      "text/html": [
       "<a href=\"https://www.politico.eu/section/brexit/\" target=\"_blank\">https://www.politico.eu/section/brexit/</a>"
      ],
      "text/plain": [
       "<IPython.core.display.HTML object>"
      ]
     },
     "metadata": {},
     "output_type": "display_data"
    },
    {
     "data": {
      "text/html": [
       "<a href=\"https://www.politico.eu/section/financial-services/\" target=\"_blank\">https://www.politico.eu/section/financial-services/</a>"
      ],
      "text/plain": [
       "<IPython.core.display.HTML object>"
      ]
     },
     "metadata": {},
     "output_type": "display_data"
    },
    {
     "data": {
      "text/html": [
       "<a href=\"https://www.politico.eu/section/central-banker/\" target=\"_blank\">https://www.politico.eu/section/central-banker/</a>"
      ],
      "text/plain": [
       "<IPython.core.display.HTML object>"
      ]
     },
     "metadata": {},
     "output_type": "display_data"
    },
    {
     "data": {
      "text/html": [
       "<a href=\"https://www.politico.eu/section/mobility/\" target=\"_blank\">https://www.politico.eu/section/mobility/</a>"
      ],
      "text/plain": [
       "<IPython.core.display.HTML object>"
      ]
     },
     "metadata": {},
     "output_type": "display_data"
    },
    {
     "data": {
      "text/html": [
       "<a href=\"https://www.politico.eu/section/sustainability/\" target=\"_blank\">https://www.politico.eu/section/sustainability/</a>"
      ],
      "text/plain": [
       "<IPython.core.display.HTML object>"
      ]
     },
     "metadata": {},
     "output_type": "display_data"
    },
    {
     "data": {
      "text/html": [
       "<a href=\"https://www.politico.eu/section/technology/\" target=\"_blank\">https://www.politico.eu/section/technology/</a>"
      ],
      "text/plain": [
       "<IPython.core.display.HTML object>"
      ]
     },
     "metadata": {},
     "output_type": "display_data"
    },
    {
     "data": {
      "text/html": [
       "<a href=\"https://www.politico.eu/section/technology-uk/\" target=\"_blank\">https://www.politico.eu/section/technology-uk/</a>"
      ],
      "text/plain": [
       "<IPython.core.display.HTML object>"
      ]
     },
     "metadata": {},
     "output_type": "display_data"
    },
    {
     "data": {
      "text/html": [
       "<a href=\"https://www.politico.eu/section/trade/\" target=\"_blank\">https://www.politico.eu/section/trade/</a>"
      ],
      "text/plain": [
       "<IPython.core.display.HTML object>"
      ]
     },
     "metadata": {},
     "output_type": "display_data"
    },
    {
     "data": {
      "text/html": [
       "<a href=\"https://www.politico.eu/section/trade-uk/\" target=\"_blank\">https://www.politico.eu/section/trade-uk/</a>"
      ],
      "text/plain": [
       "<IPython.core.display.HTML object>"
      ]
     },
     "metadata": {},
     "output_type": "display_data"
    },
    {
     "data": {
      "text/html": [
       "<a href=\"https://www.politico.eu/section/paris-influence/\" target=\"_blank\">https://www.politico.eu/section/paris-influence/</a>"
      ],
      "text/plain": [
       "<IPython.core.display.HTML object>"
      ]
     },
     "metadata": {},
     "output_type": "display_data"
    },
    {
     "data": {
      "text/html": [
       "<a href=\"/newsletter\" target=\"_blank\">/newsletter</a>"
      ],
      "text/plain": [
       "<IPython.core.display.HTML object>"
      ]
     },
     "metadata": {},
     "output_type": "display_data"
    },
    {
     "data": {
      "text/html": [
       "<a href=\"/newsletter/brussels-playbook/\" target=\"_blank\">/newsletter/brussels-playbook/</a>"
      ],
      "text/plain": [
       "<IPython.core.display.HTML object>"
      ]
     },
     "metadata": {},
     "output_type": "display_data"
    },
    {
     "data": {
      "text/html": [
       "<a href=\"/newsletter/playbook-paris/\" target=\"_blank\">/newsletter/playbook-paris/</a>"
      ],
      "text/plain": [
       "<IPython.core.display.HTML object>"
      ]
     },
     "metadata": {},
     "output_type": "display_data"
    },
    {
     "data": {
      "text/html": [
       "<a href=\"https://www.politico.eu/newsletter/dimanchissime/\" target=\"_blank\">https://www.politico.eu/newsletter/dimanchissime/</a>"
      ],
      "text/plain": [
       "<IPython.core.display.HTML object>"
      ]
     },
     "metadata": {},
     "output_type": "display_data"
    },
    {
     "data": {
      "text/html": [
       "<a href=\"/newsletter/london-playbook/\" target=\"_blank\">/newsletter/london-playbook/</a>"
      ],
      "text/plain": [
       "<IPython.core.display.HTML object>"
      ]
     },
     "metadata": {},
     "output_type": "display_data"
    },
    {
     "data": {
      "text/html": [
       "<a href=\"https://www.politico.eu/newsletter/davos-playbook/\" target=\"_blank\">https://www.politico.eu/newsletter/davos-playbook/</a>"
      ],
      "text/plain": [
       "<IPython.core.display.HTML object>"
      ]
     },
     "metadata": {},
     "output_type": "display_data"
    },
    {
     "data": {
      "text/html": [
       "<a href=\"/newsletter/sunday-crunch/\" target=\"_blank\">/newsletter/sunday-crunch/</a>"
      ],
      "text/plain": [
       "<IPython.core.display.HTML object>"
      ]
     },
     "metadata": {},
     "output_type": "display_data"
    },
    {
     "data": {
      "text/html": [
       "<a href=\"https://www.politico.eu/newsletter/politico-confidential/\" target=\"_blank\">https://www.politico.eu/newsletter/politico-confidential/</a>"
      ],
      "text/plain": [
       "<IPython.core.display.HTML object>"
      ]
     },
     "metadata": {},
     "output_type": "display_data"
    },
    {
     "data": {
      "text/html": [
       "<a href=\"/newsletter/politico-london-influence/\" target=\"_blank\">/newsletter/politico-london-influence/</a>"
      ],
      "text/plain": [
       "<IPython.core.display.HTML object>"
      ]
     },
     "metadata": {},
     "output_type": "display_data"
    },
    {
     "data": {
      "text/html": [
       "<a href=\"/newsletter/politico-eu-influence/\" target=\"_blank\">/newsletter/politico-eu-influence/</a>"
      ],
      "text/plain": [
       "<IPython.core.display.HTML object>"
      ]
     },
     "metadata": {},
     "output_type": "display_data"
    },
    {
     "data": {
      "text/html": [
       "<a href=\"https://www.politico.eu/livingcities/#newsletter\" target=\"_blank\">https://www.politico.eu/livingcities/#newsletter</a>"
      ],
      "text/plain": [
       "<IPython.core.display.HTML object>"
      ]
     },
     "metadata": {},
     "output_type": "display_data"
    },
    {
     "data": {
      "text/html": [
       "<a href=\"/newsletter/berlin-bulletin/\" target=\"_blank\">/newsletter/berlin-bulletin/</a>"
      ],
      "text/plain": [
       "<IPython.core.display.HTML object>"
      ]
     },
     "metadata": {},
     "output_type": "display_data"
    },
    {
     "data": {
      "text/html": [
       "<a href=\"https://www.politico.eu/newsletter/digital-bridge/\" target=\"_blank\">https://www.politico.eu/newsletter/digital-bridge/</a>"
      ],
      "text/plain": [
       "<IPython.core.display.HTML object>"
      ]
     },
     "metadata": {},
     "output_type": "display_data"
    },
    {
     "data": {
      "text/html": [
       "<a href=\"https://www.politico.eu/newsletter/china-watcher/\" target=\"_blank\">https://www.politico.eu/newsletter/china-watcher/</a>"
      ],
      "text/plain": [
       "<IPython.core.display.HTML object>"
      ]
     },
     "metadata": {},
     "output_type": "display_data"
    },
    {
     "data": {
      "text/html": [
       "<a href=\"https://www.politico.eu/politico-28-hub/\" target=\"_blank\">https://www.politico.eu/politico-28-hub/</a>"
      ],
      "text/plain": [
       "<IPython.core.display.HTML object>"
      ]
     },
     "metadata": {},
     "output_type": "display_data"
    },
    {
     "data": {
      "text/html": [
       "<a href=\"https://www.politico.eu/livingcities/\" target=\"_blank\">https://www.politico.eu/livingcities/</a>"
      ],
      "text/plain": [
       "<IPython.core.display.HTML object>"
      ]
     },
     "metadata": {},
     "output_type": "display_data"
    },
    {
     "data": {
      "text/html": [
       "<a href=\"https://www.politico.eu/climate-changed/\" target=\"_blank\">https://www.politico.eu/climate-changed/</a>"
      ],
      "text/plain": [
       "<IPython.core.display.HTML object>"
      ]
     },
     "metadata": {},
     "output_type": "display_data"
    },
    {
     "data": {
      "text/html": [
       "<a href=\"https://www.politico.eu/work-reloaded/\" target=\"_blank\">https://www.politico.eu/work-reloaded/</a>"
      ],
      "text/plain": [
       "<IPython.core.display.HTML object>"
      ]
     },
     "metadata": {},
     "output_type": "display_data"
    },
    {
     "data": {
      "text/html": [
       "<a href=\"https://www.politico.eu/silent-killers-chronic-disease/\" target=\"_blank\">https://www.politico.eu/silent-killers-chronic-disease/</a>"
      ],
      "text/plain": [
       "<IPython.core.display.HTML object>"
      ]
     },
     "metadata": {},
     "output_type": "display_data"
    },
    {
     "data": {
      "text/html": [
       "<a href=\"https://www.politico.eu/after-coronavirus-recovery-europe/\" target=\"_blank\">https://www.politico.eu/after-coronavirus-recovery-europe/</a>"
      ],
      "text/plain": [
       "<IPython.core.display.HTML object>"
      ]
     },
     "metadata": {},
     "output_type": "display_data"
    },
    {
     "data": {
      "text/html": [
       "<a href=\"https://www.politico.eu/the-road-to-cop26-climate-change-glasgow/\" target=\"_blank\">https://www.politico.eu/the-road-to-cop26-climate-change-glasgow/</a>"
      ],
      "text/plain": [
       "<IPython.core.display.HTML object>"
      ]
     },
     "metadata": {},
     "output_type": "display_data"
    },
    {
     "data": {
      "text/html": [
       "<a href=\"/telescope-hub/\" target=\"_blank\">/telescope-hub/</a>"
      ],
      "text/plain": [
       "<IPython.core.display.HTML object>"
      ]
     },
     "metadata": {},
     "output_type": "display_data"
    },
    {
     "data": {
      "text/html": [
       "<a href=\"https://www.politico.eu/tag/eu-in-africa/\" target=\"_blank\">https://www.politico.eu/tag/eu-in-africa/</a>"
      ],
      "text/plain": [
       "<IPython.core.display.HTML object>"
      ]
     },
     "metadata": {},
     "output_type": "display_data"
    },
    {
     "data": {
      "text/html": [
       "<a href=\"/changemakers/\" target=\"_blank\">/changemakers/</a>"
      ],
      "text/plain": [
       "<IPython.core.display.HTML object>"
      ]
     },
     "metadata": {},
     "output_type": "display_data"
    },
    {
     "data": {
      "text/html": [
       "<a href=\"/policy-guide\" target=\"_blank\">/policy-guide</a>"
      ],
      "text/plain": [
       "<IPython.core.display.HTML object>"
      ]
     },
     "metadata": {},
     "output_type": "display_data"
    },
    {
     "data": {
      "text/html": [
       "<a href=\"https://www.politico.eu/section/opinion/\" target=\"_blank\">https://www.politico.eu/section/opinion/</a>"
      ],
      "text/plain": [
       "<IPython.core.display.HTML object>"
      ]
     },
     "metadata": {},
     "output_type": "display_data"
    },
    {
     "data": {
      "text/html": [
       "<a href=\"https://www.politico.eu/tag/unpacked/\" target=\"_blank\">https://www.politico.eu/tag/unpacked/</a>"
      ],
      "text/plain": [
       "<IPython.core.display.HTML object>"
      ]
     },
     "metadata": {},
     "output_type": "display_data"
    },
    {
     "data": {
      "text/html": [
       "<a href=\"https://www.politico.eu/tag/beyond-the-bubble/\" target=\"_blank\">https://www.politico.eu/tag/beyond-the-bubble/</a>"
      ],
      "text/plain": [
       "<IPython.core.display.HTML object>"
      ]
     },
     "metadata": {},
     "output_type": "display_data"
    },
    {
     "data": {
      "text/html": [
       "<a href=\"https://www.politico.eu/tag/from-across-the-pond/\" target=\"_blank\">https://www.politico.eu/tag/from-across-the-pond/</a>"
      ],
      "text/plain": [
       "<IPython.core.display.HTML object>"
      ]
     },
     "metadata": {},
     "output_type": "display_data"
    },
    {
     "data": {
      "text/html": [
       "<a href=\"https://www.politico.eu/tag/club-med/\" target=\"_blank\">https://www.politico.eu/tag/club-med/</a>"
      ],
      "text/plain": [
       "<IPython.core.display.HTML object>"
      ]
     },
     "metadata": {},
     "output_type": "display_data"
    },
    {
     "data": {
      "text/html": [
       "<a href=\"https://www.politico.eu/tag/declassified/\" target=\"_blank\">https://www.politico.eu/tag/declassified/</a>"
      ],
      "text/plain": [
       "<IPython.core.display.HTML object>"
      ]
     },
     "metadata": {},
     "output_type": "display_data"
    },
    {
     "data": {
      "text/html": [
       "<a href=\"/podcast\" target=\"_blank\">/podcast</a>"
      ],
      "text/plain": [
       "<IPython.core.display.HTML object>"
      ]
     },
     "metadata": {},
     "output_type": "display_data"
    },
    {
     "data": {
      "text/html": [
       "<a href=\"/eu-confidential-podcast/\" target=\"_blank\">/eu-confidential-podcast/</a>"
      ],
      "text/plain": [
       "<IPython.core.display.HTML object>"
      ]
     },
     "metadata": {},
     "output_type": "display_data"
    },
    {
     "data": {
      "text/html": [
       "<a href=\"/westminster-insider-podcast/\" target=\"_blank\">/westminster-insider-podcast/</a>"
      ],
      "text/plain": [
       "<IPython.core.display.HTML object>"
      ]
     },
     "metadata": {},
     "output_type": "display_data"
    },
    {
     "data": {
      "text/html": [
       "<a href=\"https://www.politico.eu/power-play-podcast/\" target=\"_blank\">https://www.politico.eu/power-play-podcast/</a>"
      ],
      "text/plain": [
       "<IPython.core.display.HTML object>"
      ]
     },
     "metadata": {},
     "output_type": "display_data"
    },
    {
     "data": {
      "text/html": [
       "<a href=\"https://www.politico.eu/davos-confidential/\" target=\"_blank\">https://www.politico.eu/davos-confidential/</a>"
      ],
      "text/plain": [
       "<IPython.core.display.HTML object>"
      ]
     },
     "metadata": {},
     "output_type": "display_data"
    },
    {
     "data": {
      "text/html": [
       "<a href=\"/campaign-confidential/\" target=\"_blank\">/campaign-confidential/</a>"
      ],
      "text/plain": [
       "<IPython.core.display.HTML object>"
      ]
     },
     "metadata": {},
     "output_type": "display_data"
    },
    {
     "data": {
      "text/html": [
       "<a href=\"https://play.google.com/store/apps/details?id=eu.politico.promobile&hl=en_UK\" target=\"_blank\">https://play.google.com/store/apps/details?id=eu.politico.promobile&hl=en_UK</a>"
      ],
      "text/plain": [
       "<IPython.core.display.HTML object>"
      ]
     },
     "metadata": {},
     "output_type": "display_data"
    },
    {
     "data": {
      "text/html": [
       "<a href=\"https://apps.apple.com/be/app/politico-pro-europe/id1396447664\" target=\"_blank\">https://apps.apple.com/be/app/politico-pro-europe/id1396447664</a>"
      ],
      "text/plain": [
       "<IPython.core.display.HTML object>"
      ]
     },
     "metadata": {},
     "output_type": "display_data"
    },
    {
     "data": {
      "text/html": [
       "<a href=\"https://edition.pagesuite-professional.co.uk/html5/reader/production/default.aspx?pubname=&pubid=926f0c8c-7f9b-4c0c-a74d-25af040856bf\" target=\"_blank\">https://edition.pagesuite-professional.co.uk/html5/reader/production/default.aspx?pubname=&pubid=926f0c8c-7f9b-4c0c-a74d-25af040856bf</a>"
      ],
      "text/plain": [
       "<IPython.core.display.HTML object>"
      ]
     },
     "metadata": {},
     "output_type": "display_data"
    },
    {
     "data": {
      "text/html": [
       "<a href=\"/events\" target=\"_blank\">/events</a>"
      ],
      "text/plain": [
       "<IPython.core.display.HTML object>"
      ]
     },
     "metadata": {},
     "output_type": "display_data"
    },
    {
     "data": {
      "text/html": [
       "<a href=\"/why-go-pro/\" target=\"_blank\">/why-go-pro/</a>"
      ],
      "text/plain": [
       "<IPython.core.display.HTML object>"
      ]
     },
     "metadata": {},
     "output_type": "display_data"
    },
    {
     "data": {
      "text/html": [
       "<a href=\"https://www.politico.eu/research-analysis-division/\" target=\"_blank\">https://www.politico.eu/research-analysis-division/</a>"
      ],
      "text/plain": [
       "<IPython.core.display.HTML object>"
      ]
     },
     "metadata": {},
     "output_type": "display_data"
    },
    {
     "data": {
      "text/html": [
       "<a href=\"/about-us\" target=\"_blank\">/about-us</a>"
      ],
      "text/plain": [
       "<IPython.core.display.HTML object>"
      ]
     },
     "metadata": {},
     "output_type": "display_data"
    },
    {
     "data": {
      "text/html": [
       "<a href=\"/contact-us\" target=\"_blank\">/contact-us</a>"
      ],
      "text/plain": [
       "<IPython.core.display.HTML object>"
      ]
     },
     "metadata": {},
     "output_type": "display_data"
    },
    {
     "data": {
      "text/html": [
       "<a href=\"https://www.politico.eu/privacy-policy/\" target=\"_blank\">https://www.politico.eu/privacy-policy/</a>"
      ],
      "text/plain": [
       "<IPython.core.display.HTML object>"
      ]
     },
     "metadata": {},
     "output_type": "display_data"
    },
    {
     "data": {
      "text/html": [
       "<a href=\"https://www.politico.eu/cookies-info/\" target=\"_blank\">https://www.politico.eu/cookies-info/</a>"
      ],
      "text/plain": [
       "<IPython.core.display.HTML object>"
      ]
     },
     "metadata": {},
     "output_type": "display_data"
    },
    {
     "data": {
      "text/html": [
       "<a href=\"/media-solutions\" target=\"_blank\">/media-solutions</a>"
      ],
      "text/plain": [
       "<IPython.core.display.HTML object>"
      ]
     },
     "metadata": {},
     "output_type": "display_data"
    },
    {
     "data": {
      "text/html": [
       "<a href=\"https://www.politico.eu/research-analysis-division/\" target=\"_blank\">https://www.politico.eu/research-analysis-division/</a>"
      ],
      "text/plain": [
       "<IPython.core.display.HTML object>"
      ]
     },
     "metadata": {},
     "output_type": "display_data"
    },
    {
     "data": {
      "text/html": [
       "<a href=\"/press\" target=\"_blank\">/press</a>"
      ],
      "text/plain": [
       "<IPython.core.display.HTML object>"
      ]
     },
     "metadata": {},
     "output_type": "display_data"
    },
    {
     "data": {
      "text/html": [
       "<a href=\"/politico-print-edition/\" target=\"_blank\">/politico-print-edition/</a>"
      ],
      "text/plain": [
       "<IPython.core.display.HTML object>"
      ]
     },
     "metadata": {},
     "output_type": "display_data"
    },
    {
     "data": {
      "text/html": [
       "<a href=\"https://jobs.politico.eu/\" target=\"_blank\">https://jobs.politico.eu/</a>"
      ],
      "text/plain": [
       "<IPython.core.display.HTML object>"
      ]
     },
     "metadata": {},
     "output_type": "display_data"
    },
    {
     "data": {
      "text/html": [
       "<a href=\"/careers\" target=\"_blank\">/careers</a>"
      ],
      "text/plain": [
       "<IPython.core.display.HTML object>"
      ]
     },
     "metadata": {},
     "output_type": "display_data"
    },
    {
     "data": {
      "text/html": [
       "<a href=\"/terms-conditions/\" target=\"_blank\">/terms-conditions/</a>"
      ],
      "text/plain": [
       "<IPython.core.display.HTML object>"
      ]
     },
     "metadata": {},
     "output_type": "display_data"
    },
    {
     "data": {
      "text/html": [
       "<a href=\"/frequently-asked-questions/\" target=\"_blank\">/frequently-asked-questions/</a>"
      ],
      "text/plain": [
       "<IPython.core.display.HTML object>"
      ]
     },
     "metadata": {},
     "output_type": "display_data"
    },
    {
     "data": {
      "text/html": [
       "<a href=\"https://www.politico.eu/registration/\" target=\"_blank\">https://www.politico.eu/registration/</a>"
      ],
      "text/plain": [
       "<IPython.core.display.HTML object>"
      ]
     },
     "metadata": {},
     "output_type": "display_data"
    },
    {
     "data": {
      "text/html": [
       "<a href=\"https://www.politico.eu/wp-login.php?action=lostpassword\" target=\"_blank\">https://www.politico.eu/wp-login.php?action=lostpassword</a>"
      ],
      "text/plain": [
       "<IPython.core.display.HTML object>"
      ]
     },
     "metadata": {},
     "output_type": "display_data"
    },
    {
     "data": {
      "text/html": [
       "<a href=\"https://www.politico.eu/privacy-policy/\" target=\"_blank\">https://www.politico.eu/privacy-policy/</a>"
      ],
      "text/plain": [
       "<IPython.core.display.HTML object>"
      ]
     },
     "metadata": {},
     "output_type": "display_data"
    },
    {
     "data": {
      "text/html": [
       "<a href=\"#\" target=\"_blank\">#</a>"
      ],
      "text/plain": [
       "<IPython.core.display.HTML object>"
      ]
     },
     "metadata": {},
     "output_type": "display_data"
    }
   ],
   "source": [
    "from IPython.display import display, HTML\n",
    "import pandas as pd\n",
    "\n",
    "# Assuming you have a DataFrame named df with a \"Links\" column\n",
    "\n",
    "for link_url in df[\"Links\"]:\n",
    "    \n",
    "    display(HTML(f'<a href=\"{link_url}\" target=\"_blank\">{link_url}</a>'))\n"
   ]
  },
  {
   "cell_type": "code",
   "execution_count": 15,
   "id": "cfecf4d1",
   "metadata": {},
   "outputs": [
    {
     "name": "stdout",
     "output_type": "stream",
     "text": [
      "An error occurred while crawling https://edition.cnn.com/politics: argument of type 'NoneType' is not iterable\n",
      "An error occurred while crawling https://www.politico.eu/: argument of type 'NoneType' is not iterable\n"
     ]
    }
   ],
   "source": [
    "import requests\n",
    "from bs4 import BeautifulSoup\n",
    "import pandas as pd\n",
    "from datetime import datetime, date\n",
    "\n",
    "# List of initial URLs (seeds) to start crawling from\n",
    "initial_urls = [\n",
    "    \"https://foreignpolicy.com/\",\n",
    "    \"https://www.worldpoliticsreview.com/\",\n",
    "    \"https://www.cnbc.com/politics/\",\n",
    "    \"https://www.politico.com/\",\n",
    "    \"https://edition.cnn.com/politics\",\n",
    "    \"https://www.politico.eu/\"\n",
    "]\n",
    "\n",
    "# Function to crawl a URL\n",
    "def crawl(url):\n",
    "    try:\n",
    "        response = requests.get(url)\n",
    "        if response.status_code == 200:\n",
    "            soup = BeautifulSoup(response.content, \"html.parser\")\n",
    "            # Modify this part to identify the news links and their publication dates\n",
    "            news_links = []\n",
    "            for link in soup.find_all(\"a\"):\n",
    "                href = link.get(\"href\")\n",
    "                # Filter out non-news links based on your criteria\n",
    "                if \"news\" in href:  # Adjust this condition based on the structure of news URLs\n",
    "                    publication_date = extract_publication_date(link)  # Implement this function\n",
    "                    if publication_date == date.today():\n",
    "                        news_links.append(href)\n",
    "            return news_links\n",
    "        else:\n",
    "            print(f\"Failed to fetch {url}\")\n",
    "            return []\n",
    "    except Exception as e:\n",
    "        print(f\"An error occurred while crawling {url}: {e}\")\n",
    "        return []\n",
    "\n",
    "# Function to extract publication date from a link\n",
    "def extract_publication_date(link):\n",
    "    # Implement this function to extract and parse the publication date\n",
    "    # from the link element and return it as a date object\n",
    "    pass\n",
    "\n",
    "# Main function\n",
    "def main():\n",
    "    all_links = []\n",
    "    for url in initial_urls:\n",
    "        links = crawl(url)\n",
    "        all_links.extend(links)\n",
    "    \n",
    "    # Create a DataFrame from the links\n",
    "    df = pd.DataFrame({\"Links\": all_links})\n",
    "    df.to_csv(\"crawled_liinks.csv\", index=False)  # Save the DataFrame to a CSV file\n",
    "\n",
    "if __name__ == \"__main__\":\n",
    "    main()\n"
   ]
  },
  {
   "cell_type": "code",
   "execution_count": 16,
   "id": "283f3c65",
   "metadata": {},
   "outputs": [
    {
     "data": {
      "text/html": [
       "<div>\n",
       "<style scoped>\n",
       "    .dataframe tbody tr th:only-of-type {\n",
       "        vertical-align: middle;\n",
       "    }\n",
       "\n",
       "    .dataframe tbody tr th {\n",
       "        vertical-align: top;\n",
       "    }\n",
       "\n",
       "    .dataframe thead th {\n",
       "        text-align: right;\n",
       "    }\n",
       "</style>\n",
       "<table border=\"1\" class=\"dataframe\">\n",
       "  <thead>\n",
       "    <tr style=\"text-align: right;\">\n",
       "      <th></th>\n",
       "      <th>Links</th>\n",
       "    </tr>\n",
       "  </thead>\n",
       "  <tbody>\n",
       "  </tbody>\n",
       "</table>\n",
       "</div>"
      ],
      "text/plain": [
       "Empty DataFrame\n",
       "Columns: [Links]\n",
       "Index: []"
      ]
     },
     "execution_count": 16,
     "metadata": {},
     "output_type": "execute_result"
    }
   ],
   "source": [
    "import pandas as pd\n",
    "df = pd.read_csv('crawled_liinks.csv')\n",
    "df"
   ]
  },
  {
   "cell_type": "code",
   "execution_count": 14,
   "id": "9d5d9b09",
   "metadata": {},
   "outputs": [
    {
     "name": "stdout",
     "output_type": "stream",
     "text": [
      "Failed to fetch https://fpguide.foreignpolicy.com/2023-career/\n",
      "An error occurred while parsing details from /2023/04/24/brics-currency-end-dollar-dominance-united-states-russia-china/?tpcc=recirc_trending062921: Invalid URL '/2023/04/24/brics-currency-end-dollar-dominance-united-states-russia-china/?tpcc=recirc_trending062921': No scheme supplied. Perhaps you meant http:///2023/04/24/brics-currency-end-dollar-dominance-united-states-russia-china/?tpcc=recirc_trending062921?\n",
      "An error occurred while parsing details from /2023/08/24/prigozhin-dead-plane-crash-russia-wagner-group-putin-violence/?tpcc=recirc_trending062921: Invalid URL '/2023/08/24/prigozhin-dead-plane-crash-russia-wagner-group-putin-violence/?tpcc=recirc_trending062921': No scheme supplied. Perhaps you meant http:///2023/08/24/prigozhin-dead-plane-crash-russia-wagner-group-putin-violence/?tpcc=recirc_trending062921?\n",
      "An error occurred while parsing details from /2023/08/24/yevgeny-prigozhin-death-putin-russia-war-ukraine/?tpcc=recirc_trending062921: Invalid URL '/2023/08/24/yevgeny-prigozhin-death-putin-russia-war-ukraine/?tpcc=recirc_trending062921': No scheme supplied. Perhaps you meant http:///2023/08/24/yevgeny-prigozhin-death-putin-russia-war-ukraine/?tpcc=recirc_trending062921?\n",
      "An error occurred while parsing details from /2023/08/23/somalia-al-shabab-al-qaeda-terror-pentagon/?tpcc=recirc_trending062921: Invalid URL '/2023/08/23/somalia-al-shabab-al-qaeda-terror-pentagon/?tpcc=recirc_trending062921': No scheme supplied. Perhaps you meant http:///2023/08/23/somalia-al-shabab-al-qaeda-terror-pentagon/?tpcc=recirc_trending062921?\n",
      "An error occurred while parsing details from /2023/08/24/prigozhin-putin-wagner-group-russia-africa/?tpcc=recirc_trending062921: Invalid URL '/2023/08/24/prigozhin-putin-wagner-group-russia-africa/?tpcc=recirc_trending062921': No scheme supplied. Perhaps you meant http:///2023/08/24/prigozhin-putin-wagner-group-russia-africa/?tpcc=recirc_trending062921?\n",
      "An error occurred while parsing details from /2023/08/23/china-youth-unemployment-jobs/?tpcc=recirc_trending062921: Invalid URL '/2023/08/23/china-youth-unemployment-jobs/?tpcc=recirc_trending062921': No scheme supplied. Perhaps you meant http:///2023/08/23/china-youth-unemployment-jobs/?tpcc=recirc_trending062921?\n",
      "An error occurred while parsing details from /2023/08/23/brics-ukraine-russia-africa-summit-ramaphosa/?tpcc=recirc_trending062921: Invalid URL '/2023/08/23/brics-ukraine-russia-africa-summit-ramaphosa/?tpcc=recirc_trending062921': No scheme supplied. Perhaps you meant http:///2023/08/23/brics-ukraine-russia-africa-summit-ramaphosa/?tpcc=recirc_trending062921?\n",
      "An error occurred while parsing details from /2023/08/23/derisking-us-china-biden-decoupling-technology-supply-chains-semiconductors-chips-ira-trade/?tpcc=recirc_trending062921: Invalid URL '/2023/08/23/derisking-us-china-biden-decoupling-technology-supply-chains-semiconductors-chips-ira-trade/?tpcc=recirc_trending062921': No scheme supplied. Perhaps you meant http:///2023/08/23/derisking-us-china-biden-decoupling-technology-supply-chains-semiconductors-chips-ira-trade/?tpcc=recirc_trending062921?\n",
      "An error occurred while parsing details from /2021/04/28/washington-congo-drc-stolen-election-biden-democracy-diplomacy-state-department/?tpcc=recirc_trending062921: Invalid URL '/2021/04/28/washington-congo-drc-stolen-election-biden-democracy-diplomacy-state-department/?tpcc=recirc_trending062921': No scheme supplied. Perhaps you meant http:///2021/04/28/washington-congo-drc-stolen-election-biden-democracy-diplomacy-state-department/?tpcc=recirc_trending062921?\n",
      "An error occurred while parsing details from /2023/08/24/brics-summit-expansion-new-members-china-russia-saudi-arabia-iran-uae-us/?tpcc=recirc_trending062921: Invalid URL '/2023/08/24/brics-summit-expansion-new-members-china-russia-saudi-arabia-iran-uae-us/?tpcc=recirc_trending062921': No scheme supplied. Perhaps you meant http:///2023/08/24/brics-summit-expansion-new-members-china-russia-saudi-arabia-iran-uae-us/?tpcc=recirc_trending062921?\n",
      "Failed to fetch https://www.linkedin.com/company/256075/\n",
      "Failed to fetch https://fpguide.foreignpolicy.com/2023-career/\n"
     ]
    },
    {
     "ename": "KeyboardInterrupt",
     "evalue": "",
     "output_type": "error",
     "traceback": [
      "\u001b[1;31m---------------------------------------------------------------------------\u001b[0m",
      "\u001b[1;31mKeyboardInterrupt\u001b[0m                         Traceback (most recent call last)",
      "Cell \u001b[1;32mIn[14], line 70\u001b[0m\n\u001b[0;32m     67\u001b[0m     df_articles\u001b[38;5;241m.\u001b[39mto_csv(\u001b[38;5;124m\"\u001b[39m\u001b[38;5;124mparsed_articles.csv\u001b[39m\u001b[38;5;124m\"\u001b[39m, index\u001b[38;5;241m=\u001b[39m\u001b[38;5;28;01mFalse\u001b[39;00m)\n\u001b[0;32m     69\u001b[0m \u001b[38;5;28;01mif\u001b[39;00m \u001b[38;5;18m__name__\u001b[39m \u001b[38;5;241m==\u001b[39m \u001b[38;5;124m\"\u001b[39m\u001b[38;5;124m__main__\u001b[39m\u001b[38;5;124m\"\u001b[39m:\n\u001b[1;32m---> 70\u001b[0m     \u001b[43mmain\u001b[49m\u001b[43m(\u001b[49m\u001b[43m)\u001b[49m\n",
      "Cell \u001b[1;32mIn[14], line 59\u001b[0m, in \u001b[0;36mmain\u001b[1;34m()\u001b[0m\n\u001b[0;32m     56\u001b[0m article_details_list \u001b[38;5;241m=\u001b[39m []\n\u001b[0;32m     58\u001b[0m \u001b[38;5;28;01mfor\u001b[39;00m url \u001b[38;5;129;01min\u001b[39;00m df[\u001b[38;5;124m\"\u001b[39m\u001b[38;5;124mLinks\u001b[39m\u001b[38;5;124m\"\u001b[39m]:\n\u001b[1;32m---> 59\u001b[0m     article_details \u001b[38;5;241m=\u001b[39m \u001b[43mparse_article\u001b[49m\u001b[43m(\u001b[49m\u001b[43murl\u001b[49m\u001b[43m)\u001b[49m\n\u001b[0;32m     60\u001b[0m     \u001b[38;5;28;01mif\u001b[39;00m article_details:\n\u001b[0;32m     61\u001b[0m         article_details_list\u001b[38;5;241m.\u001b[39mappend(article_details)\n",
      "Cell \u001b[1;32mIn[14], line 13\u001b[0m, in \u001b[0;36mparse_article\u001b[1;34m(url)\u001b[0m\n\u001b[0;32m     11\u001b[0m response \u001b[38;5;241m=\u001b[39m requests\u001b[38;5;241m.\u001b[39mget(url)\n\u001b[0;32m     12\u001b[0m \u001b[38;5;28;01mif\u001b[39;00m response\u001b[38;5;241m.\u001b[39mstatus_code \u001b[38;5;241m==\u001b[39m \u001b[38;5;241m200\u001b[39m:\n\u001b[1;32m---> 13\u001b[0m     soup \u001b[38;5;241m=\u001b[39m \u001b[43mBeautifulSoup\u001b[49m\u001b[43m(\u001b[49m\u001b[43mresponse\u001b[49m\u001b[38;5;241;43m.\u001b[39;49m\u001b[43mcontent\u001b[49m\u001b[43m,\u001b[49m\u001b[43m \u001b[49m\u001b[38;5;124;43m\"\u001b[39;49m\u001b[38;5;124;43mhtml.parser\u001b[39;49m\u001b[38;5;124;43m\"\u001b[39;49m\u001b[43m)\u001b[49m\n\u001b[0;32m     15\u001b[0m     \u001b[38;5;66;03m# Extract title\u001b[39;00m\n\u001b[0;32m     16\u001b[0m     title_element \u001b[38;5;241m=\u001b[39m soup\u001b[38;5;241m.\u001b[39mfind(\u001b[38;5;124m\"\u001b[39m\u001b[38;5;124mh1\u001b[39m\u001b[38;5;124m\"\u001b[39m)\n",
      "File \u001b[1;32m~\\anaconda3\\lib\\site-packages\\bs4\\__init__.py:333\u001b[0m, in \u001b[0;36mBeautifulSoup.__init__\u001b[1;34m(self, markup, features, builder, parse_only, from_encoding, exclude_encodings, element_classes, **kwargs)\u001b[0m\n\u001b[0;32m    331\u001b[0m \u001b[38;5;28mself\u001b[39m\u001b[38;5;241m.\u001b[39mbuilder\u001b[38;5;241m.\u001b[39minitialize_soup(\u001b[38;5;28mself\u001b[39m)\n\u001b[0;32m    332\u001b[0m \u001b[38;5;28;01mtry\u001b[39;00m:\n\u001b[1;32m--> 333\u001b[0m     \u001b[38;5;28;43mself\u001b[39;49m\u001b[38;5;241;43m.\u001b[39;49m\u001b[43m_feed\u001b[49m\u001b[43m(\u001b[49m\u001b[43m)\u001b[49m\n\u001b[0;32m    334\u001b[0m     success \u001b[38;5;241m=\u001b[39m \u001b[38;5;28;01mTrue\u001b[39;00m\n\u001b[0;32m    335\u001b[0m     \u001b[38;5;28;01mbreak\u001b[39;00m\n",
      "File \u001b[1;32m~\\anaconda3\\lib\\site-packages\\bs4\\__init__.py:451\u001b[0m, in \u001b[0;36mBeautifulSoup._feed\u001b[1;34m(self)\u001b[0m\n\u001b[0;32m    448\u001b[0m \u001b[38;5;66;03m# Convert the document to Unicode.\u001b[39;00m\n\u001b[0;32m    449\u001b[0m \u001b[38;5;28mself\u001b[39m\u001b[38;5;241m.\u001b[39mbuilder\u001b[38;5;241m.\u001b[39mreset()\n\u001b[1;32m--> 451\u001b[0m \u001b[38;5;28;43mself\u001b[39;49m\u001b[38;5;241;43m.\u001b[39;49m\u001b[43mbuilder\u001b[49m\u001b[38;5;241;43m.\u001b[39;49m\u001b[43mfeed\u001b[49m\u001b[43m(\u001b[49m\u001b[38;5;28;43mself\u001b[39;49m\u001b[38;5;241;43m.\u001b[39;49m\u001b[43mmarkup\u001b[49m\u001b[43m)\u001b[49m\n\u001b[0;32m    452\u001b[0m \u001b[38;5;66;03m# Close out any unfinished strings and close all the open tags.\u001b[39;00m\n\u001b[0;32m    453\u001b[0m \u001b[38;5;28mself\u001b[39m\u001b[38;5;241m.\u001b[39mendData()\n",
      "File \u001b[1;32m~\\anaconda3\\lib\\site-packages\\bs4\\builder\\_htmlparser.py:399\u001b[0m, in \u001b[0;36mHTMLParserTreeBuilder.feed\u001b[1;34m(self, markup)\u001b[0m\n\u001b[0;32m    397\u001b[0m parser\u001b[38;5;241m.\u001b[39msoup \u001b[38;5;241m=\u001b[39m \u001b[38;5;28mself\u001b[39m\u001b[38;5;241m.\u001b[39msoup\n\u001b[0;32m    398\u001b[0m \u001b[38;5;28;01mtry\u001b[39;00m:\n\u001b[1;32m--> 399\u001b[0m     \u001b[43mparser\u001b[49m\u001b[38;5;241;43m.\u001b[39;49m\u001b[43mfeed\u001b[49m\u001b[43m(\u001b[49m\u001b[43mmarkup\u001b[49m\u001b[43m)\u001b[49m\n\u001b[0;32m    400\u001b[0m     parser\u001b[38;5;241m.\u001b[39mclose()\n\u001b[0;32m    401\u001b[0m \u001b[38;5;28;01mexcept\u001b[39;00m HTMLParseError \u001b[38;5;28;01mas\u001b[39;00m e:\n",
      "File \u001b[1;32m~\\anaconda3\\lib\\html\\parser.py:110\u001b[0m, in \u001b[0;36mHTMLParser.feed\u001b[1;34m(self, data)\u001b[0m\n\u001b[0;32m    104\u001b[0m \u001b[38;5;124mr\u001b[39m\u001b[38;5;124;03m\"\"\"Feed data to the parser.\u001b[39;00m\n\u001b[0;32m    105\u001b[0m \n\u001b[0;32m    106\u001b[0m \u001b[38;5;124;03mCall this as often as you want, with as little or as much text\u001b[39;00m\n\u001b[0;32m    107\u001b[0m \u001b[38;5;124;03mas you want (may include '\\n').\u001b[39;00m\n\u001b[0;32m    108\u001b[0m \u001b[38;5;124;03m\"\"\"\u001b[39;00m\n\u001b[0;32m    109\u001b[0m \u001b[38;5;28mself\u001b[39m\u001b[38;5;241m.\u001b[39mrawdata \u001b[38;5;241m=\u001b[39m \u001b[38;5;28mself\u001b[39m\u001b[38;5;241m.\u001b[39mrawdata \u001b[38;5;241m+\u001b[39m data\n\u001b[1;32m--> 110\u001b[0m \u001b[38;5;28;43mself\u001b[39;49m\u001b[38;5;241;43m.\u001b[39;49m\u001b[43mgoahead\u001b[49m\u001b[43m(\u001b[49m\u001b[38;5;241;43m0\u001b[39;49m\u001b[43m)\u001b[49m\n",
      "File \u001b[1;32m~\\anaconda3\\lib\\html\\parser.py:170\u001b[0m, in \u001b[0;36mHTMLParser.goahead\u001b[1;34m(self, end)\u001b[0m\n\u001b[0;32m    168\u001b[0m \u001b[38;5;28;01mif\u001b[39;00m startswith(\u001b[38;5;124m'\u001b[39m\u001b[38;5;124m<\u001b[39m\u001b[38;5;124m'\u001b[39m, i):\n\u001b[0;32m    169\u001b[0m     \u001b[38;5;28;01mif\u001b[39;00m starttagopen\u001b[38;5;241m.\u001b[39mmatch(rawdata, i): \u001b[38;5;66;03m# < + letter\u001b[39;00m\n\u001b[1;32m--> 170\u001b[0m         k \u001b[38;5;241m=\u001b[39m \u001b[38;5;28;43mself\u001b[39;49m\u001b[38;5;241;43m.\u001b[39;49m\u001b[43mparse_starttag\u001b[49m\u001b[43m(\u001b[49m\u001b[43mi\u001b[49m\u001b[43m)\u001b[49m\n\u001b[0;32m    171\u001b[0m     \u001b[38;5;28;01melif\u001b[39;00m startswith(\u001b[38;5;124m\"\u001b[39m\u001b[38;5;124m</\u001b[39m\u001b[38;5;124m\"\u001b[39m, i):\n\u001b[0;32m    172\u001b[0m         k \u001b[38;5;241m=\u001b[39m \u001b[38;5;28mself\u001b[39m\u001b[38;5;241m.\u001b[39mparse_endtag(i)\n",
      "File \u001b[1;32m~\\anaconda3\\lib\\html\\parser.py:316\u001b[0m, in \u001b[0;36mHTMLParser.parse_starttag\u001b[1;34m(self, i)\u001b[0m\n\u001b[0;32m    314\u001b[0m \u001b[38;5;28;01mwhile\u001b[39;00m k \u001b[38;5;241m<\u001b[39m endpos:\n\u001b[0;32m    315\u001b[0m     m \u001b[38;5;241m=\u001b[39m attrfind_tolerant\u001b[38;5;241m.\u001b[39mmatch(rawdata, k)\n\u001b[1;32m--> 316\u001b[0m     \u001b[38;5;28;01mif\u001b[39;00m \u001b[38;5;129;01mnot\u001b[39;00m m:\n\u001b[0;32m    317\u001b[0m         \u001b[38;5;28;01mbreak\u001b[39;00m\n\u001b[0;32m    318\u001b[0m     attrname, rest, attrvalue \u001b[38;5;241m=\u001b[39m m\u001b[38;5;241m.\u001b[39mgroup(\u001b[38;5;241m1\u001b[39m, \u001b[38;5;241m2\u001b[39m, \u001b[38;5;241m3\u001b[39m)\n",
      "\u001b[1;31mKeyboardInterrupt\u001b[0m: "
     ]
    }
   ],
   "source": [
    "import requests\n",
    "from bs4 import BeautifulSoup\n",
    "import pandas as pd\n",
    "\n",
    "# Load the previously collected links\n",
    "df_links = pd.read_csv('crawled_links.csv')\n",
    "article_links = df_links['Links'].tolist()\n",
    "\n",
    "def parse_article(url):\n",
    "    try:\n",
    "        response = requests.get(url)\n",
    "        if response.status_code == 200:\n",
    "            soup = BeautifulSoup(response.content, \"html.parser\")\n",
    "\n",
    "            # Extract title\n",
    "            title_element = soup.find(\"h1\")\n",
    "            title = title_element.text.strip() if title_element else \"\"\n",
    "\n",
    "            # Extract text\n",
    "            paragraphs = soup.find_all(\"p\")\n",
    "            text = \" \".join([p.text.strip() for p in paragraphs])\n",
    "\n",
    "            # Extract image URL\n",
    "            image_element = soup.find(\"img\")\n",
    "            image = image_element.get(\"src\") if image_element else \"\"\n",
    "\n",
    "            article_details = {\n",
    "                \"Title\": title,\n",
    "                \"Text\": text,\n",
    "                \"Image\": image,\n",
    "                \"URL\": url\n",
    "            }\n",
    "            return article_details\n",
    "        else:\n",
    "            print(f\"Failed to fetch {url}\")\n",
    "            return None\n",
    "    except Exception as e:\n",
    "        print(f\"An error occurred while parsing details from {url}: {e}\")\n",
    "        return None\n",
    "\n",
    "\n",
    "# Main function\n",
    "def main():\n",
    "    all_links = []\n",
    "    for url in initial_urls:\n",
    "        links = crawl(url)\n",
    "        all_links.extend(links)\n",
    "\n",
    "    # Create a DataFrame from the links\n",
    "    df = pd.DataFrame({\"Links\": all_links})\n",
    "\n",
    "    # Filter out non-article URLs\n",
    "    df = df[df[\"Links\"].str.contains(\"https://|/\\d{4}/\\d{2}/\\d{2}/\")]\n",
    "\n",
    "    # Initialize a list to hold parsed article details\n",
    "    article_details_list = []\n",
    "\n",
    "    for url in df[\"Links\"]:\n",
    "        article_details = parse_article(url)\n",
    "        if article_details:\n",
    "            article_details_list.append(article_details)\n",
    "\n",
    "    # Create a DataFrame from the parsed article details\n",
    "    df_articles = pd.DataFrame(article_details_list)\n",
    "\n",
    "    # Save the DataFrame to a CSV file\n",
    "    df_articles.to_csv(\"parsed_articles.csv\", index=False)\n",
    "\n",
    "if __name__ == \"__main__\":\n",
    "    main()\n"
   ]
  },
  {
   "cell_type": "markdown",
   "id": "48887870",
   "metadata": {},
   "source": [
    "# ================================================================"
   ]
  },
  {
   "cell_type": "code",
   "execution_count": 1,
   "id": "25b0de9f",
   "metadata": {},
   "outputs": [
    {
     "name": "stdout",
     "output_type": "stream",
     "text": [
      "Requirement already satisfied: requests in c:\\users\\eyawo\\anaconda3\\lib\\site-packages (2.27.1)\n",
      "Requirement already satisfied: idna<4,>=2.5 in c:\\users\\eyawo\\anaconda3\\lib\\site-packages (from requests) (3.4)\n",
      "Requirement already satisfied: urllib3<1.27,>=1.21.1 in c:\\users\\eyawo\\anaconda3\\lib\\site-packages (from requests) (1.26.14)\n",
      "Requirement already satisfied: charset-normalizer~=2.0.0 in c:\\users\\eyawo\\anaconda3\\lib\\site-packages (from requests) (2.0.4)\n",
      "Requirement already satisfied: certifi>=2017.4.17 in c:\\users\\eyawo\\anaconda3\\lib\\site-packages (from requests) (2023.7.22)\n",
      "Note: you may need to restart the kernel to use updated packages.\n"
     ]
    }
   ],
   "source": [
    "pip install requests\n"
   ]
  },
  {
   "cell_type": "code",
   "execution_count": 4,
   "id": "b69bf010",
   "metadata": {},
   "outputs": [
    {
     "name": "stdout",
     "output_type": "stream",
     "text": [
      "An error occurred while crawling #navigation: Invalid URL '#navigation': No scheme supplied. Perhaps you meant http://#navigation?\n",
      "An error occurred while crawling #search: Invalid URL '#search': No scheme supplied. Perhaps you meant http://#search?\n",
      "An error occurred while crawling #main: Invalid URL '#main': No scheme supplied. Perhaps you meant http://#main?\n",
      "An error occurred while crawling #footer: Invalid URL '#footer': No scheme supplied. Perhaps you meant http://#footer?\n",
      "An error occurred while crawling https://foreignpolicy.com/: 'src'\n",
      "An error occurred while crawling #: Invalid URL '#': No scheme supplied. Perhaps you meant http://#?\n",
      "An error occurred while crawling /gift-subscriptions/?tpcc=navbar_gift: Invalid URL '/gift-subscriptions/?tpcc=navbar_gift': No scheme supplied. Perhaps you meant http:///gift-subscriptions/?tpcc=navbar_gift?\n",
      "An error occurred while crawling /subscribe: Invalid URL '/subscribe': No scheme supplied. Perhaps you meant http:///subscribe?\n",
      "An error occurred while crawling /insider: Invalid URL '/insider': No scheme supplied. Perhaps you meant http:///insider?\n",
      "An error occurred while crawling #: Invalid URL '#': No scheme supplied. Perhaps you meant http://#?\n",
      "An error occurred while crawling /category/latest/: Invalid URL '/category/latest/': No scheme supplied. Perhaps you meant http:///category/latest/?\n",
      "An error occurred while crawling /channel/news/: Invalid URL '/channel/news/': No scheme supplied. Perhaps you meant http:///channel/news/?\n",
      "An error occurred while crawling /channel/analysis/: Invalid URL '/channel/analysis/': No scheme supplied. Perhaps you meant http:///channel/analysis/?\n",
      "An error occurred while crawling /podcasts/: Invalid URL '/podcasts/': No scheme supplied. Perhaps you meant http:///podcasts/?\n",
      "An error occurred while crawling /the-magazine/: Invalid URL '/the-magazine/': No scheme supplied. Perhaps you meant http:///the-magazine/?\n",
      "An error occurred while crawling /newsletters/: Invalid URL '/newsletters/': No scheme supplied. Perhaps you meant http:///newsletters/?\n",
      "An error occurred while crawling /live/: Invalid URL '/live/': No scheme supplied. Perhaps you meant http:///live/?\n",
      "An error occurred while crawling /events/: Invalid URL '/events/': No scheme supplied. Perhaps you meant http:///events/?\n",
      "An error occurred while crawling https://fpanalytics.foreignpolicy.com/: 'src'\n",
      "An error occurred while crawling https://foreignpolicy.com/2023/08/25/china-wants-to-run-your-internet/: 'src'\n",
      "An error occurred while crawling https://foreignpolicy.com/channel/analysis/: 'src'\n",
      "An error occurred while crawling https://foreignpolicy.com/author/edoardo-campanella/: 'src'\n",
      "An error occurred while crawling https://foreignpolicy.com/author/john-haigh/: 'src'\n",
      "An error occurred while crawling https://foreignpolicy.com/2023/08/24/brics-summit-expansion-new-members-china-russia-saudi-arabia-iran-uae-us/: 'src'\n",
      "An error occurred while crawling https://foreignpolicy.com/category/world-brief/: 'src'\n",
      "An error occurred while crawling https://foreignpolicy.com/author/alexandra-sharp/: 'src'\n",
      "An error occurred while crawling https://foreignpolicy.com/2023/08/24/republicans-united-states-gop-debate-foreign-policy-ukraine/: 'src'\n",
      "An error occurred while crawling https://foreignpolicy.com/category/news/report/: 'src'\n",
      "An error occurred while crawling https://foreignpolicy.com/author/jack-detsch/: 'src'\n",
      "An error occurred while crawling https://foreignpolicy.com/2023/08/24/us-china-science-technology-agreement-research-collaboration-intellectual-property/: 'src'\n",
      "An error occurred while crawling https://foreignpolicy.com/category/news/report/: 'src'\n",
      "An error occurred while crawling https://foreignpolicy.com/author/christina-lu/: 'src'\n",
      "An error occurred while crawling https://foreignpolicy.com/author/clara-gutman-argemi/: 'src'\n",
      "An error occurred while crawling /category/latest/: Invalid URL '/category/latest/': No scheme supplied. Perhaps you meant http:///category/latest/?\n",
      "An error occurred while crawling https://foreignpolicy.com/events: 'datetime'\n",
      "An error occurred while crawling https://foreignpolicy.com/fp-studios/: 'src'\n",
      "An error occurred while crawling https://foreignpolicy.com/fp-analytics/: 'src'\n",
      "An error occurred while crawling https://foreignpolicy.com/fp-peacegames/: 'src'\n",
      "An error occurred while crawling https://foreignpolicy.com/subscription-services/: 'src'\n",
      "An error occurred while crawling https://foreignpolicy.com/group-subscriptions/: 'src'\n",
      "An error occurred while crawling https://foreignpolicy.com/reprint-permissions/: 'src'\n",
      "Failed to fetch https://fpguide.foreignpolicy.com/2023-career/\n",
      "An error occurred while crawling https://foreignpolicy.com/fp-for-education/: 'src'\n",
      "An error occurred while crawling /magazine: Invalid URL '/magazine': No scheme supplied. Perhaps you meant http:///magazine?\n",
      "An error occurred while crawling https://foreignpolicy.com/buy-back-issues/: 'src'\n",
      "An error occurred while crawling https://foreignpolicy.com/employment-opportunities/: 'src'\n",
      "An error occurred while crawling https://foreignpolicy.com/staff/: 'src'\n",
      "An error occurred while crawling https://solutions.foreignpolicy.com/: 'src'\n",
      "An error occurred while crawling https://sponsored.foreignpolicy.com/country-reports/: 'src'\n",
      "An error occurred while crawling #: Invalid URL '#': No scheme supplied. Perhaps you meant http://#?\n",
      "An error occurred while crawling /gift-subscriptions/?tpcc=navbar_gift: Invalid URL '/gift-subscriptions/?tpcc=navbar_gift': No scheme supplied. Perhaps you meant http:///gift-subscriptions/?tpcc=navbar_gift?\n",
      "An error occurred while crawling /subscribe: Invalid URL '/subscribe': No scheme supplied. Perhaps you meant http:///subscribe?\n",
      "An error occurred while crawling /insider: Invalid URL '/insider': No scheme supplied. Perhaps you meant http:///insider?\n",
      "An error occurred while crawling #: Invalid URL '#': No scheme supplied. Perhaps you meant http://#?\n",
      "An error occurred while crawling https://foreignpolicy.com/projects/ukraine-russia-border-crisis/: 'src'\n",
      "An error occurred while crawling https://foreignpolicy.com/2023/08/24/prigozhin-dead-plane-crash-russia-wagner-group-putin-violence/: 'src'\n",
      "An error occurred while crawling https://foreignpolicy.com/2023/08/24/prigozhin-dead-plane-crash-russia-wagner-group-putin-violence/: 'src'\n",
      "An error occurred while crawling https://foreignpolicy.com/channel/analysis/: 'src'\n",
      "An error occurred while crawling https://foreignpolicy.com/author/clara-broekaert/: 'src'\n",
      "An error occurred while crawling https://foreignpolicy.com/author/colin-p-clarke/: 'src'\n",
      "An error occurred while crawling https://foreignpolicy.com/2023/08/24/us-china-science-technology-agreement-research-collaboration-intellectual-property/: 'src'\n",
      "An error occurred while crawling https://foreignpolicy.com/2023/08/24/us-china-science-technology-agreement-research-collaboration-intellectual-property/: 'src'\n",
      "An error occurred while crawling https://foreignpolicy.com/category/news/report/: 'src'\n",
      "An error occurred while crawling https://foreignpolicy.com/author/christina-lu/: 'src'\n",
      "An error occurred while crawling https://foreignpolicy.com/author/clara-gutman-argemi/: 'src'\n",
      "An error occurred while crawling https://foreignpolicy.com/2023/08/24/yevgeny-prigozhin-death-putin-russia-war-ukraine/: 'src'\n",
      "An error occurred while crawling https://foreignpolicy.com/2023/08/24/yevgeny-prigozhin-death-putin-russia-war-ukraine/: 'src'\n",
      "An error occurred while crawling https://foreignpolicy.com/category/analysis/argument/: 'src'\n",
      "An error occurred while crawling https://foreignpolicy.com/author/mark-lawrence-schrad/: 'src'\n",
      "An error occurred while crawling https://foreignpolicy.com/2023/08/24/biden-trilateral-summit-japan-south-korea-pyongyang-nuclear-war/: 'src'\n",
      "An error occurred while crawling https://foreignpolicy.com/2023/08/24/biden-trilateral-summit-japan-south-korea-pyongyang-nuclear-war/: 'src'\n",
      "An error occurred while crawling https://foreignpolicy.com/category/analysis/argument/: 'src'\n",
      "An error occurred while crawling https://foreignpolicy.com/author/robert-a-manning/: 'src'\n",
      "An error occurred while crawling https://foreignpolicy.com/2023/08/25/china-wants-to-run-your-internet/?tpcc=recirc_latest062921: 'src'\n",
      "An error occurred while crawling https://foreignpolicy.com/channel/analysis/: 'src'\n"
     ]
    },
    {
     "name": "stdout",
     "output_type": "stream",
     "text": [
      "An error occurred while crawling https://foreignpolicy.com/author/edoardo-campanella/: 'src'\n",
      "An error occurred while crawling https://foreignpolicy.com/author/john-haigh/: 'src'\n",
      "An error occurred while crawling https://foreignpolicy.com/2023/08/24/brics-summit-expansion-new-members-china-russia-saudi-arabia-iran-uae-us/?tpcc=recirc_latest062921: 'src'\n",
      "An error occurred while crawling https://foreignpolicy.com/category/world-brief/: 'src'\n",
      "An error occurred while crawling https://foreignpolicy.com/author/alexandra-sharp/: 'src'\n",
      "An error occurred while crawling https://foreignpolicy.com/2023/08/24/republicans-united-states-gop-debate-foreign-policy-ukraine/?tpcc=recirc_latest062921: 'src'\n",
      "An error occurred while crawling https://foreignpolicy.com/category/news/report/: 'src'\n",
      "An error occurred while crawling https://foreignpolicy.com/author/jack-detsch/: 'src'\n",
      "An error occurred while crawling https://foreignpolicy.com/2023/08/24/prigozhin-putin-wagner-group-russia-africa/?tpcc=recirc_latest062921: 'src'\n",
      "An error occurred while crawling https://foreignpolicy.com/category/situation-report/: 'src'\n",
      "An error occurred while crawling https://foreignpolicy.com/author/robbie-gramer/: 'src'\n",
      "An error occurred while crawling https://foreignpolicy.com/author/jack-detsch/: 'src'\n",
      "An error occurred while crawling https://foreignpolicy.com/2023/08/24/netanyahu-saudi-mbs-nuclear-enrichment-arms-race/?tpcc=recirc_latest062921: 'src'\n",
      "An error occurred while crawling https://foreignpolicy.com/category/analysis/argument/: 'src'\n",
      "An error occurred while crawling https://foreignpolicy.com/author/azriel-bermant/: 'src'\n",
      "An error occurred while crawling https://foreignpolicy.com/insider: 'src'\n",
      "An error occurred while crawling https://foreignpolicy.com/2023/08/18/adam-tooze-russia-economy-better-west-expectations/: 'src'\n",
      "An error occurred while crawling https://foreignpolicy.com/2023/08/18/adam-tooze-russia-economy-better-west-expectations/: 'src'\n",
      "An error occurred while crawling /insider: Invalid URL '/insider': No scheme supplied. Perhaps you meant http:///insider?\n",
      "An error occurred while crawling https://foreignpolicy.com/author/cameron-abadi/: 'src'\n",
      "An error occurred while crawling https://foreignpolicy.com/2023/08/17/inside-manipurs-ethnic-violence/: 'src'\n",
      "An error occurred while crawling https://foreignpolicy.com/2023/08/17/inside-manipurs-ethnic-violence/: 'src'\n",
      "An error occurred while crawling /insider: Invalid URL '/insider': No scheme supplied. Perhaps you meant http:///insider?\n",
      "An error occurred while crawling https://foreignpolicy.com/author/ravi-agrawal/: 'src'\n",
      "An error occurred while crawling https://foreignpolicy.com/2023/08/14/ai-tech-cyber-policy-chips-us-diplomacy-biden-nathaniel-fick/: 'src'\n",
      "An error occurred while crawling https://foreignpolicy.com/2023/08/14/ai-tech-cyber-policy-chips-us-diplomacy-biden-nathaniel-fick/: 'src'\n",
      "An error occurred while crawling /insider: Invalid URL '/insider': No scheme supplied. Perhaps you meant http:///insider?\n",
      "An error occurred while crawling https://foreignpolicy.com/author/ravi-agrawal/: 'src'\n",
      "An error occurred while crawling /projects/asia/: Invalid URL '/projects/asia/': No scheme supplied. Perhaps you meant http:///projects/asia/?\n",
      "An error occurred while crawling https://foreignpolicy.com/2023/08/23/india-moon-landing-chandrayaan-geopolitics-modi/: 'src'\n",
      "An error occurred while crawling https://foreignpolicy.com/2023/08/23/india-moon-landing-chandrayaan-geopolitics-modi/: 'src'\n",
      "An error occurred while crawling https://foreignpolicy.com/category/south-asia-brief/: 'src'\n",
      "An error occurred while crawling https://foreignpolicy.com/author/michael-kugelman/: 'src'\n",
      "An error occurred while crawling https://foreignpolicy.com/2023/08/21/india-china-border-crisis-brics-summit-xi-modi/: 'src'\n",
      "An error occurred while crawling https://foreignpolicy.com/2023/08/18/brics-summit-china-russia-expansion-dollar-currency/: 'src'\n",
      "An error occurred while crawling https://foreignpolicy.com/2023/08/15/japan-rare-earth-minerals-green-transition-china-supply-chains/: 'src'\n",
      "An error occurred while crawling /projects/china/: Invalid URL '/projects/china/': No scheme supplied. Perhaps you meant http:///projects/china/?\n",
      "An error occurred while crawling https://foreignpolicy.com/2023/08/23/derisking-us-china-biden-decoupling-technology-supply-chains-semiconductors-chips-ira-trade/: 'src'\n",
      "An error occurred while crawling https://foreignpolicy.com/2023/08/23/derisking-us-china-biden-decoupling-technology-supply-chains-semiconductors-chips-ira-trade/: 'src'\n",
      "An error occurred while crawling https://foreignpolicy.com/channel/analysis/: 'src'\n",
      "An error occurred while crawling https://foreignpolicy.com/author/agathe-demarais/: 'src'\n",
      "An error occurred while crawling https://foreignpolicy.com/2023/08/23/china-youth-unemployment-jobs/: 'src'\n",
      "An error occurred while crawling https://foreignpolicy.com/2023/08/22/china-economy-crisis-investors-xi-health-care-property/: 'src'\n",
      "An error occurred while crawling https://foreignpolicy.com/2023/08/21/china-us-forced-labor-uyghur-xinjiang-uflpa/: 'src'\n",
      "An error occurred while crawling /projects/middle-east-africa/: Invalid URL '/projects/middle-east-africa/': No scheme supplied. Perhaps you meant http:///projects/middle-east-africa/?\n",
      "An error occurred while crawling https://foreignpolicy.com/2023/08/23/brics-ukraine-russia-africa-summit-ramaphosa/: 'src'\n",
      "An error occurred while crawling https://foreignpolicy.com/2023/08/23/brics-ukraine-russia-africa-summit-ramaphosa/: 'src'\n",
      "An error occurred while crawling https://foreignpolicy.com/category/africa-brief/: 'src'\n",
      "An error occurred while crawling https://foreignpolicy.com/author/nosmot-gbadamosi/: 'src'\n",
      "An error occurred while crawling https://foreignpolicy.com/2023/08/19/mosaddeq-iran-coup-united-states-role/: 'src'\n",
      "An error occurred while crawling https://foreignpolicy.com/2023/08/16/zimbabwe-china-lithium-exports-green-technology-africa/: 'src'\n",
      "An error occurred while crawling https://foreignpolicy.com/2023/08/14/iran-us-prisoner-swap-deal-nuclear-negotiations-talks-sanctions-biden/: 'src'\n",
      "An error occurred while crawling /projects/europe/: Invalid URL '/projects/europe/': No scheme supplied. Perhaps you meant http:///projects/europe/?\n",
      "An error occurred while crawling https://foreignpolicy.com/2023/08/22/russia-crimea-bridges-ukraine-invasion/: 'src'\n",
      "An error occurred while crawling https://foreignpolicy.com/2023/08/22/russia-crimea-bridges-ukraine-invasion/: 'src'\n",
      "An error occurred while crawling https://foreignpolicy.com/category/analysis/argument/: 'src'\n",
      "An error occurred while crawling https://foreignpolicy.com/author/oz-katerji/: 'src'\n",
      "An error occurred while crawling https://foreignpolicy.com/2023/08/22/russia-influence-belarus-georgia-moldova-putin-ukraine-war-empire/: 'src'\n",
      "An error occurred while crawling https://foreignpolicy.com/2023/08/14/cities-climate-change-urban-policy-congestion-pricing-emissions/: 'src'\n",
      "An error occurred while crawling https://foreignpolicy.com/2023/08/13/poland-belarus-border-migration-crisis-wagner-group-russia-ukraine-election/: 'src'\n",
      "An error occurred while crawling /projects/americas/: Invalid URL '/projects/americas/': No scheme supplied. Perhaps you meant http:///projects/americas/?\n",
      "An error occurred while crawling https://foreignpolicy.com/2023/08/23/milei-argentina-presidential-election-politics-economy-villarruel/: 'src'\n",
      "An error occurred while crawling https://foreignpolicy.com/2023/08/23/milei-argentina-presidential-election-politics-economy-villarruel/: 'src'\n",
      "An error occurred while crawling https://foreignpolicy.com/channel/analysis/: 'src'\n",
      "An error occurred while crawling https://foreignpolicy.com/author/oliver-stuenkel/: 'src'\n",
      "An error occurred while crawling https://foreignpolicy.com/2023/08/23/central-banks-interest-rates-zombies-federal-reserve-finance-losing-money/: 'src'\n",
      "An error occurred while crawling https://foreignpolicy.com/2023/08/20/derisking-decoupling-us-china-biden-economy-trade-technology-semiconductors-chips-supply-chains-ai-geopolitics-escalation/: 'src'\n",
      "An error occurred while crawling https://foreignpolicy.com/2023/08/18/el-nino-forecast-weather-season-global-impact-conflict-food-supply-health-disease/: 'src'\n",
      "An error occurred while crawling /subscribe?tpcc=subscribe_hp_fall23issue: Invalid URL '/subscribe?tpcc=subscribe_hp_fall23issue': No scheme supplied. Perhaps you meant http:///subscribe?tpcc=subscribe_hp_fall23issue?\n",
      "An error occurred while crawling /subscribe?tpcc=subscribe_hp_fall23issue: Invalid URL '/subscribe?tpcc=subscribe_hp_fall23issue': No scheme supplied. Perhaps you meant http:///subscribe?tpcc=subscribe_hp_fall23issue?\n",
      "An error occurred while crawling /subscribe?tpcc=subscribe_hp_fall23issue: Invalid URL '/subscribe?tpcc=subscribe_hp_fall23issue': No scheme supplied. Perhaps you meant http:///subscribe?tpcc=subscribe_hp_fall23issue?\n",
      "An error occurred while crawling /subscribe?tpcc=subscribe_hp_fall23issue: Invalid URL '/subscribe?tpcc=subscribe_hp_fall23issue': No scheme supplied. Perhaps you meant http:///subscribe?tpcc=subscribe_hp_fall23issue?\n"
     ]
    },
    {
     "name": "stdout",
     "output_type": "stream",
     "text": [
      "An error occurred while crawling https://foreignpolicy.com/author/michael-kugelman/: 'src'\n",
      "An error occurred while crawling https://foreignpolicy.com/2023/08/23/india-moon-landing-chandrayaan-geopolitics-modi/: 'src'\n",
      "An error occurred while crawling https://foreignpolicy.com/author/nosmot-gbadamosi/: 'src'\n",
      "An error occurred while crawling https://foreignpolicy.com/2023/08/23/brics-ukraine-russia-africa-summit-ramaphosa/: 'src'\n",
      "An error occurred while crawling https://foreignpolicy.com/author/james-palmer/: 'src'\n",
      "An error occurred while crawling https://foreignpolicy.com/2023/08/22/china-economy-crisis-investors-xi-health-care-property/: 'src'\n",
      "An error occurred while crawling https://foreignpolicy.com/author/anchal-vohra/: 'src'\n",
      "An error occurred while crawling https://foreignpolicy.com/2023/08/22/rishi-sunak-tories-economy-technocrat/: 'src'\n",
      "An error occurred while crawling /the-magazine: Invalid URL '/the-magazine': No scheme supplied. Perhaps you meant http:///the-magazine?\n",
      "An error occurred while crawling /print-archive: Invalid URL '/print-archive': No scheme supplied. Perhaps you meant http:///print-archive?\n",
      "An error occurred while crawling https://foreignpolicy.com/2023/06/19/ai-regulation-development-us-china-competition-technology/: 'src'\n",
      "An error occurred while crawling https://foreignpolicy.com/2023/06/19/ai-regulation-development-us-china-competition-technology/: 'src'\n",
      "An error occurred while crawling https://foreignpolicy.com/category/essay/: 'src'\n",
      "An error occurred while crawling https://foreignpolicy.com/author/paul-scharre/: 'src'\n",
      "An error occurred while crawling /insider: Invalid URL '/insider': No scheme supplied. Perhaps you meant http:///insider?\n",
      "An error occurred while crawling https://foreignpolicy.com/2023/06/19/ai-regulation-us-china-competition-technology/: 'src'\n",
      "An error occurred while crawling https://foreignpolicy.com/author/paul-scharre/: 'src'\n",
      "An error occurred while crawling https://foreignpolicy.com/2023/06/19/ai-artificial-intelligence-national-security-foreign-policy-threats-prediction/: 'src'\n",
      "An error occurred while crawling https://foreignpolicy.com/channel/analysis/: 'src'\n",
      "An error occurred while crawling https://foreignpolicy.com/author/stanley-a-mcchrystal/: 'src'\n",
      "An error occurred while crawling https://foreignpolicy.com/author/anshu-roy/: 'src'\n",
      "An error occurred while crawling /insider: Invalid URL '/insider': No scheme supplied. Perhaps you meant http:///insider?\n",
      "An error occurred while crawling https://foreignpolicy.com/2023/06/19/russia-ukraine-war-counteroffensive-ai-artificial-intelligence-gazprom-potok-putin-wagner/: 'src'\n",
      "An error occurred while crawling https://foreignpolicy.com/author/stanley-a-mcchrystal/: 'src'\n",
      "An error occurred while crawling https://foreignpolicy.com/author/anshu-roy/: 'src'\n",
      "An error occurred while crawling https://foreignpolicy.com/2023/06/16/chatgpt-ai-geopolitics-artificial-intelligence-russia-ukraine-crimea/: 'src'\n",
      "An error occurred while crawling https://foreignpolicy.com/channel/analysis/: 'src'\n",
      "An error occurred while crawling https://foreignpolicy.com/author/sasha-polakow-suransky/: 'src'\n",
      "An error occurred while crawling https://foreignpolicy.com/2023/06/19/afrofuturism-exhibition-dc-smithsonian-museum-nmaahc-review/: 'src'\n",
      "An error occurred while crawling https://foreignpolicy.com/category/review/: 'src'\n",
      "An error occurred while crawling https://foreignpolicy.com/author/chanda-prescod-weinstein/: 'src'\n",
      "An error occurred while crawling https://foreignpolicy.com/2023/08/14/fighter-jet-sales-global-us-market-f-35-combat-aircraft-engines-defense/: 'src'\n",
      "An error occurred while crawling https://foreignpolicy.com/2023/08/14/fighter-jet-sales-global-us-market-f-35-combat-aircraft-engines-defense/: 'src'\n",
      "An error occurred while crawling https://foreignpolicy.com/category/analysis/argument/: 'src'\n",
      "An error occurred while crawling https://foreignpolicy.com/author/richard-aboulafia/: 'src'\n",
      "An error occurred while crawling https://foreignpolicy.com/2023/08/15/irans-grand-strategy-has-fundamentally-shifted/: 'src'\n"
     ]
    },
    {
     "ename": "KeyboardInterrupt",
     "evalue": "",
     "output_type": "error",
     "traceback": [
      "\u001b[1;31m---------------------------------------------------------------------------\u001b[0m",
      "\u001b[1;31mKeyboardInterrupt\u001b[0m                         Traceback (most recent call last)",
      "Cell \u001b[1;32mIn[4], line 85\u001b[0m\n\u001b[0;32m     82\u001b[0m     df\u001b[38;5;241m.\u001b[39mto_csv(\u001b[38;5;124m\"\u001b[39m\u001b[38;5;124mcs2w.csv\u001b[39m\u001b[38;5;124m\"\u001b[39m, index\u001b[38;5;241m=\u001b[39m\u001b[38;5;28;01mFalse\u001b[39;00m)  \u001b[38;5;66;03m# Save the DataFrame to a CSV file\u001b[39;00m\n\u001b[0;32m     84\u001b[0m \u001b[38;5;28;01mif\u001b[39;00m \u001b[38;5;18m__name__\u001b[39m \u001b[38;5;241m==\u001b[39m \u001b[38;5;124m\"\u001b[39m\u001b[38;5;124m__main__\u001b[39m\u001b[38;5;124m\"\u001b[39m:\n\u001b[1;32m---> 85\u001b[0m     \u001b[43mmain\u001b[49m\u001b[43m(\u001b[49m\u001b[43m)\u001b[49m\n",
      "Cell \u001b[1;32mIn[4], line 76\u001b[0m, in \u001b[0;36mmain\u001b[1;34m()\u001b[0m\n\u001b[0;32m     74\u001b[0m \u001b[38;5;28;01mif\u001b[39;00m links:\n\u001b[0;32m     75\u001b[0m     \u001b[38;5;28;01mfor\u001b[39;00m link \u001b[38;5;129;01min\u001b[39;00m links:\n\u001b[1;32m---> 76\u001b[0m         article_details \u001b[38;5;241m=\u001b[39m \u001b[43mextract_article_details\u001b[49m\u001b[43m(\u001b[49m\u001b[43mlink\u001b[49m\u001b[43m)\u001b[49m\n\u001b[0;32m     77\u001b[0m         \u001b[38;5;28;01mif\u001b[39;00m article_details:\n\u001b[0;32m     78\u001b[0m             all_article_details\u001b[38;5;241m.\u001b[39mappend(article_details)\n",
      "Cell \u001b[1;32mIn[4], line 35\u001b[0m, in \u001b[0;36mextract_article_details\u001b[1;34m(article_url)\u001b[0m\n\u001b[0;32m     33\u001b[0m \u001b[38;5;28;01mdef\u001b[39;00m \u001b[38;5;21mextract_article_details\u001b[39m(article_url):\n\u001b[0;32m     34\u001b[0m     \u001b[38;5;28;01mtry\u001b[39;00m:\n\u001b[1;32m---> 35\u001b[0m         response \u001b[38;5;241m=\u001b[39m \u001b[43mrequests\u001b[49m\u001b[38;5;241;43m.\u001b[39;49m\u001b[43mget\u001b[49m\u001b[43m(\u001b[49m\u001b[43marticle_url\u001b[49m\u001b[43m)\u001b[49m\n\u001b[0;32m     36\u001b[0m         \u001b[38;5;28;01mif\u001b[39;00m response\u001b[38;5;241m.\u001b[39mstatus_code \u001b[38;5;241m==\u001b[39m \u001b[38;5;241m200\u001b[39m:\n\u001b[0;32m     37\u001b[0m             soup \u001b[38;5;241m=\u001b[39m BeautifulSoup(response\u001b[38;5;241m.\u001b[39mcontent, \u001b[38;5;124m\"\u001b[39m\u001b[38;5;124mhtml.parser\u001b[39m\u001b[38;5;124m\"\u001b[39m)\n",
      "File \u001b[1;32m~\\anaconda3\\lib\\site-packages\\requests\\api.py:75\u001b[0m, in \u001b[0;36mget\u001b[1;34m(url, params, **kwargs)\u001b[0m\n\u001b[0;32m     64\u001b[0m \u001b[38;5;28;01mdef\u001b[39;00m \u001b[38;5;21mget\u001b[39m(url, params\u001b[38;5;241m=\u001b[39m\u001b[38;5;28;01mNone\u001b[39;00m, \u001b[38;5;241m*\u001b[39m\u001b[38;5;241m*\u001b[39mkwargs):\n\u001b[0;32m     65\u001b[0m     \u001b[38;5;124mr\u001b[39m\u001b[38;5;124;03m\"\"\"Sends a GET request.\u001b[39;00m\n\u001b[0;32m     66\u001b[0m \n\u001b[0;32m     67\u001b[0m \u001b[38;5;124;03m    :param url: URL for the new :class:`Request` object.\u001b[39;00m\n\u001b[1;32m   (...)\u001b[0m\n\u001b[0;32m     72\u001b[0m \u001b[38;5;124;03m    :rtype: requests.Response\u001b[39;00m\n\u001b[0;32m     73\u001b[0m \u001b[38;5;124;03m    \"\"\"\u001b[39;00m\n\u001b[1;32m---> 75\u001b[0m     \u001b[38;5;28;01mreturn\u001b[39;00m request(\u001b[38;5;124m'\u001b[39m\u001b[38;5;124mget\u001b[39m\u001b[38;5;124m'\u001b[39m, url, params\u001b[38;5;241m=\u001b[39mparams, \u001b[38;5;241m*\u001b[39m\u001b[38;5;241m*\u001b[39mkwargs)\n",
      "File \u001b[1;32m~\\anaconda3\\lib\\site-packages\\requests\\api.py:61\u001b[0m, in \u001b[0;36mrequest\u001b[1;34m(method, url, **kwargs)\u001b[0m\n\u001b[0;32m     57\u001b[0m \u001b[38;5;66;03m# By using the 'with' statement we are sure the session is closed, thus we\u001b[39;00m\n\u001b[0;32m     58\u001b[0m \u001b[38;5;66;03m# avoid leaving sockets open which can trigger a ResourceWarning in some\u001b[39;00m\n\u001b[0;32m     59\u001b[0m \u001b[38;5;66;03m# cases, and look like a memory leak in others.\u001b[39;00m\n\u001b[0;32m     60\u001b[0m \u001b[38;5;28;01mwith\u001b[39;00m sessions\u001b[38;5;241m.\u001b[39mSession() \u001b[38;5;28;01mas\u001b[39;00m session:\n\u001b[1;32m---> 61\u001b[0m     \u001b[38;5;28;01mreturn\u001b[39;00m session\u001b[38;5;241m.\u001b[39mrequest(method\u001b[38;5;241m=\u001b[39mmethod, url\u001b[38;5;241m=\u001b[39murl, \u001b[38;5;241m*\u001b[39m\u001b[38;5;241m*\u001b[39mkwargs)\n",
      "File \u001b[1;32m~\\anaconda3\\lib\\site-packages\\requests\\sessions.py:529\u001b[0m, in \u001b[0;36mSession.request\u001b[1;34m(self, method, url, params, data, headers, cookies, files, auth, timeout, allow_redirects, proxies, hooks, stream, verify, cert, json)\u001b[0m\n\u001b[0;32m    524\u001b[0m send_kwargs \u001b[38;5;241m=\u001b[39m {\n\u001b[0;32m    525\u001b[0m     \u001b[38;5;124m'\u001b[39m\u001b[38;5;124mtimeout\u001b[39m\u001b[38;5;124m'\u001b[39m: timeout,\n\u001b[0;32m    526\u001b[0m     \u001b[38;5;124m'\u001b[39m\u001b[38;5;124mallow_redirects\u001b[39m\u001b[38;5;124m'\u001b[39m: allow_redirects,\n\u001b[0;32m    527\u001b[0m }\n\u001b[0;32m    528\u001b[0m send_kwargs\u001b[38;5;241m.\u001b[39mupdate(settings)\n\u001b[1;32m--> 529\u001b[0m resp \u001b[38;5;241m=\u001b[39m \u001b[38;5;28mself\u001b[39m\u001b[38;5;241m.\u001b[39msend(prep, \u001b[38;5;241m*\u001b[39m\u001b[38;5;241m*\u001b[39msend_kwargs)\n\u001b[0;32m    531\u001b[0m \u001b[38;5;28;01mreturn\u001b[39;00m resp\n",
      "File \u001b[1;32m~\\anaconda3\\lib\\site-packages\\requests\\sessions.py:645\u001b[0m, in \u001b[0;36mSession.send\u001b[1;34m(self, request, **kwargs)\u001b[0m\n\u001b[0;32m    642\u001b[0m start \u001b[38;5;241m=\u001b[39m preferred_clock()\n\u001b[0;32m    644\u001b[0m \u001b[38;5;66;03m# Send the request\u001b[39;00m\n\u001b[1;32m--> 645\u001b[0m r \u001b[38;5;241m=\u001b[39m adapter\u001b[38;5;241m.\u001b[39msend(request, \u001b[38;5;241m*\u001b[39m\u001b[38;5;241m*\u001b[39mkwargs)\n\u001b[0;32m    647\u001b[0m \u001b[38;5;66;03m# Total elapsed time of the request (approximately)\u001b[39;00m\n\u001b[0;32m    648\u001b[0m elapsed \u001b[38;5;241m=\u001b[39m preferred_clock() \u001b[38;5;241m-\u001b[39m start\n",
      "File \u001b[1;32m~\\anaconda3\\lib\\site-packages\\requests\\adapters.py:440\u001b[0m, in \u001b[0;36mHTTPAdapter.send\u001b[1;34m(self, request, stream, timeout, verify, cert, proxies)\u001b[0m\n\u001b[0;32m    438\u001b[0m \u001b[38;5;28;01mtry\u001b[39;00m:\n\u001b[0;32m    439\u001b[0m     \u001b[38;5;28;01mif\u001b[39;00m \u001b[38;5;129;01mnot\u001b[39;00m chunked:\n\u001b[1;32m--> 440\u001b[0m         resp \u001b[38;5;241m=\u001b[39m \u001b[43mconn\u001b[49m\u001b[38;5;241;43m.\u001b[39;49m\u001b[43murlopen\u001b[49m\u001b[43m(\u001b[49m\n\u001b[0;32m    441\u001b[0m \u001b[43m            \u001b[49m\u001b[43mmethod\u001b[49m\u001b[38;5;241;43m=\u001b[39;49m\u001b[43mrequest\u001b[49m\u001b[38;5;241;43m.\u001b[39;49m\u001b[43mmethod\u001b[49m\u001b[43m,\u001b[49m\n\u001b[0;32m    442\u001b[0m \u001b[43m            \u001b[49m\u001b[43murl\u001b[49m\u001b[38;5;241;43m=\u001b[39;49m\u001b[43murl\u001b[49m\u001b[43m,\u001b[49m\n\u001b[0;32m    443\u001b[0m \u001b[43m            \u001b[49m\u001b[43mbody\u001b[49m\u001b[38;5;241;43m=\u001b[39;49m\u001b[43mrequest\u001b[49m\u001b[38;5;241;43m.\u001b[39;49m\u001b[43mbody\u001b[49m\u001b[43m,\u001b[49m\n\u001b[0;32m    444\u001b[0m \u001b[43m            \u001b[49m\u001b[43mheaders\u001b[49m\u001b[38;5;241;43m=\u001b[39;49m\u001b[43mrequest\u001b[49m\u001b[38;5;241;43m.\u001b[39;49m\u001b[43mheaders\u001b[49m\u001b[43m,\u001b[49m\n\u001b[0;32m    445\u001b[0m \u001b[43m            \u001b[49m\u001b[43mredirect\u001b[49m\u001b[38;5;241;43m=\u001b[39;49m\u001b[38;5;28;43;01mFalse\u001b[39;49;00m\u001b[43m,\u001b[49m\n\u001b[0;32m    446\u001b[0m \u001b[43m            \u001b[49m\u001b[43massert_same_host\u001b[49m\u001b[38;5;241;43m=\u001b[39;49m\u001b[38;5;28;43;01mFalse\u001b[39;49;00m\u001b[43m,\u001b[49m\n\u001b[0;32m    447\u001b[0m \u001b[43m            \u001b[49m\u001b[43mpreload_content\u001b[49m\u001b[38;5;241;43m=\u001b[39;49m\u001b[38;5;28;43;01mFalse\u001b[39;49;00m\u001b[43m,\u001b[49m\n\u001b[0;32m    448\u001b[0m \u001b[43m            \u001b[49m\u001b[43mdecode_content\u001b[49m\u001b[38;5;241;43m=\u001b[39;49m\u001b[38;5;28;43;01mFalse\u001b[39;49;00m\u001b[43m,\u001b[49m\n\u001b[0;32m    449\u001b[0m \u001b[43m            \u001b[49m\u001b[43mretries\u001b[49m\u001b[38;5;241;43m=\u001b[39;49m\u001b[38;5;28;43mself\u001b[39;49m\u001b[38;5;241;43m.\u001b[39;49m\u001b[43mmax_retries\u001b[49m\u001b[43m,\u001b[49m\n\u001b[0;32m    450\u001b[0m \u001b[43m            \u001b[49m\u001b[43mtimeout\u001b[49m\u001b[38;5;241;43m=\u001b[39;49m\u001b[43mtimeout\u001b[49m\n\u001b[0;32m    451\u001b[0m \u001b[43m        \u001b[49m\u001b[43m)\u001b[49m\n\u001b[0;32m    453\u001b[0m     \u001b[38;5;66;03m# Send the request.\u001b[39;00m\n\u001b[0;32m    454\u001b[0m     \u001b[38;5;28;01melse\u001b[39;00m:\n\u001b[0;32m    455\u001b[0m         \u001b[38;5;28;01mif\u001b[39;00m \u001b[38;5;28mhasattr\u001b[39m(conn, \u001b[38;5;124m'\u001b[39m\u001b[38;5;124mproxy_pool\u001b[39m\u001b[38;5;124m'\u001b[39m):\n",
      "File \u001b[1;32m~\\anaconda3\\lib\\site-packages\\urllib3\\connectionpool.py:703\u001b[0m, in \u001b[0;36mHTTPConnectionPool.urlopen\u001b[1;34m(self, method, url, body, headers, retries, redirect, assert_same_host, timeout, pool_timeout, release_conn, chunked, body_pos, **response_kw)\u001b[0m\n\u001b[0;32m    700\u001b[0m     \u001b[38;5;28mself\u001b[39m\u001b[38;5;241m.\u001b[39m_prepare_proxy(conn)\n\u001b[0;32m    702\u001b[0m \u001b[38;5;66;03m# Make the request on the httplib connection object.\u001b[39;00m\n\u001b[1;32m--> 703\u001b[0m httplib_response \u001b[38;5;241m=\u001b[39m \u001b[38;5;28;43mself\u001b[39;49m\u001b[38;5;241;43m.\u001b[39;49m\u001b[43m_make_request\u001b[49m\u001b[43m(\u001b[49m\n\u001b[0;32m    704\u001b[0m \u001b[43m    \u001b[49m\u001b[43mconn\u001b[49m\u001b[43m,\u001b[49m\n\u001b[0;32m    705\u001b[0m \u001b[43m    \u001b[49m\u001b[43mmethod\u001b[49m\u001b[43m,\u001b[49m\n\u001b[0;32m    706\u001b[0m \u001b[43m    \u001b[49m\u001b[43murl\u001b[49m\u001b[43m,\u001b[49m\n\u001b[0;32m    707\u001b[0m \u001b[43m    \u001b[49m\u001b[43mtimeout\u001b[49m\u001b[38;5;241;43m=\u001b[39;49m\u001b[43mtimeout_obj\u001b[49m\u001b[43m,\u001b[49m\n\u001b[0;32m    708\u001b[0m \u001b[43m    \u001b[49m\u001b[43mbody\u001b[49m\u001b[38;5;241;43m=\u001b[39;49m\u001b[43mbody\u001b[49m\u001b[43m,\u001b[49m\n\u001b[0;32m    709\u001b[0m \u001b[43m    \u001b[49m\u001b[43mheaders\u001b[49m\u001b[38;5;241;43m=\u001b[39;49m\u001b[43mheaders\u001b[49m\u001b[43m,\u001b[49m\n\u001b[0;32m    710\u001b[0m \u001b[43m    \u001b[49m\u001b[43mchunked\u001b[49m\u001b[38;5;241;43m=\u001b[39;49m\u001b[43mchunked\u001b[49m\u001b[43m,\u001b[49m\n\u001b[0;32m    711\u001b[0m \u001b[43m\u001b[49m\u001b[43m)\u001b[49m\n\u001b[0;32m    713\u001b[0m \u001b[38;5;66;03m# If we're going to release the connection in ``finally:``, then\u001b[39;00m\n\u001b[0;32m    714\u001b[0m \u001b[38;5;66;03m# the response doesn't need to know about the connection. Otherwise\u001b[39;00m\n\u001b[0;32m    715\u001b[0m \u001b[38;5;66;03m# it will also try to release it and we'll have a double-release\u001b[39;00m\n\u001b[0;32m    716\u001b[0m \u001b[38;5;66;03m# mess.\u001b[39;00m\n\u001b[0;32m    717\u001b[0m response_conn \u001b[38;5;241m=\u001b[39m conn \u001b[38;5;28;01mif\u001b[39;00m \u001b[38;5;129;01mnot\u001b[39;00m release_conn \u001b[38;5;28;01melse\u001b[39;00m \u001b[38;5;28;01mNone\u001b[39;00m\n",
      "File \u001b[1;32m~\\anaconda3\\lib\\site-packages\\urllib3\\connectionpool.py:449\u001b[0m, in \u001b[0;36mHTTPConnectionPool._make_request\u001b[1;34m(self, conn, method, url, timeout, chunked, **httplib_request_kw)\u001b[0m\n\u001b[0;32m    444\u001b[0m             httplib_response \u001b[38;5;241m=\u001b[39m conn\u001b[38;5;241m.\u001b[39mgetresponse()\n\u001b[0;32m    445\u001b[0m         \u001b[38;5;28;01mexcept\u001b[39;00m \u001b[38;5;167;01mBaseException\u001b[39;00m \u001b[38;5;28;01mas\u001b[39;00m e:\n\u001b[0;32m    446\u001b[0m             \u001b[38;5;66;03m# Remove the TypeError from the exception chain in\u001b[39;00m\n\u001b[0;32m    447\u001b[0m             \u001b[38;5;66;03m# Python 3 (including for exceptions like SystemExit).\u001b[39;00m\n\u001b[0;32m    448\u001b[0m             \u001b[38;5;66;03m# Otherwise it looks like a bug in the code.\u001b[39;00m\n\u001b[1;32m--> 449\u001b[0m             \u001b[43msix\u001b[49m\u001b[38;5;241;43m.\u001b[39;49m\u001b[43mraise_from\u001b[49m\u001b[43m(\u001b[49m\u001b[43me\u001b[49m\u001b[43m,\u001b[49m\u001b[43m \u001b[49m\u001b[38;5;28;43;01mNone\u001b[39;49;00m\u001b[43m)\u001b[49m\n\u001b[0;32m    450\u001b[0m \u001b[38;5;28;01mexcept\u001b[39;00m (SocketTimeout, BaseSSLError, SocketError) \u001b[38;5;28;01mas\u001b[39;00m e:\n\u001b[0;32m    451\u001b[0m     \u001b[38;5;28mself\u001b[39m\u001b[38;5;241m.\u001b[39m_raise_timeout(err\u001b[38;5;241m=\u001b[39me, url\u001b[38;5;241m=\u001b[39murl, timeout_value\u001b[38;5;241m=\u001b[39mread_timeout)\n",
      "File \u001b[1;32m<string>:3\u001b[0m, in \u001b[0;36mraise_from\u001b[1;34m(value, from_value)\u001b[0m\n",
      "File \u001b[1;32m~\\anaconda3\\lib\\site-packages\\urllib3\\connectionpool.py:444\u001b[0m, in \u001b[0;36mHTTPConnectionPool._make_request\u001b[1;34m(self, conn, method, url, timeout, chunked, **httplib_request_kw)\u001b[0m\n\u001b[0;32m    441\u001b[0m \u001b[38;5;28;01mexcept\u001b[39;00m \u001b[38;5;167;01mTypeError\u001b[39;00m:\n\u001b[0;32m    442\u001b[0m     \u001b[38;5;66;03m# Python 3\u001b[39;00m\n\u001b[0;32m    443\u001b[0m     \u001b[38;5;28;01mtry\u001b[39;00m:\n\u001b[1;32m--> 444\u001b[0m         httplib_response \u001b[38;5;241m=\u001b[39m \u001b[43mconn\u001b[49m\u001b[38;5;241;43m.\u001b[39;49m\u001b[43mgetresponse\u001b[49m\u001b[43m(\u001b[49m\u001b[43m)\u001b[49m\n\u001b[0;32m    445\u001b[0m     \u001b[38;5;28;01mexcept\u001b[39;00m \u001b[38;5;167;01mBaseException\u001b[39;00m \u001b[38;5;28;01mas\u001b[39;00m e:\n\u001b[0;32m    446\u001b[0m         \u001b[38;5;66;03m# Remove the TypeError from the exception chain in\u001b[39;00m\n\u001b[0;32m    447\u001b[0m         \u001b[38;5;66;03m# Python 3 (including for exceptions like SystemExit).\u001b[39;00m\n\u001b[0;32m    448\u001b[0m         \u001b[38;5;66;03m# Otherwise it looks like a bug in the code.\u001b[39;00m\n\u001b[0;32m    449\u001b[0m         six\u001b[38;5;241m.\u001b[39mraise_from(e, \u001b[38;5;28;01mNone\u001b[39;00m)\n",
      "File \u001b[1;32m~\\anaconda3\\lib\\http\\client.py:1374\u001b[0m, in \u001b[0;36mHTTPConnection.getresponse\u001b[1;34m(self)\u001b[0m\n\u001b[0;32m   1372\u001b[0m \u001b[38;5;28;01mtry\u001b[39;00m:\n\u001b[0;32m   1373\u001b[0m     \u001b[38;5;28;01mtry\u001b[39;00m:\n\u001b[1;32m-> 1374\u001b[0m         \u001b[43mresponse\u001b[49m\u001b[38;5;241;43m.\u001b[39;49m\u001b[43mbegin\u001b[49m\u001b[43m(\u001b[49m\u001b[43m)\u001b[49m\n\u001b[0;32m   1375\u001b[0m     \u001b[38;5;28;01mexcept\u001b[39;00m \u001b[38;5;167;01mConnectionError\u001b[39;00m:\n\u001b[0;32m   1376\u001b[0m         \u001b[38;5;28mself\u001b[39m\u001b[38;5;241m.\u001b[39mclose()\n",
      "File \u001b[1;32m~\\anaconda3\\lib\\http\\client.py:318\u001b[0m, in \u001b[0;36mHTTPResponse.begin\u001b[1;34m(self)\u001b[0m\n\u001b[0;32m    316\u001b[0m \u001b[38;5;66;03m# read until we get a non-100 response\u001b[39;00m\n\u001b[0;32m    317\u001b[0m \u001b[38;5;28;01mwhile\u001b[39;00m \u001b[38;5;28;01mTrue\u001b[39;00m:\n\u001b[1;32m--> 318\u001b[0m     version, status, reason \u001b[38;5;241m=\u001b[39m \u001b[38;5;28;43mself\u001b[39;49m\u001b[38;5;241;43m.\u001b[39;49m\u001b[43m_read_status\u001b[49m\u001b[43m(\u001b[49m\u001b[43m)\u001b[49m\n\u001b[0;32m    319\u001b[0m     \u001b[38;5;28;01mif\u001b[39;00m status \u001b[38;5;241m!=\u001b[39m CONTINUE:\n\u001b[0;32m    320\u001b[0m         \u001b[38;5;28;01mbreak\u001b[39;00m\n",
      "File \u001b[1;32m~\\anaconda3\\lib\\http\\client.py:279\u001b[0m, in \u001b[0;36mHTTPResponse._read_status\u001b[1;34m(self)\u001b[0m\n\u001b[0;32m    278\u001b[0m \u001b[38;5;28;01mdef\u001b[39;00m \u001b[38;5;21m_read_status\u001b[39m(\u001b[38;5;28mself\u001b[39m):\n\u001b[1;32m--> 279\u001b[0m     line \u001b[38;5;241m=\u001b[39m \u001b[38;5;28mstr\u001b[39m(\u001b[38;5;28;43mself\u001b[39;49m\u001b[38;5;241;43m.\u001b[39;49m\u001b[43mfp\u001b[49m\u001b[38;5;241;43m.\u001b[39;49m\u001b[43mreadline\u001b[49m\u001b[43m(\u001b[49m\u001b[43m_MAXLINE\u001b[49m\u001b[43m \u001b[49m\u001b[38;5;241;43m+\u001b[39;49m\u001b[43m \u001b[49m\u001b[38;5;241;43m1\u001b[39;49m\u001b[43m)\u001b[49m, \u001b[38;5;124m\"\u001b[39m\u001b[38;5;124miso-8859-1\u001b[39m\u001b[38;5;124m\"\u001b[39m)\n\u001b[0;32m    280\u001b[0m     \u001b[38;5;28;01mif\u001b[39;00m \u001b[38;5;28mlen\u001b[39m(line) \u001b[38;5;241m>\u001b[39m _MAXLINE:\n\u001b[0;32m    281\u001b[0m         \u001b[38;5;28;01mraise\u001b[39;00m LineTooLong(\u001b[38;5;124m\"\u001b[39m\u001b[38;5;124mstatus line\u001b[39m\u001b[38;5;124m\"\u001b[39m)\n",
      "File \u001b[1;32m~\\anaconda3\\lib\\socket.py:705\u001b[0m, in \u001b[0;36mSocketIO.readinto\u001b[1;34m(self, b)\u001b[0m\n\u001b[0;32m    703\u001b[0m \u001b[38;5;28;01mwhile\u001b[39;00m \u001b[38;5;28;01mTrue\u001b[39;00m:\n\u001b[0;32m    704\u001b[0m     \u001b[38;5;28;01mtry\u001b[39;00m:\n\u001b[1;32m--> 705\u001b[0m         \u001b[38;5;28;01mreturn\u001b[39;00m \u001b[38;5;28;43mself\u001b[39;49m\u001b[38;5;241;43m.\u001b[39;49m\u001b[43m_sock\u001b[49m\u001b[38;5;241;43m.\u001b[39;49m\u001b[43mrecv_into\u001b[49m\u001b[43m(\u001b[49m\u001b[43mb\u001b[49m\u001b[43m)\u001b[49m\n\u001b[0;32m    706\u001b[0m     \u001b[38;5;28;01mexcept\u001b[39;00m timeout:\n\u001b[0;32m    707\u001b[0m         \u001b[38;5;28mself\u001b[39m\u001b[38;5;241m.\u001b[39m_timeout_occurred \u001b[38;5;241m=\u001b[39m \u001b[38;5;28;01mTrue\u001b[39;00m\n",
      "File \u001b[1;32m~\\anaconda3\\lib\\ssl.py:1274\u001b[0m, in \u001b[0;36mSSLSocket.recv_into\u001b[1;34m(self, buffer, nbytes, flags)\u001b[0m\n\u001b[0;32m   1270\u001b[0m     \u001b[38;5;28;01mif\u001b[39;00m flags \u001b[38;5;241m!=\u001b[39m \u001b[38;5;241m0\u001b[39m:\n\u001b[0;32m   1271\u001b[0m         \u001b[38;5;28;01mraise\u001b[39;00m \u001b[38;5;167;01mValueError\u001b[39;00m(\n\u001b[0;32m   1272\u001b[0m           \u001b[38;5;124m\"\u001b[39m\u001b[38;5;124mnon-zero flags not allowed in calls to recv_into() on \u001b[39m\u001b[38;5;132;01m%s\u001b[39;00m\u001b[38;5;124m\"\u001b[39m \u001b[38;5;241m%\u001b[39m\n\u001b[0;32m   1273\u001b[0m           \u001b[38;5;28mself\u001b[39m\u001b[38;5;241m.\u001b[39m\u001b[38;5;18m__class__\u001b[39m)\n\u001b[1;32m-> 1274\u001b[0m     \u001b[38;5;28;01mreturn\u001b[39;00m \u001b[38;5;28;43mself\u001b[39;49m\u001b[38;5;241;43m.\u001b[39;49m\u001b[43mread\u001b[49m\u001b[43m(\u001b[49m\u001b[43mnbytes\u001b[49m\u001b[43m,\u001b[49m\u001b[43m \u001b[49m\u001b[43mbuffer\u001b[49m\u001b[43m)\u001b[49m\n\u001b[0;32m   1275\u001b[0m \u001b[38;5;28;01melse\u001b[39;00m:\n\u001b[0;32m   1276\u001b[0m     \u001b[38;5;28;01mreturn\u001b[39;00m \u001b[38;5;28msuper\u001b[39m()\u001b[38;5;241m.\u001b[39mrecv_into(buffer, nbytes, flags)\n",
      "File \u001b[1;32m~\\anaconda3\\lib\\ssl.py:1130\u001b[0m, in \u001b[0;36mSSLSocket.read\u001b[1;34m(self, len, buffer)\u001b[0m\n\u001b[0;32m   1128\u001b[0m \u001b[38;5;28;01mtry\u001b[39;00m:\n\u001b[0;32m   1129\u001b[0m     \u001b[38;5;28;01mif\u001b[39;00m buffer \u001b[38;5;129;01mis\u001b[39;00m \u001b[38;5;129;01mnot\u001b[39;00m \u001b[38;5;28;01mNone\u001b[39;00m:\n\u001b[1;32m-> 1130\u001b[0m         \u001b[38;5;28;01mreturn\u001b[39;00m \u001b[38;5;28;43mself\u001b[39;49m\u001b[38;5;241;43m.\u001b[39;49m\u001b[43m_sslobj\u001b[49m\u001b[38;5;241;43m.\u001b[39;49m\u001b[43mread\u001b[49m\u001b[43m(\u001b[49m\u001b[38;5;28;43mlen\u001b[39;49m\u001b[43m,\u001b[49m\u001b[43m \u001b[49m\u001b[43mbuffer\u001b[49m\u001b[43m)\u001b[49m\n\u001b[0;32m   1131\u001b[0m     \u001b[38;5;28;01melse\u001b[39;00m:\n\u001b[0;32m   1132\u001b[0m         \u001b[38;5;28;01mreturn\u001b[39;00m \u001b[38;5;28mself\u001b[39m\u001b[38;5;241m.\u001b[39m_sslobj\u001b[38;5;241m.\u001b[39mread(\u001b[38;5;28mlen\u001b[39m)\n",
      "\u001b[1;31mKeyboardInterrupt\u001b[0m: "
     ]
    }
   ],
   "source": [
    "import requests\n",
    "from bs4 import BeautifulSoup\n",
    "import pandas as pd\n",
    "\n",
    "# List of initial URLs (seeds) to start crawling from\n",
    "initial_urls = [\n",
    "    \"https://foreignpolicy.com/\",\n",
    "    \"https://www.worldpoliticsreview.com/\",\n",
    "    \"https://www.cnbc.com/politics/\",\n",
    "    \"https://www.politico.com/\",\n",
    "    \"https://edition.cnn.com/politics\",\n",
    "    \"https://www.politico.eu/\"\n",
    "]\n",
    "\n",
    "# Function to crawl a URL\n",
    "def crawl(url):\n",
    "    try:\n",
    "        if not url.startswith(\"http\"):\n",
    "            return []  # Skip URLs without a scheme\n",
    "        response = requests.get(url)\n",
    "        if response.status_code == 200:\n",
    "            soup = BeautifulSoup(response.content, \"html.parser\")\n",
    "            links = [link.get(\"href\") for link in soup.find_all(\"a\") if link.get(\"href\")]\n",
    "            return links\n",
    "        else:\n",
    "            print(f\"Failed to fetch {url}\")\n",
    "            return []\n",
    "    except Exception as e:\n",
    "        print(f\"An error occurred while crawling {url}: {e}\")\n",
    "        return []\n",
    "\n",
    "# Function to extract article details from a URL\n",
    "def extract_article_details(article_url):\n",
    "    try:\n",
    "        response = requests.get(article_url)\n",
    "        if response.status_code == 200:\n",
    "            soup = BeautifulSoup(response.content, \"html.parser\")\n",
    "            \n",
    "            # Extract title\n",
    "            title_element = soup.find(\"h1\")  # Adjust this based on the actual title tag\n",
    "            title = title_element.get_text() if title_element else None\n",
    "            \n",
    "            # Extract date\n",
    "            date_element = soup.find(\"time\")  # Adjust this based on the actual date tag\n",
    "            date = date_element[\"datetime\"] if date_element else None\n",
    "            \n",
    "            # Extract text\n",
    "            text_elements = soup.find_all(\"p\")  # Adjust this based on the actual text tag\n",
    "            text = \"\\n\".join(element.get_text() for element in text_elements)\n",
    "            \n",
    "            # Extract images\n",
    "            image_elements = soup.find_all(\"img\")  # Adjust this based on the actual image tag\n",
    "            images = [element[\"src\"] for element in image_elements]\n",
    "            \n",
    "            return {\n",
    "                \"Title\": title,\n",
    "                \"Date\": date,\n",
    "                \"Text\": text,\n",
    "                \"Images\": images,\n",
    "                \"Link\": article_url\n",
    "            }\n",
    "        else:\n",
    "            print(f\"Failed to fetch {article_url}\")\n",
    "            return None\n",
    "    except Exception as e:\n",
    "        print(f\"An error occurred while crawling {article_url}: {e}\")\n",
    "        return None\n",
    "\n",
    "# Main function\n",
    "def main():\n",
    "    all_article_details = []\n",
    "    for url in initial_urls:\n",
    "        links = crawl(url)\n",
    "        if links:\n",
    "            for link in links:\n",
    "                article_details = extract_article_details(link)\n",
    "                if article_details:\n",
    "                    all_article_details.append(article_details)\n",
    "    \n",
    "    # Create a DataFrame from the article details\n",
    "    df = pd.DataFrame(all_article_details)\n",
    "    df.to_csv(\"cs2w.csv\", index=False)  # Save the DataFrame to a CSV file\n",
    "\n",
    "if __name__ == \"__main__\":\n",
    "    main()\n"
   ]
  },
  {
   "cell_type": "code",
   "execution_count": 11,
   "id": "2b732fce",
   "metadata": {},
   "outputs": [
    {
     "ename": "EmptyDataError",
     "evalue": "No columns to parse from file",
     "output_type": "error",
     "traceback": [
      "\u001b[1;31m---------------------------------------------------------------------------\u001b[0m",
      "\u001b[1;31mEmptyDataError\u001b[0m                            Traceback (most recent call last)",
      "Cell \u001b[1;32mIn[11], line 2\u001b[0m\n\u001b[0;32m      1\u001b[0m \u001b[38;5;28;01mimport\u001b[39;00m \u001b[38;5;21;01mpandas\u001b[39;00m \u001b[38;5;28;01mas\u001b[39;00m \u001b[38;5;21;01mpd\u001b[39;00m\n\u001b[1;32m----> 2\u001b[0m df33 \u001b[38;5;241m=\u001b[39m \u001b[43mpd\u001b[49m\u001b[38;5;241;43m.\u001b[39;49m\u001b[43mread_csv\u001b[49m\u001b[43m(\u001b[49m\u001b[38;5;124;43m'\u001b[39;49m\u001b[38;5;124;43mcs2w.csv\u001b[39;49m\u001b[38;5;124;43m'\u001b[39;49m\u001b[43m)\u001b[49m\n\u001b[0;32m      3\u001b[0m df33\n",
      "File \u001b[1;32m~\\anaconda3\\lib\\site-packages\\pandas\\util\\_decorators.py:211\u001b[0m, in \u001b[0;36mdeprecate_kwarg.<locals>._deprecate_kwarg.<locals>.wrapper\u001b[1;34m(*args, **kwargs)\u001b[0m\n\u001b[0;32m    209\u001b[0m     \u001b[38;5;28;01melse\u001b[39;00m:\n\u001b[0;32m    210\u001b[0m         kwargs[new_arg_name] \u001b[38;5;241m=\u001b[39m new_arg_value\n\u001b[1;32m--> 211\u001b[0m \u001b[38;5;28;01mreturn\u001b[39;00m func(\u001b[38;5;241m*\u001b[39margs, \u001b[38;5;241m*\u001b[39m\u001b[38;5;241m*\u001b[39mkwargs)\n",
      "File \u001b[1;32m~\\anaconda3\\lib\\site-packages\\pandas\\util\\_decorators.py:331\u001b[0m, in \u001b[0;36mdeprecate_nonkeyword_arguments.<locals>.decorate.<locals>.wrapper\u001b[1;34m(*args, **kwargs)\u001b[0m\n\u001b[0;32m    325\u001b[0m \u001b[38;5;28;01mif\u001b[39;00m \u001b[38;5;28mlen\u001b[39m(args) \u001b[38;5;241m>\u001b[39m num_allow_args:\n\u001b[0;32m    326\u001b[0m     warnings\u001b[38;5;241m.\u001b[39mwarn(\n\u001b[0;32m    327\u001b[0m         msg\u001b[38;5;241m.\u001b[39mformat(arguments\u001b[38;5;241m=\u001b[39m_format_argument_list(allow_args)),\n\u001b[0;32m    328\u001b[0m         \u001b[38;5;167;01mFutureWarning\u001b[39;00m,\n\u001b[0;32m    329\u001b[0m         stacklevel\u001b[38;5;241m=\u001b[39mfind_stack_level(),\n\u001b[0;32m    330\u001b[0m     )\n\u001b[1;32m--> 331\u001b[0m \u001b[38;5;28;01mreturn\u001b[39;00m func(\u001b[38;5;241m*\u001b[39margs, \u001b[38;5;241m*\u001b[39m\u001b[38;5;241m*\u001b[39mkwargs)\n",
      "File \u001b[1;32m~\\anaconda3\\lib\\site-packages\\pandas\\io\\parsers\\readers.py:950\u001b[0m, in \u001b[0;36mread_csv\u001b[1;34m(filepath_or_buffer, sep, delimiter, header, names, index_col, usecols, squeeze, prefix, mangle_dupe_cols, dtype, engine, converters, true_values, false_values, skipinitialspace, skiprows, skipfooter, nrows, na_values, keep_default_na, na_filter, verbose, skip_blank_lines, parse_dates, infer_datetime_format, keep_date_col, date_parser, dayfirst, cache_dates, iterator, chunksize, compression, thousands, decimal, lineterminator, quotechar, quoting, doublequote, escapechar, comment, encoding, encoding_errors, dialect, error_bad_lines, warn_bad_lines, on_bad_lines, delim_whitespace, low_memory, memory_map, float_precision, storage_options)\u001b[0m\n\u001b[0;32m    935\u001b[0m kwds_defaults \u001b[38;5;241m=\u001b[39m _refine_defaults_read(\n\u001b[0;32m    936\u001b[0m     dialect,\n\u001b[0;32m    937\u001b[0m     delimiter,\n\u001b[1;32m   (...)\u001b[0m\n\u001b[0;32m    946\u001b[0m     defaults\u001b[38;5;241m=\u001b[39m{\u001b[38;5;124m\"\u001b[39m\u001b[38;5;124mdelimiter\u001b[39m\u001b[38;5;124m\"\u001b[39m: \u001b[38;5;124m\"\u001b[39m\u001b[38;5;124m,\u001b[39m\u001b[38;5;124m\"\u001b[39m},\n\u001b[0;32m    947\u001b[0m )\n\u001b[0;32m    948\u001b[0m kwds\u001b[38;5;241m.\u001b[39mupdate(kwds_defaults)\n\u001b[1;32m--> 950\u001b[0m \u001b[38;5;28;01mreturn\u001b[39;00m \u001b[43m_read\u001b[49m\u001b[43m(\u001b[49m\u001b[43mfilepath_or_buffer\u001b[49m\u001b[43m,\u001b[49m\u001b[43m \u001b[49m\u001b[43mkwds\u001b[49m\u001b[43m)\u001b[49m\n",
      "File \u001b[1;32m~\\anaconda3\\lib\\site-packages\\pandas\\io\\parsers\\readers.py:605\u001b[0m, in \u001b[0;36m_read\u001b[1;34m(filepath_or_buffer, kwds)\u001b[0m\n\u001b[0;32m    602\u001b[0m _validate_names(kwds\u001b[38;5;241m.\u001b[39mget(\u001b[38;5;124m\"\u001b[39m\u001b[38;5;124mnames\u001b[39m\u001b[38;5;124m\"\u001b[39m, \u001b[38;5;28;01mNone\u001b[39;00m))\n\u001b[0;32m    604\u001b[0m \u001b[38;5;66;03m# Create the parser.\u001b[39;00m\n\u001b[1;32m--> 605\u001b[0m parser \u001b[38;5;241m=\u001b[39m TextFileReader(filepath_or_buffer, \u001b[38;5;241m*\u001b[39m\u001b[38;5;241m*\u001b[39mkwds)\n\u001b[0;32m    607\u001b[0m \u001b[38;5;28;01mif\u001b[39;00m chunksize \u001b[38;5;129;01mor\u001b[39;00m iterator:\n\u001b[0;32m    608\u001b[0m     \u001b[38;5;28;01mreturn\u001b[39;00m parser\n",
      "File \u001b[1;32m~\\anaconda3\\lib\\site-packages\\pandas\\io\\parsers\\readers.py:1442\u001b[0m, in \u001b[0;36mTextFileReader.__init__\u001b[1;34m(self, f, engine, **kwds)\u001b[0m\n\u001b[0;32m   1439\u001b[0m     \u001b[38;5;28mself\u001b[39m\u001b[38;5;241m.\u001b[39moptions[\u001b[38;5;124m\"\u001b[39m\u001b[38;5;124mhas_index_names\u001b[39m\u001b[38;5;124m\"\u001b[39m] \u001b[38;5;241m=\u001b[39m kwds[\u001b[38;5;124m\"\u001b[39m\u001b[38;5;124mhas_index_names\u001b[39m\u001b[38;5;124m\"\u001b[39m]\n\u001b[0;32m   1441\u001b[0m \u001b[38;5;28mself\u001b[39m\u001b[38;5;241m.\u001b[39mhandles: IOHandles \u001b[38;5;241m|\u001b[39m \u001b[38;5;28;01mNone\u001b[39;00m \u001b[38;5;241m=\u001b[39m \u001b[38;5;28;01mNone\u001b[39;00m\n\u001b[1;32m-> 1442\u001b[0m \u001b[38;5;28mself\u001b[39m\u001b[38;5;241m.\u001b[39m_engine \u001b[38;5;241m=\u001b[39m \u001b[38;5;28;43mself\u001b[39;49m\u001b[38;5;241;43m.\u001b[39;49m\u001b[43m_make_engine\u001b[49m\u001b[43m(\u001b[49m\u001b[43mf\u001b[49m\u001b[43m,\u001b[49m\u001b[43m \u001b[49m\u001b[38;5;28;43mself\u001b[39;49m\u001b[38;5;241;43m.\u001b[39;49m\u001b[43mengine\u001b[49m\u001b[43m)\u001b[49m\n",
      "File \u001b[1;32m~\\anaconda3\\lib\\site-packages\\pandas\\io\\parsers\\readers.py:1753\u001b[0m, in \u001b[0;36mTextFileReader._make_engine\u001b[1;34m(self, f, engine)\u001b[0m\n\u001b[0;32m   1750\u001b[0m     \u001b[38;5;28;01mraise\u001b[39;00m \u001b[38;5;167;01mValueError\u001b[39;00m(msg)\n\u001b[0;32m   1752\u001b[0m \u001b[38;5;28;01mtry\u001b[39;00m:\n\u001b[1;32m-> 1753\u001b[0m     \u001b[38;5;28;01mreturn\u001b[39;00m mapping[engine](f, \u001b[38;5;241m*\u001b[39m\u001b[38;5;241m*\u001b[39m\u001b[38;5;28mself\u001b[39m\u001b[38;5;241m.\u001b[39moptions)\n\u001b[0;32m   1754\u001b[0m \u001b[38;5;28;01mexcept\u001b[39;00m \u001b[38;5;167;01mException\u001b[39;00m:\n\u001b[0;32m   1755\u001b[0m     \u001b[38;5;28;01mif\u001b[39;00m \u001b[38;5;28mself\u001b[39m\u001b[38;5;241m.\u001b[39mhandles \u001b[38;5;129;01mis\u001b[39;00m \u001b[38;5;129;01mnot\u001b[39;00m \u001b[38;5;28;01mNone\u001b[39;00m:\n",
      "File \u001b[1;32m~\\anaconda3\\lib\\site-packages\\pandas\\io\\parsers\\c_parser_wrapper.py:79\u001b[0m, in \u001b[0;36mCParserWrapper.__init__\u001b[1;34m(self, src, **kwds)\u001b[0m\n\u001b[0;32m     76\u001b[0m     kwds\u001b[38;5;241m.\u001b[39mpop(key, \u001b[38;5;28;01mNone\u001b[39;00m)\n\u001b[0;32m     78\u001b[0m kwds[\u001b[38;5;124m\"\u001b[39m\u001b[38;5;124mdtype\u001b[39m\u001b[38;5;124m\"\u001b[39m] \u001b[38;5;241m=\u001b[39m ensure_dtype_objs(kwds\u001b[38;5;241m.\u001b[39mget(\u001b[38;5;124m\"\u001b[39m\u001b[38;5;124mdtype\u001b[39m\u001b[38;5;124m\"\u001b[39m, \u001b[38;5;28;01mNone\u001b[39;00m))\n\u001b[1;32m---> 79\u001b[0m \u001b[38;5;28mself\u001b[39m\u001b[38;5;241m.\u001b[39m_reader \u001b[38;5;241m=\u001b[39m parsers\u001b[38;5;241m.\u001b[39mTextReader(src, \u001b[38;5;241m*\u001b[39m\u001b[38;5;241m*\u001b[39mkwds)\n\u001b[0;32m     81\u001b[0m \u001b[38;5;28mself\u001b[39m\u001b[38;5;241m.\u001b[39munnamed_cols \u001b[38;5;241m=\u001b[39m \u001b[38;5;28mself\u001b[39m\u001b[38;5;241m.\u001b[39m_reader\u001b[38;5;241m.\u001b[39munnamed_cols\n\u001b[0;32m     83\u001b[0m \u001b[38;5;66;03m# error: Cannot determine type of 'names'\u001b[39;00m\n",
      "File \u001b[1;32m~\\anaconda3\\lib\\site-packages\\pandas\\_libs\\parsers.pyx:554\u001b[0m, in \u001b[0;36mpandas._libs.parsers.TextReader.__cinit__\u001b[1;34m()\u001b[0m\n",
      "\u001b[1;31mEmptyDataError\u001b[0m: No columns to parse from file"
     ]
    }
   ],
   "source": [
    "import pandas as pd\n",
    "df33 = pd.read_csv('cs2w.csv')\n",
    "df33"
   ]
  },
  {
   "cell_type": "code",
   "execution_count": 14,
   "id": "6f0b4a38",
   "metadata": {},
   "outputs": [
    {
     "name": "stdout",
     "output_type": "stream",
     "text": [
      "Failed to fetch https://www.politicopro.com\n"
     ]
    }
   ],
   "source": [
    "import requests\n",
    "from bs4 import BeautifulSoup\n",
    "import pandas as pd\n",
    "\n",
    "# List of dictionaries to store article information\n",
    "articles = []\n",
    "\n",
    "# List of initial URLs (seeds) to start crawling from\n",
    "initial_urls = [\n",
    "    \"https://foreignpolicy.com/\",\n",
    "    \"https://www.worldpoliticsreview.com/\",\n",
    "    \"https://www.cnbc.com/politics/\",\n",
    "    \"https://www.politico.com/\",\n",
    "    \"https://edition.cnn.com/politics\",\n",
    "    \"https://www.politico.eu/\"\n",
    "]\n",
    "\n",
    "# Function to crawl a URL\n",
    "def crawl(url):\n",
    "    try:\n",
    "        response = requests.get(url)\n",
    "        if response.status_code == 200:\n",
    "            soup = BeautifulSoup(response.content, \"html.parser\")\n",
    "            \n",
    "            # Extract website name\n",
    "            website_name = url.split(\"//\")[1].split(\".\")[0]\n",
    "            \n",
    "            # Extract article information\n",
    "            for article in soup.find_all(\"article\"):\n",
    "                title_element = article.find(\"h2\")\n",
    "                text_element = article.find(\"p\")\n",
    "                link_element = article.find(\"a\")\n",
    "                image_element = article.find(\"img\")\n",
    "                \n",
    "                article_info = {\n",
    "                    \"Title\": title_element.text.strip() if title_element else None,\n",
    "                    \"Text\": text_element.text.strip() if text_element else None,\n",
    "                    \"Link\": link_element[\"href\"] if link_element else None,\n",
    "                    \"Image\": image_element[\"src\"] if image_element else None,\n",
    "                    \"Website\": website_name,\n",
    "                    \"Date\": None  # Placeholder for article date\n",
    "                }\n",
    "                articles.append(article_info)\n",
    "                \n",
    "                # If there's a link to the full article, try to gather more data from there\n",
    "                if link_element:\n",
    "                    article_url = link_element[\"href\"]\n",
    "                    extract_article_data(article_url, website_name)\n",
    "        else:\n",
    "            print(f\"Failed to fetch {url}\")\n",
    "    except Exception as e:\n",
    "        print(f\"An error occurred while crawling {url}: {e}\")\n",
    "\n",
    "# Function to extract more data from an individual article page\n",
    "def extract_article_data(article_url, website_name):\n",
    "    try:\n",
    "        response = requests.get(article_url)\n",
    "        if response.status_code == 200:\n",
    "            article_soup = BeautifulSoup(response.content, \"html.parser\")\n",
    "            \n",
    "            # Extract article title\n",
    "            title_element = article_soup.find(\"h1\", class_=\"hed-heading\")  # Replace \"hed\" with the correct class\n",
    "            article_title = title_element.get_text() if title_element else None\n",
    "            \n",
    "            # Extract article text\n",
    "            article_text = \"\"\n",
    "            paragraphs = article_soup.find_all(\"p\")\n",
    "            for paragraph in paragraphs:\n",
    "                article_text += paragraph.get_text() + \"\\n\"\n",
    "            \n",
    "            # Extract article date\n",
    "            date_element = article_soup.find(\"time\", class_=\"meta-data\")  # Replace \"date-time\" with the correct class\n",
    "            article_date = date_element[\"datetime\"] if date_element else None\n",
    "            \n",
    "            # Extract article image\n",
    "            image_element = article_soup.find(\"image-attachment -ratioscale  horizontal-orientation image-loaded\")  # Replace \"img\" with the correct tag\n",
    "            article_image = image_element[\"src\"] if image_element else None\n",
    "            \n",
    "            # Update the articles list with additional information\n",
    "            for article in articles:\n",
    "                if article[\"Link\"] == article_url:\n",
    "                    article[\"Title\"] = article_title\n",
    "                    article[\"Text\"] = article_text\n",
    "                    article[\"Date\"] = article_date\n",
    "                    article[\"Image\"] = article_image\n",
    "        else:\n",
    "            print(f\"Failed to fetch {article_url}\")\n",
    "    except Exception as e:\n",
    "        print(f\"An error occurred while crawling {article_url}: {e}\")\n",
    "\n",
    "# Main function\n",
    "def main():\n",
    "    for url in initial_urls:\n",
    "        crawl(url)\n",
    "    \n",
    "    # Create a DataFrame from the article information\n",
    "    df = pd.DataFrame(articles)\n",
    "    df.to_csv(\"crawled_articles334.csv\", index=False)  # Save the DataFrame to a CSV file\n",
    "\n",
    "if __name__ == \"__main__\":\n",
    "    main()\n"
   ]
  },
  {
   "cell_type": "code",
   "execution_count": 10,
   "id": "2f204b96",
   "metadata": {},
   "outputs": [
    {
     "data": {
      "text/html": [
       "<div>\n",
       "<style scoped>\n",
       "    .dataframe tbody tr th:only-of-type {\n",
       "        vertical-align: middle;\n",
       "    }\n",
       "\n",
       "    .dataframe tbody tr th {\n",
       "        vertical-align: top;\n",
       "    }\n",
       "\n",
       "    .dataframe thead th {\n",
       "        text-align: right;\n",
       "    }\n",
       "</style>\n",
       "<table border=\"1\" class=\"dataframe\">\n",
       "  <thead>\n",
       "    <tr style=\"text-align: right;\">\n",
       "      <th></th>\n",
       "      <th>Title</th>\n",
       "      <th>Text</th>\n",
       "      <th>Link</th>\n",
       "      <th>Image</th>\n",
       "      <th>Website</th>\n",
       "      <th>Date</th>\n",
       "    </tr>\n",
       "  </thead>\n",
       "  <tbody>\n",
       "    <tr>\n",
       "      <th>0</th>\n",
       "      <td>NaN</td>\n",
       "      <td>RIGA, Latvia—When prosecutors in Berlin confir...</td>\n",
       "      <td>https://www.worldpoliticsreview.com/journalist...</td>\n",
       "      <td>NaN</td>\n",
       "      <td>www</td>\n",
       "      <td>NaN</td>\n",
       "    </tr>\n",
       "    <tr>\n",
       "      <th>1</th>\n",
       "      <td>NaN</td>\n",
       "      <td>RIGA, Latvia—When prosecutors in Berlin confir...</td>\n",
       "      <td>https://www.worldpoliticsreview.com/journalist...</td>\n",
       "      <td>NaN</td>\n",
       "      <td>www</td>\n",
       "      <td>NaN</td>\n",
       "    </tr>\n",
       "    <tr>\n",
       "      <th>2</th>\n",
       "      <td>NaN</td>\n",
       "      <td>The war in Ukraine has continued to test natio...</td>\n",
       "      <td>https://www.worldpoliticsreview.com/uae-russia...</td>\n",
       "      <td>NaN</td>\n",
       "      <td>www</td>\n",
       "      <td>NaN</td>\n",
       "    </tr>\n",
       "    <tr>\n",
       "      <th>3</th>\n",
       "      <td>NaN</td>\n",
       "      <td>Since Donald Trump’s shock victory in the 2016...</td>\n",
       "      <td>https://www.worldpoliticsreview.com/trump-brex...</td>\n",
       "      <td>NaN</td>\n",
       "      <td>www</td>\n",
       "      <td>NaN</td>\n",
       "    </tr>\n",
       "    <tr>\n",
       "      <th>4</th>\n",
       "      <td>NaN</td>\n",
       "      <td>Despite having little to show from his first f...</td>\n",
       "      <td>https://www.worldpoliticsreview.com/zimbabwe-e...</td>\n",
       "      <td>NaN</td>\n",
       "      <td>www</td>\n",
       "      <td>NaN</td>\n",
       "    </tr>\n",
       "    <tr>\n",
       "      <th>5</th>\n",
       "      <td>NaN</td>\n",
       "      <td>As the summer vacation season fizzles out, wor...</td>\n",
       "      <td>https://www.worldpoliticsreview.com/g20-brics-...</td>\n",
       "      <td>NaN</td>\n",
       "      <td>www</td>\n",
       "      <td>NaN</td>\n",
       "    </tr>\n",
       "    <tr>\n",
       "      <th>6</th>\n",
       "      <td>NaN</td>\n",
       "      <td>Guatemalan voters turned out in large numbers ...</td>\n",
       "      <td>https://www.worldpoliticsreview.com/guatemala-...</td>\n",
       "      <td>NaN</td>\n",
       "      <td>www</td>\n",
       "      <td>NaN</td>\n",
       "    </tr>\n",
       "    <tr>\n",
       "      <th>7</th>\n",
       "      <td>NaN</td>\n",
       "      <td>When Sierra Leone’s new parliament met for its...</td>\n",
       "      <td>https://www.worldpoliticsreview.com/sierra-leo...</td>\n",
       "      <td>NaN</td>\n",
       "      <td>www</td>\n",
       "      <td>NaN</td>\n",
       "    </tr>\n",
       "    <tr>\n",
       "      <th>8</th>\n",
       "      <td>NaN</td>\n",
       "      <td>World Politics Review LLC 401 E. Jackson St, S...</td>\n",
       "      <td>https://www.worldpoliticsreview.com/section/br...</td>\n",
       "      <td>NaN</td>\n",
       "      <td>www</td>\n",
       "      <td>NaN</td>\n",
       "    </tr>\n",
       "    <tr>\n",
       "      <th>9</th>\n",
       "      <td>NaN</td>\n",
       "      <td>World Politics Review LLC 401 E. Jackson St, S...</td>\n",
       "      <td>https://www.worldpoliticsreview.com/section/co...</td>\n",
       "      <td>NaN</td>\n",
       "      <td>www</td>\n",
       "      <td>NaN</td>\n",
       "    </tr>\n",
       "    <tr>\n",
       "      <th>10</th>\n",
       "      <td>NaN</td>\n",
       "      <td>World Politics Review LLC 401 E. Jackson St, S...</td>\n",
       "      <td>https://www.worldpoliticsreview.com/section/br...</td>\n",
       "      <td>NaN</td>\n",
       "      <td>www</td>\n",
       "      <td>NaN</td>\n",
       "    </tr>\n",
       "    <tr>\n",
       "      <th>11</th>\n",
       "      <td>NaN</td>\n",
       "      <td>World Politics Review LLC 401 E. Jackson St, S...</td>\n",
       "      <td>https://www.worldpoliticsreview.com/section/co...</td>\n",
       "      <td>NaN</td>\n",
       "      <td>www</td>\n",
       "      <td>NaN</td>\n",
       "    </tr>\n",
       "    <tr>\n",
       "      <th>12</th>\n",
       "      <td>NaN</td>\n",
       "      <td>World Politics Review LLC 401 E. Jackson St, S...</td>\n",
       "      <td>https://www.worldpoliticsreview.com/section/br...</td>\n",
       "      <td>NaN</td>\n",
       "      <td>www</td>\n",
       "      <td>NaN</td>\n",
       "    </tr>\n",
       "    <tr>\n",
       "      <th>13</th>\n",
       "      <td>NaN</td>\n",
       "      <td>World Politics Review LLC 401 E. Jackson St, S...</td>\n",
       "      <td>https://www.worldpoliticsreview.com/section/co...</td>\n",
       "      <td>NaN</td>\n",
       "      <td>www</td>\n",
       "      <td>NaN</td>\n",
       "    </tr>\n",
       "    <tr>\n",
       "      <th>14</th>\n",
       "      <td>NaN</td>\n",
       "      <td>World Politics Review LLC 401 E. Jackson St, S...</td>\n",
       "      <td>https://www.worldpoliticsreview.com/section/co...</td>\n",
       "      <td>NaN</td>\n",
       "      <td>www</td>\n",
       "      <td>NaN</td>\n",
       "    </tr>\n",
       "    <tr>\n",
       "      <th>15</th>\n",
       "      <td>NaN</td>\n",
       "      <td>World Politics Review LLC 401 E. Jackson St, S...</td>\n",
       "      <td>https://www.worldpoliticsreview.com/news-wire-...</td>\n",
       "      <td>NaN</td>\n",
       "      <td>www</td>\n",
       "      <td>NaN</td>\n",
       "    </tr>\n",
       "    <tr>\n",
       "      <th>16</th>\n",
       "      <td>NaN</td>\n",
       "      <td>NaN</td>\n",
       "      <td>NaN</td>\n",
       "      <td>NaN</td>\n",
       "      <td>www</td>\n",
       "      <td>NaN</td>\n",
       "    </tr>\n",
       "    <tr>\n",
       "      <th>17</th>\n",
       "      <td>NaN</td>\n",
       "      <td>NaN</td>\n",
       "      <td>NaN</td>\n",
       "      <td>NaN</td>\n",
       "      <td>www</td>\n",
       "      <td>NaN</td>\n",
       "    </tr>\n",
       "    <tr>\n",
       "      <th>18</th>\n",
       "      <td>NaN</td>\n",
       "      <td>NaN</td>\n",
       "      <td>NaN</td>\n",
       "      <td>NaN</td>\n",
       "      <td>www</td>\n",
       "      <td>NaN</td>\n",
       "    </tr>\n",
       "    <tr>\n",
       "      <th>19</th>\n",
       "      <td>NaN</td>\n",
       "      <td>NaN</td>\n",
       "      <td>NaN</td>\n",
       "      <td>NaN</td>\n",
       "      <td>www</td>\n",
       "      <td>NaN</td>\n",
       "    </tr>\n",
       "    <tr>\n",
       "      <th>20</th>\n",
       "      <td>NaN</td>\n",
       "      <td>NaN</td>\n",
       "      <td>NaN</td>\n",
       "      <td>NaN</td>\n",
       "      <td>www</td>\n",
       "      <td>NaN</td>\n",
       "    </tr>\n",
       "    <tr>\n",
       "      <th>21</th>\n",
       "      <td>NaN</td>\n",
       "      <td>Last week, U.S. President Joe Biden signed an ...</td>\n",
       "      <td>https://www.worldpoliticsreview.com/us-china-t...</td>\n",
       "      <td>NaN</td>\n",
       "      <td>www</td>\n",
       "      <td>NaN</td>\n",
       "    </tr>\n",
       "    <tr>\n",
       "      <th>22</th>\n",
       "      <td>NaN</td>\n",
       "      <td>When Dutch Prime Minister Mark Rutte announced...</td>\n",
       "      <td>https://www.worldpoliticsreview.com/mark-rutte...</td>\n",
       "      <td>NaN</td>\n",
       "      <td>www</td>\n",
       "      <td>NaN</td>\n",
       "    </tr>\n",
       "    <tr>\n",
       "      <th>23</th>\n",
       "      <td>NaN</td>\n",
       "      <td>For the two decades following the attacks of 9...</td>\n",
       "      <td>https://www.worldpoliticsreview.com/us-afghani...</td>\n",
       "      <td>NaN</td>\n",
       "      <td>www</td>\n",
       "      <td>NaN</td>\n",
       "    </tr>\n",
       "    <tr>\n",
       "      <th>24</th>\n",
       "      <td>NaN</td>\n",
       "      <td>Since Singapore’s independence in 1965, the Pe...</td>\n",
       "      <td>https://www.worldpoliticsreview.com/singapore-...</td>\n",
       "      <td>NaN</td>\n",
       "      <td>www</td>\n",
       "      <td>NaN</td>\n",
       "    </tr>\n",
       "    <tr>\n",
       "      <th>25</th>\n",
       "      <td>NaN</td>\n",
       "      <td>Ostensibly an open election for all political ...</td>\n",
       "      <td>https://www.worldpoliticsreview.com/argentina-...</td>\n",
       "      <td>NaN</td>\n",
       "      <td>www</td>\n",
       "      <td>NaN</td>\n",
       "    </tr>\n",
       "    <tr>\n",
       "      <th>26</th>\n",
       "      <td>NaN</td>\n",
       "      <td>The end of the war in Tigray in November 2022 ...</td>\n",
       "      <td>https://www.worldpoliticsreview.com/amhara-eth...</td>\n",
       "      <td>NaN</td>\n",
       "      <td>www</td>\n",
       "      <td>NaN</td>\n",
       "    </tr>\n",
       "    <tr>\n",
       "      <th>27</th>\n",
       "      <td>NaN</td>\n",
       "      <td>POLITICO recognizes that many of our readers h...</td>\n",
       "      <td>https://www.politico.com/news-tips</td>\n",
       "      <td>NaN</td>\n",
       "      <td>www</td>\n",
       "      <td>NaN</td>\n",
       "    </tr>\n",
       "    <tr>\n",
       "      <th>28</th>\n",
       "      <td>NaN</td>\n",
       "      <td>Exclusive news, intelligence and tools for pro...</td>\n",
       "      <td>https://www.politicopro.com</td>\n",
       "      <td>https://static.politico.com/ac/aa/9226248b44f0...</td>\n",
       "      <td>www</td>\n",
       "      <td>NaN</td>\n",
       "    </tr>\n",
       "    <tr>\n",
       "      <th>29</th>\n",
       "      <td>NaN</td>\n",
       "      <td>\\n\\t\\t\\t\\t\\tIn-depth reporting, data and actio...</td>\n",
       "      <td>https://www.politico.eu/article/ramzan-kadyrov...</td>\n",
       "      <td>NaN</td>\n",
       "      <td>www</td>\n",
       "      <td>NaN</td>\n",
       "    </tr>\n",
       "  </tbody>\n",
       "</table>\n",
       "</div>"
      ],
      "text/plain": [
       "    Title                                               Text  \\\n",
       "0     NaN  RIGA, Latvia—When prosecutors in Berlin confir...   \n",
       "1     NaN  RIGA, Latvia—When prosecutors in Berlin confir...   \n",
       "2     NaN  The war in Ukraine has continued to test natio...   \n",
       "3     NaN  Since Donald Trump’s shock victory in the 2016...   \n",
       "4     NaN  Despite having little to show from his first f...   \n",
       "5     NaN  As the summer vacation season fizzles out, wor...   \n",
       "6     NaN  Guatemalan voters turned out in large numbers ...   \n",
       "7     NaN  When Sierra Leone’s new parliament met for its...   \n",
       "8     NaN  World Politics Review LLC 401 E. Jackson St, S...   \n",
       "9     NaN  World Politics Review LLC 401 E. Jackson St, S...   \n",
       "10    NaN  World Politics Review LLC 401 E. Jackson St, S...   \n",
       "11    NaN  World Politics Review LLC 401 E. Jackson St, S...   \n",
       "12    NaN  World Politics Review LLC 401 E. Jackson St, S...   \n",
       "13    NaN  World Politics Review LLC 401 E. Jackson St, S...   \n",
       "14    NaN  World Politics Review LLC 401 E. Jackson St, S...   \n",
       "15    NaN  World Politics Review LLC 401 E. Jackson St, S...   \n",
       "16    NaN                                                NaN   \n",
       "17    NaN                                                NaN   \n",
       "18    NaN                                                NaN   \n",
       "19    NaN                                                NaN   \n",
       "20    NaN                                                NaN   \n",
       "21    NaN  Last week, U.S. President Joe Biden signed an ...   \n",
       "22    NaN  When Dutch Prime Minister Mark Rutte announced...   \n",
       "23    NaN  For the two decades following the attacks of 9...   \n",
       "24    NaN  Since Singapore’s independence in 1965, the Pe...   \n",
       "25    NaN  Ostensibly an open election for all political ...   \n",
       "26    NaN  The end of the war in Tigray in November 2022 ...   \n",
       "27    NaN  POLITICO recognizes that many of our readers h...   \n",
       "28    NaN  Exclusive news, intelligence and tools for pro...   \n",
       "29    NaN  \\n\\t\\t\\t\\t\\tIn-depth reporting, data and actio...   \n",
       "\n",
       "                                                 Link  \\\n",
       "0   https://www.worldpoliticsreview.com/journalist...   \n",
       "1   https://www.worldpoliticsreview.com/journalist...   \n",
       "2   https://www.worldpoliticsreview.com/uae-russia...   \n",
       "3   https://www.worldpoliticsreview.com/trump-brex...   \n",
       "4   https://www.worldpoliticsreview.com/zimbabwe-e...   \n",
       "5   https://www.worldpoliticsreview.com/g20-brics-...   \n",
       "6   https://www.worldpoliticsreview.com/guatemala-...   \n",
       "7   https://www.worldpoliticsreview.com/sierra-leo...   \n",
       "8   https://www.worldpoliticsreview.com/section/br...   \n",
       "9   https://www.worldpoliticsreview.com/section/co...   \n",
       "10  https://www.worldpoliticsreview.com/section/br...   \n",
       "11  https://www.worldpoliticsreview.com/section/co...   \n",
       "12  https://www.worldpoliticsreview.com/section/br...   \n",
       "13  https://www.worldpoliticsreview.com/section/co...   \n",
       "14  https://www.worldpoliticsreview.com/section/co...   \n",
       "15  https://www.worldpoliticsreview.com/news-wire-...   \n",
       "16                                                NaN   \n",
       "17                                                NaN   \n",
       "18                                                NaN   \n",
       "19                                                NaN   \n",
       "20                                                NaN   \n",
       "21  https://www.worldpoliticsreview.com/us-china-t...   \n",
       "22  https://www.worldpoliticsreview.com/mark-rutte...   \n",
       "23  https://www.worldpoliticsreview.com/us-afghani...   \n",
       "24  https://www.worldpoliticsreview.com/singapore-...   \n",
       "25  https://www.worldpoliticsreview.com/argentina-...   \n",
       "26  https://www.worldpoliticsreview.com/amhara-eth...   \n",
       "27                 https://www.politico.com/news-tips   \n",
       "28                        https://www.politicopro.com   \n",
       "29  https://www.politico.eu/article/ramzan-kadyrov...   \n",
       "\n",
       "                                                Image Website  Date  \n",
       "0                                                 NaN     www   NaN  \n",
       "1                                                 NaN     www   NaN  \n",
       "2                                                 NaN     www   NaN  \n",
       "3                                                 NaN     www   NaN  \n",
       "4                                                 NaN     www   NaN  \n",
       "5                                                 NaN     www   NaN  \n",
       "6                                                 NaN     www   NaN  \n",
       "7                                                 NaN     www   NaN  \n",
       "8                                                 NaN     www   NaN  \n",
       "9                                                 NaN     www   NaN  \n",
       "10                                                NaN     www   NaN  \n",
       "11                                                NaN     www   NaN  \n",
       "12                                                NaN     www   NaN  \n",
       "13                                                NaN     www   NaN  \n",
       "14                                                NaN     www   NaN  \n",
       "15                                                NaN     www   NaN  \n",
       "16                                                NaN     www   NaN  \n",
       "17                                                NaN     www   NaN  \n",
       "18                                                NaN     www   NaN  \n",
       "19                                                NaN     www   NaN  \n",
       "20                                                NaN     www   NaN  \n",
       "21                                                NaN     www   NaN  \n",
       "22                                                NaN     www   NaN  \n",
       "23                                                NaN     www   NaN  \n",
       "24                                                NaN     www   NaN  \n",
       "25                                                NaN     www   NaN  \n",
       "26                                                NaN     www   NaN  \n",
       "27                                                NaN     www   NaN  \n",
       "28  https://static.politico.com/ac/aa/9226248b44f0...     www   NaN  \n",
       "29                                                NaN     www   NaN  "
      ]
     },
     "execution_count": 10,
     "metadata": {},
     "output_type": "execute_result"
    }
   ],
   "source": [
    "import pandas as pd\n",
    "df33 = pd.read_csv('crawled_articles334.csv')\n",
    "df33"
   ]
  },
  {
   "cell_type": "code",
   "execution_count": 4,
   "id": "c33cdd2a",
   "metadata": {},
   "outputs": [
    {
     "data": {
      "text/html": [
       "<style type=\"text/css\">\n",
       "#T_30ffd_row0_col0, #T_30ffd_row0_col1, #T_30ffd_row0_col2, #T_30ffd_row0_col3, #T_30ffd_row0_col4, #T_30ffd_row1_col0, #T_30ffd_row1_col1, #T_30ffd_row1_col2, #T_30ffd_row1_col3, #T_30ffd_row1_col4, #T_30ffd_row2_col0, #T_30ffd_row2_col1, #T_30ffd_row2_col2, #T_30ffd_row2_col3, #T_30ffd_row2_col4, #T_30ffd_row3_col0, #T_30ffd_row3_col1, #T_30ffd_row3_col2, #T_30ffd_row3_col3, #T_30ffd_row3_col4, #T_30ffd_row4_col0, #T_30ffd_row4_col1, #T_30ffd_row4_col2, #T_30ffd_row4_col3, #T_30ffd_row4_col4, #T_30ffd_row5_col0, #T_30ffd_row5_col1, #T_30ffd_row5_col2, #T_30ffd_row5_col3, #T_30ffd_row5_col4, #T_30ffd_row6_col0, #T_30ffd_row6_col1, #T_30ffd_row6_col2, #T_30ffd_row6_col3, #T_30ffd_row6_col4, #T_30ffd_row7_col0, #T_30ffd_row7_col1, #T_30ffd_row7_col2, #T_30ffd_row7_col3, #T_30ffd_row7_col4, #T_30ffd_row8_col0, #T_30ffd_row8_col1, #T_30ffd_row8_col2, #T_30ffd_row8_col3, #T_30ffd_row8_col4, #T_30ffd_row9_col0, #T_30ffd_row9_col1, #T_30ffd_row9_col2, #T_30ffd_row9_col3, #T_30ffd_row9_col4, #T_30ffd_row10_col0, #T_30ffd_row10_col1, #T_30ffd_row10_col2, #T_30ffd_row10_col3, #T_30ffd_row10_col4, #T_30ffd_row11_col0, #T_30ffd_row11_col1, #T_30ffd_row11_col2, #T_30ffd_row11_col3, #T_30ffd_row11_col4, #T_30ffd_row12_col0, #T_30ffd_row12_col1, #T_30ffd_row12_col2, #T_30ffd_row12_col3, #T_30ffd_row12_col4, #T_30ffd_row13_col0, #T_30ffd_row13_col1, #T_30ffd_row13_col2, #T_30ffd_row13_col3, #T_30ffd_row13_col4, #T_30ffd_row14_col0, #T_30ffd_row14_col1, #T_30ffd_row14_col2, #T_30ffd_row14_col3, #T_30ffd_row14_col4, #T_30ffd_row15_col0, #T_30ffd_row15_col1, #T_30ffd_row15_col2, #T_30ffd_row15_col3, #T_30ffd_row15_col4, #T_30ffd_row16_col0, #T_30ffd_row16_col1, #T_30ffd_row16_col2, #T_30ffd_row16_col3, #T_30ffd_row16_col4, #T_30ffd_row17_col0, #T_30ffd_row17_col1, #T_30ffd_row17_col2, #T_30ffd_row17_col3, #T_30ffd_row17_col4, #T_30ffd_row18_col0, #T_30ffd_row18_col1, #T_30ffd_row18_col2, #T_30ffd_row18_col3, #T_30ffd_row18_col4, #T_30ffd_row19_col0, #T_30ffd_row19_col1, #T_30ffd_row19_col2, #T_30ffd_row19_col3, #T_30ffd_row19_col4, #T_30ffd_row20_col0, #T_30ffd_row20_col1, #T_30ffd_row20_col2, #T_30ffd_row20_col3, #T_30ffd_row20_col4, #T_30ffd_row21_col0, #T_30ffd_row21_col1, #T_30ffd_row21_col2, #T_30ffd_row21_col3, #T_30ffd_row21_col4, #T_30ffd_row22_col0, #T_30ffd_row22_col1, #T_30ffd_row22_col2, #T_30ffd_row22_col3, #T_30ffd_row22_col4, #T_30ffd_row23_col0, #T_30ffd_row23_col1, #T_30ffd_row23_col2, #T_30ffd_row23_col3, #T_30ffd_row23_col4, #T_30ffd_row24_col0, #T_30ffd_row24_col1, #T_30ffd_row24_col2, #T_30ffd_row24_col3, #T_30ffd_row24_col4, #T_30ffd_row25_col0, #T_30ffd_row25_col1, #T_30ffd_row25_col2, #T_30ffd_row25_col3, #T_30ffd_row25_col4, #T_30ffd_row26_col0, #T_30ffd_row26_col1, #T_30ffd_row26_col2, #T_30ffd_row26_col3, #T_30ffd_row26_col4, #T_30ffd_row27_col0, #T_30ffd_row27_col1, #T_30ffd_row27_col2, #T_30ffd_row27_col3, #T_30ffd_row27_col4, #T_30ffd_row28_col0, #T_30ffd_row28_col1, #T_30ffd_row28_col2, #T_30ffd_row28_col3, #T_30ffd_row28_col4, #T_30ffd_row29_col0, #T_30ffd_row29_col1, #T_30ffd_row29_col2, #T_30ffd_row29_col3, #T_30ffd_row29_col4 {\n",
       "  text-align: center;\n",
       "}\n",
       "</style>\n",
       "<table id=\"T_30ffd\">\n",
       "  <thead>\n",
       "    <tr>\n",
       "      <th class=\"blank level0\" >&nbsp;</th>\n",
       "      <th id=\"T_30ffd_level0_col0\" class=\"col_heading level0 col0\" >Title</th>\n",
       "      <th id=\"T_30ffd_level0_col1\" class=\"col_heading level0 col1\" >Text</th>\n",
       "      <th id=\"T_30ffd_level0_col2\" class=\"col_heading level0 col2\" >Link</th>\n",
       "      <th id=\"T_30ffd_level0_col3\" class=\"col_heading level0 col3\" >Image</th>\n",
       "      <th id=\"T_30ffd_level0_col4\" class=\"col_heading level0 col4\" >Website</th>\n",
       "    </tr>\n",
       "  </thead>\n",
       "  <tbody>\n",
       "    <tr>\n",
       "      <th id=\"T_30ffd_level0_row0\" class=\"row_heading level0 row0\" >0</th>\n",
       "      <td id=\"T_30ffd_row0_col0\" class=\"data row0 col0\" >BECOME A SUBSCRIBER</td>\n",
       "      <td id=\"T_30ffd_row0_col1\" class=\"data row0 col1\" >Associated Press</td>\n",
       "      <td id=\"T_30ffd_row0_col2\" class=\"data row0 col2\" >https://www.worldpoliticsreview.com/journalists-russia-war-ukraine/</td>\n",
       "      <td id=\"T_30ffd_row0_col3\" class=\"data row0 col3\" >https://www.worldpoliticsreview.com/wp-content/uploads/2023/08/journalists-russia-war-ukraine-08242023-1.jpg?w=630&h=478&crop=1</td>\n",
       "      <td id=\"T_30ffd_row0_col4\" class=\"data row0 col4\" >www</td>\n",
       "    </tr>\n",
       "    <tr>\n",
       "      <th id=\"T_30ffd_level0_row1\" class=\"row_heading level0 row1\" >1</th>\n",
       "      <td id=\"T_30ffd_row1_col0\" class=\"data row1 col0\" >nan</td>\n",
       "      <td id=\"T_30ffd_row1_col1\" class=\"data row1 col1\" >nan</td>\n",
       "      <td id=\"T_30ffd_row1_col2\" class=\"data row1 col2\" >https://www.worldpoliticsreview.com/journalists-russia-war-ukraine/</td>\n",
       "      <td id=\"T_30ffd_row1_col3\" class=\"data row1 col3\" >https://www.worldpoliticsreview.com/wp-content/uploads/2023/08/journalists-russia-war-ukraine-08242023-1.jpg?w=630&h=478&crop=1</td>\n",
       "      <td id=\"T_30ffd_row1_col4\" class=\"data row1 col4\" >www</td>\n",
       "    </tr>\n",
       "    <tr>\n",
       "      <th id=\"T_30ffd_level0_row2\" class=\"row_heading level0 row2\" >2</th>\n",
       "      <td id=\"T_30ffd_row2_col0\" class=\"data row2 col0\" >nan</td>\n",
       "      <td id=\"T_30ffd_row2_col1\" class=\"data row2 col1\" >nan</td>\n",
       "      <td id=\"T_30ffd_row2_col2\" class=\"data row2 col2\" >https://www.worldpoliticsreview.com/uae-russia-us-security/</td>\n",
       "      <td id=\"T_30ffd_row2_col3\" class=\"data row2 col3\" >https://www.worldpoliticsreview.com/wp-content/uploads/2023/08/uae-russia-us-security-08232023-1.jpg?w=319&h=241&crop=1</td>\n",
       "      <td id=\"T_30ffd_row2_col4\" class=\"data row2 col4\" >www</td>\n",
       "    </tr>\n",
       "    <tr>\n",
       "      <th id=\"T_30ffd_level0_row3\" class=\"row_heading level0 row3\" >3</th>\n",
       "      <td id=\"T_30ffd_row3_col0\" class=\"data row3 col0\" >nan</td>\n",
       "      <td id=\"T_30ffd_row3_col1\" class=\"data row3 col1\" >nan</td>\n",
       "      <td id=\"T_30ffd_row3_col2\" class=\"data row3 col2\" >https://www.worldpoliticsreview.com/trump-brexit-populism/</td>\n",
       "      <td id=\"T_30ffd_row3_col3\" class=\"data row3 col3\" >https://www.worldpoliticsreview.com/wp-content/uploads/2023/08/trump-us-brexit-uk-populism-08232023-1.jpg?w=319&h=241&crop=1</td>\n",
       "      <td id=\"T_30ffd_row3_col4\" class=\"data row3 col4\" >www</td>\n",
       "    </tr>\n",
       "    <tr>\n",
       "      <th id=\"T_30ffd_level0_row4\" class=\"row_heading level0 row4\" >4</th>\n",
       "      <td id=\"T_30ffd_row4_col0\" class=\"data row4 col0\" >nan</td>\n",
       "      <td id=\"T_30ffd_row4_col1\" class=\"data row4 col1\" >nan</td>\n",
       "      <td id=\"T_30ffd_row4_col2\" class=\"data row4 col2\" >https://www.worldpoliticsreview.com/zimbabwe-elections-politics-mnangagwa/</td>\n",
       "      <td id=\"T_30ffd_row4_col3\" class=\"data row4 col3\" >https://www.worldpoliticsreview.com/wp-content/uploads/2023/08/zimbabwe-elections-politics-mnangagwa-08222023-1.jpg?w=319&h=241&crop=1</td>\n",
       "      <td id=\"T_30ffd_row4_col4\" class=\"data row4 col4\" >www</td>\n",
       "    </tr>\n",
       "    <tr>\n",
       "      <th id=\"T_30ffd_level0_row5\" class=\"row_heading level0 row5\" >5</th>\n",
       "      <td id=\"T_30ffd_row5_col0\" class=\"data row5 col0\" >nan</td>\n",
       "      <td id=\"T_30ffd_row5_col1\" class=\"data row5 col1\" >nan</td>\n",
       "      <td id=\"T_30ffd_row5_col2\" class=\"data row5 col2\" >https://www.worldpoliticsreview.com/g20-brics-un-summit/</td>\n",
       "      <td id=\"T_30ffd_row5_col3\" class=\"data row5 col3\" >https://www.worldpoliticsreview.com/wp-content/uploads/2023/08/g20-brics-un-summit-08222023-1.jpg?w=319&h=241&crop=1</td>\n",
       "      <td id=\"T_30ffd_row5_col4\" class=\"data row5 col4\" >www</td>\n",
       "    </tr>\n",
       "    <tr>\n",
       "      <th id=\"T_30ffd_level0_row6\" class=\"row_heading level0 row6\" >6</th>\n",
       "      <td id=\"T_30ffd_row6_col0\" class=\"data row6 col0\" >nan</td>\n",
       "      <td id=\"T_30ffd_row6_col1\" class=\"data row6 col1\" >nan</td>\n",
       "      <td id=\"T_30ffd_row6_col2\" class=\"data row6 col2\" >https://www.worldpoliticsreview.com/guatemala-elections-politics-latin-america/</td>\n",
       "      <td id=\"T_30ffd_row6_col3\" class=\"data row6 col3\" >https://www.worldpoliticsreview.com/wp-content/uploads/2023/08/guatemala-elections-latin-america-populism-08212023-1.jpg?w=519&h=259&crop=1</td>\n",
       "      <td id=\"T_30ffd_row6_col4\" class=\"data row6 col4\" >www</td>\n",
       "    </tr>\n",
       "    <tr>\n",
       "      <th id=\"T_30ffd_level0_row7\" class=\"row_heading level0 row7\" >7</th>\n",
       "      <td id=\"T_30ffd_row7_col0\" class=\"data row7 col0\" >nan</td>\n",
       "      <td id=\"T_30ffd_row7_col1\" class=\"data row7 col1\" >nan</td>\n",
       "      <td id=\"T_30ffd_row7_col2\" class=\"data row7 col2\" >https://www.worldpoliticsreview.com/sierra-leone-elections-democracy-bio-slpp-apc-economy/</td>\n",
       "      <td id=\"T_30ffd_row7_col3\" class=\"data row7 col3\" >https://www.worldpoliticsreview.com/wp-content/uploads/2023/08/sierra-leone-elections-democracy-bio-slpp-apc-economy-08212023.jpg?w=519&h=259&crop=1</td>\n",
       "      <td id=\"T_30ffd_row7_col4\" class=\"data row7 col4\" >www</td>\n",
       "    </tr>\n",
       "    <tr>\n",
       "      <th id=\"T_30ffd_level0_row8\" class=\"row_heading level0 row8\" >8</th>\n",
       "      <td id=\"T_30ffd_row8_col0\" class=\"data row8 col0\" >nan</td>\n",
       "      <td id=\"T_30ffd_row8_col1\" class=\"data row8 col1\" >nan</td>\n",
       "      <td id=\"T_30ffd_row8_col2\" class=\"data row8 col2\" >https://www.worldpoliticsreview.com/section/briefing/</td>\n",
       "      <td id=\"T_30ffd_row8_col3\" class=\"data row8 col3\" >nan</td>\n",
       "      <td id=\"T_30ffd_row8_col4\" class=\"data row8 col4\" >www</td>\n",
       "    </tr>\n",
       "    <tr>\n",
       "      <th id=\"T_30ffd_level0_row9\" class=\"row_heading level0 row9\" >9</th>\n",
       "      <td id=\"T_30ffd_row9_col0\" class=\"data row9 col0\" >nan</td>\n",
       "      <td id=\"T_30ffd_row9_col1\" class=\"data row9 col1\" >nan</td>\n",
       "      <td id=\"T_30ffd_row9_col2\" class=\"data row9 col2\" >https://www.worldpoliticsreview.com/section/column/</td>\n",
       "      <td id=\"T_30ffd_row9_col3\" class=\"data row9 col3\" >nan</td>\n",
       "      <td id=\"T_30ffd_row9_col4\" class=\"data row9 col4\" >www</td>\n",
       "    </tr>\n",
       "    <tr>\n",
       "      <th id=\"T_30ffd_level0_row10\" class=\"row_heading level0 row10\" >10</th>\n",
       "      <td id=\"T_30ffd_row10_col0\" class=\"data row10 col0\" >nan</td>\n",
       "      <td id=\"T_30ffd_row10_col1\" class=\"data row10 col1\" >nan</td>\n",
       "      <td id=\"T_30ffd_row10_col2\" class=\"data row10 col2\" >https://www.worldpoliticsreview.com/section/briefing/</td>\n",
       "      <td id=\"T_30ffd_row10_col3\" class=\"data row10 col3\" >nan</td>\n",
       "      <td id=\"T_30ffd_row10_col4\" class=\"data row10 col4\" >www</td>\n",
       "    </tr>\n",
       "    <tr>\n",
       "      <th id=\"T_30ffd_level0_row11\" class=\"row_heading level0 row11\" >11</th>\n",
       "      <td id=\"T_30ffd_row11_col0\" class=\"data row11 col0\" >nan</td>\n",
       "      <td id=\"T_30ffd_row11_col1\" class=\"data row11 col1\" >nan</td>\n",
       "      <td id=\"T_30ffd_row11_col2\" class=\"data row11 col2\" >https://www.worldpoliticsreview.com/section/column/</td>\n",
       "      <td id=\"T_30ffd_row11_col3\" class=\"data row11 col3\" >nan</td>\n",
       "      <td id=\"T_30ffd_row11_col4\" class=\"data row11 col4\" >www</td>\n",
       "    </tr>\n",
       "    <tr>\n",
       "      <th id=\"T_30ffd_level0_row12\" class=\"row_heading level0 row12\" >12</th>\n",
       "      <td id=\"T_30ffd_row12_col0\" class=\"data row12 col0\" >nan</td>\n",
       "      <td id=\"T_30ffd_row12_col1\" class=\"data row12 col1\" >nan</td>\n",
       "      <td id=\"T_30ffd_row12_col2\" class=\"data row12 col2\" >https://www.worldpoliticsreview.com/section/briefing/</td>\n",
       "      <td id=\"T_30ffd_row12_col3\" class=\"data row12 col3\" >nan</td>\n",
       "      <td id=\"T_30ffd_row12_col4\" class=\"data row12 col4\" >www</td>\n",
       "    </tr>\n",
       "    <tr>\n",
       "      <th id=\"T_30ffd_level0_row13\" class=\"row_heading level0 row13\" >13</th>\n",
       "      <td id=\"T_30ffd_row13_col0\" class=\"data row13 col0\" >nan</td>\n",
       "      <td id=\"T_30ffd_row13_col1\" class=\"data row13 col1\" >nan</td>\n",
       "      <td id=\"T_30ffd_row13_col2\" class=\"data row13 col2\" >https://www.worldpoliticsreview.com/section/column/</td>\n",
       "      <td id=\"T_30ffd_row13_col3\" class=\"data row13 col3\" >nan</td>\n",
       "      <td id=\"T_30ffd_row13_col4\" class=\"data row13 col4\" >www</td>\n",
       "    </tr>\n",
       "    <tr>\n",
       "      <th id=\"T_30ffd_level0_row14\" class=\"row_heading level0 row14\" >14</th>\n",
       "      <td id=\"T_30ffd_row14_col0\" class=\"data row14 col0\" >nan</td>\n",
       "      <td id=\"T_30ffd_row14_col1\" class=\"data row14 col1\" >nan</td>\n",
       "      <td id=\"T_30ffd_row14_col2\" class=\"data row14 col2\" >https://www.worldpoliticsreview.com/section/column/</td>\n",
       "      <td id=\"T_30ffd_row14_col3\" class=\"data row14 col3\" >nan</td>\n",
       "      <td id=\"T_30ffd_row14_col4\" class=\"data row14 col4\" >www</td>\n",
       "    </tr>\n",
       "    <tr>\n",
       "      <th id=\"T_30ffd_level0_row15\" class=\"row_heading level0 row15\" >15</th>\n",
       "      <td id=\"T_30ffd_row15_col0\" class=\"data row15 col0\" >nan</td>\n",
       "      <td id=\"T_30ffd_row15_col1\" class=\"data row15 col1\" >Associated Press</td>\n",
       "      <td id=\"T_30ffd_row15_col2\" class=\"data row15 col2\" >https://www.worldpoliticsreview.com/news-wire-section/news/</td>\n",
       "      <td id=\"T_30ffd_row15_col3\" class=\"data row15 col3\" >nan</td>\n",
       "      <td id=\"T_30ffd_row15_col4\" class=\"data row15 col4\" >www</td>\n",
       "    </tr>\n",
       "    <tr>\n",
       "      <th id=\"T_30ffd_level0_row16\" class=\"row_heading level0 row16\" >16</th>\n",
       "      <td id=\"T_30ffd_row16_col0\" class=\"data row16 col0\" >nan</td>\n",
       "      <td id=\"T_30ffd_row16_col1\" class=\"data row16 col1\" >nan</td>\n",
       "      <td id=\"T_30ffd_row16_col2\" class=\"data row16 col2\" >nan</td>\n",
       "      <td id=\"T_30ffd_row16_col3\" class=\"data row16 col3\" >nan</td>\n",
       "      <td id=\"T_30ffd_row16_col4\" class=\"data row16 col4\" >www</td>\n",
       "    </tr>\n",
       "    <tr>\n",
       "      <th id=\"T_30ffd_level0_row17\" class=\"row_heading level0 row17\" >17</th>\n",
       "      <td id=\"T_30ffd_row17_col0\" class=\"data row17 col0\" >nan</td>\n",
       "      <td id=\"T_30ffd_row17_col1\" class=\"data row17 col1\" >nan</td>\n",
       "      <td id=\"T_30ffd_row17_col2\" class=\"data row17 col2\" >nan</td>\n",
       "      <td id=\"T_30ffd_row17_col3\" class=\"data row17 col3\" >nan</td>\n",
       "      <td id=\"T_30ffd_row17_col4\" class=\"data row17 col4\" >www</td>\n",
       "    </tr>\n",
       "    <tr>\n",
       "      <th id=\"T_30ffd_level0_row18\" class=\"row_heading level0 row18\" >18</th>\n",
       "      <td id=\"T_30ffd_row18_col0\" class=\"data row18 col0\" >nan</td>\n",
       "      <td id=\"T_30ffd_row18_col1\" class=\"data row18 col1\" >nan</td>\n",
       "      <td id=\"T_30ffd_row18_col2\" class=\"data row18 col2\" >nan</td>\n",
       "      <td id=\"T_30ffd_row18_col3\" class=\"data row18 col3\" >nan</td>\n",
       "      <td id=\"T_30ffd_row18_col4\" class=\"data row18 col4\" >www</td>\n",
       "    </tr>\n",
       "    <tr>\n",
       "      <th id=\"T_30ffd_level0_row19\" class=\"row_heading level0 row19\" >19</th>\n",
       "      <td id=\"T_30ffd_row19_col0\" class=\"data row19 col0\" >nan</td>\n",
       "      <td id=\"T_30ffd_row19_col1\" class=\"data row19 col1\" >nan</td>\n",
       "      <td id=\"T_30ffd_row19_col2\" class=\"data row19 col2\" >nan</td>\n",
       "      <td id=\"T_30ffd_row19_col3\" class=\"data row19 col3\" >nan</td>\n",
       "      <td id=\"T_30ffd_row19_col4\" class=\"data row19 col4\" >www</td>\n",
       "    </tr>\n",
       "    <tr>\n",
       "      <th id=\"T_30ffd_level0_row20\" class=\"row_heading level0 row20\" >20</th>\n",
       "      <td id=\"T_30ffd_row20_col0\" class=\"data row20 col0\" >nan</td>\n",
       "      <td id=\"T_30ffd_row20_col1\" class=\"data row20 col1\" >nan</td>\n",
       "      <td id=\"T_30ffd_row20_col2\" class=\"data row20 col2\" >nan</td>\n",
       "      <td id=\"T_30ffd_row20_col3\" class=\"data row20 col3\" >nan</td>\n",
       "      <td id=\"T_30ffd_row20_col4\" class=\"data row20 col4\" >www</td>\n",
       "    </tr>\n",
       "    <tr>\n",
       "      <th id=\"T_30ffd_level0_row21\" class=\"row_heading level0 row21\" >21</th>\n",
       "      <td id=\"T_30ffd_row21_col0\" class=\"data row21 col0\" >nan</td>\n",
       "      <td id=\"T_30ffd_row21_col1\" class=\"data row21 col1\" >nan</td>\n",
       "      <td id=\"T_30ffd_row21_col2\" class=\"data row21 col2\" >https://www.worldpoliticsreview.com/us-china-trade-war-restrictions-semiconductors-tech-biden/</td>\n",
       "      <td id=\"T_30ffd_row21_col3\" class=\"data row21 col3\" >https://www.worldpoliticsreview.com/wp-content/uploads/2023/08/us-china-trade-war-restrictions-semiconductors-tech-biden-08182023-1.jpg?w=519&h=259&crop=1</td>\n",
       "      <td id=\"T_30ffd_row21_col4\" class=\"data row21 col4\" >www</td>\n",
       "    </tr>\n",
       "    <tr>\n",
       "      <th id=\"T_30ffd_level0_row22\" class=\"row_heading level0 row22\" >22</th>\n",
       "      <td id=\"T_30ffd_row22_col0\" class=\"data row22 col0\" >nan</td>\n",
       "      <td id=\"T_30ffd_row22_col1\" class=\"data row22 col1\" >nan</td>\n",
       "      <td id=\"T_30ffd_row22_col2\" class=\"data row22 col2\" >https://www.worldpoliticsreview.com/mark-rutte-vvd-netherlands-politics-dutch-elections-farmers/</td>\n",
       "      <td id=\"T_30ffd_row22_col3\" class=\"data row22 col3\" >https://www.worldpoliticsreview.com/wp-content/uploads/2023/08/mark-rutte-vvd-netherlands-politics-dutch-elections-farmers-08172023-1.jpg?w=519&h=259&crop=1</td>\n",
       "      <td id=\"T_30ffd_row22_col4\" class=\"data row22 col4\" >www</td>\n",
       "    </tr>\n",
       "    <tr>\n",
       "      <th id=\"T_30ffd_level0_row23\" class=\"row_heading level0 row23\" >23</th>\n",
       "      <td id=\"T_30ffd_row23_col0\" class=\"data row23 col0\" >nan</td>\n",
       "      <td id=\"T_30ffd_row23_col1\" class=\"data row23 col1\" >nan</td>\n",
       "      <td id=\"T_30ffd_row23_col2\" class=\"data row23 col2\" >https://www.worldpoliticsreview.com/us-afghanistan-taliban-iran-relations-drugs-water/</td>\n",
       "      <td id=\"T_30ffd_row23_col3\" class=\"data row23 col3\" >https://www.worldpoliticsreview.com/wp-content/uploads/2023/08/us-afghanistan-taliban-iran-relations-drugs-water-08152023-1.jpg?w=519&h=259&crop=1</td>\n",
       "      <td id=\"T_30ffd_row23_col4\" class=\"data row23 col4\" >www</td>\n",
       "    </tr>\n",
       "    <tr>\n",
       "      <th id=\"T_30ffd_level0_row24\" class=\"row_heading level0 row24\" >24</th>\n",
       "      <td id=\"T_30ffd_row24_col0\" class=\"data row24 col0\" >nan</td>\n",
       "      <td id=\"T_30ffd_row24_col1\" class=\"data row24 col1\" >nan</td>\n",
       "      <td id=\"T_30ffd_row24_col2\" class=\"data row24 col2\" >https://www.worldpoliticsreview.com/singapore-pap-corruption-politics-democracy-lee-hsien-loong/</td>\n",
       "      <td id=\"T_30ffd_row24_col3\" class=\"data row24 col3\" >https://www.worldpoliticsreview.com/wp-content/uploads/2023/08/singapore-pap-corruption-politics-democracy-lee-hsien-loong-08172023-1.jpg?w=519&h=259&crop=1</td>\n",
       "      <td id=\"T_30ffd_row24_col4\" class=\"data row24 col4\" >www</td>\n",
       "    </tr>\n",
       "    <tr>\n",
       "      <th id=\"T_30ffd_level0_row25\" class=\"row_heading level0 row25\" >25</th>\n",
       "      <td id=\"T_30ffd_row25_col0\" class=\"data row25 col0\" >nan</td>\n",
       "      <td id=\"T_30ffd_row25_col1\" class=\"data row25 col1\" >nan</td>\n",
       "      <td id=\"T_30ffd_row25_col2\" class=\"data row25 col2\" >https://www.worldpoliticsreview.com/argentina-election-milei-economic-crisis-kirchner-fernandez/</td>\n",
       "      <td id=\"T_30ffd_row25_col3\" class=\"data row25 col3\" >https://www.worldpoliticsreview.com/wp-content/uploads/2023/08/argentina-election-milei-economic-crisis-kirchner-fernandez-08182023-1.jpg?w=519&h=259&crop=1</td>\n",
       "      <td id=\"T_30ffd_row25_col4\" class=\"data row25 col4\" >www</td>\n",
       "    </tr>\n",
       "    <tr>\n",
       "      <th id=\"T_30ffd_level0_row26\" class=\"row_heading level0 row26\" >26</th>\n",
       "      <td id=\"T_30ffd_row26_col0\" class=\"data row26 col0\" >nan</td>\n",
       "      <td id=\"T_30ffd_row26_col1\" class=\"data row26 col1\" >nan</td>\n",
       "      <td id=\"T_30ffd_row26_col2\" class=\"data row26 col2\" >https://www.worldpoliticsreview.com/amhara-ethiopia-conflict-fano-politics-war-tigray/</td>\n",
       "      <td id=\"T_30ffd_row26_col3\" class=\"data row26 col3\" >https://www.worldpoliticsreview.com/wp-content/uploads/2023/08/amhara-ethiopia-conflict-fano-politics-war-tigray-08162023.jpg?w=519&h=259&crop=1</td>\n",
       "      <td id=\"T_30ffd_row26_col4\" class=\"data row26 col4\" >www</td>\n",
       "    </tr>\n",
       "    <tr>\n",
       "      <th id=\"T_30ffd_level0_row27\" class=\"row_heading level0 row27\" >27</th>\n",
       "      <td id=\"T_30ffd_row27_col0\" class=\"data row27 col0\" >nan</td>\n",
       "      <td id=\"T_30ffd_row27_col1\" class=\"data row27 col1\" >Contact POLITICO reporters and provide materials in an anonymous and secure way. Learn more »</td>\n",
       "      <td id=\"T_30ffd_row27_col2\" class=\"data row27 col2\" >https://www.politico.com/news-tips</td>\n",
       "      <td id=\"T_30ffd_row27_col3\" class=\"data row27 col3\" >https://static.politico.com/a3/79/cc6bfb1640ea88ebc026a7cf6ff4/securedrop-logo.jpg</td>\n",
       "      <td id=\"T_30ffd_row27_col4\" class=\"data row27 col4\" >www</td>\n",
       "    </tr>\n",
       "    <tr>\n",
       "      <th id=\"T_30ffd_level0_row28\" class=\"row_heading level0 row28\" >28</th>\n",
       "      <td id=\"T_30ffd_row28_col0\" class=\"data row28 col0\" >nan</td>\n",
       "      <td id=\"T_30ffd_row28_col1\" class=\"data row28 col1\" >Exclusive news, intelligence and tools for professionals on the front lines of policy. Learn more »</td>\n",
       "      <td id=\"T_30ffd_row28_col2\" class=\"data row28 col2\" >https://www.politicopro.com</td>\n",
       "      <td id=\"T_30ffd_row28_col3\" class=\"data row28 col3\" >https://static.politico.com/ac/aa/9226248b44f0846616bfac182b22/logo-politicopro-200x2.png</td>\n",
       "      <td id=\"T_30ffd_row28_col4\" class=\"data row28 col4\" >www</td>\n",
       "    </tr>\n",
       "    <tr>\n",
       "      <th id=\"T_30ffd_level0_row29\" class=\"row_heading level0 row29\" >29</th>\n",
       "      <td id=\"T_30ffd_row29_col0\" class=\"data row29 col0\" >We don’t want to join Russia, breakaway Georgian region warns</td>\n",
       "      <td id=\"T_30ffd_row29_col1\" class=\"data row29 col1\" >Top stories</td>\n",
       "      <td id=\"T_30ffd_row29_col2\" class=\"data row29 col2\" >https://www.politico.eu/article/georgia-breakaway-region-abkhazia-joining-russia-south-caucasus/</td>\n",
       "      <td id=\"T_30ffd_row29_col3\" class=\"data row29 col3\" >https://www.politico.eu/cdn-cgi/image/width=380,height=380,quality=80,onerror=redirect,format=auto/wp-content/uploads/2023/08/25/GettyImages-1621335357.jpg</td>\n",
       "      <td id=\"T_30ffd_row29_col4\" class=\"data row29 col4\" >www</td>\n",
       "    </tr>\n",
       "  </tbody>\n",
       "</table>\n"
      ],
      "text/plain": [
       "<pandas.io.formats.style.Styler at 0x27c1222ba90>"
      ]
     },
     "metadata": {},
     "output_type": "display_data"
    }
   ],
   "source": [
    "styled_df = df3.style.set_properties(**{'text-align': 'center'})\n",
    "display(styled_df)"
   ]
  },
  {
   "cell_type": "code",
   "execution_count": 9,
   "id": "0c0f50bc",
   "metadata": {},
   "outputs": [],
   "source": [
    "# Function to extract more data from an individual article page\n",
    "def extract_article_data(article_url, website_name):\n",
    "    try:\n",
    "        response = requests.get(article_url)\n",
    "        if response.status_code == 200:\n",
    "            article_soup = BeautifulSoup(response.content, \"html.parser\")\n",
    "            \n",
    "            # Extract additional article information like date\n",
    "            date_element = article_soup.find(\"div\", class_=\"update-time\")  # Example class, adapt to your needs\n",
    "            article_date = date_element.text.strip() if date_element else None\n",
    "            \n",
    "            # Extract full article text\n",
    "            article_text = \"\"\n",
    "            paragraphs = article_soup.find_all(\"div\", class_=\"zn-body__paragraph\")  # Example class, adapt to your needs\n",
    "            for paragraph in paragraphs:\n",
    "                article_text += paragraph.get_text() + \"\\n\"\n",
    "            \n",
    "            # Update the articles list with additional information\n",
    "            for article in articles:\n",
    "                if article[\"Link\"] == article_url:\n",
    "                    article[\"Date\"] = article_date\n",
    "                    article[\"Text\"] = article_text\n",
    "        else:\n",
    "            print(f\"Failed to fetch {article_url}\")\n",
    "    except Exception as e:\n",
    "        print(f\"An error occurred while crawling {article_url}: {e}\")\n"
   ]
  },
  {
   "cell_type": "code",
   "execution_count": 10,
   "id": "8f7585b8",
   "metadata": {},
   "outputs": [],
   "source": [
    "import requests\n",
    "from bs4 import BeautifulSoup\n",
    "import pandas as pd\n",
    "\n",
    "# List of dictionaries to store article information\n",
    "articles = []\n",
    "\n",
    "# List of initial URLs (main pages) to start crawling from\n",
    "initial_urls = [\n",
    "    \"https://foreignpolicy.com/\",\n",
    "    \"https://www.worldpoliticsreview.com/\",\n",
    "    # Add other URLs here...\n",
    "]\n",
    "\n",
    "# Function to crawl a main page\n",
    "def crawl_main_page(url):\n",
    "    response = requests.get(url)\n",
    "    soup = BeautifulSoup(response.content, \"html.parser\")\n",
    "    \n",
    "    # Extract article information and append to articles list\n",
    "    for article in soup.find_all(\"article\"):\n",
    "        # Extract title, text, link, image, and website name\n",
    "        title = article.find(\"h2\").text.strip() if article.find(\"h2\") else None\n",
    "        text = article.find(\"p\").text.strip() if article.find(\"p\") else None\n",
    "        link = article.find(\"a\")[\"href\"] if article.find(\"a\") else None\n",
    "        image = article.find(\"img\")[\"src\"] if article.find(\"img\") else None\n",
    "        website_name = url.split(\"//\")[1].split(\".\")[0]\n",
    "        \n",
    "        # Create article dictionary and append to articles list\n",
    "        article_info = {\n",
    "            \"Title\": title,\n",
    "            \"Text\": text,\n",
    "            \"Link\": link,\n",
    "            \"Image\": image,\n",
    "            \"Website\": website_name\n",
    "        }\n",
    "        articles.append(article_info)\n",
    "\n",
    "# Main function\n",
    "def main():\n",
    "    for url in initial_urls:\n",
    "        crawl_main_page(url)\n",
    "    \n",
    "    # Create a DataFrame from the article information\n",
    "    df = pd.DataFrame(articles)\n",
    "    df.to_csv(\"crawled_articl.csv\", index=False)  # Save the DataFrame to a CSV file\n",
    "\n",
    "if __name__ == \"__main__\":\n",
    "    main()\n"
   ]
  },
  {
   "cell_type": "code",
   "execution_count": 11,
   "id": "61034f3e",
   "metadata": {},
   "outputs": [
    {
     "data": {
      "text/html": [
       "<div>\n",
       "<style scoped>\n",
       "    .dataframe tbody tr th:only-of-type {\n",
       "        vertical-align: middle;\n",
       "    }\n",
       "\n",
       "    .dataframe tbody tr th {\n",
       "        vertical-align: top;\n",
       "    }\n",
       "\n",
       "    .dataframe thead th {\n",
       "        text-align: right;\n",
       "    }\n",
       "</style>\n",
       "<table border=\"1\" class=\"dataframe\">\n",
       "  <thead>\n",
       "    <tr style=\"text-align: right;\">\n",
       "      <th></th>\n",
       "      <th>Title</th>\n",
       "      <th>Text</th>\n",
       "      <th>Link</th>\n",
       "      <th>Image</th>\n",
       "      <th>Website</th>\n",
       "    </tr>\n",
       "  </thead>\n",
       "  <tbody>\n",
       "    <tr>\n",
       "      <th>0</th>\n",
       "      <td>BECOME A SUBSCRIBER</td>\n",
       "      <td>Associated Press</td>\n",
       "      <td>https://www.worldpoliticsreview.com/journalist...</td>\n",
       "      <td>https://www.worldpoliticsreview.com/wp-content...</td>\n",
       "      <td>www</td>\n",
       "    </tr>\n",
       "    <tr>\n",
       "      <th>1</th>\n",
       "      <td>NaN</td>\n",
       "      <td>NaN</td>\n",
       "      <td>https://www.worldpoliticsreview.com/journalist...</td>\n",
       "      <td>https://www.worldpoliticsreview.com/wp-content...</td>\n",
       "      <td>www</td>\n",
       "    </tr>\n",
       "    <tr>\n",
       "      <th>2</th>\n",
       "      <td>NaN</td>\n",
       "      <td>NaN</td>\n",
       "      <td>https://www.worldpoliticsreview.com/uae-russia...</td>\n",
       "      <td>https://www.worldpoliticsreview.com/wp-content...</td>\n",
       "      <td>www</td>\n",
       "    </tr>\n",
       "    <tr>\n",
       "      <th>3</th>\n",
       "      <td>NaN</td>\n",
       "      <td>NaN</td>\n",
       "      <td>https://www.worldpoliticsreview.com/trump-brex...</td>\n",
       "      <td>https://www.worldpoliticsreview.com/wp-content...</td>\n",
       "      <td>www</td>\n",
       "    </tr>\n",
       "    <tr>\n",
       "      <th>4</th>\n",
       "      <td>NaN</td>\n",
       "      <td>NaN</td>\n",
       "      <td>https://www.worldpoliticsreview.com/zimbabwe-e...</td>\n",
       "      <td>https://www.worldpoliticsreview.com/wp-content...</td>\n",
       "      <td>www</td>\n",
       "    </tr>\n",
       "    <tr>\n",
       "      <th>5</th>\n",
       "      <td>NaN</td>\n",
       "      <td>NaN</td>\n",
       "      <td>https://www.worldpoliticsreview.com/g20-brics-...</td>\n",
       "      <td>https://www.worldpoliticsreview.com/wp-content...</td>\n",
       "      <td>www</td>\n",
       "    </tr>\n",
       "    <tr>\n",
       "      <th>6</th>\n",
       "      <td>NaN</td>\n",
       "      <td>NaN</td>\n",
       "      <td>https://www.worldpoliticsreview.com/guatemala-...</td>\n",
       "      <td>https://www.worldpoliticsreview.com/wp-content...</td>\n",
       "      <td>www</td>\n",
       "    </tr>\n",
       "    <tr>\n",
       "      <th>7</th>\n",
       "      <td>NaN</td>\n",
       "      <td>NaN</td>\n",
       "      <td>https://www.worldpoliticsreview.com/sierra-leo...</td>\n",
       "      <td>https://www.worldpoliticsreview.com/wp-content...</td>\n",
       "      <td>www</td>\n",
       "    </tr>\n",
       "    <tr>\n",
       "      <th>8</th>\n",
       "      <td>NaN</td>\n",
       "      <td>NaN</td>\n",
       "      <td>https://www.worldpoliticsreview.com/section/br...</td>\n",
       "      <td>NaN</td>\n",
       "      <td>www</td>\n",
       "    </tr>\n",
       "    <tr>\n",
       "      <th>9</th>\n",
       "      <td>NaN</td>\n",
       "      <td>NaN</td>\n",
       "      <td>https://www.worldpoliticsreview.com/section/co...</td>\n",
       "      <td>NaN</td>\n",
       "      <td>www</td>\n",
       "    </tr>\n",
       "    <tr>\n",
       "      <th>10</th>\n",
       "      <td>NaN</td>\n",
       "      <td>NaN</td>\n",
       "      <td>https://www.worldpoliticsreview.com/section/br...</td>\n",
       "      <td>NaN</td>\n",
       "      <td>www</td>\n",
       "    </tr>\n",
       "    <tr>\n",
       "      <th>11</th>\n",
       "      <td>NaN</td>\n",
       "      <td>NaN</td>\n",
       "      <td>https://www.worldpoliticsreview.com/section/co...</td>\n",
       "      <td>NaN</td>\n",
       "      <td>www</td>\n",
       "    </tr>\n",
       "    <tr>\n",
       "      <th>12</th>\n",
       "      <td>NaN</td>\n",
       "      <td>NaN</td>\n",
       "      <td>https://www.worldpoliticsreview.com/section/br...</td>\n",
       "      <td>NaN</td>\n",
       "      <td>www</td>\n",
       "    </tr>\n",
       "    <tr>\n",
       "      <th>13</th>\n",
       "      <td>NaN</td>\n",
       "      <td>NaN</td>\n",
       "      <td>https://www.worldpoliticsreview.com/section/co...</td>\n",
       "      <td>NaN</td>\n",
       "      <td>www</td>\n",
       "    </tr>\n",
       "    <tr>\n",
       "      <th>14</th>\n",
       "      <td>NaN</td>\n",
       "      <td>NaN</td>\n",
       "      <td>https://www.worldpoliticsreview.com/section/co...</td>\n",
       "      <td>NaN</td>\n",
       "      <td>www</td>\n",
       "    </tr>\n",
       "    <tr>\n",
       "      <th>15</th>\n",
       "      <td>NaN</td>\n",
       "      <td>Associated Press</td>\n",
       "      <td>https://www.worldpoliticsreview.com/news-wire-...</td>\n",
       "      <td>NaN</td>\n",
       "      <td>www</td>\n",
       "    </tr>\n",
       "    <tr>\n",
       "      <th>16</th>\n",
       "      <td>NaN</td>\n",
       "      <td>NaN</td>\n",
       "      <td>NaN</td>\n",
       "      <td>NaN</td>\n",
       "      <td>www</td>\n",
       "    </tr>\n",
       "    <tr>\n",
       "      <th>17</th>\n",
       "      <td>NaN</td>\n",
       "      <td>NaN</td>\n",
       "      <td>NaN</td>\n",
       "      <td>NaN</td>\n",
       "      <td>www</td>\n",
       "    </tr>\n",
       "    <tr>\n",
       "      <th>18</th>\n",
       "      <td>NaN</td>\n",
       "      <td>NaN</td>\n",
       "      <td>NaN</td>\n",
       "      <td>NaN</td>\n",
       "      <td>www</td>\n",
       "    </tr>\n",
       "    <tr>\n",
       "      <th>19</th>\n",
       "      <td>NaN</td>\n",
       "      <td>NaN</td>\n",
       "      <td>NaN</td>\n",
       "      <td>NaN</td>\n",
       "      <td>www</td>\n",
       "    </tr>\n",
       "    <tr>\n",
       "      <th>20</th>\n",
       "      <td>NaN</td>\n",
       "      <td>NaN</td>\n",
       "      <td>NaN</td>\n",
       "      <td>NaN</td>\n",
       "      <td>www</td>\n",
       "    </tr>\n",
       "    <tr>\n",
       "      <th>21</th>\n",
       "      <td>NaN</td>\n",
       "      <td>NaN</td>\n",
       "      <td>https://www.worldpoliticsreview.com/us-china-t...</td>\n",
       "      <td>https://www.worldpoliticsreview.com/wp-content...</td>\n",
       "      <td>www</td>\n",
       "    </tr>\n",
       "    <tr>\n",
       "      <th>22</th>\n",
       "      <td>NaN</td>\n",
       "      <td>NaN</td>\n",
       "      <td>https://www.worldpoliticsreview.com/mark-rutte...</td>\n",
       "      <td>https://www.worldpoliticsreview.com/wp-content...</td>\n",
       "      <td>www</td>\n",
       "    </tr>\n",
       "    <tr>\n",
       "      <th>23</th>\n",
       "      <td>NaN</td>\n",
       "      <td>NaN</td>\n",
       "      <td>https://www.worldpoliticsreview.com/us-afghani...</td>\n",
       "      <td>https://www.worldpoliticsreview.com/wp-content...</td>\n",
       "      <td>www</td>\n",
       "    </tr>\n",
       "    <tr>\n",
       "      <th>24</th>\n",
       "      <td>NaN</td>\n",
       "      <td>NaN</td>\n",
       "      <td>https://www.worldpoliticsreview.com/singapore-...</td>\n",
       "      <td>https://www.worldpoliticsreview.com/wp-content...</td>\n",
       "      <td>www</td>\n",
       "    </tr>\n",
       "    <tr>\n",
       "      <th>25</th>\n",
       "      <td>NaN</td>\n",
       "      <td>NaN</td>\n",
       "      <td>https://www.worldpoliticsreview.com/argentina-...</td>\n",
       "      <td>https://www.worldpoliticsreview.com/wp-content...</td>\n",
       "      <td>www</td>\n",
       "    </tr>\n",
       "    <tr>\n",
       "      <th>26</th>\n",
       "      <td>NaN</td>\n",
       "      <td>NaN</td>\n",
       "      <td>https://www.worldpoliticsreview.com/amhara-eth...</td>\n",
       "      <td>https://www.worldpoliticsreview.com/wp-content...</td>\n",
       "      <td>www</td>\n",
       "    </tr>\n",
       "  </tbody>\n",
       "</table>\n",
       "</div>"
      ],
      "text/plain": [
       "                  Title              Text  \\\n",
       "0   BECOME A SUBSCRIBER  Associated Press   \n",
       "1                   NaN               NaN   \n",
       "2                   NaN               NaN   \n",
       "3                   NaN               NaN   \n",
       "4                   NaN               NaN   \n",
       "5                   NaN               NaN   \n",
       "6                   NaN               NaN   \n",
       "7                   NaN               NaN   \n",
       "8                   NaN               NaN   \n",
       "9                   NaN               NaN   \n",
       "10                  NaN               NaN   \n",
       "11                  NaN               NaN   \n",
       "12                  NaN               NaN   \n",
       "13                  NaN               NaN   \n",
       "14                  NaN               NaN   \n",
       "15                  NaN  Associated Press   \n",
       "16                  NaN               NaN   \n",
       "17                  NaN               NaN   \n",
       "18                  NaN               NaN   \n",
       "19                  NaN               NaN   \n",
       "20                  NaN               NaN   \n",
       "21                  NaN               NaN   \n",
       "22                  NaN               NaN   \n",
       "23                  NaN               NaN   \n",
       "24                  NaN               NaN   \n",
       "25                  NaN               NaN   \n",
       "26                  NaN               NaN   \n",
       "\n",
       "                                                 Link  \\\n",
       "0   https://www.worldpoliticsreview.com/journalist...   \n",
       "1   https://www.worldpoliticsreview.com/journalist...   \n",
       "2   https://www.worldpoliticsreview.com/uae-russia...   \n",
       "3   https://www.worldpoliticsreview.com/trump-brex...   \n",
       "4   https://www.worldpoliticsreview.com/zimbabwe-e...   \n",
       "5   https://www.worldpoliticsreview.com/g20-brics-...   \n",
       "6   https://www.worldpoliticsreview.com/guatemala-...   \n",
       "7   https://www.worldpoliticsreview.com/sierra-leo...   \n",
       "8   https://www.worldpoliticsreview.com/section/br...   \n",
       "9   https://www.worldpoliticsreview.com/section/co...   \n",
       "10  https://www.worldpoliticsreview.com/section/br...   \n",
       "11  https://www.worldpoliticsreview.com/section/co...   \n",
       "12  https://www.worldpoliticsreview.com/section/br...   \n",
       "13  https://www.worldpoliticsreview.com/section/co...   \n",
       "14  https://www.worldpoliticsreview.com/section/co...   \n",
       "15  https://www.worldpoliticsreview.com/news-wire-...   \n",
       "16                                                NaN   \n",
       "17                                                NaN   \n",
       "18                                                NaN   \n",
       "19                                                NaN   \n",
       "20                                                NaN   \n",
       "21  https://www.worldpoliticsreview.com/us-china-t...   \n",
       "22  https://www.worldpoliticsreview.com/mark-rutte...   \n",
       "23  https://www.worldpoliticsreview.com/us-afghani...   \n",
       "24  https://www.worldpoliticsreview.com/singapore-...   \n",
       "25  https://www.worldpoliticsreview.com/argentina-...   \n",
       "26  https://www.worldpoliticsreview.com/amhara-eth...   \n",
       "\n",
       "                                                Image Website  \n",
       "0   https://www.worldpoliticsreview.com/wp-content...     www  \n",
       "1   https://www.worldpoliticsreview.com/wp-content...     www  \n",
       "2   https://www.worldpoliticsreview.com/wp-content...     www  \n",
       "3   https://www.worldpoliticsreview.com/wp-content...     www  \n",
       "4   https://www.worldpoliticsreview.com/wp-content...     www  \n",
       "5   https://www.worldpoliticsreview.com/wp-content...     www  \n",
       "6   https://www.worldpoliticsreview.com/wp-content...     www  \n",
       "7   https://www.worldpoliticsreview.com/wp-content...     www  \n",
       "8                                                 NaN     www  \n",
       "9                                                 NaN     www  \n",
       "10                                                NaN     www  \n",
       "11                                                NaN     www  \n",
       "12                                                NaN     www  \n",
       "13                                                NaN     www  \n",
       "14                                                NaN     www  \n",
       "15                                                NaN     www  \n",
       "16                                                NaN     www  \n",
       "17                                                NaN     www  \n",
       "18                                                NaN     www  \n",
       "19                                                NaN     www  \n",
       "20                                                NaN     www  \n",
       "21  https://www.worldpoliticsreview.com/wp-content...     www  \n",
       "22  https://www.worldpoliticsreview.com/wp-content...     www  \n",
       "23  https://www.worldpoliticsreview.com/wp-content...     www  \n",
       "24  https://www.worldpoliticsreview.com/wp-content...     www  \n",
       "25  https://www.worldpoliticsreview.com/wp-content...     www  \n",
       "26  https://www.worldpoliticsreview.com/wp-content...     www  "
      ]
     },
     "execution_count": 11,
     "metadata": {},
     "output_type": "execute_result"
    }
   ],
   "source": [
    "import pandas as pd\n",
    "df33 = pd.read_csv('crawled_articl.csv')\n",
    "df33"
   ]
  },
  {
   "cell_type": "code",
   "execution_count": 21,
   "id": "15d6f27f",
   "metadata": {},
   "outputs": [],
   "source": [
    "import requests\n",
    "from bs4 import BeautifulSoup\n",
    "import pandas as pd\n",
    "\n",
    "# List of dictionaries to store article information\n",
    "articles = []\n",
    "\n",
    "# List of initial URLs (seeds) to start crawling from\n",
    "initial_urls = [\n",
    "    \"https://foreignpolicy.com/\",\n",
    "    \"https://edition.cnn.com/politics\"\n",
    "]\n",
    "\n",
    "# Function to crawl the Foreign Policy website\n",
    "def crawl_foreign_policy(url):\n",
    "    try:\n",
    "        response = requests.get(url)\n",
    "        if response.status_code == 200:\n",
    "            soup = BeautifulSoup(response.content, \"html.parser\")\n",
    "            \n",
    "            # Extract article information based on the Foreign Policy structure\n",
    "            for article in soup.find_all(\"article\"):\n",
    "                title_element = article.find(\"h1\", class_=\"hed\")\n",
    "                text_element = article.find(\"p\")\n",
    "                date_element = article.find(\"time\", class_=\"date-time\")\n",
    "                image_element = article.find(\"img\")\n",
    "                \n",
    "                article_info = {\n",
    "                    \"Title\": title_element.get_text() if title_element else None,\n",
    "                    \"Text\": text_element.get_text() if text_element else None,\n",
    "                    \"Date\": date_element[\"datetime\"] if date_element else None,\n",
    "                    \"Image\": image_element[\"src\"] if image_element else None,\n",
    "                    \"Website\": \"Foreign Policy\",\n",
    "                    \"Link\": url\n",
    "                }\n",
    "                articles.append(article_info)\n",
    "        else:\n",
    "            print(f\"Failed to fetch {url}\")\n",
    "    except Exception as e:\n",
    "        print(f\"An error occurred while crawling {url}: {e}\")\n",
    "\n",
    "# Function to crawl the CNN website\n",
    "def crawl_cnn(url):\n",
    "    try:\n",
    "        response = requests.get(url)\n",
    "        if response.status_code == 200:\n",
    "            soup = BeautifulSoup(response.content, \"html.parser\")\n",
    "            \n",
    "            # Extract article information based on the CNN structure\n",
    "            for article in soup.find_all(\"article\"):\n",
    "                title_element = article.find(\"span\", class_=\"headline\")\n",
    "                text_element = article.find(\"div\", class_=\"body\")\n",
    "                date_element = article.find(\"time\", class_=\"date-time\")  # Assuming this class exists\n",
    "                image_element = article.find(\"img\")\n",
    "                \n",
    "                article_info = {\n",
    "                    \"Title\": title_element.get_text() if title_element else None,\n",
    "                    \"Text\": text_element.get_text() if text_element else None,\n",
    "                    \"Date\": date_element[\"datetime\"] if date_element else None,\n",
    "                    \"Image\": image_element[\"src\"] if image_element else None,\n",
    "                    \"Website\": \"CNN\",\n",
    "                    \"Link\": url\n",
    "                }\n",
    "                articles.append(article_info)\n",
    "        else:\n",
    "            print(f\"Failed to fetch {url}\")\n",
    "    except Exception as e:\n",
    "        print(f\"An error occurred while crawling {url}: {e}\")\n",
    "\n",
    "# Main function\n",
    "def main():\n",
    "    for url in initial_urls:\n",
    "        if \"foreignpolicy\" in url:\n",
    "            crawl_foreign_policy(url)\n",
    "        elif \"cnn\" in url:\n",
    "            crawl_cnn(url)\n",
    "        else:\n",
    "            print(f\"Unsupported website: {url}\")\n",
    "    \n",
    "    # Create a DataFrame from the article information\n",
    "    df = pd.DataFrame(articles)\n",
    "    df.to_csv(\"crawledasrticles.csv\", index=False)\n",
    "\n",
    "if __name__ == \"__main__\":\n",
    "    main()\n"
   ]
  },
  {
   "cell_type": "code",
   "execution_count": 22,
   "id": "b200013c",
   "metadata": {},
   "outputs": [
    {
     "ename": "EmptyDataError",
     "evalue": "No columns to parse from file",
     "output_type": "error",
     "traceback": [
      "\u001b[1;31m---------------------------------------------------------------------------\u001b[0m",
      "\u001b[1;31mEmptyDataError\u001b[0m                            Traceback (most recent call last)",
      "Cell \u001b[1;32mIn[22], line 2\u001b[0m\n\u001b[0;32m      1\u001b[0m \u001b[38;5;28;01mimport\u001b[39;00m \u001b[38;5;21;01mpandas\u001b[39;00m \u001b[38;5;28;01mas\u001b[39;00m \u001b[38;5;21;01mpd\u001b[39;00m\n\u001b[1;32m----> 2\u001b[0m df33 \u001b[38;5;241m=\u001b[39m \u001b[43mpd\u001b[49m\u001b[38;5;241;43m.\u001b[39;49m\u001b[43mread_csv\u001b[49m\u001b[43m(\u001b[49m\u001b[38;5;124;43m'\u001b[39;49m\u001b[38;5;124;43mcrawledasrticles.csv\u001b[39;49m\u001b[38;5;124;43m'\u001b[39;49m\u001b[43m)\u001b[49m\n\u001b[0;32m      3\u001b[0m df33\n",
      "File \u001b[1;32m~\\anaconda3\\lib\\site-packages\\pandas\\util\\_decorators.py:211\u001b[0m, in \u001b[0;36mdeprecate_kwarg.<locals>._deprecate_kwarg.<locals>.wrapper\u001b[1;34m(*args, **kwargs)\u001b[0m\n\u001b[0;32m    209\u001b[0m     \u001b[38;5;28;01melse\u001b[39;00m:\n\u001b[0;32m    210\u001b[0m         kwargs[new_arg_name] \u001b[38;5;241m=\u001b[39m new_arg_value\n\u001b[1;32m--> 211\u001b[0m \u001b[38;5;28;01mreturn\u001b[39;00m func(\u001b[38;5;241m*\u001b[39margs, \u001b[38;5;241m*\u001b[39m\u001b[38;5;241m*\u001b[39mkwargs)\n",
      "File \u001b[1;32m~\\anaconda3\\lib\\site-packages\\pandas\\util\\_decorators.py:331\u001b[0m, in \u001b[0;36mdeprecate_nonkeyword_arguments.<locals>.decorate.<locals>.wrapper\u001b[1;34m(*args, **kwargs)\u001b[0m\n\u001b[0;32m    325\u001b[0m \u001b[38;5;28;01mif\u001b[39;00m \u001b[38;5;28mlen\u001b[39m(args) \u001b[38;5;241m>\u001b[39m num_allow_args:\n\u001b[0;32m    326\u001b[0m     warnings\u001b[38;5;241m.\u001b[39mwarn(\n\u001b[0;32m    327\u001b[0m         msg\u001b[38;5;241m.\u001b[39mformat(arguments\u001b[38;5;241m=\u001b[39m_format_argument_list(allow_args)),\n\u001b[0;32m    328\u001b[0m         \u001b[38;5;167;01mFutureWarning\u001b[39;00m,\n\u001b[0;32m    329\u001b[0m         stacklevel\u001b[38;5;241m=\u001b[39mfind_stack_level(),\n\u001b[0;32m    330\u001b[0m     )\n\u001b[1;32m--> 331\u001b[0m \u001b[38;5;28;01mreturn\u001b[39;00m func(\u001b[38;5;241m*\u001b[39margs, \u001b[38;5;241m*\u001b[39m\u001b[38;5;241m*\u001b[39mkwargs)\n",
      "File \u001b[1;32m~\\anaconda3\\lib\\site-packages\\pandas\\io\\parsers\\readers.py:950\u001b[0m, in \u001b[0;36mread_csv\u001b[1;34m(filepath_or_buffer, sep, delimiter, header, names, index_col, usecols, squeeze, prefix, mangle_dupe_cols, dtype, engine, converters, true_values, false_values, skipinitialspace, skiprows, skipfooter, nrows, na_values, keep_default_na, na_filter, verbose, skip_blank_lines, parse_dates, infer_datetime_format, keep_date_col, date_parser, dayfirst, cache_dates, iterator, chunksize, compression, thousands, decimal, lineterminator, quotechar, quoting, doublequote, escapechar, comment, encoding, encoding_errors, dialect, error_bad_lines, warn_bad_lines, on_bad_lines, delim_whitespace, low_memory, memory_map, float_precision, storage_options)\u001b[0m\n\u001b[0;32m    935\u001b[0m kwds_defaults \u001b[38;5;241m=\u001b[39m _refine_defaults_read(\n\u001b[0;32m    936\u001b[0m     dialect,\n\u001b[0;32m    937\u001b[0m     delimiter,\n\u001b[1;32m   (...)\u001b[0m\n\u001b[0;32m    946\u001b[0m     defaults\u001b[38;5;241m=\u001b[39m{\u001b[38;5;124m\"\u001b[39m\u001b[38;5;124mdelimiter\u001b[39m\u001b[38;5;124m\"\u001b[39m: \u001b[38;5;124m\"\u001b[39m\u001b[38;5;124m,\u001b[39m\u001b[38;5;124m\"\u001b[39m},\n\u001b[0;32m    947\u001b[0m )\n\u001b[0;32m    948\u001b[0m kwds\u001b[38;5;241m.\u001b[39mupdate(kwds_defaults)\n\u001b[1;32m--> 950\u001b[0m \u001b[38;5;28;01mreturn\u001b[39;00m \u001b[43m_read\u001b[49m\u001b[43m(\u001b[49m\u001b[43mfilepath_or_buffer\u001b[49m\u001b[43m,\u001b[49m\u001b[43m \u001b[49m\u001b[43mkwds\u001b[49m\u001b[43m)\u001b[49m\n",
      "File \u001b[1;32m~\\anaconda3\\lib\\site-packages\\pandas\\io\\parsers\\readers.py:605\u001b[0m, in \u001b[0;36m_read\u001b[1;34m(filepath_or_buffer, kwds)\u001b[0m\n\u001b[0;32m    602\u001b[0m _validate_names(kwds\u001b[38;5;241m.\u001b[39mget(\u001b[38;5;124m\"\u001b[39m\u001b[38;5;124mnames\u001b[39m\u001b[38;5;124m\"\u001b[39m, \u001b[38;5;28;01mNone\u001b[39;00m))\n\u001b[0;32m    604\u001b[0m \u001b[38;5;66;03m# Create the parser.\u001b[39;00m\n\u001b[1;32m--> 605\u001b[0m parser \u001b[38;5;241m=\u001b[39m TextFileReader(filepath_or_buffer, \u001b[38;5;241m*\u001b[39m\u001b[38;5;241m*\u001b[39mkwds)\n\u001b[0;32m    607\u001b[0m \u001b[38;5;28;01mif\u001b[39;00m chunksize \u001b[38;5;129;01mor\u001b[39;00m iterator:\n\u001b[0;32m    608\u001b[0m     \u001b[38;5;28;01mreturn\u001b[39;00m parser\n",
      "File \u001b[1;32m~\\anaconda3\\lib\\site-packages\\pandas\\io\\parsers\\readers.py:1442\u001b[0m, in \u001b[0;36mTextFileReader.__init__\u001b[1;34m(self, f, engine, **kwds)\u001b[0m\n\u001b[0;32m   1439\u001b[0m     \u001b[38;5;28mself\u001b[39m\u001b[38;5;241m.\u001b[39moptions[\u001b[38;5;124m\"\u001b[39m\u001b[38;5;124mhas_index_names\u001b[39m\u001b[38;5;124m\"\u001b[39m] \u001b[38;5;241m=\u001b[39m kwds[\u001b[38;5;124m\"\u001b[39m\u001b[38;5;124mhas_index_names\u001b[39m\u001b[38;5;124m\"\u001b[39m]\n\u001b[0;32m   1441\u001b[0m \u001b[38;5;28mself\u001b[39m\u001b[38;5;241m.\u001b[39mhandles: IOHandles \u001b[38;5;241m|\u001b[39m \u001b[38;5;28;01mNone\u001b[39;00m \u001b[38;5;241m=\u001b[39m \u001b[38;5;28;01mNone\u001b[39;00m\n\u001b[1;32m-> 1442\u001b[0m \u001b[38;5;28mself\u001b[39m\u001b[38;5;241m.\u001b[39m_engine \u001b[38;5;241m=\u001b[39m \u001b[38;5;28;43mself\u001b[39;49m\u001b[38;5;241;43m.\u001b[39;49m\u001b[43m_make_engine\u001b[49m\u001b[43m(\u001b[49m\u001b[43mf\u001b[49m\u001b[43m,\u001b[49m\u001b[43m \u001b[49m\u001b[38;5;28;43mself\u001b[39;49m\u001b[38;5;241;43m.\u001b[39;49m\u001b[43mengine\u001b[49m\u001b[43m)\u001b[49m\n",
      "File \u001b[1;32m~\\anaconda3\\lib\\site-packages\\pandas\\io\\parsers\\readers.py:1753\u001b[0m, in \u001b[0;36mTextFileReader._make_engine\u001b[1;34m(self, f, engine)\u001b[0m\n\u001b[0;32m   1750\u001b[0m     \u001b[38;5;28;01mraise\u001b[39;00m \u001b[38;5;167;01mValueError\u001b[39;00m(msg)\n\u001b[0;32m   1752\u001b[0m \u001b[38;5;28;01mtry\u001b[39;00m:\n\u001b[1;32m-> 1753\u001b[0m     \u001b[38;5;28;01mreturn\u001b[39;00m mapping[engine](f, \u001b[38;5;241m*\u001b[39m\u001b[38;5;241m*\u001b[39m\u001b[38;5;28mself\u001b[39m\u001b[38;5;241m.\u001b[39moptions)\n\u001b[0;32m   1754\u001b[0m \u001b[38;5;28;01mexcept\u001b[39;00m \u001b[38;5;167;01mException\u001b[39;00m:\n\u001b[0;32m   1755\u001b[0m     \u001b[38;5;28;01mif\u001b[39;00m \u001b[38;5;28mself\u001b[39m\u001b[38;5;241m.\u001b[39mhandles \u001b[38;5;129;01mis\u001b[39;00m \u001b[38;5;129;01mnot\u001b[39;00m \u001b[38;5;28;01mNone\u001b[39;00m:\n",
      "File \u001b[1;32m~\\anaconda3\\lib\\site-packages\\pandas\\io\\parsers\\c_parser_wrapper.py:79\u001b[0m, in \u001b[0;36mCParserWrapper.__init__\u001b[1;34m(self, src, **kwds)\u001b[0m\n\u001b[0;32m     76\u001b[0m     kwds\u001b[38;5;241m.\u001b[39mpop(key, \u001b[38;5;28;01mNone\u001b[39;00m)\n\u001b[0;32m     78\u001b[0m kwds[\u001b[38;5;124m\"\u001b[39m\u001b[38;5;124mdtype\u001b[39m\u001b[38;5;124m\"\u001b[39m] \u001b[38;5;241m=\u001b[39m ensure_dtype_objs(kwds\u001b[38;5;241m.\u001b[39mget(\u001b[38;5;124m\"\u001b[39m\u001b[38;5;124mdtype\u001b[39m\u001b[38;5;124m\"\u001b[39m, \u001b[38;5;28;01mNone\u001b[39;00m))\n\u001b[1;32m---> 79\u001b[0m \u001b[38;5;28mself\u001b[39m\u001b[38;5;241m.\u001b[39m_reader \u001b[38;5;241m=\u001b[39m parsers\u001b[38;5;241m.\u001b[39mTextReader(src, \u001b[38;5;241m*\u001b[39m\u001b[38;5;241m*\u001b[39mkwds)\n\u001b[0;32m     81\u001b[0m \u001b[38;5;28mself\u001b[39m\u001b[38;5;241m.\u001b[39munnamed_cols \u001b[38;5;241m=\u001b[39m \u001b[38;5;28mself\u001b[39m\u001b[38;5;241m.\u001b[39m_reader\u001b[38;5;241m.\u001b[39munnamed_cols\n\u001b[0;32m     83\u001b[0m \u001b[38;5;66;03m# error: Cannot determine type of 'names'\u001b[39;00m\n",
      "File \u001b[1;32m~\\anaconda3\\lib\\site-packages\\pandas\\_libs\\parsers.pyx:554\u001b[0m, in \u001b[0;36mpandas._libs.parsers.TextReader.__cinit__\u001b[1;34m()\u001b[0m\n",
      "\u001b[1;31mEmptyDataError\u001b[0m: No columns to parse from file"
     ]
    }
   ],
   "source": [
    "import pandas as pd\n",
    "df33 = pd.read_csv('crawledasrticles.csv')\n",
    "df33"
   ]
  },
  {
   "cell_type": "markdown",
   "id": "093c436c",
   "metadata": {},
   "source": [
    "# ========================================="
   ]
  },
  {
   "cell_type": "markdown",
   "id": "4f2bf8ea",
   "metadata": {},
   "source": [
    "# web robot that works"
   ]
  },
  {
   "cell_type": "code",
   "execution_count": 11,
   "id": "46271ac7",
   "metadata": {},
   "outputs": [
    {
     "name": "stdout",
     "output_type": "stream",
     "text": [
      "Data has been saved to google_news_articles.csv\n"
     ]
    }
   ],
   "source": [
    "import requests\n",
    "from bs4 import BeautifulSoup\n",
    "import csv\n",
    "\n",
    "# Set up the URL and headers\n",
    "base_url = \"https://news.google.com\"\n",
    "search_term = ['politics','foreign','tunisia']\n",
    "url = f\"{base_url}/search?q={search_term}&hl=en-US&gl=US&ceid=US:en\"\n",
    "headers = {\n",
    "    \"User-Agent\": \"Mozilla/5.0 (Windows NT 10.0; Win64; x64) AppleWebKit/537.36 (KHTML, like Gecko) Chrome/58.0.3029.110 Safari/537.3\"\n",
    "}\n",
    "\n",
    "# Send a GET request to the Google News search results page\n",
    "response = requests.get(url, headers=headers)\n",
    "soup = BeautifulSoup(response.content, \"html.parser\")\n",
    "\n",
    "# Find article elements\n",
    "article_elements = soup.find_all(\"h3\", class_=\"ipQwMb ekueJc RD0gLb\")\n",
    "\n",
    "# Create a list to store the extracted data\n",
    "data = []\n",
    "\n",
    "# Extract article titles and links and store in the data list\n",
    "for article_element in article_elements:\n",
    "    article_title = article_element.get_text()\n",
    "    article_link = base_url + article_element.a[\"href\"][1:]\n",
    "    data.append([article_title, article_link])\n",
    "\n",
    "# Define the CSV file name\n",
    "csv_file_name = \"google_news_articles.csv\"\n",
    "\n",
    "# Write the data to the CSV file\n",
    "with open(csv_file_name, \"w\", newline=\"\", encoding=\"utf-8\") as csvfile:\n",
    "    csv_writer = csv.writer(csvfile)\n",
    "    csv_writer.writerow([\"Title\", \"Link\"])  # Write header\n",
    "    csv_writer.writerows(data)  # Write data rows\n",
    "\n",
    "print(f\"Data has been saved to {csv_file_name}\")\n"
   ]
  },
  {
   "cell_type": "code",
   "execution_count": 12,
   "id": "5e683470",
   "metadata": {},
   "outputs": [
    {
     "data": {
      "text/html": [
       "<div>\n",
       "<style scoped>\n",
       "    .dataframe tbody tr th:only-of-type {\n",
       "        vertical-align: middle;\n",
       "    }\n",
       "\n",
       "    .dataframe tbody tr th {\n",
       "        vertical-align: top;\n",
       "    }\n",
       "\n",
       "    .dataframe thead th {\n",
       "        text-align: right;\n",
       "    }\n",
       "</style>\n",
       "<table border=\"1\" class=\"dataframe\">\n",
       "  <thead>\n",
       "    <tr style=\"text-align: right;\">\n",
       "      <th></th>\n",
       "      <th>Title</th>\n",
       "      <th>Link</th>\n",
       "    </tr>\n",
       "  </thead>\n",
       "  <tbody>\n",
       "    <tr>\n",
       "      <th>0</th>\n",
       "      <td>Analysis: Tunisia isolated, but migration real...</td>\n",
       "      <td>https://news.google.com/articles/CBMibmh0dHBzO...</td>\n",
       "    </tr>\n",
       "    <tr>\n",
       "      <th>1</th>\n",
       "      <td>Europe's 'template' for migration: Tunisian st...</td>\n",
       "      <td>https://news.google.com/articles/CBMiU2h0dHBzO...</td>\n",
       "    </tr>\n",
       "    <tr>\n",
       "      <th>2</th>\n",
       "      <td>Analysis: Libyan Foreign Minister Dismissed Fo...</td>\n",
       "      <td>https://news.google.com/articles/CBMihAFodHRwc...</td>\n",
       "    </tr>\n",
       "    <tr>\n",
       "      <th>3</th>\n",
       "      <td>Tunisia-Libya: closer ties between the two nei...</td>\n",
       "      <td>https://news.google.com/articles/CBMihAFodHRwc...</td>\n",
       "    </tr>\n",
       "    <tr>\n",
       "      <th>4</th>\n",
       "      <td>Tunisian contech startup, SeekMake, gets $539K...</td>\n",
       "      <td>https://news.google.com/articles/CBMiRWh0dHBzO...</td>\n",
       "    </tr>\n",
       "    <tr>\n",
       "      <th>...</th>\n",
       "      <td>...</td>\n",
       "      <td>...</td>\n",
       "    </tr>\n",
       "    <tr>\n",
       "      <th>94</th>\n",
       "      <td>Tunisia Continues to Face Substantial Financin...</td>\n",
       "      <td>https://news.google.com/articles/CBMicWh0dHBzO...</td>\n",
       "    </tr>\n",
       "    <tr>\n",
       "      <th>95</th>\n",
       "      <td>Tunisia’s choice: Migration and realpolitik in...</td>\n",
       "      <td>https://news.google.com/articles/CBMiZGh0dHBzO...</td>\n",
       "    </tr>\n",
       "    <tr>\n",
       "      <th>96</th>\n",
       "      <td>Natasha S. Franceschi Deputy Chief of Mission</td>\n",
       "      <td>https://news.google.com/articles/CBMiV2h0dHBzO...</td>\n",
       "    </tr>\n",
       "    <tr>\n",
       "      <th>97</th>\n",
       "      <td>Dina Preston Band Brings the Power of Music an...</td>\n",
       "      <td>https://news.google.com/articles/CBMiLmh0dHBzO...</td>\n",
       "    </tr>\n",
       "    <tr>\n",
       "      <th>98</th>\n",
       "      <td>Murphy Discusses Aid to Tunisia, Competition w...</td>\n",
       "      <td>https://news.google.com/articles/CBMilAFodHRwc...</td>\n",
       "    </tr>\n",
       "  </tbody>\n",
       "</table>\n",
       "<p>99 rows × 2 columns</p>\n",
       "</div>"
      ],
      "text/plain": [
       "                                                Title  \\\n",
       "0   Analysis: Tunisia isolated, but migration real...   \n",
       "1   Europe's 'template' for migration: Tunisian st...   \n",
       "2   Analysis: Libyan Foreign Minister Dismissed Fo...   \n",
       "3   Tunisia-Libya: closer ties between the two nei...   \n",
       "4   Tunisian contech startup, SeekMake, gets $539K...   \n",
       "..                                                ...   \n",
       "94  Tunisia Continues to Face Substantial Financin...   \n",
       "95  Tunisia’s choice: Migration and realpolitik in...   \n",
       "96      Natasha S. Franceschi Deputy Chief of Mission   \n",
       "97  Dina Preston Band Brings the Power of Music an...   \n",
       "98  Murphy Discusses Aid to Tunisia, Competition w...   \n",
       "\n",
       "                                                 Link  \n",
       "0   https://news.google.com/articles/CBMibmh0dHBzO...  \n",
       "1   https://news.google.com/articles/CBMiU2h0dHBzO...  \n",
       "2   https://news.google.com/articles/CBMihAFodHRwc...  \n",
       "3   https://news.google.com/articles/CBMihAFodHRwc...  \n",
       "4   https://news.google.com/articles/CBMiRWh0dHBzO...  \n",
       "..                                                ...  \n",
       "94  https://news.google.com/articles/CBMicWh0dHBzO...  \n",
       "95  https://news.google.com/articles/CBMiZGh0dHBzO...  \n",
       "96  https://news.google.com/articles/CBMiV2h0dHBzO...  \n",
       "97  https://news.google.com/articles/CBMiLmh0dHBzO...  \n",
       "98  https://news.google.com/articles/CBMilAFodHRwc...  \n",
       "\n",
       "[99 rows x 2 columns]"
      ]
     },
     "execution_count": 12,
     "metadata": {},
     "output_type": "execute_result"
    }
   ],
   "source": [
    "import pandas as pd\n",
    "df33 = pd.read_csv('google_news_articles.csv')\n",
    "df33"
   ]
  },
  {
   "cell_type": "markdown",
   "id": "c97ea8da",
   "metadata": {},
   "source": [
    "# with dates "
   ]
  },
  {
   "cell_type": "code",
   "execution_count": 13,
   "id": "6250a0b7",
   "metadata": {},
   "outputs": [
    {
     "name": "stdout",
     "output_type": "stream",
     "text": [
      "Political news data has been saved to political_news_articles2.csv\n"
     ]
    }
   ],
   "source": [
    "import requests\n",
    "from bs4 import BeautifulSoup\n",
    "import csv\n",
    "import re\n",
    "# Set up the URL and headers\n",
    "base_url = \"https://news.google.com\"\n",
    "search_term = ['politics','foreign']\n",
    "url = f\"{base_url}/search?q={search_term}&hl=en-US&gl=US&ceid=US:en\"\n",
    "headers = {\n",
    "    \"User-Agent\": \"Mozilla/5.0 (Windows NT 10.0; Win64; x64) AppleWebKit/537.36 (KHTML, like Gecko) Chrome/58.0.3029.110 Safari/537.3\"\n",
    "}\n",
    "\n",
    "# Send a GET request to the Google News search results page\n",
    "response = requests.get(url, headers=headers)\n",
    "soup = BeautifulSoup(response.content, \"html.parser\")\n",
    "\n",
    "# Find article elements\n",
    "article_elements = soup.find_all(\"h3\", class_=\"ipQwMb ekueJc RD0gLb\")\n",
    "\n",
    "# Create a list to store the extracted data\n",
    "data = []\n",
    "\n",
    "\n",
    "# Extract article titles, links, and dates and store in the data list\n",
    "for article_element in article_elements:\n",
    "    article_title = article_element.get_text()\n",
    "    article_link = base_url + article_element.a[\"href\"][1:]\n",
    "    \n",
    "    # Extract the publishing date if available\n",
    "    date_element = article_element.find_next(\"time\")\n",
    "    if date_element and \"datetime\" in date_element.attrs:\n",
    "        article_date = date_element[\"datetime\"][:10]  # Extract the first 10 characters as the date\n",
    "    else:\n",
    "        article_date = \"No Date Available\"\n",
    "    \n",
    "    data.append([article_title, article_link, article_date])\n",
    "# Define the CSV file name\n",
    "csv_file_name = \"political_news_articles2.csv\"\n",
    "\n",
    "# Write the data to the CSV file\n",
    "with open(csv_file_name, \"w\", newline=\"\", encoding=\"utf-8\") as csvfile:\n",
    "    csv_writer = csv.writer(csvfile)\n",
    "    csv_writer.writerow([\"Title\", \"Link\", \"Date\"])  # Write header\n",
    "    csv_writer.writerows(data)  # Write data rows\n",
    "\n",
    "print(f\"Political news data has been saved to {csv_file_name}\")\n"
   ]
  },
  {
   "cell_type": "code",
   "execution_count": 16,
   "id": "344454aa",
   "metadata": {},
   "outputs": [
    {
     "data": {
      "text/html": [
       "<div>\n",
       "<style scoped>\n",
       "    .dataframe tbody tr th:only-of-type {\n",
       "        vertical-align: middle;\n",
       "    }\n",
       "\n",
       "    .dataframe tbody tr th {\n",
       "        vertical-align: top;\n",
       "    }\n",
       "\n",
       "    .dataframe thead th {\n",
       "        text-align: right;\n",
       "    }\n",
       "</style>\n",
       "<table border=\"1\" class=\"dataframe\">\n",
       "  <thead>\n",
       "    <tr style=\"text-align: right;\">\n",
       "      <th></th>\n",
       "      <th>Title</th>\n",
       "      <th>Link</th>\n",
       "      <th>Date</th>\n",
       "    </tr>\n",
       "  </thead>\n",
       "  <tbody>\n",
       "    <tr>\n",
       "      <th>0</th>\n",
       "      <td>U.S-China Rivalry Plays Out in Vanuatu's Politics</td>\n",
       "      <td>https://news.google.com/articles/CBMiU2h0dHBzO...</td>\n",
       "      <td>2023-08-28</td>\n",
       "    </tr>\n",
       "    <tr>\n",
       "      <th>1</th>\n",
       "      <td>Foreign Ministry Spokesperson Wang Wenbin's Re...</td>\n",
       "      <td>https://news.google.com/articles/CBMiVGh0dHBzO...</td>\n",
       "      <td>2023-08-29</td>\n",
       "    </tr>\n",
       "    <tr>\n",
       "      <th>2</th>\n",
       "      <td>Georgetown University Institute of Politics an...</td>\n",
       "      <td>https://news.google.com/articles/CBMipwFodHRwc...</td>\n",
       "      <td>2023-08-28</td>\n",
       "    </tr>\n",
       "    <tr>\n",
       "      <th>3</th>\n",
       "      <td>Democrat introduces bill to limit defense cont...</td>\n",
       "      <td>https://news.google.com/articles/CBMiiQFodHRwc...</td>\n",
       "      <td>2023-08-29</td>\n",
       "    </tr>\n",
       "    <tr>\n",
       "      <th>4</th>\n",
       "      <td>Libya’s Foreign Minister Najla al-Mangoush dis...</td>\n",
       "      <td>https://news.google.com/articles/CBMic2h0dHBzO...</td>\n",
       "      <td>2023-08-28</td>\n",
       "    </tr>\n",
       "    <tr>\n",
       "      <th>...</th>\n",
       "      <td>...</td>\n",
       "      <td>...</td>\n",
       "      <td>...</td>\n",
       "    </tr>\n",
       "    <tr>\n",
       "      <th>94</th>\n",
       "      <td>NATO Bid Puts Pressure on Sweden’s Domestic Po...</td>\n",
       "      <td>https://news.google.com/articles/CBMiWWh0dHBzO...</td>\n",
       "      <td>2023-04-20</td>\n",
       "    </tr>\n",
       "    <tr>\n",
       "      <th>95</th>\n",
       "      <td>The DeSantis Foreign Policy: Hard Power, but W...</td>\n",
       "      <td>https://news.google.com/articles/CBMiT2h0dHBzO...</td>\n",
       "      <td>2023-03-22</td>\n",
       "    </tr>\n",
       "    <tr>\n",
       "      <th>96</th>\n",
       "      <td>Secretary Antony J. Blinken and Italian Foreig...</td>\n",
       "      <td>https://news.google.com/articles/CBMie2h0dHBzO...</td>\n",
       "      <td>2023-06-12</td>\n",
       "    </tr>\n",
       "    <tr>\n",
       "      <th>97</th>\n",
       "      <td>What Does the West Really Know About Xi's China?</td>\n",
       "      <td>https://news.google.com/articles/CBMiT2h0dHBzO...</td>\n",
       "      <td>2023-06-13</td>\n",
       "    </tr>\n",
       "    <tr>\n",
       "      <th>98</th>\n",
       "      <td>From Political Islam to Muslim Democracy</td>\n",
       "      <td>https://news.google.com/articles/CBMiT2h0dHBzO...</td>\n",
       "      <td>2016-08-19</td>\n",
       "    </tr>\n",
       "  </tbody>\n",
       "</table>\n",
       "<p>99 rows × 3 columns</p>\n",
       "</div>"
      ],
      "text/plain": [
       "                                                Title  \\\n",
       "0   U.S-China Rivalry Plays Out in Vanuatu's Politics   \n",
       "1   Foreign Ministry Spokesperson Wang Wenbin's Re...   \n",
       "2   Georgetown University Institute of Politics an...   \n",
       "3   Democrat introduces bill to limit defense cont...   \n",
       "4   Libya’s Foreign Minister Najla al-Mangoush dis...   \n",
       "..                                                ...   \n",
       "94  NATO Bid Puts Pressure on Sweden’s Domestic Po...   \n",
       "95  The DeSantis Foreign Policy: Hard Power, but W...   \n",
       "96  Secretary Antony J. Blinken and Italian Foreig...   \n",
       "97   What Does the West Really Know About Xi's China?   \n",
       "98           From Political Islam to Muslim Democracy   \n",
       "\n",
       "                                                 Link        Date  \n",
       "0   https://news.google.com/articles/CBMiU2h0dHBzO...  2023-08-28  \n",
       "1   https://news.google.com/articles/CBMiVGh0dHBzO...  2023-08-29  \n",
       "2   https://news.google.com/articles/CBMipwFodHRwc...  2023-08-28  \n",
       "3   https://news.google.com/articles/CBMiiQFodHRwc...  2023-08-29  \n",
       "4   https://news.google.com/articles/CBMic2h0dHBzO...  2023-08-28  \n",
       "..                                                ...         ...  \n",
       "94  https://news.google.com/articles/CBMiWWh0dHBzO...  2023-04-20  \n",
       "95  https://news.google.com/articles/CBMiT2h0dHBzO...  2023-03-22  \n",
       "96  https://news.google.com/articles/CBMie2h0dHBzO...  2023-06-12  \n",
       "97  https://news.google.com/articles/CBMiT2h0dHBzO...  2023-06-13  \n",
       "98  https://news.google.com/articles/CBMiT2h0dHBzO...  2016-08-19  \n",
       "\n",
       "[99 rows x 3 columns]"
      ]
     },
     "execution_count": 16,
     "metadata": {},
     "output_type": "execute_result"
    }
   ],
   "source": [
    "import pandas as pd\n",
    "dfGS = pd.read_csv('political_news_articles2.csv')\n",
    "dfGS"
   ]
  },
  {
   "cell_type": "code",
   "execution_count": null,
   "id": "f1eafa6b",
   "metadata": {},
   "outputs": [],
   "source": [
    "from bs4 import BeautifulSoup\n",
    "import csv\n",
    "import re\n",
    "\n",
    "# Set up the URL and headers\n",
    "base_url = \"https://news.google.com\"\n",
    "search_term = ['politics','foreign']\n",
    "url = f\"{base_url}/search?q={search_term}&hl=en-US&gl=US&ceid=US:en\"\n",
    "headers = {\n",
    "    \"User-Agent\": \"Mozilla/5.0 (Windows NT 10.0; Win64; x64) AppleWebKit/537.36 (KHTML, like Gecko) Chrome/58.0.3029.110 Safari/537.3\"\n",
    "}\n",
    "\n",
    "# Send a GET request to the Google News search results page\n",
    "response = requests.get(url, headers=headers)\n",
    "soup = BeautifulSoup(response.content, \"html.parser\")\n",
    "\n",
    "# Find article elements\n",
    "article_elements = soup.find_all(\"h3\", class_=\"ipQwMb ekueJc RD0gLb\")\n",
    "\n",
    "# Create a list to store the extracted data\n",
    "data = []\n",
    "\n",
    "# Extract article titles, links, images, and dates and store in the data list\n",
    "for article_element in article_elements:\n",
    "    article_title = article_element.get_text()\n",
    "    article_link = base_url + article_element.a[\"href\"][1:]\n",
    "\n",
    "    # Extract the publishing date if available\n",
    "    date_element = article_element.find_next(\"time\")\n",
    "    if date_element and \"datetime\" in date_element.attrs:\n",
    "        article_date = date_element[\"datetime\"][:10]  # Extract the first 10 characters as the date\n",
    "    else:\n",
    "        article_date = \"No Date Available\"\n",
    "    \n",
    "    # Extract the image if available\n",
    "    image_element = article_element.find_next(\"img\")\n",
    "    if image_element and \"src\" in image_element.attrs:\n",
    "        article_image = image_element[\"src\"]\n",
    "    else:\n",
    "        article_image = \"No Image Available\"\n",
    "    \n",
    "    data.append([article_title, article_link, article_date, article_image])\n",
    "\n",
    "# Define the CSV file name\n",
    "csv_file_name = \"political_news1.csv\"\n",
    "\n",
    "# Write the data to the CSV file\n",
    "with open(csv_file_name, \"w\", newline=\"\", encoding=\"utf-8\") as csvfile:\n",
    "    csv_writer = csv.writer(csvfile)\n",
    "    csv_writer.writerow([\"Title\", \"Link\", \"Date\", \"Image\"])  # Write header\n",
    "    csv_writer.writerows(data)  # Write data rows\n",
    "\n",
    "print(f\"Political news data with images has been saved to {csv_file_name}\")"
   ]
  },
  {
   "cell_type": "code",
   "execution_count": null,
   "id": "fe855f58",
   "metadata": {},
   "outputs": [],
   "source": [
    "import pandas as pd\n",
    "dfGS22 = pd.read_csv('political_news1.csv')\n",
    "dfGS22"
   ]
  },
  {
   "cell_type": "code",
   "execution_count": 38,
   "id": "d3721275",
   "metadata": {},
   "outputs": [
    {
     "data": {
      "text/html": [
       "<table border=\"1\" class=\"dataframe\">\n",
       "  <thead>\n",
       "    <tr style=\"text-align: right;\">\n",
       "      <th></th>\n",
       "      <th>Title</th>\n",
       "      <th>Link</th>\n",
       "      <th>Date</th>\n",
       "      <th>Image</th>\n",
       "    </tr>\n",
       "  </thead>\n",
       "  <tbody>\n",
       "    <tr>\n",
       "      <th>0</th>\n",
       "      <td>U.S-China Rivalry Plays Out in Vanuatu's Politics</td>\n",
       "      <td>https://news.google.com/articles/CBMiU2h0dHBzOi8vZm9yZWlnbnBvbGljeS5jb20vMjAyMy8wOC8yOC92YW51YXR1LXVzLWNoaW5hLWNvbXBldGl0aW9uLXBhY2lmaWMtc2VjdXJpdHkv0gEA?hl=en-US&gl=US&ceid=US%3Aen</td>\n",
       "      <td>2023-08-28</td>\n",
       "      <td><img src=\"data:image/jpeg;base64,<img src=\"data:image/jpeg;base64,https://lh3.googleusercontent.com/proxy/OnATUbWPEbrcfnGlgMFCt1o2M8LkQmqbhnh08NYjGyoA0zAIq5QOc073EfHEjjqNoU2JnL07KL3YkFMHNyQMHbCL03TW-Jmic_dLIC_WxvrHlC4WcljJXvBGTqLxR-1jkUM-DiQJ=s0-w100-h100-rw-dcFVOOqKUI\" width=\"200\" />\" width=\"200\" /></td>\n",
       "    </tr>\n",
       "    <tr>\n",
       "      <th>1</th>\n",
       "      <td>Georgetown University Institute of Politics and Public Service and ...</td>\n",
       "      <td>https://news.google.com/articles/CBMipwFodHRwczovL3d3dy5hcC5vcmcvcHJlc3MtcmVsZWFzZXMvMjAyMy9nZW9yZ2V0b3duLXVuaXZlcnNpdHktaW5zdGl0dXRlLW9mLXBvbGl0aWNzLWFuZC1wdWJsaWMtc2VydmljZS1hbmQtdGhlLWFzc29jaWF0ZWQtcHJlc3MtdG8taG9zdC1uYXRpb25hbC1zZWN1cml0eS1hbmQtZm9yZWlnbi1wb9IBAA?hl=en-US&gl=US&ceid=US%3Aen</td>\n",
       "      <td>2023-08-28</td>\n",
       "      <td><img src=\"data:image/jpeg;base64,<img src=\"data:image/jpeg;base64,https://lh3.googleusercontent.com/proxy/RNVUW4lllIn7d7dIYTZFcAPEZj2usY8PGY2nAsNa19Lk7FQbESFnzjJI-VBxStq4wvHNbwLoQmE_JGHCbTi9JSlEJVcr6Mx_Ag-o_QZpQXwDWNFUnsr5tvBe_cNx4q7L0PcshD6KF_f7x4m0Zq9F3MkBLP1aT3rKt0E0dFBTO3UscsXJv2EzZ7SZO3f4Rlelzsb-s0E8re0e-CYwrxiYgz8Iq3PNcp3WFkiXce8raW1MMhdlt1CH5ClFv37buyys=s0-w100-h100-rw-dcEYWOrq0H\" width=\"200\" />\" width=\"200\" /></td>\n",
       "    </tr>\n",
       "    <tr>\n",
       "      <th>2</th>\n",
       "      <td>Libya’s Foreign Minister Najla al-Mangoush dismissed: Sources</td>\n",
       "      <td>https://news.google.com/articles/CBMic2h0dHBzOi8vd3d3LmFsamF6ZWVyYS5jb20vbmV3cy8yMDIzLzgvMjgvbGlieWEtcHJvdGVzdHMtYWZ0ZXItZm9yZWlnbi1taW5pc3Rlci1yZXBvcnRlZGx5LW1ldC13aXRoLWlzcmFlbGktb2ZmaWNpYWzSAXdodHRwczovL3d3dy5hbGphemVlcmEuY29tL2FtcC9uZXdzLzIwMjMvOC8yOC9saWJ5YS1wcm90ZXN0cy1hZnRlci1mb3JlaWduLW1pbmlzdGVyLXJlcG9ydGVkbHktbWV0LXdpdGgtaXNyYWVsaS1vZmZpY2lhbA?hl=en-US&gl=US&ceid=US%3Aen</td>\n",
       "      <td>2023-08-28</td>\n",
       "      <td><img src=\"data:image/jpeg;base64,<img src=\"data:image/jpeg;base64,https://lh3.googleusercontent.com/proxy/nBf1C_oZLhFOyoeQ5WcGdJovEeCe4ImJTaqlF1h5vIeMi59gSdcRmjFUB-Iga5rh4kBptRLmIc1TwytYog9bidCBrkyzfmqBr616xFAU1vFKS3WR9xmzk7yPHcow2A=s0-w100-h100-rw-dcMUWMj6EI\" width=\"200\" />\" width=\"200\" /></td>\n",
       "    </tr>\n",
       "    <tr>\n",
       "      <th>3</th>\n",
       "      <td>Vivek Ramaswamy unveils foreign policy agenda</td>\n",
       "      <td>https://news.google.com/articles/CBMiY2h0dHBzOi8vbnkxLmNvbS9ueWMvYWxsLWJvcm91Z2hzL3BvbGl0aWNzLzIwMjMvMDgvMjgvdml2ZWstcmFtYXN3YW15LXVudmVpbHMtZWNvbm9taWMtcG9saWN5LWFnZW5kYdIBAA?hl=en-US&gl=US&ceid=US%3Aen</td>\n",
       "      <td>2023-08-28</td>\n",
       "      <td><img src=\"data:image/jpeg;base64,<img src=\"data:image/jpeg;base64,https://encrypted-tbn1.gstatic.com/faviconV2?url=https://politics.georgetown.edu&client=NEWS_360&size=96&type=FAVICON&fallback_opts=TYPE,SIZE,URL\" width=\"200\" />\" width=\"200\" /></td>\n",
       "    </tr>\n",
       "    <tr>\n",
       "      <th>4</th>\n",
       "      <td>GOP Presidential Candidate Forum on National Security & Foreign ...</td>\n",
       "      <td>https://news.google.com/articles/CBMiR2h0dHBzOi8vcG9saXRpY3MuZ2VvcmdldG93bi5lZHUvZm9ydW0vZ29wLXByZXNpZGVudGlhbC1jYW5kaWRhdGUtZm9ydW0v0gEA?hl=en-US&gl=US&ceid=US%3Aen</td>\n",
       "      <td>2023-08-28</td>\n",
       "      <td><img src=\"data:image/jpeg;base64,<img src=\"data:image/jpeg;base64,https://lh3.googleusercontent.com/proxy/EneQptAXm0wJ2p5NttaVlOHDwP6cAMbz4rRHPlICQSvnHVgVdzdCZqFU6J0bDn22tvBcByUgR1mF1aYR5A6-0nOQoWmgaKnYgxeOlUY846tGsNyGcGMhjwjpdneWeCCy3I1PePKSGoEomKaliaeF0pfmYL4MW3fcMw=s0-w100-h100-rw-dcAcAM\" width=\"200\" />\" width=\"200\" /></td>\n",
       "    </tr>\n",
       "    <tr>\n",
       "      <th>5</th>\n",
       "      <td>Exclusive: Smuggler with ties to ISIS helped migrants enter US from ...</td>\n",
       "      <td>https://news.google.com/articles/CBMiYWh0dHBzOi8vd3d3LmNubi5jb20vMjAyMy8wOC8yOS9wb2xpdGljcy9taWdyYW50cy11cy1zb3V0aGVybi1ib3JkZXItc211Z2dsZXItaXNpcy10aWVzL2luZGV4Lmh0bWzSAWVodHRwczovL2FtcC5jbm4uY29tL2Nubi8yMDIzLzA4LzI5L3BvbGl0aWNzL21pZ3JhbnRzLXVzLXNvdXRoZXJuLWJvcmRlci1zbXVnZ2xlci1pc2lzLXRpZXMvaW5kZXguaHRtbA?hl=en-US&gl=US&ceid=US%3Aen</td>\n",
       "      <td>2023-08-29</td>\n",
       "      <td><img src=\"data:image/jpeg;base64,<img src=\"data:image/jpeg;base64,https://lh3.googleusercontent.com/proxy/f331Pqu3H3mKn4k66acOSVLjH6o8NFwe1hLkkgr53Nzi59Lagy6bUViZypmsdPhoUsalUYjeCiMQa9my14vKiMePsc5It6dwoMx1yxlTQppbN5dxg1JC-EzsPZ2EWuePmLiropsfAoDnLgiMOi8XJhEndlj5OEFruCW0-3QHvK5JmlU=s0-w100-h100-rw-dcAUCcj50J\" width=\"200\" />\" width=\"200\" /></td>\n",
       "    </tr>\n",
       "    <tr>\n",
       "      <th>6</th>\n",
       "      <td>Rick Scott isn’t sold on reauthorizing powerful foreign surveillance tool</td>\n",
       "      <td>https://news.google.com/articles/CBMiSmh0dHBzOi8vd3d3Lm1pYW1paGVyYWxkLmNvbS9uZXdzL3BvbGl0aWNzLWdvdmVybm1lbnQvYXJ0aWNsZTI3ODYxNDIzOS5odG1s0gFKaHR0cHM6Ly9hbXAubWlhbWloZXJhbGQuY29tL25ld3MvcG9saXRpY3MtZ292ZXJubWVudC9hcnRpY2xlMjc4NjE0MjM5Lmh0bWw?hl=en-US&gl=US&ceid=US%3Aen</td>\n",
       "      <td>2023-08-29</td>\n",
       "      <td><img src=\"data:image/jpeg;base64,<img src=\"data:image/jpeg;base64,https://lh3.googleusercontent.com/proxy/fzSpqIGRthsjASGOYiOFZ2VWNdmbkvgYS34DB47YdkLbn3icTXyinEUSP75heYf_aSJSztIAZoPQlETsNIn7vAbyb8z3M9JLSnMhilhSWNc4uPWABRGqVPvVuPIEYBYL0LUm54Cha7D7yzGfzijLUA-Or2It6RzygpYXaZjjyw=s0-w100-h100-rw-dcHSCOdiAI\" width=\"200\" />\" width=\"200\" /></td>\n",
       "    </tr>\n",
       "    <tr>\n",
       "      <th>7</th>\n",
       "      <td>Imran Khan Is Just the Beginning of Pakistan's Democratic Woes</td>\n",
       "      <td>https://news.google.com/articles/CBMic2h0dHBzOi8vZm9yZWlnbnBvbGljeS5jb20vMjAyMy8wOC8yOS9pbXJhbi1raGFuLWNvbnZpY3Rpb24tcGFraXN0YW4tZGVtb2NyYWN5LXBvbGl0aWNzLXNoYXJpZi1lbGVjdGlvbnMtb3Bwb3NpdGlvbi_SAQA?hl=en-US&gl=US&ceid=US%3Aen</td>\n",
       "      <td>2023-08-29</td>\n",
       "      <td><img src=\"data:image/jpeg;base64,<img src=\"data:image/jpeg;base64,https://lh3.googleusercontent.com/proxy/yULEcMymD2iXswPeKlPZptcWbeGPHr0BOZjzOI9VgcquJYGHoSQoxE4MqDN9eSn8RZVBHJfXzF9p0G9B2EwyK8s8ggEXdro2L8vr1UIeDpjTrFSfBT_hHBjesRsPjVdA3XgqqWDd8B3cmTolatU1YZQubj-bX9u8DwDP38NQgfkuflfW72rM03evGSQPCemxHzefTNmW0es_WFIO8WrQS6_tv5GsHGUtQnklNvRbTX6qsRDWLiax6934jbywiza_5fQTXkCKixdMCdxQVGYbCA=s0-w100-h100-rw-dcASCEDjkG\" width=\"200\" />\" width=\"200\" /></td>\n",
       "    </tr>\n",
       "    <tr>\n",
       "      <th>8</th>\n",
       "      <td>[All Politics is Global] China's Confucius Institutes to Face Restrictions in Germany Amid Security Concerns</td>\n",
       "      <td>https://news.google.com/articles/CBMihAFodHRwczovL2phcGFuLWZvcndhcmQuY29tL2FsbC1wb2xpdGljcy1pcy1nbG9iYWwtY2hpbmFzLWNvbmZ1Y2l1cy1pbnN0aXR1dGVzLXRvLWZhY2UtcmVzdHJpY3Rpb25zLWluLWdlcm1hbnktYW1pZC1zZWN1cml0eS1jb25jZXJucy_SAYgBaHR0cHM6Ly9qYXBhbi1mb3J3YXJkLmNvbS9hbGwtcG9saXRpY3MtaXMtZ2xvYmFsLWNoaW5hcy1jb25mdWNpdXMtaW5zdGl0dXRlcy10by1mYWNlLXJlc3RyaWN0aW9ucy1pbi1nZXJtYW55LWFtaWQtc2VjdXJpdHktY29uY2VybnMvYW1wLw?hl=en-US&gl=US&ceid=US%3Aen</td>\n",
       "      <td>2023-08-29</td>\n",
       "      <td><img src=\"data:image/jpeg;base64,<img src=\"data:image/jpeg;base64,https://lh3.googleusercontent.com/proxy/N9TikitGEdhVLx19xNKa_ATUNloXpdBWBsW1EmyNJdJKAvcVq4TDMKiGB2sCuEuc__EH7uM7cwKHX2IpIlwYQao2jw5azH7Ck3WOswGwOWtZcUekyiLSYBR9BhZHZ8ytZzMbQ9bcbg=s0-w100-h100-rw-dcpVWO7CkH\" width=\"200\" />\" width=\"200\" /></td>\n",
       "    </tr>\n",
       "    <tr>\n",
       "      <th>9</th>\n",
       "      <td>James Cleverly heading to China to 'strengthen channels of communication'</td>\n",
       "      <td>https://news.google.com/articles/CBMia2h0dHBzOi8vbmV3cy5za3kuY29tL3N0b3J5L2phbWVzLWNsZXZlcmx5LWhlYWRpbmctdG8tY2hpbmEtdG8tc3RyZW5ndGhlbi1jaGFubmVscy1vZi1jb21tdW5pY2F0aW9uLTEyOTUwMDYz0gFvaHR0cHM6Ly9uZXdzLnNreS5jb20vc3RvcnkvYW1wL2phbWVzLWNsZXZlcmx5LWhlYWRpbmctdG8tY2hpbmEtdG8tc3RyZW5ndGhlbi1jaGFubmVscy1vZi1jb21tdW5pY2F0aW9uLTEyOTUwMDYz?hl=en-US&gl=US&ceid=US%3Aen</td>\n",
       "      <td>2023-08-29</td>\n",
       "      <td><img src=\"data:image/jpeg;base64,<img src=\"data:image/jpeg;base64,https://lh3.googleusercontent.com/proxy/z_FVjiQvquP3cGnVSkfkyac_ChKKYRD1Su1x0-a8bNr8XZ9SScH5ISMdA3fKXiy0WaPczGoh_TJyoGL5EelYrWP6kuklMbUHeHlz5-HfQNtGqBT4pSf5BwwcwzF70_U9mTHTr465Szy_hbGI5zRcTV6DZ2FFX8QgEW-Zwk3801ab6xfrhTrOipik8cakFNz_fbd1_SgOhX-gwX0t=s0-w100-h100-rw-dcqVWQzSUI\" width=\"200\" />\" width=\"200\" /></td>\n",
       "    </tr>\n",
       "    <tr>\n",
       "      <th>10</th>\n",
       "      <td>Modi's Hindu Nationalist Diplomacy Is Hurting India's Image</td>\n",
       "      <td>https://news.google.com/articles/CBMiYWh0dHBzOi8vZm9yZWlnbnBvbGljeS5jb20vMjAyMy8wOC8yOC9pbmRpYS1tb2RpLWRpcGxvbWFjeS1ianAtaGluZHUtbmF0aW9uYWxpc20tcmVsaWdpb24tbWFuaXB1ci_SAQA?hl=en-US&gl=US&ceid=US%3Aen</td>\n",
       "      <td>2023-08-28</td>\n",
       "      <td><img src=\"data:image/jpeg;base64,<img src=\"data:image/jpeg;base64,https://lh3.googleusercontent.com/proxy/lcJ_LWVKNKrNbP65CRZjUVhby3mgKxlHTnjXhGpfjODDqWLpbceXGVouAyhAKF7kTTjdFXXxXbSnUJf45KiusKZWVy8VjtvzejGvhnZa0AhxdDkw4F2HRro-BpOWxXE1oUTCf_VtlQwL_NFwl5YaRKQYNNNG6gQ6g4IcYQVgUPgdNqoxrzk=s0-w100-h100-rw-dcqSWczRkK\" width=\"200\" />\" width=\"200\" /></td>\n",
       "    </tr>\n",
       "    <tr>\n",
       "      <th>11</th>\n",
       "      <td>Integrity of immigration system at risk as international student numbers balloon, minister says</td>\n",
       "      <td>https://news.google.com/articles/CBMiYWh0dHBzOi8vd3d3LmNiYy5jYS9uZXdzL3BvbGl0aWNzL2ludGVybmF0aW9uYWwtc3R1ZGVudC1jYXAtaW1taWdyYXRpb24tc3lzdGVtLWludGVncml0eS0xLjY5NDg3MzPSASBodHRwczovL3d3dy5jYmMuY2EvYW1wLzEuNjk0ODczMw?hl=en-US&gl=US&ceid=US%3Aen</td>\n",
       "      <td>2023-08-27</td>\n",
       "      <td><img src=\"data:image/jpeg;base64,<img src=\"data:image/jpeg;base64,https://lh3.googleusercontent.com/proxy/YJn4pRTROjP3UyioWBREeeXEiU3Wr3BIr886rrekTTn1Bn23h8fOSJ8sLGy4YHnYMmSQQXPtyhXmDtQq1v4EEUgsOdE5skBqOxro3gy3KEhNjjUlRy_uMN7WErZTJzvaQk2BwagAidbks7kK_Q5P5IV7Q8ZbFLN80Hcx0--cVQxi7HnIg5JVDw=s0-w100-h100-rw-dcASSIcJEK\" width=\"200\" />\" width=\"200\" /></td>\n",
       "    </tr>\n",
       "    <tr>\n",
       "      <th>12</th>\n",
       "      <td>Ramaswamy breaks from GOP orthodoxy on foreign policy, sparks pushback ahead of first debate</td>\n",
       "      <td>https://news.google.com/articles/CBMicGh0dHBzOi8vYWJjbmV3cy5nby5jb20vUG9saXRpY3MvcmFtYXN3YW15LWJyZWFrcy1nb3Atb3J0aG9kb3h5LWZvcmVpZ24tcG9saWN5LXNwYXJrcy1wdXNoYmFjay9zdG9yeT9pZD0xMDI0NTg0NDLSAXRodHRwczovL2FiY25ld3MuZ28uY29tL2FtcC9Qb2xpdGljcy9yYW1hc3dhbXktYnJlYWtzLWdvcC1vcnRob2RveHktZm9yZWlnbi1wb2xpY3ktc3BhcmtzLXB1c2hiYWNrL3N0b3J5P2lkPTEwMjQ1ODQ0Mg?hl=en-US&gl=US&ceid=US%3Aen</td>\n",
       "      <td>2023-08-23</td>\n",
       "      <td><img src=\"data:image/jpeg;base64,<img src=\"data:image/jpeg;base64,https://lh3.googleusercontent.com/proxy/KwwJQH6GoiCGoyyNy6YFcPhiEas2FXwapcoPQdRslVxN3wBcXlelFxHGzR2yahFjhSCTueq9uM9KhpYjWx-pzF8YlFRJpSaTO7lSy3hmXcixBSDSpIgPCLdOfRrWxa5QZerN3xrXX-oZkYEsUIlXhbVdjeVXAvlPw_WUrQnsRGNlGo08NXFMrXRmwSHDPajSCb9uyHn8wh4JTWSMsP7bMVu31AyENNAhtXk=s0-w100-h100-rw-dcJSaI7Z0I\" width=\"200\" />\" width=\"200\" /></td>\n",
       "    </tr>\n",
       "    <tr>\n",
       "      <th>13</th>\n",
       "      <td>Brics: African countries face opportunities and risks in alienating ...</td>\n",
       "      <td>https://news.google.com/articles/CBMiiQFodHRwczovL3RoZWNvbnZlcnNhdGlvbi5jb20vYnJpY3MtYWZyaWNhbi1jb3VudHJpZXMtZmFjZS1vcHBvcnR1bml0aWVzLWFuZC1yaXNrcy1pbi1hbGllbmF0aW5nLWNoaW5hLW9yLXRoZS11cy1hbi1leHBlcnQtd2VpZ2hzLWluLTIxMjI3M9IBAA?hl=en-US&gl=US&ceid=US%3Aen</td>\n",
       "      <td>2023-08-29</td>\n",
       "      <td><img src=\"data:image/jpeg;base64,<img src=\"data:image/jpeg;base64,https://lh3.googleusercontent.com/proxy/a4tqL-Ad6T0RdLmXFzaXclnZ1PqnfByaJMGFs-PfJ_TZZb9DbbhFrLguxPq5tOF5AsngmR2Z9skqxX1ukqnq8AOEm_62Qq0tzOQ7lE11qncdqCyKtxx4ebymzewLLci15ME2nyb3RkofnMhx5eVoxZJDtr4gJHQvJVOUzTG-jC8GA9_ojIS9dxBbjBbnTLhf87UwgdHG6KNeAM5NrnqTbvgXLQ=s0-w100-h100-rw-dclQWILB4H\" width=\"200\" />\" width=\"200\" /></td>\n",
       "    </tr>\n",
       "    <tr>\n",
       "      <th>14</th>\n",
       "      <td>Foreign Observers Casting Nervous Looks at the U.S.</td>\n",
       "      <td>https://news.google.com/articles/CBMibGh0dHBzOi8vd3d3LmNvb2twb2xpdGljYWwuY29tL2FuYWx5c2lzL25hdGlvbmFsL25hdGlvbmFsLXBvbGl0aWNzL2ZvcmVpZ24tb2JzZXJ2ZXJzLWNhc3RpbmctbmVydm91cy1sb29rcy11c9IBAA?hl=en-US&gl=US&ceid=US%3Aen</td>\n",
       "      <td>2023-08-24</td>\n",
       "      <td><img src=\"data:image/jpeg;base64,<img src=\"data:image/jpeg;base64,https://lh3.googleusercontent.com/proxy/FOHQBeYfPUmECFp_rBOSL5gNzTCw2G6ISnAZPYkqkyAihvBClrmTKFfSfciXu-q0QYS_f8l5CcEGW-ibxt2hExq0pTS6fl4BT6wt7IrCnKrsGbHbFarxUwseXGW_dxtxsIOhR_dOJjfUjAuqJTOJ6L3CqQO_s9XKtaZifKxV9Jgj_aQ1SixRwuDmyYuS5r_XDOEjgM3DzXqR-LP0mW_QW1B9VGwh6QQ99q8DKW30VDwikoRJ69DS6D2374o_7jzdQp8-WXITf0tZGnojW2NcCLNBR82c6PXc5iCVJervjHM6lsaTEvWP7NWq-nVV5NTgTlrH6Vyc5p1z=s0-w100-h100-rw-dcrXKAr7VlXFkA\" width=\"200\" />\" width=\"200\" /></td>\n",
       "    </tr>\n",
       "    <tr>\n",
       "      <th>15</th>\n",
       "      <td>US government, foreign defence firms dominate military contracts</td>\n",
       "      <td>https://news.google.com/articles/CBMidGh0dHBzOi8vd3d3LmFmci5jb20vcG9saXRpY3MvZmVkZXJhbC9mb3JlaWduLWRlZmVuY2UtY29udHJhY3RvcnMtZW5qb3ktcGF5ZGF5LWF0LWF1c3RyYWxpYS1zLWV4cGVuc2UtMjAyMzA4MjktcDVlMDln0gEA?hl=en-US&gl=US&ceid=US%3Aen</td>\n",
       "      <td>2023-08-29</td>\n",
       "      <td><img src=\"data:image/jpeg;base64,<img src=\"data:image/jpeg;base64,https://lh3.googleusercontent.com/proxy/v2mWvTobmu9DZAHdHoSQKt5sIdHttcIWsesJoHafWePStuuC_uI1smi-60Fa_Hypecs1lJOv-bw3u0NvYKq1e7Et4Ozngjdr_R35pGabpgn_Dh9zwICVePA86cmYkbWHMOfaJIqC2xfNcZ_DamWcABMCS8lyFggtkdhndje9B0mG9qW7n2VB-Qu7ap6w5f8bMHOImZi78nCqaMDHRPqPERXBvgs=s0-w100-h100-rw-dcnUaKKzIF\" width=\"200\" />\" width=\"200\" /></td>\n",
       "    </tr>\n",
       "    <tr>\n",
       "      <th>16</th>\n",
       "      <td>Arrest warrants issued for 300 foreign criminals deemed a danger to ...</td>\n",
       "      <td>https://news.google.com/articles/CBMidWh0dHBzOi8vd3d3LnRoZWdsb2JlYW5kbWFpbC5jb20vcG9saXRpY3MvYXJ0aWNsZS1hcnJlc3Qtd2FycmFudHMtaXNzdWVkLWZvci0zMDAtZm9yZWlnbi1jcmltaW5hbHMtZGVlbWVkLWEtZGFuZ2VyLXRvL9IBeWh0dHBzOi8vd3d3LnRoZWdsb2JlYW5kbWFpbC5jb20vYW1wL3BvbGl0aWNzL2FydGljbGUtYXJyZXN0LXdhcnJhbnRzLWlzc3VlZC1mb3ItMzAwLWZvcmVpZ24tY3JpbWluYWxzLWRlZW1lZC1hLWRhbmdlci10by8?hl=en-US&gl=US&ceid=US%3Aen</td>\n",
       "      <td>2023-08-29</td>\n",
       "      <td><img src=\"data:image/jpeg;base64,<img src=\"data:image/jpeg;base64,https://lh3.googleusercontent.com/proxy/2IJZdijYM2ywM17sGO5r5JR-ejAFatvRgr0i6NsAW0VLGyYKI2-N4-93C1zUUeLHehyj-szeKLr6fRlSe64sGKj3hepte6KZSDH3jbjkLWlsBNEwBS1N-A27TJiOBFEcNg4y9ulD-G87tAjRGgFV5hSpGpQPwET9eJwCwLIxwVxshQ9LkCWSDEFjW-9SQ2w2JMb2GTpIo5LnXfvOVzZBApnQXOM=s0-w100-h100-rw-dcrQWezhEL\" width=\"200\" />\" width=\"200\" /></td>\n",
       "    </tr>\n",
       "    <tr>\n",
       "      <th>17</th>\n",
       "      <td>Poland rejects allegations of foreign interference from former Alberta ...</td>\n",
       "      <td>https://news.google.com/articles/CBMieGh0dHBzOi8vd3d3LnRoZWdsb2JlYW5kbWFpbC5jb20vcG9saXRpY3MvYXJ0aWNsZS1wb2xhbmQtcmVqZWN0cy1hbGxlZ2F0aW9ucy1vZi1mb3JlaWduLWludGVyZmVyZW5jZS1mcm9tLWZvcm1lci1hbGJlcnRhL9IBfGh0dHBzOi8vd3d3LnRoZWdsb2JlYW5kbWFpbC5jb20vYW1wL3BvbGl0aWNzL2FydGljbGUtcG9sYW5kLXJlamVjdHMtYWxsZWdhdGlvbnMtb2YtZm9yZWlnbi1pbnRlcmZlcmVuY2UtZnJvbS1mb3JtZXItYWxiZXJ0YS8?hl=en-US&gl=US&ceid=US%3Aen</td>\n",
       "      <td>2023-08-28</td>\n",
       "      <td><img src=\"data:image/jpeg;base64,<img src=\"data:image/jpeg;base64,https://lh3.googleusercontent.com/proxy/hGyhROtFXpvJSnq5y6Ed37LDfW7fQp00zrL_oCbJtWrlGAkzmcCGdp0abaqMycaOHpcehv45N3htgpP86SlB7lGWy4-ardkjeC7_xdh-Qpu1C82rtM4anBJ10DSB5gcrZsWC-dekNoPfkMuMG5g46Sc=s0-w100-h100-rw-dcDTCYZZJqe4gC\" width=\"200\" />\" width=\"200\" /></td>\n",
       "    </tr>\n",
       "    <tr>\n",
       "      <th>18</th>\n",
       "      <td>Don’t allow domestic politics to undermine America’s global role</td>\n",
       "      <td>https://news.google.com/articles/CBMicWh0dHBzOi8vdGhlaGlsbC5jb20vb3Bpbmlvbi9pbnRlcm5hdGlvbmFsLzQxNzQ5MzUtZG9udC1hbGxvdy1kb21lc3RpYy1wb2xpdGljcy10by11bmRlcm1pbmUtYW1lcmljYXMtZ2xvYmFsLXJvbGUv0gF1aHR0cHM6Ly90aGVoaWxsLmNvbS9vcGluaW9uL2ludGVybmF0aW9uYWwvNDE3NDkzNS1kb250LWFsbG93LWRvbWVzdGljLXBvbGl0aWNzLXRvLXVuZGVybWluZS1hbWVyaWNhcy1nbG9iYWwtcm9sZS9hbXAv?hl=en-US&gl=US&ceid=US%3Aen</td>\n",
       "      <td>2023-08-28</td>\n",
       "      <td><img src=\"data:image/jpeg;base64,<img src=\"data:image/jpeg;base64,https://lh3.googleusercontent.com/proxy/qfVK0mvITnZEmaMJlDpGPyfe8xeBg1rXybXLwKTTc2mnRH2pmVf8eOL1F7gnIuUaX66d9F8lzyd5BxZiGh2cW8OMjWmLn8g5MPBpHi33rr2VEcXADF_DbPHD0HETUk6mP-FdpUGZgeSLDOpNZTRcp-3S8_ZyDbdFrA=s0-w100-h100-rw-dcARCIpUYE\" width=\"200\" />\" width=\"200\" /></td>\n",
       "    </tr>\n",
       "    <tr>\n",
       "      <th>19</th>\n",
       "      <td>The Rise of the Gangsta Militariat</td>\n",
       "      <td>https://news.google.com/articles/CBMiMGh0dHBzOi8vd3d3LmNmci5vcmcvYmxvZy9yaXNlLWdhbmdzdGEtbWlsaXRhcmlhdNIBNGh0dHBzOi8vd3d3LmNmci5vcmcvYmxvZy9yaXNlLWdhbmdzdGEtbWlsaXRhcmlhdD9hbXA?hl=en-US&gl=US&ceid=US%3Aen</td>\n",
       "      <td>2023-08-28</td>\n",
       "      <td><img src=\"data:image/jpeg;base64,<img src=\"data:image/jpeg;base64,https://lh3.googleusercontent.com/proxy/M6zxqKTlMZ6Ii2ogiyTPDbtycg6EV5TRpPGbZylylDIW5SanfGO0FOX0_U7F9iCuYNRlNbaqs5xkpRoznQ5xoPS3FHHLc7Pki5wmq78Kd_bwgBUzQ1HY2BzpqqgSFLbUd3pWWjZZ-U5N5wCGndRQlA2eDY_qksOvbZ5SQBQxmuNrNVmeqaxHSlXgXdDS46FuRRF67iIfWbY=s0-w100-h100-rw-dcAUCIILBlG1UB\" width=\"200\" />\" width=\"200\" /></td>\n",
       "    </tr>\n",
       "    <tr>\n",
       "      <th>20</th>\n",
       "      <td>Niger's Coup and America's Choice: Washington Should Push for ...</td>\n",
       "      <td>https://news.google.com/articles/CBMiSmh0dHBzOi8vd3d3LmZvcmVpZ25hZmZhaXJzLmNvbS93ZXN0LWFmcmljYS9uaWdlcnMtY291cC1hbmQtYW1lcmljYXMtY2hvaWNl0gEA?hl=en-US&gl=US&ceid=US%3Aen</td>\n",
       "      <td>2023-08-29</td>\n",
       "      <td><img src=\"data:image/jpeg;base64,<img src=\"data:image/jpeg;base64,https://lh3.googleusercontent.com/proxy/QHEc1tFrYlTsL6ZsLubGdP1aeaPZj4euNA3x1bzvydyNxhwTes4IPPoiggwlg0t5iWsLalJ2rmmNd8ZURDOG_6PijsXbc_JcHU1I8Yn3iBHHdkjKEjxHiDRfgs8_iqFo7enO_Omv_8-byjCn0bZQ3MzBHevIeSRw64PanUhAOk3LSty7hg6GEqiXhUFID8pHd6A9us4GdHJixfzsPdtiKlLd0h9l0vwkXY34as4KA-6WeRgJvlGnvH-XyF6wqLCs17xg7R9c2uu2UGQYM5-iVSzIG1bVM8c_Xkbc4dMHzQbYDYipRYiiht_tSzImwHw_k2G5Ejxtjo4nP25O2DUz8oHBZAOXO4ZkhXQttQ_3U9X3YdyIJmDKtIsMtflW_VZ0l8vTqmw6t24GntMTCg3WTJerZMmgJnWbUEM6XjwVBP7tXvzK9ymbt-N8BuFaZfSkKeHKn90=s0-w100-h100-rw-dcqUKA7SUI\" width=\"200\" />\" width=\"200\" /></td>\n",
       "    </tr>\n",
       "    <tr>\n",
       "      <th>21</th>\n",
       "      <td>Rishi Sunak took helicopter to housebuilding visit where he defended government’s ‘green credentials’ – as it happened</td>\n",
       "      <td>https://news.google.com/articles/CBMijAFodHRwczovL3d3dy50aGVndWFyZGlhbi5jb20vcG9saXRpY3MvbGl2ZS8yMDIzL2F1Zy8yOS9taWNoYWVsLWdvdmUtd2F0ZXItcG9sbHV0aW9uLWhvdXNpbmctZGlzZ3JhY2VmdWwtbGliLWRlbXMtcmlzaGktc3VuYWstdWstcG9saXRpY3MtbGl2ZdIBjAFodHRwczovL2FtcC50aGVndWFyZGlhbi5jb20vcG9saXRpY3MvbGl2ZS8yMDIzL2F1Zy8yOS9taWNoYWVsLWdvdmUtd2F0ZXItcG9sbHV0aW9uLWhvdXNpbmctZGlzZ3JhY2VmdWwtbGliLWRlbXMtcmlzaGktc3VuYWstdWstcG9saXRpY3MtbGl2ZQ?hl=en-US&gl=US&ceid=US%3Aen</td>\n",
       "      <td>2023-08-29</td>\n",
       "      <td><img src=\"data:image/jpeg;base64,<img src=\"data:image/jpeg;base64,https://lh3.googleusercontent.com/WC9CIq9bWAC1AdOgyg7Iq6AMFkJfFjCN8QDCmUkctzq7krjzoOr6qEz2OJ4wLr8T7FLHXDFsMw=s0-h14-rw\" width=\"200\" />\" width=\"200\" /></td>\n",
       "    </tr>\n",
       "    <tr>\n",
       "      <th>22</th>\n",
       "      <td>Ukraine's pitch to corporate America - POLITICO</td>\n",
       "      <td>https://news.google.com/articles/CBMibGh0dHBzOi8vd3d3LnBvbGl0aWNvLmNvbS9uZXdzbGV0dGVycy9tb3JuaW5nLW1vbmV5LzIwMjMvMDgvMjQvdWtyYWluZXMtcGl0Y2gtdG8tY29ycG9yYXRlLWFtZXJpY2EtMDAxMTI2MTVfMdIBAA?hl=en-US&gl=US&ceid=US%3Aen</td>\n",
       "      <td>2023-08-24</td>\n",
       "      <td><img src=\"data:image/jpeg;base64,<img src=\"data:image/jpeg;base64,https://lh3.googleusercontent.com/proxy/jpVukOF0L1SKIBHuYRxeE8LmYQuMeFqyNHwH5mx95geFhysnB8PedK0e7jwxZOnjtLMYOdKRNC3751Gsw-y_gytxOl2E8yX0C9fZfX4loMixGKuQL9stsgnqh1lIhSd75kw0IpmLox4AfGQ10j-oZpEr2JRUnu-X7bY=s0-w100-h100-rw-dcIVWKDCII\" width=\"200\" />\" width=\"200\" /></td>\n",
       "    </tr>\n",
       "    <tr>\n",
       "      <th>23</th>\n",
       "      <td>No More Frozen Iranian Asset Abroad: President</td>\n",
       "      <td>https://news.google.com/articles/CBMiY2h0dHBzOi8vd3d3LnRhc25pbW5ld3MuY29tL2VuL25ld3MvMjAyMy8wOC8yOS8yOTQ5MDYzL25vLW1vcmUtZnJvemVuLWlyYW5pYW4tYXNzZXQtYWJyb2FkLXByZXNpZGVudNIBZ2h0dHBzOi8vd3d3LnRhc25pbW5ld3MuY29tL2VuL25ld3MvMjAyMy8wOC8yOS8yOTQ5MDYzL25vLW1vcmUtZnJvemVuLWlyYW5pYW4tYXNzZXQtYWJyb2FkLXByZXNpZGVudC9hbXA?hl=en-US&gl=US&ceid=US%3Aen</td>\n",
       "      <td>2023-08-29</td>\n",
       "      <td><img src=\"data:image/jpeg;base64,<img src=\"data:image/jpeg;base64,https://encrypted-tbn3.gstatic.com/faviconV2?url=https://www.hcn.org&client=NEWS_360&size=96&type=FAVICON&fallback_opts=TYPE,SIZE,URL\" width=\"200\" />\" width=\"200\" /></td>\n",
       "    </tr>\n",
       "    <tr>\n",
       "      <th>24</th>\n",
       "      <td>Who owns the West? (Who owns the West?) — High Country News ...</td>\n",
       "      <td>https://news.google.com/articles/CBMiOmh0dHBzOi8vd3d3Lmhjbi5vcmcvaXNzdWVzLzU1LjkvcG9saXRpY3Mtd2hvLW93bnMtdGhlLXdlc3TSAQA?hl=en-US&gl=US&ceid=US%3Aen</td>\n",
       "      <td>2023-08-28</td>\n",
       "      <td><img src=\"data:image/jpeg;base64,<img src=\"data:image/jpeg;base64,https://lh3.googleusercontent.com/proxy/Y4ZE12KAGuUvz5fCZhzRlfqVpUC3ZVV7GRP1qJvUfim24LAXr_fYfa68g1dXqmuOdFf7QIwXru7-X7t6G7UwCJYzLuvXjMXoC8fkDXQINRkbqc2raf9MhjLyzyzxNofMHT5kf8q7NOivPXoY3dHJAvkCxmyJpmUwr0DmNNdoWWMUluN1ES4U9nTLe0NAopGAW8m4O-_6tB2qFiixjzhXWfvpAOHK0cdSrIeXHEAoQUF9EX5tz2Zx72shO34UwGKMW1L00ZTRisZMG8vG5xTNwfF2Dl5BRT5GFaNVaR1VtL1YLfG1UbicitskhyvD0aFwVg9bQgWE1xbAgz20BD4xk18oU6IyG_zrwtbZDe8bOOuPA6OhvMifM258vGUH8OsG_s-nNS_hQYvr8uW5TU-94dCsSbInujt-HhMtfIzyfJM4qAXdCtqGgfrfVs7aIwJl60p4-2_KJg=s0-w100-h100-rw-dcMSCAEFFiNZEB\" width=\"200\" />\" width=\"200\" /></td>\n",
       "    </tr>\n",
       "    <tr>\n",
       "      <th>25</th>\n",
       "      <td>Chinese media step up attacks on Fukushima wastewater release</td>\n",
       "      <td>https://news.google.com/articles/CBMidmh0dHBzOi8vYXNpYS5uaWtrZWkuY29tL1BvbGl0aWNzL0ludGVybmF0aW9uYWwtcmVsYXRpb25zL0NoaW5lc2UtbWVkaWEtc3RlcC11cC1hdHRhY2tzLW9uLUZ1a3VzaGltYS13YXN0ZXdhdGVyLXJlbGVhc2XSAQA?hl=en-US&gl=US&ceid=US%3Aen</td>\n",
       "      <td>2023-08-29</td>\n",
       "      <td><img src=\"data:image/jpeg;base64,<img src=\"data:image/jpeg;base64,https://lh3.googleusercontent.com/proxy/FwpUmuaLcSTphy8bh2TjF5xqG8C4Aqpgjg-g3AkTMwJ8cV1qtc1j_RV6NRDWfTTwgP2nNB4kmbHggNLCrgJ-nR4TfS_1OsEDf-JvFNzFwkQBxwPfVkI4gmNCicvzkcWMQ6iNAJmAlLJDLnAyPiy44xaUwrftSX0WkC05Dx36frLtCOMyWzv2IFxm8g=s0-w100-h100-rw-dcgWCEa7EkqfQA\" width=\"200\" />\" width=\"200\" /></td>\n",
       "    </tr>\n",
       "    <tr>\n",
       "      <th>26</th>\n",
       "      <td>Niger's Coup Is a Geopolitical Moment for African Politics</td>\n",
       "      <td>https://news.google.com/articles/CBMieWh0dHBzOi8vZm9yZWlnbnBvbGljeS5jb20vMjAyMy8wOC8wOC9uaWdlci1jb3VwLWVjb3dhcy1uaWdlcmlhLXRpbnVidS1yZWdpb25hbC1jb29wZXJhdGlvbi1tdWx0aWxhdGVyYWxpc20tc3RhdGVidWlsZGluZy_SAQA?hl=en-US&gl=US&ceid=US%3Aen</td>\n",
       "      <td>2023-08-08</td>\n",
       "      <td><img src=\"data:image/jpeg;base64,<img src=\"data:image/jpeg;base64,https://lh3.googleusercontent.com/proxy/66c-o6OO_pYwab7EcsvNLSIQ6R4-vvpmP5GHpXWDron9DbRxInQTBx9ATjTXkG9PFuB4i1nxsejj6QBrkYz2BHwdZ-G4mSiVRe5OYn9hVFkihQfJ6JypoOxkfB1cU0cd_mh73zcS-FjjrOfbgD35r5ph8vBh3mo01Q5CiktTWGxyBqM=s0-w100-h100-rw-dciWKAxapnPUkC\" width=\"200\" />\" width=\"200\" /></td>\n",
       "    </tr>\n",
       "    <tr>\n",
       "      <th>27</th>\n",
       "      <td>FBI’s use of spying law draws scrutiny from NC’s Thom Tillis and Ted Budd</td>\n",
       "      <td>https://news.google.com/articles/CBMiS2h0dHBzOi8vd3d3Lm5ld3NvYnNlcnZlci5jb20vbmV3cy9wb2xpdGljcy1nb3Zlcm5tZW50L2FydGljbGUyNzg2ODM4NzkuaHRtbNIBS2h0dHBzOi8vYW1wLm5ld3NvYnNlcnZlci5jb20vbmV3cy9wb2xpdGljcy1nb3Zlcm5tZW50L2FydGljbGUyNzg2ODM4NzkuaHRtbA?hl=en-US&gl=US&ceid=US%3Aen</td>\n",
       "      <td>2023-08-29</td>\n",
       "      <td><img src=\"data:image/jpeg;base64,<img src=\"data:image/jpeg;base64,https://lh3.googleusercontent.com/proxy/dNIeZGlca_pOnT9NeV_ou6uWC3iUnJFAZpJyGVgmcp12b_z5EFOahklKVIj7lpWstrkAuX4-7dS4WHBeP678w2Y_tUjrspqdaJhyk1yiJ2KMxOWdWHhyRNSlz3O0LlHvpC5gNgC0Pb3XE8OL2_89KUujNzoo3DsAq7qa=s0-w100-h100-rw-dcCVKMrS0H\" width=\"200\" />\" width=\"200\" /></td>\n",
       "    </tr>\n",
       "    <tr>\n",
       "      <th>28</th>\n",
       "      <td>The Social Contract Between Human Rights and International ...</td>\n",
       "      <td>https://news.google.com/articles/CBMiMGh0dHBzOi8vaGFydmFyZHBvbGl0aWNzLmNvbS9odW1hbi1yaWdodHMtc3BvcnRzL9IBAA?hl=en-US&gl=US&ceid=US%3Aen</td>\n",
       "      <td>2023-08-28</td>\n",
       "      <td><img src=\"data:image/jpeg;base64,<img src=\"data:image/jpeg;base64,https://lh3.googleusercontent.com/proxy/ghXOq7zdcwjW8S1cQCOw2c4MHv18CGyno5I0aNvsoIKYIW5P-l1YTRNDhOqBvY_SaH7zPKF3Ia9WdHTrYx6t_-CukRTStOBAE5xRJ1Nq9zNB4ypGy39-_bOGDxNuS03dozIhKR4V1sa1wYSiiLgHf1ymmkGNmNKH9sqsdFF9LXzh2JrRMm32OhT4BuN-yrjyeCGSLg7oFaAXLpIm1IRq3jLJTFbbs9EjII3ztYHWn6EcWvNBEyiERHa9qUUw_q5xMiL2CylSDbNIk3YWp2qSOROMdHidhS8uBRj4rLpkFVvduAD9QQUpMCXqE1K1ug=s0-w100-h100-rw-dckSGWKaII\" width=\"200\" />\" width=\"200\" /></td>\n",
       "    </tr>\n",
       "    <tr>\n",
       "      <th>29</th>\n",
       "      <td>China's Wang Yi pushes for multipolar world in return as foreign ...</td>\n",
       "      <td>https://news.google.com/articles/CBMiggFodHRwczovL2FzaWEubmlra2VpLmNvbS9Qb2xpdGljcy9JbnRlcm5hdGlvbmFsLXJlbGF0aW9ucy9DaGluYS1zLVdhbmctWWktcHVzaGVzLWZvci1tdWx0aXBvbGFyLXdvcmxkLWluLXJldHVybi1hcy1mb3JlaWduLW1pbmlzdGVy0gEA?hl=en-US&gl=US&ceid=US%3Aen</td>\n",
       "      <td>2023-08-25</td>\n",
       "      <td><img src=\"data:image/jpeg;base64,<img src=\"data:image/jpeg;base64,https://lh3.googleusercontent.com/proxy/pOK86-Pcvya0KV-TLVhhTnIKCmmu0obKbrQBwYH9dSNjrKXEWD_tDoMa0xMvhEbR8-8wxFrPOXDxQX4TE6QWOtmKSKGADp44WapTRlkjMpU9G-fBYncwOBdiKMHLfldLPfb4BVqKW6CpHOdRilpico6Ls21sf5L_Qw=s0-w100-h100-rw-dcWYAB\" width=\"200\" />\" width=\"200\" /></td>\n",
       "    </tr>\n",
       "    <tr>\n",
       "      <th>30</th>\n",
       "      <td>Taiwan rejects Vietnam protest over South China Sea island live-fire ...</td>\n",
       "      <td>https://news.google.com/articles/CBMiLGh0dHBzOi8vZm9jdXN0YWl3YW4udHcvcG9saXRpY3MvMjAyMzA4MjkwMDE40gEA?hl=en-US&gl=US&ceid=US%3Aen</td>\n",
       "      <td>2023-08-29</td>\n",
       "      <td><img src=\"data:image/jpeg;base64,<img src=\"data:image/jpeg;base64,https://lh3.googleusercontent.com/proxy/In7NBY1I-CyKJzbiTcFDjsz2mR48la0gw34yTe82Fs2wdu-yIorIbU2F6rC38l4RhTAD-70YuVNwMrHPeP3pc_zLTOrFIRFDbmQtes88930ZJD7PjGdqMIA6tSgoMLpLrn-3SMsWFZ_LarYNmY8wibkG43NjXhu1teyGNhnIo2KiGHL56JVoiEaklF1_EYCb7bFOKzkO8MH492wr=s0-w100-h100-rw-dciQKCKlqjqSUD\" width=\"200\" />\" width=\"200\" /></td>\n",
       "    </tr>\n",
       "    <tr>\n",
       "      <th>31</th>\n",
       "      <td>Biden Incentives for Foreign Investment Are Benefiting Factories</td>\n",
       "      <td>https://news.google.com/articles/CBMiVmh0dHBzOi8vd3d3Lm55dGltZXMuY29tLzIwMjMvMDgvMjMvdXMvcG9saXRpY3MvYmlkZW4tZm9yZWlnbi1pbnZlc3RtZW50LWZhY3Rvcmllcy5odG1s0gEA?hl=en-US&gl=US&ceid=US%3Aen</td>\n",
       "      <td>2023-08-23</td>\n",
       "      <td><img src=\"data:image/jpeg;base64,<img src=\"data:image/jpeg;base64,https://lh3.googleusercontent.com/proxy/YXALzpdd2kzV8HxCeV5SyoQvwGWdRA1O3epxnSlXkqg-9MY0_TYWR6R8o8lpKKVqToRcfz6KCBxRywLTqAwq4w5HtOWcHNY-8qQLXJl9OdZFWSvcM3S-_QhIbe5-YzUFFft7tzCRMUvbUcyvTrmTC-XTQUZE=s0-w100-h100-rw-dcgQSSi4kL\" width=\"200\" />\" width=\"200\" /></td>\n",
       "    </tr>\n",
       "    <tr>\n",
       "      <th>32</th>\n",
       "      <td>Ramaswamy-Pence Debate Clash Exposes Divide in Republican ...</td>\n",
       "      <td>https://news.google.com/articles/CBMiVGh0dHBzOi8vd3d3Lm55dGltZXMuY29tLzIwMjMvMDgvMjcvdXMvcG9saXRpY3MvcmFtYXN3YW15LXBlbmNlLWRlYmF0ZS1uZXctcmlnaHQuaHRtbNIBAA?hl=en-US&gl=US&ceid=US%3Aen</td>\n",
       "      <td>2023-08-27</td>\n",
       "      <td><img src=\"data:image/jpeg;base64,<img src=\"data:image/jpeg;base64,https://lh3.googleusercontent.com/proxy/TTOpTxNMR5oC5IthN0fFy5gbJcltLV7qf4jd_Lb-yCTgpHAqwbDrWtH5uuHEJKKICS5Hv7NtzYi_wtK55UHG-iOksgqmc6qdd5vXrOkOj8X7AUCuOT2EtSO1rmhT2MKEgJXkkZLHiGdTaR6AUcxp7Po9sAOpLPS7=s0-w100-h100-rw-dcAYGMKDoF\" width=\"200\" />\" width=\"200\" /></td>\n",
       "    </tr>\n",
       "    <tr>\n",
       "      <th>33</th>\n",
       "      <td>Japan Needs to 'Brace for Long Standoff' with China over ...</td>\n",
       "      <td>https://news.google.com/articles/CBMiTWh0dHBzOi8vamFwYW5uZXdzLnlvbWl1cmkuY28uanAvcG9saXRpY3MvcG9saXRpY3MtZ292ZXJubWVudC8yMDIzMDgyOS0xMzMwNzAv0gEA?hl=en-US&gl=US&ceid=US%3Aen</td>\n",
       "      <td>2023-08-29</td>\n",
       "      <td><img src=\"data:image/jpeg;base64,<img src=\"data:image/jpeg;base64,https://encrypted-tbn1.gstatic.com/faviconV2?url=https://www.foreignminister.gov.au&client=NEWS_360&size=96&type=FAVICON&fallback_opts=TYPE,SIZE,URL\" width=\"200\" />\" width=\"200\" /></td>\n",
       "    </tr>\n",
       "    <tr>\n",
       "      <th>34</th>\n",
       "      <td>Doorstop, Perth | Australian Minister for Foreign Affairs</td>\n",
       "      <td>https://news.google.com/articles/CBMiUGh0dHBzOi8vd3d3LmZvcmVpZ25taW5pc3Rlci5nb3YuYXUvbWluaXN0ZXIvcGVubnktd29uZy90cmFuc2NyaXB0L2Rvb3JzdG9wLXBlcnRo0gEA?hl=en-US&gl=US&ceid=US%3Aen</td>\n",
       "      <td>2023-08-28</td>\n",
       "      <td><img src=\"data:image/jpeg;base64,<img src=\"data:image/jpeg;base64,https://lh3.googleusercontent.com/proxy/-dwhOMfuqIpsuThiC27Ok2EHNOl5BQ28uY9sPBt_f4UApuMlGA3NQ3ZZzLCJlt0ioao8Tg32v90j-zrOLzadPbMFN_Qh8AUtR5HIbGwyKEGioZzueFDTxIrq-u8KLIE03Q=s0-w100-h100-rw-dcAUCGZMbkTIYC\" width=\"200\" />\" width=\"200\" /></td>\n",
       "    </tr>\n",
       "    <tr>\n",
       "      <th>35</th>\n",
       "      <td>Expert Commentary: Prigozhin’s Death and the Future of Putin’s Rule</td>\n",
       "      <td>https://news.google.com/articles/CBMia2h0dHBzOi8vd3d3LmZwcmkub3JnL2FydGljbGUvMjAyMy8wOC9mcHJpLWV4cGVydC1jb21tZW50YXJ5LXByaWdvemhpbnMtZGVhdGgtYW5kLXRoZS1mdXR1cmUtb2YtcHV0aW5zLXJ1bGUv0gEA?hl=en-US&gl=US&ceid=US%3Aen</td>\n",
       "      <td>2023-08-29</td>\n",
       "      <td><img src=\"data:image/jpeg;base64,<img src=\"data:image/jpeg;base64,https://lh3.googleusercontent.com/proxy/7ofoup6T0Bh1iqs0Ad2ihEMdJDs12OJBypnKLJLvV2N_VqCYtkJfsau4tHs8JbQ7kW8ZbRG708q2D4OrBTtihyaMiEZO_B__dxntETREmRlIwZIewxwbPtVKfzUvKuNB9dWLpAXPTdA4ddLeRQK2Y8W6krwwTiM-2PmqWVc=s0-w100-h100-rw-dcSSKa9ZwJ\" width=\"200\" />\" width=\"200\" /></td>\n",
       "    </tr>\n",
       "    <tr>\n",
       "      <th>36</th>\n",
       "      <td>US pauses certain assistance programs to Niger's government</td>\n",
       "      <td>https://news.google.com/articles/CBMiWWh0dHBzOi8vd3d3LmNubi5jb20vMjAyMy8wOC8wNC9wb2xpdGljcy9ibGlua2VuLW5pZ2VyLXBhdXNlLWZvcmVpZ24tYXNzaXN0YW5jZS9pbmRleC5odG1s0gFdaHR0cHM6Ly9hbXAuY25uLmNvbS9jbm4vMjAyMy8wOC8wNC9wb2xpdGljcy9ibGlua2VuLW5pZ2VyLXBhdXNlLWZvcmVpZ24tYXNzaXN0YW5jZS9pbmRleC5odG1s?hl=en-US&gl=US&ceid=US%3Aen</td>\n",
       "      <td>2023-08-04</td>\n",
       "      <td><img src=\"data:image/jpeg;base64,<img src=\"data:image/jpeg;base64,https://lh3.googleusercontent.com/proxy/kaPL1ydpsboEgc5Ss_zrjZS4Ay5rxA1YfOvWhn2bd0Jig4ZkcA58CBmTb9dBW5PwQmQa7Ugky_bUkLp1bhlPKJ5OixtM1APDQ68HNCfgKq5699lx4R96Be5TllAbbTxXgJI4XB6D=s0-w100-h100-rw-dchUGY1iBpuYgC\" width=\"200\" />\" width=\"200\" /></td>\n",
       "    </tr>\n",
       "    <tr>\n",
       "      <th>37</th>\n",
       "      <td>Japan to Reaffirm Demining Support for Ukraine at International ...</td>\n",
       "      <td>https://news.google.com/articles/CBMiTWh0dHBzOi8vamFwYW5uZXdzLnlvbWl1cmkuY28uanAvcG9saXRpY3MvcG9saXRpY3MtZ292ZXJubWVudC8yMDIzMDgyOS0xMzI5NDcv0gEA?hl=en-US&gl=US&ceid=US%3Aen</td>\n",
       "      <td>2023-08-29</td>\n",
       "      <td><img src=\"data:image/jpeg;base64,<img src=\"data:image/jpeg;base64,https://lh3.googleusercontent.com/proxy/aEVLtWjAD7fgKShNi-GQuIDi8pnXdSgFgRyKUN9mlYhin0uHXMyTNjFfbCXPrL4KBPFRuH_EMMOZo01dgU76UBhvqnAZelgYVFfvC5v6fnswP3RUJ9iR61pN9jQUiL6pUskx3L0W_5eZq0vSh9VElRSvOA4wJirP9ompoMzUEx7zob3jGBOSzcHNO-Ve3DeW_w=s0-w100-h100-rw-dcASCaYqBpwCUD\" width=\"200\" />\" width=\"200\" /></td>\n",
       "    </tr>\n",
       "    <tr>\n",
       "      <th>38</th>\n",
       "      <td>Ottawa warns LGBTQ travellers they could be hit by U.S. state laws</td>\n",
       "      <td>https://news.google.com/articles/CBMiU2h0dHBzOi8vd3d3LmNiYy5jYS9uZXdzL3BvbGl0aWNzL2dsb2JhbC1hZmZhaXJzLWxnYnQtdW5pdGVkc3RhdGVzLXdhcm5pbmctMS42OTUwODMz0gEgaHR0cHM6Ly93d3cuY2JjLmNhL2FtcC8xLjY5NTA4MzM?hl=en-US&gl=US&ceid=US%3Aen</td>\n",
       "      <td>2023-08-29</td>\n",
       "      <td><img src=\"data:image/jpeg;base64,<img src=\"data:image/jpeg;base64,https://lh3.googleusercontent.com/proxy/i77gjfJ9zIxRDA2ujPJ_3F74ahxMTWjTkbgS6U2Q_cjR0728nLvGWP-dQdRjm81tD8Ecn43H-QLXyHcx8nvHsL09iyXQcFXBtUe9cOKf6g1XZ7VmxKYqxLrtAkR6qQoGduq6p3iOuy6OmveXI7iXwwuL_3dLE6sy6Ywe3dlTPQ4hGts=s0-w100-h100-rw-dcpUOS7R0J\" width=\"200\" />\" width=\"200\" /></td>\n",
       "    </tr>\n",
       "    <tr>\n",
       "      <th>39</th>\n",
       "      <td>Foreign interference talks: Parties trade jabs for bipartisan chats ...</td>\n",
       "      <td>https://news.google.com/articles/CBMifWh0dHBzOi8vd3d3LmN0dm5ld3MuY2EvcG9saXRpY3MvZm9yZWlnbi1pbnRlcmZlcmVuY2UtdGFsa3MtcGFydGllcy10cmFkZS1qYWJzLWZvci1iaXBhcnRpc2FuLWNoYXRzLWZyb20tdGhlLWNvdHRhZ2UtMS42NTMzNTI50gFGaHR0cHM6Ly9iZXRhLmN0dm5ld3MuY2EvbmF0aW9uYWwvcG9saXRpY3MvMjAyMy84LzI0LzFfNjUzMzUyOS5hbXAuaHRtbA?hl=en-US&gl=US&ceid=US%3Aen</td>\n",
       "      <td>2023-08-24</td>\n",
       "      <td><img src=\"data:image/jpeg;base64,<img src=\"data:image/jpeg;base64,https://encrypted-tbn3.gstatic.com/faviconV2?url=https://www.lawfaremedia.org&client=NEWS_360&size=96&type=FAVICON&fallback_opts=TYPE,SIZE,URL\" width=\"200\" />\" width=\"200\" /></td>\n",
       "    </tr>\n",
       "    <tr>\n",
       "      <th>40</th>\n",
       "      <td>Revenge, or Reciprocity? The U.S.'s Review of Europe's SIGINT ...</td>\n",
       "      <td>https://news.google.com/articles/CBMia2h0dHBzOi8vd3d3Lmxhd2ZhcmVtZWRpYS5vcmcvYXJ0aWNsZS9yZXZlbmdlLW9yLXJlY2lwcm9jaXR5LXRoZS11LnMuLXMtcmV2aWV3LW9mLWV1cm9wZS1zLXNpZ2ludC1zYWZlZ3VhcmRz0gEA?hl=en-US&gl=US&ceid=US%3Aen</td>\n",
       "      <td>2023-08-29</td>\n",
       "      <td><img src=\"data:image/jpeg;base64,<img src=\"data:image/jpeg;base64,https://lh3.googleusercontent.com/proxy/8mqBJeduAFDwpuCvQ4zQKKLCi7vQdDY33J3ppAITCGq_Jy24YSUE4Hzh74OmImyYxNDyGvK9VfOFqlzGzcYc6C4RzXN9oiLgbpTNJX7ACNIZ3G-ZzTh3z4tVQRwjekQL9TkuR1tMVJhkuNqZSyofIKtP=s0-w100-h100-rw-dcARCGGgwL\" width=\"200\" />\" width=\"200\" /></td>\n",
       "    </tr>\n",
       "    <tr>\n",
       "      <th>41</th>\n",
       "      <td>Romanian LGBT community slams government's ECHR challenge</td>\n",
       "      <td>https://news.google.com/articles/CBMiaGh0dHBzOi8vd3d3LmV1cmFjdGl2LmNvbS9zZWN0aW9uL3BvbGl0aWNzL25ld3Mvcm9tYW5pYW4tbGdidC1jb21tdW5pdHktc2xhbXMtZ292ZXJubWVudHMtZWNoci1jaGFsbGVuZ2Uv0gEA?hl=en-US&gl=US&ceid=US%3Aen</td>\n",
       "      <td>2023-08-29</td>\n",
       "      <td><img src=\"data:image/jpeg;base64,<img src=\"data:image/jpeg;base64,https://lh3.googleusercontent.com/proxy/x1e98aTjQjNPt6HfPLVgdf6kI4rd0zcTsVIc_J1Je9Fbf5cQkdRNIEXKW_niWP4QJxK3R8ucbJiJS2E1WRxWt_RQyAqw8o8T_qm3sFLoUHxtttM3YeDYnAhQQlTI61vZ0sKwTe3O-hfPsR-JO-zpIChA0zt11jw9hqUXD56ptZxR0bW4hMd_Fopq5j9QAzcy5IvfDktjfFNjLB-l=s0-w100-h100-rw-dcrYSErjkE\" width=\"200\" />\" width=\"200\" /></td>\n",
       "    </tr>\n",
       "    <tr>\n",
       "      <th>42</th>\n",
       "      <td>‘Appalling’: B.C. mayor unimpressed with Ottawa amid foreign meddling claim</td>\n",
       "      <td>https://news.google.com/articles/CBMiUmh0dHBzOi8vZ2xvYmFsbmV3cy5jYS9uZXdzLzk5MTk3ODcvYmMtbWF5b3ItY3JpdGljaXNtLW90dGF3YS1mb3JlaWduLWludGVyZmVyZW5jZS_SAVZodHRwczovL2dsb2JhbG5ld3MuY2EvbmV3cy85OTE5Nzg3L2JjLW1heW9yLWNyaXRpY2lzbS1vdHRhd2EtZm9yZWlnbi1pbnRlcmZlcmVuY2UvYW1wLw?hl=en-US&gl=US&ceid=US%3Aen</td>\n",
       "      <td>2023-08-25</td>\n",
       "      <td><img src=\"data:image/jpeg;base64,<img src=\"data:image/jpeg;base64,https://lh3.googleusercontent.com/proxy/Wpg_KmYCqi4wgffH-71EIzO1A_AiUDOV1r7OMvf5YsLVL4ibbRtWEvioKcjUCwmQjwC5Dbg3GMuzVt95M0kkhYcaRpvf8hKESDX7oLawbid-4mMnUrfvUdMukt2M5fmOacTBoyDj6PULbw4GhbRDffZNENA_LizU=s0-w100-h100-rw-dcpQWADZ4D\" width=\"200\" />\" width=\"200\" /></td>\n",
       "    </tr>\n",
       "    <tr>\n",
       "      <th>43</th>\n",
       "      <td>The interest group politics of online content regulation</td>\n",
       "      <td>https://news.google.com/articles/CBMiZ2h0dHBzOi8vYmxvZ3MubHNlLmFjLnVrL2V1cm9wcGJsb2cvMjAyMy8wOC8yOS90aGUtaW50ZXJlc3QtZ3JvdXAtcG9saXRpY3Mtb2Ytb25saW5lLWNvbnRlbnQtcmVndWxhdGlvbi_SAQA?hl=en-US&gl=US&ceid=US%3Aen</td>\n",
       "      <td>2023-08-29</td>\n",
       "      <td><img src=\"data:image/jpeg;base64,<img src=\"data:image/jpeg;base64,https://lh3.googleusercontent.com/proxy/y-6ZOMUXg7unXfr0BuzGI8FYD1H4-plO7M4kE_XiFbxDLcxgXppJBSueFUuaqMakjw0m0NAVf7FdUIiIU7VvpTdznAU1M7EvkefjpxXgYZyT83WOY6beul1pGZDyzzI-rSksTHiWWw_-Y4n-_HvIbPDgpvV3I08zjW_j2URWE97skqVRnwRs03aT8vQ3sbZ5ITT3RCrMI-22gvZfmTuT8HoXfYU=s0-w100-h100-rw-dcHTCYCx4J\" width=\"200\" />\" width=\"200\" /></td>\n",
       "    </tr>\n",
       "    <tr>\n",
       "      <th>44</th>\n",
       "      <td>Australia to upgrade Vietnam ties, foreign minister says</td>\n",
       "      <td>https://news.google.com/articles/CBMicGh0dHBzOi8vYXNpYS5uaWtrZWkuY29tL1BvbGl0aWNzL0ludGVybmF0aW9uYWwtcmVsYXRpb25zL0F1c3RyYWxpYS10by11cGdyYWRlLVZpZXRuYW0tdGllcy1mb3JlaWduLW1pbmlzdGVyLXNheXPSAQA?hl=en-US&gl=US&ceid=US%3Aen</td>\n",
       "      <td>2023-08-24</td>\n",
       "      <td><img src=\"data:image/jpeg;base64,<img src=\"data:image/jpeg;base64,https://lh3.googleusercontent.com/proxy/JpKYA8Rb4Q9nJoT_c-1R2i1gCM8S2hFFg-8UyrdUOlloAV0G2-rcd5q581uHGQDkGl-QEKIrc2wFjEtNq8AOo9jpRaAvQE4XS_F0R5jpvkNpYBIpBEAHqLDXGPhG5ttUDSjaa9NN4FI_4A-EXDl3io5MoUebfvr1GT46i44Xg232UD-Kx_et_4Z7Rk9cMCIZR33o4zh1xFRpPbWgnowi2GRdh1LDmpg=s0-w100-h100-rw-dcHVOMKyII\" width=\"200\" />\" width=\"200\" /></td>\n",
       "    </tr>\n",
       "    <tr>\n",
       "      <th>45</th>\n",
       "      <td>Gen. Milley says 'we don't like the outcome' of Afghanistan, vows 'accountability' for Gold Star families</td>\n",
       "      <td>https://news.google.com/articles/CBMidGh0dHBzOi8vd3d3LmZveG5ld3MuY29tL3BvbGl0aWNzL21pbGxleS1zYXlzLXdlLWRvbnQtbGlrZS1vdXRjb21lLWFmZ2hhbmlzdGFuLXZvd3MtYWNjb3VudGFiaWxpdHktZ29sZC1zdGFyLWZhbWlsaWVz0gF4aHR0cHM6Ly93d3cuZm94bmV3cy5jb20vcG9saXRpY3MvbWlsbGV5LXNheXMtd2UtZG9udC1saWtlLW91dGNvbWUtYWZnaGFuaXN0YW4tdm93cy1hY2NvdW50YWJpbGl0eS1nb2xkLXN0YXItZmFtaWxpZXMuYW1w?hl=en-US&gl=US&ceid=US%3Aen</td>\n",
       "      <td>2023-08-29</td>\n",
       "      <td><img src=\"data:image/jpeg;base64,<img src=\"data:image/jpeg;base64,https://lh3.googleusercontent.com/proxy/XvyD28dh-iGyCBP25dERMn7fgSeZ-cDU0ce5NBETAGW6zfwO-AG4HeDQ1NQ1fQNSMSkhFwD3GO-QVvqo8-OZyQy2jHFaBvRkWgAANOA5_6ctFAIloLjkKSUt5cB4CinBfdVCtPkolvXfgQLPQNF4E1-LZ__FEtOzKms=s0-w100-h100-rw-dcwXKGE7UF\" width=\"200\" />\" width=\"200\" /></td>\n",
       "    </tr>\n",
       "    <tr>\n",
       "      <th>46</th>\n",
       "      <td>Iran Welcomes Dialogue with Netherlands: Diplomat</td>\n",
       "      <td>https://news.google.com/articles/CBMiZmh0dHBzOi8vd3d3LnRhc25pbW5ld3MuY29tL2VuL25ld3MvMjAyMy8wOC8yOC8yOTQ4MTcyL2lyYW4td2VsY29tZXMtZGlhbG9ndWUtd2l0aC1uZXRoZXJsYW5kcy1kaXBsb21hdNIBamh0dHBzOi8vd3d3LnRhc25pbW5ld3MuY29tL2VuL25ld3MvMjAyMy8wOC8yOC8yOTQ4MTcyL2lyYW4td2VsY29tZXMtZGlhbG9ndWUtd2l0aC1uZXRoZXJsYW5kcy1kaXBsb21hdC9hbXA?hl=en-US&gl=US&ceid=US%3Aen</td>\n",
       "      <td>2023-08-28</td>\n",
       "      <td><img src=\"data:image/jpeg;base64,<img src=\"data:image/jpeg;base64,https://lh3.googleusercontent.com/proxy/Zrb7jbvkW6OtreBQxlQdYBN6yYLEnmSXDNVW7ffXfgKCvRw-mOYMz7O6vPtCXzE5kFlGaYf-gcxHu53SLO0Wj4lPKEUoh0ZQyNR-ks9rw4zbnr95dhNvrxLUOqsPtBmb2vTBfb-nTasooROVGCMCzMAHPhI=s0-w100-h100-rw-dcATCE6BkK\" width=\"200\" />\" width=\"200\" /></td>\n",
       "    </tr>\n",
       "    <tr>\n",
       "      <th>47</th>\n",
       "      <td>Politics, as well as economics, matter when making climate policy</td>\n",
       "      <td>https://news.google.com/articles/CBMiP2h0dHBzOi8vd3d3LmZ0LmNvbS9jb250ZW50LzVhOGEzNGIwLWQ5NzMtNGYzNS05OTM3LTE4ZTFhM2Y5N2MxMtIBAA?hl=en-US&gl=US&ceid=US%3Aen</td>\n",
       "      <td>2023-08-27</td>\n",
       "      <td><img src=\"data:image/jpeg;base64,<img src=\"data:image/jpeg;base64,https://lh3.googleusercontent.com/proxy/gU-iF_pDQ4Kjva1gnT-8MxMFDgAwTvoutGnvcYaXj0yqv-BTsHBwVyU-mDjul5PcPsa4__vbinnDi3fFrxJaKrk3RfczmiuszSQcPfXjSlrABxHIkS76vNI2aGkqXnEEmPF_pAnlKCBF19k01Q=s0-w100-h100-rw-dcAQCC8IyjgwkC\" width=\"200\" />\" width=\"200\" /></td>\n",
       "    </tr>\n",
       "    <tr>\n",
       "      <th>48</th>\n",
       "      <td>In Sudan, Where Is the International Community's Responsibility to ...</td>\n",
       "      <td>https://news.google.com/articles/CBMia2h0dHBzOi8vYXJhYmNlbnRlcmRjLm9yZy9yZXNvdXJjZS9pbi1zdWRhbi13aGVyZS1pcy10aGUtaW50ZXJuYXRpb25hbC1jb21tdW5pdHlzLXJlc3BvbnNpYmlsaXR5LXRvLXByb3RlY3Qv0gEA?hl=en-US&gl=US&ceid=US%3Aen</td>\n",
       "      <td>2023-08-29</td>\n",
       "      <td><img src=\"data:image/jpeg;base64,<img src=\"data:image/jpeg;base64,https://lh3.googleusercontent.com/proxy/mjYR2bBPMEgcERJUUE7yn_dE7J8jkSYIoNzIHXuNXnKeuMzULMVgu70sd65-FIUncWFOTmlfEZzJAO5DFdK8GQKDqphOT9mnNKodB4AeIEUqsAjTox9_F13UN5L67rY1aSU4uZzw5HaKWA=s0-w100-h100-rw-dcAVGQ0TQG\" width=\"200\" />\" width=\"200\" /></td>\n",
       "    </tr>\n",
       "    <tr>\n",
       "      <th>49</th>\n",
       "      <td>Brazil Feels Almost Normal Again</td>\n",
       "      <td>https://news.google.com/articles/CBMiR2h0dHBzOi8vYW1lcmljYXNxdWFydGVybHkub3JnL2FydGljbGUvYnJhemlsLWZlZWxzLWFsbW9zdC1ub3JtYWwtYWdhaW4v0gEA?hl=en-US&gl=US&ceid=US%3Aen</td>\n",
       "      <td>2023-08-29</td>\n",
       "      <td><img src=\"data:image/jpeg;base64,<img src=\"data:image/jpeg;base64,https://lh3.googleusercontent.com/proxy/RjT3qDSOi5CyjnHC_v8tSTBbE2Y8cAhTPsHwY-d0AA-KFyCRj1qE0TsWSk9Sb_rkM3kqncrS9qWDxnNBrqxop6tau6qTcreud8r-f-O4zY9ykknJbzk5kkPJgNDYmP5ZXimTYH4WYeHyMcpD4ryEfb-Nzyy-LyZclECzhd3fUzqD7nzyAtTAoOch2HulHHpyRRYd4kuxshfyaBcbEdHg1RceoBe8Zg=s0-w100-h100-rw-dcgUIA\" width=\"200\" />\" width=\"200\" /></td>\n",
       "    </tr>\n",
       "    <tr>\n",
       "      <th>50</th>\n",
       "      <td>Landlocked Ethiopia wants better sea access: a port deal with ...</td>\n",
       "      <td>https://news.google.com/articles/CBMigwFodHRwczovL3RoZWNvbnZlcnNhdGlvbi5jb20vbGFuZGxvY2tlZC1ldGhpb3BpYS13YW50cy1iZXR0ZXItc2VhLWFjY2Vzcy1hLXBvcnQtZGVhbC13aXRoLW5laWdoYm91cnMtY291bGQtYmVuZWZpdC10aGUtcmVnaW9uLTIxMTc1OdIBAA?hl=en-US&gl=US&ceid=US%3Aen</td>\n",
       "      <td>2023-08-29</td>\n",
       "      <td><img src=\"data:image/jpeg;base64,<img src=\"data:image/jpeg;base64,https://lh3.googleusercontent.com/proxy/Cz5W3EmGlOZPLDtcXFmyabgCa_xE5IV7cm7IKhZDrAsBU1my_rKkYqJbB7KDV-VMnj7yQWu4hOibIJX8L8za8M7v=s0-w100-h100-rw-dcoWaIDC4G\" width=\"200\" />\" width=\"200\" /></td>\n",
       "    </tr>\n",
       "    <tr>\n",
       "      <th>51</th>\n",
       "      <td>Martin to discuss Ukraine and Niger with EU ministers in Spain</td>\n",
       "      <td>https://news.google.com/articles/CBMiQGh0dHBzOi8vd3d3LnJ0ZS5pZS9uZXdzL3BvbGl0aWNzLzIwMjMvMDgyOS8xNDAyMTYyLW1hcnRpbi1zcGFpbi_SAQA?hl=en-US&gl=US&ceid=US%3Aen</td>\n",
       "      <td>2023-08-28</td>\n",
       "      <td><img src=\"data:image/jpeg;base64,<img src=\"data:image/jpeg;base64,https://lh3.googleusercontent.com/proxy/TkiIZsfdA7T7bX8IakgHLDmA-fjGjsmjo66Ow9PxbR4_eWwpLt8IcgjPNzf5j8k_qXPATE23RAkBHQgGkVL9sb9-xz2cTWXRwNdvdAH504sJyFp0ANgUalpj_pigEuHYIBrS5CUu2n6fRCmGWMJhY_BitwUp7ArpfRk=s0-w100-h100-rw-dcAaCI4sJkNXAB\" width=\"200\" />\" width=\"200\" /></td>\n",
       "    </tr>\n",
       "    <tr>\n",
       "      <th>52</th>\n",
       "      <td>Iran Says Resolved to Fulfill ACD Goals</td>\n",
       "      <td>https://news.google.com/articles/CBMiXWh0dHBzOi8vd3d3LnRhc25pbW5ld3MuY29tL2VuL25ld3MvMjAyMy8wOC8yOS8yOTQ4NzczL2lyYW4tc2F5cy1yZXNvbHZlZC10by1mdWxmaWxsLWFjZC1nb2Fsc9IBYWh0dHBzOi8vd3d3LnRhc25pbW5ld3MuY29tL2VuL25ld3MvMjAyMy8wOC8yOS8yOTQ4NzczL2lyYW4tc2F5cy1yZXNvbHZlZC10by1mdWxmaWxsLWFjZC1nb2Fscy9hbXA?hl=en-US&gl=US&ceid=US%3Aen</td>\n",
       "      <td>2023-08-29</td>\n",
       "      <td><img src=\"data:image/jpeg;base64,<img src=\"data:image/jpeg;base64,https://lh3.googleusercontent.com/proxy/3RCXEfRj0ON00ROCUqLGZurPueM6rosTNcug8anwvOncfpcbEhLjyR-LBO8wdvptsIs6xFYJHe2XR4DywCGHVjfx4-64-i-MjfA9LVIj-QTO_G12fxMieEglB63QuIFC=s0-w100-h100-rw-dcAXCGdlTjuPUA\" width=\"200\" />\" width=\"200\" /></td>\n",
       "    </tr>\n",
       "    <tr>\n",
       "      <th>53</th>\n",
       "      <td>Economic diplomacy contributes to national development: Deputy FM</td>\n",
       "      <td>https://news.google.com/articles/CBMiZWh0dHBzOi8vZW4udmlldG5hbXBsdXMudm4vZWNvbm9taWMtZGlwbG9tYWN5LWNvbnRyaWJ1dGVzLXRvLW5hdGlvbmFsLWRldmVsb3BtZW50LWRlcHV0eS1mbS8yNjcwOTgudm5w0gFlaHR0cHM6Ly9lbi52aWV0bmFtcGx1cy52bi9lY29ub21pYy1kaXBsb21hY3ktY29udHJpYnV0ZXMtdG8tbmF0aW9uYWwtZGV2ZWxvcG1lbnQtZGVwdXR5LWZtLzI2NzA5OC5hbXA?hl=en-US&gl=US&ceid=US%3Aen</td>\n",
       "      <td>2023-08-29</td>\n",
       "      <td><img src=\"data:image/jpeg;base64,<img src=\"data:image/jpeg;base64,https://lh3.googleusercontent.com/proxy/T7dcTEK7Bw9yfCyTnt9mz0zWsAihdbtOZRqKPGQM9OC-YKImYLan-ZJjgLZjNq5KIK1UO_PrrdPDtMXW3fzAqIDbjlSj4nyw-2NYw_MVBWLmqcbJFoyE5otpIHhc0iFyX2LOGZNnRBLBdZw5-AcnAcQMXeOSXNJgo3H9Y_SyKYz9Iv-7JPQ=s0-w100-h100-rw-dczZIB\" width=\"200\" />\" width=\"200\" /></td>\n",
       "    </tr>\n",
       "    <tr>\n",
       "      <th>54</th>\n",
       "      <td>New faculty expand Clark's expertise in disciplines across campus</td>\n",
       "      <td>https://news.google.com/articles/CBMiaGh0dHBzOi8vY2xhcmtub3cuY2xhcmt1LmVkdS8yMDIzLzA4LzI0L25ldy1mYWN1bHR5LWV4cGFuZC1jbGFya3MtZXhwZXJ0aXNlLWluLWRpc2NpcGxpbmVzLWFjcm9zcy1jYW1wdXMv0gEA?hl=en-US&gl=US&ceid=US%3Aen</td>\n",
       "      <td>2023-08-24</td>\n",
       "      <td><img src=\"data:image/jpeg;base64,<img src=\"data:image/jpeg;base64,https://lh3.googleusercontent.com/proxy/849bM1hYoFfXxQMkSKvPLCkJYHH5uAijtTxAgYOYnq95yASShqF_bNKU0OF9GpTzImp6gphavxbnjQ2Myt7Cdu0L3u6YBtPUkWscUbWeG1RAOYVsSBmmgZ7l4Hm8Ml5xfmncXbkK3pUwap2LPdIEXu7u16nfEH_VpmFIe6D9u4Wn-5BFYtTudZhMEsX9mfPArkH2KNs6Oce-1Pc5it3UNIfUxJjrKtFgB4cX-6E6ER-KtkZc5sw2BnMQHw=s0-w100-h100-rw-dcAbGM5bwF\" width=\"200\" />\" width=\"200\" /></td>\n",
       "    </tr>\n",
       "    <tr>\n",
       "      <th>55</th>\n",
       "      <td>Racist language not tolerated in Government documents, minister says</td>\n",
       "      <td>https://news.google.com/articles/CBMidmh0dHBzOi8vd3d3LnN0YW5kYXJkLmNvLnVrL25ld3MvcG9saXRpY3MvY2FiaW5ldC1vZmZpY2UtZ292ZXJubWVudC1mb3JlaWduLW9mZmljZS1sYWJvdXItdGhlLWluZGVwZW5kZW50LWIxMTAzMjQzLmh0bWzSAQA?hl=en-US&gl=US&ceid=US%3Aen</td>\n",
       "      <td>2023-08-27</td>\n",
       "      <td><img src=\"data:image/jpeg;base64,<img src=\"data:image/jpeg;base64,https://lh3.googleusercontent.com/proxy/TOOp7DXCno7JZoI6qAdvnWNE6TMilQU7hpFiKBXuDyEkTmdxomP5W8oCu4mfYbXZ6HxufKjlcRpt471ske_YTLJaf5ObaoIIyWNYsZdIuGkHBLxk2Xq0jchFAA=s0-w100-h100-rw-dcLTSecJ0J\" width=\"200\" />\" width=\"200\" /></td>\n",
       "    </tr>\n",
       "    <tr>\n",
       "      <th>56</th>\n",
       "      <td>Zelensky Prepared to Reciprocate on Matter of Hungarian Minority ...</td>\n",
       "      <td>https://news.google.com/articles/CBMihAFodHRwczovL2Jiai5odS9wb2xpdGljcy9mb3JlaWduLWFmZmFpcnMvaW50LWwtcmVsYXRpb25zL3plbGVuc2t5LXByZXBhcmVkLXRvLXJlY2lwcm9jYXRlLW9uLW1hdHRlci1vZi1odW5nYXJpYW4tbWlub3JpdHktJUMyJUEwbm92YWvSAQA?hl=en-US&gl=US&ceid=US%3Aen</td>\n",
       "      <td>2023-08-29</td>\n",
       "      <td><img src=\"data:image/jpeg;base64,<img src=\"data:image/jpeg;base64,https://lh3.googleusercontent.com/jaJdM8nW3-5-wqVikZqfyeyFFK4eWLXkw-T2tzK46k3owgbrRuFWSIksahjqm3icN6IdnI7zVw=s0-h14-rw\" width=\"200\" />\" width=\"200\" /></td>\n",
       "    </tr>\n",
       "    <tr>\n",
       "      <th>57</th>\n",
       "      <td>As Nauru Shows, Asylum Outsourcing Has Unexpected Impacts on ...</td>\n",
       "      <td>https://news.google.com/articles/CBMibWh0dHBzOi8vcmVsaWVmd2ViLmludC9yZXBvcnQvYXVzdHJhbGlhL25hdXJ1LXNob3dzLWFzeWx1bS1vdXRzb3VyY2luZy1oYXMtdW5leHBlY3RlZC1pbXBhY3RzLWhvc3QtY29tbXVuaXRpZXPSAQA?hl=en-US&gl=US&ceid=US%3Aen</td>\n",
       "      <td>2023-08-29</td>\n",
       "      <td><img src=\"data:image/jpeg;base64,<img src=\"data:image/jpeg;base64,https://lh3.googleusercontent.com/proxy/-Ca-_xW_cSh1aZhxql49qaH-rMGw4ZroC6fPweB63UO4flbsLjycp9OZX0UiBjBPOb5GffdLQ06_P11kUVkuBcjGz2k1cZobVpDi0ueiezcw2rfjOEsuvd1v3kqUElovgnrhKhaeKU-iL_MOXDXDHYVZRZkEWXUBPSkb1Q=s0-w100-h100-rw-dcHUOKUEUF\" width=\"200\" />\" width=\"200\" /></td>\n",
       "    </tr>\n",
       "    <tr>\n",
       "      <th>58</th>\n",
       "      <td>Foreign aid, trade and the delicate China challenge</td>\n",
       "      <td>https://news.google.com/articles/CBMiTmh0dHBzOi8vdGhlbmV3ZGFpbHkuY29tLmF1L25ld3MvcG9saXRpY3MvMjAyMy8wOC8wOC9jaGluYS1haWQtdHJhZGUtY2hhbGxlbmdlL9IBUmh0dHBzOi8vdGhlbmV3ZGFpbHkuY29tLmF1L25ld3MvcG9saXRpY3MvMjAyMy8wOC8wOC9jaGluYS1haWQtdHJhZGUtY2hhbGxlbmdlL2FtcC8?hl=en-US&gl=US&ceid=US%3Aen</td>\n",
       "      <td>2023-08-08</td>\n",
       "      <td><img src=\"data:image/jpeg;base64,<img src=\"data:image/jpeg;base64,https://lh3.googleusercontent.com/proxy/X3EAlloXrsOugXae1Tp82XqoE1mSFNuW_7egRUX0wYqNlDdFh82BSdOkUpSAEyN7NjnwC1B1FBZvS5QISthWLWC34NPJUvEwQu4bjhsovfppB0CGwdrl6rXePCOHriNkpNmnLi1K_fOl3Qi9fWp9rg4O8v84cqGAsik=s0-w100-h100-rw-dcESCQz5kG\" width=\"200\" />\" width=\"200\" /></td>\n",
       "    </tr>\n",
       "    <tr>\n",
       "      <th>59</th>\n",
       "      <td>Iran, Uzbekistan Discuss Arrangements for ECO Summit</td>\n",
       "      <td>https://news.google.com/articles/CBMiaWh0dHBzOi8vd3d3LnRhc25pbW5ld3MuY29tL2VuL25ld3MvMjAyMy8wOC8yOS8yOTQ4Nzg3L2lyYW4tdXpiZWtpc3Rhbi1kaXNjdXNzLWFycmFuZ2VtZW50cy1mb3ItZWNvLXN1bW1pdNIBbWh0dHBzOi8vd3d3LnRhc25pbW5ld3MuY29tL2VuL25ld3MvMjAyMy8wOC8yOS8yOTQ4Nzg3L2lyYW4tdXpiZWtpc3Rhbi1kaXNjdXNzLWFycmFuZ2VtZW50cy1mb3ItZWNvLXN1bW1pdC9hbXA?hl=en-US&gl=US&ceid=US%3Aen</td>\n",
       "      <td>2023-08-29</td>\n",
       "      <td><img src=\"data:image/jpeg;base64,<img src=\"data:image/jpeg;base64,https://lh3.googleusercontent.com/proxy/kNvDeCSnWNO5hTFAtlOk8QxyiZB3RJvc4l2Ok6lslLCokOmSlhk0luXLEQ7ay1HH86CvwH28SrrZq6g-exooQFJACXsYDSnkpneLDqs2dwa11wJwOZxAqfzdG9wK50QAmylnb4bI85XEB9WY083J03_201RSmWw2gE1xhCriITMgwAZsI4SzyDCquaIwJZsHE9Q=s0-w100-h100-rw-dcATCa7RkK\" width=\"200\" />\" width=\"200\" /></td>\n",
       "    </tr>\n",
       "    <tr>\n",
       "      <th>60</th>\n",
       "      <td>UK foreign aid cuts: Thousands will die as a result, says report</td>\n",
       "      <td>https://news.google.com/articles/CBMiL2h0dHBzOi8vd3d3LmJiYy5jby51ay9uZXdzL3VrLXBvbGl0aWNzLTY2Mzc4MzY00gEzaHR0cHM6Ly93d3cuYmJjLmNvLnVrL25ld3MvdWstcG9saXRpY3MtNjYzNzgzNjQuYW1w?hl=en-US&gl=US&ceid=US%3Aen</td>\n",
       "      <td>2023-08-02</td>\n",
       "      <td><img src=\"data:image/jpeg;base64,<img src=\"data:image/jpeg;base64,https://lh3.googleusercontent.com/proxy/A4EJRiC6lcp_5n0WxZOjS6lrGWgrq_xuJuNZe2xp3sjVAsvZsL4kDMI5VuZyex_49PO1DEqSgieh9I4geRY58x9ZmJk6nezLHDTlrj2M1bVl5DTn8Slmsso2AB8QNclsWsz34j9im-qkMVjH-1R0dNUG355xNtzrba636LxWXjjmb-kvFK21Vcy3duGJBdBdpVGp=s0-w100-h100-rw-dcBSKaxBpqPcUC\" width=\"200\" />\" width=\"200\" /></td>\n",
       "    </tr>\n",
       "    <tr>\n",
       "      <th>61</th>\n",
       "      <td>Hunter Biden buckles up in ritzy LA neighborhood amid questions of possible FARA violations</td>\n",
       "      <td>https://news.google.com/articles/CBMicWh0dHBzOi8vd3d3LmZveG5ld3MuY29tL3BvbGl0aWNzL2h1bnRlci1iaWRlbi1idWNrbGVzLXVwLXJpdHp5LWxhLW5laWdoYm9yaG9vZC1xdWVzdGlvbnMtcG9zc2libGUtZmFyYS12aW9sYXRpb25z0gF1aHR0cHM6Ly93d3cuZm94bmV3cy5jb20vcG9saXRpY3MvaHVudGVyLWJpZGVuLWJ1Y2tsZXMtdXAtcml0enktbGEtbmVpZ2hib3Job29kLXF1ZXN0aW9ucy1wb3NzaWJsZS1mYXJhLXZpb2xhdGlvbnMuYW1w?hl=en-US&gl=US&ceid=US%3Aen</td>\n",
       "      <td>2023-08-28</td>\n",
       "      <td><img src=\"data:image/jpeg;base64,<img src=\"data:image/jpeg;base64,https://lh3.googleusercontent.com/proxy/80wQ-cqCtV0UuMGdhUtJGz4FsHCvcfY79XbEjvVcALvtaNMTnoFLKAiMjNZItcao0e_k7Q5oHPZxsw61uKkKxVnXWqx_EY02uH-3y20=s0-w100-h100-rw-dcFTSGcJmqiokC\" width=\"200\" />\" width=\"200\" /></td>\n",
       "    </tr>\n",
       "    <tr>\n",
       "      <th>62</th>\n",
       "      <td>U.S. Aid Organization Uses Budapest Base for Operations in ...</td>\n",
       "      <td>https://news.google.com/articles/CBMieGh0dHBzOi8vYmJqLmh1L3BvbGl0aWNzL2ZvcmVpZ24tYWZmYWlycy91a3JhaW5lLWNyaXNpcy91LXMtYWlkLW9yZ2FuaXphdGlvbi11c2VzLWJ1ZGFwZXN0LWJhc2UtZm9yLW9wZXJhdGlvbnMtaW4tdWtyYWluZdIBAA?hl=en-US&gl=US&ceid=US%3Aen</td>\n",
       "      <td>2023-08-29</td>\n",
       "      <td><img src=\"data:image/jpeg;base64,<img src=\"data:image/jpeg;base64,https://lh3.googleusercontent.com/proxy/I5Co21J30Jr9d5F5-GmIhfNdyN3Vv30xKtmZijmOVw28PadHRNcK7ra6KmxFc1jy41W4XGf3wRItJaTGt2HHv3btOAW-RylMKmZeJenPA7cTAdLzYcZboNM5vDQ9rOOd1zPnsMYNfREWj1i_wr4SEIU-GhPEwyzQnfDxODk2Nw6dHdg_dJNp65WXA8WD6uGY2X02b5qOemaMr1pqIAFqlDL3rtymVCsiy7bVjydJsbX46czXmLScdIJXyNKPfTbvEESuvuHFX75AHAXGfcIgSdAA5iluFG4EzNjIOKUuS7LymQ0YyA=s0-w100-h100-rw-dcLTaW7R0J\" width=\"200\" />\" width=\"200\" /></td>\n",
       "    </tr>\n",
       "    <tr>\n",
       "      <th>63</th>\n",
       "      <td>Ramaswamy camp uses Haley’s first name in attack that has critics raising eyebrows</td>\n",
       "      <td>https://news.google.com/articles/CBMiamh0dHBzOi8vd3d3LmZveG5ld3MuY29tL3BvbGl0aWNzL3JhbWFzd2FteS1jYW1wLXVzZXMtaGFsZXlzLWZpcnN0LW5hbWUtYXR0YWNrLWhhcy1jcml0aWNzLXJhaXNpbmctZXllYnJvd3PSAW5odHRwczovL3d3dy5mb3huZXdzLmNvbS9wb2xpdGljcy9yYW1hc3dhbXktY2FtcC11c2VzLWhhbGV5cy1maXJzdC1uYW1lLWF0dGFjay1oYXMtY3JpdGljcy1yYWlzaW5nLWV5ZWJyb3dzLmFtcA?hl=en-US&gl=US&ceid=US%3Aen</td>\n",
       "      <td>2023-08-28</td>\n",
       "      <td><img src=\"data:image/jpeg;base64,<img src=\"data:image/jpeg;base64,https://lh3.googleusercontent.com/proxy/_GK1tPjM0Q8aYcsbfdndooepH896oZ-Q6WaJ4SM_R5UL0xNqeTv9saPQK7dzWCuJGUIPp53Gc_bCpt_Qevq1JRkQH07W9tzjXeHX3no8DiIX74KLU2zLXgsQTHCRd8gprFP2djgUo_lWr8snoTMr9SnTwwCVdJsoTLm8Yk4cjR3hWIwUtn8idbK9ubM3XIn2EzcbPzWxVcKD8Pn6ieHQKkwUtYAwQCu7HPGd_Sq0KBbh6EIfgkh-TQDE58iwi5U5AGvCGA=s0-w100-h100-rw-dcHUeKSSYI\" width=\"200\" />\" width=\"200\" /></td>\n",
       "    </tr>\n",
       "    <tr>\n",
       "      <th>64</th>\n",
       "      <td>Head of Japan coalition partner postpones China visit at Beijing's ...</td>\n",
       "      <td>https://news.google.com/articles/CBMigwFodHRwczovL2FzaWEubmlra2VpLmNvbS9Qb2xpdGljcy9JbnRlcm5hdGlvbmFsLXJlbGF0aW9ucy9IZWFkLW9mLUphcGFuLWNvYWxpdGlvbi1wYXJ0bmVyLXBvc3Rwb25lcy1DaGluYS12aXNpdC1hdC1CZWlqaW5nLXMtcmVxdWVzdNIBAA?hl=en-US&gl=US&ceid=US%3Aen</td>\n",
       "      <td>2023-08-26</td>\n",
       "      <td><img src=\"data:image/jpeg;base64,<img src=\"data:image/jpeg;base64,https://lh3.googleusercontent.com/proxy/jLrVV-2xHogdGcqJxGxBzEDPR6LTCdusV7uSfvFFlDHSnBEjwLP84dQA03ejjXmVIVBLXYN8JPGb3y5RPo2senO4FKOyEr8xsLsxaZ7-Em4KahITP59rn58D8YTlMDBciZwQc4yQkqK0ax3HPX7bVVyCrekfUN1Nrqu6Q9GkoNG3mFYpf8r4gCE7pt3rx9M=s0-w100-h100-rw-dckUGc1RzpqWcC\" width=\"200\" />\" width=\"200\" /></td>\n",
       "    </tr>\n",
       "    <tr>\n",
       "      <th>65</th>\n",
       "      <td>House Republican leaders want to launch Biden impeachment inquiry next month, sources say</td>\n",
       "      <td>https://news.google.com/articles/CBMiXmh0dHBzOi8vd3d3LmZveG5ld3MuY29tL3BvbGl0aWNzL2hvdXNlLXJlcHVibGljYW4tbGVhZGVycy1iaWRlbi1pbXBlYWNobWVudC1pbnF1aXJ5LW5leHQtbW9udGjSAWJodHRwczovL3d3dy5mb3huZXdzLmNvbS9wb2xpdGljcy9ob3VzZS1yZXB1YmxpY2FuLWxlYWRlcnMtYmlkZW4taW1wZWFjaG1lbnQtaW5xdWlyeS1uZXh0LW1vbnRoLmFtcA?hl=en-US&gl=US&ceid=US%3Aen</td>\n",
       "      <td>2023-08-29</td>\n",
       "      <td><img src=\"data:image/jpeg;base64,<img src=\"data:image/jpeg;base64,https://lh3.googleusercontent.com/proxy/5qZ_pl0b1wuXLQlUBNLaF73jm1GRaIhnT_MUgqpSJxwfljgQ9mHZ8ejsYLpenKTvKevvCA56QD63E97G1dQoTLpVVmvaFLWItoK1HdxvNiww6fB4yFYEqsPUX4FeRQC0wAzhrZqadaUEpqWXV_sxBbgND35Tp5ZQimF5lFwm0L1hCU9u4IzIpmO6uE4cbyfc7HHFGZgf2w=s0-w100-h100-rw-dcCVGWpqYI\" width=\"200\" />\" width=\"200\" /></td>\n",
       "    </tr>\n",
       "    <tr>\n",
       "      <th>66</th>\n",
       "      <td>No Leader Makes Foreign Policy Decisions Without Considering ...</td>\n",
       "      <td>https://news.google.com/articles/CBMigQFodHRwczovL2Nhcm5lZ2llZW5kb3dtZW50Lm9yZy8yMDIzLzAxLzE4L25vLWxlYWRlci1tYWtlcy1mb3JlaWduLXBvbGljeS1kZWNpc2lvbnMtd2l0aG91dC1jb25zaWRlcmluZy1kb21lc3RpYy1wb2xpdGljcy1wdWItODg4MjDSAQA?hl=en-US&gl=US&ceid=US%3Aen</td>\n",
       "      <td>2023-01-18</td>\n",
       "      <td><img src=\"data:image/jpeg;base64,<img src=\"data:image/jpeg;base64,https://lh3.googleusercontent.com/proxy/YvDep9c8IPMSoiR32U0jfiHY50ZbeJdTvXaQFoWAzwQKURxV0YJx28GZwSaYPMzVzPgYAECWi9T26En_f-Xsw7NFpbWGT4fF2iceagkOM8MNZ3TFvBOwk5hwuTxIIlbY8FlOmKzUIBZdGLfPdPwcjl15X9ku1v95twZ_XbMcGgLcVNFmIOGUAWyNmPNKYO1q4-3TrnxN817ZDBwxMH7L6ZsrDZRZop-xEmaH0tqsBStAuTeLW9bHwwBUfK1goPYDc_GHAUHewNe_=s0-w100-h100-rw-dckUOE7J0J\" width=\"200\" />\" width=\"200\" /></td>\n",
       "    </tr>\n",
       "    <tr>\n",
       "      <th>67</th>\n",
       "      <td>The mysterious case of Putin, the spacesuit and an Australian university website</td>\n",
       "      <td>https://news.google.com/articles/CBMihwFodHRwczovL3d3dy50aGVhZ2UuY29tLmF1L25hdGlvbmFsL3RoZS1teXN0ZXJpb3VzLWNhc2Utb2YtcHV0aW4tdGhlLXNwYWNlc3VpdC1hbmQtYW4tYXVzdHJhbGlhbi11bml2ZXJzaXR5LXdlYnNpdGUtMjAyMzA4MjgtcDVlMDA5Lmh0bWzSAYcBaHR0cHM6Ly9hbXAudGhlYWdlLmNvbS5hdS9uYXRpb25hbC90aGUtbXlzdGVyaW91cy1jYXNlLW9mLXB1dGluLXRoZS1zcGFjZXN1aXQtYW5kLWFuLWF1c3RyYWxpYW4tdW5pdmVyc2l0eS13ZWJzaXRlLTIwMjMwODI4LXA1ZTAwOS5odG1s?hl=en-US&gl=US&ceid=US%3Aen</td>\n",
       "      <td>2023-08-28</td>\n",
       "      <td><img src=\"data:image/jpeg;base64,<img src=\"data:image/jpeg;base64,https://lh3.googleusercontent.com/proxy/9QAgQ0UpCRNuWOmZQTzPwKcxxG0oqVAksVCc8SGHrNhdfIwsbbN6qmEAh6BaUFLxk39Uj9cIRUb7mxOgTnnS7kSR7lM9p1whqmEDi7j2B08i06_MTT_mTt1S_sdglKfWZigoFSA=s0-w100-h100-rw-dcAZCSgDwG\" width=\"200\" />\" width=\"200\" /></td>\n",
       "    </tr>\n",
       "    <tr>\n",
       "      <th>68</th>\n",
       "      <td>56th Anniversary of Establishment of ASEAN Celebrated in ...</td>\n",
       "      <td>https://news.google.com/articles/CBMieWh0dHBzOi8vYmJqLmh1L3BvbGl0aWNzL2ZvcmVpZ24tYWZmYWlycy9pbnQtbC1yZWxhdGlvbnMvNTZ0aC1hbm5pdmVyc2FyeS1vZi1lc3RhYmxpc2htZW50LW9mLWFzZWFuLWNlbGVicmF0ZWQtaW4tYnVkYXBlc3TSAQA?hl=en-US&gl=US&ceid=US%3Aen</td>\n",
       "      <td>2023-08-17</td>\n",
       "      <td><img src=\"data:image/jpeg;base64,<img src=\"data:image/jpeg;base64,https://lh3.googleusercontent.com/proxy/S7Ove9Vbgmo5ca4kGYzLs8C_IeL2ul2oAMUhgRquO9kn1a84C9m0fksoAjBUjdgokgNCf9Uur3d14LF963LK0h92ryfStHj-dxiOm55ghU06Buse9zKnBij_JPnvUdTIZu-ISWXCIbRm-A=s0-w100-h100-rw-dcrTKcjxkK\" width=\"200\" />\" width=\"200\" /></td>\n",
       "    </tr>\n",
       "    <tr>\n",
       "      <th>69</th>\n",
       "      <td>Still 'Early' for Euro Adoption, FinMin Says - BBJ</td>\n",
       "      <td>https://news.google.com/articles/CBMiVGh0dHBzOi8vYmJqLmh1L3BvbGl0aWNzL2ZvcmVpZ24tYWZmYWlycy9ldS9zdGlsbC1lYXJseS1mb3ItZXVyby1hZG9wdGlvbi1maW5taW4tc2F5c9IBAA?hl=en-US&gl=US&ceid=US%3Aen</td>\n",
       "      <td>2023-08-28</td>\n",
       "      <td><img src=\"data:image/jpeg;base64,<img src=\"data:image/jpeg;base64,https://lh3.googleusercontent.com/OwzmMTvA8eOySSOvGkPbee4tdLdJ2JOoOzqe3KDdURyNxqMlIX-1kDCg1BZdNQkBS-N1UjkuiQ=s0-h14-rw\" width=\"200\" />\" width=\"200\" /></td>\n",
       "    </tr>\n",
       "    <tr>\n",
       "      <th>70</th>\n",
       "      <td>Book Review: \"Rethinking Chinese Politics\" by Joseph Fewsmith</td>\n",
       "      <td>https://news.google.com/articles/CBMiUWh0dHBzOi8vd3d3LmZvcmVpZ25hZmZhaXJzLmNvbS9yZXZpZXdzL2NhcHN1bGUtcmV2aWV3L3JldGhpbmtpbmctY2hpbmVzZS1wb2xpdGljc9IBAA?hl=en-US&gl=US&ceid=US%3Aen</td>\n",
       "      <td>2021-12-14</td>\n",
       "      <td><img src=\"data:image/jpeg;base64,<img src=\"data:image/jpeg;base64,https://lh3.googleusercontent.com/proxy/9zuv2JuG2l5L5JqT7k3IXBAnypsDn_-ZPmVs-Rxr1Clx3-VgjGhb1575l_YukLh4fUUyCuLGkU2TKvzs07FZ4Vu5rAWzUqbgIbny2oiM5iqkYj6qpLp8--Ug=s0-w100-h100-rw-dciZGOj70E\" width=\"200\" />\" width=\"200\" /></td>\n",
       "    </tr>\n",
       "    <tr>\n",
       "      <th>71</th>\n",
       "      <td>Croatia Mulls Increase of Ukrainian Grain Transit - BBJ</td>\n",
       "      <td>https://news.google.com/articles/CBMiaWh0dHBzOi8vYmJqLmh1L3BvbGl0aWNzL2ZvcmVpZ24tYWZmYWlycy9pbnQtbC1yZWxhdGlvbnMvY3JvYXRpYS1tdWxscy1pbmNyZWFzZS1vZi11a3JhaW5pYW4tZ3JhaW4tdHJhbnNpdNIBAA?hl=en-US&gl=US&ceid=US%3Aen</td>\n",
       "      <td>2023-08-25</td>\n",
       "      <td><img src=\"data:image/jpeg;base64,<img src=\"data:image/jpeg;base64,https://lh3.googleusercontent.com/proxy/Tug3_LPs4sA5zFgJx3QNkfARuyMofsa54UcdR18gzUlmaYA4PHfdZk3N5koR3ob8q-gy_nNDLVgTShncl-7gJ3YApzwBAIlCToz20fo-dDs-UGmwghXvRz5xeNWUdisUR5mdNf3DM7FgUY7PY3bZ=s0-w100-h100-rw-dcoRWSzBUJ\" width=\"200\" />\" width=\"200\" /></td>\n",
       "    </tr>\n",
       "    <tr>\n",
       "      <th>72</th>\n",
       "      <td>NATO Bid Puts Pressure on Sweden’s Domestic Politics</td>\n",
       "      <td>https://news.google.com/articles/CBMiWWh0dHBzOi8vd3d3LmZwcmkub3JnL2FydGljbGUvMjAyMy8wNC9uYXRvLWJpZC1wdXRzLXByZXNzdXJlLW9uLXN3ZWRlbnMtZG9tZXN0aWMtcG9saXRpY3Mv0gEA?hl=en-US&gl=US&ceid=US%3Aen</td>\n",
       "      <td>2023-04-20</td>\n",
       "      <td><img src=\"data:image/jpeg;base64,<img src=\"data:image/jpeg;base64,https://lh3.googleusercontent.com/proxy/Zk_ZbdfiLGKRgu1u9VC5JiRrpqoOV39mm1GqPBDV_BZd1xOzj3gWGSVyhfwM3slCafFE_uPtIUlke4WolqLbFaCWrbh0pQrTztUEylJ-z2qHMPwNilPjsozoZeZ87789N9RA=s0-w100-h100-rw-dcKeAI\" width=\"200\" />\" width=\"200\" /></td>\n",
       "    </tr>\n",
       "    <tr>\n",
       "      <th>73</th>\n",
       "      <td>Power Plant Tender Draws Int'l Interest - BBJ</td>\n",
       "      <td>https://news.google.com/articles/CBMiX2h0dHBzOi8vYmJqLmh1L3BvbGl0aWNzL2ZvcmVpZ24tYWZmYWlycy9pbnQtbC1yZWxhdGlvbnMvcG93ZXItcGxhbnQtdGVuZGVyLWRyYXdzLWludC1sLWludGVyZXN00gEA?hl=en-US&gl=US&ceid=US%3Aen</td>\n",
       "      <td>2023-08-07</td>\n",
       "      <td><img src=\"data:image/jpeg;base64,<img src=\"data:image/jpeg;base64,https://lh3.googleusercontent.com/proxy/fWZa6He78hCRLz3d2C4vdgJ3dN_uSIKVMWNqa1D6JP5TP0mXjfZwxEO9G5t8EzVFqamL5AFECQOd5kCuiY0A8OiExYKvjWRZ3rgBPip8aur47X7etM6iwPEBwqKFSpM0NRbg4k-6qTAGeyp5Blc2oV5RNGpnr9QtnHht341fw5DHKlQk5w9kTWyoeg=s0-w100-h100-rw-dcoQaaCw4L\" width=\"200\" />\" width=\"200\" /></td>\n",
       "    </tr>\n",
       "    <tr>\n",
       "      <th>74</th>\n",
       "      <td>U.S. Foreign Policy Veteran Says Real Danger Is Here in America</td>\n",
       "      <td>https://news.google.com/articles/CBMiXGh0dHBzOi8vd3d3Lm55dGltZXMuY29tLzIwMjMvMDcvMDEvdXMvcG9saXRpY3MvcmljaGFyZC1oYWFzcy1iaWRlbi10cnVtcC1mb3JlaWduLXBvbGljeS5odG1s0gEA?hl=en-US&gl=US&ceid=US%3Aen</td>\n",
       "      <td>2023-07-01</td>\n",
       "      <td><img src=\"data:image/jpeg;base64,<img src=\"data:image/jpeg;base64,https://lh3.googleusercontent.com/proxy/8DJ_MhdKsaB5_ZLR5RfLgz4fOOXcYRv7ofgdl1kD2n780gz_3z9_UmukHqRTwY7lJbdrtUFxwD3bEsvskGSzjR9dA3U5LARGbih9DW1D5tJmd1ZvuiNvNxeyMVwOZQEQypD0oF9ObvX-ECR8TbsaoDOHnOxqK6JZr7pa7VZuHRXr9OtXx1X73yvFjSDb48bnvArTQNOncPDBkg=s0-w100-h100-rw-dcASOOUhUK\" width=\"200\" />\" width=\"200\" /></td>\n",
       "    </tr>\n",
       "    <tr>\n",
       "      <th>75</th>\n",
       "      <td>The Persistence of Great-Power Politics: What the War in Ukraine ...</td>\n",
       "      <td>https://news.google.com/articles/CBMiR2h0dHBzOi8vd3d3LmZvcmVpZ25hZmZhaXJzLmNvbS91a3JhaW5lL3BlcnNpc3RlbmNlLWdyZWF0LXBvd2VyLXBvbGl0aWNz0gEA?hl=en-US&gl=US&ceid=US%3Aen</td>\n",
       "      <td>2023-02-20</td>\n",
       "      <td><img src=\"data:image/jpeg;base64,<img src=\"data:image/jpeg;base64,https://lh3.googleusercontent.com/proxy/JqIjbsb_vbaAD7Cwm5FlTHE9GSHsW_X7zoYTVZSvSKDIFbeCRJ0MOzMCpTwCOfEI8E73VXXs4WoHjVHOrkEbooum_9Rs8K8gZRwfjFkIOeh-ySGAz6Po406rlw=s0-w100-h100-rw-dcAQOIA08E\" width=\"200\" />\" width=\"200\" /></td>\n",
       "    </tr>\n",
       "    <tr>\n",
       "      <th>76</th>\n",
       "      <td>Continest Containers to Arrive in Hawaii by October - BBJ</td>\n",
       "      <td>https://news.google.com/articles/CBMia2h0dHBzOi8vYmJqLmh1L3BvbGl0aWNzL2ZvcmVpZ24tYWZmYWlycy9pbnQtbC1yZWxhdGlvbnMvY29udGluZXN0LWNvbnRhaW5lcnMtdG8tYXJyaXZlLWluLWhhd2FpaS1ieS1vY3RvYmVy0gEA?hl=en-US&gl=US&ceid=US%3Aen</td>\n",
       "      <td>2023-08-23</td>\n",
       "      <td><img src=\"data:image/jpeg;base64,<img src=\"data:image/jpeg;base64,https://lh3.googleusercontent.com/proxy/tC3ckyOaQqstzsq0XlMpXd6y-xj7Tfo2l7rCMF7rG-_gztpy2elWU5IE0O0OubeGrTJ2k8juP2X9VoJnUzbOlmihAWzPAEWgR5OSpajEnZsqEtohM0g0sPiHMI41FPwIsjPO=s0-w100-h100-rw-dcnXKIqy0G\" width=\"200\" />\" width=\"200\" /></td>\n",
       "    </tr>\n",
       "    <tr>\n",
       "      <th>77</th>\n",
       "      <td>U.S. Limits Visa Waiver for Hungarians Citing Pre-2020 Passport ...</td>\n",
       "      <td>https://news.google.com/articles/CBMifWh0dHBzOi8vYmJqLmh1L3BvbGl0aWNzL2ZvcmVpZ24tYWZmYWlycy9pbnQtbC1yZWxhdGlvbnMvdS1zLWxpbWl0cy12aXNhLXdhaXZlci1mb3ItaHVuZ2FyaWFucy1jaXRpbmctcHJlLTIwMjAtcGFzc3BvcnQtaXNzdWVz0gEA?hl=en-US&gl=US&ceid=US%3Aen</td>\n",
       "      <td>2023-08-02</td>\n",
       "      <td><img src=\"data:image/jpeg;base64,<img src=\"data:image/jpeg;base64,https://lh3.googleusercontent.com/proxy/muMMz6_CD9Lf9Lro6IbPLTM4bENq9tjbPYsbB_ngFWPOkELtTnYClLs0pSgtzzvlYujGWCLywlYbqcrboTeezpiVFeGc2ImzUW5xOp1DXwdoJyhWOM4CcvwlYbBB5by-jLCCOW6KbwpKQm90GXYfglwCW1lEscuWKvHCf329FB4qels=s0-w100-h100-rw-dcnYWI660G\" width=\"200\" />\" width=\"200\" /></td>\n",
       "    </tr>\n",
       "    <tr>\n",
       "      <th>78</th>\n",
       "      <td>India: How Domestic Politics Impede Foreign Policy</td>\n",
       "      <td>https://news.google.com/articles/CBMiVWh0dHBzOi8vZm9yZWlnbnBvbGljeS5jb20vMjAyMy8wMi8wNS9pbmRpYS1mb3JlaWduLXBvbGljeS1kcmlmdC1tb2RpLXBvbGl0aWNzLWJhc3J1ci_SAQA?hl=en-US&gl=US&ceid=US%3Aen</td>\n",
       "      <td>2023-02-05</td>\n",
       "      <td><img src=\"data:image/jpeg;base64,<img src=\"data:image/jpeg;base64,https://lh3.googleusercontent.com/proxy/0R3-um6R4iCLVejvAeXXzr2M2DSKjvKJWtm_jl7v_S6S2rwTrhHHPLqmN7PXWfvb1gk_tddfmbnTik_HrZcw_WMo5nrSrEMuleIoeoayOgqhVAp0esz7SJ8cmQ=s0-w100-h100-rw-dcAaOQZjkG\" width=\"200\" />\" width=\"200\" /></td>\n",
       "    </tr>\n",
       "    <tr>\n",
       "      <th>79</th>\n",
       "      <td>Ukrainian Refugees in Hungary Report Most Pressing Needs - BBJ</td>\n",
       "      <td>https://news.google.com/articles/CBMib2h0dHBzOi8vYmJqLmh1L3BvbGl0aWNzL2ZvcmVpZ24tYWZmYWlycy91a3JhaW5lLWNyaXNpcy91a3JhaW5pYW4tcmVmdWdlZXMtaW4taHVuZ2FyeS1yZXBvcnQtbW9zdC1wcmVzc2luZy1uZWVkc9IBAA?hl=en-US&gl=US&ceid=US%3Aen</td>\n",
       "      <td>2023-08-22</td>\n",
       "      <td><img src=\"data:image/jpeg;base64,<img src=\"data:image/jpeg;base64,https://lh3.googleusercontent.com/proxy/tYQcmGSnfvW3JTtGy4HEGJ8UAuD4QZrc4i0ZmdbwxrhdEOWqpHezZoAFmJny62742l7wtyhaddUWiRfX-OciKaqDI6bcumnsAUSrrUhbQr21U6QLc2npmbwgsgjOz7pA2M3VQBHzKHpvQFHTYsiH45j7v_vDyJrV_cA=s0-w100-h100-rw-dcLWSArikI\" width=\"200\" />\" width=\"200\" /></td>\n",
       "    </tr>\n",
       "    <tr>\n",
       "      <th>80</th>\n",
       "      <td>China is erasing mention of its former foreign minister. But it still ...</td>\n",
       "      <td>https://news.google.com/articles/CBMiZWh0dHBzOi8vd3d3LmNubi5jb20vMjAyMy8wNy8yNi9jaGluYS94aS1qaW5waW5nLWZvcmVpZ24tbWluaXN0cnktcWluLWdhbmctd2FuZy15aS1pbnRsLWhuay9pbmRleC5odG1s0gFpaHR0cHM6Ly9hbXAuY25uLmNvbS9jbm4vMjAyMy8wNy8yNi9jaGluYS94aS1qaW5waW5nLWZvcmVpZ24tbWluaXN0cnktcWluLWdhbmctd2FuZy15aS1pbnRsLWhuay9pbmRleC5odG1s?hl=en-US&gl=US&ceid=US%3Aen</td>\n",
       "      <td>2023-07-27</td>\n",
       "      <td><img src=\"data:image/jpeg;base64,<img src=\"data:image/jpeg;base64,https://lh3.googleusercontent.com/proxy/Hl3_Ve0wUCV5qvCAZoMozNOramsQqxm-J1BkBANzimX5MM_x9Efyf-XwPjFFoOibv__5NmYL6uQJ_StsJ4d0hg2MPZkG4ai81laY9s_L9SeebJ9huJEXrgAWH4q2Oe8wo6a4quNgaquygVCh1jPepCiAIYyi13M8=s0-w100-h100-rw-dchSCIpCIE\" width=\"200\" />\" width=\"200\" /></td>\n",
       "    </tr>\n",
       "    <tr>\n",
       "      <th>81</th>\n",
       "      <td>Political Change and Turkey's Foreign Policy</td>\n",
       "      <td>https://news.google.com/articles/CBMiX2h0dHBzOi8vY2FybmVnaWVlbmRvd21lbnQub3JnLzIwMjIvMTEvMTQvcG9saXRpY2FsLWNoYW5nZS1hbmQtdHVya2V5LXMtZm9yZWlnbi1wb2xpY3ktcHViLTg4Mzg30gEA?hl=en-US&gl=US&ceid=US%3Aen</td>\n",
       "      <td>2022-11-14</td>\n",
       "      <td><img src=\"data:image/jpeg;base64,<img src=\"data:image/jpeg;base64,https://lh3.googleusercontent.com/proxy/dbKgGd1EdlcZCOlyMdUMBrTu5nJf7HoLiLQau3tYIu6vkXNV5uWnxxo4g92rLuk5XfRELLQopmMxDe4nvKQ-zpc6N0_t-fQpln5jZRs-FsbZyxJn1qSO6GEIfvWBQjx9nQ8PLs3gYEZcTeQ_V5AhW9i-961D5QaK3Ip1Err7P58xlNCww4j2=s0-w100-h100-rw-dcHUKQLSEJ\" width=\"200\" />\" width=\"200\" /></td>\n",
       "    </tr>\n",
       "    <tr>\n",
       "      <th>82</th>\n",
       "      <td>Artificial Intelligence Enters the Political Arena</td>\n",
       "      <td>https://news.google.com/articles/CBMiSWh0dHBzOi8vd3d3LmNmci5vcmcvYmxvZy9hcnRpZmljaWFsLWludGVsbGlnZW5jZS1lbnRlcnMtcG9saXRpY2FsLWFyZW5hLTDSAU1odHRwczovL3d3dy5jZnIub3JnL2Jsb2cvYXJ0aWZpY2lhbC1pbnRlbGxpZ2VuY2UtZW50ZXJzLXBvbGl0aWNhbC1hcmVuYS0wP2FtcA?hl=en-US&gl=US&ceid=US%3Aen</td>\n",
       "      <td>2023-05-24</td>\n",
       "      <td><img src=\"data:image/jpeg;base64,<img src=\"data:image/jpeg;base64,https://lh3.googleusercontent.com/proxy/61cWUIYuA4qHuBG-EgKAnSv2OaRSEFAmGTkiJeC-1UjjvZu7KRvEgQkewWEXiVsypaX1tmKff714i3OkMN2pZvkvsZzmSX2PKFYbR84NSwmwcPiRfFniBqbfCGZH-PA8JQ=s0-w100-h100-rw-dcERSgiJUK\" width=\"200\" />\" width=\"200\" /></td>\n",
       "    </tr>\n",
       "    <tr>\n",
       "      <th>83</th>\n",
       "      <td>Orbán, Erdogan to Meet in Budapest on Aug 20 - BBJ</td>\n",
       "      <td>https://news.google.com/articles/CBMiWmh0dHBzOi8vYmJqLmh1L3BvbGl0aWNzL2ZvcmVpZ24tYWZmYWlycy92aXNpdHMvb3JiYW4tZXJkb2dhbi10by1tZWV0LWluLWJ1ZGFwZXN0LW9uLWF1Zy0yMNIBAA?hl=en-US&gl=US&ceid=US%3Aen</td>\n",
       "      <td>2023-08-13</td>\n",
       "      <td><img src=\"data:image/jpeg;base64,<img src=\"data:image/jpeg;base64,https://lh3.googleusercontent.com/proxy/xZMpWFSVO5FX59sbdR3ocZ4YC4HTDNOuqRwSGwgZo8-TaUd-TrF25k3DH1jDRHTStqjJMzNLtrlIhhep2qdmMTz42OdynV5rngpG7uFrHIWX3Z-yHfud2iIjb1M6H5L2rt_vByuqRZHc4ykG7ej_QdLb-yuK7MNn1uS-pRIvHPG8-hkjqB2HlSJelXVWmbYD1JOms1lYw8_3LA=s0-w100-h100-rw-dcrTOSkJ0I\" width=\"200\" />\" width=\"200\" /></td>\n",
       "    </tr>\n",
       "    <tr>\n",
       "      <th>84</th>\n",
       "      <td>Intel breakdowns and 'black holes': How foreign interference became a political flashpoint</td>\n",
       "      <td>https://news.google.com/articles/CBMiSWh0dHBzOi8vd3d3LmNiYy5jYS9uZXdzL3BvbGl0aWNzL2ZvcmVpZ24taW50ZXJmZXJlbmNlLXF1ZXN0aW9ucy0xLjY4NjY0NjjSASBodHRwczovL3d3dy5jYmMuY2EvYW1wLzEuNjg2NjQ2OA?hl=en-US&gl=US&ceid=US%3Aen</td>\n",
       "      <td>2023-06-06</td>\n",
       "      <td><img src=\"data:image/jpeg;base64,<img src=\"data:image/jpeg;base64,https://lh3.googleusercontent.com/proxy/sKb2SA7cjseiAFaJv2LE6rD1ebk5nGOHaHATC5943OR8AMc0spWok8oWKFZjPiM0nL_9wF3rZYItgL9fFvkG7wp1XxT_QqBYtCswn-ZOUTML7P6MOAP6PfyyeX6trxwTJudsI_iPJrr6tCvz9l0HJMizBRS9GFK1LY3EYsEHFRlqrtq8fiVvVPUUZg=s0-w100-h100-rw-dcjQKSExUK\" width=\"200\" />\" width=\"200\" /></td>\n",
       "    </tr>\n",
       "    <tr>\n",
       "      <th>85</th>\n",
       "      <td>China’s Growing Attempts to Influence U.S. Politics</td>\n",
       "      <td>https://news.google.com/articles/CBMiSWh0dHBzOi8vd3d3LmNmci5vcmcvYXJ0aWNsZS9jaGluYXMtZ3Jvd2luZy1hdHRlbXB0cy1pbmZsdWVuY2UtdXMtcG9saXRpY3PSAU1odHRwczovL3d3dy5jZnIub3JnL2FydGljbGUvY2hpbmFzLWdyb3dpbmctYXR0ZW1wdHMtaW5mbHVlbmNlLXVzLXBvbGl0aWNzP2FtcA?hl=en-US&gl=US&ceid=US%3Aen</td>\n",
       "      <td>2022-10-31</td>\n",
       "      <td><img src=\"data:image/jpeg;base64,<img src=\"data:image/jpeg;base64,https://lh3.googleusercontent.com/proxy/CrKJvgzUlL4laaj1ueyR-yTKFRRNl2VDGuQ1hbqq6PNB8_BEVBdbFt2JssXqw6YuGIK50ktclYmfZd9MTkFdUeJny9sN2j9ZnmlmHjh1rT4ERlWXG9eOiYTQgA=s0-w100-h100-rw-dcjWKQhzEH\" width=\"200\" />\" width=\"200\" /></td>\n",
       "    </tr>\n",
       "    <tr>\n",
       "      <th>86</th>\n",
       "      <td>Netherlands Supplying Ukraine with Remote Demining Chargers ...</td>\n",
       "      <td>https://news.google.com/articles/CBMicmh0dHBzOi8vYmJqLmh1L3BvbGl0aWNzL2ZvcmVpZ24tYWZmYWlycy91a3JhaW5lLWNyaXNpcy9uZXRoZXJsYW5kcy1zdXBwbHlpbmctdWtyYWluZS13aXRoLXJlbW90ZS1kZW1pbmluZy1jaGFyZ2Vyc9IBAA?hl=en-US&gl=US&ceid=US%3Aen</td>\n",
       "      <td>2023-08-24</td>\n",
       "      <td><img src=\"data:image/jpeg;base64,<img src=\"data:image/jpeg;base64,https://lh3.googleusercontent.com/proxy/mXdH-ZDiLiIexdRiYJLQu7QNchAenTPuFxjtuyRVUdz9ijKVJr2us2X3vNowAsqpYImfVMtFKy1jzR-d2CSfFKeYVehhokSBu7ukzzuqZszvNgx_SE5yPPfvaU_mYJv8UsU0GNcTOCaCWMkofBqkiWwFsLSWj781FVCywUU=s0-w100-h100-rw-dcoUGW1bAH\" width=\"200\" />\" width=\"200\" /></td>\n",
       "    </tr>\n",
       "    <tr>\n",
       "      <th>87</th>\n",
       "      <td>Decoding Chinese Politics: Where is Xi Jinping Taking China in His ...</td>\n",
       "      <td>https://news.google.com/articles/CBMidmh0dHBzOi8vYXNpYXNvY2lldHkub3JnL3BvbGljeS1pbnN0aXR1dGUvZXZlbnRzL2RlY29kaW5nLWNoaW5lc2UtcG9saXRpY3Mtd2hlcmUteGktamlucGluZy10YWtpbmctY2hpbmEtaGlzLXRoaXJkLXRlcm3SAQA?hl=en-US&gl=US&ceid=US%3Aen</td>\n",
       "      <td>2023-05-10</td>\n",
       "      <td><img src=\"data:image/jpeg;base64,<img src=\"data:image/jpeg;base64,https://lh3.googleusercontent.com/proxy/Y5mZU8NcPOwbUdNqrjQlefeLSPqV_E9tcbtN6nPROOvXC7DT5SISDrJH25nrx3mwc1bW7xduas0yC212n11iWDQC5SJ8qIPJQFnsKDwMLkMVotnerTxeeyHoQBHTTPJ2u_I1SVCGFr3YjClESTCD5sc=s0-w100-h100-rw-dcAZGQ8LQG\" width=\"200\" />\" width=\"200\" /></td>\n",
       "    </tr>\n",
       "    <tr>\n",
       "      <th>88</th>\n",
       "      <td>U.S. Rules-Based Order Isn't as Principled as It Seems</td>\n",
       "      <td>https://news.google.com/articles/CBMiW2h0dHBzOi8vZm9yZWlnbnBvbGljeS5jb20vMjAyMy8wMy8yNy9zb21lLXJ1bGVzLW9mLWdsb2JhbC1wb2xpdGljcy1tYXR0ZXItbW9yZS10aGFuLW90aGVycy_SAQA?hl=en-US&gl=US&ceid=US%3Aen</td>\n",
       "      <td>2023-03-27</td>\n",
       "      <td><img src=\"data:image/jpeg;base64,<img src=\"data:image/jpeg;base64,https://lh3.googleusercontent.com/proxy/OmBcNfFS-o3ufXm5kxe4QOlvX-jAAb_oONZBNr6vbeFScIY6BnhOD_x7ekY-tEVtqHccxvMkuZQtUf1RA9Oc0DxWe6zwFC0ZCj0gP08SPdwYVNHbjror6a0AVf90PtTRT_5bEXLwD3iVvDP9X3EYzeANTRf7bmzj-d5U0Rbo2AfXlK8hTazilxMAY8ApdXdE7o4W8une22MxbY_kHKRp2pw_=s0-w100-h100-rw-dctVOMUSkG\" width=\"200\" />\" width=\"200\" /></td>\n",
       "    </tr>\n",
       "    <tr>\n",
       "      <th>89</th>\n",
       "      <td>Erdogan's Foreign Policy Pivot Is All About Domestic Politics</td>\n",
       "      <td>https://news.google.com/articles/CBMiXWh0dHBzOi8vd3d3LndvcmxkcG9saXRpY3NyZXZpZXcuY29tL2VyZG9nYW4tdHVya2V5LXBvbGl0aWNzLWVjb25vbXktZm9yZWlnbi1wb2xpY3ktZGVtb2NyYWN5L9IBAA?hl=en-US&gl=US&ceid=US%3Aen</td>\n",
       "      <td>2023-07-24</td>\n",
       "      <td><img src=\"data:image/jpeg;base64,<img src=\"data:image/jpeg;base64,https://lh3.googleusercontent.com/proxy/aKH_KUYzi3819pjlT1EXFFz-zh9RPBp8WraDY--pEtkfQt9khRm_zYriQvP94Wuz91faZPy06xjSDtm71cA15vd7o297bo-kS--kjb5ZwmC_gV0DECqhTZhQXcZQ2fMVKU8ZbSJqlAFBcSLxt2gBrouLnYPLLu65ay7p_kOq9NjQigraOr6_3uMJ6uEbCBXCDZ7l-WWsnAgnJLnknZQN7pixhswNtg=s0-w100-h100-rw-dcEViAaSYJ\" width=\"200\" />\" width=\"200\" /></td>\n",
       "    </tr>\n",
       "    <tr>\n",
       "      <th>90</th>\n",
       "      <td>The DeSantis Foreign Policy: Hard Power, but With a High Bar</td>\n",
       "      <td>https://news.google.com/articles/CBMiT2h0dHBzOi8vd3d3Lm55dGltZXMuY29tLzIwMjMvMDMvMjIvdXMvcG9saXRpY3Mvcm9uLWRlc2FudGlzLWZvcmVpZ24tcG9saWN5Lmh0bWzSAQA?hl=en-US&gl=US&ceid=US%3Aen</td>\n",
       "      <td>2023-03-22</td>\n",
       "      <td><img src=\"data:image/jpeg;base64,<img src=\"data:image/jpeg;base64,https://lh3.googleusercontent.com/proxy/WFIKwHo8OXu8ihB2hJYbfRWwCWAsOoGR1PFqNQL4A5gzAnVNa4WD17F38-JtWaURQA_W2iyWwmthJxOcqlBxl2PWAKfXWcL9H8awHS_7pIST5KkxMdw5EBHLzLg0cPbfIgbgLT_PZHzM6dGs1Q0jWIwcaAijQiP_b9bM-Ky40r3ptE-r=s0-w100-h100-rw-dcgSCQ1JAK\" width=\"200\" />\" width=\"200\" /></td>\n",
       "    </tr>\n",
       "    <tr>\n",
       "      <th>91</th>\n",
       "      <td>In 2024, Republicans may complete a historic foreign policy reversal</td>\n",
       "      <td>https://news.google.com/articles/CBMiUWh0dHBzOi8vd3d3LmNubi5jb20vMjAyMy8wMy8yOC9wb2xpdGljcy9nb3AtZm9yZWlnbi1wb2xpY3ktZGViYXRlLTIwMjQvaW5kZXguaHRtbNIBVWh0dHBzOi8vYW1wLmNubi5jb20vY25uLzIwMjMvMDMvMjgvcG9saXRpY3MvZ29wLWZvcmVpZ24tcG9saWN5LWRlYmF0ZS0yMDI0L2luZGV4Lmh0bWw?hl=en-US&gl=US&ceid=US%3Aen</td>\n",
       "      <td>2023-03-28</td>\n",
       "      <td><img src=\"data:image/jpeg;base64,<img src=\"data:image/jpeg;base64,https://lh3.googleusercontent.com/proxy/0ObgziHVnu-PWYgSGZ7ucGfon_79hyuaXXE42x2ivXdr52Tlf8stCBMOaU1O6Gn6jEUXAb5SvW342NZ2txnhrU99k373D0BEFo16_pY4byzFMwBnWV2hqshVJT6F22HQOfNRovlJl3el3Wb0p0AkGcooiREiqUTmwo-RYl__6IYKJHnSepUJ0CviW0q-4UwVBMVuCX2BbK4eo8h15ru1Cw9mWeAIhHOeT8GbydALnsbGdH7byCMe4o35TCWTNaK5l5ALlB22YPRUcjADAWA4q76O=s0-w100-h100-rw-dcpWSAzaXle9UA\" width=\"200\" />\" width=\"200\" /></td>\n",
       "    </tr>\n",
       "    <tr>\n",
       "      <th>92</th>\n",
       "      <td>Lockheed Martin wins $765 million contract to build missile shield ...</td>\n",
       "      <td>https://news.google.com/articles/CBMiemh0dHBzOi8vd3d3LmFmci5jb20vcG9saXRpY3MvZmVkZXJhbC91cy1kZWZlbmNlLWdpYW50LXdpbnMtbHVjcmF0aXZlLWNvbnRyYWN0LXRvLXNob290LWRvd24tZW5lbXktbWlzc2lsZXMtMjAyMzA4MjgtcDVlMDJm0gEA?hl=en-US&gl=US&ceid=US%3Aen</td>\n",
       "      <td>2023-08-28</td>\n",
       "      <td><img src=\"data:image/jpeg;base64,<img src=\"data:image/jpeg;base64,No Image Available\" width=\"200\" />\" width=\"200\" /></td>\n",
       "    </tr>\n",
       "  </tbody>\n",
       "</table>"
      ],
      "text/plain": [
       "<IPython.core.display.HTML object>"
      ]
     },
     "metadata": {},
     "output_type": "display_data"
    }
   ],
   "source": [
    "import pandas as pd\n",
    "from IPython.display import HTML, display\n",
    "\n",
    "\n",
    "# Display the DataFrame with images\n",
    "def display_images(row):\n",
    "    images_html = \"\"\n",
    "    image_data_list = row[\"Image\"].split(\", \") if isinstance(row[\"Image\"], str) else []\n",
    "\n",
    "    for idx, image_data_encoded in enumerate(image_data_list):\n",
    "        image_html = f'<img src=\"data:image/jpeg;base64,{image_data_encoded}\" width=\"200\" />'\n",
    "        images_html += image_html\n",
    "\n",
    "    return images_html\n",
    "\n",
    "dfGS2[\"Image\"] = dfGS2.apply(display_images, axis=1)\n",
    "display(HTML(dfGS2.to_html(escape=False)))\n"
   ]
  },
  {
   "cell_type": "code",
   "execution_count": null,
   "id": "31d86844",
   "metadata": {},
   "outputs": [],
   "source": []
  }
 ],
 "metadata": {
  "kernelspec": {
   "display_name": "Python 3 (ipykernel)",
   "language": "python",
   "name": "python3"
  },
  "language_info": {
   "codemirror_mode": {
    "name": "ipython",
    "version": 3
   },
   "file_extension": ".py",
   "mimetype": "text/x-python",
   "name": "python",
   "nbconvert_exporter": "python",
   "pygments_lexer": "ipython3",
   "version": "3.10.9"
  }
 },
 "nbformat": 4,
 "nbformat_minor": 5
}
